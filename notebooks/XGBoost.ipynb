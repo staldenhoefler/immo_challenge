{
 "cells": [
  {
   "cell_type": "code",
   "execution_count": 1,
   "id": "769af5fe4ebc8bca",
   "metadata": {
    "collapsed": false,
    "ExecuteTime": {
     "end_time": "2024-12-20T09:40:54.114225400Z",
     "start_time": "2024-12-20T09:40:50.733485300Z"
    }
   },
   "outputs": [],
   "source": [
    "import os\n",
    "\n",
    "import pandas as pd\n",
    "\n",
    "from src.dataPipeline import DataPipeline\n",
    "\n",
    "os.chdir('..')"
   ]
  },
  {
   "cell_type": "markdown",
   "source": [
    "# New Model with different data"
   ],
   "metadata": {
    "collapsed": false
   },
   "id": "922d1cc5835b9c56"
  },
  {
   "cell_type": "code",
   "outputs": [
    {
     "name": "stderr",
     "output_type": "stream",
     "text": [
      "C:\\FHNW_Programmiersachen\\5_Sem\\immo_challenge\\src\\dataPipeline.py:44: DtypeWarning: Columns (3,4,5,6,11,13,14,15,16,17,18,19,20,21,22,23,24,25,26,27,28,29,30,31,32,33,34,35,36,37,38,39,40,41,42,43,45,46,47,49,50,107,110,114,115,116,119,120,121,124,125,126,128,131,132) have mixed types. Specify dtype option on import or set low_memory=False.\n",
      "  self.data = pd.read_csv(filePath)\n",
      "C:\\FHNW_Programmiersachen\\5_Sem\\immo_challenge\\src\\dataPipeline.py:71: FutureWarning: Downcasting object dtype arrays on .fillna, .ffill, .bfill is deprecated and will change in a future version. Call result.infer_objects(copy=False) instead. To opt-in to the future behavior, set `pd.set_option('future.no_silent_downcasting', True)`\n",
      "  ]].bfill(axis=1)['Space extracted']\n",
      "C:\\FHNW_Programmiersachen\\5_Sem\\immo_challenge\\src\\dataPipeline.py:76: FutureWarning: Downcasting object dtype arrays on .fillna, .ffill, .bfill is deprecated and will change in a future version. Call result.infer_objects(copy=False) instead. To opt-in to the future behavior, set `pd.set_option('future.no_silent_downcasting', True)`\n",
      "  ]].bfill(axis=1)['Plot_area_unified']\n",
      "C:\\FHNW_Programmiersachen\\5_Sem\\immo_challenge\\src\\dataPipeline.py:82: FutureWarning: Downcasting object dtype arrays on .fillna, .ffill, .bfill is deprecated and will change in a future version. Call result.infer_objects(copy=False) instead. To opt-in to the future behavior, set `pd.set_option('future.no_silent_downcasting', True)`\n",
      "  ]].bfill(axis=1)['Availability']\n",
      "C:\\FHNW_Programmiersachen\\5_Sem\\immo_challenge\\src\\dataPipeline.py:44: DtypeWarning: Columns (3,4,5,6,11,13,14,15,16,17,18,19,20,21,22,23,24,25,26,27,28,29,30,31,32,33,34,35,36,37,38,39,40,41,42,43,45,46,48,49,104,111,112,115,116,117,120,121,122,124,127,128,130,131) have mixed types. Specify dtype option on import or set low_memory=False.\n",
      "  self.data = pd.read_csv(filePath)\n",
      "C:\\FHNW_Programmiersachen\\5_Sem\\immo_challenge\\src\\dataPipeline.py:71: FutureWarning: Downcasting object dtype arrays on .fillna, .ffill, .bfill is deprecated and will change in a future version. Call result.infer_objects(copy=False) instead. To opt-in to the future behavior, set `pd.set_option('future.no_silent_downcasting', True)`\n",
      "  ]].bfill(axis=1)['Space extracted']\n",
      "C:\\FHNW_Programmiersachen\\5_Sem\\immo_challenge\\src\\dataPipeline.py:76: FutureWarning: Downcasting object dtype arrays on .fillna, .ffill, .bfill is deprecated and will change in a future version. Call result.infer_objects(copy=False) instead. To opt-in to the future behavior, set `pd.set_option('future.no_silent_downcasting', True)`\n",
      "  ]].bfill(axis=1)['Plot_area_unified']\n",
      "C:\\FHNW_Programmiersachen\\5_Sem\\immo_challenge\\src\\dataPipeline.py:82: FutureWarning: Downcasting object dtype arrays on .fillna, .ffill, .bfill is deprecated and will change in a future version. Call result.infer_objects(copy=False) instead. To opt-in to the future behavior, set `pd.set_option('future.no_silent_downcasting', True)`\n",
      "  ]].bfill(axis=1)['Availability']\n",
      "C:\\FHNW_Programmiersachen\\5_Sem\\immo_challenge\\src\\dataPipeline.py:137: FutureWarning: Setting an item of incompatible dtype is deprecated and will raise an error in a future version of pandas. Value '[]' has dtype incompatible with int64, please explicitly cast to a compatible dtype first.\n",
      "  df.loc[mask, 'plz_parsed'] = df.loc[mask, 'address'].apply(extractPlz)\n"
     ]
    }
   ],
   "source": [
    "from sklearn.impute import SimpleImputer, KNNImputer\n",
    "import numpy as np\n",
    "\n",
    "imputer = KNNImputer(n_neighbors=5)\n",
    "#imputer = SimpleImputer(strategy='mean')\n",
    "\n",
    "dp = DataPipeline()\n",
    "df = dp.runPipeline(normalizeAndStandardize=True, imputer=imputer)\n",
    "df_kaggle = dp.prepare_kaggle_dataset(filePath='./data/test_data-Kaggle-v0.11.csv', normalizeAndStandardize=True, imputer=imputer)"
   ],
   "metadata": {
    "collapsed": false,
    "ExecuteTime": {
     "end_time": "2024-12-20T09:41:34.078690200Z",
     "start_time": "2024-12-20T09:40:54.114225400Z"
    }
   },
   "id": "154172856fce635a",
   "execution_count": 2
  },
  {
   "cell_type": "code",
   "outputs": [
    {
     "name": "stdout",
     "output_type": "stream",
     "text": [
      "DataFrame saved to df_with_type.pkl.\n",
      "DataFrame saved to df_kaggle_with_type.pkl.\n"
     ]
    }
   ],
   "source": [
    " from src.utils.helperFunctions import pickle_dataframe, unpickle_dataframe\n",
    "\n",
    "pickle_dataframe(df, 'df_with_type.pkl')\n",
    "pickle_dataframe(df_kaggle, 'df_kaggle_with_type.pkl')\n"
   ],
   "metadata": {
    "collapsed": false,
    "ExecuteTime": {
     "end_time": "2024-12-20T08:37:52.497974500Z",
     "start_time": "2024-12-20T08:37:52.440791200Z"
    }
   },
   "id": "e2ca174ffbd71083",
   "execution_count": 3
  },
  {
   "cell_type": "code",
   "outputs": [
    {
     "name": "stdout",
     "output_type": "stream",
     "text": [
      "DataFrame loaded from df_without_imputer.pkl.\n",
      "DataFrame loaded from df_kaggle_without_imputer.pkl.\n"
     ]
    }
   ],
   "source": [
    "from src.utils.helperFunctions import pickle_dataframe, unpickle_dataframe\n",
    "\n",
    "df = unpickle_dataframe('df_without_imputer.pkl')\n",
    "df_kaggle = unpickle_dataframe('df_kaggle_without_imputer.pkl')"
   ],
   "metadata": {
    "collapsed": false,
    "ExecuteTime": {
     "end_time": "2024-12-20T08:12:47.426416100Z",
     "start_time": "2024-12-20T08:12:47.367270100Z"
    }
   },
   "id": "bbda6fac56208f60",
   "execution_count": 41
  },
  {
   "cell_type": "code",
   "outputs": [
    {
     "name": "stdout",
     "output_type": "stream",
     "text": [
      "Test MAPE: 35.477%\n",
      "Train MAPE: 25.173%\n"
     ]
    }
   ],
   "source": [
    "from xgboost import XGBRegressor\n",
    "from sklearn.model_selection import KFold\n",
    "import numpy as np\n",
    "from sklearn.metrics import mean_absolute_percentage_error\n",
    "from sklearn.model_selection import train_test_split\n",
    "\n",
    "\n",
    "\n",
    "y = df['price_cleaned']\n",
    "y_log = np.log(y)\n",
    "\n",
    "X = df.drop(columns=['price_cleaned'])\n",
    "\n",
    "\n",
    "train_test_split_ratio = 0.5\n",
    "X_train, X_test, y_train, y_test = train_test_split(X, y_log, test_size=train_test_split_ratio)\n",
    "\n",
    "model = XGBRegressor(objective='reg:squarederror', n_estimators=20, learning_rate=0.1, max_depth=5, max_leaves=20, reg_lambda=0.9, reg_alpha=0.9, grow_policy='lossguide')\n",
    "model.fit(X_train, y_train)\n",
    "y_pred = model.predict(X_test)\n",
    "\n",
    "y_test = np.exp(y_test)\n",
    "y_pred = np.exp(y_pred)\n",
    "\n",
    "mape = mean_absolute_percentage_error(y_test, y_pred) * 100\n",
    "\n",
    "print(f'Test MAPE: {mape:.3f}%')\n",
    "\n",
    "# Train Mape\n",
    "y_pred = model.predict(X_train)\n",
    "y_train = np.exp(y_train)\n",
    "y_pred = np.exp(y_pred)\n",
    "\n",
    "mape = mean_absolute_percentage_error(y_train, y_pred) * 100\n",
    "\n",
    "print(f'Train MAPE: {mape:.3f}%')"
   ],
   "metadata": {
    "collapsed": false,
    "ExecuteTime": {
     "end_time": "2024-12-20T09:43:48.897040400Z",
     "start_time": "2024-12-20T09:43:48.827779900Z"
    }
   },
   "id": "bdd18657b59e38b9",
   "execution_count": 39
  },
  {
   "cell_type": "code",
   "outputs": [
    {
     "name": "stdout",
     "output_type": "stream",
     "text": [
      "File xgBoost_without_imputer_kaggle_results_2024-12-20_10-43-57.csv created successfully.\n"
     ]
    },
    {
     "name": "stderr",
     "output_type": "stream",
     "text": [
      "C:\\FHNW_Programmiersachen\\5_Sem\\immo_challenge\\src\\utils\\helperFunctions.py:11: DtypeWarning: Columns (3,4,5,6,11,13,14,15,16,17,18,19,20,21,22,23,24,25,26,27,28,29,30,31,32,33,34,35,36,37,38,39,40,41,42,43,45,46,48,49,104,111,112,115,116,117,120,121,122,124,127,128,130,131) have mixed types. Specify dtype option on import or set low_memory=False.\n",
      "  indexes = pd.read_csv(path_to_kaggledata)['Unnamed: 0']\n"
     ]
    }
   ],
   "source": [
    "from src.utils.helperFunctions import create_kaggle_results\n",
    "\n",
    "results = model.predict(df_kaggle)\n",
    "results = np.exp(results)\n",
    "create_kaggle_results(results, csv_name='xgBoost_without_imputer_kaggle_results')"
   ],
   "metadata": {
    "collapsed": false,
    "ExecuteTime": {
     "end_time": "2024-12-20T09:43:57.163744700Z",
     "start_time": "2024-12-20T09:43:55.490015600Z"
    }
   },
   "id": "fdaf527934048ed8",
   "execution_count": 41
  },
  {
   "cell_type": "code",
   "outputs": [
    {
     "data": {
      "text/plain": "                            feature  importance\n4                   Space extracted    0.466767\n0  detail_responsive#surface_usable    0.376785\n5                 Plot_area_unified    0.069855\n3                           gde_tax    0.044537\n2                    gde_population    0.023407\n6                     No. of rooms:    0.018648\n1                    ForestDensityS    0.000000",
      "text/html": "<div>\n<style scoped>\n    .dataframe tbody tr th:only-of-type {\n        vertical-align: middle;\n    }\n\n    .dataframe tbody tr th {\n        vertical-align: top;\n    }\n\n    .dataframe thead th {\n        text-align: right;\n    }\n</style>\n<table border=\"1\" class=\"dataframe\">\n  <thead>\n    <tr style=\"text-align: right;\">\n      <th></th>\n      <th>feature</th>\n      <th>importance</th>\n    </tr>\n  </thead>\n  <tbody>\n    <tr>\n      <th>4</th>\n      <td>Space extracted</td>\n      <td>0.466767</td>\n    </tr>\n    <tr>\n      <th>0</th>\n      <td>detail_responsive#surface_usable</td>\n      <td>0.376785</td>\n    </tr>\n    <tr>\n      <th>5</th>\n      <td>Plot_area_unified</td>\n      <td>0.069855</td>\n    </tr>\n    <tr>\n      <th>3</th>\n      <td>gde_tax</td>\n      <td>0.044537</td>\n    </tr>\n    <tr>\n      <th>2</th>\n      <td>gde_population</td>\n      <td>0.023407</td>\n    </tr>\n    <tr>\n      <th>6</th>\n      <td>No. of rooms:</td>\n      <td>0.018648</td>\n    </tr>\n    <tr>\n      <th>1</th>\n      <td>ForestDensityS</td>\n      <td>0.000000</td>\n    </tr>\n  </tbody>\n</table>\n</div>"
     },
     "execution_count": 40,
     "metadata": {},
     "output_type": "execute_result"
    }
   ],
   "source": [
    "# make list with feature names\n",
    "\n",
    "feature_importances = pd.DataFrame()\n",
    "feature_importances['feature'] = model.feature_names_in_\n",
    "feature_importances['importance'] = model.feature_importances_\n",
    "feature_importances = feature_importances.sort_values(by='importance', ascending=False)\n",
    "feature_importances"
   ],
   "metadata": {
    "collapsed": false,
    "ExecuteTime": {
     "end_time": "2024-12-20T09:43:52.054672600Z",
     "start_time": "2024-12-20T09:43:52.041171500Z"
    }
   },
   "id": "eb6c4df8734d09d3",
   "execution_count": 40
  },
  {
   "cell_type": "code",
   "outputs": [],
   "source": [],
   "metadata": {
    "collapsed": false
   },
   "id": "d76c0e5139cd559c"
  }
 ],
 "metadata": {
  "kernelspec": {
   "display_name": "Python 3",
   "language": "python",
   "name": "python3"
  },
  "language_info": {
   "codemirror_mode": {
    "name": "ipython",
    "version": 2
   },
   "file_extension": ".py",
   "mimetype": "text/x-python",
   "name": "python",
   "nbconvert_exporter": "python",
   "pygments_lexer": "ipython2",
   "version": "2.7.6"
  }
 },
 "nbformat": 4,
 "nbformat_minor": 5
}

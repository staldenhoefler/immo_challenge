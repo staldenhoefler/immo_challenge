{
 "cells": [
  {
   "cell_type": "code",
   "execution_count": 1,
   "id": "initial_id",
   "metadata": {
    "collapsed": true,
    "ExecuteTime": {
     "end_time": "2024-11-13T08:04:45.781146300Z",
     "start_time": "2024-11-13T08:04:35.800111800Z"
    }
   },
   "outputs": [
    {
     "name": "stderr",
     "output_type": "stream",
     "text": [
      "C:\\FHNW_Programmiersachen\\5_Sem\\immo_challenge\\src\\dataPipeline.py:39: DtypeWarning: Columns (3,4,5,6,11,13,14,15,16,17,18,19,20,21,22,23,24,25,26,27,28,29,30,31,32,33,34,35,36,37,38,39,40,41,42,43,45,46,47,49,50,107,110,114,115,116,119,120,121,124,125,126,128,131,132) have mixed types. Specify dtype option on import or set low_memory=False.\n",
      "  self.data = pd.read_csv(filePath)\n"
     ]
    }
   ],
   "source": [
    "import os\n",
    "from src.dataPipeline import DataPipeline\n",
    "from sklearn.impute import KNNImputer\n",
    "\n",
    "imputer = KNNImputer(n_neighbors=10)\n",
    "\n",
    "os.chdir('..')\n",
    "\n",
    "\n",
    "columns_to_drop_all = [\n",
    "'Unnamed: 0.1', 'Unnamed: 0','Municipality','Living space',\n",
    "'Plot area','Floor space','location','description',\n",
    "'detailed_description','url','table','detail_responsive#municipality',\n",
    "'detail_responsive#surface_living','detail_responsive#floor','detail_responsive#available_from',\n",
    "'Gemeinde','Wohnfläche','Stockwerk','Nutzfläche','Verfügbarkeit','Grundstücksfläche',\n",
    "'detail_responsive#surface_property','Commune','Surface habitable','Surface du terrain',\n",
    "'Surface utile','Disponibilité','Étage','Comune','Superficie abitabile','Disponibilità',\n",
    "'Piano','Superficie del terreno','Superficie utile','Municipality_merged',\n",
    "'Floor_merged','Living_space_merged','Plot_area_merged','Availability_merged','location_parsed',\n",
    "'title','price','address','link','details_structured','index',\n",
    "'Locality','Zip','rooms','Floor_unified','Living_area_unified','space',\n",
    "'price_s','address_s','Surface living:','Land area:',\n",
    "'description_detailed','Floor space:','Volume:','plz','Number of toilets:','Gross yield:',\n",
    "'Minimum floor space:','space_cleaned'\n",
    "\n",
    "# Temporary columns\n",
    ", 'Gross return'\n",
    ", 'details'\n",
    ", 'Room height:'\n",
    "#, 'features'\n",
    ", 'type'\n",
    ", 'provider' ,\n",
    "'type_unified',\n",
    "'Availability',\n",
    "'Floor',\n",
    "'detail_responsive#surface_usable',\n",
    "'Floor_space_merged',\n",
    "'lat',\n",
    "'lon',\n",
    "'ForestDensityL',\n",
    "'ForestDensityM',\n",
    "'ForestDensityS',\n",
    "'Latitude',\n",
    "'Longitude',\n",
    "'NoisePollutionRailwayL',\n",
    "'NoisePollutionRailwayM',\n",
    "'NoisePollutionRailwayS',\n",
    "'NoisePollutionRoadL',\n",
    "'NoisePollutionRoadM',\n",
    "'NoisePollutionRoadS',\n",
    "'PopulationDensityL',\n",
    "'PopulationDensityM',\n",
    "'PopulationDensityS',\n",
    "'RiversAndLakesL',\n",
    "'RiversAndLakesM',\n",
    "'RiversAndLakesS',\n",
    "'WorkplaceDensityL',\n",
    "'WorkplaceDensityM',\n",
    "'WorkplaceDensityS',\n",
    "'distanceToTrainStation',\n",
    "'gde_area_agriculture_percentage',\n",
    "'gde_area_forest_percentage',\n",
    "'gde_area_nonproductive_percentage',\n",
    "'gde_area_settlement_percentage',\n",
    "'gde_average_house_hold',\n",
    "'gde_empty_apartments',\n",
    "'gde_foreigners_percentage',\n",
    "'gde_new_homes_per_1000',\n",
    "'gde_politics_bdp',\n",
    "'gde_politics_cvp',\n",
    "'gde_politics_evp',\n",
    "'gde_politics_fdp',\n",
    "'gde_politics_glp',\n",
    "'gde_politics_gps',\n",
    "'gde_politics_pda',\n",
    "'gde_politics_rights',\n",
    "'gde_politics_sp',\n",
    "'gde_politics_svp',\n",
    "'gde_pop_per_km2',\n",
    "'gde_population',\n",
    "'gde_private_apartments',\n",
    "'gde_social_help_quota',\n",
    "'gde_tax',\n",
    "'gde_workers_sector1',\n",
    "'gde_workers_sector2',\n",
    "'gde_workers_sector3',\n",
    "'gde_workers_total',\n",
    "'plz_parsed',\n",
    "'No. of rooms:',\n",
    "'Number of apartments:',\n",
    "'Last refurbishment:',\n",
    "'Number of floors:',\n",
    "'Year built:',\n",
    "'Space extracted',\n",
    "'Plot_area_unified',\n",
    "\n",
    "]\n",
    "\n",
    "dp = DataPipeline()\n",
    "dp.readCsv(\"data/immo_data_202208_v2.csv\")\n",
    "dp.dropColumns(columns_to_drop_all)\n",
    "\n",
    "df = dp.getData()\n"
   ]
  },
  {
   "cell_type": "code",
   "outputs": [
    {
     "data": {
      "text/plain": "       price_cleaned                                           features\n0          1150000.0                                                NaN\n1          1420000.0                                                NaN\n2           720000.0                                                NaN\n3          1430000.0                                                NaN\n4           995000.0                                                NaN\n...              ...                                                ...\n22476       475000.0  Pets allowed\\tCable TV\\tChild-friendly\\tParkin...\n22477      1490000.0  Balcony / Terrace\\tWashing machine\\tView\\tWhee...\n22478      1450000.0   Balcony / Terrace\\tChild-friendly\\tParking space\n22479      1290000.0  Balcony / Terrace\\tView\\tWheelchair access\\tQu...\n22480       780000.0  Balcony / Terrace\\tFireplace\\tQuiet neighborho...\n\n[22481 rows x 2 columns]",
      "text/html": "<div>\n<style scoped>\n    .dataframe tbody tr th:only-of-type {\n        vertical-align: middle;\n    }\n\n    .dataframe tbody tr th {\n        vertical-align: top;\n    }\n\n    .dataframe thead th {\n        text-align: right;\n    }\n</style>\n<table border=\"1\" class=\"dataframe\">\n  <thead>\n    <tr style=\"text-align: right;\">\n      <th></th>\n      <th>price_cleaned</th>\n      <th>features</th>\n    </tr>\n  </thead>\n  <tbody>\n    <tr>\n      <th>0</th>\n      <td>1150000.0</td>\n      <td>NaN</td>\n    </tr>\n    <tr>\n      <th>1</th>\n      <td>1420000.0</td>\n      <td>NaN</td>\n    </tr>\n    <tr>\n      <th>2</th>\n      <td>720000.0</td>\n      <td>NaN</td>\n    </tr>\n    <tr>\n      <th>3</th>\n      <td>1430000.0</td>\n      <td>NaN</td>\n    </tr>\n    <tr>\n      <th>4</th>\n      <td>995000.0</td>\n      <td>NaN</td>\n    </tr>\n    <tr>\n      <th>...</th>\n      <td>...</td>\n      <td>...</td>\n    </tr>\n    <tr>\n      <th>22476</th>\n      <td>475000.0</td>\n      <td>Pets allowed\\tCable TV\\tChild-friendly\\tParkin...</td>\n    </tr>\n    <tr>\n      <th>22477</th>\n      <td>1490000.0</td>\n      <td>Balcony / Terrace\\tWashing machine\\tView\\tWhee...</td>\n    </tr>\n    <tr>\n      <th>22478</th>\n      <td>1450000.0</td>\n      <td>Balcony / Terrace\\tChild-friendly\\tParking space</td>\n    </tr>\n    <tr>\n      <th>22479</th>\n      <td>1290000.0</td>\n      <td>Balcony / Terrace\\tView\\tWheelchair access\\tQu...</td>\n    </tr>\n    <tr>\n      <th>22480</th>\n      <td>780000.0</td>\n      <td>Balcony / Terrace\\tFireplace\\tQuiet neighborho...</td>\n    </tr>\n  </tbody>\n</table>\n<p>22481 rows × 2 columns</p>\n</div>"
     },
     "execution_count": 2,
     "metadata": {},
     "output_type": "execute_result"
    }
   ],
   "source": [
    "df"
   ],
   "metadata": {
    "collapsed": false,
    "ExecuteTime": {
     "end_time": "2024-11-13T08:04:47.464435900Z",
     "start_time": "2024-11-13T08:04:47.445165700Z"
    }
   },
   "id": "3a826d96179833e6",
   "execution_count": 2
  },
  {
   "cell_type": "code",
   "outputs": [
    {
     "data": {
      "text/plain": "       price_cleaned  Balcony / Terrace  Cable TV  Child-friendly  \\\n0          1150000.0                  0         0               0   \n1          1420000.0                  0         0               0   \n2           720000.0                  0         0               0   \n3          1430000.0                  0         0               0   \n4           995000.0                  0         0               0   \n...              ...                ...       ...             ...   \n22476       475000.0                  0         1               1   \n22477      1490000.0                  1         0               1   \n22478      1450000.0                  1         0               1   \n22479      1290000.0                  1         0               1   \n22480       780000.0                  1         0               1   \n\n       Connected land for building  Corner house  Elevator  Fireplace  Garage  \\\n0                                0             0         0          0       0   \n1                                0             0         0          0       0   \n2                                0             0         0          0       0   \n3                                0             0         0          0       0   \n4                                0             0         0          0       0   \n...                            ...           ...       ...        ...     ...   \n22476                            0             0         0          0       0   \n22477                            0             0         1          0       1   \n22478                            0             0         0          0       0   \n22479                            0             0         1          0       1   \n22480                            0             0         0          1       0   \n\n       Gas connection  ...  Raised ground floor  Smoking permitted  \\\n0                   0  ...                    0                  0   \n1                   0  ...                    0                  0   \n2                   0  ...                    0                  0   \n3                   0  ...                    0                  0   \n4                   0  ...                    0                  0   \n...               ...  ...                  ...                ...   \n22476               0  ...                    0                  0   \n22477               0  ...                    0                  0   \n22478               0  ...                    0                  0   \n22479               0  ...                    0                  0   \n22480               0  ...                    0                  0   \n\n       Swimming pool  View  Washing machine  Waste water connection  \\\n0                  0     0                0                       0   \n1                  0     0                0                       0   \n2                  0     0                0                       0   \n3                  0     0                0                       0   \n4                  0     0                0                       0   \n...              ...   ...              ...                     ...   \n22476              0     0                0                       0   \n22477              0     1                1                       0   \n22478              0     0                0                       0   \n22479              0     1                0                       0   \n22480              0     0                0                       0   \n\n       Water connection  Wheelchair access  With a summer house  covered  \n0                     0                  0                    0        0  \n1                     0                  0                    0        0  \n2                     0                  0                    0        0  \n3                     0                  0                    0        0  \n4                     0                  0                    0        0  \n...                 ...                ...                  ...      ...  \n22476                 0                  0                    0        0  \n22477                 0                  1                    0        0  \n22478                 0                  0                    0        0  \n22479                 0                  1                    0        0  \n22480                 0                  0                    0        0  \n\n[22481 rows x 31 columns]",
      "text/html": "<div>\n<style scoped>\n    .dataframe tbody tr th:only-of-type {\n        vertical-align: middle;\n    }\n\n    .dataframe tbody tr th {\n        vertical-align: top;\n    }\n\n    .dataframe thead th {\n        text-align: right;\n    }\n</style>\n<table border=\"1\" class=\"dataframe\">\n  <thead>\n    <tr style=\"text-align: right;\">\n      <th></th>\n      <th>price_cleaned</th>\n      <th>Balcony / Terrace</th>\n      <th>Cable TV</th>\n      <th>Child-friendly</th>\n      <th>Connected land for building</th>\n      <th>Corner house</th>\n      <th>Elevator</th>\n      <th>Fireplace</th>\n      <th>Garage</th>\n      <th>Gas connection</th>\n      <th>...</th>\n      <th>Raised ground floor</th>\n      <th>Smoking permitted</th>\n      <th>Swimming pool</th>\n      <th>View</th>\n      <th>Washing machine</th>\n      <th>Waste water connection</th>\n      <th>Water connection</th>\n      <th>Wheelchair access</th>\n      <th>With a summer house</th>\n      <th>covered</th>\n    </tr>\n  </thead>\n  <tbody>\n    <tr>\n      <th>0</th>\n      <td>1150000.0</td>\n      <td>0</td>\n      <td>0</td>\n      <td>0</td>\n      <td>0</td>\n      <td>0</td>\n      <td>0</td>\n      <td>0</td>\n      <td>0</td>\n      <td>0</td>\n      <td>...</td>\n      <td>0</td>\n      <td>0</td>\n      <td>0</td>\n      <td>0</td>\n      <td>0</td>\n      <td>0</td>\n      <td>0</td>\n      <td>0</td>\n      <td>0</td>\n      <td>0</td>\n    </tr>\n    <tr>\n      <th>1</th>\n      <td>1420000.0</td>\n      <td>0</td>\n      <td>0</td>\n      <td>0</td>\n      <td>0</td>\n      <td>0</td>\n      <td>0</td>\n      <td>0</td>\n      <td>0</td>\n      <td>0</td>\n      <td>...</td>\n      <td>0</td>\n      <td>0</td>\n      <td>0</td>\n      <td>0</td>\n      <td>0</td>\n      <td>0</td>\n      <td>0</td>\n      <td>0</td>\n      <td>0</td>\n      <td>0</td>\n    </tr>\n    <tr>\n      <th>2</th>\n      <td>720000.0</td>\n      <td>0</td>\n      <td>0</td>\n      <td>0</td>\n      <td>0</td>\n      <td>0</td>\n      <td>0</td>\n      <td>0</td>\n      <td>0</td>\n      <td>0</td>\n      <td>...</td>\n      <td>0</td>\n      <td>0</td>\n      <td>0</td>\n      <td>0</td>\n      <td>0</td>\n      <td>0</td>\n      <td>0</td>\n      <td>0</td>\n      <td>0</td>\n      <td>0</td>\n    </tr>\n    <tr>\n      <th>3</th>\n      <td>1430000.0</td>\n      <td>0</td>\n      <td>0</td>\n      <td>0</td>\n      <td>0</td>\n      <td>0</td>\n      <td>0</td>\n      <td>0</td>\n      <td>0</td>\n      <td>0</td>\n      <td>...</td>\n      <td>0</td>\n      <td>0</td>\n      <td>0</td>\n      <td>0</td>\n      <td>0</td>\n      <td>0</td>\n      <td>0</td>\n      <td>0</td>\n      <td>0</td>\n      <td>0</td>\n    </tr>\n    <tr>\n      <th>4</th>\n      <td>995000.0</td>\n      <td>0</td>\n      <td>0</td>\n      <td>0</td>\n      <td>0</td>\n      <td>0</td>\n      <td>0</td>\n      <td>0</td>\n      <td>0</td>\n      <td>0</td>\n      <td>...</td>\n      <td>0</td>\n      <td>0</td>\n      <td>0</td>\n      <td>0</td>\n      <td>0</td>\n      <td>0</td>\n      <td>0</td>\n      <td>0</td>\n      <td>0</td>\n      <td>0</td>\n    </tr>\n    <tr>\n      <th>...</th>\n      <td>...</td>\n      <td>...</td>\n      <td>...</td>\n      <td>...</td>\n      <td>...</td>\n      <td>...</td>\n      <td>...</td>\n      <td>...</td>\n      <td>...</td>\n      <td>...</td>\n      <td>...</td>\n      <td>...</td>\n      <td>...</td>\n      <td>...</td>\n      <td>...</td>\n      <td>...</td>\n      <td>...</td>\n      <td>...</td>\n      <td>...</td>\n      <td>...</td>\n      <td>...</td>\n    </tr>\n    <tr>\n      <th>22476</th>\n      <td>475000.0</td>\n      <td>0</td>\n      <td>1</td>\n      <td>1</td>\n      <td>0</td>\n      <td>0</td>\n      <td>0</td>\n      <td>0</td>\n      <td>0</td>\n      <td>0</td>\n      <td>...</td>\n      <td>0</td>\n      <td>0</td>\n      <td>0</td>\n      <td>0</td>\n      <td>0</td>\n      <td>0</td>\n      <td>0</td>\n      <td>0</td>\n      <td>0</td>\n      <td>0</td>\n    </tr>\n    <tr>\n      <th>22477</th>\n      <td>1490000.0</td>\n      <td>1</td>\n      <td>0</td>\n      <td>1</td>\n      <td>0</td>\n      <td>0</td>\n      <td>1</td>\n      <td>0</td>\n      <td>1</td>\n      <td>0</td>\n      <td>...</td>\n      <td>0</td>\n      <td>0</td>\n      <td>0</td>\n      <td>1</td>\n      <td>1</td>\n      <td>0</td>\n      <td>0</td>\n      <td>1</td>\n      <td>0</td>\n      <td>0</td>\n    </tr>\n    <tr>\n      <th>22478</th>\n      <td>1450000.0</td>\n      <td>1</td>\n      <td>0</td>\n      <td>1</td>\n      <td>0</td>\n      <td>0</td>\n      <td>0</td>\n      <td>0</td>\n      <td>0</td>\n      <td>0</td>\n      <td>...</td>\n      <td>0</td>\n      <td>0</td>\n      <td>0</td>\n      <td>0</td>\n      <td>0</td>\n      <td>0</td>\n      <td>0</td>\n      <td>0</td>\n      <td>0</td>\n      <td>0</td>\n    </tr>\n    <tr>\n      <th>22479</th>\n      <td>1290000.0</td>\n      <td>1</td>\n      <td>0</td>\n      <td>1</td>\n      <td>0</td>\n      <td>0</td>\n      <td>1</td>\n      <td>0</td>\n      <td>1</td>\n      <td>0</td>\n      <td>...</td>\n      <td>0</td>\n      <td>0</td>\n      <td>0</td>\n      <td>1</td>\n      <td>0</td>\n      <td>0</td>\n      <td>0</td>\n      <td>1</td>\n      <td>0</td>\n      <td>0</td>\n    </tr>\n    <tr>\n      <th>22480</th>\n      <td>780000.0</td>\n      <td>1</td>\n      <td>0</td>\n      <td>1</td>\n      <td>0</td>\n      <td>0</td>\n      <td>0</td>\n      <td>1</td>\n      <td>0</td>\n      <td>0</td>\n      <td>...</td>\n      <td>0</td>\n      <td>0</td>\n      <td>0</td>\n      <td>0</td>\n      <td>0</td>\n      <td>0</td>\n      <td>0</td>\n      <td>0</td>\n      <td>0</td>\n      <td>0</td>\n    </tr>\n  </tbody>\n</table>\n<p>22481 rows × 31 columns</p>\n</div>"
     },
     "execution_count": 3,
     "metadata": {},
     "output_type": "execute_result"
    }
   ],
   "source": [
    "import pandas as pd\n",
    "feature_dummies = df['features'].str.get_dummies(sep='\\t')\n",
    "\n",
    "# Concatenate the original dataframe with the new binary columns\n",
    "df_new = pd.concat([df, feature_dummies], axis=1)\n",
    "\n",
    "# Drop the original 'features' column, if desired\n",
    "df_new = df_new.drop(columns=['features'])\n",
    "\n",
    "df_new"
   ],
   "metadata": {
    "collapsed": false,
    "ExecuteTime": {
     "end_time": "2024-11-13T08:04:49.656548700Z",
     "start_time": "2024-11-13T08:04:49.200153500Z"
    }
   },
   "id": "96a92d6e74452469",
   "execution_count": 3
  },
  {
   "cell_type": "code",
   "outputs": [
    {
     "name": "stderr",
     "output_type": "stream",
     "text": [
      "C:\\FHNW_Programmiersachen\\5_Sem\\immo_challenge\\src\\dataPipeline.py:39: DtypeWarning: Columns (3,4,5,6,11,13,14,15,16,17,18,19,20,21,22,23,24,25,26,27,28,29,30,31,32,33,34,35,36,37,38,39,40,41,42,43,45,46,47,49,50,107,110,114,115,116,119,120,121,124,125,126,128,131,132) have mixed types. Specify dtype option on import or set low_memory=False.\n",
      "  self.data = pd.read_csv(filePath)\n",
      "C:\\FHNW_Programmiersachen\\5_Sem\\immo_challenge\\src\\dataPipeline.py:62: FutureWarning: Downcasting object dtype arrays on .fillna, .ffill, .bfill is deprecated and will change in a future version. Call result.infer_objects(copy=False) instead. To opt-in to the future behavior, set `pd.set_option('future.no_silent_downcasting', True)`\n",
      "  ]].bfill(axis=1)['Space extracted']\n",
      "C:\\FHNW_Programmiersachen\\5_Sem\\immo_challenge\\src\\dataPipeline.py:67: FutureWarning: Downcasting object dtype arrays on .fillna, .ffill, .bfill is deprecated and will change in a future version. Call result.infer_objects(copy=False) instead. To opt-in to the future behavior, set `pd.set_option('future.no_silent_downcasting', True)`\n",
      "  ]].bfill(axis=1)['Plot_area_unified']\n",
      "C:\\FHNW_Programmiersachen\\5_Sem\\immo_challenge\\src\\dataPipeline.py:73: FutureWarning: Downcasting object dtype arrays on .fillna, .ffill, .bfill is deprecated and will change in a future version. Call result.infer_objects(copy=False) instead. To opt-in to the future behavior, set `pd.set_option('future.no_silent_downcasting', True)`\n",
      "  ]].bfill(axis=1)['Availability']\n",
      "C:\\FHNW_Programmiersachen\\5_Sem\\immo_challenge\\src\\dataPipeline.py:77: FutureWarning: Downcasting object dtype arrays on .fillna, .ffill, .bfill is deprecated and will change in a future version. Call result.infer_objects(copy=False) instead. To opt-in to the future behavior, set `pd.set_option('future.no_silent_downcasting', True)`\n",
      "  ]].bfill(axis=1)['No. of rooms:']\n"
     ]
    },
    {
     "data": {
      "text/plain": "       price_cleaned  region_group  Balcony / Terrace  Cable TV  \\\n0          1150000.0          20.0                0.0       0.0   \n1          1420000.0          20.0                0.0       0.0   \n2           720000.0          20.0                0.0       0.0   \n3          1430000.0          20.0                0.0       0.0   \n4           995000.0          20.0                0.0       0.0   \n...              ...           ...                ...       ...   \n15065       475000.0          49.0                0.0       1.0   \n15066      1490000.0          14.0                1.0       0.0   \n15067      1450000.0          14.0                1.0       0.0   \n15068      1290000.0           1.0                1.0       0.0   \n15069       780000.0          14.0                1.0       0.0   \n\n       Child-friendly  Connected land for building  Corner house  Elevator  \\\n0                 0.0                          0.0           0.0       0.0   \n1                 0.0                          0.0           0.0       0.0   \n2                 0.0                          0.0           0.0       0.0   \n3                 0.0                          0.0           0.0       0.0   \n4                 0.0                          0.0           0.0       0.0   \n...               ...                          ...           ...       ...   \n15065             1.0                          0.0           0.0       0.0   \n15066             1.0                          0.0           0.0       1.0   \n15067             1.0                          0.0           0.0       0.0   \n15068             1.0                          0.0           0.0       1.0   \n15069             1.0                          0.0           0.0       0.0   \n\n       Fireplace  Garage  ...  Raised ground floor  Smoking permitted  \\\n0            0.0     0.0  ...                  0.0                0.0   \n1            0.0     0.0  ...                  0.0                0.0   \n2            0.0     0.0  ...                  0.0                0.0   \n3            0.0     0.0  ...                  0.0                0.0   \n4            0.0     0.0  ...                  0.0                0.0   \n...          ...     ...  ...                  ...                ...   \n15065        0.0     0.0  ...                  0.0                0.0   \n15066        0.0     1.0  ...                  0.0                0.0   \n15067        0.0     0.0  ...                  0.0                0.0   \n15068        0.0     1.0  ...                  0.0                0.0   \n15069        1.0     0.0  ...                  0.0                0.0   \n\n       Swimming pool  View  Washing machine  Waste water connection  \\\n0                0.0   0.0              0.0                     0.0   \n1                0.0   0.0              0.0                     0.0   \n2                0.0   0.0              0.0                     0.0   \n3                0.0   0.0              0.0                     0.0   \n4                0.0   0.0              0.0                     0.0   \n...              ...   ...              ...                     ...   \n15065            0.0   0.0              0.0                     0.0   \n15066            0.0   1.0              1.0                     0.0   \n15067            0.0   0.0              0.0                     0.0   \n15068            0.0   1.0              0.0                     0.0   \n15069            0.0   0.0              0.0                     0.0   \n\n       Water connection  Wheelchair access  With a summer house  covered  \n0                   0.0                0.0                  0.0      0.0  \n1                   0.0                0.0                  0.0      0.0  \n2                   0.0                0.0                  0.0      0.0  \n3                   0.0                0.0                  0.0      0.0  \n4                   0.0                0.0                  0.0      0.0  \n...                 ...                ...                  ...      ...  \n15065               0.0                0.0                  0.0      0.0  \n15066               0.0                1.0                  0.0      0.0  \n15067               0.0                0.0                  0.0      0.0  \n15068               0.0                1.0                  0.0      0.0  \n15069               0.0                0.0                  0.0      0.0  \n\n[15070 rows x 32 columns]",
      "text/html": "<div>\n<style scoped>\n    .dataframe tbody tr th:only-of-type {\n        vertical-align: middle;\n    }\n\n    .dataframe tbody tr th {\n        vertical-align: top;\n    }\n\n    .dataframe thead th {\n        text-align: right;\n    }\n</style>\n<table border=\"1\" class=\"dataframe\">\n  <thead>\n    <tr style=\"text-align: right;\">\n      <th></th>\n      <th>price_cleaned</th>\n      <th>region_group</th>\n      <th>Balcony / Terrace</th>\n      <th>Cable TV</th>\n      <th>Child-friendly</th>\n      <th>Connected land for building</th>\n      <th>Corner house</th>\n      <th>Elevator</th>\n      <th>Fireplace</th>\n      <th>Garage</th>\n      <th>...</th>\n      <th>Raised ground floor</th>\n      <th>Smoking permitted</th>\n      <th>Swimming pool</th>\n      <th>View</th>\n      <th>Washing machine</th>\n      <th>Waste water connection</th>\n      <th>Water connection</th>\n      <th>Wheelchair access</th>\n      <th>With a summer house</th>\n      <th>covered</th>\n    </tr>\n  </thead>\n  <tbody>\n    <tr>\n      <th>0</th>\n      <td>1150000.0</td>\n      <td>20.0</td>\n      <td>0.0</td>\n      <td>0.0</td>\n      <td>0.0</td>\n      <td>0.0</td>\n      <td>0.0</td>\n      <td>0.0</td>\n      <td>0.0</td>\n      <td>0.0</td>\n      <td>...</td>\n      <td>0.0</td>\n      <td>0.0</td>\n      <td>0.0</td>\n      <td>0.0</td>\n      <td>0.0</td>\n      <td>0.0</td>\n      <td>0.0</td>\n      <td>0.0</td>\n      <td>0.0</td>\n      <td>0.0</td>\n    </tr>\n    <tr>\n      <th>1</th>\n      <td>1420000.0</td>\n      <td>20.0</td>\n      <td>0.0</td>\n      <td>0.0</td>\n      <td>0.0</td>\n      <td>0.0</td>\n      <td>0.0</td>\n      <td>0.0</td>\n      <td>0.0</td>\n      <td>0.0</td>\n      <td>...</td>\n      <td>0.0</td>\n      <td>0.0</td>\n      <td>0.0</td>\n      <td>0.0</td>\n      <td>0.0</td>\n      <td>0.0</td>\n      <td>0.0</td>\n      <td>0.0</td>\n      <td>0.0</td>\n      <td>0.0</td>\n    </tr>\n    <tr>\n      <th>2</th>\n      <td>720000.0</td>\n      <td>20.0</td>\n      <td>0.0</td>\n      <td>0.0</td>\n      <td>0.0</td>\n      <td>0.0</td>\n      <td>0.0</td>\n      <td>0.0</td>\n      <td>0.0</td>\n      <td>0.0</td>\n      <td>...</td>\n      <td>0.0</td>\n      <td>0.0</td>\n      <td>0.0</td>\n      <td>0.0</td>\n      <td>0.0</td>\n      <td>0.0</td>\n      <td>0.0</td>\n      <td>0.0</td>\n      <td>0.0</td>\n      <td>0.0</td>\n    </tr>\n    <tr>\n      <th>3</th>\n      <td>1430000.0</td>\n      <td>20.0</td>\n      <td>0.0</td>\n      <td>0.0</td>\n      <td>0.0</td>\n      <td>0.0</td>\n      <td>0.0</td>\n      <td>0.0</td>\n      <td>0.0</td>\n      <td>0.0</td>\n      <td>...</td>\n      <td>0.0</td>\n      <td>0.0</td>\n      <td>0.0</td>\n      <td>0.0</td>\n      <td>0.0</td>\n      <td>0.0</td>\n      <td>0.0</td>\n      <td>0.0</td>\n      <td>0.0</td>\n      <td>0.0</td>\n    </tr>\n    <tr>\n      <th>4</th>\n      <td>995000.0</td>\n      <td>20.0</td>\n      <td>0.0</td>\n      <td>0.0</td>\n      <td>0.0</td>\n      <td>0.0</td>\n      <td>0.0</td>\n      <td>0.0</td>\n      <td>0.0</td>\n      <td>0.0</td>\n      <td>...</td>\n      <td>0.0</td>\n      <td>0.0</td>\n      <td>0.0</td>\n      <td>0.0</td>\n      <td>0.0</td>\n      <td>0.0</td>\n      <td>0.0</td>\n      <td>0.0</td>\n      <td>0.0</td>\n      <td>0.0</td>\n    </tr>\n    <tr>\n      <th>...</th>\n      <td>...</td>\n      <td>...</td>\n      <td>...</td>\n      <td>...</td>\n      <td>...</td>\n      <td>...</td>\n      <td>...</td>\n      <td>...</td>\n      <td>...</td>\n      <td>...</td>\n      <td>...</td>\n      <td>...</td>\n      <td>...</td>\n      <td>...</td>\n      <td>...</td>\n      <td>...</td>\n      <td>...</td>\n      <td>...</td>\n      <td>...</td>\n      <td>...</td>\n      <td>...</td>\n    </tr>\n    <tr>\n      <th>15065</th>\n      <td>475000.0</td>\n      <td>49.0</td>\n      <td>0.0</td>\n      <td>1.0</td>\n      <td>1.0</td>\n      <td>0.0</td>\n      <td>0.0</td>\n      <td>0.0</td>\n      <td>0.0</td>\n      <td>0.0</td>\n      <td>...</td>\n      <td>0.0</td>\n      <td>0.0</td>\n      <td>0.0</td>\n      <td>0.0</td>\n      <td>0.0</td>\n      <td>0.0</td>\n      <td>0.0</td>\n      <td>0.0</td>\n      <td>0.0</td>\n      <td>0.0</td>\n    </tr>\n    <tr>\n      <th>15066</th>\n      <td>1490000.0</td>\n      <td>14.0</td>\n      <td>1.0</td>\n      <td>0.0</td>\n      <td>1.0</td>\n      <td>0.0</td>\n      <td>0.0</td>\n      <td>1.0</td>\n      <td>0.0</td>\n      <td>1.0</td>\n      <td>...</td>\n      <td>0.0</td>\n      <td>0.0</td>\n      <td>0.0</td>\n      <td>1.0</td>\n      <td>1.0</td>\n      <td>0.0</td>\n      <td>0.0</td>\n      <td>1.0</td>\n      <td>0.0</td>\n      <td>0.0</td>\n    </tr>\n    <tr>\n      <th>15067</th>\n      <td>1450000.0</td>\n      <td>14.0</td>\n      <td>1.0</td>\n      <td>0.0</td>\n      <td>1.0</td>\n      <td>0.0</td>\n      <td>0.0</td>\n      <td>0.0</td>\n      <td>0.0</td>\n      <td>0.0</td>\n      <td>...</td>\n      <td>0.0</td>\n      <td>0.0</td>\n      <td>0.0</td>\n      <td>0.0</td>\n      <td>0.0</td>\n      <td>0.0</td>\n      <td>0.0</td>\n      <td>0.0</td>\n      <td>0.0</td>\n      <td>0.0</td>\n    </tr>\n    <tr>\n      <th>15068</th>\n      <td>1290000.0</td>\n      <td>1.0</td>\n      <td>1.0</td>\n      <td>0.0</td>\n      <td>1.0</td>\n      <td>0.0</td>\n      <td>0.0</td>\n      <td>1.0</td>\n      <td>0.0</td>\n      <td>1.0</td>\n      <td>...</td>\n      <td>0.0</td>\n      <td>0.0</td>\n      <td>0.0</td>\n      <td>1.0</td>\n      <td>0.0</td>\n      <td>0.0</td>\n      <td>0.0</td>\n      <td>1.0</td>\n      <td>0.0</td>\n      <td>0.0</td>\n    </tr>\n    <tr>\n      <th>15069</th>\n      <td>780000.0</td>\n      <td>14.0</td>\n      <td>1.0</td>\n      <td>0.0</td>\n      <td>1.0</td>\n      <td>0.0</td>\n      <td>0.0</td>\n      <td>0.0</td>\n      <td>1.0</td>\n      <td>0.0</td>\n      <td>...</td>\n      <td>0.0</td>\n      <td>0.0</td>\n      <td>0.0</td>\n      <td>0.0</td>\n      <td>0.0</td>\n      <td>0.0</td>\n      <td>0.0</td>\n      <td>0.0</td>\n      <td>0.0</td>\n      <td>0.0</td>\n    </tr>\n  </tbody>\n</table>\n<p>15070 rows × 32 columns</p>\n</div>"
     },
     "execution_count": 1,
     "metadata": {},
     "output_type": "execute_result"
    }
   ],
   "source": [
    "import os\n",
    "from src.dataPipeline import DataPipeline\n",
    "from sklearn.impute import KNNImputer\n",
    "\n",
    "imputer = KNNImputer(n_neighbors=10)\n",
    "\n",
    "os.chdir('..')\n",
    "\n",
    "dp = DataPipeline()\n",
    "df = dp.runPipeline(normalizeAndStandardize=False)\n",
    "df"
   ],
   "metadata": {
    "collapsed": false,
    "ExecuteTime": {
     "end_time": "2024-11-13T08:07:37.813245200Z",
     "start_time": "2024-11-13T08:07:23.520576600Z"
    }
   },
   "id": "24772742015b2c5e",
   "execution_count": 1
  },
  {
   "cell_type": "markdown",
   "source": [],
   "metadata": {
    "collapsed": false
   },
   "id": "61322bdf364d559a"
  },
  {
   "cell_type": "code",
   "outputs": [],
   "source": [],
   "metadata": {
    "collapsed": false
   },
   "id": "460a17e440fdf515"
  }
 ],
 "metadata": {
  "kernelspec": {
   "display_name": "Python 3",
   "language": "python",
   "name": "python3"
  },
  "language_info": {
   "codemirror_mode": {
    "name": "ipython",
    "version": 2
   },
   "file_extension": ".py",
   "mimetype": "text/x-python",
   "name": "python",
   "nbconvert_exporter": "python",
   "pygments_lexer": "ipython2",
   "version": "2.7.6"
  }
 },
 "nbformat": 4,
 "nbformat_minor": 5
}

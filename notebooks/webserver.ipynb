{
 "cells": [
  {
   "metadata": {
    "ExecuteTime": {
     "end_time": "2024-11-06T15:23:51.237844Z",
     "start_time": "2024-11-06T15:23:50.547986Z"
    }
   },
   "cell_type": "code",
   "source": [
    "from flask import Flask, render_template, request\n",
    "import joblib\n",
    "import numpy as np\n",
    "import pandas as pd\n",
    "from sklearn.linear_model import LinearRegression"
   ],
   "id": "9c6c97c1d8c353eb",
   "outputs": [],
   "execution_count": 16
  },
  {
   "metadata": {},
   "cell_type": "markdown",
   "source": "Copiert und modifiziert von https://medium.com/nerd-for-tech/simple-linear-regression-with-deployment-using-flask-cafbf85fa96f",
   "id": "c0639c888e2c886c"
  },
  {
   "metadata": {
    "ExecuteTime": {
     "end_time": "2024-11-06T15:23:57.806730Z",
     "start_time": "2024-11-06T15:23:57.751704Z"
    }
   },
   "cell_type": "code",
   "source": [
    "X = np.array([10, 20, 30, 40, 50, 10, 25, 30, 45, 50, 15, 20, 35, 40, 50, 50, 45, 30, 25, 20, 10])\n",
    "Y = np.array([95, 185, 280, 370, 490, 100, 230, 290, 410, 500, 135, 200, 295, 395, 495, 480, 430, 305, 205, 175, 110])\n",
    "\n",
    "data = pd.DataFrame({'Ads/Month':X, 'Paid/Month':Y})\n",
    "data.head()"
   ],
   "id": "79adf66ff518797c",
   "outputs": [
    {
     "data": {
      "text/plain": [
       "   Ads/Month  Paid/Month\n",
       "0         10          95\n",
       "1         20         185\n",
       "2         30         280\n",
       "3         40         370\n",
       "4         50         490"
      ],
      "text/html": [
       "<div>\n",
       "<style scoped>\n",
       "    .dataframe tbody tr th:only-of-type {\n",
       "        vertical-align: middle;\n",
       "    }\n",
       "\n",
       "    .dataframe tbody tr th {\n",
       "        vertical-align: top;\n",
       "    }\n",
       "\n",
       "    .dataframe thead th {\n",
       "        text-align: right;\n",
       "    }\n",
       "</style>\n",
       "<table border=\"1\" class=\"dataframe\">\n",
       "  <thead>\n",
       "    <tr style=\"text-align: right;\">\n",
       "      <th></th>\n",
       "      <th>Ads/Month</th>\n",
       "      <th>Paid/Month</th>\n",
       "    </tr>\n",
       "  </thead>\n",
       "  <tbody>\n",
       "    <tr>\n",
       "      <th>0</th>\n",
       "      <td>10</td>\n",
       "      <td>95</td>\n",
       "    </tr>\n",
       "    <tr>\n",
       "      <th>1</th>\n",
       "      <td>20</td>\n",
       "      <td>185</td>\n",
       "    </tr>\n",
       "    <tr>\n",
       "      <th>2</th>\n",
       "      <td>30</td>\n",
       "      <td>280</td>\n",
       "    </tr>\n",
       "    <tr>\n",
       "      <th>3</th>\n",
       "      <td>40</td>\n",
       "      <td>370</td>\n",
       "    </tr>\n",
       "    <tr>\n",
       "      <th>4</th>\n",
       "      <td>50</td>\n",
       "      <td>490</td>\n",
       "    </tr>\n",
       "  </tbody>\n",
       "</table>\n",
       "</div>"
      ]
     },
     "execution_count": 17,
     "metadata": {},
     "output_type": "execute_result"
    }
   ],
   "execution_count": 17
  },
  {
   "metadata": {
    "ExecuteTime": {
     "end_time": "2024-11-06T15:23:58.941507Z",
     "start_time": "2024-11-06T15:23:58.910870Z"
    }
   },
   "cell_type": "code",
   "source": "model = LinearRegression().fit(X.reshape(-1, 1), Y)",
   "id": "3bbf7cdf621ea976",
   "outputs": [],
   "execution_count": 18
  },
  {
   "metadata": {
    "ExecuteTime": {
     "end_time": "2024-11-06T15:24:00.843953Z",
     "start_time": "2024-11-06T15:24:00.833001Z"
    }
   },
   "cell_type": "code",
   "source": [
    "filename = \"model.sav\"\n",
    "joblib.dump(model, \"../webserver/\"+str(filename))"
   ],
   "id": "27eb52a599c09b41",
   "outputs": [
    {
     "data": {
      "text/plain": [
       "['../webserver/model.sav']"
      ]
     },
     "execution_count": 19,
     "metadata": {},
     "output_type": "execute_result"
    }
   ],
   "execution_count": 19
  },
  {
   "metadata": {
    "ExecuteTime": {
     "end_time": "2024-11-06T15:29:59.829204Z",
     "start_time": "2024-11-06T15:27:36.685075Z"
    }
   },
   "cell_type": "code",
   "source": [
    "app = Flask(__name__, template_folder=\"../webserver\")\n",
    "\n",
    "@app.route('/')\n",
    "def student():\n",
    "    return render_template(\"home.html\")\n",
    "\n",
    "\n",
    "def ValuePredictor(to_predict_list):\n",
    "    to_predict = np.array(to_predict_list).reshape(-1, 1)\n",
    "    loaded_model = joblib.load(\"../webserver/model.sav\")\n",
    "    result = loaded_model.predict(to_predict)\n",
    "    return result[0]\n",
    "\n",
    "\n",
    "@app.route('/', methods=[\"POST\", \"GET\"])\n",
    "def result():\n",
    "    if request.method == \"POST\":\n",
    "        to_predict_list = request.form.to_dict()\n",
    "        to_predict_list = list(to_predict_list.values())\n",
    "        to_predict_list = list(map(float, to_predict_list))\n",
    "        result = round(float(ValuePredictor(to_predict_list)), 2)\n",
    "        return render_template(\"home.html\", result=result)\n",
    "\n",
    "\n",
    "if __name__ == \"__main__\":\n",
    "    app.run()"
   ],
   "id": "3d591fafb697bd17",
   "outputs": [
    {
     "name": "stdout",
     "output_type": "stream",
     "text": [
      " * Serving Flask app '__main__'\n",
      " * Debug mode: off\n"
     ]
    },
    {
     "name": "stderr",
     "output_type": "stream",
     "text": [
      "WARNING: This is a development server. Do not use it in a production deployment. Use a production WSGI server instead.\n",
      " * Running on http://127.0.0.1:5000\n",
      "Press CTRL+C to quit\n",
      "127.0.0.1 - - [06/Nov/2024 16:27:41] \"GET / HTTP/1.1\" 200 -\n",
      "127.0.0.1 - - [06/Nov/2024 16:27:44] \"POST / HTTP/1.1\" 200 -\n",
      "127.0.0.1 - - [06/Nov/2024 16:27:44] \"GET /favicon.ico HTTP/1.1\" 404 -\n"
     ]
    }
   ],
   "execution_count": 20
  },
  {
   "metadata": {},
   "cell_type": "code",
   "outputs": [],
   "execution_count": null,
   "source": "",
   "id": "7acf1e4c18ae3e6f"
  }
 ],
 "metadata": {
  "kernelspec": {
   "display_name": "Python 3",
   "language": "python",
   "name": "python3"
  },
  "language_info": {
   "codemirror_mode": {
    "name": "ipython",
    "version": 2
   },
   "file_extension": ".py",
   "mimetype": "text/x-python",
   "name": "python",
   "nbconvert_exporter": "python",
   "pygments_lexer": "ipython2",
   "version": "2.7.6"
  }
 },
 "nbformat": 4,
 "nbformat_minor": 5
}

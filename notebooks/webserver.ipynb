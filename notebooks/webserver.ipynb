{
 "cells": [
  {
   "metadata": {
    "ExecuteTime": {
     "end_time": "2025-01-03T14:41:09.487063Z",
     "start_time": "2025-01-03T14:41:09.270244Z"
    }
   },
   "cell_type": "code",
   "source": [
    "from flask import Flask, render_template, request\n",
    "import joblib\n",
    "import numpy as np\n",
    "import pandas as pd\n",
    "from sklearn.linear_model import LinearRegression"
   ],
   "id": "9c6c97c1d8c353eb",
   "outputs": [],
   "execution_count": 20
  },
  {
   "metadata": {},
   "cell_type": "markdown",
   "source": "Copiert und modifiziert von https://medium.com/nerd-for-tech/simple-linear-regression-with-deployment-using-flask-cafbf85fa96f",
   "id": "c0639c888e2c886c"
  },
  {
   "metadata": {
    "ExecuteTime": {
     "end_time": "2025-01-03T14:41:09.513488Z",
     "start_time": "2025-01-03T14:41:09.499605Z"
    }
   },
   "cell_type": "code",
   "source": [
    "X = np.array([10, 20, 30, 40, 50, 10, 25, 30, 45, 50, 15, 20, 35, 40, 50, 50, 45, 30, 25, 20, 10])\n",
    "Y = np.array([95, 185, 280, 370, 490, 100, 230, 290, 410, 500, 135, 200, 295, 395, 495, 480, 430, 305, 205, 175, 110])\n",
    "\n",
    "data = pd.DataFrame({'Ads/Month':X, 'Paid/Month':Y})\n",
    "data.head()"
   ],
   "id": "79adf66ff518797c",
   "outputs": [
    {
     "data": {
      "text/plain": [
       "   Ads/Month  Paid/Month\n",
       "0         10          95\n",
       "1         20         185\n",
       "2         30         280\n",
       "3         40         370\n",
       "4         50         490"
      ],
      "text/html": [
       "<div>\n",
       "<style scoped>\n",
       "    .dataframe tbody tr th:only-of-type {\n",
       "        vertical-align: middle;\n",
       "    }\n",
       "\n",
       "    .dataframe tbody tr th {\n",
       "        vertical-align: top;\n",
       "    }\n",
       "\n",
       "    .dataframe thead th {\n",
       "        text-align: right;\n",
       "    }\n",
       "</style>\n",
       "<table border=\"1\" class=\"dataframe\">\n",
       "  <thead>\n",
       "    <tr style=\"text-align: right;\">\n",
       "      <th></th>\n",
       "      <th>Ads/Month</th>\n",
       "      <th>Paid/Month</th>\n",
       "    </tr>\n",
       "  </thead>\n",
       "  <tbody>\n",
       "    <tr>\n",
       "      <th>0</th>\n",
       "      <td>10</td>\n",
       "      <td>95</td>\n",
       "    </tr>\n",
       "    <tr>\n",
       "      <th>1</th>\n",
       "      <td>20</td>\n",
       "      <td>185</td>\n",
       "    </tr>\n",
       "    <tr>\n",
       "      <th>2</th>\n",
       "      <td>30</td>\n",
       "      <td>280</td>\n",
       "    </tr>\n",
       "    <tr>\n",
       "      <th>3</th>\n",
       "      <td>40</td>\n",
       "      <td>370</td>\n",
       "    </tr>\n",
       "    <tr>\n",
       "      <th>4</th>\n",
       "      <td>50</td>\n",
       "      <td>490</td>\n",
       "    </tr>\n",
       "  </tbody>\n",
       "</table>\n",
       "</div>"
      ]
     },
     "execution_count": 21,
     "metadata": {},
     "output_type": "execute_result"
    }
   ],
   "execution_count": 21
  },
  {
   "metadata": {
    "ExecuteTime": {
     "end_time": "2025-01-03T14:41:09.695156Z",
     "start_time": "2025-01-03T14:41:09.666597Z"
    }
   },
   "cell_type": "code",
   "source": "model = LinearRegression().fit(X.reshape(-1, 1), Y)",
   "id": "3bbf7cdf621ea976",
   "outputs": [],
   "execution_count": 22
  },
  {
   "metadata": {
    "ExecuteTime": {
     "end_time": "2025-01-03T14:41:09.796397Z",
     "start_time": "2025-01-03T14:41:09.784671Z"
    }
   },
   "cell_type": "code",
   "source": [
    "filename = \"../webserver/model.sav\"\n",
    "#joblib.dump(model, \"../webserver/\"+str(filename))"
   ],
   "id": "27eb52a599c09b41",
   "outputs": [],
   "execution_count": 23
  },
  {
   "metadata": {
    "ExecuteTime": {
     "end_time": "2025-01-03T14:41:09.957826Z",
     "start_time": "2025-01-03T14:41:09.951681Z"
    }
   },
   "cell_type": "code",
   "source": [
    "from flask import Flask, render_template, request\n",
    "import numpy as np\n",
    "import joblib\n",
    "import threading\n"
   ],
   "id": "a2be3119bec949c8",
   "outputs": [],
   "execution_count": 24
  },
  {
   "metadata": {
    "ExecuteTime": {
     "end_time": "2025-01-03T14:41:10.079289Z",
     "start_time": "2025-01-03T14:41:10.057424Z"
    }
   },
   "cell_type": "code",
   "source": [
    "app = Flask(__name__, template_folder=\"../webserver\")\n",
    "\n",
    "@app.route('/')\n",
    "def student():\n",
    "    return render_template(\"home.html\")\n",
    "\n",
    "\n",
    "def ValuePredictor(to_predict_list):\n",
    "    to_predict = np.array(to_predict_list).reshape(-1, 1)\n",
    "    loaded_model = joblib.load(\"../webserver/linear_model.pkl\")\n",
    "    result = loaded_model.predict(to_predict)\n",
    "    return result[0]\n",
    "\n",
    "\n",
    "@app.route('/', methods=[\"POST\", \"GET\"])\n",
    "def result():\n",
    "    if request.method == \"POST\":\n",
    "        to_predict_list = request.form.to_dict()\n",
    "        to_predict_list = list(to_predict_list.values())\n",
    "        to_predict_list = list(map(float, to_predict_list))\n",
    "        result = round(float(ValuePredictor(to_predict_list)), 2)\n",
    "        return render_template(\"home.html\", result=result)\n",
    "\n",
    "def run_app():\n",
    "    app.run(port=5000, debug=True)\n",
    "\n",
    "# Start Flask in a separate thread\n",
    "threading.Thread(target=run_app).start()"
   ],
   "id": "3d591fafb697bd17",
   "outputs": [],
   "execution_count": 25
  },
  {
   "metadata": {
    "ExecuteTime": {
     "end_time": "2025-01-03T17:51:56.184907Z",
     "start_time": "2025-01-03T17:51:56.165215Z"
    }
   },
   "cell_type": "code",
   "source": [
    "import src.dataPipeline as dataPipeline\n",
    "import importlib\n",
    "importlib.reload(dataPipeline)\n",
    "\n",
    "from sklearn.base import BaseEstimator, TransformerMixin\n",
    "from sklearn.impute import KNNImputer\n",
    "from sklearn.preprocessing import StandardScaler, OneHotEncoder\n",
    "from sklearn.pipeline import Pipeline\n",
    "from sklearn.compose import ColumnTransformer\n",
    "from sklearn.cluster import KMeans\n",
    "from sklearn.linear_model import LinearRegression\n",
    "from sklearn.model_selection import train_test_split\n",
    "import numpy as np\n",
    "import pandas as pd\n",
    "import joblib\n",
    "importlib.reload(dataPipeline)"
   ],
   "id": "7acf1e4c18ae3e6f",
   "outputs": [
    {
     "data": {
      "text/plain": [
       "<module 'src.dataPipeline' from 'C:\\\\Users\\\\wartm\\\\Documents\\\\FHNW\\\\immo_challenge\\\\src\\\\dataPipeline.py'>"
      ]
     },
     "execution_count": 15,
     "metadata": {},
     "output_type": "execute_result"
    }
   ],
   "execution_count": 15
  },
  {
   "metadata": {
    "ExecuteTime": {
     "end_time": "2025-01-03T17:52:02.178952Z",
     "start_time": "2025-01-03T17:51:56.849834Z"
    }
   },
   "cell_type": "code",
   "source": [
    "dp = dataPipeline.DataPipeline()\n",
    "df = dp.runPipeline(\n",
    "    filePath=\"../data/immo_data_202208_v2.csv\",\n",
    "    imputer=None,\n",
    "    normalizeAndStandardize= False,\n",
    "    basic_house_imputer = True,\n",
    "    web=True,\n",
    "    get_dummies = False\n",
    ")"
   ],
   "id": "4fe117d21120524e",
   "outputs": [
    {
     "name": "stderr",
     "output_type": "stream",
     "text": [
      "C:\\Users\\wartm\\Documents\\FHNW\\immo_challenge\\src\\dataPipeline.py:44: DtypeWarning: Columns (3,4,5,6,11,13,14,15,16,17,18,19,20,21,22,23,24,25,26,27,28,29,30,31,32,33,34,35,36,37,38,39,40,41,42,43,45,46,47,49,50,107,110,114,115,116,119,120,121,124,125,126,128,131,132) have mixed types. Specify dtype option on import or set low_memory=False.\n",
      "  self.data = pd.read_csv(filePath)\n",
      "C:\\Users\\wartm\\Documents\\FHNW\\immo_challenge\\src\\dataPipeline.py:71: FutureWarning: Downcasting object dtype arrays on .fillna, .ffill, .bfill is deprecated and will change in a future version. Call result.infer_objects(copy=False) instead. To opt-in to the future behavior, set `pd.set_option('future.no_silent_downcasting', True)`\n",
      "  ]].bfill(axis=1)['Space extracted']\n",
      "C:\\Users\\wartm\\Documents\\FHNW\\immo_challenge\\src\\dataPipeline.py:76: FutureWarning: Downcasting object dtype arrays on .fillna, .ffill, .bfill is deprecated and will change in a future version. Call result.infer_objects(copy=False) instead. To opt-in to the future behavior, set `pd.set_option('future.no_silent_downcasting', True)`\n",
      "  ]].bfill(axis=1)['Plot_area_unified']\n",
      "C:\\Users\\wartm\\Documents\\FHNW\\immo_challenge\\src\\dataPipeline.py:82: FutureWarning: Downcasting object dtype arrays on .fillna, .ffill, .bfill is deprecated and will change in a future version. Call result.infer_objects(copy=False) instead. To opt-in to the future behavior, set `pd.set_option('future.no_silent_downcasting', True)`\n",
      "  ]].bfill(axis=1)['Availability']\n"
     ]
    }
   ],
   "execution_count": 16
  },
  {
   "metadata": {
    "ExecuteTime": {
     "end_time": "2025-01-03T17:52:02.217955Z",
     "start_time": "2025-01-03T17:52:02.178952Z"
    }
   },
   "cell_type": "code",
   "source": "df.head()",
   "id": "532ab783b8d11122",
   "outputs": [
    {
     "data": {
      "text/plain": [
       "  Availability  Floor  detail_responsive#surface_usable  Floor_space_merged  \\\n",
       "0   On request    4.0                               0.0                 NaN   \n",
       "1   On request    0.0                               0.0               242.0   \n",
       "2  Immediately    2.0                               0.0                 NaN   \n",
       "3   On request    0.0                               0.0               257.0   \n",
       "4   On request    0.0                               0.0                 NaN   \n",
       "\n",
       "         lat       lon  ForestDensityL  ForestDensityM  ForestDensityS  \\\n",
       "0  47.417100  8.085600        0.511176        0.286451        0.090908   \n",
       "1  47.419500  8.082700        0.511176        0.286451        0.090908   \n",
       "2  47.403300  8.033000        0.163362        0.095877        0.001911   \n",
       "3  47.415643  8.085423        0.511176        0.286451        0.090908   \n",
       "4  47.403824  8.048288        0.333865        0.279276        0.145835   \n",
       "\n",
       "   NoisePollutionRailwayL  ...  gde_workers_total  price_cleaned  \\\n",
       "0                     0.0  ...              331.0      1150000.0   \n",
       "1                     0.0  ...              331.0      1420000.0   \n",
       "2                     0.0  ...            33493.0       720000.0   \n",
       "3                     0.0  ...              331.0      1430000.0   \n",
       "4                     0.0  ...             1355.0       995000.0   \n",
       "\n",
       "   Space extracted    type_unified  Plot_area_unified  No. of rooms:  \\\n",
       "0            100.0       penthouse                0.0            5.0   \n",
       "1            156.0   terrace-house              222.0            5.0   \n",
       "2             93.0       penthouse                0.0            5.0   \n",
       "3            154.0  detached-house              370.0            5.0   \n",
       "4            142.0            flat                0.0            5.0   \n",
       "\n",
       "   Last refurbishment:  Year built:  Number of floors:  region_group  \n",
       "0                  NaN          NaN                1.0          67.0  \n",
       "1                  NaN          NaN                1.0          67.0  \n",
       "2                  NaN          NaN                1.0          67.0  \n",
       "3                  NaN          NaN                1.0          67.0  \n",
       "4                  NaN          NaN                1.0          67.0  \n",
       "\n",
       "[5 rows x 61 columns]"
      ],
      "text/html": [
       "<div>\n",
       "<style scoped>\n",
       "    .dataframe tbody tr th:only-of-type {\n",
       "        vertical-align: middle;\n",
       "    }\n",
       "\n",
       "    .dataframe tbody tr th {\n",
       "        vertical-align: top;\n",
       "    }\n",
       "\n",
       "    .dataframe thead th {\n",
       "        text-align: right;\n",
       "    }\n",
       "</style>\n",
       "<table border=\"1\" class=\"dataframe\">\n",
       "  <thead>\n",
       "    <tr style=\"text-align: right;\">\n",
       "      <th></th>\n",
       "      <th>Availability</th>\n",
       "      <th>Floor</th>\n",
       "      <th>detail_responsive#surface_usable</th>\n",
       "      <th>Floor_space_merged</th>\n",
       "      <th>lat</th>\n",
       "      <th>lon</th>\n",
       "      <th>ForestDensityL</th>\n",
       "      <th>ForestDensityM</th>\n",
       "      <th>ForestDensityS</th>\n",
       "      <th>NoisePollutionRailwayL</th>\n",
       "      <th>...</th>\n",
       "      <th>gde_workers_total</th>\n",
       "      <th>price_cleaned</th>\n",
       "      <th>Space extracted</th>\n",
       "      <th>type_unified</th>\n",
       "      <th>Plot_area_unified</th>\n",
       "      <th>No. of rooms:</th>\n",
       "      <th>Last refurbishment:</th>\n",
       "      <th>Year built:</th>\n",
       "      <th>Number of floors:</th>\n",
       "      <th>region_group</th>\n",
       "    </tr>\n",
       "  </thead>\n",
       "  <tbody>\n",
       "    <tr>\n",
       "      <th>0</th>\n",
       "      <td>On request</td>\n",
       "      <td>4.0</td>\n",
       "      <td>0.0</td>\n",
       "      <td>NaN</td>\n",
       "      <td>47.417100</td>\n",
       "      <td>8.085600</td>\n",
       "      <td>0.511176</td>\n",
       "      <td>0.286451</td>\n",
       "      <td>0.090908</td>\n",
       "      <td>0.0</td>\n",
       "      <td>...</td>\n",
       "      <td>331.0</td>\n",
       "      <td>1150000.0</td>\n",
       "      <td>100.0</td>\n",
       "      <td>penthouse</td>\n",
       "      <td>0.0</td>\n",
       "      <td>5.0</td>\n",
       "      <td>NaN</td>\n",
       "      <td>NaN</td>\n",
       "      <td>1.0</td>\n",
       "      <td>67.0</td>\n",
       "    </tr>\n",
       "    <tr>\n",
       "      <th>1</th>\n",
       "      <td>On request</td>\n",
       "      <td>0.0</td>\n",
       "      <td>0.0</td>\n",
       "      <td>242.0</td>\n",
       "      <td>47.419500</td>\n",
       "      <td>8.082700</td>\n",
       "      <td>0.511176</td>\n",
       "      <td>0.286451</td>\n",
       "      <td>0.090908</td>\n",
       "      <td>0.0</td>\n",
       "      <td>...</td>\n",
       "      <td>331.0</td>\n",
       "      <td>1420000.0</td>\n",
       "      <td>156.0</td>\n",
       "      <td>terrace-house</td>\n",
       "      <td>222.0</td>\n",
       "      <td>5.0</td>\n",
       "      <td>NaN</td>\n",
       "      <td>NaN</td>\n",
       "      <td>1.0</td>\n",
       "      <td>67.0</td>\n",
       "    </tr>\n",
       "    <tr>\n",
       "      <th>2</th>\n",
       "      <td>Immediately</td>\n",
       "      <td>2.0</td>\n",
       "      <td>0.0</td>\n",
       "      <td>NaN</td>\n",
       "      <td>47.403300</td>\n",
       "      <td>8.033000</td>\n",
       "      <td>0.163362</td>\n",
       "      <td>0.095877</td>\n",
       "      <td>0.001911</td>\n",
       "      <td>0.0</td>\n",
       "      <td>...</td>\n",
       "      <td>33493.0</td>\n",
       "      <td>720000.0</td>\n",
       "      <td>93.0</td>\n",
       "      <td>penthouse</td>\n",
       "      <td>0.0</td>\n",
       "      <td>5.0</td>\n",
       "      <td>NaN</td>\n",
       "      <td>NaN</td>\n",
       "      <td>1.0</td>\n",
       "      <td>67.0</td>\n",
       "    </tr>\n",
       "    <tr>\n",
       "      <th>3</th>\n",
       "      <td>On request</td>\n",
       "      <td>0.0</td>\n",
       "      <td>0.0</td>\n",
       "      <td>257.0</td>\n",
       "      <td>47.415643</td>\n",
       "      <td>8.085423</td>\n",
       "      <td>0.511176</td>\n",
       "      <td>0.286451</td>\n",
       "      <td>0.090908</td>\n",
       "      <td>0.0</td>\n",
       "      <td>...</td>\n",
       "      <td>331.0</td>\n",
       "      <td>1430000.0</td>\n",
       "      <td>154.0</td>\n",
       "      <td>detached-house</td>\n",
       "      <td>370.0</td>\n",
       "      <td>5.0</td>\n",
       "      <td>NaN</td>\n",
       "      <td>NaN</td>\n",
       "      <td>1.0</td>\n",
       "      <td>67.0</td>\n",
       "    </tr>\n",
       "    <tr>\n",
       "      <th>4</th>\n",
       "      <td>On request</td>\n",
       "      <td>0.0</td>\n",
       "      <td>0.0</td>\n",
       "      <td>NaN</td>\n",
       "      <td>47.403824</td>\n",
       "      <td>8.048288</td>\n",
       "      <td>0.333865</td>\n",
       "      <td>0.279276</td>\n",
       "      <td>0.145835</td>\n",
       "      <td>0.0</td>\n",
       "      <td>...</td>\n",
       "      <td>1355.0</td>\n",
       "      <td>995000.0</td>\n",
       "      <td>142.0</td>\n",
       "      <td>flat</td>\n",
       "      <td>0.0</td>\n",
       "      <td>5.0</td>\n",
       "      <td>NaN</td>\n",
       "      <td>NaN</td>\n",
       "      <td>1.0</td>\n",
       "      <td>67.0</td>\n",
       "    </tr>\n",
       "  </tbody>\n",
       "</table>\n",
       "<p>5 rows × 61 columns</p>\n",
       "</div>"
      ]
     },
     "execution_count": 17,
     "metadata": {},
     "output_type": "execute_result"
    }
   ],
   "execution_count": 17
  },
  {
   "metadata": {
    "ExecuteTime": {
     "end_time": "2025-01-03T17:52:02.318264Z",
     "start_time": "2025-01-03T17:52:02.305360Z"
    }
   },
   "cell_type": "code",
   "source": "df = df.drop(columns=[\"Availability\",\"region_group\"])",
   "id": "d25fe4e5ee3d6472",
   "outputs": [],
   "execution_count": 18
  },
  {
   "metadata": {
    "ExecuteTime": {
     "end_time": "2025-01-03T17:52:02.480072Z",
     "start_time": "2025-01-03T17:52:02.446242Z"
    }
   },
   "cell_type": "code",
   "source": [
    "experiment_standort = [\"Floor\",\"price_cleaned\",\"detail_responsive#surface_usable\",\"Number of floors:\",\"Plot_area_unified\",\"Space extracted\",\"No. of rooms:\",\"type_unified\", \"lon\",\"lat\"]\n",
    "df_3 = df[experiment_standort].copy()\n",
    "df_3.head()"
   ],
   "id": "1c0fba0f19f8af5b",
   "outputs": [
    {
     "data": {
      "text/plain": [
       "   Floor  price_cleaned  detail_responsive#surface_usable  Number of floors:  \\\n",
       "0    4.0      1150000.0                               0.0                1.0   \n",
       "1    0.0      1420000.0                               0.0                1.0   \n",
       "2    2.0       720000.0                               0.0                1.0   \n",
       "3    0.0      1430000.0                               0.0                1.0   \n",
       "4    0.0       995000.0                               0.0                1.0   \n",
       "\n",
       "   Plot_area_unified  Space extracted  No. of rooms:    type_unified  \\\n",
       "0                0.0            100.0            5.0       penthouse   \n",
       "1              222.0            156.0            5.0   terrace-house   \n",
       "2                0.0             93.0            5.0       penthouse   \n",
       "3              370.0            154.0            5.0  detached-house   \n",
       "4                0.0            142.0            5.0            flat   \n",
       "\n",
       "        lon        lat  \n",
       "0  8.085600  47.417100  \n",
       "1  8.082700  47.419500  \n",
       "2  8.033000  47.403300  \n",
       "3  8.085423  47.415643  \n",
       "4  8.048288  47.403824  "
      ],
      "text/html": [
       "<div>\n",
       "<style scoped>\n",
       "    .dataframe tbody tr th:only-of-type {\n",
       "        vertical-align: middle;\n",
       "    }\n",
       "\n",
       "    .dataframe tbody tr th {\n",
       "        vertical-align: top;\n",
       "    }\n",
       "\n",
       "    .dataframe thead th {\n",
       "        text-align: right;\n",
       "    }\n",
       "</style>\n",
       "<table border=\"1\" class=\"dataframe\">\n",
       "  <thead>\n",
       "    <tr style=\"text-align: right;\">\n",
       "      <th></th>\n",
       "      <th>Floor</th>\n",
       "      <th>price_cleaned</th>\n",
       "      <th>detail_responsive#surface_usable</th>\n",
       "      <th>Number of floors:</th>\n",
       "      <th>Plot_area_unified</th>\n",
       "      <th>Space extracted</th>\n",
       "      <th>No. of rooms:</th>\n",
       "      <th>type_unified</th>\n",
       "      <th>lon</th>\n",
       "      <th>lat</th>\n",
       "    </tr>\n",
       "  </thead>\n",
       "  <tbody>\n",
       "    <tr>\n",
       "      <th>0</th>\n",
       "      <td>4.0</td>\n",
       "      <td>1150000.0</td>\n",
       "      <td>0.0</td>\n",
       "      <td>1.0</td>\n",
       "      <td>0.0</td>\n",
       "      <td>100.0</td>\n",
       "      <td>5.0</td>\n",
       "      <td>penthouse</td>\n",
       "      <td>8.085600</td>\n",
       "      <td>47.417100</td>\n",
       "    </tr>\n",
       "    <tr>\n",
       "      <th>1</th>\n",
       "      <td>0.0</td>\n",
       "      <td>1420000.0</td>\n",
       "      <td>0.0</td>\n",
       "      <td>1.0</td>\n",
       "      <td>222.0</td>\n",
       "      <td>156.0</td>\n",
       "      <td>5.0</td>\n",
       "      <td>terrace-house</td>\n",
       "      <td>8.082700</td>\n",
       "      <td>47.419500</td>\n",
       "    </tr>\n",
       "    <tr>\n",
       "      <th>2</th>\n",
       "      <td>2.0</td>\n",
       "      <td>720000.0</td>\n",
       "      <td>0.0</td>\n",
       "      <td>1.0</td>\n",
       "      <td>0.0</td>\n",
       "      <td>93.0</td>\n",
       "      <td>5.0</td>\n",
       "      <td>penthouse</td>\n",
       "      <td>8.033000</td>\n",
       "      <td>47.403300</td>\n",
       "    </tr>\n",
       "    <tr>\n",
       "      <th>3</th>\n",
       "      <td>0.0</td>\n",
       "      <td>1430000.0</td>\n",
       "      <td>0.0</td>\n",
       "      <td>1.0</td>\n",
       "      <td>370.0</td>\n",
       "      <td>154.0</td>\n",
       "      <td>5.0</td>\n",
       "      <td>detached-house</td>\n",
       "      <td>8.085423</td>\n",
       "      <td>47.415643</td>\n",
       "    </tr>\n",
       "    <tr>\n",
       "      <th>4</th>\n",
       "      <td>0.0</td>\n",
       "      <td>995000.0</td>\n",
       "      <td>0.0</td>\n",
       "      <td>1.0</td>\n",
       "      <td>0.0</td>\n",
       "      <td>142.0</td>\n",
       "      <td>5.0</td>\n",
       "      <td>flat</td>\n",
       "      <td>8.048288</td>\n",
       "      <td>47.403824</td>\n",
       "    </tr>\n",
       "  </tbody>\n",
       "</table>\n",
       "</div>"
      ]
     },
     "execution_count": 19,
     "metadata": {},
     "output_type": "execute_result"
    }
   ],
   "execution_count": 19
  },
  {
   "metadata": {
    "ExecuteTime": {
     "end_time": "2025-01-03T17:52:02.736928Z",
     "start_time": "2025-01-03T17:52:02.720461Z"
    }
   },
   "cell_type": "code",
   "source": "df_3.info()",
   "id": "97eb2b73b4f0578f",
   "outputs": [
    {
     "name": "stdout",
     "output_type": "stream",
     "text": [
      "<class 'pandas.core.frame.DataFrame'>\n",
      "Index: 20809 entries, 0 to 22480\n",
      "Data columns (total 10 columns):\n",
      " #   Column                            Non-Null Count  Dtype  \n",
      "---  ------                            --------------  -----  \n",
      " 0   Floor                             17684 non-null  float64\n",
      " 1   price_cleaned                     20809 non-null  float64\n",
      " 2   detail_responsive#surface_usable  20809 non-null  float64\n",
      " 3   Number of floors:                 20809 non-null  float64\n",
      " 4   Plot_area_unified                 20809 non-null  float64\n",
      " 5   Space extracted                   19923 non-null  float64\n",
      " 6   No. of rooms:                     20185 non-null  float64\n",
      " 7   type_unified                      20809 non-null  object \n",
      " 8   lon                               20809 non-null  float64\n",
      " 9   lat                               20809 non-null  float64\n",
      "dtypes: float64(9), object(1)\n",
      "memory usage: 1.7+ MB\n"
     ]
    }
   ],
   "execution_count": 20
  },
  {
   "metadata": {
    "ExecuteTime": {
     "end_time": "2025-01-03T17:52:08.664289Z",
     "start_time": "2025-01-03T17:52:03.044611Z"
    }
   },
   "cell_type": "code",
   "source": [
    "class KMeansClusterer(BaseEstimator, TransformerMixin):\n",
    "    def __init__(self, n_clusters=50):\n",
    "        self.n_clusters = n_clusters\n",
    "        self.kmeans = KMeans(n_clusters=n_clusters, random_state=42)\n",
    "\n",
    "    def fit(self, X, y=None):\n",
    "        self.kmeans.fit(X)\n",
    "        return self\n",
    "\n",
    "    def transform(self, X):\n",
    "        cluster_labels = self.kmeans.predict(X)\n",
    "        return pd.DataFrame(cluster_labels, columns=[\"region_group\"], index=X.index)\n",
    "\n",
    "# Define features\n",
    "numeric_features = [\n",
    "    \"Floor\",\n",
    "    \"detail_responsive#surface_usable\",\n",
    "    \"Number of floors:\",\n",
    "    \"Plot_area_unified\",\n",
    "    \"Space extracted\",\n",
    "    \"No. of rooms:\",\n",
    "]\n",
    "categorical_features = [\"type_unified\"]\n",
    "\n",
    "# Step 1: KMeans clustering pipeline for `lon` and `lat`\n",
    "kmeans_pipeline = Pipeline(steps=[\n",
    "    ('kmeans', KMeansClusterer(n_clusters=50))\n",
    "])\n",
    "\n",
    "# Apply KMeans clustering to extract region groups\n",
    "region_group = kmeans_pipeline.fit_transform(df_3[['lon', 'lat']])\n",
    "df_3['region_group'] = region_group.values\n",
    "\n",
    "# Step 2: Preprocessing pipeline\n",
    "# Preprocessing pipeline for numeric features\n",
    "numeric_transformer = Pipeline(steps=[\n",
    "    ('imputer', KNNImputer(n_neighbors=5)),\n",
    "    ('scaler', StandardScaler())\n",
    "])\n",
    "\n",
    "# Preprocessing pipeline for categorical features\n",
    "categorical_transformer = Pipeline(steps=[\n",
    "    ('onehot', OneHotEncoder(drop='first'))\n",
    "])\n",
    "\n",
    "# Combine preprocessing steps\n",
    "preprocessor = ColumnTransformer(\n",
    "    transformers=[\n",
    "        ('num', numeric_transformer, numeric_features),\n",
    "        ('cat', categorical_transformer, categorical_features + ['region_group'])\n",
    "    ]\n",
    ")\n",
    "\n",
    "# Prepare data for training\n",
    "X = df.drop(columns=[\"price_cleaned\"])  # Features\n",
    "y = np.log(df[\"price_cleaned\"])         # Target variable (log-transformed)\n",
    "X_train, X_test, y_train, y_test = train_test_split(X, y, test_size=0.2, shuffle=True, random_state=42)\n",
    "\n",
    "# Apply KMeans clustering to train and test sets\n",
    "region_group_train = kmeans_pipeline.fit_transform(X_train[['lon', 'lat']])\n",
    "region_group_test = kmeans_pipeline.transform(X_test[['lon', 'lat']])\n",
    "X_train['region_group'] = region_group_train.values\n",
    "X_test['region_group'] = region_group_test.values\n",
    "\n",
    "# Preprocess the data\n",
    "X_train = preprocessor.fit_transform(X_train)\n",
    "X_test = preprocessor.transform(X_test)\n"
   ],
   "id": "72220e16c904cff4",
   "outputs": [],
   "execution_count": 21
  },
  {
   "metadata": {
    "ExecuteTime": {
     "end_time": "2025-01-03T17:52:28.545054Z",
     "start_time": "2025-01-03T17:52:22.217312Z"
    }
   },
   "cell_type": "code",
   "source": [
    "model = LinearRegression()\n",
    "model.fit(X_train, y_train)\n",
    "\n",
    "\n",
    "joblib.dump(kmeans_pipeline, \"../webserver/kmeans_clusterer.pkl\")\n",
    "joblib.dump(preprocessor, \"../webserver/preprocessor.pkl\")\n",
    "joblib.dump(model, \"../webserver/linear_model.pkl\")\n",
    "\n",
    "# Load and use in prediction\n",
    "loaded_kmeans = joblib.load(\"../webserver/kmeans_clusterer.pkl\")\n",
    "loaded_preprocessor = joblib.load(\"../webserver/preprocessor.pkl\")\n",
    "loaded_model = joblib.load(\"../webserver/linear_model.pkl\")\n",
    "\n",
    "# Prepare input data\n",
    "region_group2 = loaded_kmeans.transform(X[['lon', 'lat']])\n",
    "X['region_group'] = region_group2.values\n",
    "X_test_preprocessed = loaded_preprocessor.transform(X)\n",
    "y_pred = loaded_model.predict(X_test_preprocessed)\n",
    "\n",
    "# Reverse log transformation for readability\n",
    "y_pred_exp = np.exp(y_pred)\n",
    "print(y_pred_exp)"
   ],
   "id": "df47dc3d2dc8a930",
   "outputs": [
    {
     "name": "stdout",
     "output_type": "stream",
     "text": [
      "[ 933385.55593722  923594.19266872  928960.73107777 ... 1426432.40980211\n",
      " 1214029.86790705 1594821.15751964]\n"
     ]
    }
   ],
   "execution_count": 23
  },
  {
   "metadata": {
    "ExecuteTime": {
     "end_time": "2025-01-03T17:50:20.612172600Z",
     "start_time": "2025-01-03T17:29:13.039003Z"
    }
   },
   "cell_type": "code",
   "source": "",
   "id": "48ea941441940559",
   "outputs": [],
   "execution_count": null
  },
  {
   "metadata": {},
   "cell_type": "code",
   "outputs": [],
   "execution_count": null,
   "source": "",
   "id": "2c68b1401571f766"
  }
 ],
 "metadata": {
  "kernelspec": {
   "display_name": "Python 3",
   "language": "python",
   "name": "python3"
  },
  "language_info": {
   "codemirror_mode": {
    "name": "ipython",
    "version": 2
   },
   "file_extension": ".py",
   "mimetype": "text/x-python",
   "name": "python",
   "nbconvert_exporter": "python",
   "pygments_lexer": "ipython2",
   "version": "2.7.6"
  }
 },
 "nbformat": 4,
 "nbformat_minor": 5
}

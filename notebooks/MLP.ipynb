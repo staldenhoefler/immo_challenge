{
 "cells": [
  {
   "cell_type": "markdown",
   "source": [
    "# Multi Layer Perceptron"
   ],
   "metadata": {
    "collapsed": false
   },
   "id": "448eee665b4d2983"
  },
  {
   "cell_type": "code",
   "execution_count": 1,
   "id": "initial_id",
   "metadata": {
    "collapsed": true,
    "ExecuteTime": {
     "end_time": "2025-01-12T18:00:01.609155700Z",
     "start_time": "2025-01-12T17:58:31.677831300Z"
    }
   },
   "outputs": [
    {
     "name": "stderr",
     "output_type": "stream",
     "text": [
      "C:\\FHNW_Programmiersachen\\5_Sem\\immo_challenge\\src\\dataPipeline.py:45: DtypeWarning: Columns (3,4,5,6,11,13,14,15,16,17,18,19,20,21,22,23,24,25,26,27,28,29,30,31,32,33,34,35,36,37,38,39,40,41,42,43,45,46,47,49,50,107,110,114,115,116,119,120,121,124,125,126,128,131,132) have mixed types. Specify dtype option on import or set low_memory=False.\n",
      "  self.data = pd.read_csv(filePath)\n",
      "C:\\FHNW_Programmiersachen\\5_Sem\\immo_challenge\\src\\dataPipeline.py:72: FutureWarning: Downcasting object dtype arrays on .fillna, .ffill, .bfill is deprecated and will change in a future version. Call result.infer_objects(copy=False) instead. To opt-in to the future behavior, set `pd.set_option('future.no_silent_downcasting', True)`\n",
      "  ]].bfill(axis=1)['Space extracted']\n",
      "C:\\FHNW_Programmiersachen\\5_Sem\\immo_challenge\\src\\dataPipeline.py:77: FutureWarning: Downcasting object dtype arrays on .fillna, .ffill, .bfill is deprecated and will change in a future version. Call result.infer_objects(copy=False) instead. To opt-in to the future behavior, set `pd.set_option('future.no_silent_downcasting', True)`\n",
      "  ]].bfill(axis=1)['Plot_area_unified']\n",
      "C:\\FHNW_Programmiersachen\\5_Sem\\immo_challenge\\src\\dataPipeline.py:83: FutureWarning: Downcasting object dtype arrays on .fillna, .ffill, .bfill is deprecated and will change in a future version. Call result.infer_objects(copy=False) instead. To opt-in to the future behavior, set `pd.set_option('future.no_silent_downcasting', True)`\n",
      "  ]].bfill(axis=1)['Availability']\n"
     ]
    }
   ],
   "source": [
    "import pandas as pd\n",
    "from sklearn.impute import SimpleImputer, KNNImputer\n",
    "import os\n",
    "from src.dataPipeline import DataPipeline\n",
    "\n",
    "\n",
    "os.chdir('..')\n",
    "\n",
    "imputer = KNNImputer(n_neighbors=5)\n",
    "dp = DataPipeline()\n",
    "df = dp.runPipeline(normalizeAndStandardize=False, basic_house_imputer=True, imputer=imputer)"
   ]
  },
  {
   "cell_type": "code",
   "outputs": [
    {
     "name": "stdout",
     "output_type": "stream",
     "text": [
      "input nums: 153\n"
     ]
    }
   ],
   "source": [
    "inputs_nums = len(df.columns) - 1\n",
    "print(f'input nums: {inputs_nums}')"
   ],
   "metadata": {
    "collapsed": false,
    "ExecuteTime": {
     "end_time": "2025-01-12T18:00:01.613837900Z",
     "start_time": "2025-01-12T18:00:01.610156800Z"
    }
   },
   "id": "4cb72ead071d529e",
   "execution_count": 2
  },
  {
   "cell_type": "code",
   "outputs": [
    {
     "data": {
      "text/plain": "       Floor  ForestDensityL  ForestDensityM  ForestDensityS  \\\n0        4.0        0.511176        0.286451        0.090908   \n1        0.0        0.511176        0.286451        0.090908   \n2        2.0        0.163362        0.095877        0.001911   \n3        0.0        0.511176        0.286451        0.090908   \n4        0.0        0.333865        0.279276        0.145835   \n...      ...             ...             ...             ...   \n22476    0.0        0.495715        0.385885        0.097278   \n22477    1.6        0.000000        0.000000        0.000000   \n22478    0.0        0.000000        0.000000        0.000000   \n22479    0.8        0.410843        0.151363        0.038351   \n22480    0.0        0.284828        0.153670        0.113892   \n\n       NoisePollutionRailwayL  NoisePollutionRailwayM  NoisePollutionRailwayS  \\\n0                    0.000000                0.000000                0.000000   \n1                    0.000000                0.000000                0.000000   \n2                    0.000000                0.000000                0.000000   \n3                    0.000000                0.000000                0.000000   \n4                    0.000000                0.000000                0.000000   \n...                       ...                     ...                     ...   \n22476                0.000000                0.000000                0.000000   \n22477                0.000000                0.000000                0.000000   \n22478                0.052609                0.083575                0.027766   \n22479                0.000000                0.000000                0.000000   \n22480                0.020078                0.020966                0.010568   \n\n       NoisePollutionRoadL  NoisePollutionRoadM  NoisePollutionRoadS  ...  \\\n0                 0.058298             0.067048             0.103850  ...   \n1                 0.058298             0.067048             0.103850  ...   \n2                 0.334957             0.381257             0.297575  ...   \n3                 0.058298             0.067048             0.103850  ...   \n4                 0.133498             0.132933             0.235917  ...   \n...                    ...                  ...                  ...  ...   \n22476             0.236514             0.333301             0.404824  ...   \n22477             0.325610             0.384754             0.473527  ...   \n22478             0.306761             0.311963             0.249603  ...   \n22479             0.198066             0.269398             0.306468  ...   \n22480             0.221735             0.278728             0.398407  ...   \n\n       region_group_40  region_group_41  region_group_42  region_group_43  \\\n0                  0.0              0.0              0.0              0.0   \n1                  0.0              0.0              0.0              0.0   \n2                  0.0              0.0              0.0              0.0   \n3                  0.0              0.0              0.0              0.0   \n4                  0.0              0.0              0.0              0.0   \n...                ...              ...              ...              ...   \n22476              0.0              0.0              0.0              0.0   \n22477              0.0              0.0              0.0              0.0   \n22478              0.0              0.0              0.0              0.0   \n22479              0.0              0.0              0.0              0.0   \n22480              0.0              0.0              0.0              0.0   \n\n       region_group_44  region_group_45  region_group_46  region_group_47  \\\n0                  0.0              0.0              0.0              0.0   \n1                  0.0              0.0              0.0              0.0   \n2                  0.0              0.0              0.0              0.0   \n3                  0.0              0.0              0.0              0.0   \n4                  0.0              0.0              0.0              0.0   \n...                ...              ...              ...              ...   \n22476              0.0              0.0              0.0              0.0   \n22477              0.0              0.0              0.0              0.0   \n22478              0.0              0.0              0.0              0.0   \n22479              0.0              0.0              0.0              1.0   \n22480              0.0              0.0              0.0              0.0   \n\n       region_group_48  region_group_49  \n0                  0.0              0.0  \n1                  0.0              0.0  \n2                  0.0              0.0  \n3                  0.0              0.0  \n4                  0.0              0.0  \n...                ...              ...  \n22476              0.0              0.0  \n22477              0.0              0.0  \n22478              0.0              0.0  \n22479              0.0              0.0  \n22480              0.0              0.0  \n\n[20777 rows x 154 columns]",
      "text/html": "<div>\n<style scoped>\n    .dataframe tbody tr th:only-of-type {\n        vertical-align: middle;\n    }\n\n    .dataframe tbody tr th {\n        vertical-align: top;\n    }\n\n    .dataframe thead th {\n        text-align: right;\n    }\n</style>\n<table border=\"1\" class=\"dataframe\">\n  <thead>\n    <tr style=\"text-align: right;\">\n      <th></th>\n      <th>Floor</th>\n      <th>ForestDensityL</th>\n      <th>ForestDensityM</th>\n      <th>ForestDensityS</th>\n      <th>NoisePollutionRailwayL</th>\n      <th>NoisePollutionRailwayM</th>\n      <th>NoisePollutionRailwayS</th>\n      <th>NoisePollutionRoadL</th>\n      <th>NoisePollutionRoadM</th>\n      <th>NoisePollutionRoadS</th>\n      <th>...</th>\n      <th>region_group_40</th>\n      <th>region_group_41</th>\n      <th>region_group_42</th>\n      <th>region_group_43</th>\n      <th>region_group_44</th>\n      <th>region_group_45</th>\n      <th>region_group_46</th>\n      <th>region_group_47</th>\n      <th>region_group_48</th>\n      <th>region_group_49</th>\n    </tr>\n  </thead>\n  <tbody>\n    <tr>\n      <th>0</th>\n      <td>4.0</td>\n      <td>0.511176</td>\n      <td>0.286451</td>\n      <td>0.090908</td>\n      <td>0.000000</td>\n      <td>0.000000</td>\n      <td>0.000000</td>\n      <td>0.058298</td>\n      <td>0.067048</td>\n      <td>0.103850</td>\n      <td>...</td>\n      <td>0.0</td>\n      <td>0.0</td>\n      <td>0.0</td>\n      <td>0.0</td>\n      <td>0.0</td>\n      <td>0.0</td>\n      <td>0.0</td>\n      <td>0.0</td>\n      <td>0.0</td>\n      <td>0.0</td>\n    </tr>\n    <tr>\n      <th>1</th>\n      <td>0.0</td>\n      <td>0.511176</td>\n      <td>0.286451</td>\n      <td>0.090908</td>\n      <td>0.000000</td>\n      <td>0.000000</td>\n      <td>0.000000</td>\n      <td>0.058298</td>\n      <td>0.067048</td>\n      <td>0.103850</td>\n      <td>...</td>\n      <td>0.0</td>\n      <td>0.0</td>\n      <td>0.0</td>\n      <td>0.0</td>\n      <td>0.0</td>\n      <td>0.0</td>\n      <td>0.0</td>\n      <td>0.0</td>\n      <td>0.0</td>\n      <td>0.0</td>\n    </tr>\n    <tr>\n      <th>2</th>\n      <td>2.0</td>\n      <td>0.163362</td>\n      <td>0.095877</td>\n      <td>0.001911</td>\n      <td>0.000000</td>\n      <td>0.000000</td>\n      <td>0.000000</td>\n      <td>0.334957</td>\n      <td>0.381257</td>\n      <td>0.297575</td>\n      <td>...</td>\n      <td>0.0</td>\n      <td>0.0</td>\n      <td>0.0</td>\n      <td>0.0</td>\n      <td>0.0</td>\n      <td>0.0</td>\n      <td>0.0</td>\n      <td>0.0</td>\n      <td>0.0</td>\n      <td>0.0</td>\n    </tr>\n    <tr>\n      <th>3</th>\n      <td>0.0</td>\n      <td>0.511176</td>\n      <td>0.286451</td>\n      <td>0.090908</td>\n      <td>0.000000</td>\n      <td>0.000000</td>\n      <td>0.000000</td>\n      <td>0.058298</td>\n      <td>0.067048</td>\n      <td>0.103850</td>\n      <td>...</td>\n      <td>0.0</td>\n      <td>0.0</td>\n      <td>0.0</td>\n      <td>0.0</td>\n      <td>0.0</td>\n      <td>0.0</td>\n      <td>0.0</td>\n      <td>0.0</td>\n      <td>0.0</td>\n      <td>0.0</td>\n    </tr>\n    <tr>\n      <th>4</th>\n      <td>0.0</td>\n      <td>0.333865</td>\n      <td>0.279276</td>\n      <td>0.145835</td>\n      <td>0.000000</td>\n      <td>0.000000</td>\n      <td>0.000000</td>\n      <td>0.133498</td>\n      <td>0.132933</td>\n      <td>0.235917</td>\n      <td>...</td>\n      <td>0.0</td>\n      <td>0.0</td>\n      <td>0.0</td>\n      <td>0.0</td>\n      <td>0.0</td>\n      <td>0.0</td>\n      <td>0.0</td>\n      <td>0.0</td>\n      <td>0.0</td>\n      <td>0.0</td>\n    </tr>\n    <tr>\n      <th>...</th>\n      <td>...</td>\n      <td>...</td>\n      <td>...</td>\n      <td>...</td>\n      <td>...</td>\n      <td>...</td>\n      <td>...</td>\n      <td>...</td>\n      <td>...</td>\n      <td>...</td>\n      <td>...</td>\n      <td>...</td>\n      <td>...</td>\n      <td>...</td>\n      <td>...</td>\n      <td>...</td>\n      <td>...</td>\n      <td>...</td>\n      <td>...</td>\n      <td>...</td>\n      <td>...</td>\n    </tr>\n    <tr>\n      <th>22476</th>\n      <td>0.0</td>\n      <td>0.495715</td>\n      <td>0.385885</td>\n      <td>0.097278</td>\n      <td>0.000000</td>\n      <td>0.000000</td>\n      <td>0.000000</td>\n      <td>0.236514</td>\n      <td>0.333301</td>\n      <td>0.404824</td>\n      <td>...</td>\n      <td>0.0</td>\n      <td>0.0</td>\n      <td>0.0</td>\n      <td>0.0</td>\n      <td>0.0</td>\n      <td>0.0</td>\n      <td>0.0</td>\n      <td>0.0</td>\n      <td>0.0</td>\n      <td>0.0</td>\n    </tr>\n    <tr>\n      <th>22477</th>\n      <td>1.6</td>\n      <td>0.000000</td>\n      <td>0.000000</td>\n      <td>0.000000</td>\n      <td>0.000000</td>\n      <td>0.000000</td>\n      <td>0.000000</td>\n      <td>0.325610</td>\n      <td>0.384754</td>\n      <td>0.473527</td>\n      <td>...</td>\n      <td>0.0</td>\n      <td>0.0</td>\n      <td>0.0</td>\n      <td>0.0</td>\n      <td>0.0</td>\n      <td>0.0</td>\n      <td>0.0</td>\n      <td>0.0</td>\n      <td>0.0</td>\n      <td>0.0</td>\n    </tr>\n    <tr>\n      <th>22478</th>\n      <td>0.0</td>\n      <td>0.000000</td>\n      <td>0.000000</td>\n      <td>0.000000</td>\n      <td>0.052609</td>\n      <td>0.083575</td>\n      <td>0.027766</td>\n      <td>0.306761</td>\n      <td>0.311963</td>\n      <td>0.249603</td>\n      <td>...</td>\n      <td>0.0</td>\n      <td>0.0</td>\n      <td>0.0</td>\n      <td>0.0</td>\n      <td>0.0</td>\n      <td>0.0</td>\n      <td>0.0</td>\n      <td>0.0</td>\n      <td>0.0</td>\n      <td>0.0</td>\n    </tr>\n    <tr>\n      <th>22479</th>\n      <td>0.8</td>\n      <td>0.410843</td>\n      <td>0.151363</td>\n      <td>0.038351</td>\n      <td>0.000000</td>\n      <td>0.000000</td>\n      <td>0.000000</td>\n      <td>0.198066</td>\n      <td>0.269398</td>\n      <td>0.306468</td>\n      <td>...</td>\n      <td>0.0</td>\n      <td>0.0</td>\n      <td>0.0</td>\n      <td>0.0</td>\n      <td>0.0</td>\n      <td>0.0</td>\n      <td>0.0</td>\n      <td>1.0</td>\n      <td>0.0</td>\n      <td>0.0</td>\n    </tr>\n    <tr>\n      <th>22480</th>\n      <td>0.0</td>\n      <td>0.284828</td>\n      <td>0.153670</td>\n      <td>0.113892</td>\n      <td>0.020078</td>\n      <td>0.020966</td>\n      <td>0.010568</td>\n      <td>0.221735</td>\n      <td>0.278728</td>\n      <td>0.398407</td>\n      <td>...</td>\n      <td>0.0</td>\n      <td>0.0</td>\n      <td>0.0</td>\n      <td>0.0</td>\n      <td>0.0</td>\n      <td>0.0</td>\n      <td>0.0</td>\n      <td>0.0</td>\n      <td>0.0</td>\n      <td>0.0</td>\n    </tr>\n  </tbody>\n</table>\n<p>20777 rows × 154 columns</p>\n</div>"
     },
     "execution_count": 3,
     "metadata": {},
     "output_type": "execute_result"
    }
   ],
   "source": [
    "df"
   ],
   "metadata": {
    "collapsed": false,
    "ExecuteTime": {
     "end_time": "2025-01-12T18:00:01.659759500Z",
     "start_time": "2025-01-12T18:00:01.616868700Z"
    }
   },
   "id": "2384d723e80bcf2e",
   "execution_count": 3
  },
  {
   "cell_type": "code",
   "outputs": [
    {
     "data": {
      "text/plain": "<IPython.core.display.HTML object>",
      "text/html": "Finishing last run (ID:aoku1u6d) before initializing another..."
     },
     "metadata": {},
     "output_type": "display_data"
    },
    {
     "data": {
      "text/plain": "<IPython.core.display.HTML object>",
      "text/html": " View run <strong style=\"color:#cdcd00\">MLP-bs16-lr0.001</strong> at: <a href='https://wandb.ai/denis-schatzmann/Immo-Challenge/runs/aoku1u6d' target=\"_blank\">https://wandb.ai/denis-schatzmann/Immo-Challenge/runs/aoku1u6d</a><br/> View project at: <a href='https://wandb.ai/denis-schatzmann/Immo-Challenge' target=\"_blank\">https://wandb.ai/denis-schatzmann/Immo-Challenge</a><br/>Synced 5 W&B file(s), 0 media file(s), 0 artifact file(s) and 0 other file(s)"
     },
     "metadata": {},
     "output_type": "display_data"
    },
    {
     "data": {
      "text/plain": "<IPython.core.display.HTML object>",
      "text/html": "Find logs at: <code>.\\wandb\\run-20250112_190005-aoku1u6d\\logs</code>"
     },
     "metadata": {},
     "output_type": "display_data"
    },
    {
     "data": {
      "text/plain": "<IPython.core.display.HTML object>",
      "text/html": "Successfully finished last run (ID:aoku1u6d). Initializing new run:<br/>"
     },
     "metadata": {},
     "output_type": "display_data"
    },
    {
     "data": {
      "text/plain": "<IPython.core.display.HTML object>",
      "text/html": "Tracking run with wandb version 0.18.5"
     },
     "metadata": {},
     "output_type": "display_data"
    },
    {
     "data": {
      "text/plain": "<IPython.core.display.HTML object>",
      "text/html": "Run data is saved locally in <code>C:\\FHNW_Programmiersachen\\5_Sem\\immo_challenge\\wandb\\run-20250112_190041-3z55jnjw</code>"
     },
     "metadata": {},
     "output_type": "display_data"
    },
    {
     "data": {
      "text/plain": "<IPython.core.display.HTML object>",
      "text/html": "Syncing run <strong><a href='https://wandb.ai/denis-schatzmann/Immo-Challenge/runs/3z55jnjw' target=\"_blank\">MLP-bs16-lr0.001</a></strong> to <a href='https://wandb.ai/denis-schatzmann/Immo-Challenge' target=\"_blank\">Weights & Biases</a> (<a href='https://wandb.me/run' target=\"_blank\">docs</a>)<br/>"
     },
     "metadata": {},
     "output_type": "display_data"
    },
    {
     "data": {
      "text/plain": "<IPython.core.display.HTML object>",
      "text/html": " View project at <a href='https://wandb.ai/denis-schatzmann/Immo-Challenge' target=\"_blank\">https://wandb.ai/denis-schatzmann/Immo-Challenge</a>"
     },
     "metadata": {},
     "output_type": "display_data"
    },
    {
     "data": {
      "text/plain": "<IPython.core.display.HTML object>",
      "text/html": " View run at <a href='https://wandb.ai/denis-schatzmann/Immo-Challenge/runs/3z55jnjw' target=\"_blank\">https://wandb.ai/denis-schatzmann/Immo-Challenge/runs/3z55jnjw</a>"
     },
     "metadata": {},
     "output_type": "display_data"
    },
    {
     "name": "stdout",
     "output_type": "stream",
     "text": [
      "Epoch 1, Loss: 7.564298032624316, Train MAPE: 71.65832618661977, Test MAPE: 88.9227806017949\n",
      "Epoch 2, Loss: 0.40936919299597, Train MAPE: 62.977484261565074, Test MAPE: 54.394035786848804\n",
      "Epoch 3, Loss: 0.293204377662602, Train MAPE: 45.366987583611994, Test MAPE: 53.01071020273062\n",
      "Epoch 4, Loss: 0.257777081348927, Train MAPE: 6000.451669433234, Test MAPE: 51.69913988113403\n",
      "Epoch 5, Loss: 0.22868211564892066, Train MAPE: 75.6402254719592, Test MAPE: 55.01588702568641\n",
      "Epoch 6, Loss: 0.19894104756422062, Train MAPE: 33.12465488554998, Test MAPE: 39.077989790989804\n",
      "Epoch 7, Loss: 0.17909800248889252, Train MAPE: 31.4784502693962, Test MAPE: 37.63111620682936\n",
      "Epoch 8, Loss: 0.16727307574380695, Train MAPE: 31.13041694813674, Test MAPE: 37.58206839194665\n",
      "Epoch 9, Loss: 0.15813035046981147, Train MAPE: 30.52576920341367, Test MAPE: 36.535824394226076\n",
      "Epoch 10, Loss: 0.15008135665749506, Train MAPE: 29.86369902727349, Test MAPE: 36.145774364471436\n",
      "Epoch 11, Loss: 0.14412436048079844, Train MAPE: 30.613287122577745, Test MAPE: 37.310693117288444\n",
      "Epoch 12, Loss: 0.1382939309559411, Train MAPE: 26.252914397503115, Test MAPE: 32.8215231015132\n",
      "Epoch 13, Loss: 0.13348944500067178, Train MAPE: 32.397146481981174, Test MAPE: 39.63731501652644\n",
      "Epoch 14, Loss: 0.12937692059087455, Train MAPE: 26.835257181419102, Test MAPE: 33.58415883137629\n",
      "Epoch 15, Loss: 0.12560769679299102, Train MAPE: 28.352630088372916, Test MAPE: 34.936165831639215\n",
      "Epoch 16, Loss: 0.12246885227399795, Train MAPE: 25.98594421830971, Test MAPE: 32.92679987320533\n",
      "Epoch 17, Loss: 0.1195460638682124, Train MAPE: 25.87773953044036, Test MAPE: 32.94194302558899\n",
      "Epoch 18, Loss: 0.1166492553232408, Train MAPE: 25.0447242120003, Test MAPE: 32.57996072035569\n",
      "Epoch 19, Loss: 0.11447231849804305, Train MAPE: 26.536442996218756, Test MAPE: 34.20583784030034\n",
      "Epoch 20, Loss: 0.11202739216602399, Train MAPE: 23.293330301793294, Test MAPE: 29.89560972727262\n",
      "Epoch 21, Loss: 0.10945138849203292, Train MAPE: 23.771624206234563, Test MAPE: 31.00413009936993\n",
      "Epoch 22, Loss: 0.10786388084629445, Train MAPE: 23.990375850152464, Test MAPE: 31.443035984039305\n",
      "Epoch 23, Loss: 0.10599331264460282, Train MAPE: 24.19298279113329, Test MAPE: 31.830102997559766\n",
      "Epoch 24, Loss: 0.10472935357483334, Train MAPE: 26.163376458455325, Test MAPE: 34.40212605549739\n",
      "Epoch 25, Loss: 0.102831806148527, Train MAPE: 23.386478470883997, Test MAPE: 31.108460037524882\n",
      "Epoch 26, Loss: 0.10145965779847371, Train MAPE: 22.482413742608813, Test MAPE: 30.20151020196768\n",
      "Epoch 27, Loss: 0.10035268981206921, Train MAPE: 21.677897082485753, Test MAPE: 29.273920836815467\n",
      "Epoch 28, Loss: 0.0984526386859184, Train MAPE: 22.961361355455708, Test MAPE: 31.151770613743707\n",
      "Epoch 29, Loss: 0.0970231607391412, Train MAPE: 28.59043711532872, Test MAPE: 36.925787115097044\n",
      "Epoch 30, Loss: 0.09658142884062017, Train MAPE: 22.938428759460155, Test MAPE: 31.088372465280386\n",
      "Epoch 31, Loss: 0.09536422560882465, Train MAPE: 23.060361398654678, Test MAPE: 31.73027582168579\n",
      "Epoch 32, Loss: 0.09453344489945255, Train MAPE: 21.55704043207545, Test MAPE: 29.79096450805664\n",
      "Epoch 33, Loss: 0.09338454988850522, Train MAPE: 23.73593181411846, Test MAPE: 32.27049495623662\n",
      "Epoch 34, Loss: 0.09228281492656017, Train MAPE: 21.728564211906896, Test MAPE: 30.281382971543533\n",
      "Epoch 35, Loss: 0.09149295950614998, Train MAPE: 21.54753188609618, Test MAPE: 30.022264671325683\n",
      "Epoch 36, Loss: 0.09030994229266084, Train MAPE: 22.44057572404276, Test MAPE: 31.305291887430045\n",
      "Epoch 37, Loss: 0.08964774727685103, Train MAPE: 21.30005567365248, Test MAPE: 29.717597678991464\n",
      "Epoch 38, Loss: 0.08873531151620297, Train MAPE: 21.138213159489563, Test MAPE: 29.953084729268\n",
      "Epoch 39, Loss: 0.08778645824623062, Train MAPE: 22.546004852500527, Test MAPE: 31.366945318075327\n",
      "Epoch 40, Loss: 0.08732408088568286, Train MAPE: 21.793444575657627, Test MAPE: 30.50229569215041\n",
      "Epoch 41, Loss: 0.08633678565760922, Train MAPE: 20.636080674877295, Test MAPE: 29.036291551589965\n",
      "Epoch 42, Loss: 0.08593617439273606, Train MAPE: 23.462461240252587, Test MAPE: 32.141130858201244\n",
      "Epoch 43, Loss: 0.08534365885329, Train MAPE: 21.037888098267892, Test MAPE: 29.828741135964027\n",
      "Epoch 44, Loss: 0.08446168855435006, Train MAPE: 24.185991122013565, Test MAPE: 33.297122093347404\n",
      "Epoch 45, Loss: 0.08392747153399854, Train MAPE: 19.9419991508829, Test MAPE: 28.65858154663673\n",
      "Epoch 46, Loss: 0.08345187667316262, Train MAPE: 22.261179503623513, Test MAPE: 31.541524168161246\n",
      "Epoch 47, Loss: 0.08281290172074883, Train MAPE: 22.110231049824954, Test MAPE: 31.316211524376502\n",
      "Epoch 48, Loss: 0.08191973235031466, Train MAPE: 19.65553418802917, Test MAPE: 28.335398413584784\n",
      "Epoch 49, Loss: 0.08122362318082109, Train MAPE: 21.376738432626293, Test MAPE: 30.517088926755466\n",
      "Epoch 50, Loss: 0.08057988932332932, Train MAPE: 21.081843525773635, Test MAPE: 30.47600560921889\n",
      "Epoch 51, Loss: 0.08038490846720851, Train MAPE: 22.90336309016267, Test MAPE: 32.349256034997794\n",
      "Epoch 52, Loss: 0.0798447384015873, Train MAPE: 19.99397989783411, Test MAPE: 29.331194635537955\n",
      "Epoch 53, Loss: 0.07949352267900119, Train MAPE: 20.056507881612475, Test MAPE: 29.389897680282594\n",
      "Epoch 54, Loss: 0.07884932265556897, Train MAPE: 19.909947579818006, Test MAPE: 29.254900983663706\n",
      "Epoch 55, Loss: 0.07831165405246676, Train MAPE: 19.30885045452687, Test MAPE: 28.189925149770882\n",
      "Epoch 56, Loss: 0.07795342881478104, Train MAPE: 19.57728161412552, Test MAPE: 29.105556807151206\n",
      "Epoch 57, Loss: 0.07751214740792499, Train MAPE: 19.29570918822082, Test MAPE: 28.74335991052481\n",
      "Epoch 58, Loss: 0.07714051122331671, Train MAPE: 20.34134285626673, Test MAPE: 30.002482487605167\n",
      "Epoch 59, Loss: 0.07678215241882523, Train MAPE: 19.181075763427028, Test MAPE: 28.68138595360976\n",
      "Epoch 60, Loss: 0.07648814329653404, Train MAPE: 18.780851357710603, Test MAPE: 28.264730391135583\n",
      "Epoch 61, Loss: 0.07560546802136334, Train MAPE: 20.289594906356268, Test MAPE: 29.983710520084088\n",
      "Epoch 62, Loss: 0.07551944991564728, Train MAPE: 22.240030724687916, Test MAPE: 31.96967928959773\n",
      "Epoch 63, Loss: 0.07497386281451172, Train MAPE: 19.803043412290247, Test MAPE: 29.69002196972187\n",
      "Epoch 64, Loss: 0.07458808933966457, Train MAPE: 20.114940749325353, Test MAPE: 30.26366837941683\n",
      "Epoch 65, Loss: 0.0743258526840958, Train MAPE: 20.143146467162968, Test MAPE: 29.997647186426015\n",
      "Epoch 66, Loss: 0.07388507260531331, Train MAPE: 19.659307376138287, Test MAPE: 29.680845231276294\n",
      "Epoch 67, Loss: 0.07374169860354286, Train MAPE: 18.597817147432092, Test MAPE: 27.70404226229741\n",
      "Epoch 68, Loss: 0.07290238788112983, Train MAPE: 19.541985038155197, Test MAPE: 29.68512755907499\n",
      "Epoch 69, Loss: 0.07275952668224137, Train MAPE: 19.866233891770747, Test MAPE: 29.990736103057863\n",
      "Epoch 70, Loss: 0.0724496209045605, Train MAPE: 18.634490655636537, Test MAPE: 28.565511963917658\n",
      "Epoch 71, Loss: 0.07222304391361867, Train MAPE: 19.73410403533436, Test MAPE: 29.78720314319317\n",
      "Epoch 72, Loss: 0.07165384884651202, Train MAPE: 20.30703110001888, Test MAPE: 30.80034677065336\n",
      "Epoch 73, Loss: 0.07132511676394016, Train MAPE: 18.394852607954686, Test MAPE: 28.748670108501727\n",
      "Epoch 74, Loss: 0.07056982746962691, Train MAPE: 18.48556434018206, Test MAPE: 27.339932544414815\n",
      "Epoch 75, Loss: 0.07075979797253824, Train MAPE: 18.220589485847686, Test MAPE: 27.63849778175354\n",
      "Epoch 76, Loss: 0.07038032855566043, Train MAPE: 19.982652574691553, Test MAPE: 30.18395821131193\n",
      "Epoch 77, Loss: 0.07027838227838364, Train MAPE: 18.2904723633701, Test MAPE: 28.608525954760037\n",
      "Epoch 78, Loss: 0.066796864806903, Train MAPE: 18.325081105640695, Test MAPE: 28.6655953847445\n",
      "Epoch 79, Loss: 0.06662580161781209, Train MAPE: 18.347917750434764, Test MAPE: 28.700754459087666\n",
      "Epoch 80, Loss: 0.0664742565610741, Train MAPE: 18.351643612800135, Test MAPE: 28.71655119382418\n",
      "Epoch 81, Loss: 0.06636032777281767, Train MAPE: 18.35721650596303, Test MAPE: 28.728673700185922\n",
      "Epoch 82, Loss: 0.06624236481696281, Train MAPE: 18.359283748788254, Test MAPE: 28.735715279212364\n",
      "Epoch 83, Loss: 0.06614232430085755, Train MAPE: 18.354284324590925, Test MAPE: 28.73713877751277\n",
      "Epoch 84, Loss: 0.06608257992273775, Train MAPE: 18.354402777090797, Test MAPE: 28.737138982919546\n",
      "Epoch 85, Loss: 0.0660955775860801, Train MAPE: 18.356191920132677, Test MAPE: 28.737139859566323\n",
      "Epoch 86, Loss: 0.06608219799980937, Train MAPE: 18.3540073166224, Test MAPE: 28.737140053969163\n",
      "Epoch 87, Loss: 0.06609218965685201, Train MAPE: 18.356237194880027, Test MAPE: 28.737138674809383\n",
      "Epoch 88, Loss: 0.06608294785879659, Train MAPE: 18.35552158025277, Test MAPE: 28.737138311679548\n",
      "Epoch 89, Loss: 0.0660874817316009, Train MAPE: 18.35519123903482, Test MAPE: 28.73713930570162\n",
      "Epoch 90, Loss: 0.06608422999194069, Train MAPE: 18.35346086674636, Test MAPE: 28.737138806856596\n",
      "Epoch 91, Loss: 0.06609293740848662, Train MAPE: 18.35415505766295, Test MAPE: 28.73713836669922\n",
      "Epoch 92, Loss: 0.06610937184753672, Train MAPE: 18.355172278447377, Test MAPE: 28.737140347407415\n",
      "Epoch 93, Loss: 0.06608864087414237, Train MAPE: 18.355276010034174, Test MAPE: 28.73714094895583\n",
      "Epoch 94, Loss: 0.06608727429406332, Train MAPE: 18.35429126970807, Test MAPE: 28.737141018647414\n",
      "Epoch 95, Loss: 0.06609002741222217, Train MAPE: 18.355123795260592, Test MAPE: 28.737139877906213\n",
      "Epoch 96, Loss: 0.06608342602705589, Train MAPE: 18.35510979442211, Test MAPE: 28.737141216718232\n",
      "Epoch 97, Loss: 0.06610520837579327, Train MAPE: 18.353283095979368, Test MAPE: 28.737141121350803\n",
      "Epoch 98, Loss: 0.06608821789862246, Train MAPE: 18.354200851010862, Test MAPE: 28.737141649539655\n",
      "Epoch 99, Loss: 0.06608079279538986, Train MAPE: 18.35435068205759, Test MAPE: 28.737141136022714\n",
      "Epoch 100, Loss: 0.06608333405110846, Train MAPE: 18.353628241637214, Test MAPE: 28.737141722899217\n",
      "Epoch 101, Loss: 0.06610067206398154, Train MAPE: 18.35403951529245, Test MAPE: 28.73714203100938\n",
      "Epoch 102, Loss: 0.06608910693789727, Train MAPE: 18.355511234859875, Test MAPE: 28.737143124066865\n",
      "Epoch 103, Loss: 0.06608924005696903, Train MAPE: 18.35396051177391, Test MAPE: 28.7371434541849\n",
      "Epoch 104, Loss: 0.06608433944923414, Train MAPE: 18.35358846543269, Test MAPE: 28.7371444775508\n",
      "Epoch 105, Loss: 0.06609716513431681, Train MAPE: 18.35388491862777, Test MAPE: 28.737144096081074\n",
      "Epoch 106, Loss: 0.06609824303173684, Train MAPE: 18.35314763934711, Test MAPE: 28.73714425747211\n",
      "Epoch 107, Loss: 0.06608826436346202, Train MAPE: 18.353303974471032, Test MAPE: 28.737146021769597\n",
      "Epoch 108, Loss: 0.06608462622218889, Train MAPE: 18.356151015857186, Test MAPE: 28.73714462060195\n",
      "Epoch 109, Loss: 0.06608383080458646, Train MAPE: 18.356385018070576, Test MAPE: 28.737144800332878\n",
      "Epoch 110, Loss: 0.06609100951876803, Train MAPE: 18.355228932117246, Test MAPE: 28.73714662698599\n",
      "Epoch 111, Loss: 0.06608805437487146, Train MAPE: 18.356177725163185, Test MAPE: 28.737145596284133\n",
      "Epoch 112, Loss: 0.06608977498346805, Train MAPE: 18.357568377365393, Test MAPE: 28.737147661355827\n",
      "Epoch 113, Loss: 0.06609487360481377, Train MAPE: 18.3537457693759, Test MAPE: 28.737147426605226\n",
      "Epoch 114, Loss: 0.06608784658819997, Train MAPE: 18.35425750513967, Test MAPE: 28.73714883510883\n",
      "Epoch 115, Loss: 0.06608906094230446, Train MAPE: 18.35371478092682, Test MAPE: 28.737148743409378\n",
      "Epoch 116, Loss: 0.06609433870117204, Train MAPE: 18.355350477862977, Test MAPE: 28.737150159248937\n",
      "Epoch 117, Loss: 0.06608209170444122, Train MAPE: 18.35327985357848, Test MAPE: 28.737148512326755\n",
      "Epoch 118, Loss: 0.06608394588970358, Train MAPE: 18.35443107294738, Test MAPE: 28.737150460023145\n",
      "Epoch 119, Loss: 0.06608568411589358, Train MAPE: 18.354524597281785, Test MAPE: 28.737149554032545\n",
      "Epoch 120, Loss: 0.06607952452048703, Train MAPE: 18.356086250448364, Test MAPE: 28.737151270646315\n",
      "Epoch 121, Loss: 0.06608034399650897, Train MAPE: 18.3537932695163, Test MAPE: 28.737151824511013\n",
      "Epoch 122, Loss: 0.06608906812711303, Train MAPE: 18.353627203059265, Test MAPE: 28.737149539360633\n",
      "Epoch 123, Loss: 0.06608381217903134, Train MAPE: 18.35494647608914, Test MAPE: 28.737152866216807\n",
      "Epoch 124, Loss: 0.06608521884900659, Train MAPE: 18.355662830525343, Test MAPE: 28.73715191254249\n",
      "Epoch 125, Loss: 0.06608471574389069, Train MAPE: 18.354951961322744, Test MAPE: 28.73715293957637\n",
      "Epoch 126, Loss: 0.06608102960992493, Train MAPE: 18.35405005252166, Test MAPE: 28.737152459071233\n",
      "Epoch 127, Loss: 0.06608076159204997, Train MAPE: 18.354254535348286, Test MAPE: 28.737152382043693\n",
      "Epoch 128, Loss: 0.06609176617040441, Train MAPE: 18.354893722938044, Test MAPE: 28.73715269748981\n",
      "Epoch 129, Loss: 0.06608386568570934, Train MAPE: 18.354913500436115, Test MAPE: 28.737152272004348\n",
      "Epoch 130, Loss: 0.06608280749530805, Train MAPE: 18.35395582233976, Test MAPE: 28.737152294012215\n",
      "Epoch 131, Loss: 0.06608508346258117, Train MAPE: 18.35414508492816, Test MAPE: 28.73715305328369\n",
      "Epoch 132, Loss: 0.06609354005217609, Train MAPE: 18.354873771043323, Test MAPE: 28.737153937266424\n",
      "Epoch 133, Loss: 0.06608770897072365, Train MAPE: 18.354066647280856, Test MAPE: 28.737154835921068\n",
      "Epoch 134, Loss: 0.06609523596548626, Train MAPE: 18.35765119374544, Test MAPE: 28.737155591524566\n",
      "Epoch 135, Loss: 0.06608403433218268, Train MAPE: 18.353598852130055, Test MAPE: 28.737154175685003\n",
      "Epoch 136, Loss: 0.06608018317619291, Train MAPE: 18.353856497022026, Test MAPE: 28.737155463145328\n",
      "Epoch 137, Loss: 0.06609260744331862, Train MAPE: 18.35356708119074, Test MAPE: 28.73715516237112\n",
      "Epoch 138, Loss: 0.0660834021985538, Train MAPE: 18.355079844550975, Test MAPE: 28.73715471120981\n",
      "Epoch 139, Loss: 0.06609402284029732, Train MAPE: 18.35481247612785, Test MAPE: 28.73715658187866\n",
      "Epoch 140, Loss: 0.06609882566722915, Train MAPE: 18.35381572033145, Test MAPE: 28.73715652319101\n",
      "Epoch 141, Loss: 0.06610008462621715, Train MAPE: 18.353673857375906, Test MAPE: 28.737156394811777\n",
      "Epoch 142, Loss: 0.0660836233594298, Train MAPE: 18.354801550636623, Test MAPE: 28.737155239398664\n",
      "Epoch 143, Loss: 0.06608689854887813, Train MAPE: 18.35476052611923, Test MAPE: 28.737156673578117\n",
      "Epoch 144, Loss: 0.06608570572141204, Train MAPE: 18.355394211953598, Test MAPE: 28.73715634712806\n",
      "Epoch 145, Loss: 0.06608599250288223, Train MAPE: 18.355197348883795, Test MAPE: 28.737157421845655\n",
      "Epoch 146, Loss: 0.06608585598838226, Train MAPE: 18.354575125957705, Test MAPE: 28.737158551582922\n",
      "Epoch 147, Loss: 0.06609786915098953, Train MAPE: 18.355091256058135, Test MAPE: 28.737157304470355\n",
      "Epoch 148, Loss: 0.06608265132622666, Train MAPE: 18.353849102604034, Test MAPE: 28.737157517213088\n",
      "Epoch 149, Loss: 0.06608627981903377, Train MAPE: 18.356531424058872, Test MAPE: 28.737156911996696\n",
      "Epoch 150, Loss: 0.06610733495946325, Train MAPE: 18.35432036687137, Test MAPE: 28.73715881934533\n",
      "Epoch 151, Loss: 0.06608270369362555, Train MAPE: 18.355495578630023, Test MAPE: 28.73715908710773\n",
      "Epoch 152, Loss: 0.06608826227045123, Train MAPE: 18.354615936609733, Test MAPE: 28.73715935120216\n",
      "Epoch 153, Loss: 0.06608551563345491, Train MAPE: 18.354038770435174, Test MAPE: 28.737159596956694\n",
      "Epoch 154, Loss: 0.06608193915308641, Train MAPE: 18.35439124763643, Test MAPE: 28.737160436923688\n",
      "Epoch 155, Loss: 0.06608306229584228, Train MAPE: 18.356977485256543, Test MAPE: 28.73715951992915\n",
      "Epoch 156, Loss: 0.06608266690324659, Train MAPE: 18.356093969794852, Test MAPE: 28.737160675342267\n",
      "Epoch 157, Loss: 0.06609250117304867, Train MAPE: 18.3537917839322, Test MAPE: 28.73716149696937\n",
      "Epoch 158, Loss: 0.06609181749757247, Train MAPE: 18.354983971369048, Test MAPE: 28.737160235184888\n",
      "Epoch 159, Loss: 0.06608565333832675, Train MAPE: 18.35453947790548, Test MAPE: 28.73716084773724\n",
      "Epoch 160, Loss: 0.06608778648831387, Train MAPE: 18.35412140094511, Test MAPE: 28.737162435971772\n",
      "Epoch 161, Loss: 0.06608394887459691, Train MAPE: 18.354691710118725, Test MAPE: 28.737162711070134\n",
      "Epoch 162, Loss: 0.06608686081507567, Train MAPE: 18.354048820730583, Test MAPE: 28.73716276242183\n",
      "Epoch 163, Loss: 0.06608622417721585, Train MAPE: 18.354401513174018, Test MAPE: 28.737163283274725\n",
      "Epoch 164, Loss: 0.06610332371324616, Train MAPE: 18.355032693203878, Test MAPE: 28.737162692730244\n",
      "Epoch 165, Loss: 0.06609284961721622, Train MAPE: 18.35364062012791, Test MAPE: 28.737163422657893\n",
      "Epoch 166, Loss: 0.06608642749147735, Train MAPE: 18.35427202274297, Test MAPE: 28.737163492349477\n",
      "Epoch 167, Loss: 0.0660851845693442, Train MAPE: 18.353714141166474, Test MAPE: 28.73716283578139\n",
      "Epoch 168, Loss: 0.06608143573155388, Train MAPE: 18.354871042194677, Test MAPE: 28.737162810105545\n",
      "Epoch 169, Loss: 0.06608466712956938, Train MAPE: 18.355070693775136, Test MAPE: 28.737162571686966\n",
      "Epoch 170, Loss: 0.06607979183202686, Train MAPE: 18.355610542737946, Test MAPE: 28.737163818799534\n",
      "Epoch 171, Loss: 0.06609003733811296, Train MAPE: 18.35348998593871, Test MAPE: 28.737163154895487\n",
      "Epoch 172, Loss: 0.06608449342043012, Train MAPE: 18.35444924737308, Test MAPE: 28.737164922860952\n",
      "Epoch 173, Loss: 0.06608608187489118, Train MAPE: 18.354670515877334, Test MAPE: 28.737162964160625\n",
      "Epoch 174, Loss: 0.06608422847215491, Train MAPE: 18.3544285400655, Test MAPE: 28.737164702782263\n",
      "Epoch 175, Loss: 0.06609782949986369, Train MAPE: 18.355367012042283, Test MAPE: 28.737166929244996\n",
      "Epoch 176, Loss: 0.06608407279338484, Train MAPE: 18.35470199952112, Test MAPE: 28.73716633136456\n",
      "Epoch 177, Loss: 0.06608484458909715, Train MAPE: 18.354461512047013, Test MAPE: 28.737166309356688\n",
      "Epoch 178, Loss: 0.06609590409307439, Train MAPE: 18.354383286429325, Test MAPE: 28.737165183287402\n",
      "Epoch 179, Loss: 0.06608137955639916, Train MAPE: 18.35492980376933, Test MAPE: 28.737166004914503\n",
      "Epoch 180, Loss: 0.06609320126723094, Train MAPE: 18.35338443236585, Test MAPE: 28.737165726148167\n",
      "Epoch 181, Loss: 0.0660932455283587, Train MAPE: 18.353714871337715, Test MAPE: 28.73716612595778\n",
      "Epoch 182, Loss: 0.06609561053374505, Train MAPE: 18.354947246188033, Test MAPE: 28.737166393720187\n",
      "Epoch 183, Loss: 0.06608111433921467, Train MAPE: 18.353792077193933, Test MAPE: 28.737167879251334\n",
      "Epoch 184, Loss: 0.06608087687526361, Train MAPE: 18.353879161702544, Test MAPE: 28.737168073654175\n",
      "Epoch 185, Loss: 0.06608022118473104, Train MAPE: 18.354717529083928, Test MAPE: 28.73716794894292\n",
      "Epoch 186, Loss: 0.06608814457960291, Train MAPE: 18.354187524812055, Test MAPE: 28.737168389100294\n",
      "Epoch 187, Loss: 0.06608088949965932, Train MAPE: 18.353516938023205, Test MAPE: 28.737168722886306\n",
      "Epoch 188, Loss: 0.06608177568042818, Train MAPE: 18.354876721100354, Test MAPE: 28.737168565163245\n",
      "Epoch 189, Loss: 0.06608036856137438, Train MAPE: 18.354348734781304, Test MAPE: 28.73716810666598\n",
      "Epoch 190, Loss: 0.06608083251060576, Train MAPE: 18.354109108734864, Test MAPE: 28.7371677508721\n",
      "Epoch 191, Loss: 0.06608545783946615, Train MAPE: 18.353838860013372, Test MAPE: 28.737168726554284\n",
      "Epoch 192, Loss: 0.06608668980354496, Train MAPE: 18.356338421580194, Test MAPE: 28.73716942713811\n",
      "Epoch 193, Loss: 0.06608648976773612, Train MAPE: 18.35467723657353, Test MAPE: 28.73716995899494\n",
      "Epoch 194, Loss: 0.06609085001610757, Train MAPE: 18.35347825776395, Test MAPE: 28.737170582551222\n",
      "Epoch 195, Loss: 0.0660826284380108, Train MAPE: 18.35424571041882, Test MAPE: 28.737171466533955\n",
      "Epoch 196, Loss: 0.06608514218744432, Train MAPE: 18.356711255918913, Test MAPE: 28.737172016730675\n",
      "Epoch 197, Loss: 0.06608855609510442, Train MAPE: 18.353951290780472, Test MAPE: 28.737172577931332\n",
      "Epoch 198, Loss: 0.06608512800964916, Train MAPE: 18.353642030905025, Test MAPE: 28.737171341822698\n",
      "Epoch 199, Loss: 0.06608462821480686, Train MAPE: 18.354198729337927, Test MAPE: 28.737170949349036\n",
      "Epoch 200, Loss: 0.06608768413605257, Train MAPE: 18.35475782710159, Test MAPE: 28.73717208642226\n",
      "Finished Training\n"
     ]
    },
    {
     "data": {
      "text/plain": "<IPython.core.display.HTML object>",
      "text/html": "<style>\n    table.wandb td:nth-child(1) { padding: 0 10px; text-align: left ; width: auto;} td:nth-child(2) {text-align: left ; width: 100%}\n    .wandb-row { display: flex; flex-direction: row; flex-wrap: wrap; justify-content: flex-start; width: 100% }\n    .wandb-col { display: flex; flex-direction: column; flex-basis: 100%; flex: 1; padding: 10px; }\n    </style>\n<div class=\"wandb-row\"><div class=\"wandb-col\"><h3>Run history:</h3><br/><table class=\"wandb\"><tr><td>test_loss</td><td>█▄▄▂▂▂▂▂▂▁▁▁▁▁▁▁▁▁▁▁▁▁▁▁▁▁▁▁▁▁▁▁▁▁▁▁▁▁▁▁</td></tr><tr><td>test_mape</td><td>█▃▂█▃▃▂▂▂▁▂▂▂▁▁▁▁▁▁▁▁▁▁▁▁▁▁▁▁▁▁▁▁▁▁▁▁▁▁▁</td></tr><tr><td>time_test</td><td>▃▃▄█▃▂▄▃▃▆▂▂▁▁▃▄▄▄▁▃▇▆▅▇▆▁▂▁▁▂▂▂▁▂▃▂▂▂▃▃</td></tr><tr><td>time_train</td><td>▃▂▂▇▃▃▃▄▃▂▄▂▂▁▄▃█▇▆▄▅▄▃▁▂▂▁▂▂▂▃▂▃▂▂▂▂▃▂▂</td></tr><tr><td>train_loss</td><td>█▃▃▂▂▂▁▁▁▁▁▁▁▁▁▁▁▁▁▁▁▁▁▁▁▁▁▁▁▁▁▁▁▁▁▁▁▁▁▁</td></tr><tr><td>train_mape</td><td>█▇▇▆▅▄▄▃▂▃▂▂▂▂▁▁▁▁▁▁▁▁▁▁▁▁▁▁▁▁▁▁▁▁▁▁▁▁▁▁</td></tr></table><br/></div><div class=\"wandb-col\"><h3>Run summary:</h3><br/><table class=\"wandb\"><tr><td>test_loss</td><td>0.15184</td></tr><tr><td>test_mape</td><td>28.73717</td></tr><tr><td>time_test</td><td>1.67869</td></tr><tr><td>time_train</td><td>2.691</td></tr><tr><td>train_loss</td><td>0.06609</td></tr><tr><td>train_mape</td><td>18.35476</td></tr></table><br/></div></div>"
     },
     "metadata": {},
     "output_type": "display_data"
    },
    {
     "data": {
      "text/plain": "<IPython.core.display.HTML object>",
      "text/html": " View run <strong style=\"color:#cdcd00\">MLP-bs16-lr0.001</strong> at: <a href='https://wandb.ai/denis-schatzmann/Immo-Challenge/runs/3z55jnjw' target=\"_blank\">https://wandb.ai/denis-schatzmann/Immo-Challenge/runs/3z55jnjw</a><br/> View project at: <a href='https://wandb.ai/denis-schatzmann/Immo-Challenge' target=\"_blank\">https://wandb.ai/denis-schatzmann/Immo-Challenge</a><br/>Synced 5 W&B file(s), 0 media file(s), 0 artifact file(s) and 0 other file(s)"
     },
     "metadata": {},
     "output_type": "display_data"
    },
    {
     "data": {
      "text/plain": "<IPython.core.display.HTML object>",
      "text/html": "Find logs at: <code>.\\wandb\\run-20250112_190041-3z55jnjw\\logs</code>"
     },
     "metadata": {},
     "output_type": "display_data"
    }
   ],
   "source": [
    "from src import torchModelRun\n",
    "import torch\n",
    "import torch.nn as nn\n",
    "import torch.nn.functional as F\n",
    "\n",
    "inputs_nums = len(df.columns) - 1\n",
    "\n",
    "class FullyConnectedModel(nn.Module):\n",
    "    import torch.nn.functional as F\n",
    "    def __init__(self):\n",
    "        super(FullyConnectedModel, self).__init__()\n",
    "        self.fc1 = nn.Linear(inputs_nums, 128)\n",
    "        self.fc2 = nn.Linear(128, 256)\n",
    "        self.fc4 = nn.Linear(256, 32)\n",
    "        self.fc5 = nn.Linear(32, 1)\n",
    "\n",
    "    def forward(self, x):\n",
    "        x = torch.flatten(x, 1)\n",
    "        x = F.relu(self.fc1(x))\n",
    "        x = F.relu(self.fc2(x))\n",
    "        x = F.relu(self.fc4(x))\n",
    "        x = self.fc5(x)\n",
    "        return x\n",
    "    \n",
    "\n",
    "models = torchModelRun.run(FullyConnectedModel, df, 4)"
   ],
   "metadata": {
    "collapsed": false,
    "ExecuteTime": {
     "end_time": "2025-01-12T18:16:47.302142Z",
     "start_time": "2025-01-12T18:00:41.584242600Z"
    }
   },
   "id": "1ec75e098d8fb34e",
   "execution_count": 5
  },
  {
   "cell_type": "code",
   "outputs": [
    {
     "data": {
      "text/plain": "<Figure size 640x480 with 1 Axes>",
      "image/png": "[encoded data removed]"
     },
     "metadata": {},
     "output_type": "display_data"
    }
   ],
   "source": [
    "import matplotlib.pyplot as plt\n",
    "import matplotlib.ticker as ticker\n",
    "\n",
    "largest_num = 5e+7\n",
    "transformer = models[0]['transform']\n",
    "model = models[0]['model']\n",
    "model.eval()\n",
    "model = model.to('cpu')\n",
    "\n",
    "df_exclude = df.drop(columns=['price_cleaned'])\n",
    "df_exclude_np = df_exclude.values\n",
    "input = transformer(torch.tensor(df_exclude_np, dtype=torch.float32))\n",
    "output = model(input)\n",
    "#output_cliped = torch.clamp(output, 6.0, 18.0)\n",
    "output = torch.exp(output)\n",
    "\n",
    "plt.scatter(df['price_cleaned'], output.detach().numpy(), s=10, alpha=1)\n",
    "plt.xlabel('True Values')\n",
    "plt.ylabel('Predictions')\n",
    "plt.ylim([0, largest_num])\n",
    "plt.xlim([0, largest_num])\n",
    "plt.plot([0, largest_num], [0, largest_num], color='red')\n",
    "\n",
    "# Set the axes to display whole numbers\n",
    "plt.gca().xaxis.set_major_formatter(ticker.StrMethodFormatter('{x:,.0f}'))\n",
    "plt.gca().yaxis.set_major_formatter(ticker.StrMethodFormatter('{x:,.0f}'))\n",
    "\n",
    "# rotate the x-axis labels\n",
    "plt.xticks(rotation=45)\n",
    "\n",
    "plt.show()"
   ],
   "metadata": {
    "collapsed": false,
    "ExecuteTime": {
     "end_time": "2025-01-12T18:49:35.707483300Z",
     "start_time": "2025-01-12T18:49:35.462491500Z"
    }
   },
   "id": "85a4ca400ab6d17e",
   "execution_count": 6
  },
  {
   "cell_type": "code",
   "outputs": [
    {
     "name": "stdout",
     "output_type": "stream",
     "text": [
      "FullyConnectedModel(\n",
      "  (fc1): Linear(in_features=153, out_features=128, bias=True)\n",
      "  (fc2): Linear(in_features=128, out_features=256, bias=True)\n",
      "  (fc4): Linear(in_features=256, out_features=32, bias=True)\n",
      "  (fc5): Linear(in_features=32, out_features=1, bias=True)\n",
      ")\n"
     ]
    }
   ],
   "source": [
    "# Print model summary\n",
    "print(models[0]['model'])\n"
   ],
   "metadata": {
    "collapsed": false,
    "ExecuteTime": {
     "end_time": "2025-01-12T18:49:41.497679500Z",
     "start_time": "2025-01-12T18:49:41.478784200Z"
    }
   },
   "id": "9913115d1f91b6d7",
   "execution_count": 7
  },
  {
   "cell_type": "code",
   "outputs": [
    {
     "name": "stdout",
     "output_type": "stream",
     "text": [
      "min outputs: 64927.5938, max outputs: 29237530.0000\n",
      "ss_res: 2209280766653289725952.0000, ss_tot: 61173833377251328.0000\n",
      "R^2-Wert: -36113.8008\n"
     ]
    }
   ],
   "source": [
    "import torch\n",
    "\n",
    "trues = torch.tensor(df['price_cleaned'].values, dtype=torch.float32)\n",
    "\n",
    "\n",
    "print(f'min outputs: {torch.min(output).item():.4f}, max outputs: {torch.max(output).item():.4f}')\n",
    "# Berechnung des R^2-Werts\n",
    "ss_res = torch.sum((trues - output) ** 2)\n",
    "ss_tot = torch.sum((trues - torch.mean(trues)) ** 2)\n",
    "\n",
    "print(f\"ss_res: {ss_res.item():.4f}, ss_tot: {ss_tot.item():.4f}\")\n",
    "\n",
    "r2_score = 1 - (ss_res / ss_tot)  # R^2-Formel\n",
    "print(f\"R^2-Wert: {r2_score.item():.4f}\")"
   ],
   "metadata": {
    "collapsed": false,
    "ExecuteTime": {
     "end_time": "2025-01-12T18:49:49.895864200Z",
     "start_time": "2025-01-12T18:49:48.866819500Z"
    }
   },
   "id": "bf02cfe8b9f454a9",
   "execution_count": 8
  },
  {
   "cell_type": "code",
   "outputs": [
    {
     "name": "stdout",
     "output_type": "stream",
     "text": [
      "index: 12543, max value: 29237530\n"
     ]
    },
    {
     "data": {
      "text/plain": "       Floor  ForestDensityL  ForestDensityM  ForestDensityS  \\\n13958    0.0        0.029699        0.001037             0.0   \n\n       NoisePollutionRailwayL  NoisePollutionRailwayM  NoisePollutionRailwayS  \\\n13958                0.044208                     0.0                     0.0   \n\n       NoisePollutionRoadL  NoisePollutionRoadM  NoisePollutionRoadS  ...  \\\n13958             0.172486             0.127921             0.174566  ...   \n\n       region_group_40  region_group_41  region_group_42  region_group_43  \\\n13958              0.0              0.0              0.0              0.0   \n\n       region_group_44  region_group_45  region_group_46  region_group_47  \\\n13958              1.0              0.0              0.0              0.0   \n\n       region_group_48  region_group_49  \n13958              0.0              0.0  \n\n[1 rows x 154 columns]",
      "text/html": "<div>\n<style scoped>\n    .dataframe tbody tr th:only-of-type {\n        vertical-align: middle;\n    }\n\n    .dataframe tbody tr th {\n        vertical-align: top;\n    }\n\n    .dataframe thead th {\n        text-align: right;\n    }\n</style>\n<table border=\"1\" class=\"dataframe\">\n  <thead>\n    <tr style=\"text-align: right;\">\n      <th></th>\n      <th>Floor</th>\n      <th>ForestDensityL</th>\n      <th>ForestDensityM</th>\n      <th>ForestDensityS</th>\n      <th>NoisePollutionRailwayL</th>\n      <th>NoisePollutionRailwayM</th>\n      <th>NoisePollutionRailwayS</th>\n      <th>NoisePollutionRoadL</th>\n      <th>NoisePollutionRoadM</th>\n      <th>NoisePollutionRoadS</th>\n      <th>...</th>\n      <th>region_group_40</th>\n      <th>region_group_41</th>\n      <th>region_group_42</th>\n      <th>region_group_43</th>\n      <th>region_group_44</th>\n      <th>region_group_45</th>\n      <th>region_group_46</th>\n      <th>region_group_47</th>\n      <th>region_group_48</th>\n      <th>region_group_49</th>\n    </tr>\n  </thead>\n  <tbody>\n    <tr>\n      <th>13958</th>\n      <td>0.0</td>\n      <td>0.029699</td>\n      <td>0.001037</td>\n      <td>0.0</td>\n      <td>0.044208</td>\n      <td>0.0</td>\n      <td>0.0</td>\n      <td>0.172486</td>\n      <td>0.127921</td>\n      <td>0.174566</td>\n      <td>...</td>\n      <td>0.0</td>\n      <td>0.0</td>\n      <td>0.0</td>\n      <td>0.0</td>\n      <td>1.0</td>\n      <td>0.0</td>\n      <td>0.0</td>\n      <td>0.0</td>\n      <td>0.0</td>\n      <td>0.0</td>\n    </tr>\n  </tbody>\n</table>\n<p>1 rows × 154 columns</p>\n</div>"
     },
     "execution_count": 9,
     "metadata": {},
     "output_type": "execute_result"
    }
   ],
   "source": [
    "# get index of max prediction to get original data\n",
    "index = torch.argmax(output)\n",
    "\n",
    "print(f'index: {index}, max value: {output[index].item():.0f}')\n",
    "df.iloc[[int(index)]]"
   ],
   "metadata": {
    "collapsed": false,
    "ExecuteTime": {
     "end_time": "2025-01-12T18:50:15.905108900Z",
     "start_time": "2025-01-12T18:50:15.849532300Z"
    }
   },
   "id": "2775014563c65865",
   "execution_count": 9
  },
  {
   "cell_type": "code",
   "outputs": [],
   "source": [
    "# store model for later use\n",
    "torch.save(models[0]['model'], 'model.pt')\n",
    "\n",
    "#store transformer for later use\n",
    "torch.save(models[0]['transform'], 'transformer.pt')"
   ],
   "metadata": {
    "collapsed": false,
    "ExecuteTime": {
     "end_time": "2024-12-13T13:30:49.078494500Z",
     "start_time": "2024-12-13T13:30:49.060260400Z"
    }
   },
   "id": "98ca9a507dfbab69",
   "execution_count": 15
  }
 ],
 "metadata": {
  "kernelspec": {
   "display_name": "Python 3",
   "language": "python",
   "name": "python3"
  },
  "language_info": {
   "codemirror_mode": {
    "name": "ipython",
    "version": 2
   },
   "file_extension": ".py",
   "mimetype": "text/x-python",
   "name": "python",
   "nbconvert_exporter": "python",
   "pygments_lexer": "ipython2",
   "version": "2.7.6"
  }
 },
 "nbformat": 4,
 "nbformat_minor": 5
}

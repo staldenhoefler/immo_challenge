{
 "cells": [
  {
   "cell_type": "code",
   "execution_count": null,
   "id": "initial_id",
   "metadata": {
    "collapsed": true,
    "ExecuteTime": {
     "start_time": "2024-12-02T08:58:18.939215500Z"
    }
   },
   "outputs": [
    {
     "name": "stderr",
     "output_type": "stream",
     "text": [
      "C:\\FHNW_Programmiersachen\\5_Sem\\immo_challenge\\src\\dataPipeline.py:42: DtypeWarning: Columns (3,4,5,6,11,13,14,15,16,17,18,19,20,21,22,23,24,25,26,27,28,29,30,31,32,33,34,35,36,37,38,39,40,41,42,43,45,46,47,49,50,107,110,114,115,116,119,120,121,124,125,126,128,131,132) have mixed types. Specify dtype option on import or set low_memory=False.\n",
      "  self.data = pd.read_csv(filePath)\n",
      "C:\\FHNW_Programmiersachen\\5_Sem\\immo_challenge\\src\\dataPipeline.py:65: FutureWarning: Downcasting object dtype arrays on .fillna, .ffill, .bfill is deprecated and will change in a future version. Call result.infer_objects(copy=False) instead. To opt-in to the future behavior, set `pd.set_option('future.no_silent_downcasting', True)`\n",
      "  ]].bfill(axis=1)['Space extracted']\n",
      "C:\\FHNW_Programmiersachen\\5_Sem\\immo_challenge\\src\\dataPipeline.py:70: FutureWarning: Downcasting object dtype arrays on .fillna, .ffill, .bfill is deprecated and will change in a future version. Call result.infer_objects(copy=False) instead. To opt-in to the future behavior, set `pd.set_option('future.no_silent_downcasting', True)`\n",
      "  ]].bfill(axis=1)['Plot_area_unified']\n",
      "C:\\FHNW_Programmiersachen\\5_Sem\\immo_challenge\\src\\dataPipeline.py:76: FutureWarning: Downcasting object dtype arrays on .fillna, .ffill, .bfill is deprecated and will change in a future version. Call result.infer_objects(copy=False) instead. To opt-in to the future behavior, set `pd.set_option('future.no_silent_downcasting', True)`\n",
      "  ]].bfill(axis=1)['Availability']\n",
      "C:\\FHNW_Programmiersachen\\5_Sem\\immo_challenge\\src\\dataPipeline.py:80: FutureWarning: Downcasting object dtype arrays on .fillna, .ffill, .bfill is deprecated and will change in a future version. Call result.infer_objects(copy=False) instead. To opt-in to the future behavior, set `pd.set_option('future.no_silent_downcasting', True)`\n",
      "  ]].bfill(axis=1)['No. of rooms:']\n"
     ]
    },
    {
     "name": "stdout",
     "output_type": "stream",
     "text": []
    }
   ],
   "source": [
    "import pandas as pd\n",
    "from sklearn.impute import SimpleImputer, KNNImputer\n",
    "import os\n",
    "from src.dataPipeline import DataPipeline\n",
    "\n",
    "\n",
    "os.chdir('..')\n",
    "\n",
    "imputer = KNNImputer(n_neighbors=5)\n",
    "dp = DataPipeline()\n",
    "df = dp.runPipeline(normalizeAndStandardize=False, imputer=imputer)"
   ]
  },
  {
   "cell_type": "code",
   "outputs": [
    {
     "name": "stdout",
     "output_type": "stream",
     "text": [
      "input nums: 180\n"
     ]
    }
   ],
   "source": [
    "inputs_nums = len(df.columns) - 1\n",
    "print(f'input nums: {inputs_nums}')"
   ],
   "metadata": {
    "collapsed": false,
    "ExecuteTime": {
     "end_time": "2024-11-19T11:56:59.079276400Z",
     "start_time": "2024-11-19T11:56:59.069801300Z"
    }
   },
   "id": "4cb72ead071d529e",
   "execution_count": 2
  },
  {
   "cell_type": "code",
   "outputs": [
    {
     "data": {
      "text/plain": "       Floor  detail_responsive#surface_usable  Floor_space_merged  \\\n0        4.0                             187.2               159.2   \n1        2.4                             191.8               242.0   \n2        2.0                             162.0               112.6   \n3        2.2                             191.8               257.0   \n4        0.0                             197.6               228.0   \n...      ...                               ...                 ...   \n21113    0.8                              67.8               100.8   \n21114    3.8                             207.2               249.2   \n21115    0.0                             233.2               318.0   \n21116    1.8                             167.8               149.8   \n21117    1.0                             361.2               122.6   \n\n       ForestDensityM  ForestDensityS  RiversAndLakesL  RiversAndLakesM  \\\n0            0.286451        0.090908         0.082170         0.001811   \n1            0.286451        0.090908         0.082170         0.001811   \n2            0.095877        0.001911         0.154274         0.188229   \n3            0.286451        0.090908         0.082170         0.001811   \n4            0.279276        0.145835         0.109586         0.141473   \n...               ...             ...              ...              ...   \n21113        0.385885        0.097278         0.000000         0.000000   \n21114        0.000000        0.000000         0.013997         0.000000   \n21115        0.000000        0.000000         0.000000         0.000000   \n21116        0.151363        0.038351         0.026686         0.021426   \n21117        0.153670        0.113892         0.055729         0.034357   \n\n       RiversAndLakesS  distanceToTrainStation  gde_area_forest_percentage  \\\n0             0.011871                3.038467                   51.449275   \n1             0.011871                3.038467                   51.449275   \n2             0.000000                0.909587                   32.197891   \n3             0.011871                3.038467                   51.449275   \n4             0.091805                1.460245                   49.705635   \n...                ...                     ...                         ...   \n21113         0.000000                1.375319                   29.028213   \n21114         0.000000                1.067011                   30.599295   \n21115         0.000000                0.230859                   30.599295   \n21116         0.000000                0.357339                   26.718547   \n21117         0.000000                0.530367                   45.357143   \n\n       ...  type_unified_penthouse  type_unified_rustico  \\\n0      ...                     1.0                   0.0   \n1      ...                     0.0                   0.0   \n2      ...                     1.0                   0.0   \n3      ...                     0.0                   0.0   \n4      ...                     0.0                   0.0   \n...    ...                     ...                   ...   \n21113  ...                     0.0                   0.0   \n21114  ...                     0.0                   0.0   \n21115  ...                     0.0                   0.0   \n21116  ...                     0.0                   0.0   \n21117  ...                     0.0                   0.0   \n\n       type_unified_secondary-suite  type_unified_semi-detached-house  \\\n0                               0.0                               0.0   \n1                               0.0                               0.0   \n2                               0.0                               0.0   \n3                               0.0                               0.0   \n4                               0.0                               0.0   \n...                             ...                               ...   \n21113                           0.0                               0.0   \n21114                           0.0                               0.0   \n21115                           0.0                               0.0   \n21116                           0.0                               0.0   \n21117                           0.0                               0.0   \n\n       type_unified_single-room  type_unified_stepped-apartment  \\\n0                           0.0                             0.0   \n1                           0.0                             0.0   \n2                           0.0                             0.0   \n3                           0.0                             0.0   \n4                           0.0                             0.0   \n...                         ...                             ...   \n21113                       0.0                             0.0   \n21114                       0.0                             1.0   \n21115                       0.0                             0.0   \n21116                       0.0                             1.0   \n21117                       0.0                             0.0   \n\n       type_unified_stepped-house  type_unified_studio  \\\n0                             0.0                  0.0   \n1                             0.0                  0.0   \n2                             0.0                  0.0   \n3                             0.0                  0.0   \n4                             0.0                  0.0   \n...                           ...                  ...   \n21113                         0.0                  0.0   \n21114                         0.0                  0.0   \n21115                         0.0                  0.0   \n21116                         0.0                  0.0   \n21117                         0.0                  0.0   \n\n       type_unified_terrace-house  type_unified_villa  \n0                             0.0                 0.0  \n1                             1.0                 0.0  \n2                             0.0                 0.0  \n3                             0.0                 0.0  \n4                             0.0                 0.0  \n...                           ...                 ...  \n21113                         0.0                 0.0  \n21114                         0.0                 0.0  \n21115                         0.0                 0.0  \n21116                         0.0                 0.0  \n21117                         0.0                 0.0  \n\n[21118 rows x 181 columns]",
      "text/html": "<div>\n<style scoped>\n    .dataframe tbody tr th:only-of-type {\n        vertical-align: middle;\n    }\n\n    .dataframe tbody tr th {\n        vertical-align: top;\n    }\n\n    .dataframe thead th {\n        text-align: right;\n    }\n</style>\n<table border=\"1\" class=\"dataframe\">\n  <thead>\n    <tr style=\"text-align: right;\">\n      <th></th>\n      <th>Floor</th>\n      <th>detail_responsive#surface_usable</th>\n      <th>Floor_space_merged</th>\n      <th>ForestDensityM</th>\n      <th>ForestDensityS</th>\n      <th>RiversAndLakesL</th>\n      <th>RiversAndLakesM</th>\n      <th>RiversAndLakesS</th>\n      <th>distanceToTrainStation</th>\n      <th>gde_area_forest_percentage</th>\n      <th>...</th>\n      <th>type_unified_penthouse</th>\n      <th>type_unified_rustico</th>\n      <th>type_unified_secondary-suite</th>\n      <th>type_unified_semi-detached-house</th>\n      <th>type_unified_single-room</th>\n      <th>type_unified_stepped-apartment</th>\n      <th>type_unified_stepped-house</th>\n      <th>type_unified_studio</th>\n      <th>type_unified_terrace-house</th>\n      <th>type_unified_villa</th>\n    </tr>\n  </thead>\n  <tbody>\n    <tr>\n      <th>0</th>\n      <td>4.0</td>\n      <td>187.2</td>\n      <td>159.2</td>\n      <td>0.286451</td>\n      <td>0.090908</td>\n      <td>0.082170</td>\n      <td>0.001811</td>\n      <td>0.011871</td>\n      <td>3.038467</td>\n      <td>51.449275</td>\n      <td>...</td>\n      <td>1.0</td>\n      <td>0.0</td>\n      <td>0.0</td>\n      <td>0.0</td>\n      <td>0.0</td>\n      <td>0.0</td>\n      <td>0.0</td>\n      <td>0.0</td>\n      <td>0.0</td>\n      <td>0.0</td>\n    </tr>\n    <tr>\n      <th>1</th>\n      <td>2.4</td>\n      <td>191.8</td>\n      <td>242.0</td>\n      <td>0.286451</td>\n      <td>0.090908</td>\n      <td>0.082170</td>\n      <td>0.001811</td>\n      <td>0.011871</td>\n      <td>3.038467</td>\n      <td>51.449275</td>\n      <td>...</td>\n      <td>0.0</td>\n      <td>0.0</td>\n      <td>0.0</td>\n      <td>0.0</td>\n      <td>0.0</td>\n      <td>0.0</td>\n      <td>0.0</td>\n      <td>0.0</td>\n      <td>1.0</td>\n      <td>0.0</td>\n    </tr>\n    <tr>\n      <th>2</th>\n      <td>2.0</td>\n      <td>162.0</td>\n      <td>112.6</td>\n      <td>0.095877</td>\n      <td>0.001911</td>\n      <td>0.154274</td>\n      <td>0.188229</td>\n      <td>0.000000</td>\n      <td>0.909587</td>\n      <td>32.197891</td>\n      <td>...</td>\n      <td>1.0</td>\n      <td>0.0</td>\n      <td>0.0</td>\n      <td>0.0</td>\n      <td>0.0</td>\n      <td>0.0</td>\n      <td>0.0</td>\n      <td>0.0</td>\n      <td>0.0</td>\n      <td>0.0</td>\n    </tr>\n    <tr>\n      <th>3</th>\n      <td>2.2</td>\n      <td>191.8</td>\n      <td>257.0</td>\n      <td>0.286451</td>\n      <td>0.090908</td>\n      <td>0.082170</td>\n      <td>0.001811</td>\n      <td>0.011871</td>\n      <td>3.038467</td>\n      <td>51.449275</td>\n      <td>...</td>\n      <td>0.0</td>\n      <td>0.0</td>\n      <td>0.0</td>\n      <td>0.0</td>\n      <td>0.0</td>\n      <td>0.0</td>\n      <td>0.0</td>\n      <td>0.0</td>\n      <td>0.0</td>\n      <td>0.0</td>\n    </tr>\n    <tr>\n      <th>4</th>\n      <td>0.0</td>\n      <td>197.6</td>\n      <td>228.0</td>\n      <td>0.279276</td>\n      <td>0.145835</td>\n      <td>0.109586</td>\n      <td>0.141473</td>\n      <td>0.091805</td>\n      <td>1.460245</td>\n      <td>49.705635</td>\n      <td>...</td>\n      <td>0.0</td>\n      <td>0.0</td>\n      <td>0.0</td>\n      <td>0.0</td>\n      <td>0.0</td>\n      <td>0.0</td>\n      <td>0.0</td>\n      <td>0.0</td>\n      <td>0.0</td>\n      <td>0.0</td>\n    </tr>\n    <tr>\n      <th>...</th>\n      <td>...</td>\n      <td>...</td>\n      <td>...</td>\n      <td>...</td>\n      <td>...</td>\n      <td>...</td>\n      <td>...</td>\n      <td>...</td>\n      <td>...</td>\n      <td>...</td>\n      <td>...</td>\n      <td>...</td>\n      <td>...</td>\n      <td>...</td>\n      <td>...</td>\n      <td>...</td>\n      <td>...</td>\n      <td>...</td>\n      <td>...</td>\n      <td>...</td>\n      <td>...</td>\n    </tr>\n    <tr>\n      <th>21113</th>\n      <td>0.8</td>\n      <td>67.8</td>\n      <td>100.8</td>\n      <td>0.385885</td>\n      <td>0.097278</td>\n      <td>0.000000</td>\n      <td>0.000000</td>\n      <td>0.000000</td>\n      <td>1.375319</td>\n      <td>29.028213</td>\n      <td>...</td>\n      <td>0.0</td>\n      <td>0.0</td>\n      <td>0.0</td>\n      <td>0.0</td>\n      <td>0.0</td>\n      <td>0.0</td>\n      <td>0.0</td>\n      <td>0.0</td>\n      <td>0.0</td>\n      <td>0.0</td>\n    </tr>\n    <tr>\n      <th>21114</th>\n      <td>3.8</td>\n      <td>207.2</td>\n      <td>249.2</td>\n      <td>0.000000</td>\n      <td>0.000000</td>\n      <td>0.013997</td>\n      <td>0.000000</td>\n      <td>0.000000</td>\n      <td>1.067011</td>\n      <td>30.599295</td>\n      <td>...</td>\n      <td>0.0</td>\n      <td>0.0</td>\n      <td>0.0</td>\n      <td>0.0</td>\n      <td>0.0</td>\n      <td>1.0</td>\n      <td>0.0</td>\n      <td>0.0</td>\n      <td>0.0</td>\n      <td>0.0</td>\n    </tr>\n    <tr>\n      <th>21115</th>\n      <td>0.0</td>\n      <td>233.2</td>\n      <td>318.0</td>\n      <td>0.000000</td>\n      <td>0.000000</td>\n      <td>0.000000</td>\n      <td>0.000000</td>\n      <td>0.000000</td>\n      <td>0.230859</td>\n      <td>30.599295</td>\n      <td>...</td>\n      <td>0.0</td>\n      <td>0.0</td>\n      <td>0.0</td>\n      <td>0.0</td>\n      <td>0.0</td>\n      <td>0.0</td>\n      <td>0.0</td>\n      <td>0.0</td>\n      <td>0.0</td>\n      <td>0.0</td>\n    </tr>\n    <tr>\n      <th>21116</th>\n      <td>1.8</td>\n      <td>167.8</td>\n      <td>149.8</td>\n      <td>0.151363</td>\n      <td>0.038351</td>\n      <td>0.026686</td>\n      <td>0.021426</td>\n      <td>0.000000</td>\n      <td>0.357339</td>\n      <td>26.718547</td>\n      <td>...</td>\n      <td>0.0</td>\n      <td>0.0</td>\n      <td>0.0</td>\n      <td>0.0</td>\n      <td>0.0</td>\n      <td>1.0</td>\n      <td>0.0</td>\n      <td>0.0</td>\n      <td>0.0</td>\n      <td>0.0</td>\n    </tr>\n    <tr>\n      <th>21117</th>\n      <td>1.0</td>\n      <td>361.2</td>\n      <td>122.6</td>\n      <td>0.153670</td>\n      <td>0.113892</td>\n      <td>0.055729</td>\n      <td>0.034357</td>\n      <td>0.000000</td>\n      <td>0.530367</td>\n      <td>45.357143</td>\n      <td>...</td>\n      <td>0.0</td>\n      <td>0.0</td>\n      <td>0.0</td>\n      <td>0.0</td>\n      <td>0.0</td>\n      <td>0.0</td>\n      <td>0.0</td>\n      <td>0.0</td>\n      <td>0.0</td>\n      <td>0.0</td>\n    </tr>\n  </tbody>\n</table>\n<p>21118 rows × 181 columns</p>\n</div>"
     },
     "execution_count": 3,
     "metadata": {},
     "output_type": "execute_result"
    }
   ],
   "source": [
    "df"
   ],
   "metadata": {
    "collapsed": false,
    "ExecuteTime": {
     "end_time": "2024-11-19T11:56:59.120033900Z",
     "start_time": "2024-11-19T11:56:59.074215400Z"
    }
   },
   "id": "2384d723e80bcf2e",
   "execution_count": 3
  },
  {
   "cell_type": "code",
   "outputs": [
    {
     "name": "stderr",
     "output_type": "stream",
     "text": [
      "wandb: Using wandb-core as the SDK backend. Please refer to https://wandb.me/wandb-core for more information.\n",
      "wandb: Currently logged in as: denis-schatzmann. Use `wandb login --relogin` to force relogin\n"
     ]
    },
    {
     "data": {
      "text/plain": "<IPython.core.display.HTML object>",
      "text/html": "Tracking run with wandb version 0.18.5"
     },
     "metadata": {},
     "output_type": "display_data"
    },
    {
     "data": {
      "text/plain": "<IPython.core.display.HTML object>",
      "text/html": "Run data is saved locally in <code>C:\\FHNW_Programmiersachen\\5_Sem\\immo_challenge\\wandb\\run-20241119_125701-de5ekbav</code>"
     },
     "metadata": {},
     "output_type": "display_data"
    },
    {
     "data": {
      "text/plain": "<IPython.core.display.HTML object>",
      "text/html": "Syncing run <strong><a href='https://wandb.ai/denis-schatzmann/Immo-Challenge/runs/de5ekbav' target=\"_blank\">MLP-bs16-lr1e-05</a></strong> to <a href='https://wandb.ai/denis-schatzmann/Immo-Challenge' target=\"_blank\">Weights & Biases</a> (<a href='https://wandb.me/run' target=\"_blank\">docs</a>)<br/>"
     },
     "metadata": {},
     "output_type": "display_data"
    },
    {
     "data": {
      "text/plain": "<IPython.core.display.HTML object>",
      "text/html": " View project at <a href='https://wandb.ai/denis-schatzmann/Immo-Challenge' target=\"_blank\">https://wandb.ai/denis-schatzmann/Immo-Challenge</a>"
     },
     "metadata": {},
     "output_type": "display_data"
    },
    {
     "data": {
      "text/plain": "<IPython.core.display.HTML object>",
      "text/html": " View run at <a href='https://wandb.ai/denis-schatzmann/Immo-Challenge/runs/de5ekbav' target=\"_blank\">https://wandb.ai/denis-schatzmann/Immo-Challenge/runs/de5ekbav</a>"
     },
     "metadata": {},
     "output_type": "display_data"
    },
    {
     "name": "stdout",
     "output_type": "stream",
     "text": [
      "Epoch 1, Loss: 187.93222057458127, Train MAPE: 100460667.64772727, Test MAPE: 102455699.45454545\n",
      "Epoch 2, Loss: 175.49296270717275, Train MAPE: 56922571.16477273, Test MAPE: 58095118.303030305\n",
      "Epoch 3, Loss: 153.27358846953422, Train MAPE: 12454093.733901516, Test MAPE: 12710159.159090908\n",
      "Epoch 4, Loss: 71.08589926362038, Train MAPE: 2936.224909291123, Test MAPE: 3020.187767837987\n",
      "Epoch 5, Loss: 7.585397704984203, Train MAPE: 414.28956976081383, Test MAPE: 428.32844731301975\n",
      "Epoch 6, Loss: 5.064505907622251, Train MAPE: 314.87620028221244, Test MAPE: 324.0512496774847\n",
      "Epoch 7, Loss: 3.798069681690046, Train MAPE: 238.35246442303514, Test MAPE: 244.78757851051563\n",
      "Epoch 8, Loss: 3.0200389346220726, Train MAPE: 218.60845097267267, Test MAPE: 223.7469475486062\n",
      "Epoch 9, Loss: 2.501974813781227, Train MAPE: 171.69026657306787, Test MAPE: 175.20225782105416\n",
      "Epoch 10, Loss: 2.1363609416240994, Train MAPE: 170.29460652669272, Test MAPE: 173.30349676536792\n",
      "Epoch 11, Loss: 1.8641901387635507, Train MAPE: 153.91657438422695, Test MAPE: 156.42012944365993\n",
      "Epoch 12, Loss: 1.6558085541156204, Train MAPE: 147.67422073537654, Test MAPE: 149.77844473809907\n",
      "Epoch 13, Loss: 1.4928904139916555, Train MAPE: 133.5628868413694, Test MAPE: 135.3223116614602\n",
      "Epoch 14, Loss: 1.361729057985499, Train MAPE: 127.55619401642771, Test MAPE: 129.09159554857197\n",
      "Epoch 15, Loss: 1.254731597886844, Train MAPE: 124.54871745543046, Test MAPE: 125.97735058177601\n",
      "Epoch 16, Loss: 1.1660436372216227, Train MAPE: 115.33074435682008, Test MAPE: 116.6576534618031\n",
      "Epoch 17, Loss: 1.0920788298050563, Train MAPE: 113.1469281984098, Test MAPE: 114.30508142529112\n",
      "Epoch 18, Loss: 1.0293471457323793, Train MAPE: 110.05689764745307, Test MAPE: 111.16373845302698\n",
      "Epoch 19, Loss: 0.9754594223023477, Train MAPE: 104.87640097105142, Test MAPE: 105.93864660552053\n",
      "Epoch 20, Loss: 0.9290964901023968, Train MAPE: 102.23317884857005, Test MAPE: 103.16144467845108\n",
      "Epoch 21, Loss: 0.8883021733526028, Train MAPE: 99.83756944627473, Test MAPE: 100.77673873034391\n",
      "Epoch 22, Loss: 0.8525663360981552, Train MAPE: 98.63414013927633, Test MAPE: 99.54542739463575\n",
      "Epoch 23, Loss: 0.8209903797868526, Train MAPE: 95.74618332675009, Test MAPE: 96.6311661980369\n",
      "Epoch 24, Loss: 0.7926870805183144, Train MAPE: 94.43182961146037, Test MAPE: 95.26506119785887\n",
      "Epoch 25, Loss: 0.767384011298418, Train MAPE: 91.57541534033689, Test MAPE: 92.41656656698747\n",
      "Epoch 26, Loss: 0.7447671818434063, Train MAPE: 90.76620078628713, Test MAPE: 91.60822095292987\n",
      "Epoch 27, Loss: 0.7240972062713946, Train MAPE: 89.01481956604755, Test MAPE: 89.86001458312526\n",
      "Epoch 28, Loss: 0.7052026878703724, Train MAPE: 86.26762640837467, Test MAPE: 87.13569727810946\n",
      "Epoch 29, Loss: 0.6878919066776606, Train MAPE: 85.61975433609702, Test MAPE: 86.47531994906339\n",
      "Epoch 30, Loss: 0.6719705494346492, Train MAPE: 84.84901757673784, Test MAPE: 85.71698662006494\n",
      "Epoch 31, Loss: 0.6572379939907202, Train MAPE: 83.40251772692709, Test MAPE: 84.31559521501714\n",
      "Epoch 32, Loss: 0.6435466137517131, Train MAPE: 82.72379519722678, Test MAPE: 83.65038097988476\n",
      "Epoch 33, Loss: 0.6309198193943523, Train MAPE: 79.15137314977068, Test MAPE: 80.10827391075365\n",
      "Epoch 34, Loss: 0.6189775182301123, Train MAPE: 78.78822554241528, Test MAPE: 79.76457754770915\n",
      "Epoch 35, Loss: 0.6079817286579672, Train MAPE: 79.10272575869705, Test MAPE: 80.11244851170164\n",
      "Epoch 36, Loss: 0.5975904713779914, Train MAPE: 78.72509026527405, Test MAPE: 79.75059304092869\n",
      "Epoch 37, Loss: 0.587662442883646, Train MAPE: 76.60613808848642, Test MAPE: 77.66276242516257\n",
      "Epoch 38, Loss: 0.5782568332118293, Train MAPE: 76.00718833280332, Test MAPE: 77.08933862050374\n",
      "Epoch 39, Loss: 0.5694454003647534, Train MAPE: 76.26624197851528, Test MAPE: 77.37146090738702\n",
      "Epoch 40, Loss: 0.5612817363051529, Train MAPE: 73.8606546701807, Test MAPE: 75.00298948721452\n",
      "Epoch 41, Loss: 0.5532211816982564, Train MAPE: 72.48587148839778, Test MAPE: 73.66294279965487\n",
      "Epoch 42, Loss: 0.5456318810342274, Train MAPE: 71.7827860496261, Test MAPE: 72.99462915189338\n",
      "Epoch 43, Loss: 0.5385082280686633, Train MAPE: 71.8343906547084, Test MAPE: 73.08133016933094\n",
      "Epoch 44, Loss: 0.531570385224327, Train MAPE: 70.53495750643991, Test MAPE: 71.81967427513815\n",
      "Epoch 45, Loss: 0.5248848225949614, Train MAPE: 70.13869147228472, Test MAPE: 71.44516885641849\n",
      "Epoch 46, Loss: 0.5185732607602734, Train MAPE: 69.19493683359839, Test MAPE: 70.54051858006102\n",
      "Epoch 47, Loss: 0.5123570357788015, Train MAPE: 69.8972760420857, Test MAPE: 71.261733380231\n",
      "Epoch 48, Loss: 0.5065830427109066, Train MAPE: 68.31291767142035, Test MAPE: 69.71261645085883\n",
      "Epoch 49, Loss: 0.500896513497344, Train MAPE: 67.66250732992634, Test MAPE: 69.09307117895646\n",
      "Epoch 50, Loss: 0.49535518857142463, Train MAPE: 65.82348668936527, Test MAPE: 67.28286152174978\n",
      "Epoch 51, Loss: 0.4903304699780137, Train MAPE: 66.61639116388379, Test MAPE: 68.1049192457488\n",
      "Epoch 52, Loss: 0.4852303568499558, Train MAPE: 66.48714830658652, Test MAPE: 68.00010408777179\n",
      "Epoch 53, Loss: 0.4802139080694002, Train MAPE: 65.42591813477603, Test MAPE: 66.96711936863986\n",
      "Epoch 54, Loss: 0.47549060971306806, Train MAPE: 64.99221898570205, Test MAPE: 66.5619558132056\n",
      "Epoch 55, Loss: 0.4709599771974326, Train MAPE: 64.39324289560318, Test MAPE: 65.99621228015783\n",
      "Epoch 56, Loss: 0.466426582470762, Train MAPE: 63.77438162131743, Test MAPE: 65.40669300339438\n",
      "Epoch 57, Loss: 0.4621483904986896, Train MAPE: 63.878954909064554, Test MAPE: 65.53074974724741\n",
      "Epoch 58, Loss: 0.4579972176756145, Train MAPE: 63.3572574727463, Test MAPE: 65.03969347838199\n",
      "Epoch 59, Loss: 0.45426286984178604, Train MAPE: 63.5120218612931, Test MAPE: 65.22090531840469\n",
      "Epoch 60, Loss: 0.44992065058569564, Train MAPE: 62.0143751393665, Test MAPE: 63.75363893219919\n",
      "Epoch 61, Loss: 0.4460700423118066, Train MAPE: 61.51040852972955, Test MAPE: 63.270469224814214\n",
      "Epoch 62, Loss: 0.442311459580775, Train MAPE: 62.03531685742465, Test MAPE: 63.823540788708314\n",
      "Epoch 63, Loss: 0.4386591728014702, Train MAPE: 60.75002722667925, Test MAPE: 62.5635354013154\n",
      "Epoch 64, Loss: 0.43507735719763196, Train MAPE: 60.6242449518406, Test MAPE: 62.462504249630555\n",
      "Epoch 65, Loss: 0.431565335958801, Train MAPE: 59.68081573284034, Test MAPE: 61.53909748250788\n",
      "Epoch 66, Loss: 0.4282498813417712, Train MAPE: 60.44617731101585, Test MAPE: 62.33581584872621\n",
      "Epoch 67, Loss: 0.4249826906051374, Train MAPE: 59.60437308297013, Test MAPE: 61.51475334889961\n",
      "Epoch 68, Loss: 0.42169059393927455, Train MAPE: 60.50694943558086, Test MAPE: 62.456232540535204\n",
      "Epoch 69, Loss: 0.41864045518873766, Train MAPE: 58.71282399061954, Test MAPE: 60.671962116703845\n",
      "Epoch 70, Loss: 0.4155078823184312, Train MAPE: 57.93827680385474, Test MAPE: 59.91889701467572\n",
      "Epoch 71, Loss: 0.4124839384546221, Train MAPE: 58.877854565779366, Test MAPE: 60.89439462892937\n",
      "Epoch 72, Loss: 0.4095775663401141, Train MAPE: 58.48680200179418, Test MAPE: 60.52188835722028\n",
      "Epoch 73, Loss: 0.40670788404531777, Train MAPE: 57.43841568448327, Test MAPE: 59.48651101372459\n",
      "Epoch 74, Loss: 0.4038836260142764, Train MAPE: 56.62470738996159, Test MAPE: 58.68566787604129\n",
      "Epoch 75, Loss: 0.4011414953027711, Train MAPE: 56.80047162554481, Test MAPE: 58.88501290841536\n",
      "Epoch 76, Loss: 0.39841475939575693, Train MAPE: 57.1532489675464, Test MAPE: 59.267688512802124\n",
      "Epoch 77, Loss: 0.39575852242749976, Train MAPE: 57.076898889108136, Test MAPE: 59.21423319614295\n",
      "Epoch 78, Loss: 0.3931628817156183, Train MAPE: 55.942888061205544, Test MAPE: 58.09036281614593\n",
      "Epoch 79, Loss: 0.3905953692173529, Train MAPE: 55.79819054133964, Test MAPE: 57.967823686021745\n",
      "Epoch 80, Loss: 0.388147853321932, Train MAPE: 55.26432819619323, Test MAPE: 57.443685271523215\n",
      "Epoch 81, Loss: 0.38568822137842124, Train MAPE: 56.098622011415884, Test MAPE: 58.32062941609007\n",
      "Epoch 82, Loss: 0.38322808464043634, Train MAPE: 54.24101156718803, Test MAPE: 56.45552907568036\n",
      "Epoch 83, Loss: 0.3809595353986052, Train MAPE: 55.37631364844062, Test MAPE: 57.63672293316234\n",
      "Epoch 84, Loss: 0.37865310148900433, Train MAPE: 54.813154677549996, Test MAPE: 57.08762037392819\n",
      "Epoch 85, Loss: 0.3763714155789013, Train MAPE: 54.40635725765517, Test MAPE: 56.69335436820984\n",
      "Epoch 86, Loss: 0.3741162792271511, Train MAPE: 54.722758159492955, Test MAPE: 57.045192928025216\n",
      "Epoch 87, Loss: 0.3719546466247376, Train MAPE: 53.90438391403718, Test MAPE: 56.22542059782779\n",
      "Epoch 88, Loss: 0.3698623786242961, Train MAPE: 53.769188263199545, Test MAPE: 56.11396962946112\n",
      "Epoch 89, Loss: 0.36773871548586723, Train MAPE: 54.13026481144356, Test MAPE: 56.51049382758863\n",
      "Epoch 90, Loss: 0.36570469126331084, Train MAPE: 53.420318534879975, Test MAPE: 55.80039371866168\n",
      "Epoch 91, Loss: 0.36367050442971627, Train MAPE: 52.92390440991431, Test MAPE: 55.31111812591553\n",
      "Epoch 92, Loss: 0.3616183789475172, Train MAPE: 53.15109817728852, Test MAPE: 55.56513951041482\n",
      "Epoch 93, Loss: 0.3597543620694937, Train MAPE: 52.76853885433891, Test MAPE: 55.19870444500085\n",
      "Epoch 94, Loss: 0.35777671380448295, Train MAPE: 51.993112647172175, Test MAPE: 54.417255625580296\n",
      "Epoch 95, Loss: 0.3558025792466872, Train MAPE: 51.681225046967015, Test MAPE: 54.12722781932715\n",
      "Epoch 96, Loss: 0.35397178913946403, Train MAPE: 52.148706981630035, Test MAPE: 54.62706918427438\n",
      "Epoch 97, Loss: 0.35213087876609556, Train MAPE: 52.39666426181793, Test MAPE: 54.910124670375474\n",
      "Epoch 98, Loss: 0.3502988223212235, Train MAPE: 51.53951520088947, Test MAPE: 54.04721191435149\n",
      "Epoch 99, Loss: 0.3484937977751322, Train MAPE: 51.91739905783624, Test MAPE: 54.45893955230713\n",
      "Epoch 100, Loss: 0.3467455155667708, Train MAPE: 51.07607413963838, Test MAPE: 53.60530894452875\n",
      "Epoch 101, Loss: 0.34501557130804006, Train MAPE: 51.38266995097651, Test MAPE: 53.95365130540097\n",
      "Epoch 102, Loss: 0.34329146169704583, Train MAPE: 50.6329406951413, Test MAPE: 53.19401536565839\n",
      "Epoch 103, Loss: 0.3416212886487218, Train MAPE: 50.07213034232458, Test MAPE: 52.63599055463617\n",
      "Epoch 104, Loss: 0.3400401399880083, Train MAPE: 50.71769146666382, Test MAPE: 53.31982357574232\n",
      "Epoch 105, Loss: 0.33841876864828396, Train MAPE: 50.43044599258538, Test MAPE: 53.04252119497819\n",
      "Epoch 106, Loss: 0.3367180159865794, Train MAPE: 49.90788304625136, Test MAPE: 52.52200503060312\n",
      "Epoch 107, Loss: 0.33517718984689, Train MAPE: 49.62106484535968, Test MAPE: 52.24286551909013\n",
      "Epoch 108, Loss: 0.3336948448065386, Train MAPE: 50.282183993946425, Test MAPE: 52.95095866376703\n",
      "Epoch 109, Loss: 0.3321187316764598, Train MAPE: 49.58671953822627, Test MAPE: 52.25432807748968\n",
      "Epoch 110, Loss: 0.33056567542635923, Train MAPE: 49.58927564909964, Test MAPE: 52.27728985295151\n",
      "Epoch 111, Loss: 0.329120473830368, Train MAPE: 49.31458578868346, Test MAPE: 52.002965096271396\n",
      "Epoch 112, Loss: 0.32765618882452446, Train MAPE: 49.13307512167728, Test MAPE: 51.830497886195324\n",
      "Epoch 113, Loss: 0.32625038491801894, Train MAPE: 49.25579991846374, Test MAPE: 51.9878796230663\n",
      "Epoch 114, Loss: 0.32479177820355154, Train MAPE: 49.47235865484584, Test MAPE: 52.23317864446929\n",
      "Epoch 115, Loss: 0.323398114866436, Train MAPE: 48.53439681638371, Test MAPE: 51.266501527844056\n",
      "Epoch 116, Loss: 0.32207756832411344, Train MAPE: 48.85058961311976, Test MAPE: 51.62006829724167\n",
      "Epoch 117, Loss: 0.3206686534297963, Train MAPE: 48.88029105193687, Test MAPE: 51.6699423789978\n",
      "Epoch 118, Loss: 0.3192803236747612, Train MAPE: 48.24461259805795, Test MAPE: 51.02072394977916\n",
      "Epoch 119, Loss: 0.31795288650953973, Train MAPE: 48.51059330954696, Test MAPE: 51.315330266952515\n",
      "Epoch 120, Loss: 0.3166442010198917, Train MAPE: 48.23297172062325, Test MAPE: 51.03965121327025\n",
      "Epoch 121, Loss: 0.3153273920443925, Train MAPE: 48.26605392224861, Test MAPE: 51.10417808185924\n",
      "Epoch 122, Loss: 0.31416572731298703, Train MAPE: 48.467927837010585, Test MAPE: 51.32248320001544\n",
      "Epoch 123, Loss: 0.3128108855153462, Train MAPE: 47.55525015520327, Test MAPE: 50.392427653977364\n",
      "Epoch 124, Loss: 0.31154353013897146, Train MAPE: 48.05173466602961, Test MAPE: 50.9242718075261\n",
      "Epoch 125, Loss: 0.3103291065940125, Train MAPE: 47.657450289437264, Test MAPE: 50.527449463353015\n",
      "Epoch 126, Loss: 0.30909823833357997, Train MAPE: 47.78099545926759, Test MAPE: 50.67367200417952\n",
      "Epoch 127, Loss: 0.3078858061185615, Train MAPE: 47.58067189202164, Test MAPE: 50.48948600797942\n",
      "Epoch 128, Loss: 0.3067411966269102, Train MAPE: 47.110826481472365, Test MAPE: 50.00937405499545\n",
      "Epoch 129, Loss: 0.30555626431437716, Train MAPE: 46.82813320737897, Test MAPE: 49.72667514194142\n",
      "Epoch 130, Loss: 0.3043510339603844, Train MAPE: 47.20445506139235, Test MAPE: 50.14432458444075\n",
      "Epoch 131, Loss: 0.3032506652931316, Train MAPE: 46.83006546623779, Test MAPE: 49.76252904082789\n",
      "Epoch 132, Loss: 0.30213732195481885, Train MAPE: 46.65283781651294, Test MAPE: 49.59833085898197\n",
      "Epoch 133, Loss: 0.3010019326836548, Train MAPE: 46.24185787005858, Test MAPE: 49.18290106455485\n",
      "Epoch 134, Loss: 0.29989730564623396, Train MAPE: 46.14804324778643, Test MAPE: 49.09454292239565\n",
      "Epoch 135, Loss: 0.298853880376555, Train MAPE: 46.35734271461313, Test MAPE: 49.33622417305455\n",
      "Epoch 136, Loss: 0.2977414386255215, Train MAPE: 46.20339708255999, Test MAPE: 49.188123471809156\n",
      "Epoch 137, Loss: 0.2966451928739182, Train MAPE: 46.75146029212258, Test MAPE: 49.78638469811642\n",
      "Epoch 138, Loss: 0.2956529646286402, Train MAPE: 46.40576548829223, Test MAPE: 49.43671956929293\n",
      "Epoch 139, Loss: 0.2945517439423411, Train MAPE: 45.446339003967516, Test MAPE: 48.445389617573134\n",
      "Epoch 140, Loss: 0.2935549708675932, Train MAPE: 45.76634884964336, Test MAPE: 48.78111252640233\n",
      "Epoch 141, Loss: 0.2925832847761216, Train MAPE: 45.93553426952073, Test MAPE: 48.987374565818094\n",
      "Epoch 142, Loss: 0.2915096105302148, Train MAPE: 45.3687387397795, Test MAPE: 48.40845653505036\n",
      "Epoch 143, Loss: 0.2905539931715325, Train MAPE: 45.34553807070761, Test MAPE: 48.38686647559657\n",
      "Epoch 144, Loss: 0.2895942626337549, Train MAPE: 45.440545555317044, Test MAPE: 48.50589565797286\n",
      "Epoch 145, Loss: 0.28855940940168995, Train MAPE: 44.849556537288606, Test MAPE: 47.90894796631553\n",
      "Epoch 146, Loss: 0.28764266933483834, Train MAPE: 44.71269963546233, Test MAPE: 47.77820191238866\n",
      "Epoch 147, Loss: 0.28665041814515874, Train MAPE: 44.54910157666062, Test MAPE: 47.61069344029282\n",
      "Epoch 148, Loss: 0.2857351220057656, Train MAPE: 44.8745283574769, Test MAPE: 47.96815223404855\n",
      "Epoch 149, Loss: 0.2847792382641329, Train MAPE: 44.62714018424352, Test MAPE: 47.70962953567505\n",
      "Epoch 150, Loss: 0.2837978739954644, Train MAPE: 45.389970969070085, Test MAPE: 48.54564939123212\n",
      "Epoch 151, Loss: 0.2829297366446223, Train MAPE: 44.33982187509537, Test MAPE: 47.45961299809542\n",
      "Epoch 152, Loss: 0.28202430057254707, Train MAPE: 44.08597606239897, Test MAPE: 47.20595861203743\n",
      "Epoch 153, Loss: 0.2809595049810455, Train MAPE: 43.509800878438085, Test MAPE: 46.6095327536265\n",
      "Epoch 154, Loss: 0.2802567090592206, Train MAPE: 44.04833849271139, Test MAPE: 47.19751747449239\n",
      "Epoch 155, Loss: 0.27932613884508045, Train MAPE: 44.80095995014364, Test MAPE: 47.99580304550402\n",
      "Epoch 156, Loss: 0.27851147705576185, Train MAPE: 44.58410847909523, Test MAPE: 47.78083395957947\n",
      "Epoch 157, Loss: 0.27765440902051824, Train MAPE: 44.09755199515458, Test MAPE: 47.293072469306715\n",
      "Epoch 158, Loss: 0.2767998438476669, Train MAPE: 44.07797192443501, Test MAPE: 47.281585303219885\n",
      "Epoch 159, Loss: 0.2759421839780936, Train MAPE: 43.60090373862874, Test MAPE: 46.7881808497689\n",
      "Epoch 160, Loss: 0.27508201721745235, Train MAPE: 43.803296780947484, Test MAPE: 47.024261929772116\n",
      "Epoch 161, Loss: 0.2743877571033822, Train MAPE: 44.07985023115621, Test MAPE: 47.325054161476366\n",
      "Epoch 162, Loss: 0.27351421378129587, Train MAPE: 43.60574404579221, Test MAPE: 46.83727937033682\n",
      "Epoch 163, Loss: 0.2726832401381354, Train MAPE: 43.61508890534892, Test MAPE: 46.85320862134298\n",
      "Epoch 164, Loss: 0.27180839552558167, Train MAPE: 43.05487634015806, Test MAPE: 46.28146983637954\n",
      "Epoch 165, Loss: 0.2710608334111219, Train MAPE: 43.19962814450264, Test MAPE: 46.43948479854699\n",
      "Epoch 166, Loss: 0.2702829064095788, Train MAPE: 43.224697035370454, Test MAPE: 46.48474668011521\n",
      "Epoch 167, Loss: 0.2694861270226256, Train MAPE: 43.26033548694669, Test MAPE: 46.541967204122834\n",
      "Epoch 168, Loss: 0.26870328331874177, Train MAPE: 43.0006622672081, Test MAPE: 46.28319484537298\n",
      "Epoch 169, Loss: 0.2679300442387378, Train MAPE: 42.69906032988519, Test MAPE: 45.957669561559506\n",
      "Epoch 170, Loss: 0.2672070860651068, Train MAPE: 43.4131049730561, Test MAPE: 46.73457985213309\n",
      "Epoch 171, Loss: 0.26642334730731265, Train MAPE: 42.961053452708505, Test MAPE: 46.2658312031717\n",
      "Epoch 172, Loss: 0.26567522079726175, Train MAPE: 42.70048036539193, Test MAPE: 46.00178897742069\n",
      "Epoch 173, Loss: 0.2648990979862653, Train MAPE: 42.44427904938207, Test MAPE: 45.73830699198174\n",
      "Epoch 174, Loss: 0.2642243337979766, Train MAPE: 42.946227711258516, Test MAPE: 46.28661419406082\n",
      "Epoch 175, Loss: 0.26346948078593635, Train MAPE: 43.01787074045701, Test MAPE: 46.38588241374854\n",
      "Epoch 176, Loss: 0.26274870225637587, Train MAPE: 42.5251179933548, Test MAPE: 45.87661467898976\n",
      "Epoch 177, Loss: 0.26201266743186297, Train MAPE: 42.018132914196364, Test MAPE: 45.35140404556737\n",
      "Epoch 178, Loss: 0.26133136524268513, Train MAPE: 42.386585201277875, Test MAPE: 45.75491743376761\n",
      "Epoch 179, Loss: 0.2606269312126449, Train MAPE: 42.08478652527838, Test MAPE: 45.443766731204406\n",
      "Epoch 180, Loss: 0.2599239238594292, Train MAPE: 42.0311718565045, Test MAPE: 45.398082147945054\n",
      "Epoch 181, Loss: 0.25924197728675086, Train MAPE: 42.43742974870133, Test MAPE: 45.842000144900695\n",
      "Epoch 182, Loss: 0.25851365276189014, Train MAPE: 42.19924062671083, Test MAPE: 45.60880390803019\n",
      "Epoch 183, Loss: 0.25785453059484786, Train MAPE: 42.59950130816662, Test MAPE: 46.0349710782369\n",
      "Epoch 184, Loss: 0.25722992758859287, Train MAPE: 41.9227117859956, Test MAPE: 45.32753422766021\n",
      "Epoch 185, Loss: 0.2564938251973327, Train MAPE: 41.87081356301452, Test MAPE: 45.28474444331545\n",
      "Epoch 186, Loss: 0.25591114463609166, Train MAPE: 41.77065766941417, Test MAPE: 45.193410353227094\n",
      "Epoch 187, Loss: 0.2551329245466287, Train MAPE: 42.148776290994704, Test MAPE: 45.60502362973762\n",
      "Epoch 188, Loss: 0.25455639852126216, Train MAPE: 41.45813812450929, Test MAPE: 44.87797259561943\n",
      "Epoch 189, Loss: 0.25387448019517417, Train MAPE: 41.621847212314606, Test MAPE: 45.06202794566299\n",
      "Epoch 190, Loss: 0.2532515649323944, Train MAPE: 41.386564151807264, Test MAPE: 44.83235275384152\n",
      "Epoch 191, Loss: 0.25264675052356766, Train MAPE: 41.67201800779863, Test MAPE: 45.13928780411229\n",
      "Epoch 192, Loss: 0.2519746216289191, Train MAPE: 41.65150198069486, Test MAPE: 45.12997016039762\n",
      "Epoch 193, Loss: 0.25125644211375125, Train MAPE: 40.57073244000926, Test MAPE: 43.986745530908756\n",
      "Epoch 194, Loss: 0.25073914127212693, Train MAPE: 41.731092516219974, Test MAPE: 45.24485280297019\n",
      "Epoch 195, Loss: 0.25009541331338836, Train MAPE: 41.439187891555555, Test MAPE: 44.95137468973795\n",
      "Epoch 196, Loss: 0.2494836046226379, Train MAPE: 40.99785992232236, Test MAPE: 44.48156883499839\n",
      "Epoch 197, Loss: 0.2489054981816673, Train MAPE: 41.09756049242887, Test MAPE: 44.60653242197904\n",
      "Epoch 198, Loss: 0.24831693222266482, Train MAPE: 40.98131065838265, Test MAPE: 44.490376848163024\n",
      "Epoch 199, Loss: 0.24771376970139417, Train MAPE: 41.02768896023432, Test MAPE: 44.551608150655575\n",
      "Epoch 200, Loss: 0.24704238484176158, Train MAPE: 40.88738017913067, Test MAPE: 44.413165952220105\n",
      "Epoch 201, Loss: 0.24650917504561332, Train MAPE: 40.88405355449879, Test MAPE: 44.42108286510814\n",
      "Epoch 202, Loss: 0.24591004557794693, Train MAPE: 40.54931704835458, Test MAPE: 44.069097338300764\n",
      "Epoch 203, Loss: 0.24532262559373383, Train MAPE: 40.621636896422416, Test MAPE: 44.15639638900757\n",
      "Epoch 204, Loss: 0.24470309672919524, Train MAPE: 40.90091743252494, Test MAPE: 44.47260534402096\n",
      "Epoch 205, Loss: 0.24417344618334688, Train MAPE: 40.595750551332124, Test MAPE: 44.15261668869943\n",
      "Epoch 206, Loss: 0.24361075073918045, Train MAPE: 40.74434476368355, Test MAPE: 44.31709931113503\n",
      "Epoch 207, Loss: 0.24309877608902752, Train MAPE: 40.61837094299721, Test MAPE: 44.194927519018\n",
      "Epoch 208, Loss: 0.24249746100835953, Train MAPE: 40.31414969400926, Test MAPE: 43.875476916631065\n",
      "Epoch 209, Loss: 0.24191813047439087, Train MAPE: 40.216834499980465, Test MAPE: 43.790071747519754\n",
      "Epoch 210, Loss: 0.24137370362454516, Train MAPE: 40.496397171959735, Test MAPE: 44.09930336836612\n",
      "Epoch 211, Loss: 0.24081391890208717, Train MAPE: 40.14836544611237, Test MAPE: 43.73553232713179\n",
      "Epoch 212, Loss: 0.24027260525899968, Train MAPE: 40.13399203618368, Test MAPE: 43.724906235030204\n",
      "Epoch 213, Loss: 0.23971641818273134, Train MAPE: 40.345456231724135, Test MAPE: 43.9691648049788\n",
      "Epoch 214, Loss: 0.23920195000810604, Train MAPE: 40.37182595874324, Test MAPE: 44.006992210041396\n",
      "Epoch 215, Loss: 0.23866797829484285, Train MAPE: 40.00349420670307, Test MAPE: 43.620818651083745\n",
      "Epoch 216, Loss: 0.23814101603630028, Train MAPE: 40.05354028578961, Test MAPE: 43.685168490265355\n",
      "Epoch 217, Loss: 0.23767622866470253, Train MAPE: 39.95111296935515, Test MAPE: 43.585352796496764\n",
      "Epoch 218, Loss: 0.2371152367259404, Train MAPE: 39.96865416476221, Test MAPE: 43.60589000673005\n",
      "Epoch 219, Loss: 0.23654975901555383, Train MAPE: 39.957800164367214, Test MAPE: 43.61473701939438\n",
      "Epoch 220, Loss: 0.23606721417992516, Train MAPE: 39.748653765880704, Test MAPE: 43.39319567246871\n",
      "Epoch 221, Loss: 0.23552340273322028, Train MAPE: 39.660933117071785, Test MAPE: 43.319121331879586\n",
      "Epoch 222, Loss: 0.23503811979511133, Train MAPE: 39.7330017469146, Test MAPE: 43.3955120751352\n",
      "Epoch 223, Loss: 0.23452424757521262, Train MAPE: 39.55841105002345, Test MAPE: 43.228724934838034\n",
      "Epoch 224, Loss: 0.23403558832819038, Train MAPE: 39.47693160808448, Test MAPE: 43.14457846410347\n",
      "Epoch 225, Loss: 0.23353060010369076, Train MAPE: 39.707306520505384, Test MAPE: 43.40624754356615\n",
      "Epoch 226, Loss: 0.2330414731175441, Train MAPE: 39.68216864990465, Test MAPE: 43.38769787008112\n",
      "Epoch 227, Loss: 0.23249306793282318, Train MAPE: 39.102873827471875, Test MAPE: 42.764442364374794\n",
      "Epoch 228, Loss: 0.23205149561611257, Train MAPE: 39.18026306051196, Test MAPE: 42.856464559381656\n",
      "Epoch 229, Loss: 0.231570116586447, Train MAPE: 39.31414503942836, Test MAPE: 43.02943442807053\n",
      "Epoch 230, Loss: 0.2311166395983574, Train MAPE: 39.218626175865985, Test MAPE: 42.93292333140518\n",
      "Epoch 231, Loss: 0.23061859264800494, Train MAPE: 38.927592701984175, Test MAPE: 42.61503825765668\n",
      "Epoch 232, Loss: 0.23012738493906165, Train MAPE: 39.33058860988328, Test MAPE: 43.059494141376376\n",
      "Epoch 233, Loss: 0.2296120458649415, Train MAPE: 39.56683022686929, Test MAPE: 43.33875614946539\n",
      "Epoch 234, Loss: 0.22915301135049737, Train MAPE: 38.52174506584803, Test MAPE: 42.186539541591294\n",
      "Epoch 235, Loss: 0.22881123349141103, Train MAPE: 38.95778900746143, Test MAPE: 42.68416795586095\n",
      "Epoch 236, Loss: 0.22828190776194926, Train MAPE: 39.07888345013965, Test MAPE: 42.82847527301673\n",
      "Epoch 237, Loss: 0.22783310457386755, Train MAPE: 38.933562859441295, Test MAPE: 42.68721245274399\n",
      "Epoch 238, Loss: 0.22732535855505953, Train MAPE: 38.60157964446328, Test MAPE: 42.32020931532889\n",
      "Epoch 239, Loss: 0.22692483410620215, Train MAPE: 39.0308224179528, Test MAPE: 42.81063265511484\n",
      "Epoch 240, Loss: 0.22642186974090608, Train MAPE: 39.175537744254775, Test MAPE: 42.97383863998182\n",
      "Epoch 241, Loss: 0.2260732791301879, Train MAPE: 38.769838054974876, Test MAPE: 42.53200959436821\n",
      "Epoch 242, Loss: 0.22553137842579885, Train MAPE: 38.61242425532052, Test MAPE: 42.383324240193225\n",
      "Epoch 243, Loss: 0.22509652925443582, Train MAPE: 38.430134719068356, Test MAPE: 42.18186335852652\n",
      "Epoch 244, Loss: 0.2246635990873487, Train MAPE: 38.54671940659032, Test MAPE: 42.31960144909945\n",
      "Epoch 245, Loss: 0.22420958675458236, Train MAPE: 38.47436365575501, Test MAPE: 42.2571226828026\n",
      "Epoch 246, Loss: 0.2237610792825845, Train MAPE: 38.20341577313163, Test MAPE: 41.972458615447536\n",
      "Epoch 247, Loss: 0.22332042707906416, Train MAPE: 38.719659781817235, Test MAPE: 42.54604018818248\n",
      "Epoch 248, Loss: 0.22291974222400424, Train MAPE: 38.28815676858931, Test MAPE: 42.07416461453293\n",
      "Epoch 249, Loss: 0.2224951711250469, Train MAPE: 38.50393324548548, Test MAPE: 42.325120275670834\n",
      "Epoch 250, Loss: 0.22211594435485135, Train MAPE: 38.65736255501256, Test MAPE: 42.50162129691153\n",
      "Epoch 251, Loss: 0.22163465695991885, Train MAPE: 38.26755125775482, Test MAPE: 42.08858114300352\n",
      "Epoch 252, Loss: 0.22122189940560158, Train MAPE: 37.97937628988063, Test MAPE: 41.788572520920724\n",
      "Epoch 253, Loss: 0.2208019305112292, Train MAPE: 38.15619829838926, Test MAPE: 41.98463442108848\n",
      "Epoch 254, Loss: 0.22036783705874713, Train MAPE: 37.96491093165947, Test MAPE: 41.790467601833925\n",
      "Epoch 255, Loss: 0.2199146017135883, Train MAPE: 38.38580012863333, Test MAPE: 42.2597411329096\n",
      "Epoch 256, Loss: 0.21954568875177452, Train MAPE: 37.858364365317605, Test MAPE: 41.6922921628663\n",
      "Epoch 257, Loss: 0.2191346665689101, Train MAPE: 38.085459700136475, Test MAPE: 41.944838625012025\n",
      "Epoch 258, Loss: 0.21871283857123644, Train MAPE: 38.15190043052038, Test MAPE: 42.034083648161456\n",
      "Epoch 259, Loss: 0.2183286114560553, Train MAPE: 38.0362023006786, Test MAPE: 41.90865524609884\n",
      "Epoch 260, Loss: 0.21790855580404628, Train MAPE: 37.848126926205374, Test MAPE: 41.71824052839568\n",
      "Epoch 261, Loss: 0.217506225033889, Train MAPE: 37.50414761991212, Test MAPE: 41.33089964317553\n",
      "Epoch 262, Loss: 0.21714171722079767, Train MAPE: 37.88185075015733, Test MAPE: 41.772209311976574\n",
      "Epoch 263, Loss: 0.21672745697397852, Train MAPE: 37.729786710305646, Test MAPE: 41.61988517732331\n",
      "Epoch 264, Loss: 0.21637345656442145, Train MAPE: 37.77519279628089, Test MAPE: 41.66610209147135\n",
      "Epoch 265, Loss: 0.21594476412671307, Train MAPE: 37.47276694666255, Test MAPE: 41.34653799461596\n",
      "Epoch 266, Loss: 0.2155324514059237, Train MAPE: 37.692456075639434, Test MAPE: 41.600806886499576\n",
      "Epoch 267, Loss: 0.21518807184783686, Train MAPE: 37.610865909944884, Test MAPE: 41.51465520714269\n",
      "Epoch 268, Loss: 0.2147944232724099, Train MAPE: 37.424009865883626, Test MAPE: 41.31173253781868\n",
      "Epoch 269, Loss: 0.2144195735525114, Train MAPE: 37.873083263635635, Test MAPE: 41.82005556424459\n",
      "Epoch 270, Loss: 0.21403365205465394, Train MAPE: 37.27330827351773, Test MAPE: 41.16737963214065\n",
      "Epoch 271, Loss: 0.21364430230548323, Train MAPE: 37.595255465218514, Test MAPE: 41.537449634436406\n",
      "Epoch 272, Loss: 0.21328756577603405, Train MAPE: 37.374401804172635, Test MAPE: 41.307137814435094\n",
      "Epoch 273, Loss: 0.2128627150086686, Train MAPE: 36.986711809129424, Test MAPE: 40.87867122707945\n",
      "Epoch 274, Loss: 0.2125257832054613, Train MAPE: 36.97614420273087, Test MAPE: 40.86977277380048\n",
      "Epoch 275, Loss: 0.21214875869918615, Train MAPE: 37.47663620565877, Test MAPE: 41.441293225143895\n",
      "Epoch 276, Loss: 0.21178364913882405, Train MAPE: 37.093511673537165, Test MAPE: 41.02823951750091\n",
      "Epoch 277, Loss: 0.21144871299761828, Train MAPE: 37.35704067349434, Test MAPE: 41.32720175656405\n",
      "Epoch 278, Loss: 0.21103592667813328, Train MAPE: 37.095638238119356, Test MAPE: 41.043649810733214\n",
      "Epoch 279, Loss: 0.2106935575385719, Train MAPE: 37.16597383491921, Test MAPE: 41.134707031827986\n",
      "Epoch 280, Loss: 0.21032513675075307, Train MAPE: 36.857485036055245, Test MAPE: 40.786001747304745\n",
      "Epoch 281, Loss: 0.20996848257456088, Train MAPE: 36.89652977928971, Test MAPE: 40.85659035769376\n",
      "Epoch 282, Loss: 0.2096105283796505, Train MAPE: 37.18896263386264, Test MAPE: 41.178922833818376\n",
      "Epoch 283, Loss: 0.20922722212024825, Train MAPE: 36.75117329937039, Test MAPE: 40.696355639082014\n",
      "Epoch 284, Loss: 0.20884496756391882, Train MAPE: 36.98719828237187, Test MAPE: 40.97412205464912\n",
      "Epoch 285, Loss: 0.2085255941404312, Train MAPE: 36.73693217833837, Test MAPE: 40.70548144976298\n",
      "Epoch 286, Loss: 0.2082014099807676, Train MAPE: 37.08557005362077, Test MAPE: 41.10409912196073\n",
      "Epoch 287, Loss: 0.20786983162080022, Train MAPE: 36.908459948770926, Test MAPE: 40.9081820935914\n",
      "Epoch 288, Loss: 0.20745690890841864, Train MAPE: 36.65058573177367, Test MAPE: 40.63173826535543\n",
      "Epoch 289, Loss: 0.20716826061746388, Train MAPE: 36.66514607812419, Test MAPE: 40.65271256909226\n",
      "Epoch 290, Loss: 0.20682145571900587, Train MAPE: 36.55282256549055, Test MAPE: 40.53733812678944\n",
      "Epoch 291, Loss: 0.2064736856105314, Train MAPE: 36.848620622447044, Test MAPE: 40.86680082841353\n",
      "Epoch 292, Loss: 0.206154045740594, Train MAPE: 36.68344761747302, Test MAPE: 40.69717725840482\n",
      "Epoch 293, Loss: 0.20581515669244144, Train MAPE: 36.57888615763549, Test MAPE: 40.59401200756882\n",
      "Epoch 294, Loss: 0.20545068257982194, Train MAPE: 36.35381608208021, Test MAPE: 40.35348757108053\n",
      "Epoch 295, Loss: 0.20514833105191815, Train MAPE: 36.3284310400486, Test MAPE: 40.33152993520101\n",
      "Epoch 296, Loss: 0.20480070305832973, Train MAPE: 36.40070543596239, Test MAPE: 40.42464769970287\n",
      "Epoch 297, Loss: 0.20448746148736752, Train MAPE: 36.58933884718201, Test MAPE: 40.642598036563754\n",
      "Epoch 298, Loss: 0.204148661807377, Train MAPE: 36.58241940718709, Test MAPE: 40.63567035848444\n",
      "Epoch 299, Loss: 0.20380977815313434, Train MAPE: 36.730835647294015, Test MAPE: 40.821193514448225\n",
      "Epoch 300, Loss: 0.20350450621988397, Train MAPE: 36.24711621981679, Test MAPE: 40.2725365450888\n",
      "Epoch 301, Loss: 0.20317573848208695, Train MAPE: 36.437506691072926, Test MAPE: 40.50341968825369\n",
      "Epoch 302, Loss: 0.20285048873946918, Train MAPE: 36.37624514464176, Test MAPE: 40.43996253880587\n",
      "Epoch 303, Loss: 0.20254317747612455, Train MAPE: 36.421535885695256, Test MAPE: 40.5061962965763\n",
      "Epoch 304, Loss: 0.20219388113808678, Train MAPE: 35.92140148444609, Test MAPE: 39.94647327336398\n",
      "Epoch 305, Loss: 0.20199200301078346, Train MAPE: 36.52685451688188, Test MAPE: 40.63212050091136\n",
      "Epoch 306, Loss: 0.20157277706312016, Train MAPE: 36.063699173204824, Test MAPE: 40.119082949378274\n",
      "Epoch 307, Loss: 0.20126181027753223, Train MAPE: 36.22206494844321, Test MAPE: 40.30420112609863\n",
      "Epoch 308, Loss: 0.20093616765260583, Train MAPE: 35.966697656747066, Test MAPE: 40.026890285087354\n",
      "Epoch 309, Loss: 0.20059375931283063, Train MAPE: 36.405212837638274, Test MAPE: 40.53012748920556\n",
      "Epoch 310, Loss: 0.2003007763167702, Train MAPE: 36.159517144615, Test MAPE: 40.26201764742533\n",
      "Epoch 311, Loss: 0.20000161518780232, Train MAPE: 35.748759187532194, Test MAPE: 39.807041890693434\n",
      "Epoch 312, Loss: 0.19971111153294754, Train MAPE: 35.78450612046502, Test MAPE: 39.852351752194494\n",
      "Epoch 313, Loss: 0.19937174537070942, Train MAPE: 36.24159609368353, Test MAPE: 40.372631687106505\n",
      "Epoch 314, Loss: 0.1991061879935759, Train MAPE: 35.70168954946778, Test MAPE: 39.775315161907315\n",
      "Epoch 315, Loss: 0.19875777656720442, Train MAPE: 36.05057101719307, Test MAPE: 40.18045460816586\n",
      "Epoch 316, Loss: 0.19846861073253394, Train MAPE: 35.450963140437096, Test MAPE: 39.500501589341596\n",
      "Epoch 317, Loss: 0.198190464726367, Train MAPE: 35.75384984684713, Test MAPE: 39.85836523951906\n",
      "Epoch 318, Loss: 0.1978638528380543, Train MAPE: 36.06040984392166, Test MAPE: 40.21697300853151\n",
      "Epoch 319, Loss: 0.197590651290463, Train MAPE: 35.53913724693385, Test MAPE: 39.627130602345325\n",
      "Epoch 320, Loss: 0.19729886943417968, Train MAPE: 35.8008857450702, Test MAPE: 39.93490633097562\n",
      "Epoch 321, Loss: 0.19699690686044932, Train MAPE: 35.489484548568726, Test MAPE: 39.59130916450963\n",
      "Epoch 322, Loss: 0.19673420003064993, Train MAPE: 35.52967607884696, Test MAPE: 39.64133448311777\n",
      "Epoch 323, Loss: 0.19637891816885464, Train MAPE: 35.74446897615086, Test MAPE: 39.88802888176658\n",
      "Epoch 324, Loss: 0.19612957338209858, Train MAPE: 35.40209060907364, Test MAPE: 39.504713947122745\n",
      "Epoch 325, Loss: 0.19582676860701406, Train MAPE: 35.57801382017858, Test MAPE: 39.72421146884109\n",
      "Epoch 326, Loss: 0.19554789149145962, Train MAPE: 35.691493996165015, Test MAPE: 39.865450555627994\n",
      "Epoch 327, Loss: 0.19521310206178125, Train MAPE: 35.33105900432124, Test MAPE: 39.445460030526824\n",
      "Epoch 328, Loss: 0.194986678913913, Train MAPE: 35.391186066649176, Test MAPE: 39.53161743192962\n",
      "Epoch 329, Loss: 0.19475286224306645, Train MAPE: 35.52877901539658, Test MAPE: 39.69739998470653\n",
      "Epoch 330, Loss: 0.19438842403928214, Train MAPE: 35.213856573357724, Test MAPE: 39.34317592418555\n",
      "Epoch 331, Loss: 0.19409650819249114, Train MAPE: 35.16652192762404, Test MAPE: 39.30137807672674\n",
      "Epoch 332, Loss: 0.19383153628741362, Train MAPE: 35.37765161467321, Test MAPE: 39.54775053804571\n",
      "Epoch 333, Loss: 0.19356037304158125, Train MAPE: 35.449982991724305, Test MAPE: 39.63521632281217\n",
      "Epoch 334, Loss: 0.19327514533263943, Train MAPE: 35.20271009387392, Test MAPE: 39.36569566437692\n",
      "Epoch 335, Loss: 0.19299342406024647, Train MAPE: 35.41461397571997, Test MAPE: 39.615826931866735\n",
      "Epoch 336, Loss: 0.19273767837280917, Train MAPE: 35.133034500208765, Test MAPE: 39.298041242541686\n",
      "Epoch 337, Loss: 0.19244034839159047, Train MAPE: 35.15168366558624, Test MAPE: 39.334678346460514\n",
      "Epoch 338, Loss: 0.1921879428361232, Train MAPE: 35.06504761992079, Test MAPE: 39.23411721894235\n",
      "Epoch 339, Loss: 0.1919108063977381, Train MAPE: 34.94304659601414, Test MAPE: 39.106866388609916\n",
      "Epoch 340, Loss: 0.19163736128107164, Train MAPE: 35.053265594171755, Test MAPE: 39.24469158866189\n",
      "Epoch 341, Loss: 0.19135473324620927, Train MAPE: 35.174698565945484, Test MAPE: 39.39579960071679\n",
      "Epoch 342, Loss: 0.19109339830042285, Train MAPE: 35.201580820661604, Test MAPE: 39.42664697675994\n",
      "Epoch 343, Loss: 0.19084310098762877, Train MAPE: 34.93477146733891, Test MAPE: 39.135507720889464\n",
      "Epoch 344, Loss: 0.19053283300970428, Train MAPE: 35.13390438303803, Test MAPE: 39.366290641553476\n",
      "Epoch 345, Loss: 0.1902529666778829, Train MAPE: 35.000371314359434, Test MAPE: 39.222737247293644\n",
      "Epoch 346, Loss: 0.19000637633232118, Train MAPE: 34.921205853874035, Test MAPE: 39.13681650161743\n",
      "Epoch 347, Loss: 0.189747433739037, Train MAPE: 34.50687822518927, Test MAPE: 38.664933782635316\n",
      "Epoch 348, Loss: 0.18952958706667591, Train MAPE: 34.94911146886421, Test MAPE: 39.188689289671004\n",
      "Epoch 349, Loss: 0.18922115110608778, Train MAPE: 35.034525129831195, Test MAPE: 39.28683218089017\n",
      "Epoch 350, Loss: 0.18898256552391546, Train MAPE: 35.09461501692281, Test MAPE: 39.36420566385443\n",
      "Epoch 351, Loss: 0.18872618066697297, Train MAPE: 34.61843090707605, Test MAPE: 38.813046433708884\n",
      "Epoch 352, Loss: 0.18848899216567533, Train MAPE: 34.69770045894565, Test MAPE: 38.92680268576651\n",
      "Epoch 353, Loss: 0.18820374973725076, Train MAPE: 34.9336673581239, Test MAPE: 39.20739327777516\n",
      "Epoch 354, Loss: 0.18792084221742256, Train MAPE: 34.630453661535725, Test MAPE: 38.8584335789536\n",
      "Epoch 355, Loss: 0.1877077337862416, Train MAPE: 34.70165040998748, Test MAPE: 38.946040984356046\n",
      "Epoch 356, Loss: 0.18744490092803695, Train MAPE: 34.650203008543365, Test MAPE: 38.89838413036231\n",
      "Epoch 357, Loss: 0.18718277289405127, Train MAPE: 34.495212936040126, Test MAPE: 38.73048203280478\n",
      "Epoch 358, Loss: 0.1869454130241083, Train MAPE: 34.69991377808831, Test MAPE: 38.971389308120266\n",
      "Epoch 359, Loss: 0.18668566787417865, Train MAPE: 34.96934044812665, Test MAPE: 39.28497896049962\n",
      "Epoch 360, Loss: 0.18644055556135505, Train MAPE: 34.81795157447006, Test MAPE: 39.110422842430346\n",
      "Epoch 361, Loss: 0.18620408073801434, Train MAPE: 34.54548407955603, Test MAPE: 38.81639379082304\n",
      "Epoch 362, Loss: 0.18590409903801186, Train MAPE: 34.52189061858437, Test MAPE: 38.78543561877626\n",
      "Epoch 363, Loss: 0.18570400264015366, Train MAPE: 34.346543766332395, Test MAPE: 38.603734117565736\n",
      "Epoch 364, Loss: 0.1854518531313674, Train MAPE: 34.350488391789526, Test MAPE: 38.605078440724\n",
      "Epoch 365, Loss: 0.18517432028822828, Train MAPE: 34.46722669854309, Test MAPE: 38.748927824424975\n",
      "Epoch 366, Loss: 0.18493187825625876, Train MAPE: 34.750092805335015, Test MAPE: 39.081518202116996\n",
      "Epoch 367, Loss: 0.18471709501252256, Train MAPE: 34.145432403593354, Test MAPE: 38.39887913429376\n",
      "Epoch 368, Loss: 0.1844743179672426, Train MAPE: 34.24472627404964, Test MAPE: 38.5139419707385\n",
      "Epoch 369, Loss: 0.1841881701856795, Train MAPE: 34.24031698252215, Test MAPE: 38.530161041201964\n",
      "Epoch 370, Loss: 0.18399140972883976, Train MAPE: 34.17432206056335, Test MAPE: 38.457101348674655\n",
      "Epoch 371, Loss: 0.18372394176284698, Train MAPE: 34.02995371186372, Test MAPE: 38.28934144973755\n",
      "Epoch 372, Loss: 0.18347533376689887, Train MAPE: 33.79858308759603, Test MAPE: 38.02978881200155\n",
      "Epoch 373, Loss: 0.18323440901991545, Train MAPE: 34.15466287190264, Test MAPE: 38.45359559853872\n",
      "Epoch 374, Loss: 0.1830474563987192, Train MAPE: 34.049820585684344, Test MAPE: 38.33884109150279\n",
      "Epoch 375, Loss: 0.1827738124799604, Train MAPE: 34.08497228947553, Test MAPE: 38.38367220849702\n",
      "Epoch 376, Loss: 0.18254808156934538, Train MAPE: 33.97601077863664, Test MAPE: 38.26655764652021\n",
      "Epoch 377, Loss: 0.18231249581775488, Train MAPE: 33.75115697763183, Test MAPE: 38.012338519096375\n",
      "Epoch 378, Loss: 0.1820928256422507, Train MAPE: 34.00062208103411, Test MAPE: 38.31683512167497\n",
      "Epoch 379, Loss: 0.18186386346915792, Train MAPE: 34.043070368694536, Test MAPE: 38.36065976186232\n",
      "Epoch 380, Loss: 0.18163628825409847, Train MAPE: 33.77032055096193, Test MAPE: 38.05222962480603\n",
      "Epoch 381, Loss: 0.1813970695348513, Train MAPE: 33.89928996562958, Test MAPE: 38.214697780031145\n",
      "Epoch 382, Loss: 0.18115341735326432, Train MAPE: 34.28713452003219, Test MAPE: 38.658234216950156\n",
      "Epoch 383, Loss: 0.18096247456163506, Train MAPE: 33.77925543532227, Test MAPE: 38.079968654748164\n",
      "Epoch 384, Loss: 0.18070774270701362, Train MAPE: 33.935026397307716, Test MAPE: 38.27195467370929\n",
      "Epoch 385, Loss: 0.180456548922159, Train MAPE: 33.675420360131696, Test MAPE: 37.979008887753345\n",
      "Epoch 386, Loss: 0.18027604638358974, Train MAPE: 33.858451800815985, Test MAPE: 38.19384061206471\n",
      "Epoch 387, Loss: 0.18003507107884312, Train MAPE: 33.75366904970372, Test MAPE: 38.07455976081617\n",
      "Epoch 388, Loss: 0.17979604826718004, Train MAPE: 33.73839411681349, Test MAPE: 38.067535638809204\n",
      "Epoch 389, Loss: 0.17954968347101274, Train MAPE: 34.01872080654809, Test MAPE: 38.39627976128549\n",
      "Epoch 390, Loss: 0.17936529604379425, Train MAPE: 33.59582166960745, Test MAPE: 37.918087005615234\n",
      "Epoch 391, Loss: 0.17910242299760945, Train MAPE: 33.79641191345273, Test MAPE: 38.15694473367749\n",
      "Epoch 392, Loss: 0.17892637346504311, Train MAPE: 33.59297160849427, Test MAPE: 37.92580981688066\n",
      "Epoch 393, Loss: 0.17869625156956978, Train MAPE: 33.35152857773232, Test MAPE: 37.660856478142016\n",
      "Epoch 394, Loss: 0.17847761516388733, Train MAPE: 33.71651800202601, Test MAPE: 38.085653435100205\n",
      "Epoch 395, Loss: 0.17824222359481748, Train MAPE: 33.716478424541876, Test MAPE: 38.0979202227159\n",
      "Epoch 396, Loss: 0.17806246363430878, Train MAPE: 33.732096433639526, Test MAPE: 38.11965397271243\n",
      "Epoch 397, Loss: 0.1778377618563051, Train MAPE: 33.69237879008958, Test MAPE: 38.079327117313035\n",
      "Epoch 398, Loss: 0.17758375103585422, Train MAPE: 33.313121038855925, Test MAPE: 37.648048859654054\n",
      "Epoch 399, Loss: 0.17737568687351252, Train MAPE: 33.66992383653467, Test MAPE: 38.06856795874509\n",
      "Epoch 400, Loss: 0.17713130222083154, Train MAPE: 33.13274696469307, Test MAPE: 37.44263685472084\n",
      "Epoch 401, Loss: 0.1769571810904326, Train MAPE: 33.52037158156886, Test MAPE: 37.90361854885564\n",
      "Epoch 402, Loss: 0.1767535963533164, Train MAPE: 33.45809286381259, Test MAPE: 37.84091943683046\n",
      "Epoch 403, Loss: 0.1765262496262563, Train MAPE: 33.6237228503733, Test MAPE: 38.03809111768549\n",
      "Epoch 404, Loss: 0.17625381552374386, Train MAPE: 33.96606036478823, Test MAPE: 38.42723039786021\n",
      "Epoch 405, Loss: 0.1761107505969421, Train MAPE: 33.47879938284556, Test MAPE: 37.860957048156045\n",
      "Epoch 406, Loss: 0.17586819750299168, Train MAPE: 33.35792682748853, Test MAPE: 37.75173233855855\n",
      "Epoch 407, Loss: 0.17565065627621318, Train MAPE: 33.70542508363724, Test MAPE: 38.15177129615437\n",
      "Epoch 408, Loss: 0.1754599484318698, Train MAPE: 33.24144617355231, Test MAPE: 37.62360431208755\n",
      "Epoch 409, Loss: 0.17526437042662027, Train MAPE: 33.27753358718121, Test MAPE: 37.67108485915444\n",
      "Epoch 410, Loss: 0.17505867285018956, Train MAPE: 33.28378043301178, Test MAPE: 37.68738598534555\n",
      "Epoch 411, Loss: 0.17483378168209596, Train MAPE: 32.98357150590781, Test MAPE: 37.35523662061402\n",
      "Epoch 412, Loss: 0.17461990309300635, Train MAPE: 33.05141950376106, Test MAPE: 37.43710767500328\n",
      "Epoch 413, Loss: 0.17445490790079488, Train MAPE: 33.24520670103304, Test MAPE: 37.66091641512784\n",
      "Epoch 414, Loss: 0.1742333511215155, Train MAPE: 33.05764187827255, Test MAPE: 37.451725482940674\n",
      "Epoch 415, Loss: 0.17408108453012325, Train MAPE: 33.11537588907011, Test MAPE: 37.51723755489696\n",
      "Epoch 416, Loss: 0.17382008974461563, Train MAPE: 33.15772453582648, Test MAPE: 37.583418820843555\n",
      "Epoch 417, Loss: 0.1736171892209148, Train MAPE: 33.08538649389238, Test MAPE: 37.50811696413791\n",
      "Epoch 418, Loss: 0.17337877560886694, Train MAPE: 33.26814864440398, Test MAPE: 37.72885913198645\n",
      "Epoch 419, Loss: 0.17321208732160318, Train MAPE: 33.34119741844408, Test MAPE: 37.80903952410727\n",
      "Epoch 420, Loss: 0.17302594513448916, Train MAPE: 32.84462892828566, Test MAPE: 37.23910691160144\n",
      "Epoch 421, Loss: 0.17282191712839642, Train MAPE: 33.10226432753332, Test MAPE: 37.54807878624309\n",
      "Epoch 422, Loss: 0.17261213780500728, Train MAPE: 33.17134529984359, Test MAPE: 37.628054510463365\n",
      "Epoch 423, Loss: 0.17243927185578892, Train MAPE: 32.894859766418286, Test MAPE: 37.32227222847216\n",
      "Epoch 424, Loss: 0.17220713042082603, Train MAPE: 32.800162037213646, Test MAPE: 37.218153194947675\n",
      "Epoch 425, Loss: 0.1720086539986148, Train MAPE: 32.92882251739502, Test MAPE: 37.369856216690756\n",
      "Epoch 426, Loss: 0.1717814450279217, Train MAPE: 32.78230979225852, Test MAPE: 37.210275834256954\n",
      "Epoch 427, Loss: 0.17163765626945393, Train MAPE: 32.829436899134606, Test MAPE: 37.26953715266603\n",
      "Epoch 428, Loss: 0.1714285999487126, Train MAPE: 32.94317767836831, Test MAPE: 37.403999306938864\n",
      "Epoch 429, Loss: 0.17122393471513395, Train MAPE: 32.8401565885905, Test MAPE: 37.296036709438674\n",
      "Epoch 430, Loss: 0.17102118706768096, Train MAPE: 32.797744833158724, Test MAPE: 37.239723191116795\n",
      "Epoch 431, Loss: 0.17083765981563678, Train MAPE: 32.59923891587691, Test MAPE: 37.021321195544616\n",
      "Epoch 432, Loss: 0.1706305353101484, Train MAPE: 32.562696890397504, Test MAPE: 36.992765166542746\n",
      "Epoch 433, Loss: 0.17046321575727427, Train MAPE: 32.49809833277356, Test MAPE: 36.91851977146033\n",
      "Epoch 434, Loss: 0.1702459577936679, Train MAPE: 32.924939760656066, Test MAPE: 37.4202082193259\n",
      "Epoch 435, Loss: 0.1700633437492687, Train MAPE: 32.61950834501874, Test MAPE: 37.068981257351965\n",
      "Epoch 436, Loss: 0.16990386160570337, Train MAPE: 32.66734648924886, Test MAPE: 37.13474189873898\n",
      "Epoch 437, Loss: 0.16970006422189093, Train MAPE: 32.92839687701428, Test MAPE: 37.44140086751996\n",
      "Epoch 438, Loss: 0.16951043374667113, Train MAPE: 32.76471160307075, Test MAPE: 37.254538709467106\n",
      "Epoch 439, Loss: 0.1693288845796787, Train MAPE: 32.93892098015005, Test MAPE: 37.45529014775247\n",
      "Epoch 440, Loss: 0.16913778621131892, Train MAPE: 32.68032929391572, Test MAPE: 37.17114648674474\n",
      "Epoch 441, Loss: 0.16893158866812222, Train MAPE: 32.39148184295857, Test MAPE: 36.8482009750424\n",
      "Epoch 442, Loss: 0.16874635163130183, Train MAPE: 32.593374475385204, Test MAPE: 37.08811368364276\n",
      "Epoch 443, Loss: 0.16853989386634732, Train MAPE: 32.635171509150304, Test MAPE: 37.149361343094796\n",
      "Epoch 444, Loss: 0.1683631155103671, Train MAPE: 32.733166097691566, Test MAPE: 37.25627414746718\n",
      "Epoch 445, Loss: 0.16820412316133804, Train MAPE: 32.6222620073593, Test MAPE: 37.13757389603239\n",
      "Epoch 446, Loss: 0.16799996814436532, Train MAPE: 32.54413408582861, Test MAPE: 37.04837780287772\n",
      "Epoch 447, Loss: 0.16780707780906762, Train MAPE: 32.21823717157046, Test MAPE: 36.67826075987382\n",
      "Epoch 448, Loss: 0.16764938471852942, Train MAPE: 32.309715268286794, Test MAPE: 36.79341711420001\n",
      "Epoch 449, Loss: 0.16744467799523563, Train MAPE: 32.38938622402422, Test MAPE: 36.89041470758843\n",
      "Epoch 450, Loss: 0.16721145120788028, Train MAPE: 32.739270666331954, Test MAPE: 37.303034077991136\n",
      "Epoch 451, Loss: 0.16707204009236937, Train MAPE: 32.382661032857314, Test MAPE: 36.88994328903429\n",
      "Epoch 452, Loss: 0.16689815105884476, Train MAPE: 32.404640686331376, Test MAPE: 36.92249095078671\n",
      "Epoch 453, Loss: 0.16669193163133142, Train MAPE: 32.71418362946221, Test MAPE: 37.291878924225315\n",
      "Epoch 454, Loss: 0.16656184993387962, Train MAPE: 32.364514735612005, Test MAPE: 36.89341100418206\n",
      "Epoch 455, Loss: 0.16635409798684783, Train MAPE: 32.36913266055512, Test MAPE: 36.904227047255546\n",
      "Epoch 456, Loss: 0.16617215750738978, Train MAPE: 32.568722852251746, Test MAPE: 37.13328782356147\n",
      "Epoch 457, Loss: 0.16599266464243445, Train MAPE: 32.35565413850726, Test MAPE: 36.905527942108385\n",
      "Epoch 458, Loss: 0.16579098685355292, Train MAPE: 32.083087201371335, Test MAPE: 36.582687670534305\n",
      "Epoch 459, Loss: 0.16564761244367357, Train MAPE: 32.002379077853575, Test MAPE: 36.50052552512198\n",
      "Epoch 460, Loss: 0.16543571931436996, Train MAPE: 32.26558650894599, Test MAPE: 36.807417660048515\n",
      "Epoch 461, Loss: 0.16525050065705948, Train MAPE: 31.931049979997404, Test MAPE: 36.424709565711744\n",
      "Epoch 462, Loss: 0.16513560715688844, Train MAPE: 32.1648996860692, Test MAPE: 36.7077057650595\n",
      "Epoch 463, Loss: 0.16493549646640365, Train MAPE: 32.145498209830485, Test MAPE: 36.68301532846509\n",
      "Epoch 464, Loss: 0.16474554100722977, Train MAPE: 32.07982538324414, Test MAPE: 36.6141960368012\n",
      "Epoch 465, Loss: 0.16457479181135018, Train MAPE: 32.346785419818126, Test MAPE: 36.93133435466073\n",
      "Epoch 466, Loss: 0.16440209844784642, Train MAPE: 32.15012155969938, Test MAPE: 36.70440580989375\n",
      "Epoch 467, Loss: 0.164246000049664, Train MAPE: 32.09189231106729, Test MAPE: 36.64701196641633\n",
      "Epoch 468, Loss: 0.16404431335148262, Train MAPE: 32.261553184552625, Test MAPE: 36.83911334745812\n",
      "Epoch 469, Loss: 0.16388178808318282, Train MAPE: 32.18131424170552, Test MAPE: 36.75627492413376\n",
      "Epoch 470, Loss: 0.16368305290675242, Train MAPE: 31.65648386243618, Test MAPE: 36.152397162986524\n",
      "Epoch 471, Loss: 0.16354710692328148, Train MAPE: 31.759926189075816, Test MAPE: 36.27925778519023\n",
      "Epoch 472, Loss: 0.1633785301748889, Train MAPE: 31.73555040269187, Test MAPE: 36.25924904057474\n",
      "Epoch 473, Loss: 0.16318322073273134, Train MAPE: 32.242245583823234, Test MAPE: 36.852854060404226\n",
      "Epoch 474, Loss: 0.16305073176750517, Train MAPE: 32.06269078453382, Test MAPE: 36.64693134842497\n",
      "Epoch 475, Loss: 0.16287598415157956, Train MAPE: 31.855995069850575, Test MAPE: 36.41100979212558\n",
      "Epoch 476, Loss: 0.16270705823306786, Train MAPE: 31.962015468062777, Test MAPE: 36.551413384350866\n",
      "Epoch 477, Loss: 0.16252581266488766, Train MAPE: 31.91700024135185, Test MAPE: 36.499641599077165\n",
      "Epoch 478, Loss: 0.16235897664658047, Train MAPE: 31.783165618325725, Test MAPE: 36.34786342129563\n",
      "Epoch 479, Loss: 0.16218910987531257, Train MAPE: 31.73798185315999, Test MAPE: 36.304436867887325\n",
      "Epoch 480, Loss: 0.16201544259180964, Train MAPE: 31.824061372063376, Test MAPE: 36.412933197888464\n",
      "Epoch 481, Loss: 0.16184796777088195, Train MAPE: 32.01788850625356, Test MAPE: 36.64127156951211\n",
      "Epoch 482, Loss: 0.161663858477506, Train MAPE: 31.53279267567577, Test MAPE: 36.069772720336914\n",
      "Epoch 483, Loss: 0.16152306966779922, Train MAPE: 31.630187345273566, Test MAPE: 36.1997222069538\n",
      "Epoch 484, Loss: 0.1613599605413831, Train MAPE: 31.91801366029364, Test MAPE: 36.54059920888959\n",
      "Epoch 485, Loss: 0.16118964291121246, Train MAPE: 31.810855575583197, Test MAPE: 36.412745421583004\n",
      "Epoch 486, Loss: 0.16104342739422325, Train MAPE: 31.601974336486876, Test MAPE: 36.17474785356811\n",
      "Epoch 487, Loss: 0.16086629918021517, Train MAPE: 31.620175684943344, Test MAPE: 36.20533788565433\n",
      "Epoch 488, Loss: 0.1606912498863301, Train MAPE: 31.900194848125633, Test MAPE: 36.539450551524304\n",
      "Epoch 489, Loss: 0.16050519361725132, Train MAPE: 31.915909852042343, Test MAPE: 36.56611481941108\n",
      "Epoch 490, Loss: 0.16036434779402264, Train MAPE: 31.459352214228023, Test MAPE: 36.0317030025251\n",
      "Epoch 491, Loss: 0.16021643954710188, Train MAPE: 31.512898471319314, Test MAPE: 36.107960538430646\n",
      "Epoch 492, Loss: 0.16006454636138215, Train MAPE: 31.728334082798526, Test MAPE: 36.363955067865774\n",
      "Epoch 493, Loss: 0.1598900968180687, Train MAPE: 31.56460384256912, Test MAPE: 36.177567503669046\n",
      "Epoch 494, Loss: 0.1597350864198454, Train MAPE: 31.455803038495958, Test MAPE: 36.05121013251218\n",
      "Epoch 495, Loss: 0.15954246598817973, Train MAPE: 31.72669665379958, Test MAPE: 36.386377894517146\n",
      "Epoch 496, Loss: 0.15946085375529065, Train MAPE: 31.711105332230076, Test MAPE: 36.36401847998301\n",
      "Epoch 497, Loss: 0.1592689371389111, Train MAPE: 31.424338595433667, Test MAPE: 36.0300286249681\n",
      "Epoch 498, Loss: 0.1591096752513708, Train MAPE: 31.524966650840007, Test MAPE: 36.16094104087714\n",
      "Epoch 499, Loss: 0.15892011026506114, Train MAPE: 31.396004854729682, Test MAPE: 36.00489667328921\n",
      "Epoch 500, Loss: 0.15875770142443027, Train MAPE: 31.577500342419654, Test MAPE: 36.230080633452445\n",
      "Finished Training\n"
     ]
    },
    {
     "data": {
      "text/plain": "<IPython.core.display.HTML object>",
      "text/html": "<style>\n    table.wandb td:nth-child(1) { padding: 0 10px; text-align: left ; width: auto;} td:nth-child(2) {text-align: left ; width: 100%}\n    .wandb-row { display: flex; flex-direction: row; flex-wrap: wrap; justify-content: flex-start; width: 100% }\n    .wandb-col { display: flex; flex-direction: column; flex-basis: 100%; flex: 1; padding: 10px; }\n    </style>\n<div class=\"wandb-row\"><div class=\"wandb-col\"><h3>Run history:</h3><br/><table class=\"wandb\"><tr><td>test_loss</td><td>█▂▂▂▂▂▂▂▁▁▁▁▁▁▁▁▁▁▁▁▁▁▁▁▁▁▁▁▁▁▁▁▁▁▁▁▁▁▁▁</td></tr><tr><td>test_mape</td><td>█▁▁▁▁▁▁▁▁▁▁▁▁▁▁▁▁▁▁▁▁▁▁▁▁▁▁▁▁▁▁▁▁▁▁▁▁▁▁▁</td></tr><tr><td>time_test</td><td>▂▁▄▂▅▇▂█▃▂▄▃▂▅▂▂▂▁▃▃▁▂▃▄▁▅▂▁▁▁▅▁▁▁▁▁▁▂▁▁</td></tr><tr><td>time_train</td><td>▁▂▂▅▄█▁▂▁█▂▁▁▂▁▂▇▃▁▁▂▁▃▂▂▂▁▄▂▂▁▁▂▁▂▂▅▃▂▄</td></tr><tr><td>train_loss</td><td>█▆▆▄▄▃▃▃▃▂▂▂▂▂▂▂▂▂▂▂▂▁▁▁▁▁▁▁▁▁▁▁▁▁▁▁▁▁▁▁</td></tr><tr><td>train_mape</td><td>█▇▄▃▃▃▃▃▃▂▂▂▂▂▂▂▂▂▂▁▁▁▁▁▁▁▁▁▁▁▁▁▁▁▁▁▁▁▁▁</td></tr></table><br/></div><div class=\"wandb-col\"><h3>Run summary:</h3><br/><table class=\"wandb\"><tr><td>test_loss</td><td>0.20665</td></tr><tr><td>test_mape</td><td>36.23008</td></tr><tr><td>time_test</td><td>1.37369</td></tr><tr><td>time_train</td><td>2.67875</td></tr><tr><td>train_loss</td><td>0.15876</td></tr><tr><td>train_mape</td><td>31.5775</td></tr></table><br/></div></div>"
     },
     "metadata": {},
     "output_type": "display_data"
    },
    {
     "data": {
      "text/plain": "<IPython.core.display.HTML object>",
      "text/html": " View run <strong style=\"color:#cdcd00\">MLP-bs16-lr1e-05</strong> at: <a href='https://wandb.ai/denis-schatzmann/Immo-Challenge/runs/de5ekbav' target=\"_blank\">https://wandb.ai/denis-schatzmann/Immo-Challenge/runs/de5ekbav</a><br/> View project at: <a href='https://wandb.ai/denis-schatzmann/Immo-Challenge' target=\"_blank\">https://wandb.ai/denis-schatzmann/Immo-Challenge</a><br/>Synced 5 W&B file(s), 0 media file(s), 0 artifact file(s) and 0 other file(s)"
     },
     "metadata": {},
     "output_type": "display_data"
    },
    {
     "data": {
      "text/plain": "<IPython.core.display.HTML object>",
      "text/html": "Find logs at: <code>.\\wandb\\run-20241119_125701-de5ekbav\\logs</code>"
     },
     "metadata": {},
     "output_type": "display_data"
    }
   ],
   "source": [
    "from src import torchModelRun\n",
    "import torch\n",
    "import torch.nn as nn\n",
    "import torch.nn.functional as F\n",
    "\n",
    "inputs_nums = len(df.columns) - 1\n",
    "\n",
    "class FullyConnectedModel(nn.Module):\n",
    "    import torch.nn.functional as F\n",
    "    def __init__(self):\n",
    "        super(FullyConnectedModel, self).__init__()\n",
    "        self.fc1 = nn.Linear(inputs_nums, 128)\n",
    "        self.fc2 = nn.Linear(128, 256)\n",
    "        self.fc3 = nn.Linear(256, 256)\n",
    "        self.fc4 = nn.Linear(256, 32)\n",
    "        self.fc5 = nn.Linear(32, 1)\n",
    "\n",
    "    def forward(self, x):\n",
    "        x = torch.flatten(x, 1)\n",
    "        x = F.relu(self.fc1(x))\n",
    "        x = F.relu(self.fc2(x))\n",
    "        x = F.relu(self.fc3(x))\n",
    "        x = F.relu(self.fc4(x))\n",
    "        x = self.fc5(x)\n",
    "        return x\n",
    "    \n",
    "\n",
    "models = torchModelRun.run(FullyConnectedModel, df, 5)"
   ],
   "metadata": {
    "collapsed": false,
    "ExecuteTime": {
     "end_time": "2024-11-19T12:36:36.074869800Z",
     "start_time": "2024-11-19T11:56:59.110982600Z"
    }
   },
   "id": "1ec75e098d8fb34e",
   "execution_count": 4
  },
  {
   "cell_type": "code",
   "outputs": [
    {
     "data": {
      "text/plain": "<Figure size 640x480 with 1 Axes>",
      "image/png": "[encoded data removed]"
     },
     "metadata": {},
     "output_type": "display_data"
    }
   ],
   "source": [
    "import matplotlib.pyplot as plt\n",
    "import matplotlib.ticker as ticker\n",
    "\n",
    "largest_num = 5e+7\n",
    "transformer = models[0]['transform']\n",
    "model = models[0]['model']\n",
    "model.eval()\n",
    "model = model.to('cpu')\n",
    "\n",
    "df_exclude = df.drop(columns=['price_cleaned'])\n",
    "df_exclude_np = df_exclude.values\n",
    "input = transformer(torch.tensor(df_exclude_np, dtype=torch.float32))\n",
    "output = model(input)\n",
    "#output_cliped = torch.clamp(output, 6.0, 18.0)\n",
    "output = torch.exp(output)\n",
    "\n",
    "plt.scatter(df['price_cleaned'], output.detach().numpy(), s=10, alpha=1)\n",
    "plt.xlabel('True Values')\n",
    "plt.ylabel('Predictions')\n",
    "plt.ylim([0, largest_num])\n",
    "plt.xlim([0, largest_num])\n",
    "plt.plot([0, largest_num], [0, largest_num], color='red')\n",
    "\n",
    "# Set the axes to display whole numbers\n",
    "plt.gca().xaxis.set_major_formatter(ticker.StrMethodFormatter('{x:,.0f}'))\n",
    "plt.gca().yaxis.set_major_formatter(ticker.StrMethodFormatter('{x:,.0f}'))\n",
    "\n",
    "# rotate the x-axis labels\n",
    "plt.xticks(rotation=45)\n",
    "\n",
    "plt.show()"
   ],
   "metadata": {
    "collapsed": false,
    "ExecuteTime": {
     "end_time": "2024-11-19T12:36:36.605131300Z",
     "start_time": "2024-11-19T12:36:36.070870900Z"
    }
   },
   "id": "85a4ca400ab6d17e",
   "execution_count": 5
  },
  {
   "cell_type": "code",
   "outputs": [
    {
     "name": "stdout",
     "output_type": "stream",
     "text": [
      "FullyConnectedModel(\n",
      "  (fc1): Linear(in_features=77, out_features=128, bias=True)\n",
      "  (fc2): Linear(in_features=128, out_features=64, bias=True)\n",
      "  (fc3): Linear(in_features=64, out_features=16, bias=True)\n",
      "  (fc4): Linear(in_features=16, out_features=1, bias=True)\n",
      ")\n"
     ]
    },
    {
     "ename": "AttributeError",
     "evalue": "'FullyConnectedModel' object has no attribute 'summary'",
     "output_type": "error",
     "traceback": [
      "\u001B[1;31m---------------------------------------------------------------------------\u001B[0m",
      "\u001B[1;31mAttributeError\u001B[0m                            Traceback (most recent call last)",
      "Cell \u001B[1;32mIn[19], line 5\u001B[0m\n\u001B[0;32m      2\u001B[0m \u001B[38;5;28mprint\u001B[39m(models[\u001B[38;5;241m0\u001B[39m][\u001B[38;5;124m'\u001B[39m\u001B[38;5;124mmodel\u001B[39m\u001B[38;5;124m'\u001B[39m])\n\u001B[0;32m      4\u001B[0m \u001B[38;5;66;03m# Model Summary with counts of parameters\u001B[39;00m\n\u001B[1;32m----> 5\u001B[0m \u001B[38;5;28mprint\u001B[39m(\u001B[43mmodels\u001B[49m\u001B[43m[\u001B[49m\u001B[38;5;241;43m0\u001B[39;49m\u001B[43m]\u001B[49m\u001B[43m[\u001B[49m\u001B[38;5;124;43m'\u001B[39;49m\u001B[38;5;124;43mmodel\u001B[39;49m\u001B[38;5;124;43m'\u001B[39;49m\u001B[43m]\u001B[49m\u001B[38;5;241;43m.\u001B[39;49m\u001B[43msummary\u001B[49m())\n",
      "File \u001B[1;32mC:\\FHNW_Programmiersachen\\5_Sem\\immo_challenge\\.venv\\Lib\\site-packages\\torch\\nn\\modules\\module.py:1931\u001B[0m, in \u001B[0;36mModule.__getattr__\u001B[1;34m(self, name)\u001B[0m\n\u001B[0;32m   1929\u001B[0m     \u001B[38;5;28;01mif\u001B[39;00m name \u001B[38;5;129;01min\u001B[39;00m modules:\n\u001B[0;32m   1930\u001B[0m         \u001B[38;5;28;01mreturn\u001B[39;00m modules[name]\n\u001B[1;32m-> 1931\u001B[0m \u001B[38;5;28;01mraise\u001B[39;00m \u001B[38;5;167;01mAttributeError\u001B[39;00m(\n\u001B[0;32m   1932\u001B[0m     \u001B[38;5;124mf\u001B[39m\u001B[38;5;124m\"\u001B[39m\u001B[38;5;124m'\u001B[39m\u001B[38;5;132;01m{\u001B[39;00m\u001B[38;5;28mtype\u001B[39m(\u001B[38;5;28mself\u001B[39m)\u001B[38;5;241m.\u001B[39m\u001B[38;5;18m__name__\u001B[39m\u001B[38;5;132;01m}\u001B[39;00m\u001B[38;5;124m'\u001B[39m\u001B[38;5;124m object has no attribute \u001B[39m\u001B[38;5;124m'\u001B[39m\u001B[38;5;132;01m{\u001B[39;00mname\u001B[38;5;132;01m}\u001B[39;00m\u001B[38;5;124m'\u001B[39m\u001B[38;5;124m\"\u001B[39m\n\u001B[0;32m   1933\u001B[0m )\n",
      "\u001B[1;31mAttributeError\u001B[0m: 'FullyConnectedModel' object has no attribute 'summary'"
     ]
    }
   ],
   "source": [
    "# Print model summary\n",
    "print(models[0]['model'])\n"
   ],
   "metadata": {
    "collapsed": false,
    "ExecuteTime": {
     "end_time": "2024-11-14T12:53:11.597652300Z",
     "start_time": "2024-11-14T12:53:11.562113300Z"
    }
   },
   "id": "9913115d1f91b6d7",
   "execution_count": 19
  },
  {
   "cell_type": "code",
   "outputs": [
    {
     "name": "stdout",
     "output_type": "stream",
     "text": [
      "min outputs: 44824.0781, max outputs: 48190656.0000\n",
      "ss_res: 2525576731257844269056.0000, ss_tot: 61300058171113472.0000\n",
      "R^2-Wert: -41199.2344\n"
     ]
    }
   ],
   "source": [
    "import torch\n",
    "\n",
    "trues = torch.tensor(df['price_cleaned'].values, dtype=torch.float32)\n",
    "\n",
    "\n",
    "print(f'min outputs: {torch.min(output).item():.4f}, max outputs: {torch.max(output).item():.4f}')\n",
    "# Berechnung des R^2-Werts\n",
    "ss_res = torch.sum((trues - output) ** 2)\n",
    "ss_tot = torch.sum((trues - torch.mean(trues)) ** 2)\n",
    "\n",
    "print(f\"ss_res: {ss_res.item():.4f}, ss_tot: {ss_tot.item():.4f}\")\n",
    "\n",
    "r2_score = 1 - (ss_res / ss_tot)  # R^2-Formel\n",
    "print(f\"R^2-Wert: {r2_score.item():.4f}\")"
   ],
   "metadata": {
    "collapsed": false,
    "ExecuteTime": {
     "end_time": "2024-11-14T12:49:18.800782400Z",
     "start_time": "2024-11-14T12:49:17.423119800Z"
    }
   },
   "id": "bf02cfe8b9f454a9",
   "execution_count": 12
  },
  {
   "cell_type": "code",
   "outputs": [
    {
     "name": "stdout",
     "output_type": "stream",
     "text": [
      "index: 366, max value: 65659968\n"
     ]
    },
    {
     "data": {
      "text/plain": "     Floor  detail_responsive#surface_usable  Floor_space_merged  \\\n366    0.0                             800.0                 0.0   \n\n     gde_foreigners_percentage  gde_population  gde_social_help_quota  \\\n366                  28.144885          2043.0               0.689995   \n\n     gde_tax  price_cleaned  Space extracted  Plot_area_unified  ...  \\\n366     5.67       795000.0            200.0              980.0  ...   \n\n     type_unified_penthouse  type_unified_rustico  \\\n366                     0.0                   0.0   \n\n     type_unified_secondary-suite  type_unified_semi-detached-house  \\\n366                           0.0                               0.0   \n\n     type_unified_single-room  type_unified_stepped-apartment  \\\n366                       0.0                             0.0   \n\n     type_unified_stepped-house  type_unified_studio  \\\n366                         0.0                  0.0   \n\n     type_unified_terrace-house  type_unified_villa  \n366                         0.0                 0.0  \n\n[1 rows x 38 columns]",
      "text/html": "<div>\n<style scoped>\n    .dataframe tbody tr th:only-of-type {\n        vertical-align: middle;\n    }\n\n    .dataframe tbody tr th {\n        vertical-align: top;\n    }\n\n    .dataframe thead th {\n        text-align: right;\n    }\n</style>\n<table border=\"1\" class=\"dataframe\">\n  <thead>\n    <tr style=\"text-align: right;\">\n      <th></th>\n      <th>Floor</th>\n      <th>detail_responsive#surface_usable</th>\n      <th>Floor_space_merged</th>\n      <th>gde_foreigners_percentage</th>\n      <th>gde_population</th>\n      <th>gde_social_help_quota</th>\n      <th>gde_tax</th>\n      <th>price_cleaned</th>\n      <th>Space extracted</th>\n      <th>Plot_area_unified</th>\n      <th>...</th>\n      <th>type_unified_penthouse</th>\n      <th>type_unified_rustico</th>\n      <th>type_unified_secondary-suite</th>\n      <th>type_unified_semi-detached-house</th>\n      <th>type_unified_single-room</th>\n      <th>type_unified_stepped-apartment</th>\n      <th>type_unified_stepped-house</th>\n      <th>type_unified_studio</th>\n      <th>type_unified_terrace-house</th>\n      <th>type_unified_villa</th>\n    </tr>\n  </thead>\n  <tbody>\n    <tr>\n      <th>366</th>\n      <td>0.0</td>\n      <td>800.0</td>\n      <td>0.0</td>\n      <td>28.144885</td>\n      <td>2043.0</td>\n      <td>0.689995</td>\n      <td>5.67</td>\n      <td>795000.0</td>\n      <td>200.0</td>\n      <td>980.0</td>\n      <td>...</td>\n      <td>0.0</td>\n      <td>0.0</td>\n      <td>0.0</td>\n      <td>0.0</td>\n      <td>0.0</td>\n      <td>0.0</td>\n      <td>0.0</td>\n      <td>0.0</td>\n      <td>0.0</td>\n      <td>0.0</td>\n    </tr>\n  </tbody>\n</table>\n<p>1 rows × 38 columns</p>\n</div>"
     },
     "execution_count": 5,
     "metadata": {},
     "output_type": "execute_result"
    }
   ],
   "source": [
    "# get index of max prediction to get original data\n",
    "index = torch.argmax(output)\n",
    "\n",
    "print(f'index: {index}, max value: {output[index].item():.0f}')\n",
    "df.iloc[[int(index)]]"
   ],
   "metadata": {
    "collapsed": false,
    "ExecuteTime": {
     "end_time": "2024-11-13T16:04:58.404884100Z",
     "start_time": "2024-11-13T16:04:58.375984200Z"
    }
   },
   "id": "2775014563c65865",
   "execution_count": 5
  },
  {
   "cell_type": "code",
   "outputs": [
    {
     "name": "stdout",
     "output_type": "stream",
     "text": [
      "[0.00000000e+00 0.00000000e+00 2.42000000e+02 9.25566343e+00\n",
      " 1.54500000e+03 2.23425863e+00 5.89000000e+00 1.56000000e+02\n",
      " 2.22000000e+02 5.00000000e+00 0.00000000e+00 0.00000000e+00\n",
      " 8.00000000e+00 0.00000000e+00 0.00000000e+00 1.00000000e+00\n",
      " 0.00000000e+00 0.00000000e+00 0.00000000e+00 0.00000000e+00\n",
      " 0.00000000e+00 0.00000000e+00 0.00000000e+00 0.00000000e+00\n",
      " 0.00000000e+00 0.00000000e+00 0.00000000e+00 0.00000000e+00\n",
      " 0.00000000e+00 0.00000000e+00 0.00000000e+00 0.00000000e+00\n",
      " 0.00000000e+00 0.00000000e+00 0.00000000e+00 1.00000000e+00\n",
      " 0.00000000e+00]\n",
      "output: tensor([[13.5669]], grad_fn=<AddmmBackward0>)\n",
      "mean: tensor([2.1500e+00, 8.8294e-01, 2.4629e+01, 2.4678e+01, 1.3220e+04, 2.7662e+00,\n",
      "        6.2422e+00, 1.5121e+02, 4.6831e+02, 4.8767e+00, 2.1362e+02, 6.3205e+02,\n",
      "        1.0192e+01, 4.8822e-02, 1.1532e-01, 4.1612e-01, 3.1292e-02, 5.7949e-04,\n",
      "        2.8974e-04, 3.1485e-02, 2.4184e-01, 1.9316e-04, 3.2500e-02, 7.2919e-03,\n",
      "        4.8629e-01, 1.1590e-03, 1.8833e-03, 2.9361e-02, 3.0906e-03, 4.8291e-05,\n",
      "        3.8005e-02, 9.6581e-05, 9.8030e-03, 2.7526e-03, 4.3944e-03, 2.3228e-02,\n",
      "        5.4423e-02]), std: tensor([3.7403e+01, 1.4964e+01, 9.1374e+01, 1.0910e+01, 2.9369e+04, 2.2509e+00,\n",
      "        2.0956e+00, 1.3060e+02, 3.9246e+03, 1.9806e+00, 6.2011e+02, 9.2582e+02,\n",
      "        7.1058e+00, 2.1550e-01, 3.1941e-01, 4.9293e-01, 1.7411e-01, 2.4066e-02,\n",
      "        1.7020e-02, 1.7463e-01, 4.2821e-01, 1.3897e-02, 1.7733e-01, 8.5083e-02,\n",
      "        4.9982e-01, 3.4025e-02, 4.3358e-02, 1.6882e-01, 5.5508e-02, 6.9491e-03,\n",
      "        1.9121e-01, 9.8273e-03, 9.8526e-02, 5.2394e-02, 6.6146e-02, 1.5063e-01,\n",
      "        2.2686e-01])\n",
      "output exp: 779902\n"
     ]
    }
   ],
   "source": [
    "index_nr = 1\n",
    "df_exclude = df.drop(columns=['price_cleaned'])\n",
    "datapoint = df_exclude.iloc[index_nr].values\n",
    "print(datapoint)\n",
    "datapoint = torch.tensor(datapoint, dtype=torch.float32).unsqueeze(0)\n",
    "transformer = models[0]['transform']\n",
    "\n",
    "datapoint = transformer(datapoint)\n",
    "\n",
    "\n",
    "model = models[0]['model']\n",
    "model.eval()\n",
    "model = model.to('cpu')\n",
    "output = model(datapoint)\n",
    "print(f'output: {output}')\n",
    "transformer = models[0]['transform']\n",
    "print(f'mean: {transformer.mean}, std: {transformer.std}')\n",
    "#output = transformer.inverse(output)\n",
    "#print(f'output inverst: {output}')\n",
    "output = torch.exp(output)\n",
    "print(f'output exp: {output[0][0]:.0f}')"
   ],
   "metadata": {
    "collapsed": false,
    "ExecuteTime": {
     "end_time": "2024-11-13T16:04:59.333085200Z",
     "start_time": "2024-11-13T16:04:59.319061Z"
    }
   },
   "id": "93d832963b9862d6",
   "execution_count": 6
  },
  {
   "cell_type": "code",
   "outputs": [
    {
     "data": {
      "text/plain": "np.float64(1420000.0)"
     },
     "execution_count": 7,
     "metadata": {},
     "output_type": "execute_result"
    }
   ],
   "source": [
    "df['price_cleaned'].iloc[index_nr]"
   ],
   "metadata": {
    "collapsed": false,
    "ExecuteTime": {
     "end_time": "2024-11-13T16:05:00.309177500Z",
     "start_time": "2024-11-13T16:05:00.300843300Z"
    }
   },
   "id": "b1d875d245b45d93",
   "execution_count": 7
  },
  {
   "cell_type": "code",
   "outputs": [
    {
     "data": {
      "text/plain": "      Floor  detail_responsive#surface_usable  Floor_space_merged  \\\n0  4.000000                        121.247562          136.313355   \n1  2.861332                        224.500270          242.000000   \n2  2.000000                        129.453708          120.182857   \n3 -0.126916                        232.231722          257.000000   \n4  0.000000                        190.906461          177.781407   \n\n   gde_foreigners_percentage  gde_population  gde_social_help_quota  gde_tax  \\\n0                   9.255663          1545.0               2.234259     5.89   \n1                   9.255663          1545.0               2.234259     5.89   \n2                  21.358623         21036.0               3.549010     6.05   \n3                   9.255663          1545.0               2.234259     5.89   \n4                  15.901990          6081.0               1.708126     6.30   \n\n   price_cleaned  Space extracted  Plot_area_unified  ...  \\\n0      1150000.0            100.0        1340.042762  ...   \n1      1420000.0            156.0         222.000000  ...   \n2       720000.0             93.0         462.657966  ...   \n3      1430000.0            154.0         370.000000  ...   \n4       995000.0            142.0          32.776514  ...   \n\n   type_unified_penthouse  type_unified_rustico  type_unified_secondary-suite  \\\n0                     1.0                   0.0                           0.0   \n1                     0.0                   0.0                           0.0   \n2                     1.0                   0.0                           0.0   \n3                     0.0                   0.0                           0.0   \n4                     0.0                   0.0                           0.0   \n\n   type_unified_semi-detached-house  type_unified_single-room  \\\n0                               0.0                       0.0   \n1                               0.0                       0.0   \n2                               0.0                       0.0   \n3                               0.0                       0.0   \n4                               0.0                       0.0   \n\n   type_unified_stepped-apartment  type_unified_stepped-house  \\\n0                             0.0                         0.0   \n1                             0.0                         0.0   \n2                             0.0                         0.0   \n3                             0.0                         0.0   \n4                             0.0                         0.0   \n\n   type_unified_studio  type_unified_terrace-house  type_unified_villa  \n0                  0.0                         0.0                 0.0  \n1                  0.0                         1.0                 0.0  \n2                  0.0                         0.0                 0.0  \n3                  0.0                         0.0                 0.0  \n4                  0.0                         0.0                 0.0  \n\n[5 rows x 36 columns]",
      "text/html": "<div>\n<style scoped>\n    .dataframe tbody tr th:only-of-type {\n        vertical-align: middle;\n    }\n\n    .dataframe tbody tr th {\n        vertical-align: top;\n    }\n\n    .dataframe thead th {\n        text-align: right;\n    }\n</style>\n<table border=\"1\" class=\"dataframe\">\n  <thead>\n    <tr style=\"text-align: right;\">\n      <th></th>\n      <th>Floor</th>\n      <th>detail_responsive#surface_usable</th>\n      <th>Floor_space_merged</th>\n      <th>gde_foreigners_percentage</th>\n      <th>gde_population</th>\n      <th>gde_social_help_quota</th>\n      <th>gde_tax</th>\n      <th>price_cleaned</th>\n      <th>Space extracted</th>\n      <th>Plot_area_unified</th>\n      <th>...</th>\n      <th>type_unified_penthouse</th>\n      <th>type_unified_rustico</th>\n      <th>type_unified_secondary-suite</th>\n      <th>type_unified_semi-detached-house</th>\n      <th>type_unified_single-room</th>\n      <th>type_unified_stepped-apartment</th>\n      <th>type_unified_stepped-house</th>\n      <th>type_unified_studio</th>\n      <th>type_unified_terrace-house</th>\n      <th>type_unified_villa</th>\n    </tr>\n  </thead>\n  <tbody>\n    <tr>\n      <th>0</th>\n      <td>4.000000</td>\n      <td>121.247562</td>\n      <td>136.313355</td>\n      <td>9.255663</td>\n      <td>1545.0</td>\n      <td>2.234259</td>\n      <td>5.89</td>\n      <td>1150000.0</td>\n      <td>100.0</td>\n      <td>1340.042762</td>\n      <td>...</td>\n      <td>1.0</td>\n      <td>0.0</td>\n      <td>0.0</td>\n      <td>0.0</td>\n      <td>0.0</td>\n      <td>0.0</td>\n      <td>0.0</td>\n      <td>0.0</td>\n      <td>0.0</td>\n      <td>0.0</td>\n    </tr>\n    <tr>\n      <th>1</th>\n      <td>2.861332</td>\n      <td>224.500270</td>\n      <td>242.000000</td>\n      <td>9.255663</td>\n      <td>1545.0</td>\n      <td>2.234259</td>\n      <td>5.89</td>\n      <td>1420000.0</td>\n      <td>156.0</td>\n      <td>222.000000</td>\n      <td>...</td>\n      <td>0.0</td>\n      <td>0.0</td>\n      <td>0.0</td>\n      <td>0.0</td>\n      <td>0.0</td>\n      <td>0.0</td>\n      <td>0.0</td>\n      <td>0.0</td>\n      <td>1.0</td>\n      <td>0.0</td>\n    </tr>\n    <tr>\n      <th>2</th>\n      <td>2.000000</td>\n      <td>129.453708</td>\n      <td>120.182857</td>\n      <td>21.358623</td>\n      <td>21036.0</td>\n      <td>3.549010</td>\n      <td>6.05</td>\n      <td>720000.0</td>\n      <td>93.0</td>\n      <td>462.657966</td>\n      <td>...</td>\n      <td>1.0</td>\n      <td>0.0</td>\n      <td>0.0</td>\n      <td>0.0</td>\n      <td>0.0</td>\n      <td>0.0</td>\n      <td>0.0</td>\n      <td>0.0</td>\n      <td>0.0</td>\n      <td>0.0</td>\n    </tr>\n    <tr>\n      <th>3</th>\n      <td>-0.126916</td>\n      <td>232.231722</td>\n      <td>257.000000</td>\n      <td>9.255663</td>\n      <td>1545.0</td>\n      <td>2.234259</td>\n      <td>5.89</td>\n      <td>1430000.0</td>\n      <td>154.0</td>\n      <td>370.000000</td>\n      <td>...</td>\n      <td>0.0</td>\n      <td>0.0</td>\n      <td>0.0</td>\n      <td>0.0</td>\n      <td>0.0</td>\n      <td>0.0</td>\n      <td>0.0</td>\n      <td>0.0</td>\n      <td>0.0</td>\n      <td>0.0</td>\n    </tr>\n    <tr>\n      <th>4</th>\n      <td>0.000000</td>\n      <td>190.906461</td>\n      <td>177.781407</td>\n      <td>15.901990</td>\n      <td>6081.0</td>\n      <td>1.708126</td>\n      <td>6.30</td>\n      <td>995000.0</td>\n      <td>142.0</td>\n      <td>32.776514</td>\n      <td>...</td>\n      <td>0.0</td>\n      <td>0.0</td>\n      <td>0.0</td>\n      <td>0.0</td>\n      <td>0.0</td>\n      <td>0.0</td>\n      <td>0.0</td>\n      <td>0.0</td>\n      <td>0.0</td>\n      <td>0.0</td>\n    </tr>\n  </tbody>\n</table>\n<p>5 rows × 36 columns</p>\n</div>"
     },
     "execution_count": 8,
     "metadata": {},
     "output_type": "execute_result"
    }
   ],
   "source": [
    "df.head()"
   ],
   "metadata": {
    "collapsed": false,
    "ExecuteTime": {
     "end_time": "2024-11-13T14:56:58.844430600Z",
     "start_time": "2024-11-13T14:56:58.787871500Z"
    }
   },
   "id": "c185cc492808f7ca",
   "execution_count": 8
  },
  {
   "cell_type": "code",
   "outputs": [
    {
     "ename": "ValueError",
     "evalue": "too many values to unpack (expected 3)",
     "output_type": "error",
     "traceback": [
      "\u001B[1;31m---------------------------------------------------------------------------\u001B[0m",
      "\u001B[1;31mValueError\u001B[0m                                Traceback (most recent call last)",
      "Cell \u001B[1;32mIn[9], line 1\u001B[0m\n\u001B[1;32m----> 1\u001B[0m train_loader, val_loader, test_loader \u001B[38;5;241m=\u001B[39m torchModelRun\u001B[38;5;241m.\u001B[39mgetDataLoaders(df, \u001B[38;5;124m'\u001B[39m\u001B[38;5;124mprice_cleaned\u001B[39m\u001B[38;5;124m'\u001B[39m, \u001B[38;5;241m1\u001B[39m)\n\u001B[0;32m      3\u001B[0m counter \u001B[38;5;241m=\u001B[39m \u001B[38;5;241m5\u001B[39m\n\u001B[0;32m      4\u001B[0m \u001B[38;5;28;01mfor\u001B[39;00m batch \u001B[38;5;129;01min\u001B[39;00m train_loader:\n",
      "\u001B[1;31mValueError\u001B[0m: too many values to unpack (expected 3)"
     ]
    }
   ],
   "source": [
    "train_loader, val_loader, test_loader = torchModelRun.getDataLoaders(df, 'price_cleaned', 1)\n",
    "\n",
    "counter = 5\n",
    "for batch in train_loader:\n",
    "    print(batch)\n",
    "    counter -= 1\n",
    "    if counter == 0:\n",
    "        break"
   ],
   "metadata": {
    "collapsed": false,
    "ExecuteTime": {
     "end_time": "2024-11-13T14:56:59.246497500Z",
     "start_time": "2024-11-13T14:56:58.808427700Z"
    }
   },
   "id": "e7803da5caab2ecd",
   "execution_count": 9
  },
  {
   "cell_type": "code",
   "outputs": [],
   "source": [
    "df.std().values.reshape(1, -1)"
   ],
   "metadata": {
    "collapsed": false,
    "ExecuteTime": {
     "start_time": "2024-11-13T14:56:59.238985Z"
    }
   },
   "id": "c0eae5eb7afd070d",
   "execution_count": null
  },
  {
   "cell_type": "code",
   "outputs": [],
   "source": [
    "df.columns"
   ],
   "metadata": {
    "collapsed": false,
    "ExecuteTime": {
     "start_time": "2024-11-13T14:56:59.240984400Z"
    }
   },
   "id": "a77dd87943f775e7",
   "execution_count": null
  },
  {
   "cell_type": "code",
   "outputs": [],
   "source": [
    "import numpy as np\n",
    "input = 1150000.0\n",
    "log = np.log(input+1)\n",
    "min = 0.6931471824645996\n",
    "max = 17.70733070373535\n",
    "output = (log - min) / (max - min)\n",
    "\n",
    "print(f'output: {output}')\n",
    "\n",
    "output = output * (max - min) + min\n",
    "output = np.exp(output) - 1\n",
    "print(f'output: {output}')"
   ],
   "metadata": {
    "collapsed": false,
    "ExecuteTime": {
     "start_time": "2024-11-13T14:56:59.242490100Z"
    }
   },
   "id": "170efc538d930cca",
   "execution_count": null
  },
  {
   "cell_type": "code",
   "outputs": [],
   "source": [],
   "metadata": {
    "collapsed": false,
    "ExecuteTime": {
     "start_time": "2024-11-13T14:56:59.244495800Z"
    }
   },
   "id": "4e9378e20110a7da"
  },
  {
   "cell_type": "markdown",
   "source": [
    "# Embedding for Text with BERT"
   ],
   "metadata": {
    "collapsed": false
   },
   "id": "5ecbd74d94f8dda9"
  },
  {
   "cell_type": "code",
   "outputs": [],
   "source": [
    "from transformers import BertModel, BertTokenizer\n",
    "import torch.nn as nn\n",
    "\n",
    "class BertForRegression(nn.Module):\n",
    "    def __init__(self, pretrained_model_name):\n",
    "        super(BertForRegression, self).__init__()\n",
    "        self.bert = BertModel.from_pretrained(pretrained_model_name)\n",
    "        self.regressor = nn.Linear(self.bert.config.hidden_size, 1)\n",
    "    \n",
    "    def forward(self, input_ids, attention_mask):\n",
    "        outputs = self.bert(input_ids=input_ids, attention_mask=attention_mask)\n",
    "        cls_output = outputs.pooler_output  # `[CLS]` token output\n",
    "        return self.regressor(cls_output)"
   ],
   "metadata": {
    "collapsed": false
   },
   "id": "fe619c8cec2161b7"
  },
  {
   "cell_type": "code",
   "outputs": [],
   "source": [
    "# Train BERT model\n",
    "\n",
    "model = BertForRegression('bert-base')\n",
    "\n",
    "epochs = 10\n",
    "optimizer = torch.optim.SGD(model.parameters(), lr=1e-5)\n",
    "loss_fn = nn.MSELoss()\n",
    "\n",
    "train_loader, val_loader, test_loader = torchModelRun.getDataLoaders(df, 'price_cleaned', 1)\n",
    "\n",
    "for epoch in range(epochs):\n",
    "    for batch in train_loader:\n",
    "        input_ids = batch['input_ids']\n",
    "        attention_mask = batch['attention_mask']\n",
    "        target = batch['target']\n",
    "        output = model(input_ids, attention_mask)\n",
    "        loss = loss_fn(output, target)\n",
    "        optimizer.zero_grad()\n",
    "        loss.backward()\n",
    "        optimizer.step()\n"
   ],
   "metadata": {
    "collapsed": false
   },
   "id": "4759b8f8dad1e59c"
  },
  {
   "cell_type": "markdown",
   "source": [
    "# Kaggle Competition"
   ],
   "metadata": {
    "collapsed": false
   },
   "id": "94dde004e869b7a2"
  },
  {
   "cell_type": "code",
   "outputs": [
    {
     "name": "stderr",
     "output_type": "stream",
     "text": [
      "C:\\FHNW_Programmiersachen\\5_Sem\\immo_challenge\\src\\dataPipeline.py:43: DtypeWarning: Columns (3,4,5,6,11,13,14,15,16,17,18,19,20,21,22,23,24,25,26,27,28,29,30,31,32,33,34,35,36,37,38,39,40,41,42,43,45,46,47,49,50,107,110,114,115,116,119,120,121,124,125,126,128,131,132) have mixed types. Specify dtype option on import or set low_memory=False.\n",
      "  self.data = pd.read_csv(filePath)\n",
      "C:\\FHNW_Programmiersachen\\5_Sem\\immo_challenge\\src\\dataPipeline.py:70: FutureWarning: Downcasting object dtype arrays on .fillna, .ffill, .bfill is deprecated and will change in a future version. Call result.infer_objects(copy=False) instead. To opt-in to the future behavior, set `pd.set_option('future.no_silent_downcasting', True)`\n",
      "  ]].bfill(axis=1)['Space extracted']\n",
      "C:\\FHNW_Programmiersachen\\5_Sem\\immo_challenge\\src\\dataPipeline.py:75: FutureWarning: Downcasting object dtype arrays on .fillna, .ffill, .bfill is deprecated and will change in a future version. Call result.infer_objects(copy=False) instead. To opt-in to the future behavior, set `pd.set_option('future.no_silent_downcasting', True)`\n",
      "  ]].bfill(axis=1)['Plot_area_unified']\n",
      "C:\\FHNW_Programmiersachen\\5_Sem\\immo_challenge\\src\\dataPipeline.py:81: FutureWarning: Downcasting object dtype arrays on .fillna, .ffill, .bfill is deprecated and will change in a future version. Call result.infer_objects(copy=False) instead. To opt-in to the future behavior, set `pd.set_option('future.no_silent_downcasting', True)`\n",
      "  ]].bfill(axis=1)['Availability']\n"
     ]
    }
   ],
   "source": [
    "from sklearn.impute import SimpleImputer, KNNImputer\n",
    "import os\n",
    "from src.dataPipeline import DataPipeline\n",
    "\n",
    "\n",
    "os.chdir('..')\n",
    "\n",
    "imputer = KNNImputer(n_neighbors=5)\n",
    "dp = DataPipeline()\n",
    "df = dp.runPipeline(normalizeAndStandardize=False, imputer=imputer)"
   ],
   "metadata": {
    "collapsed": false,
    "ExecuteTime": {
     "end_time": "2024-12-13T12:49:37.413279300Z",
     "start_time": "2024-12-13T12:48:51.229080600Z"
    }
   },
   "id": "cfa8f76149eb8d3a",
   "execution_count": 1
  },
  {
   "cell_type": "code",
   "outputs": [
    {
     "data": {
      "text/plain": "       Floor  detail_responsive#surface_usable  Floor_space_merged  \\\n0        4.0                             187.2               159.2   \n1        2.4                             191.8               242.0   \n2        2.0                             162.0               112.6   \n3        2.2                             191.8               257.0   \n4        0.0                             197.6               228.0   \n...      ...                               ...                 ...   \n20791    0.8                              67.8               100.8   \n20792    3.8                             207.2               249.2   \n20793    0.0                             233.2               318.0   \n20794    1.8                             167.8               149.8   \n20795    1.0                             361.2               122.6   \n\n       ForestDensityM  ForestDensityS  RiversAndLakesL  RiversAndLakesM  \\\n0            0.286451        0.090908         0.082170         0.001811   \n1            0.286451        0.090908         0.082170         0.001811   \n2            0.095877        0.001911         0.154274         0.188229   \n3            0.286451        0.090908         0.082170         0.001811   \n4            0.279276        0.145835         0.109586         0.141473   \n...               ...             ...              ...              ...   \n20791        0.385885        0.097278         0.000000         0.000000   \n20792        0.000000        0.000000         0.013997         0.000000   \n20793        0.000000        0.000000         0.000000         0.000000   \n20794        0.151363        0.038351         0.026686         0.021426   \n20795        0.153670        0.113892         0.055729         0.034357   \n\n       RiversAndLakesS  distanceToTrainStation  gde_area_forest_percentage  \\\n0             0.011871                3.038467                   51.449275   \n1             0.011871                3.038467                   51.449275   \n2             0.000000                0.909587                   32.197891   \n3             0.011871                3.038467                   51.449275   \n4             0.091805                1.460245                   49.705635   \n...                ...                     ...                         ...   \n20791         0.000000                1.375319                   29.028213   \n20792         0.000000                1.067011                   30.599295   \n20793         0.000000                0.230859                   30.599295   \n20794         0.000000                0.357339                   26.718547   \n20795         0.000000                0.530367                   45.357143   \n\n       ...  Swimming pool  View  Washing machine  Waste water connection  \\\n0      ...            0.0   0.0              0.0                     0.0   \n1      ...            0.0   0.0              0.0                     0.0   \n2      ...            0.0   0.0              0.0                     0.0   \n3      ...            0.0   0.0              0.0                     0.0   \n4      ...            0.0   0.0              0.0                     0.0   \n...    ...            ...   ...              ...                     ...   \n20791  ...            0.0   0.0              0.0                     0.0   \n20792  ...            0.0   1.0              1.0                     0.0   \n20793  ...            0.0   0.0              0.0                     0.0   \n20794  ...            0.0   1.0              0.0                     0.0   \n20795  ...            0.0   0.0              0.0                     0.0   \n\n       Water connection  Wheelchair access  With a summer house  covered  \\\n0                   0.0                0.0                  0.0      0.0   \n1                   0.0                0.0                  0.0      0.0   \n2                   0.0                0.0                  0.0      0.0   \n3                   0.0                0.0                  0.0      0.0   \n4                   0.0                0.0                  0.0      0.0   \n...                 ...                ...                  ...      ...   \n20791               0.0                0.0                  0.0      0.0   \n20792               0.0                1.0                  0.0      0.0   \n20793               0.0                0.0                  0.0      0.0   \n20794               0.0                1.0                  0.0      0.0   \n20795               0.0                0.0                  0.0      0.0   \n\n       Availability_Immediately  Availability_On request  \n0                           0.0                      1.0  \n1                           0.0                      1.0  \n2                           1.0                      0.0  \n3                           0.0                      1.0  \n4                           0.0                      1.0  \n...                         ...                      ...  \n20791                       0.0                      0.0  \n20792                       0.0                      0.0  \n20793                       0.0                      0.0  \n20794                       0.0                      0.0  \n20795                       0.0                      0.0  \n\n[20796 rows x 61 columns]",
      "text/html": "<div>\n<style scoped>\n    .dataframe tbody tr th:only-of-type {\n        vertical-align: middle;\n    }\n\n    .dataframe tbody tr th {\n        vertical-align: top;\n    }\n\n    .dataframe thead th {\n        text-align: right;\n    }\n</style>\n<table border=\"1\" class=\"dataframe\">\n  <thead>\n    <tr style=\"text-align: right;\">\n      <th></th>\n      <th>Floor</th>\n      <th>detail_responsive#surface_usable</th>\n      <th>Floor_space_merged</th>\n      <th>ForestDensityM</th>\n      <th>ForestDensityS</th>\n      <th>RiversAndLakesL</th>\n      <th>RiversAndLakesM</th>\n      <th>RiversAndLakesS</th>\n      <th>distanceToTrainStation</th>\n      <th>gde_area_forest_percentage</th>\n      <th>...</th>\n      <th>Swimming pool</th>\n      <th>View</th>\n      <th>Washing machine</th>\n      <th>Waste water connection</th>\n      <th>Water connection</th>\n      <th>Wheelchair access</th>\n      <th>With a summer house</th>\n      <th>covered</th>\n      <th>Availability_Immediately</th>\n      <th>Availability_On request</th>\n    </tr>\n  </thead>\n  <tbody>\n    <tr>\n      <th>0</th>\n      <td>4.0</td>\n      <td>187.2</td>\n      <td>159.2</td>\n      <td>0.286451</td>\n      <td>0.090908</td>\n      <td>0.082170</td>\n      <td>0.001811</td>\n      <td>0.011871</td>\n      <td>3.038467</td>\n      <td>51.449275</td>\n      <td>...</td>\n      <td>0.0</td>\n      <td>0.0</td>\n      <td>0.0</td>\n      <td>0.0</td>\n      <td>0.0</td>\n      <td>0.0</td>\n      <td>0.0</td>\n      <td>0.0</td>\n      <td>0.0</td>\n      <td>1.0</td>\n    </tr>\n    <tr>\n      <th>1</th>\n      <td>2.4</td>\n      <td>191.8</td>\n      <td>242.0</td>\n      <td>0.286451</td>\n      <td>0.090908</td>\n      <td>0.082170</td>\n      <td>0.001811</td>\n      <td>0.011871</td>\n      <td>3.038467</td>\n      <td>51.449275</td>\n      <td>...</td>\n      <td>0.0</td>\n      <td>0.0</td>\n      <td>0.0</td>\n      <td>0.0</td>\n      <td>0.0</td>\n      <td>0.0</td>\n      <td>0.0</td>\n      <td>0.0</td>\n      <td>0.0</td>\n      <td>1.0</td>\n    </tr>\n    <tr>\n      <th>2</th>\n      <td>2.0</td>\n      <td>162.0</td>\n      <td>112.6</td>\n      <td>0.095877</td>\n      <td>0.001911</td>\n      <td>0.154274</td>\n      <td>0.188229</td>\n      <td>0.000000</td>\n      <td>0.909587</td>\n      <td>32.197891</td>\n      <td>...</td>\n      <td>0.0</td>\n      <td>0.0</td>\n      <td>0.0</td>\n      <td>0.0</td>\n      <td>0.0</td>\n      <td>0.0</td>\n      <td>0.0</td>\n      <td>0.0</td>\n      <td>1.0</td>\n      <td>0.0</td>\n    </tr>\n    <tr>\n      <th>3</th>\n      <td>2.2</td>\n      <td>191.8</td>\n      <td>257.0</td>\n      <td>0.286451</td>\n      <td>0.090908</td>\n      <td>0.082170</td>\n      <td>0.001811</td>\n      <td>0.011871</td>\n      <td>3.038467</td>\n      <td>51.449275</td>\n      <td>...</td>\n      <td>0.0</td>\n      <td>0.0</td>\n      <td>0.0</td>\n      <td>0.0</td>\n      <td>0.0</td>\n      <td>0.0</td>\n      <td>0.0</td>\n      <td>0.0</td>\n      <td>0.0</td>\n      <td>1.0</td>\n    </tr>\n    <tr>\n      <th>4</th>\n      <td>0.0</td>\n      <td>197.6</td>\n      <td>228.0</td>\n      <td>0.279276</td>\n      <td>0.145835</td>\n      <td>0.109586</td>\n      <td>0.141473</td>\n      <td>0.091805</td>\n      <td>1.460245</td>\n      <td>49.705635</td>\n      <td>...</td>\n      <td>0.0</td>\n      <td>0.0</td>\n      <td>0.0</td>\n      <td>0.0</td>\n      <td>0.0</td>\n      <td>0.0</td>\n      <td>0.0</td>\n      <td>0.0</td>\n      <td>0.0</td>\n      <td>1.0</td>\n    </tr>\n    <tr>\n      <th>...</th>\n      <td>...</td>\n      <td>...</td>\n      <td>...</td>\n      <td>...</td>\n      <td>...</td>\n      <td>...</td>\n      <td>...</td>\n      <td>...</td>\n      <td>...</td>\n      <td>...</td>\n      <td>...</td>\n      <td>...</td>\n      <td>...</td>\n      <td>...</td>\n      <td>...</td>\n      <td>...</td>\n      <td>...</td>\n      <td>...</td>\n      <td>...</td>\n      <td>...</td>\n      <td>...</td>\n    </tr>\n    <tr>\n      <th>20791</th>\n      <td>0.8</td>\n      <td>67.8</td>\n      <td>100.8</td>\n      <td>0.385885</td>\n      <td>0.097278</td>\n      <td>0.000000</td>\n      <td>0.000000</td>\n      <td>0.000000</td>\n      <td>1.375319</td>\n      <td>29.028213</td>\n      <td>...</td>\n      <td>0.0</td>\n      <td>0.0</td>\n      <td>0.0</td>\n      <td>0.0</td>\n      <td>0.0</td>\n      <td>0.0</td>\n      <td>0.0</td>\n      <td>0.0</td>\n      <td>0.0</td>\n      <td>0.0</td>\n    </tr>\n    <tr>\n      <th>20792</th>\n      <td>3.8</td>\n      <td>207.2</td>\n      <td>249.2</td>\n      <td>0.000000</td>\n      <td>0.000000</td>\n      <td>0.013997</td>\n      <td>0.000000</td>\n      <td>0.000000</td>\n      <td>1.067011</td>\n      <td>30.599295</td>\n      <td>...</td>\n      <td>0.0</td>\n      <td>1.0</td>\n      <td>1.0</td>\n      <td>0.0</td>\n      <td>0.0</td>\n      <td>1.0</td>\n      <td>0.0</td>\n      <td>0.0</td>\n      <td>0.0</td>\n      <td>0.0</td>\n    </tr>\n    <tr>\n      <th>20793</th>\n      <td>0.0</td>\n      <td>233.2</td>\n      <td>318.0</td>\n      <td>0.000000</td>\n      <td>0.000000</td>\n      <td>0.000000</td>\n      <td>0.000000</td>\n      <td>0.000000</td>\n      <td>0.230859</td>\n      <td>30.599295</td>\n      <td>...</td>\n      <td>0.0</td>\n      <td>0.0</td>\n      <td>0.0</td>\n      <td>0.0</td>\n      <td>0.0</td>\n      <td>0.0</td>\n      <td>0.0</td>\n      <td>0.0</td>\n      <td>0.0</td>\n      <td>0.0</td>\n    </tr>\n    <tr>\n      <th>20794</th>\n      <td>1.8</td>\n      <td>167.8</td>\n      <td>149.8</td>\n      <td>0.151363</td>\n      <td>0.038351</td>\n      <td>0.026686</td>\n      <td>0.021426</td>\n      <td>0.000000</td>\n      <td>0.357339</td>\n      <td>26.718547</td>\n      <td>...</td>\n      <td>0.0</td>\n      <td>1.0</td>\n      <td>0.0</td>\n      <td>0.0</td>\n      <td>0.0</td>\n      <td>1.0</td>\n      <td>0.0</td>\n      <td>0.0</td>\n      <td>0.0</td>\n      <td>0.0</td>\n    </tr>\n    <tr>\n      <th>20795</th>\n      <td>1.0</td>\n      <td>361.2</td>\n      <td>122.6</td>\n      <td>0.153670</td>\n      <td>0.113892</td>\n      <td>0.055729</td>\n      <td>0.034357</td>\n      <td>0.000000</td>\n      <td>0.530367</td>\n      <td>45.357143</td>\n      <td>...</td>\n      <td>0.0</td>\n      <td>0.0</td>\n      <td>0.0</td>\n      <td>0.0</td>\n      <td>0.0</td>\n      <td>0.0</td>\n      <td>0.0</td>\n      <td>0.0</td>\n      <td>0.0</td>\n      <td>0.0</td>\n    </tr>\n  </tbody>\n</table>\n<p>20796 rows × 61 columns</p>\n</div>"
     },
     "execution_count": 2,
     "metadata": {},
     "output_type": "execute_result"
    }
   ],
   "source": [
    "df"
   ],
   "metadata": {
    "collapsed": false,
    "ExecuteTime": {
     "end_time": "2024-12-13T12:49:37.451290500Z",
     "start_time": "2024-12-13T12:49:37.413279300Z"
    }
   },
   "id": "5485c9011d08fb0b",
   "execution_count": 2
  },
  {
   "cell_type": "code",
   "outputs": [
    {
     "name": "stdout",
     "output_type": "stream",
     "text": [
      "input nums: 60\n"
     ]
    }
   ],
   "source": [
    "inputs_nums = len(df.columns) - 1\n",
    "print(f'input nums: {inputs_nums}')"
   ],
   "metadata": {
    "collapsed": false,
    "ExecuteTime": {
     "end_time": "2024-12-13T12:49:37.453295400Z",
     "start_time": "2024-12-13T12:49:37.442583200Z"
    }
   },
   "id": "bf4020d443f327c4",
   "execution_count": 3
  },
  {
   "cell_type": "code",
   "outputs": [
    {
     "data": {
      "text/plain": "<IPython.core.display.HTML object>",
      "text/html": "Finishing last run (ID:zhmywanv) before initializing another..."
     },
     "metadata": {},
     "output_type": "display_data"
    },
    {
     "data": {
      "text/plain": "<IPython.core.display.HTML object>",
      "text/html": " View run <strong style=\"color:#cdcd00\">MLP-bs16-lr1e-05</strong> at: <a href='https://wandb.ai/denis-schatzmann/Immo-Challenge/runs/zhmywanv' target=\"_blank\">https://wandb.ai/denis-schatzmann/Immo-Challenge/runs/zhmywanv</a><br/> View project at: <a href='https://wandb.ai/denis-schatzmann/Immo-Challenge' target=\"_blank\">https://wandb.ai/denis-schatzmann/Immo-Challenge</a><br/>Synced 5 W&B file(s), 0 media file(s), 0 artifact file(s) and 0 other file(s)"
     },
     "metadata": {},
     "output_type": "display_data"
    },
    {
     "data": {
      "text/plain": "<IPython.core.display.HTML object>",
      "text/html": "Find logs at: <code>.\\wandb\\run-20241213_134939-zhmywanv\\logs</code>"
     },
     "metadata": {},
     "output_type": "display_data"
    },
    {
     "data": {
      "text/plain": "<IPython.core.display.HTML object>",
      "text/html": "Successfully finished last run (ID:zhmywanv). Initializing new run:<br/>"
     },
     "metadata": {},
     "output_type": "display_data"
    },
    {
     "data": {
      "text/plain": "<IPython.core.display.HTML object>",
      "text/html": "Tracking run with wandb version 0.18.5"
     },
     "metadata": {},
     "output_type": "display_data"
    },
    {
     "data": {
      "text/plain": "<IPython.core.display.HTML object>",
      "text/html": "Run data is saved locally in <code>C:\\FHNW_Programmiersachen\\5_Sem\\immo_challenge\\wandb\\run-20241213_135117-owz0njn1</code>"
     },
     "metadata": {},
     "output_type": "display_data"
    },
    {
     "data": {
      "text/plain": "<IPython.core.display.HTML object>",
      "text/html": "Syncing run <strong><a href='https://wandb.ai/denis-schatzmann/Immo-Challenge/runs/owz0njn1' target=\"_blank\">MLP-bs16-lr1e-05</a></strong> to <a href='https://wandb.ai/denis-schatzmann/Immo-Challenge' target=\"_blank\">Weights & Biases</a> (<a href='https://wandb.me/run' target=\"_blank\">docs</a>)<br/>"
     },
     "metadata": {},
     "output_type": "display_data"
    },
    {
     "data": {
      "text/plain": "<IPython.core.display.HTML object>",
      "text/html": " View project at <a href='https://wandb.ai/denis-schatzmann/Immo-Challenge' target=\"_blank\">https://wandb.ai/denis-schatzmann/Immo-Challenge</a>"
     },
     "metadata": {},
     "output_type": "display_data"
    },
    {
     "data": {
      "text/plain": "<IPython.core.display.HTML object>",
      "text/html": " View run at <a href='https://wandb.ai/denis-schatzmann/Immo-Challenge/runs/owz0njn1' target=\"_blank\">https://wandb.ai/denis-schatzmann/Immo-Challenge/runs/owz0njn1</a>"
     },
     "metadata": {},
     "output_type": "display_data"
    },
    {
     "name": "stdout",
     "output_type": "stream",
     "text": [
      "Epoch 1, Loss: 182.31597115443304, Train MAPE: 77839925.0576923, Test MAPE: 80949120.70769231\n",
      "Epoch 2, Loss: 166.76681319016677, Train MAPE: 34346591.37692308, Test MAPE: 35584276.384615384\n",
      "Epoch 3, Loss: 131.00556689775908, Train MAPE: 2311189.860576923, Test MAPE: 2355694.962980769\n",
      "Epoch 4, Loss: 43.89569594218181, Train MAPE: nan, Test MAPE: 4442.224892014724\n",
      "Epoch 5, Loss: 13.990102921999418, Train MAPE: nan, Test MAPE: 938.2629087594839\n",
      "Epoch 6, Loss: 7.851106465665194, Train MAPE: 603.8225309518667, Test MAPE: 594.1052240224985\n",
      "Epoch 7, Loss: 5.12880457049379, Train MAPE: 332.892286997575, Test MAPE: 328.2939253146832\n",
      "Epoch 8, Loss: 3.717655853296702, Train MAPE: 248.59473959482634, Test MAPE: 245.8888848231389\n",
      "Epoch 9, Loss: 2.8724275996478705, Train MAPE: 197.3469076670133, Test MAPE: 195.94455155592698\n",
      "Epoch 10, Loss: 2.3248596731573343, Train MAPE: 174.82429721538838, Test MAPE: 174.7405268742488\n",
      "Epoch 11, Loss: 1.9454785069880578, Train MAPE: 158.53121710190408, Test MAPE: 159.6049475156344\n",
      "Epoch 12, Loss: 1.6724828612632476, Train MAPE: 139.97240394078767, Test MAPE: 141.88293046217697\n",
      "Epoch 13, Loss: 1.4712275956829006, Train MAPE: 126.50854237263019, Test MAPE: 129.05807721064642\n",
      "Epoch 14, Loss: 1.320459328749432, Train MAPE: 121.7975908609537, Test MAPE: 125.032363818242\n",
      "Epoch 15, Loss: 1.205949128476473, Train MAPE: 112.93162812086253, Test MAPE: 116.5930681668795\n",
      "Epoch 16, Loss: 1.1158589485889443, Train MAPE: 105.30532316794762, Test MAPE: 109.25052324441764\n",
      "Epoch 17, Loss: 1.0434239947595276, Train MAPE: 100.76315776017996, Test MAPE: 104.94917978140025\n",
      "Epoch 18, Loss: 0.9843752332031727, Train MAPE: 99.35548201340896, Test MAPE: 103.91610130896935\n",
      "Epoch 19, Loss: 0.9348384560300753, Train MAPE: 93.88519255564763, Test MAPE: 98.50712834871732\n",
      "Epoch 20, Loss: 0.8927187437908007, Train MAPE: 91.90838169868175, Test MAPE: 96.74533924689659\n",
      "Epoch 21, Loss: 0.8561652502474877, Train MAPE: 89.09825936464163, Test MAPE: 94.00715041527381\n",
      "Epoch 22, Loss: 0.8239384811514845, Train MAPE: 86.06270523621485, Test MAPE: 90.98296875586877\n",
      "Epoch 23, Loss: 0.7956321190899381, Train MAPE: 87.45176809567671, Test MAPE: 92.66336182814378\n",
      "Epoch 24, Loss: 0.7704029593473444, Train MAPE: 83.96546484507047, Test MAPE: 89.13269016559308\n",
      "Epoch 25, Loss: 0.7474484893564994, Train MAPE: 81.89875668378977, Test MAPE: 87.06761126151451\n",
      "Epoch 26, Loss: 0.7263668173350967, Train MAPE: 81.35661180569575, Test MAPE: 86.62887048721313\n",
      "Epoch 27, Loss: 0.7068660847627772, Train MAPE: 79.21280787908114, Test MAPE: 84.44497394561768\n",
      "Epoch 28, Loss: 0.6888188309680957, Train MAPE: 76.91704259652357, Test MAPE: 82.06483409588154\n",
      "Epoch 29, Loss: 0.6720244277268648, Train MAPE: 76.44494000031398, Test MAPE: 81.64958017789401\n",
      "Epoch 30, Loss: 0.656445670256821, Train MAPE: 76.58954571027022, Test MAPE: 81.89265612088717\n",
      "Epoch 31, Loss: 0.6417989306438427, Train MAPE: 74.65796741338876, Test MAPE: 79.87114688433134\n",
      "Epoch 32, Loss: 0.6274255639300323, Train MAPE: 72.50915687450996, Test MAPE: 77.57988592294546\n",
      "Epoch 33, Loss: 0.6142908433595529, Train MAPE: 72.11962566375732, Test MAPE: 77.24725950681247\n",
      "Epoch 34, Loss: 0.6014776913520808, Train MAPE: 70.95021350200359, Test MAPE: 76.0288173528818\n",
      "Epoch 35, Loss: 0.5894069041053837, Train MAPE: 69.13851227210118, Test MAPE: 74.09246619297907\n",
      "Epoch 36, Loss: 0.5780040341393592, Train MAPE: 69.64650142009441, Test MAPE: 74.71239260160006\n",
      "Epoch 37, Loss: 0.56699664043979, Train MAPE: 68.31255650520325, Test MAPE: 73.28951545128456\n",
      "Epoch 38, Loss: 0.5563550065701398, Train MAPE: 68.3520539357112, Test MAPE: 73.37739193256084\n",
      "Epoch 39, Loss: 0.5463172111158761, Train MAPE: 66.376555620707, Test MAPE: 71.23469199400682\n",
      "Epoch 40, Loss: 0.5366808050813583, Train MAPE: 65.84810430636773, Test MAPE: 70.67677016625038\n",
      "Epoch 41, Loss: 0.5273267350947628, Train MAPE: 65.29286583203536, Test MAPE: 70.10641992275532\n",
      "Epoch 42, Loss: 0.5182828306363753, Train MAPE: 65.42663786961482, Test MAPE: 70.29233688207773\n",
      "Epoch 43, Loss: 0.5095465700428646, Train MAPE: 63.27105919764592, Test MAPE: 67.90478279407208\n",
      "Epoch 44, Loss: 0.5010366875535021, Train MAPE: 62.144594698685864, Test MAPE: 66.70055569135226\n",
      "Epoch 45, Loss: 0.4931614653637203, Train MAPE: 62.04641543351687, Test MAPE: 66.63341109202459\n",
      "Epoch 46, Loss: 0.4853009895278284, Train MAPE: 61.39431110528799, Test MAPE: 65.94278620206393\n",
      "Epoch 47, Loss: 0.47763370069890065, Train MAPE: 61.47390616306892, Test MAPE: 66.07459034552942\n",
      "Epoch 48, Loss: 0.47040268185620127, Train MAPE: 60.17562946172861, Test MAPE: 64.64855544016912\n",
      "Epoch 49, Loss: 0.46331219147317687, Train MAPE: 59.88325321857746, Test MAPE: 64.35332168432383\n",
      "Epoch 50, Loss: 0.45641716255161624, Train MAPE: 58.54104296610905, Test MAPE: 62.886298751831056\n",
      "Epoch 51, Loss: 0.44993710757161565, Train MAPE: 58.815171544368454, Test MAPE: 63.20371351975661\n",
      "Epoch 52, Loss: 0.4434375855570229, Train MAPE: 57.85900821502392, Test MAPE: 62.161624336242674\n",
      "Epoch 53, Loss: 0.437244844257545, Train MAPE: 57.57098857806279, Test MAPE: 61.87615214861356\n",
      "Epoch 54, Loss: 0.43111267897228783, Train MAPE: 56.71305555380308, Test MAPE: 60.93145200289213\n",
      "Epoch 55, Loss: 0.42534793183350794, Train MAPE: 56.59507263990549, Test MAPE: 60.825840832636906\n",
      "Epoch 56, Loss: 0.4195092759668254, Train MAPE: 56.1446192741394, Test MAPE: 60.364243522057166\n",
      "Epoch 57, Loss: 0.4139564994221123, Train MAPE: 55.04181642532349, Test MAPE: 59.151314331935005\n",
      "Epoch 58, Loss: 0.4084830636803347, Train MAPE: 55.463487670971794, Test MAPE: 59.65302043327918\n",
      "Epoch 59, Loss: 0.40320144350497195, Train MAPE: 54.80938673569606, Test MAPE: 58.93534937638503\n",
      "Epoch 60, Loss: 0.398007250820788, Train MAPE: 54.0405960724904, Test MAPE: 58.09615987630991\n",
      "Epoch 61, Loss: 0.3929976679241428, Train MAPE: 53.13479293493124, Test MAPE: 57.10416384476882\n",
      "Epoch 62, Loss: 0.38816887772140596, Train MAPE: 52.46791138648987, Test MAPE: 56.379203767042895\n",
      "Epoch 63, Loss: 0.38339253613152185, Train MAPE: 52.22409938848936, Test MAPE: 56.12568057867197\n",
      "Epoch 64, Loss: 0.37878420111508326, Train MAPE: 51.55488401376284, Test MAPE: 55.393701773423416\n",
      "Epoch 65, Loss: 0.3742905670633683, Train MAPE: 52.252796152921825, Test MAPE: 56.19824209946852\n",
      "Epoch 66, Loss: 0.3698488682078627, Train MAPE: 51.304939853228056, Test MAPE: 55.158678098825305\n",
      "Epoch 67, Loss: 0.36544856323072544, Train MAPE: 51.98005919273083, Test MAPE: 55.95377021202674\n",
      "Epoch 68, Loss: 0.36129969352354796, Train MAPE: 50.77416664086855, Test MAPE: 54.60658457829402\n",
      "Epoch 69, Loss: 0.3571959543471726, Train MAPE: 50.98925076081203, Test MAPE: 54.87679502780621\n",
      "Epoch 70, Loss: 0.3532397920659815, Train MAPE: 49.830407048188725, Test MAPE: 53.57760326678936\n",
      "Epoch 71, Loss: 0.34923338774018564, Train MAPE: 50.452764567962056, Test MAPE: 54.30214644211989\n",
      "Epoch 72, Loss: 0.34547591564747004, Train MAPE: 49.491551674329315, Test MAPE: 53.232656698960525\n",
      "Epoch 73, Loss: 0.3416993315045077, Train MAPE: 49.07762480882498, Test MAPE: 52.78662276634803\n",
      "Epoch 74, Loss: 0.3379794757240094, Train MAPE: 48.83665271722354, Test MAPE: 52.522584878481354\n",
      "Epoch 75, Loss: 0.33434810768812895, Train MAPE: 48.129607970897965, Test MAPE: 51.73443427452674\n",
      "Epoch 76, Loss: 0.33090117140673103, Train MAPE: 47.76352243240063, Test MAPE: 51.341766658196086\n",
      "Epoch 77, Loss: 0.32740409096631296, Train MAPE: 47.23444976439843, Test MAPE: 50.75578545056857\n",
      "Epoch 78, Loss: 0.3241001876644217, Train MAPE: 47.55765149960151, Test MAPE: 51.13810721177321\n",
      "Epoch 79, Loss: 0.32076648912177635, Train MAPE: 46.963746509185206, Test MAPE: 50.492724484663746\n",
      "Epoch 80, Loss: 0.3175058678580591, Train MAPE: 46.626065292725194, Test MAPE: 50.11371406408457\n",
      "Epoch 81, Loss: 0.31441579815716697, Train MAPE: 46.355240220289964, Test MAPE: 49.82908047896165\n",
      "Epoch 82, Loss: 0.3113642084913758, Train MAPE: 46.228685186459465, Test MAPE: 49.69987073311439\n",
      "Epoch 83, Loss: 0.30832151376928846, Train MAPE: 46.11301859525534, Test MAPE: 49.59131433046781\n",
      "Epoch 84, Loss: 0.30532552715784944, Train MAPE: 46.38351870866922, Test MAPE: 49.91146641511183\n",
      "Epoch 85, Loss: 0.3024847895336839, Train MAPE: 45.188211008218616, Test MAPE: 48.56453602864192\n",
      "Epoch 86, Loss: 0.29964811024972454, Train MAPE: 45.325228925851675, Test MAPE: 48.731951860281136\n",
      "Epoch 87, Loss: 0.2968936525894186, Train MAPE: 44.82831990352044, Test MAPE: 48.18089569531954\n",
      "Epoch 88, Loss: 0.2941189773058375, Train MAPE: 44.034484584514914, Test MAPE: 47.279623735868014\n",
      "Epoch 89, Loss: 0.2915389375474591, Train MAPE: 44.67622240690085, Test MAPE: 48.0314220061669\n",
      "Epoch 90, Loss: 0.2888930509511668, Train MAPE: 44.34233869772691, Test MAPE: 47.667918095221886\n",
      "Epoch 91, Loss: 0.28631481373539336, Train MAPE: 43.950921124678395, Test MAPE: 47.23231570904071\n",
      "Epoch 92, Loss: 0.2838935326426648, Train MAPE: 44.087246710520525, Test MAPE: 47.394130780146675\n",
      "Epoch 93, Loss: 0.28131105426627284, Train MAPE: 43.422650951605576, Test MAPE: 46.65371699699989\n",
      "Epoch 94, Loss: 0.2788933364029687, Train MAPE: 43.577137633470386, Test MAPE: 46.84614221866314\n",
      "Epoch 95, Loss: 0.27657581836415024, Train MAPE: 42.962161478629476, Test MAPE: 46.14416751127977\n",
      "Epoch 96, Loss: 0.27425388688794694, Train MAPE: 42.774451162264896, Test MAPE: 45.948169840299165\n",
      "Epoch 97, Loss: 0.27196319854030243, Train MAPE: 42.60068291058907, Test MAPE: 45.75486484674307\n",
      "Epoch 98, Loss: 0.26968247160816994, Train MAPE: 42.583147584475, Test MAPE: 45.747391062516435\n",
      "Epoch 99, Loss: 0.26747707832031525, Train MAPE: 41.99831218536084, Test MAPE: 45.09056674517118\n",
      "Epoch 100, Loss: 0.2653524878076636, Train MAPE: 41.718861889839175, Test MAPE: 44.78048422886775\n",
      "Epoch 101, Loss: 0.26350359705348425, Train MAPE: 41.746021517423486, Test MAPE: 44.82426245029156\n",
      "Epoch 102, Loss: 0.261082213318262, Train MAPE: 41.64695737545307, Test MAPE: 44.72411983196552\n",
      "Epoch 103, Loss: 0.25920473204639094, Train MAPE: 41.313199809881354, Test MAPE: 44.35740635945247\n",
      "Epoch 104, Loss: 0.2571402705632723, Train MAPE: 41.413936224350564, Test MAPE: 44.4849192399245\n",
      "Epoch 105, Loss: 0.25517835166806785, Train MAPE: 41.37505206878369, Test MAPE: 44.447984570723314\n",
      "Epoch 106, Loss: 0.2533261012644149, Train MAPE: 41.18157786406004, Test MAPE: 44.24508815178504\n",
      "Epoch 107, Loss: 0.2513644931622996, Train MAPE: 40.860141003131865, Test MAPE: 43.891902248676004\n",
      "Epoch 108, Loss: 0.24956106807176884, Train MAPE: 40.5156092441999, Test MAPE: 43.50457402742826\n",
      "Epoch 109, Loss: 0.24769594387796062, Train MAPE: 40.49755347875448, Test MAPE: 43.50407204261193\n",
      "Epoch 110, Loss: 0.24589048496877344, Train MAPE: 40.18814096084008, Test MAPE: 43.15136036506066\n",
      "Epoch 111, Loss: 0.24410791244859306, Train MAPE: 40.40644134924962, Test MAPE: 43.431483400785005\n",
      "Epoch 112, Loss: 0.2423814240269936, Train MAPE: 39.618858283299666, Test MAPE: 42.523249816894534\n",
      "Epoch 113, Loss: 0.24069325737296962, Train MAPE: 39.57783313531142, Test MAPE: 42.4914433992826\n",
      "Epoch 114, Loss: 0.23899269320715505, Train MAPE: 39.4578176681812, Test MAPE: 42.35968236189622\n",
      "Epoch 115, Loss: 0.23732548843925963, Train MAPE: 39.642306339740756, Test MAPE: 42.60381482931284\n",
      "Epoch 116, Loss: 0.23574065074252967, Train MAPE: 39.431102538108824, Test MAPE: 42.36800768191998\n",
      "Epoch 117, Loss: 0.23409165222770892, Train MAPE: 39.40745896467796, Test MAPE: 42.36497979530921\n",
      "Epoch 118, Loss: 0.23252398756762538, Train MAPE: 38.598959067234624, Test MAPE: 41.425498030735895\n",
      "Epoch 119, Loss: 0.23098675509771474, Train MAPE: 38.22817644155943, Test MAPE: 41.006312839801495\n",
      "Epoch 120, Loss: 0.2295676289197917, Train MAPE: 38.74843562749716, Test MAPE: 41.63535489302415\n",
      "Epoch 121, Loss: 0.22809368705090421, Train MAPE: 38.26763058075538, Test MAPE: 41.09108409881592\n",
      "Epoch 122, Loss: 0.22648431939216188, Train MAPE: 38.417552951666025, Test MAPE: 41.28461638964139\n",
      "Epoch 123, Loss: 0.22511468508925575, Train MAPE: 38.122918976270235, Test MAPE: 40.95755593226506\n",
      "Epoch 124, Loss: 0.2236385754488695, Train MAPE: 38.05811602610808, Test MAPE: 40.90132208604079\n",
      "Epoch 125, Loss: 0.22235553334108912, Train MAPE: 37.81522646042017, Test MAPE: 40.61985932863676\n",
      "Epoch 126, Loss: 0.22089263235505383, Train MAPE: 37.72800556512979, Test MAPE: 40.54147556011493\n",
      "Epoch 127, Loss: 0.2195383371749463, Train MAPE: 37.33721580505371, Test MAPE: 40.10050904934223\n",
      "Epoch 128, Loss: 0.21824170072348073, Train MAPE: 37.67990281948676, Test MAPE: 40.50517612603994\n",
      "Epoch 129, Loss: 0.21690283387971038, Train MAPE: 37.14478166928658, Test MAPE: 39.89949467732356\n",
      "Epoch 130, Loss: 0.21558844942886096, Train MAPE: 37.21232260649021, Test MAPE: 39.99142348949726\n",
      "Epoch 131, Loss: 0.21428700170766277, Train MAPE: 36.84492599597344, Test MAPE: 39.568438185178316\n",
      "Epoch 132, Loss: 0.21311523124145773, Train MAPE: 36.91379571327796, Test MAPE: 39.67421122330886\n",
      "Epoch 133, Loss: 0.21183042369353083, Train MAPE: 36.55766724164669, Test MAPE: 39.255608778733475\n",
      "Epoch 134, Loss: 0.21062514224591164, Train MAPE: 36.67684401182028, Test MAPE: 39.4173739873446\n",
      "Epoch 135, Loss: 0.20946598552310697, Train MAPE: 36.677635818261365, Test MAPE: 39.43193273544311\n",
      "Epoch 136, Loss: 0.20828120678734893, Train MAPE: 36.594793361883895, Test MAPE: 39.35644576732929\n",
      "Epoch 137, Loss: 0.20709828870872465, Train MAPE: 35.957659358244676, Test MAPE: 38.61738434571486\n",
      "Epoch 138, Loss: 0.20598496200803382, Train MAPE: 36.41246992074526, Test MAPE: 39.1587722998399\n",
      "Epoch 139, Loss: 0.20486215479098835, Train MAPE: 36.039292570260855, Test MAPE: 38.73045536921575\n",
      "Epoch 140, Loss: 0.2037098681160177, Train MAPE: 36.13127465798305, Test MAPE: 38.850470506227936\n",
      "Epoch 141, Loss: 0.20261900067114486, Train MAPE: 35.85534356190608, Test MAPE: 38.53475024149968\n",
      "Epoch 142, Loss: 0.201648336631031, Train MAPE: 35.97314304205088, Test MAPE: 38.683822954618016\n",
      "Epoch 143, Loss: 0.20043315823333194, Train MAPE: 35.61567176855527, Test MAPE: 38.27373604407677\n",
      "Epoch 144, Loss: 0.19939334026466196, Train MAPE: 35.80413321348337, Test MAPE: 38.50517283953153\n",
      "Epoch 145, Loss: 0.1983721661488884, Train MAPE: 35.510807597637175, Test MAPE: 38.17968630423913\n",
      "Epoch 146, Loss: 0.19733534408016848, Train MAPE: 35.22078328866225, Test MAPE: 37.83580937018761\n",
      "Epoch 147, Loss: 0.19637254419951486, Train MAPE: 35.16281257042518, Test MAPE: 37.78594631781945\n",
      "Epoch 148, Loss: 0.19531577891813448, Train MAPE: 35.35244446901174, Test MAPE: 38.01936889061561\n",
      "Epoch 149, Loss: 0.19434056157747714, Train MAPE: 34.84110900071951, Test MAPE: 37.426539098299465\n",
      "Epoch 150, Loss: 0.1933945087572703, Train MAPE: 34.929937792741335, Test MAPE: 37.54176056935237\n",
      "Epoch 151, Loss: 0.19245635023197302, Train MAPE: 35.08307938025548, Test MAPE: 37.73496919778677\n",
      "Epoch 152, Loss: 0.19148774030260168, Train MAPE: 34.692190344517044, Test MAPE: 37.280748220590446\n",
      "Epoch 153, Loss: 0.1905917516300598, Train MAPE: 34.78175928317584, Test MAPE: 37.39457292556763\n",
      "Epoch 154, Loss: 0.1896590854256199, Train MAPE: 34.24828851039593, Test MAPE: 36.77785436923687\n",
      "Epoch 155, Loss: 0.1888385384522665, Train MAPE: 34.48607538755123, Test MAPE: 37.065654747302716\n",
      "Epoch 156, Loss: 0.18783763971967765, Train MAPE: 34.66447199032857, Test MAPE: 37.289360508551965\n",
      "Epoch 157, Loss: 0.18701082374721478, Train MAPE: 34.04331903549341, Test MAPE: 36.560622706780066\n",
      "Epoch 158, Loss: 0.18614827082850613, Train MAPE: 34.325357951567725, Test MAPE: 36.903667882772595\n",
      "Epoch 159, Loss: 0.1852599416895268, Train MAPE: 34.009936859974495, Test MAPE: 36.53602688862727\n",
      "Epoch 160, Loss: 0.184443368200356, Train MAPE: 33.824401254837326, Test MAPE: 36.32905569076538\n",
      "Epoch 161, Loss: 0.1835877309553325, Train MAPE: 33.71926188835731, Test MAPE: 36.21468029022217\n",
      "Epoch 162, Loss: 0.18275928043115597, Train MAPE: 34.30825515068494, Test MAPE: 36.91675261717576\n",
      "Epoch 163, Loss: 0.18199491836130618, Train MAPE: 33.66956712007523, Test MAPE: 36.17738097264216\n",
      "Epoch 164, Loss: 0.18116191028832243, Train MAPE: 33.59217655200224, Test MAPE: 36.092993171398454\n",
      "Epoch 165, Loss: 0.18040318257497767, Train MAPE: 33.753462921656094, Test MAPE: 36.28928506557758\n",
      "Epoch 166, Loss: 0.17961059411307082, Train MAPE: 33.56317555170793, Test MAPE: 36.075743726583624\n",
      "Epoch 167, Loss: 0.1788638808298856, Train MAPE: 33.64694970937876, Test MAPE: 36.179476466545694\n",
      "Epoch 168, Loss: 0.1780754482678066, Train MAPE: 33.21291084289551, Test MAPE: 35.676552024254434\n",
      "Epoch 169, Loss: 0.17728804716697105, Train MAPE: 33.46817235488158, Test MAPE: 35.98185682296753\n",
      "Epoch 170, Loss: 0.17655332634368767, Train MAPE: 33.139184211767635, Test MAPE: 35.59824480643639\n",
      "Epoch 171, Loss: 0.17589760843592767, Train MAPE: 33.246776097554424, Test MAPE: 35.73686094284058\n",
      "Epoch 172, Loss: 0.17511728485114872, Train MAPE: 33.08925155217831, Test MAPE: 35.55782266029945\n",
      "Epoch 173, Loss: 0.17436459981478178, Train MAPE: 32.96971590427252, Test MAPE: 35.42645974526039\n",
      "Epoch 174, Loss: 0.17366381089489621, Train MAPE: 32.877137459241425, Test MAPE: 35.32198300728431\n",
      "Epoch 175, Loss: 0.17299501874412482, Train MAPE: 32.795683917632466, Test MAPE: 35.23481530409593\n",
      "Epoch 176, Loss: 0.17231662678890503, Train MAPE: 32.826101660728455, Test MAPE: 35.2754547559298\n",
      "Epoch 177, Loss: 0.17161483355224705, Train MAPE: 32.54018410077462, Test MAPE: 34.944344117091255\n",
      "Epoch 178, Loss: 0.17093091542975833, Train MAPE: 32.722857938363, Test MAPE: 35.167205909582286\n",
      "Epoch 179, Loss: 0.17024305559551486, Train MAPE: 32.66298520840132, Test MAPE: 35.10878190627465\n",
      "Epoch 180, Loss: 0.16958961978268164, Train MAPE: 32.69672329425812, Test MAPE: 35.15589764301593\n",
      "Epoch 181, Loss: 0.16898603176053326, Train MAPE: 32.586962566925926, Test MAPE: 35.02954378861647\n",
      "Epoch 182, Loss: 0.1682800437323749, Train MAPE: 32.51420082220665, Test MAPE: 34.94867329964271\n",
      "Epoch 183, Loss: 0.16763423287596266, Train MAPE: 32.65929482441682, Test MAPE: 35.12300090422997\n",
      "Epoch 184, Loss: 0.16704849028386748, Train MAPE: 32.32833969501348, Test MAPE: 34.750784276081966\n",
      "Epoch 185, Loss: 0.16640286159773285, Train MAPE: 31.94002063366083, Test MAPE: 34.29905141683725\n",
      "Epoch 186, Loss: 0.1658613066941213, Train MAPE: 32.102140487157385, Test MAPE: 34.49632160113408\n",
      "Epoch 187, Loss: 0.16520619458841304, Train MAPE: 32.1373026233453, Test MAPE: 34.53871140113244\n",
      "Epoch 188, Loss: 0.16457425293046982, Train MAPE: 32.020655070818385, Test MAPE: 34.41901362859286\n",
      "Epoch 189, Loss: 0.16400960305920587, Train MAPE: 31.72262077514942, Test MAPE: 34.07101945510277\n",
      "Epoch 190, Loss: 0.16337384286497791, Train MAPE: 32.06069846886855, Test MAPE: 34.47537423647367\n",
      "Epoch 191, Loss: 0.16279079805558117, Train MAPE: 32.043275912908406, Test MAPE: 34.46110779322111\n",
      "Epoch 192, Loss: 0.16222719194618268, Train MAPE: 31.635462916814365, Test MAPE: 33.98781343606802\n",
      "Epoch 193, Loss: 0.16169094703375148, Train MAPE: 31.451890540122985, Test MAPE: 33.774382396844715\n",
      "Epoch 194, Loss: 0.16113443510033765, Train MAPE: 31.395774869735423, Test MAPE: 33.71233322436993\n",
      "Epoch 195, Loss: 0.16054348569864837, Train MAPE: 31.3190850010285, Test MAPE: 33.638273301491374\n",
      "Epoch 196, Loss: 0.15999278387842844, Train MAPE: 31.434451255431544, Test MAPE: 33.77298460373512\n",
      "Epoch 197, Loss: 0.1594317652320919, Train MAPE: 31.166843787523415, Test MAPE: 33.46616192230812\n",
      "Epoch 198, Loss: 0.1588884672526127, Train MAPE: 31.01215298634309, Test MAPE: 33.29012045860291\n",
      "Epoch 199, Loss: 0.15836094501786507, Train MAPE: 31.367339307528276, Test MAPE: 33.716537006084735\n",
      "Epoch 200, Loss: 0.15785142860303705, Train MAPE: 31.23437780692027, Test MAPE: 33.56824000798739\n",
      "Epoch 201, Loss: 0.157347629000791, Train MAPE: 31.03291359406251, Test MAPE: 33.33889709986173\n",
      "Epoch 202, Loss: 0.1567641749798965, Train MAPE: 30.74405770760316, Test MAPE: 32.99971470832825\n",
      "Epoch 203, Loss: 0.1564193497161166, Train MAPE: 31.206660002928515, Test MAPE: 33.54898610115051\n",
      "Epoch 204, Loss: 0.15575788764175602, Train MAPE: 31.23077775790141, Test MAPE: 33.58439082732568\n",
      "Epoch 205, Loss: 0.15528437856119126, Train MAPE: 30.88693530192742, Test MAPE: 33.18915727688716\n",
      "Epoch 206, Loss: 0.15478025303007317, Train MAPE: 30.872925966519574, Test MAPE: 33.18019375434289\n",
      "Epoch 207, Loss: 0.15429635496469787, Train MAPE: 30.82565707060007, Test MAPE: 33.134807583001944\n",
      "Epoch 208, Loss: 0.15382925285957755, Train MAPE: 30.707459071049325, Test MAPE: 32.99950056809645\n",
      "Epoch 209, Loss: 0.15330826458162986, Train MAPE: 30.962972402572632, Test MAPE: 33.30373275463398\n",
      "Epoch 210, Loss: 0.15282398922583804, Train MAPE: 30.579358515372643, Test MAPE: 32.8546486047598\n",
      "Epoch 211, Loss: 0.15235532763987206, Train MAPE: 30.41808384198409, Test MAPE: 32.670232505064746\n",
      "Epoch 212, Loss: 0.1518769815725346, Train MAPE: 30.419454671786383, Test MAPE: 32.68042268019456\n",
      "Epoch 213, Loss: 0.15143230084079104, Train MAPE: 30.530023190608393, Test MAPE: 32.815523628088144\n",
      "Epoch 214, Loss: 0.1509767778020782, Train MAPE: 30.41931392779717, Test MAPE: 32.693386558385995\n",
      "Epoch 215, Loss: 0.15053113881283656, Train MAPE: 30.4501500413968, Test MAPE: 32.73264506413386\n",
      "Epoch 216, Loss: 0.15006699615802901, Train MAPE: 30.234767686403714, Test MAPE: 32.487076950073245\n",
      "Epoch 217, Loss: 0.14960775379664623, Train MAPE: 30.315353751182556, Test MAPE: 32.583087044495805\n",
      "Epoch 218, Loss: 0.14918581631500274, Train MAPE: 30.354662811756135, Test MAPE: 32.63352471498342\n",
      "Epoch 219, Loss: 0.1487527443490063, Train MAPE: 30.29723358979592, Test MAPE: 32.573920521369345\n",
      "Epoch 220, Loss: 0.14827546247173673, Train MAPE: 29.931960756962116, Test MAPE: 32.15196721370403\n",
      "Epoch 221, Loss: 0.147867147753445, Train MAPE: 29.920867347717284, Test MAPE: 32.1443412230565\n",
      "Epoch 222, Loss: 0.1474596686123942, Train MAPE: 30.096084923927602, Test MAPE: 32.35051621657151\n",
      "Epoch 223, Loss: 0.14702299998786586, Train MAPE: 30.045500586583064, Test MAPE: 32.29739089012146\n",
      "Epoch 224, Loss: 0.14664869901115218, Train MAPE: 29.8345870751601, Test MAPE: 32.05760806890635\n",
      "Epoch 225, Loss: 0.14616498950725565, Train MAPE: 29.979222811185398, Test MAPE: 32.23581762313843\n",
      "Epoch 226, Loss: 0.1457889607301555, Train MAPE: 29.875737080207237, Test MAPE: 32.116109756323006\n",
      "Epoch 227, Loss: 0.14536250115264782, Train MAPE: 29.98067642725431, Test MAPE: 32.248465211574846\n",
      "Epoch 228, Loss: 0.14495052290507235, Train MAPE: 29.649150770444137, Test MAPE: 31.862242045769325\n",
      "Epoch 229, Loss: 0.14459737956237334, Train MAPE: 29.753648746930637, Test MAPE: 31.989645451765796\n",
      "Epoch 230, Loss: 0.14417399330637776, Train MAPE: 29.74555030419276, Test MAPE: 31.986851827914897\n",
      "Epoch 231, Loss: 0.14379147381808322, Train MAPE: 29.693387092076815, Test MAPE: 31.92738585472107\n",
      "Epoch 232, Loss: 0.14342660267765706, Train MAPE: 29.702066098726714, Test MAPE: 31.94358623944796\n",
      "Epoch 233, Loss: 0.14298751955636993, Train MAPE: 29.29726244486295, Test MAPE: 31.475268066846407\n",
      "Epoch 234, Loss: 0.14263849822768512, Train MAPE: 29.386470869871285, Test MAPE: 31.577470761079056\n",
      "Epoch 235, Loss: 0.14225807604379953, Train MAPE: 29.421863986895634, Test MAPE: 31.632838792067307\n",
      "Epoch 236, Loss: 0.14189484351529524, Train MAPE: 29.32486110650576, Test MAPE: 31.52113396204435\n",
      "Epoch 237, Loss: 0.14151513174606056, Train MAPE: 29.460039755931266, Test MAPE: 31.6839649273799\n",
      "Epoch 238, Loss: 0.14113112416369125, Train MAPE: 29.444245006487918, Test MAPE: 31.67036271095276\n",
      "Epoch 239, Loss: 0.14083357971663085, Train MAPE: 29.120690221052904, Test MAPE: 31.296543102998\n",
      "Epoch 240, Loss: 0.14038580380953275, Train MAPE: 29.1050356223033, Test MAPE: 31.28580299157363\n",
      "Epoch 241, Loss: 0.14004727524991792, Train MAPE: 29.22137901232793, Test MAPE: 31.43025823373061\n",
      "Epoch 242, Loss: 0.1396815173059272, Train MAPE: 29.28540366612948, Test MAPE: 31.505204607890203\n",
      "Epoch 243, Loss: 0.13935769613509855, Train MAPE: 29.073636753742512, Test MAPE: 31.25924837405865\n",
      "Epoch 244, Loss: 0.1389820909772355, Train MAPE: 28.966788401053503, Test MAPE: 31.13941070116483\n",
      "Epoch 245, Loss: 0.13865405823319005, Train MAPE: 28.924813395280104, Test MAPE: 31.094023774220393\n",
      "Epoch 246, Loss: 0.13832485248657087, Train MAPE: 29.1174457852657, Test MAPE: 31.32782168021569\n",
      "Epoch 247, Loss: 0.13799952301017654, Train MAPE: 28.94328301503108, Test MAPE: 31.128472551932703\n",
      "Epoch 248, Loss: 0.13761848295286586, Train MAPE: 28.96300556201201, Test MAPE: 31.157009429198045\n",
      "Epoch 249, Loss: 0.13729613811816446, Train MAPE: 28.900245022773742, Test MAPE: 31.08831244615408\n",
      "Epoch 250, Loss: 0.13695976740071694, Train MAPE: 28.934979217786054, Test MAPE: 31.13803551747249\n",
      "Epoch 251, Loss: 0.1366041310597211, Train MAPE: 28.650586450099944, Test MAPE: 30.801920223236085\n",
      "Epoch 252, Loss: 0.13628691967863302, Train MAPE: 28.848051330676444, Test MAPE: 31.040083224956806\n",
      "Epoch 253, Loss: 0.13599497985381345, Train MAPE: 28.723720892576072, Test MAPE: 30.899284659899198\n",
      "Epoch 254, Loss: 0.13564830539174952, Train MAPE: 28.859618800420026, Test MAPE: 31.06569202863253\n",
      "Epoch 255, Loss: 0.13534686574891497, Train MAPE: 28.598662988956157, Test MAPE: 30.761237419568577\n",
      "Epoch 256, Loss: 0.13499475273017128, Train MAPE: 28.81663506948031, Test MAPE: 31.02680583366981\n",
      "Epoch 257, Loss: 0.13472833235103351, Train MAPE: 28.568491950401892, Test MAPE: 30.735972430155826\n",
      "Epoch 258, Loss: 0.13441808437212155, Train MAPE: 28.27491705784431, Test MAPE: 30.39052811035743\n",
      "Epoch 259, Loss: 0.1341746880690782, Train MAPE: 28.354123154970317, Test MAPE: 30.4928259739509\n",
      "Epoch 260, Loss: 0.13377306416738205, Train MAPE: 28.366846159788278, Test MAPE: 30.512057671180138\n",
      "Epoch 261, Loss: 0.13348039890138003, Train MAPE: 28.45823279619217, Test MAPE: 30.62684842256399\n",
      "Epoch 262, Loss: 0.13313488455560918, Train MAPE: 28.55714450432704, Test MAPE: 30.747220039367676\n",
      "Epoch 263, Loss: 0.13288258889403481, Train MAPE: 28.417582440376282, Test MAPE: 30.586431411596443\n",
      "Epoch 264, Loss: 0.1325747594380608, Train MAPE: 28.20795300923861, Test MAPE: 30.342109735195454\n",
      "Epoch 265, Loss: 0.1323055939605603, Train MAPE: 28.27920112518164, Test MAPE: 30.434695265843317\n",
      "Epoch 266, Loss: 0.13199510041337748, Train MAPE: 28.22533786205145, Test MAPE: 30.374105922992413\n",
      "Epoch 267, Loss: 0.13170071069616823, Train MAPE: 28.159932640882637, Test MAPE: 30.30073078595675\n",
      "Epoch 268, Loss: 0.13142254705039355, Train MAPE: 28.084915228990408, Test MAPE: 30.218012277896587\n",
      "Epoch 269, Loss: 0.13114338539218387, Train MAPE: 28.144292424275324, Test MAPE: 30.29478988647461\n",
      "Epoch 270, Loss: 0.13083779832813888, Train MAPE: 28.126040561382588, Test MAPE: 30.279648901866032\n",
      "Epoch 271, Loss: 0.13056660344322712, Train MAPE: 28.237284939105695, Test MAPE: 30.418416481751663\n",
      "Epoch 272, Loss: 0.13028753033767526, Train MAPE: 28.069024157524108, Test MAPE: 30.218716687422532\n",
      "Epoch 273, Loss: 0.13001116356955697, Train MAPE: 27.962695491313934, Test MAPE: 30.095895279370822\n",
      "Epoch 274, Loss: 0.12974223433993756, Train MAPE: 27.84072683774508, Test MAPE: 29.95650416154128\n",
      "Epoch 275, Loss: 0.12946850807011986, Train MAPE: 27.82155213906215, Test MAPE: 29.93851529634916\n",
      "Epoch 276, Loss: 0.12918586499559193, Train MAPE: 28.139311327384068, Test MAPE: 30.32679807956402\n",
      "Epoch 277, Loss: 0.12893671162713033, Train MAPE: 27.805799903319432, Test MAPE: 29.932124658731315\n",
      "Epoch 278, Loss: 0.1286697183055087, Train MAPE: 27.87787462381216, Test MAPE: 30.023466414671677\n",
      "Epoch 279, Loss: 0.12839297400966573, Train MAPE: 27.707283495939695, Test MAPE: 29.82321084829477\n",
      "Epoch 280, Loss: 0.12812971661332995, Train MAPE: 27.756004489385166, Test MAPE: 29.89045140193059\n",
      "Epoch 281, Loss: 0.12789692777352266, Train MAPE: 27.79691862143003, Test MAPE: 29.940908648417548\n",
      "Epoch 282, Loss: 0.12765391337183807, Train MAPE: 27.752515571850996, Test MAPE: 29.89570776499235\n",
      "Epoch 283, Loss: 0.12734165376123902, Train MAPE: 27.41630937044437, Test MAPE: 29.4934601526994\n",
      "Epoch 284, Loss: 0.12711279422510416, Train MAPE: 27.627658680769112, Test MAPE: 29.752992116487942\n",
      "Epoch 285, Loss: 0.1268543365304, Train MAPE: 27.677914470892688, Test MAPE: 29.822472854760978\n",
      "Epoch 286, Loss: 0.12656642731565695, Train MAPE: 27.34938646554947, Test MAPE: 29.427190494537353\n",
      "Epoch 287, Loss: 0.12638040970957193, Train MAPE: 27.711280725552484, Test MAPE: 29.87273341325613\n",
      "Epoch 288, Loss: 0.12610119524626778, Train MAPE: 27.761703813993012, Test MAPE: 29.941417477681085\n",
      "Epoch 289, Loss: 0.12585988407238172, Train MAPE: 27.491110577033115, Test MAPE: 29.615020865660448\n",
      "Epoch 290, Loss: 0.12558566044586209, Train MAPE: 27.374671190518598, Test MAPE: 29.47855909054096\n",
      "Epoch 291, Loss: 0.12536857023906822, Train MAPE: 27.43717552423477, Test MAPE: 29.56118571941669\n",
      "Epoch 292, Loss: 0.12511090457600613, Train MAPE: 27.50838287793673, Test MAPE: 29.656044259438147\n",
      "Epoch 293, Loss: 0.12488572764246222, Train MAPE: 27.243205867363855, Test MAPE: 29.344278071476865\n",
      "Epoch 294, Loss: 0.1246578054377236, Train MAPE: 27.340654004537143, Test MAPE: 29.463254946928757\n",
      "Epoch 295, Loss: 0.12440898971667944, Train MAPE: 27.545685075796566, Test MAPE: 29.71839451789856\n",
      "Epoch 296, Loss: 0.12417749397528287, Train MAPE: 27.3340161892084, Test MAPE: 29.461270200289214\n",
      "Epoch 297, Loss: 0.12400141990062996, Train MAPE: 27.296143802312706, Test MAPE: 29.418336079670834\n",
      "Epoch 298, Loss: 0.1237432504287706, Train MAPE: 27.115786190216358, Test MAPE: 29.207331749109123\n",
      "Epoch 299, Loss: 0.12344147907211804, Train MAPE: 26.95913803577423, Test MAPE: 29.022316730939426\n",
      "Epoch 300, Loss: 0.12327351687440219, Train MAPE: 27.206000306973092, Test MAPE: 29.328046758358294\n",
      "Epoch 301, Loss: 0.12303724981522045, Train MAPE: 27.15143781900406, Test MAPE: 29.266391526735745\n",
      "Epoch 302, Loss: 0.12278055873198004, Train MAPE: 27.250908182217525, Test MAPE: 29.390352792006272\n",
      "Epoch 303, Loss: 0.12262379804518647, Train MAPE: 27.060475066991952, Test MAPE: 29.165151614409226\n",
      "Epoch 304, Loss: 0.12237075511187029, Train MAPE: 27.133438608279594, Test MAPE: 29.262655272850623\n",
      "Epoch 305, Loss: 0.12215321637833347, Train MAPE: 27.111837009283214, Test MAPE: 29.237986003435577\n",
      "Epoch 306, Loss: 0.12192760406850049, Train MAPE: 26.936133488324973, Test MAPE: 29.025399409807644\n",
      "Epoch 307, Loss: 0.12169241934405783, Train MAPE: 26.865598468597117, Test MAPE: 28.94898436986483\n",
      "Epoch 308, Loss: 0.12150047014180858, Train MAPE: 26.90966723882235, Test MAPE: 29.00900421509376\n",
      "Epoch 309, Loss: 0.12126255918365832, Train MAPE: 27.020606432511258, Test MAPE: 29.146357587667612\n",
      "Epoch 310, Loss: 0.12106795612400255, Train MAPE: 26.815370847628667, Test MAPE: 28.90025973686805\n",
      "Epoch 311, Loss: 0.12086791809504994, Train MAPE: 26.790825450420378, Test MAPE: 28.877478236418504\n",
      "Epoch 312, Loss: 0.12060683033823107, Train MAPE: 27.14096939105254, Test MAPE: 29.303651413550742\n",
      "Epoch 313, Loss: 0.12044655465735839, Train MAPE: 26.779647680429314, Test MAPE: 28.87592264322134\n",
      "Epoch 314, Loss: 0.12024831042195169, Train MAPE: 26.731991498286906, Test MAPE: 28.822623722369855\n",
      "Epoch 315, Loss: 0.12002628840183696, Train MAPE: 26.748117859546955, Test MAPE: 28.845816373825073\n",
      "Epoch 316, Loss: 0.11982267438792266, Train MAPE: 26.707741034030914, Test MAPE: 28.79951953154344\n",
      "Epoch 317, Loss: 0.11959398789689518, Train MAPE: 26.817638786939476, Test MAPE: 28.93738631468553\n",
      "Epoch 318, Loss: 0.11944353056874556, Train MAPE: 26.660255226722132, Test MAPE: 28.75024958023658\n",
      "Epoch 319, Loss: 0.11921025430425429, Train MAPE: 26.76562452499683, Test MAPE: 28.88344202041626\n",
      "Epoch 320, Loss: 0.11901136764253561, Train MAPE: 26.755437883963953, Test MAPE: 28.87583426328806\n",
      "Epoch 321, Loss: 0.11882736110486664, Train MAPE: 26.591245864904845, Test MAPE: 28.67799017612751\n",
      "Epoch 322, Loss: 0.11862640515722048, Train MAPE: 26.649495712610392, Test MAPE: 28.749812801067645\n",
      "Epoch 323, Loss: 0.11847088075636958, Train MAPE: 26.436819892663223, Test MAPE: 28.499953743127676\n",
      "Epoch 324, Loss: 0.11822039201461639, Train MAPE: 26.665722327965955, Test MAPE: 28.784738991810727\n",
      "Epoch 325, Loss: 0.11805063229806434, Train MAPE: 26.47617264344142, Test MAPE: 28.560153348629292\n",
      "Epoch 326, Loss: 0.11784260058059143, Train MAPE: 26.320180201530455, Test MAPE: 28.36772626363314\n",
      "Epoch 327, Loss: 0.11763691814759603, Train MAPE: 26.52271134211467, Test MAPE: 28.622424844595102\n",
      "Epoch 328, Loss: 0.11746709213162271, Train MAPE: 26.416971588134764, Test MAPE: 28.498830641233003\n",
      "Epoch 329, Loss: 0.1172589358730385, Train MAPE: 26.70326037131823, Test MAPE: 28.852406787872315\n",
      "Epoch 330, Loss: 0.11708949214348999, Train MAPE: 26.37203482939647, Test MAPE: 28.447736663084765\n",
      "Epoch 331, Loss: 0.1169274730554137, Train MAPE: 26.334987813692827, Test MAPE: 28.411123587534977\n",
      "Epoch 332, Loss: 0.11673162851769191, Train MAPE: 26.632526926810925, Test MAPE: 28.77674802633432\n",
      "Epoch 333, Loss: 0.11654089144431054, Train MAPE: 26.316283412163074, Test MAPE: 28.39475200726436\n",
      "Epoch 334, Loss: 0.11642742046298316, Train MAPE: 26.290712207097272, Test MAPE: 28.37269973388085\n",
      "Epoch 335, Loss: 0.11617088415839065, Train MAPE: 26.375962725969462, Test MAPE: 28.479261134221005\n",
      "Epoch 336, Loss: 0.11599566723721531, Train MAPE: 26.315774138157185, Test MAPE: 28.395347338456375\n",
      "Epoch 337, Loss: 0.11578831604252068, Train MAPE: 26.203456410994896, Test MAPE: 28.27583353336041\n",
      "Epoch 338, Loss: 0.11560726958828477, Train MAPE: 26.331041508454543, Test MAPE: 28.439069729584915\n",
      "Epoch 339, Loss: 0.11544413268745232, Train MAPE: 26.327240616541644, Test MAPE: 28.43817002223088\n",
      "Epoch 340, Loss: 0.11527286159017912, Train MAPE: 26.18185816544753, Test MAPE: 28.263641592172476\n",
      "Epoch 341, Loss: 0.11508025962931033, Train MAPE: 25.84341522822013, Test MAPE: 27.846590739030106\n",
      "Epoch 342, Loss: 0.11490977847268088, Train MAPE: 26.288587809526003, Test MAPE: 28.39686618951651\n",
      "Epoch 343, Loss: 0.11474120614942736, Train MAPE: 26.096914705863366, Test MAPE: 28.172672612850484\n",
      "Epoch 344, Loss: 0.11458768570312083, Train MAPE: 26.227868622999924, Test MAPE: 28.333515482682447\n",
      "Epoch 345, Loss: 0.11442047082102642, Train MAPE: 26.12496862594898, Test MAPE: 28.212912819935724\n",
      "Epoch 346, Loss: 0.11424996137010077, Train MAPE: 26.16391187264369, Test MAPE: 28.269982286599966\n",
      "Epoch 347, Loss: 0.11411780823344508, Train MAPE: 26.021894587003267, Test MAPE: 28.097332928730893\n",
      "Epoch 348, Loss: 0.11389769644727214, Train MAPE: 26.07750798830619, Test MAPE: 28.166571477743297\n",
      "Epoch 349, Loss: 0.11374133712827013, Train MAPE: 25.98678290752264, Test MAPE: 28.066171275652373\n",
      "Epoch 350, Loss: 0.11357474352340573, Train MAPE: 25.952524307140937, Test MAPE: 28.02304694102361\n",
      "Epoch 351, Loss: 0.11338502210744011, Train MAPE: 25.68614097558535, Test MAPE: 27.694183217562163\n",
      "Epoch 352, Loss: 0.1132700085801144, Train MAPE: 25.948281255135168, Test MAPE: 28.031478940523588\n",
      "Epoch 353, Loss: 0.11307766009659435, Train MAPE: 25.887925008627086, Test MAPE: 27.960941688831035\n",
      "Epoch 354, Loss: 0.11292280812676136, Train MAPE: 25.92833211513666, Test MAPE: 28.015652601535503\n",
      "Epoch 355, Loss: 0.11275265862484678, Train MAPE: 25.776159965991972, Test MAPE: 27.828886600641106\n",
      "Epoch 356, Loss: 0.11259581733566637, Train MAPE: 25.910028166954334, Test MAPE: 28.001464913441584\n",
      "Epoch 357, Loss: 0.11243640308698209, Train MAPE: 25.72233920464149, Test MAPE: 27.77524607731746\n",
      "Epoch 358, Loss: 0.11227551359110154, Train MAPE: 25.859185857039233, Test MAPE: 27.947343873977662\n",
      "Epoch 359, Loss: 0.1121068702580837, Train MAPE: 25.68137791248468, Test MAPE: 27.728625378241905\n",
      "Epoch 360, Loss: 0.11195963498097486, Train MAPE: 25.69278760598256, Test MAPE: 27.750205560830924\n",
      "Epoch 361, Loss: 0.1118000341561408, Train MAPE: 25.886005202623515, Test MAPE: 27.991984253663283\n",
      "Epoch 362, Loss: 0.11164774488872634, Train MAPE: 25.725762723042415, Test MAPE: 27.798920774459837\n",
      "Epoch 363, Loss: 0.11148921469799601, Train MAPE: 25.799172422519096, Test MAPE: 27.89532288771409\n",
      "Epoch 364, Loss: 0.11136379959240843, Train MAPE: 25.69081214482968, Test MAPE: 27.76751079559326\n",
      "Epoch 365, Loss: 0.11117112251858298, Train MAPE: 25.56097148014949, Test MAPE: 27.605823762600238\n",
      "Epoch 366, Loss: 0.11104286824030658, Train MAPE: 25.603874158859252, Test MAPE: 27.666151211811947\n",
      "Epoch 367, Loss: 0.11087446002683674, Train MAPE: 25.467348438959856, Test MAPE: 27.504033767260037\n",
      "Epoch 368, Loss: 0.11073784242527417, Train MAPE: 25.547526990450347, Test MAPE: 27.609340139535757\n",
      "Epoch 369, Loss: 0.11058111327180925, Train MAPE: 25.665228659373064, Test MAPE: 27.75638093948364\n",
      "Epoch 370, Loss: 0.11042834551503453, Train MAPE: 25.545035209105563, Test MAPE: 27.610814872154823\n",
      "Epoch 371, Loss: 0.11028350041462825, Train MAPE: 25.46690678504797, Test MAPE: 27.51716251373291\n",
      "Epoch 372, Loss: 0.11015181194346112, Train MAPE: 25.518487912874956, Test MAPE: 27.588546829957227\n",
      "Epoch 373, Loss: 0.10997773837298155, Train MAPE: 25.62423897248048, Test MAPE: 27.721584265048687\n",
      "Epoch 374, Loss: 0.10986128978681965, Train MAPE: 25.594743933127475, Test MAPE: 27.689057386838474\n",
      "Epoch 375, Loss: 0.10970751876190592, Train MAPE: 25.36400141440905, Test MAPE: 27.404486304063063\n",
      "Epoch 376, Loss: 0.10954395959225412, Train MAPE: 25.559286023103272, Test MAPE: 27.650294043467596\n",
      "Epoch 377, Loss: 0.10938755541036908, Train MAPE: 25.47321986601903, Test MAPE: 27.550181143100446\n",
      "Epoch 378, Loss: 0.10926034589692091, Train MAPE: 25.4224433357899, Test MAPE: 27.489217314353358\n",
      "Epoch 379, Loss: 0.109110084340836, Train MAPE: 25.502913707953233, Test MAPE: 27.591692627393282\n",
      "Epoch 380, Loss: 0.10900971537921578, Train MAPE: 25.363228106498717, Test MAPE: 27.42231188920828\n",
      "Epoch 381, Loss: 0.10886475583717514, Train MAPE: 25.445987902237817, Test MAPE: 27.529822595302875\n",
      "Epoch 382, Loss: 0.10869571091607214, Train MAPE: 25.355085205114804, Test MAPE: 27.420891978190497\n",
      "Epoch 383, Loss: 0.10859059774173567, Train MAPE: 25.423926797279943, Test MAPE: 27.5068270609929\n",
      "Epoch 384, Loss: 0.10845128405445184, Train MAPE: 25.304052367577185, Test MAPE: 27.363420801896314\n",
      "Epoch 385, Loss: 0.10829026512622547, Train MAPE: 25.158608243098627, Test MAPE: 27.19107001744784\n",
      "Epoch 386, Loss: 0.1081683092025252, Train MAPE: 25.414637126372412, Test MAPE: 27.51178076817439\n",
      "Epoch 387, Loss: 0.10801435880219708, Train MAPE: 25.383222046265235, Test MAPE: 27.474480291513295\n",
      "Epoch 388, Loss: 0.10788703705184162, Train MAPE: 25.344579747089973, Test MAPE: 27.43660474190345\n",
      "Epoch 389, Loss: 0.10773700560944585, Train MAPE: 25.188879423875076, Test MAPE: 27.239984681056097\n",
      "Epoch 390, Loss: 0.10757391811527599, Train MAPE: 25.485054998214427, Test MAPE: 27.611171117195717\n",
      "Epoch 391, Loss: 0.10749535205093427, Train MAPE: 25.334776789408465, Test MAPE: 27.433542992518497\n",
      "Epoch 392, Loss: 0.10732242521077681, Train MAPE: 25.065639456418843, Test MAPE: 27.10467430628263\n",
      "Epoch 393, Loss: 0.1072525400435552, Train MAPE: 25.18919697174659, Test MAPE: 27.25712029383733\n",
      "Epoch 394, Loss: 0.10708083277747321, Train MAPE: 25.121164465867555, Test MAPE: 27.181128821006187\n",
      "Epoch 395, Loss: 0.10696332497128214, Train MAPE: 25.203133299717535, Test MAPE: 27.28503843821012\n",
      "Epoch 396, Loss: 0.10681828260779953, Train MAPE: 25.119056201898136, Test MAPE: 27.18799773362967\n",
      "Epoch 397, Loss: 0.10669464562446453, Train MAPE: 25.19660804638496, Test MAPE: 27.28701662650475\n",
      "Epoch 398, Loss: 0.10656862742124269, Train MAPE: 25.20368488568526, Test MAPE: 27.30028850848858\n",
      "Epoch 399, Loss: 0.10643148394480634, Train MAPE: 24.87807311920019, Test MAPE: 26.90173416871291\n",
      "Epoch 400, Loss: 0.10633974938402668, Train MAPE: 25.0744257743542, Test MAPE: 27.145029794252835\n",
      "Epoch 401, Loss: 0.10619460261211945, Train MAPE: 25.01614919075599, Test MAPE: 27.075587305655848\n",
      "Epoch 402, Loss: 0.10606075717100444, Train MAPE: 24.97965995531816, Test MAPE: 27.036993547586295\n",
      "Epoch 403, Loss: 0.10595882659903369, Train MAPE: 24.951786847297964, Test MAPE: 27.00869824702923\n",
      "Epoch 404, Loss: 0.10581415679771453, Train MAPE: 25.011836288525508, Test MAPE: 27.08656788972708\n",
      "Epoch 405, Loss: 0.10568702555297373, Train MAPE: 25.072093549141517, Test MAPE: 27.165653096712553\n",
      "Epoch 406, Loss: 0.10556752283233577, Train MAPE: 24.97136373428198, Test MAPE: 27.043264040580162\n",
      "Epoch 407, Loss: 0.1054472156155568, Train MAPE: 24.75339254966149, Test MAPE: 26.775453164027287\n",
      "Epoch 408, Loss: 0.10531222369486036, Train MAPE: 25.079903304576874, Test MAPE: 27.18566930110638\n",
      "Epoch 409, Loss: 0.10519555925319975, Train MAPE: 24.82343643261836, Test MAPE: 26.866292572021486\n",
      "Epoch 410, Loss: 0.10511780652181747, Train MAPE: 24.88768940797219, Test MAPE: 26.954300561318032\n",
      "Epoch 411, Loss: 0.10495326023799582, Train MAPE: 24.951822265294883, Test MAPE: 27.036772196109478\n",
      "Epoch 412, Loss: 0.10485016290958112, Train MAPE: 24.85143486903264, Test MAPE: 26.917491428668683\n",
      "Epoch 413, Loss: 0.10472999870096548, Train MAPE: 24.967308641397036, Test MAPE: 27.06482732112591\n",
      "Epoch 414, Loss: 0.10460768239930845, Train MAPE: 24.977285386965825, Test MAPE: 27.08169463964609\n",
      "Epoch 415, Loss: 0.10446128886407957, Train MAPE: 24.600952161275423, Test MAPE: 26.61657857161302\n",
      "Epoch 416, Loss: 0.10437262234492944, Train MAPE: 24.867047617068657, Test MAPE: 26.946481880774865\n",
      "Epoch 417, Loss: 0.10424670295951029, Train MAPE: 24.640191155213575, Test MAPE: 26.671500598467315\n",
      "Epoch 418, Loss: 0.10413915771596993, Train MAPE: 24.77654839203908, Test MAPE: 26.84119480940012\n",
      "Epoch 419, Loss: 0.10402644952544227, Train MAPE: 24.78649200109335, Test MAPE: 26.861452473126924\n",
      "Epoch 420, Loss: 0.1039041304262355, Train MAPE: 24.6948553947302, Test MAPE: 26.75040973516611\n",
      "Epoch 421, Loss: 0.10379880677657918, Train MAPE: 24.62992330606167, Test MAPE: 26.674951182878935\n",
      "Epoch 422, Loss: 0.10366428981785877, Train MAPE: 24.686400692279523, Test MAPE: 26.746558816616353\n",
      "Epoch 423, Loss: 0.1035888358216303, Train MAPE: 24.693134646232313, Test MAPE: 26.75321010076083\n",
      "Epoch 424, Loss: 0.10344916012030668, Train MAPE: 24.67968022089738, Test MAPE: 26.74534451044523\n",
      "Epoch 425, Loss: 0.10333666275076281, Train MAPE: 24.69047472843757, Test MAPE: 26.764914233867938\n",
      "Epoch 426, Loss: 0.10319853134524937, Train MAPE: 24.81640991797814, Test MAPE: 26.9202440738678\n",
      "Epoch 427, Loss: 0.10310590207182731, Train MAPE: 24.753527871462015, Test MAPE: 26.84386765406682\n",
      "Epoch 428, Loss: 0.10299430945529961, Train MAPE: 24.632379657488602, Test MAPE: 26.704691377052892\n",
      "Epoch 429, Loss: 0.10288749563758476, Train MAPE: 24.51841006095593, Test MAPE: 26.563434355075543\n",
      "Epoch 430, Loss: 0.10276642664192388, Train MAPE: 24.651306975804843, Test MAPE: 26.73275152719938\n",
      "Epoch 431, Loss: 0.10264481384790718, Train MAPE: 24.39519216464116, Test MAPE: 26.417939332815315\n",
      "Epoch 432, Loss: 0.10258142670903068, Train MAPE: 24.536094748973845, Test MAPE: 26.59590654373169\n",
      "Epoch 433, Loss: 0.10244197128877904, Train MAPE: 24.511385420652537, Test MAPE: 26.57035421224741\n",
      "Epoch 434, Loss: 0.10232737246506776, Train MAPE: 24.55288914350363, Test MAPE: 26.620427736869225\n",
      "Epoch 435, Loss: 0.10222565396509778, Train MAPE: 24.45163552944477, Test MAPE: 26.50254912009606\n",
      "Epoch 436, Loss: 0.10210200746794446, Train MAPE: 24.532487492377943, Test MAPE: 26.603445566617527\n",
      "Epoch 437, Loss: 0.10201824359380855, Train MAPE: 24.49316436785918, Test MAPE: 26.56195577107943\n",
      "Epoch 438, Loss: 0.1019086378447425, Train MAPE: 24.48542909530493, Test MAPE: 26.55606663777278\n",
      "Epoch 439, Loss: 0.10178341480294385, Train MAPE: 24.45249463686576, Test MAPE: 26.52120821292584\n",
      "Epoch 440, Loss: 0.10170582072952619, Train MAPE: 24.349645404632273, Test MAPE: 26.39498880092914\n",
      "Epoch 441, Loss: 0.10157362393533381, Train MAPE: 24.416259843569534, Test MAPE: 26.481836773799017\n",
      "Epoch 442, Loss: 0.10151232936276267, Train MAPE: 24.313579695041362, Test MAPE: 26.357916120382455\n",
      "Epoch 443, Loss: 0.10145835803929143, Train MAPE: 24.350626171552218, Test MAPE: 26.405655413407544\n",
      "Epoch 444, Loss: 0.10125727666219553, Train MAPE: 24.23701847058076, Test MAPE: 26.265725487929124\n",
      "Epoch 445, Loss: 0.10116100540527931, Train MAPE: 24.403810950425957, Test MAPE: 26.474981608757606\n",
      "Epoch 446, Loss: 0.10105676275427239, Train MAPE: 24.27361344099045, Test MAPE: 26.323366491611186\n",
      "Epoch 447, Loss: 0.10093759804104384, Train MAPE: 24.511808563195743, Test MAPE: 26.616125205846934\n",
      "Epoch 448, Loss: 0.10085710061964794, Train MAPE: 24.217287876972787, Test MAPE: 26.25860057610732\n",
      "Epoch 449, Loss: 0.10076592733832793, Train MAPE: 24.37442493897218, Test MAPE: 26.454593401688797\n",
      "Epoch 450, Loss: 0.10064452479844196, Train MAPE: 24.263516760789432, Test MAPE: 26.320090535970834\n",
      "Epoch 451, Loss: 0.10056203784815107, Train MAPE: 24.25123379322199, Test MAPE: 26.31260771017808\n",
      "Epoch 452, Loss: 0.10044596251727153, Train MAPE: 24.170300760635964, Test MAPE: 26.212572310521054\n",
      "Epoch 453, Loss: 0.10035465351807384, Train MAPE: 24.210772708287607, Test MAPE: 26.26743099506085\n",
      "Epoch 454, Loss: 0.10028688095223445, Train MAPE: 24.142101455651797, Test MAPE: 26.188494953742396\n",
      "Epoch 455, Loss: 0.10015331767499447, Train MAPE: 24.15920244730436, Test MAPE: 26.21135670221769\n",
      "Epoch 456, Loss: 0.10004539431180232, Train MAPE: 24.363251319298378, Test MAPE: 26.463086880170383\n",
      "Epoch 457, Loss: 0.09995029232858751, Train MAPE: 24.19170237963016, Test MAPE: 26.26083566225492\n",
      "Epoch 458, Loss: 0.09983879911910312, Train MAPE: 24.170073813658494, Test MAPE: 26.23252112682049\n",
      "Epoch 459, Loss: 0.09973806997832771, Train MAPE: 24.163125057403857, Test MAPE: 26.230705525324893\n",
      "Epoch 460, Loss: 0.09967230495889313, Train MAPE: 24.077178829449874, Test MAPE: 26.12809176811805\n",
      "Epoch 461, Loss: 0.09953620532670847, Train MAPE: 23.912381704954, Test MAPE: 25.925220903983483\n",
      "Epoch 462, Loss: 0.09943303908042322, Train MAPE: 24.229906410437366, Test MAPE: 26.322647281793447\n",
      "Epoch 463, Loss: 0.0993732761654358, Train MAPE: 24.24375054561175, Test MAPE: 26.340807863382192\n",
      "Epoch 464, Loss: 0.09927998525090516, Train MAPE: 24.14718869649447, Test MAPE: 26.22972997518686\n",
      "Epoch 465, Loss: 0.09915891553346927, Train MAPE: 24.039893359404346, Test MAPE: 26.098407499606793\n",
      "Epoch 466, Loss: 0.09907225851381485, Train MAPE: 24.205700960526098, Test MAPE: 26.30724835395813\n",
      "Epoch 467, Loss: 0.09897653149584165, Train MAPE: 24.03899453695004, Test MAPE: 26.107085550748383\n",
      "Epoch 468, Loss: 0.09887855181363053, Train MAPE: 24.12828400501838, Test MAPE: 26.217990732192995\n",
      "Epoch 469, Loss: 0.09876464564854709, Train MAPE: 24.221214801531573, Test MAPE: 26.33341604746305\n",
      "Epoch 470, Loss: 0.09869303476298227, Train MAPE: 24.118183018611028, Test MAPE: 26.205512321912327\n",
      "Epoch 471, Loss: 0.09860070244803165, Train MAPE: 24.020880888975583, Test MAPE: 26.092788909031796\n",
      "Epoch 472, Loss: 0.09850900588163103, Train MAPE: 24.019528132218582, Test MAPE: 26.09654154043931\n",
      "Epoch 473, Loss: 0.0984019932605756, Train MAPE: 23.937292591425088, Test MAPE: 25.996906518936157\n",
      "Epoch 474, Loss: 0.09830939208623021, Train MAPE: 23.900601443877587, Test MAPE: 25.958548241395217\n",
      "Epoch 475, Loss: 0.09823268584889144, Train MAPE: 24.044524523845087, Test MAPE: 26.137280119382417\n",
      "Epoch 476, Loss: 0.09814217947423458, Train MAPE: 24.006114203196304, Test MAPE: 26.096872813885028\n",
      "Epoch 477, Loss: 0.09804521573958203, Train MAPE: 23.88179787489084, Test MAPE: 25.944560450773974\n",
      "Epoch 478, Loss: 0.09794127791224477, Train MAPE: 24.01246315057461, Test MAPE: 26.108337765473586\n",
      "Epoch 479, Loss: 0.09786774605297699, Train MAPE: 24.012371457540073, Test MAPE: 26.107636668131903\n",
      "Epoch 480, Loss: 0.09776241013135474, Train MAPE: 24.06113672714967, Test MAPE: 26.169177473508395\n",
      "Epoch 481, Loss: 0.0976670825191272, Train MAPE: 24.013297000298135, Test MAPE: 26.11187199812669\n",
      "Epoch 482, Loss: 0.0975887599436996, Train MAPE: 23.809744997207936, Test MAPE: 25.873818496557384\n",
      "Epoch 483, Loss: 0.0975090336591865, Train MAPE: 23.883471626501816, Test MAPE: 25.963229637879593\n",
      "Epoch 484, Loss: 0.09741943691176577, Train MAPE: 23.86616687132762, Test MAPE: 25.947358975043663\n",
      "Epoch 485, Loss: 0.09734801554765839, Train MAPE: 23.811033061834483, Test MAPE: 25.883265271553626\n",
      "Epoch 486, Loss: 0.09723261881333131, Train MAPE: 23.82968349456787, Test MAPE: 25.905556777807384\n",
      "Epoch 487, Loss: 0.09715082970662758, Train MAPE: 23.917501852604058, Test MAPE: 26.017500649965726\n",
      "Epoch 488, Loss: 0.0970661629904778, Train MAPE: 23.77671343913445, Test MAPE: 25.849180940481332\n",
      "Epoch 489, Loss: 0.09699597136260799, Train MAPE: 23.813287572677318, Test MAPE: 25.896593933839064\n",
      "Epoch 490, Loss: 0.09688985001188345, Train MAPE: 23.971983375916114, Test MAPE: 26.091369889332697\n",
      "Epoch 491, Loss: 0.09683256111143587, Train MAPE: 23.738729464090788, Test MAPE: 25.8092901963454\n",
      "Epoch 492, Loss: 0.0967093715390477, Train MAPE: 23.850318882098566, Test MAPE: 25.950448575386634\n",
      "Epoch 493, Loss: 0.09662012307044979, Train MAPE: 23.59895118016463, Test MAPE: 25.645752855447622\n",
      "Epoch 494, Loss: 0.09655203179348833, Train MAPE: 23.717361748218536, Test MAPE: 25.79062417470492\n",
      "Epoch 495, Loss: 0.096464252169244, Train MAPE: 23.73431953925353, Test MAPE: 25.820073953041664\n",
      "Epoch 496, Loss: 0.09636387181504127, Train MAPE: 23.685176154283376, Test MAPE: 25.759553039990937\n",
      "Epoch 497, Loss: 0.09629756858070883, Train MAPE: 23.743194086735066, Test MAPE: 25.833507816608137\n",
      "Epoch 498, Loss: 0.09619195715058595, Train MAPE: 23.67717929849258, Test MAPE: 25.757256350150474\n",
      "Epoch 499, Loss: 0.0961261301749171, Train MAPE: 23.664652965619013, Test MAPE: 25.74386073259207\n",
      "Epoch 500, Loss: 0.09602371727008946, Train MAPE: 23.94239858022103, Test MAPE: 26.085807961684008\n",
      "Finished Training\n"
     ]
    },
    {
     "data": {
      "text/plain": "<IPython.core.display.HTML object>",
      "text/html": "<style>\n    table.wandb td:nth-child(1) { padding: 0 10px; text-align: left ; width: auto;} td:nth-child(2) {text-align: left ; width: 100%}\n    .wandb-row { display: flex; flex-direction: row; flex-wrap: wrap; justify-content: flex-start; width: 100% }\n    .wandb-col { display: flex; flex-direction: column; flex-basis: 100%; flex: 1; padding: 10px; }\n    </style>\n<div class=\"wandb-row\"><div class=\"wandb-col\"><h3>Run history:</h3><br/><table class=\"wandb\"><tr><td>test_loss</td><td>█▄▃▂▂▁▁▁▁▁▁▁▁▁▁▁▁▁▁▁▁▁▁▁▁▁▁▁▁▁▁▁▁▁▁▁▁▁▁▁</td></tr><tr><td>test_mape</td><td>█▅▄▄▃▃▂▂▂▂▂▂▂▂▂▁▁▁▁▁▁▁▁▁▁▁▁▁▁▁▁▁▁▁▁▁▁▁▁▁</td></tr><tr><td>time_test</td><td>▄▄▄▃▂▄▃▄▅▂▇▇▅▃▂▂▃▂▁▁▂▃▃▃▄▂▃▂▂▃▃▄▃▂▃▁▂▂█▃</td></tr><tr><td>time_train</td><td>▄▁▂▃▄▃▂▁▂▂▂▄▄▄▃▄▄▄▄▄▄▃▃▃▃▄▄▃▃▃▃▃▃▄▃▃▄█▄▂</td></tr><tr><td>train_loss</td><td>█▂▂▂▁▁▁▁▁▁▁▁▁▁▁▁▁▁▁▁▁▁▁▁▁▁▁▁▁▁▁▁▁▁▁▁▁▁▁▁</td></tr><tr><td>train_mape</td><td>█▄▃▂▂▁▁▁▁▁▁▁▁▁▁▁▁▁▁▁▁▁▁▁▁▁▁▁▁▁▁▁▁▁▁▁▁▁▁▁</td></tr></table><br/></div><div class=\"wandb-col\"><h3>Run summary:</h3><br/><table class=\"wandb\"><tr><td>test_loss</td><td>0.12026</td></tr><tr><td>test_mape</td><td>26.08581</td></tr><tr><td>time_test</td><td>1.38516</td></tr><tr><td>time_train</td><td>2.55458</td></tr><tr><td>train_loss</td><td>0.09602</td></tr><tr><td>train_mape</td><td>23.9424</td></tr></table><br/></div></div>"
     },
     "metadata": {},
     "output_type": "display_data"
    },
    {
     "data": {
      "text/plain": "<IPython.core.display.HTML object>",
      "text/html": " View run <strong style=\"color:#cdcd00\">MLP-bs16-lr1e-05</strong> at: <a href='https://wandb.ai/denis-schatzmann/Immo-Challenge/runs/owz0njn1' target=\"_blank\">https://wandb.ai/denis-schatzmann/Immo-Challenge/runs/owz0njn1</a><br/> View project at: <a href='https://wandb.ai/denis-schatzmann/Immo-Challenge' target=\"_blank\">https://wandb.ai/denis-schatzmann/Immo-Challenge</a><br/>Synced 5 W&B file(s), 0 media file(s), 0 artifact file(s) and 0 other file(s)"
     },
     "metadata": {},
     "output_type": "display_data"
    },
    {
     "data": {
      "text/plain": "<IPython.core.display.HTML object>",
      "text/html": "Find logs at: <code>.\\wandb\\run-20241213_135117-owz0njn1\\logs</code>"
     },
     "metadata": {},
     "output_type": "display_data"
    }
   ],
   "source": [
    "from src import torchModelRun\n",
    "import torch\n",
    "import torch.nn as nn\n",
    "import torch.nn.functional as F\n",
    "\n",
    "inputs_nums = len(df.columns) - 1\n",
    "\n",
    "class FullyConnectedModel(nn.Module):\n",
    "    import torch.nn.functional as F\n",
    "    def __init__(self):\n",
    "        super(FullyConnectedModel, self).__init__()\n",
    "        self.fc1 = nn.Linear(inputs_nums, 128)\n",
    "        self.fc2 = nn.Linear(128, 256)\n",
    "        self.fc3 = nn.Linear(256, 256)\n",
    "        self.fc4 = nn.Linear(256, 32)\n",
    "        self.fc5 = nn.Linear(32, 1)\n",
    "\n",
    "    def forward(self, x):\n",
    "        x = torch.flatten(x, 1)\n",
    "        x = F.relu(self.fc1(x))\n",
    "        x = F.relu(self.fc2(x))\n",
    "        x = F.relu(self.fc3(x))\n",
    "        x = F.relu(self.fc4(x))\n",
    "        x = self.fc5(x)\n",
    "        return x\n",
    "    \n",
    "\n",
    "models = torchModelRun.run(FullyConnectedModel, df, 5)"
   ],
   "metadata": {
    "collapsed": false,
    "ExecuteTime": {
     "end_time": "2024-12-13T13:28:29.479665800Z",
     "start_time": "2024-12-13T12:51:17.390896Z"
    }
   },
   "id": "eeeae7de1d6f31eb",
   "execution_count": 7
  },
  {
   "cell_type": "code",
   "outputs": [
    {
     "name": "stderr",
     "output_type": "stream",
     "text": [
      "C:\\FHNW_Programmiersachen\\5_Sem\\immo_challenge\\src\\dataPipeline.py:43: DtypeWarning: Columns (3,4,5,6,11,13,14,15,16,17,18,19,20,21,22,23,24,25,26,27,28,29,30,31,32,33,34,35,36,37,38,39,40,41,42,43,45,46,48,49,104,111,112,115,116,117,120,121,122,124,127,128,130,131) have mixed types. Specify dtype option on import or set low_memory=False.\n",
      "  self.data = pd.read_csv(filePath)\n",
      "C:\\FHNW_Programmiersachen\\5_Sem\\immo_challenge\\src\\dataPipeline.py:70: FutureWarning: Downcasting object dtype arrays on .fillna, .ffill, .bfill is deprecated and will change in a future version. Call result.infer_objects(copy=False) instead. To opt-in to the future behavior, set `pd.set_option('future.no_silent_downcasting', True)`\n",
      "  ]].bfill(axis=1)['Space extracted']\n",
      "C:\\FHNW_Programmiersachen\\5_Sem\\immo_challenge\\src\\dataPipeline.py:75: FutureWarning: Downcasting object dtype arrays on .fillna, .ffill, .bfill is deprecated and will change in a future version. Call result.infer_objects(copy=False) instead. To opt-in to the future behavior, set `pd.set_option('future.no_silent_downcasting', True)`\n",
      "  ]].bfill(axis=1)['Plot_area_unified']\n",
      "C:\\FHNW_Programmiersachen\\5_Sem\\immo_challenge\\src\\dataPipeline.py:81: FutureWarning: Downcasting object dtype arrays on .fillna, .ffill, .bfill is deprecated and will change in a future version. Call result.infer_objects(copy=False) instead. To opt-in to the future behavior, set `pd.set_option('future.no_silent_downcasting', True)`\n",
      "  ]].bfill(axis=1)['Availability']\n",
      "C:\\FHNW_Programmiersachen\\5_Sem\\immo_challenge\\src\\dataPipeline.py:136: FutureWarning: Setting an item of incompatible dtype is deprecated and will raise an error in a future version of pandas. Value '[]' has dtype incompatible with int64, please explicitly cast to a compatible dtype first.\n",
      "  df.loc[mask, 'plz_parsed'] = df.loc[mask, 'address'].apply(extractPlz)\n"
     ]
    }
   ],
   "source": [
    "df_test_kaggle = dp.runPipeline(filePath='C:/Users/denis/Downloads/test_data-Kaggle-v0.11.csv/test_data-Kaggle-v0.11.csv', normalizeAndStandardize=False, imputer=imputer)"
   ],
   "metadata": {
    "collapsed": false,
    "ExecuteTime": {
     "end_time": "2024-12-13T13:29:59.530604200Z",
     "start_time": "2024-12-13T13:28:52.813667500Z"
    }
   },
   "id": "17437bfaa3b365a3",
   "execution_count": 9
  },
  {
   "cell_type": "code",
   "outputs": [
    {
     "data": {
      "text/plain": "       Floor  detail_responsive#surface_usable  Floor_space_merged  \\\n0        2.4                             152.6               193.8   \n1        2.4                             152.6               193.8   \n2        0.4                             121.6               198.6   \n3        2.2                             152.6               140.0   \n4        0.6                             113.0               242.0   \n...      ...                               ...                 ...   \n24551    2.0                             202.4                64.2   \n24552    3.0                             202.4                64.2   \n24553    2.4                             162.0                64.2   \n24554    2.0                             202.4                64.2   \n24555    2.4                             184.2                64.2   \n\n       ForestDensityM  ForestDensityS  RiversAndLakesL  RiversAndLakesM  \\\n0            0.100030        0.063548         0.020765         0.034714   \n1            0.170434        0.083253         0.017035         0.033235   \n2            0.357984        0.125505         0.127272         0.067030   \n3            0.076610        0.000000         0.024733         0.030412   \n4            0.286451        0.090908         0.082170         0.001811   \n...               ...             ...              ...              ...   \n24551        0.018827        0.000000         0.000000         0.000000   \n24552        0.003706        0.011718         0.000000         0.000000   \n24553        0.003706        0.011718         0.000000         0.000000   \n24554        0.003706        0.011718         0.000000         0.000000   \n24555        0.003706        0.011718         0.000000         0.000000   \n\n       RiversAndLakesS  distanceToTrainStation  gde_area_forest_percentage  \\\n0             0.051031                0.487037                   44.392083   \n1             0.053474                0.691089                   44.392083   \n2             0.000000                2.689617                   51.449275   \n3             0.000000                0.447804                   44.392083   \n4             0.011871                3.038467                   51.449275   \n...                ...                     ...                         ...   \n24551         0.000000                9.851342                   27.252973   \n24552         0.000000                9.753366                   27.252973   \n24553         0.000000                9.753366                   27.252973   \n24554         0.000000                9.753366                   27.252973   \n24555         0.000000                9.753366                   27.252973   \n\n       ...  Swimming pool  View  Washing machine  Waste water connection  \\\n0      ...            0.0   0.0              0.0                     0.0   \n1      ...            0.0   0.0              0.0                     0.0   \n2      ...            0.0   0.0              0.0                     0.0   \n3      ...            0.0   0.0              0.0                     0.0   \n4      ...            0.0   0.0              0.0                     0.0   \n...    ...            ...   ...              ...                     ...   \n24551  ...            0.0   0.0              0.0                     0.0   \n24552  ...            0.0   0.0              0.0                     0.0   \n24553  ...            0.0   1.0              0.0                     0.0   \n24554  ...            0.0   0.0              0.0                     0.0   \n24555  ...            0.0   0.0              0.0                     0.0   \n\n       Water connection  Wheelchair access  With a summer house  covered  \\\n0                   0.0                0.0                  0.0      0.0   \n1                   0.0                0.0                  0.0      0.0   \n2                   0.0                0.0                  0.0      0.0   \n3                   0.0                0.0                  0.0      0.0   \n4                   0.0                0.0                  0.0      0.0   \n...                 ...                ...                  ...      ...   \n24551               0.0                0.0                  0.0      0.0   \n24552               0.0                0.0                  0.0      0.0   \n24553               0.0                0.0                  0.0      0.0   \n24554               0.0                0.0                  0.0      0.0   \n24555               0.0                0.0                  0.0      0.0   \n\n       Availability_Immediately  Availability_On request  \n0                           0.0                      1.0  \n1                           0.0                      1.0  \n2                           0.0                      1.0  \n3                           1.0                      0.0  \n4                           0.0                      1.0  \n...                         ...                      ...  \n24551                       0.0                      0.0  \n24552                       0.0                      0.0  \n24553                       0.0                      0.0  \n24554                       0.0                      0.0  \n24555                       0.0                      0.0  \n\n[24556 rows x 60 columns]",
      "text/html": "<div>\n<style scoped>\n    .dataframe tbody tr th:only-of-type {\n        vertical-align: middle;\n    }\n\n    .dataframe tbody tr th {\n        vertical-align: top;\n    }\n\n    .dataframe thead th {\n        text-align: right;\n    }\n</style>\n<table border=\"1\" class=\"dataframe\">\n  <thead>\n    <tr style=\"text-align: right;\">\n      <th></th>\n      <th>Floor</th>\n      <th>detail_responsive#surface_usable</th>\n      <th>Floor_space_merged</th>\n      <th>ForestDensityM</th>\n      <th>ForestDensityS</th>\n      <th>RiversAndLakesL</th>\n      <th>RiversAndLakesM</th>\n      <th>RiversAndLakesS</th>\n      <th>distanceToTrainStation</th>\n      <th>gde_area_forest_percentage</th>\n      <th>...</th>\n      <th>Swimming pool</th>\n      <th>View</th>\n      <th>Washing machine</th>\n      <th>Waste water connection</th>\n      <th>Water connection</th>\n      <th>Wheelchair access</th>\n      <th>With a summer house</th>\n      <th>covered</th>\n      <th>Availability_Immediately</th>\n      <th>Availability_On request</th>\n    </tr>\n  </thead>\n  <tbody>\n    <tr>\n      <th>0</th>\n      <td>2.4</td>\n      <td>152.6</td>\n      <td>193.8</td>\n      <td>0.100030</td>\n      <td>0.063548</td>\n      <td>0.020765</td>\n      <td>0.034714</td>\n      <td>0.051031</td>\n      <td>0.487037</td>\n      <td>44.392083</td>\n      <td>...</td>\n      <td>0.0</td>\n      <td>0.0</td>\n      <td>0.0</td>\n      <td>0.0</td>\n      <td>0.0</td>\n      <td>0.0</td>\n      <td>0.0</td>\n      <td>0.0</td>\n      <td>0.0</td>\n      <td>1.0</td>\n    </tr>\n    <tr>\n      <th>1</th>\n      <td>2.4</td>\n      <td>152.6</td>\n      <td>193.8</td>\n      <td>0.170434</td>\n      <td>0.083253</td>\n      <td>0.017035</td>\n      <td>0.033235</td>\n      <td>0.053474</td>\n      <td>0.691089</td>\n      <td>44.392083</td>\n      <td>...</td>\n      <td>0.0</td>\n      <td>0.0</td>\n      <td>0.0</td>\n      <td>0.0</td>\n      <td>0.0</td>\n      <td>0.0</td>\n      <td>0.0</td>\n      <td>0.0</td>\n      <td>0.0</td>\n      <td>1.0</td>\n    </tr>\n    <tr>\n      <th>2</th>\n      <td>0.4</td>\n      <td>121.6</td>\n      <td>198.6</td>\n      <td>0.357984</td>\n      <td>0.125505</td>\n      <td>0.127272</td>\n      <td>0.067030</td>\n      <td>0.000000</td>\n      <td>2.689617</td>\n      <td>51.449275</td>\n      <td>...</td>\n      <td>0.0</td>\n      <td>0.0</td>\n      <td>0.0</td>\n      <td>0.0</td>\n      <td>0.0</td>\n      <td>0.0</td>\n      <td>0.0</td>\n      <td>0.0</td>\n      <td>0.0</td>\n      <td>1.0</td>\n    </tr>\n    <tr>\n      <th>3</th>\n      <td>2.2</td>\n      <td>152.6</td>\n      <td>140.0</td>\n      <td>0.076610</td>\n      <td>0.000000</td>\n      <td>0.024733</td>\n      <td>0.030412</td>\n      <td>0.000000</td>\n      <td>0.447804</td>\n      <td>44.392083</td>\n      <td>...</td>\n      <td>0.0</td>\n      <td>0.0</td>\n      <td>0.0</td>\n      <td>0.0</td>\n      <td>0.0</td>\n      <td>0.0</td>\n      <td>0.0</td>\n      <td>0.0</td>\n      <td>1.0</td>\n      <td>0.0</td>\n    </tr>\n    <tr>\n      <th>4</th>\n      <td>0.6</td>\n      <td>113.0</td>\n      <td>242.0</td>\n      <td>0.286451</td>\n      <td>0.090908</td>\n      <td>0.082170</td>\n      <td>0.001811</td>\n      <td>0.011871</td>\n      <td>3.038467</td>\n      <td>51.449275</td>\n      <td>...</td>\n      <td>0.0</td>\n      <td>0.0</td>\n      <td>0.0</td>\n      <td>0.0</td>\n      <td>0.0</td>\n      <td>0.0</td>\n      <td>0.0</td>\n      <td>0.0</td>\n      <td>0.0</td>\n      <td>1.0</td>\n    </tr>\n    <tr>\n      <th>...</th>\n      <td>...</td>\n      <td>...</td>\n      <td>...</td>\n      <td>...</td>\n      <td>...</td>\n      <td>...</td>\n      <td>...</td>\n      <td>...</td>\n      <td>...</td>\n      <td>...</td>\n      <td>...</td>\n      <td>...</td>\n      <td>...</td>\n      <td>...</td>\n      <td>...</td>\n      <td>...</td>\n      <td>...</td>\n      <td>...</td>\n      <td>...</td>\n      <td>...</td>\n      <td>...</td>\n    </tr>\n    <tr>\n      <th>24551</th>\n      <td>2.0</td>\n      <td>202.4</td>\n      <td>64.2</td>\n      <td>0.018827</td>\n      <td>0.000000</td>\n      <td>0.000000</td>\n      <td>0.000000</td>\n      <td>0.000000</td>\n      <td>9.851342</td>\n      <td>27.252973</td>\n      <td>...</td>\n      <td>0.0</td>\n      <td>0.0</td>\n      <td>0.0</td>\n      <td>0.0</td>\n      <td>0.0</td>\n      <td>0.0</td>\n      <td>0.0</td>\n      <td>0.0</td>\n      <td>0.0</td>\n      <td>0.0</td>\n    </tr>\n    <tr>\n      <th>24552</th>\n      <td>3.0</td>\n      <td>202.4</td>\n      <td>64.2</td>\n      <td>0.003706</td>\n      <td>0.011718</td>\n      <td>0.000000</td>\n      <td>0.000000</td>\n      <td>0.000000</td>\n      <td>9.753366</td>\n      <td>27.252973</td>\n      <td>...</td>\n      <td>0.0</td>\n      <td>0.0</td>\n      <td>0.0</td>\n      <td>0.0</td>\n      <td>0.0</td>\n      <td>0.0</td>\n      <td>0.0</td>\n      <td>0.0</td>\n      <td>0.0</td>\n      <td>0.0</td>\n    </tr>\n    <tr>\n      <th>24553</th>\n      <td>2.4</td>\n      <td>162.0</td>\n      <td>64.2</td>\n      <td>0.003706</td>\n      <td>0.011718</td>\n      <td>0.000000</td>\n      <td>0.000000</td>\n      <td>0.000000</td>\n      <td>9.753366</td>\n      <td>27.252973</td>\n      <td>...</td>\n      <td>0.0</td>\n      <td>1.0</td>\n      <td>0.0</td>\n      <td>0.0</td>\n      <td>0.0</td>\n      <td>0.0</td>\n      <td>0.0</td>\n      <td>0.0</td>\n      <td>0.0</td>\n      <td>0.0</td>\n    </tr>\n    <tr>\n      <th>24554</th>\n      <td>2.0</td>\n      <td>202.4</td>\n      <td>64.2</td>\n      <td>0.003706</td>\n      <td>0.011718</td>\n      <td>0.000000</td>\n      <td>0.000000</td>\n      <td>0.000000</td>\n      <td>9.753366</td>\n      <td>27.252973</td>\n      <td>...</td>\n      <td>0.0</td>\n      <td>0.0</td>\n      <td>0.0</td>\n      <td>0.0</td>\n      <td>0.0</td>\n      <td>0.0</td>\n      <td>0.0</td>\n      <td>0.0</td>\n      <td>0.0</td>\n      <td>0.0</td>\n    </tr>\n    <tr>\n      <th>24555</th>\n      <td>2.4</td>\n      <td>184.2</td>\n      <td>64.2</td>\n      <td>0.003706</td>\n      <td>0.011718</td>\n      <td>0.000000</td>\n      <td>0.000000</td>\n      <td>0.000000</td>\n      <td>9.753366</td>\n      <td>27.252973</td>\n      <td>...</td>\n      <td>0.0</td>\n      <td>0.0</td>\n      <td>0.0</td>\n      <td>0.0</td>\n      <td>0.0</td>\n      <td>0.0</td>\n      <td>0.0</td>\n      <td>0.0</td>\n      <td>0.0</td>\n      <td>0.0</td>\n    </tr>\n  </tbody>\n</table>\n<p>24556 rows × 60 columns</p>\n</div>"
     },
     "execution_count": 10,
     "metadata": {},
     "output_type": "execute_result"
    }
   ],
   "source": [
    "df_test_kaggle"
   ],
   "metadata": {
    "collapsed": false,
    "ExecuteTime": {
     "end_time": "2024-12-13T13:30:22.745495900Z",
     "start_time": "2024-12-13T13:30:22.717005Z"
    }
   },
   "id": "dd4a1b65a56568a",
   "execution_count": 10
  },
  {
   "cell_type": "code",
   "outputs": [],
   "source": [
    "model = models[0]['model']\n",
    "model.eval()\n",
    "test_data = models[0]['transform'](torch.tensor(df_test_kaggle.values, dtype=torch.float32))\n",
    "output = model(test_data)\n",
    "\n",
    "#clamp output\n",
    "output = torch.clamp(output, 6.0, 18.0)\n",
    "output = torch.exp(output)"
   ],
   "metadata": {
    "collapsed": false,
    "ExecuteTime": {
     "end_time": "2024-12-13T13:30:26.660446600Z",
     "start_time": "2024-12-13T13:30:26.606828200Z"
    }
   },
   "id": "1cf2444367ef83c9",
   "execution_count": 11
  },
  {
   "cell_type": "code",
   "outputs": [
    {
     "data": {
      "text/plain": "(tensor(123131.2812, grad_fn=<MinBackward1>),\n tensor(65659968., grad_fn=<MaxBackward1>))"
     },
     "execution_count": 12,
     "metadata": {},
     "output_type": "execute_result"
    }
   ],
   "source": [
    "output.min(), output.max()\n"
   ],
   "metadata": {
    "collapsed": false,
    "ExecuteTime": {
     "end_time": "2024-12-13T13:30:27.870487300Z",
     "start_time": "2024-12-13T13:30:27.848578100Z"
    }
   },
   "id": "d7f5eb79864d96ba",
   "execution_count": 12
  },
  {
   "cell_type": "code",
   "outputs": [
    {
     "data": {
      "text/plain": "<Figure size 640x480 with 1 Axes>",
      "image/png": "[encoded data removed]"
     },
     "metadata": {},
     "output_type": "display_data"
    }
   ],
   "source": [
    "import matplotlib.pyplot as plt\n",
    "import matplotlib.ticker as ticker\n",
    "\n",
    "\n",
    "plt.hist(output.detach().numpy(), bins=100)\n",
    "plt.ylim([0, 100])\n",
    "plt.show()"
   ],
   "metadata": {
    "collapsed": false,
    "ExecuteTime": {
     "end_time": "2024-12-13T13:30:32.875634500Z",
     "start_time": "2024-12-13T13:30:32.699315Z"
    }
   },
   "id": "f01a16b99505884a",
   "execution_count": 13
  },
  {
   "cell_type": "code",
   "outputs": [
    {
     "name": "stderr",
     "output_type": "stream",
     "text": [
      "C:\\Users\\denis\\AppData\\Local\\Temp\\ipykernel_30592\\4266205768.py:3: DtypeWarning: Columns (3,4,5,6,11,13,14,15,16,17,18,19,20,21,22,23,24,25,26,27,28,29,30,31,32,33,34,35,36,37,38,39,40,41,42,43,45,46,48,49,104,111,112,115,116,117,120,121,122,124,127,128,130,131) have mixed types. Specify dtype option on import or set low_memory=False.\n",
      "  df_test_kaggle_unclean = pd.read_csv('C:/Users/denis/Downloads/test_data-Kaggle-v0.11.csv/test_data-Kaggle-v0.11.csv')\n"
     ]
    },
    {
     "data": {
      "text/plain": "       Unnamed: 0.1  Unnamed: 0 Municipality Living space Plot area  \\\n0                 0           0         Suhr       220 m²    733 m²   \n1                 1           1         Suhr       230 m²    702 m²   \n2                 2           2   Biberstein       131 m²       NaN   \n3                 3           3         Suhr       140 m²    206 m²   \n4                 4           4   Biberstein       156 m²    222 m²   \n...             ...         ...          ...          ...       ...   \n24551         24561       24561     Wildhaus          NaN       NaN   \n24552         24562       24562     Wildhaus          NaN       NaN   \n24553         24563       24563     Wildhaus          NaN       NaN   \n24554         24564       24564     Wildhaus          NaN       NaN   \n24555         24565       24565     Wildhaus          NaN       NaN   \n\n      Floor space Availability                              location  \\\n0             NaN   On request            Galeggenweg 95034 Suhr, AG   \n1             NaN   On request     Hofstattmattenweg 195034 Suhr, AG   \n2             NaN   On request        Gheldweg 105023 Biberstein, AG   \n3          140 m²  Immediately     Obere Dorfstrasse 275034 Suhr, AG   \n4          242 m²   On request  Buhldenstrasse 8d5023 Biberstein, AG   \n...           ...          ...                                   ...   \n24551         NaN          NaN                  Hof 2, 9658 Wildhaus   \n24552         NaN          NaN                         9658 Wildhaus   \n24553         NaN          NaN                         9658 Wildhaus   \n24554         NaN          NaN                         9658 Wildhaus   \n24555         NaN          NaN    Steinrütistrasse 28, 9658 Wildhaus   \n\n                                             description  \\\n0      6.5 rooms, 220 m²«Landhausvilla mit einzigarti...   \n1      7.5 rooms, 230 m²«Grosszügiges Anwesen mit tra...   \n2      4.5 rooms, 131 m²«Terrassenhaus mit traumhafte...   \n3      6.5 rooms, 140 m²«Mittelhaus in Suhr an attrak...   \n4      4.5 rooms, 156 m²«Bezugsbereit - ruhige Lage u...   \n...                                                  ...   \n24551  1.5 Zimmerwohnung an zentraler Lage mit schöne...   \n24552  OBJEKT IST BEREITS RESERVIERT!!Sie suchen eine...   \n24553  Mitten im Ober - Toggenburg ist ein 4 Zimmer C...   \n24554  Zu verkaufen ist hier in Wildhaus eine schön u...   \n24555  1-Zi-Whg. (EG) / 4-Zi-Whg. (OG) / 2 1/2-Zi-Whg...   \n\n                                    detailed_description  ... Floor space:  \\\n0      DescriptionVilla lädt zum Träumen ein  Wir ver...  ...          NaN   \n1      DescriptionLicht, Glas und Holz - ein freisteh...  ...          NaN   \n2      DescriptionLage  Das 4.5-Zimmer-Terrassenhaus ...  ...          NaN   \n3      DescriptionReiheneinfamilienhaus (Mittelhaus) ...  ...          NaN   \n4      DescriptionStilvolle Liegenschaft an ruhiger L...  ...          NaN   \n...                                                  ...  ...          ...   \n24551  Description\\n\"Schöne Kleinwohnung mit Cheminée...  ...          NaN   \n24552  Description\\n\"BEREITS RESERVIERT!\"\\nOBJEKT IST...  ...          NaN   \n24553  Description\\n\"Chalet mit grossem Grundstück\"\\n...  ...          NaN   \n24554  Description\\n\"5½ Zimmer Ferienwohnung mit Gara...  ...          NaN   \n24555  Description\\n\"Haus mit 2 Einliegerwohnungen in...  ...          NaN   \n\n      Number of floors:  Volume:     plz Number of toilets: Gross yield:  \\\n0                   NaN      NaN  5034.0                NaN          NaN   \n1                   NaN      NaN  5034.0                NaN          NaN   \n2                   NaN      NaN  5023.0                NaN          NaN   \n3                   NaN      NaN  5034.0                NaN          NaN   \n4                   NaN      NaN  5023.0                NaN          NaN   \n...                 ...      ...     ...                ...          ...   \n24551               NaN      NaN  9658.0                NaN          NaN   \n24552               6.0      NaN  9658.0                NaN          NaN   \n24553               1.0      NaN  9658.0                NaN          NaN   \n24554               4.0      NaN  9658.0                NaN          NaN   \n24555               NaN  1463 m3  9658.0                NaN          NaN   \n\n      Minimum floor space: space_cleaned         Type: Hall height:  \n0                      NaN         220.0           NaN          NaN  \n1                      NaN         230.0           NaN          NaN  \n2                      NaN         131.0           NaN          NaN  \n3                      NaN         140.0           NaN          NaN  \n4                      NaN         156.0           NaN          NaN  \n...                    ...           ...           ...          ...  \n24551                  NaN          36.0     Apartment          NaN  \n24552                  NaN           NaN     Apartment          NaN  \n24553                  NaN         800.0  Single house          NaN  \n24554                  NaN           NaN     Apartment          NaN  \n24555                  NaN           NaN  Single house          NaN  \n\n[24556 rows x 132 columns]",
      "text/html": "<div>\n<style scoped>\n    .dataframe tbody tr th:only-of-type {\n        vertical-align: middle;\n    }\n\n    .dataframe tbody tr th {\n        vertical-align: top;\n    }\n\n    .dataframe thead th {\n        text-align: right;\n    }\n</style>\n<table border=\"1\" class=\"dataframe\">\n  <thead>\n    <tr style=\"text-align: right;\">\n      <th></th>\n      <th>Unnamed: 0.1</th>\n      <th>Unnamed: 0</th>\n      <th>Municipality</th>\n      <th>Living space</th>\n      <th>Plot area</th>\n      <th>Floor space</th>\n      <th>Availability</th>\n      <th>location</th>\n      <th>description</th>\n      <th>detailed_description</th>\n      <th>...</th>\n      <th>Floor space:</th>\n      <th>Number of floors:</th>\n      <th>Volume:</th>\n      <th>plz</th>\n      <th>Number of toilets:</th>\n      <th>Gross yield:</th>\n      <th>Minimum floor space:</th>\n      <th>space_cleaned</th>\n      <th>Type:</th>\n      <th>Hall height:</th>\n    </tr>\n  </thead>\n  <tbody>\n    <tr>\n      <th>0</th>\n      <td>0</td>\n      <td>0</td>\n      <td>Suhr</td>\n      <td>220 m²</td>\n      <td>733 m²</td>\n      <td>NaN</td>\n      <td>On request</td>\n      <td>Galeggenweg 95034 Suhr, AG</td>\n      <td>6.5 rooms, 220 m²«Landhausvilla mit einzigarti...</td>\n      <td>DescriptionVilla lädt zum Träumen ein  Wir ver...</td>\n      <td>...</td>\n      <td>NaN</td>\n      <td>NaN</td>\n      <td>NaN</td>\n      <td>5034.0</td>\n      <td>NaN</td>\n      <td>NaN</td>\n      <td>NaN</td>\n      <td>220.0</td>\n      <td>NaN</td>\n      <td>NaN</td>\n    </tr>\n    <tr>\n      <th>1</th>\n      <td>1</td>\n      <td>1</td>\n      <td>Suhr</td>\n      <td>230 m²</td>\n      <td>702 m²</td>\n      <td>NaN</td>\n      <td>On request</td>\n      <td>Hofstattmattenweg 195034 Suhr, AG</td>\n      <td>7.5 rooms, 230 m²«Grosszügiges Anwesen mit tra...</td>\n      <td>DescriptionLicht, Glas und Holz - ein freisteh...</td>\n      <td>...</td>\n      <td>NaN</td>\n      <td>NaN</td>\n      <td>NaN</td>\n      <td>5034.0</td>\n      <td>NaN</td>\n      <td>NaN</td>\n      <td>NaN</td>\n      <td>230.0</td>\n      <td>NaN</td>\n      <td>NaN</td>\n    </tr>\n    <tr>\n      <th>2</th>\n      <td>2</td>\n      <td>2</td>\n      <td>Biberstein</td>\n      <td>131 m²</td>\n      <td>NaN</td>\n      <td>NaN</td>\n      <td>On request</td>\n      <td>Gheldweg 105023 Biberstein, AG</td>\n      <td>4.5 rooms, 131 m²«Terrassenhaus mit traumhafte...</td>\n      <td>DescriptionLage  Das 4.5-Zimmer-Terrassenhaus ...</td>\n      <td>...</td>\n      <td>NaN</td>\n      <td>NaN</td>\n      <td>NaN</td>\n      <td>5023.0</td>\n      <td>NaN</td>\n      <td>NaN</td>\n      <td>NaN</td>\n      <td>131.0</td>\n      <td>NaN</td>\n      <td>NaN</td>\n    </tr>\n    <tr>\n      <th>3</th>\n      <td>3</td>\n      <td>3</td>\n      <td>Suhr</td>\n      <td>140 m²</td>\n      <td>206 m²</td>\n      <td>140 m²</td>\n      <td>Immediately</td>\n      <td>Obere Dorfstrasse 275034 Suhr, AG</td>\n      <td>6.5 rooms, 140 m²«Mittelhaus in Suhr an attrak...</td>\n      <td>DescriptionReiheneinfamilienhaus (Mittelhaus) ...</td>\n      <td>...</td>\n      <td>NaN</td>\n      <td>NaN</td>\n      <td>NaN</td>\n      <td>5034.0</td>\n      <td>NaN</td>\n      <td>NaN</td>\n      <td>NaN</td>\n      <td>140.0</td>\n      <td>NaN</td>\n      <td>NaN</td>\n    </tr>\n    <tr>\n      <th>4</th>\n      <td>4</td>\n      <td>4</td>\n      <td>Biberstein</td>\n      <td>156 m²</td>\n      <td>222 m²</td>\n      <td>242 m²</td>\n      <td>On request</td>\n      <td>Buhldenstrasse 8d5023 Biberstein, AG</td>\n      <td>4.5 rooms, 156 m²«Bezugsbereit - ruhige Lage u...</td>\n      <td>DescriptionStilvolle Liegenschaft an ruhiger L...</td>\n      <td>...</td>\n      <td>NaN</td>\n      <td>NaN</td>\n      <td>NaN</td>\n      <td>5023.0</td>\n      <td>NaN</td>\n      <td>NaN</td>\n      <td>NaN</td>\n      <td>156.0</td>\n      <td>NaN</td>\n      <td>NaN</td>\n    </tr>\n    <tr>\n      <th>...</th>\n      <td>...</td>\n      <td>...</td>\n      <td>...</td>\n      <td>...</td>\n      <td>...</td>\n      <td>...</td>\n      <td>...</td>\n      <td>...</td>\n      <td>...</td>\n      <td>...</td>\n      <td>...</td>\n      <td>...</td>\n      <td>...</td>\n      <td>...</td>\n      <td>...</td>\n      <td>...</td>\n      <td>...</td>\n      <td>...</td>\n      <td>...</td>\n      <td>...</td>\n      <td>...</td>\n    </tr>\n    <tr>\n      <th>24551</th>\n      <td>24561</td>\n      <td>24561</td>\n      <td>Wildhaus</td>\n      <td>NaN</td>\n      <td>NaN</td>\n      <td>NaN</td>\n      <td>NaN</td>\n      <td>Hof 2, 9658 Wildhaus</td>\n      <td>1.5 Zimmerwohnung an zentraler Lage mit schöne...</td>\n      <td>Description\\n\"Schöne Kleinwohnung mit Cheminée...</td>\n      <td>...</td>\n      <td>NaN</td>\n      <td>NaN</td>\n      <td>NaN</td>\n      <td>9658.0</td>\n      <td>NaN</td>\n      <td>NaN</td>\n      <td>NaN</td>\n      <td>36.0</td>\n      <td>Apartment</td>\n      <td>NaN</td>\n    </tr>\n    <tr>\n      <th>24552</th>\n      <td>24562</td>\n      <td>24562</td>\n      <td>Wildhaus</td>\n      <td>NaN</td>\n      <td>NaN</td>\n      <td>NaN</td>\n      <td>NaN</td>\n      <td>9658 Wildhaus</td>\n      <td>OBJEKT IST BEREITS RESERVIERT!!Sie suchen eine...</td>\n      <td>Description\\n\"BEREITS RESERVIERT!\"\\nOBJEKT IST...</td>\n      <td>...</td>\n      <td>NaN</td>\n      <td>6.0</td>\n      <td>NaN</td>\n      <td>9658.0</td>\n      <td>NaN</td>\n      <td>NaN</td>\n      <td>NaN</td>\n      <td>NaN</td>\n      <td>Apartment</td>\n      <td>NaN</td>\n    </tr>\n    <tr>\n      <th>24553</th>\n      <td>24563</td>\n      <td>24563</td>\n      <td>Wildhaus</td>\n      <td>NaN</td>\n      <td>NaN</td>\n      <td>NaN</td>\n      <td>NaN</td>\n      <td>9658 Wildhaus</td>\n      <td>Mitten im Ober - Toggenburg ist ein 4 Zimmer C...</td>\n      <td>Description\\n\"Chalet mit grossem Grundstück\"\\n...</td>\n      <td>...</td>\n      <td>NaN</td>\n      <td>1.0</td>\n      <td>NaN</td>\n      <td>9658.0</td>\n      <td>NaN</td>\n      <td>NaN</td>\n      <td>NaN</td>\n      <td>800.0</td>\n      <td>Single house</td>\n      <td>NaN</td>\n    </tr>\n    <tr>\n      <th>24554</th>\n      <td>24564</td>\n      <td>24564</td>\n      <td>Wildhaus</td>\n      <td>NaN</td>\n      <td>NaN</td>\n      <td>NaN</td>\n      <td>NaN</td>\n      <td>9658 Wildhaus</td>\n      <td>Zu verkaufen ist hier in Wildhaus eine schön u...</td>\n      <td>Description\\n\"5½ Zimmer Ferienwohnung mit Gara...</td>\n      <td>...</td>\n      <td>NaN</td>\n      <td>4.0</td>\n      <td>NaN</td>\n      <td>9658.0</td>\n      <td>NaN</td>\n      <td>NaN</td>\n      <td>NaN</td>\n      <td>NaN</td>\n      <td>Apartment</td>\n      <td>NaN</td>\n    </tr>\n    <tr>\n      <th>24555</th>\n      <td>24565</td>\n      <td>24565</td>\n      <td>Wildhaus</td>\n      <td>NaN</td>\n      <td>NaN</td>\n      <td>NaN</td>\n      <td>NaN</td>\n      <td>Steinrütistrasse 28, 9658 Wildhaus</td>\n      <td>1-Zi-Whg. (EG) / 4-Zi-Whg. (OG) / 2 1/2-Zi-Whg...</td>\n      <td>Description\\n\"Haus mit 2 Einliegerwohnungen in...</td>\n      <td>...</td>\n      <td>NaN</td>\n      <td>NaN</td>\n      <td>1463 m3</td>\n      <td>9658.0</td>\n      <td>NaN</td>\n      <td>NaN</td>\n      <td>NaN</td>\n      <td>NaN</td>\n      <td>Single house</td>\n      <td>NaN</td>\n    </tr>\n  </tbody>\n</table>\n<p>24556 rows × 132 columns</p>\n</div>"
     },
     "execution_count": 17,
     "metadata": {},
     "output_type": "execute_result"
    }
   ],
   "source": [
    "import pandas as pd\n",
    "\n",
    "df_test_kaggle_unclean = pd.read_csv('C:/Users/denis/Downloads/test_data-Kaggle-v0.11.csv/test_data-Kaggle-v0.11.csv')\n",
    "df_test_kaggle_unclean"
   ],
   "metadata": {
    "collapsed": false,
    "ExecuteTime": {
     "end_time": "2024-12-13T13:31:33.984382800Z",
     "start_time": "2024-12-13T13:31:32.391240Z"
    }
   },
   "id": "a712a978c706c5f8",
   "execution_count": 17
  },
  {
   "cell_type": "code",
   "outputs": [],
   "source": [
    "df_test_results = pd.DataFrame(columns=['Id','Expected'])\n",
    "df_test_results['Id'] = df_test_kaggle_unclean['Unnamed: 0']\n",
    "df_test_results['Expected'] = output.detach().numpy()\n",
    "df_test_results.to_csv('kaggle_results.csv', index=False)"
   ],
   "metadata": {
    "collapsed": false,
    "ExecuteTime": {
     "end_time": "2024-12-13T13:32:01.820947300Z",
     "start_time": "2024-12-13T13:32:01.773977600Z"
    }
   },
   "id": "f8d5962e00221029",
   "execution_count": 19
  },
  {
   "cell_type": "code",
   "outputs": [],
   "source": [
    "# store model for later use\n",
    "torch.save(model, 'model.pt')\n",
    "\n",
    "#store transformer for later use\n",
    "torch.save(models[0]['transform'], 'transformer.pt')"
   ],
   "metadata": {
    "collapsed": false,
    "ExecuteTime": {
     "end_time": "2024-12-13T13:30:49.078494500Z",
     "start_time": "2024-12-13T13:30:49.060260400Z"
    }
   },
   "id": "98ca9a507dfbab69",
   "execution_count": 15
  }
 ],
 "metadata": {
  "kernelspec": {
   "display_name": "Python 3",
   "language": "python",
   "name": "python3"
  },
  "language_info": {
   "codemirror_mode": {
    "name": "ipython",
    "version": 2
   },
   "file_extension": ".py",
   "mimetype": "text/x-python",
   "name": "python",
   "nbconvert_exporter": "python",
   "pygments_lexer": "ipython2",
   "version": "2.7.6"
  }
 },
 "nbformat": 4,
 "nbformat_minor": 5
}

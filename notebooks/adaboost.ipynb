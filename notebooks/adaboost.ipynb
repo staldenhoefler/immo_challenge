{
 "cells": [
  {
   "cell_type": "code",
   "id": "initial_id",
   "metadata": {
    "collapsed": true,
    "ExecuteTime": {
     "end_time": "2025-01-12T09:56:05.355890Z",
     "start_time": "2025-01-12T09:55:58.097296Z"
    }
   },
   "source": [
    "import src.dataPipeline as dataPipeline\n",
    "import importlib\n",
    "\n",
    "import matplotlib.pyplot as plt\n",
    "import numpy as np\n",
    "import pandas as pd\n",
    "import seaborn as sns\n",
    "from tqdm import tqdm\n",
    "\n",
    "import optuna\n",
    "\n",
    "from sklearn.tree import DecisionTreeRegressor\n",
    "from sklearn.model_selection import train_test_split\n",
    "from sklearn.ensemble import AdaBoostRegressor\n",
    "from sklearn.compose import ColumnTransformer\n",
    "from sklearn.pipeline import Pipeline\n",
    "from sklearn.model_selection import GridSearchCV, cross_val_score, KFold\n",
    "# Evaluating the model\n",
    "from sklearn.metrics import mean_absolute_percentage_error,r2_score ,make_scorer\n",
    "from sklearn.impute import KNNImputer\n",
    "from sklearn.preprocessing import StandardScaler, OneHotEncoder\n",
    "\n",
    "importlib.reload(dataPipeline)\n"
   ],
   "outputs": [
    {
     "name": "stderr",
     "output_type": "stream",
     "text": [
      "C:\\Users\\wartm\\Documents\\FHNW\\immo_challenge\\venv\\Lib\\site-packages\\tqdm\\auto.py:21: TqdmWarning: IProgress not found. Please update jupyter and ipywidgets. See https://ipywidgets.readthedocs.io/en/stable/user_install.html\n",
      "  from .autonotebook import tqdm as notebook_tqdm\n"
     ]
    },
    {
     "data": {
      "text/plain": [
       "<module 'src.dataPipeline' from 'C:\\\\Users\\\\wartm\\\\Documents\\\\FHNW\\\\immo_challenge\\\\src\\\\dataPipeline.py'>"
      ]
     },
     "execution_count": 1,
     "metadata": {},
     "output_type": "execute_result"
    }
   ],
   "execution_count": 1
  },
  {
   "metadata": {
    "ExecuteTime": {
     "end_time": "2025-01-12T09:56:10.963174Z",
     "start_time": "2025-01-12T09:56:05.359907Z"
    }
   },
   "cell_type": "code",
   "source": [
    "dp = dataPipeline.DataPipeline()\n",
    "df = dp.runPipeline(\n",
    "    filePath=\"../data/immo_data_202208_v2.csv\",\n",
    "    imputer=None,\n",
    "    normalizeAndStandardize= False,\n",
    "    basic_house_imputer = True,\n",
    "    get_dummies = False\n",
    ")"
   ],
   "id": "7737ec9c3fa88ffa",
   "outputs": [
    {
     "name": "stderr",
     "output_type": "stream",
     "text": [
      "C:\\Users\\wartm\\Documents\\FHNW\\immo_challenge\\src\\dataPipeline.py:44: DtypeWarning: Columns (3,4,5,6,11,13,14,15,16,17,18,19,20,21,22,23,24,25,26,27,28,29,30,31,32,33,34,35,36,37,38,39,40,41,42,43,45,46,47,49,50,107,110,114,115,116,119,120,121,124,125,126,128,131,132) have mixed types. Specify dtype option on import or set low_memory=False.\n",
      "  self.data = pd.read_csv(filePath)\n",
      "C:\\Users\\wartm\\Documents\\FHNW\\immo_challenge\\src\\dataPipeline.py:71: FutureWarning: Downcasting object dtype arrays on .fillna, .ffill, .bfill is deprecated and will change in a future version. Call result.infer_objects(copy=False) instead. To opt-in to the future behavior, set `pd.set_option('future.no_silent_downcasting', True)`\n",
      "  ]].bfill(axis=1)['Space extracted']\n",
      "C:\\Users\\wartm\\Documents\\FHNW\\immo_challenge\\src\\dataPipeline.py:76: FutureWarning: Downcasting object dtype arrays on .fillna, .ffill, .bfill is deprecated and will change in a future version. Call result.infer_objects(copy=False) instead. To opt-in to the future behavior, set `pd.set_option('future.no_silent_downcasting', True)`\n",
      "  ]].bfill(axis=1)['Plot_area_unified']\n",
      "C:\\Users\\wartm\\Documents\\FHNW\\immo_challenge\\src\\dataPipeline.py:82: FutureWarning: Downcasting object dtype arrays on .fillna, .ffill, .bfill is deprecated and will change in a future version. Call result.infer_objects(copy=False) instead. To opt-in to the future behavior, set `pd.set_option('future.no_silent_downcasting', True)`\n",
      "  ]].bfill(axis=1)['Availability']\n"
     ]
    }
   ],
   "execution_count": 2
  },
  {
   "metadata": {
    "ExecuteTime": {
     "end_time": "2025-01-12T09:56:11.456552Z",
     "start_time": "2025-01-12T09:56:11.423643Z"
    }
   },
   "cell_type": "code",
   "source": "df.head()",
   "id": "72d59aea221ccb17",
   "outputs": [
    {
     "data": {
      "text/plain": [
       "  Availability  Floor  detail_responsive#surface_usable  Floor_space_merged  \\\n",
       "0   On request    4.0                               0.0                 NaN   \n",
       "1   On request    0.0                               0.0               242.0   \n",
       "2  Immediately    2.0                               0.0                 NaN   \n",
       "3   On request    0.0                               0.0               257.0   \n",
       "4   On request    0.0                               0.0                 NaN   \n",
       "\n",
       "   ForestDensityL  ForestDensityM  ForestDensityS  NoisePollutionRailwayL  \\\n",
       "0        0.511176        0.286451        0.090908                     0.0   \n",
       "1        0.511176        0.286451        0.090908                     0.0   \n",
       "2        0.163362        0.095877        0.001911                     0.0   \n",
       "3        0.511176        0.286451        0.090908                     0.0   \n",
       "4        0.333865        0.279276        0.145835                     0.0   \n",
       "\n",
       "   NoisePollutionRailwayM  NoisePollutionRailwayS  ...  gde_workers_total  \\\n",
       "0                     0.0                     0.0  ...              331.0   \n",
       "1                     0.0                     0.0  ...              331.0   \n",
       "2                     0.0                     0.0  ...            33493.0   \n",
       "3                     0.0                     0.0  ...              331.0   \n",
       "4                     0.0                     0.0  ...             1355.0   \n",
       "\n",
       "   price_cleaned  Space extracted    type_unified  Plot_area_unified  \\\n",
       "0      1150000.0            100.0       penthouse                0.0   \n",
       "1      1420000.0            156.0   terrace-house              222.0   \n",
       "2       720000.0             93.0       penthouse                0.0   \n",
       "3      1430000.0            154.0  detached-house              370.0   \n",
       "4       995000.0            142.0            flat                0.0   \n",
       "\n",
       "   No. of rooms:  Last refurbishment:  Year built:  Number of floors:  \\\n",
       "0            5.0                  NaN          NaN                1.0   \n",
       "1            5.0                  NaN          NaN                1.0   \n",
       "2            5.0                  NaN          NaN                1.0   \n",
       "3            5.0                  NaN          NaN                1.0   \n",
       "4            5.0                  NaN          NaN                1.0   \n",
       "\n",
       "   region_group  \n",
       "0          60.0  \n",
       "1          60.0  \n",
       "2          60.0  \n",
       "3          60.0  \n",
       "4          60.0  \n",
       "\n",
       "[5 rows x 59 columns]"
      ],
      "text/html": [
       "<div>\n",
       "<style scoped>\n",
       "    .dataframe tbody tr th:only-of-type {\n",
       "        vertical-align: middle;\n",
       "    }\n",
       "\n",
       "    .dataframe tbody tr th {\n",
       "        vertical-align: top;\n",
       "    }\n",
       "\n",
       "    .dataframe thead th {\n",
       "        text-align: right;\n",
       "    }\n",
       "</style>\n",
       "<table border=\"1\" class=\"dataframe\">\n",
       "  <thead>\n",
       "    <tr style=\"text-align: right;\">\n",
       "      <th></th>\n",
       "      <th>Availability</th>\n",
       "      <th>Floor</th>\n",
       "      <th>detail_responsive#surface_usable</th>\n",
       "      <th>Floor_space_merged</th>\n",
       "      <th>ForestDensityL</th>\n",
       "      <th>ForestDensityM</th>\n",
       "      <th>ForestDensityS</th>\n",
       "      <th>NoisePollutionRailwayL</th>\n",
       "      <th>NoisePollutionRailwayM</th>\n",
       "      <th>NoisePollutionRailwayS</th>\n",
       "      <th>...</th>\n",
       "      <th>gde_workers_total</th>\n",
       "      <th>price_cleaned</th>\n",
       "      <th>Space extracted</th>\n",
       "      <th>type_unified</th>\n",
       "      <th>Plot_area_unified</th>\n",
       "      <th>No. of rooms:</th>\n",
       "      <th>Last refurbishment:</th>\n",
       "      <th>Year built:</th>\n",
       "      <th>Number of floors:</th>\n",
       "      <th>region_group</th>\n",
       "    </tr>\n",
       "  </thead>\n",
       "  <tbody>\n",
       "    <tr>\n",
       "      <th>0</th>\n",
       "      <td>On request</td>\n",
       "      <td>4.0</td>\n",
       "      <td>0.0</td>\n",
       "      <td>NaN</td>\n",
       "      <td>0.511176</td>\n",
       "      <td>0.286451</td>\n",
       "      <td>0.090908</td>\n",
       "      <td>0.0</td>\n",
       "      <td>0.0</td>\n",
       "      <td>0.0</td>\n",
       "      <td>...</td>\n",
       "      <td>331.0</td>\n",
       "      <td>1150000.0</td>\n",
       "      <td>100.0</td>\n",
       "      <td>penthouse</td>\n",
       "      <td>0.0</td>\n",
       "      <td>5.0</td>\n",
       "      <td>NaN</td>\n",
       "      <td>NaN</td>\n",
       "      <td>1.0</td>\n",
       "      <td>60.0</td>\n",
       "    </tr>\n",
       "    <tr>\n",
       "      <th>1</th>\n",
       "      <td>On request</td>\n",
       "      <td>0.0</td>\n",
       "      <td>0.0</td>\n",
       "      <td>242.0</td>\n",
       "      <td>0.511176</td>\n",
       "      <td>0.286451</td>\n",
       "      <td>0.090908</td>\n",
       "      <td>0.0</td>\n",
       "      <td>0.0</td>\n",
       "      <td>0.0</td>\n",
       "      <td>...</td>\n",
       "      <td>331.0</td>\n",
       "      <td>1420000.0</td>\n",
       "      <td>156.0</td>\n",
       "      <td>terrace-house</td>\n",
       "      <td>222.0</td>\n",
       "      <td>5.0</td>\n",
       "      <td>NaN</td>\n",
       "      <td>NaN</td>\n",
       "      <td>1.0</td>\n",
       "      <td>60.0</td>\n",
       "    </tr>\n",
       "    <tr>\n",
       "      <th>2</th>\n",
       "      <td>Immediately</td>\n",
       "      <td>2.0</td>\n",
       "      <td>0.0</td>\n",
       "      <td>NaN</td>\n",
       "      <td>0.163362</td>\n",
       "      <td>0.095877</td>\n",
       "      <td>0.001911</td>\n",
       "      <td>0.0</td>\n",
       "      <td>0.0</td>\n",
       "      <td>0.0</td>\n",
       "      <td>...</td>\n",
       "      <td>33493.0</td>\n",
       "      <td>720000.0</td>\n",
       "      <td>93.0</td>\n",
       "      <td>penthouse</td>\n",
       "      <td>0.0</td>\n",
       "      <td>5.0</td>\n",
       "      <td>NaN</td>\n",
       "      <td>NaN</td>\n",
       "      <td>1.0</td>\n",
       "      <td>60.0</td>\n",
       "    </tr>\n",
       "    <tr>\n",
       "      <th>3</th>\n",
       "      <td>On request</td>\n",
       "      <td>0.0</td>\n",
       "      <td>0.0</td>\n",
       "      <td>257.0</td>\n",
       "      <td>0.511176</td>\n",
       "      <td>0.286451</td>\n",
       "      <td>0.090908</td>\n",
       "      <td>0.0</td>\n",
       "      <td>0.0</td>\n",
       "      <td>0.0</td>\n",
       "      <td>...</td>\n",
       "      <td>331.0</td>\n",
       "      <td>1430000.0</td>\n",
       "      <td>154.0</td>\n",
       "      <td>detached-house</td>\n",
       "      <td>370.0</td>\n",
       "      <td>5.0</td>\n",
       "      <td>NaN</td>\n",
       "      <td>NaN</td>\n",
       "      <td>1.0</td>\n",
       "      <td>60.0</td>\n",
       "    </tr>\n",
       "    <tr>\n",
       "      <th>4</th>\n",
       "      <td>On request</td>\n",
       "      <td>0.0</td>\n",
       "      <td>0.0</td>\n",
       "      <td>NaN</td>\n",
       "      <td>0.333865</td>\n",
       "      <td>0.279276</td>\n",
       "      <td>0.145835</td>\n",
       "      <td>0.0</td>\n",
       "      <td>0.0</td>\n",
       "      <td>0.0</td>\n",
       "      <td>...</td>\n",
       "      <td>1355.0</td>\n",
       "      <td>995000.0</td>\n",
       "      <td>142.0</td>\n",
       "      <td>flat</td>\n",
       "      <td>0.0</td>\n",
       "      <td>5.0</td>\n",
       "      <td>NaN</td>\n",
       "      <td>NaN</td>\n",
       "      <td>1.0</td>\n",
       "      <td>60.0</td>\n",
       "    </tr>\n",
       "  </tbody>\n",
       "</table>\n",
       "<p>5 rows × 59 columns</p>\n",
       "</div>"
      ]
     },
     "execution_count": 3,
     "metadata": {},
     "output_type": "execute_result"
    }
   ],
   "execution_count": 3
  },
  {
   "metadata": {
    "ExecuteTime": {
     "end_time": "2025-01-12T09:56:11.542333Z",
     "start_time": "2025-01-12T09:56:11.527049Z"
    }
   },
   "cell_type": "code",
   "source": [
    "df[\"region_group\"] = df[\"region_group\"].astype(\"category\")\n",
    "df[\"type_unified\"] = df[\"type_unified\"].astype(\"category\")\n",
    "df[\"Availability\"] = df[\"Availability\"].astype(\"category\")"
   ],
   "id": "ccbfca3e58a49ee4",
   "outputs": [],
   "execution_count": 4
  },
  {
   "metadata": {
    "ExecuteTime": {
     "end_time": "2025-01-12T09:56:11.665558Z",
     "start_time": "2025-01-12T09:56:11.650715Z"
    }
   },
   "cell_type": "code",
   "source": [
    "X = df.drop(\"price_cleaned\", axis=1)\n",
    "y = df[\"price_cleaned\"]"
   ],
   "id": "532256eaa024fd9",
   "outputs": [],
   "execution_count": 5
  },
  {
   "metadata": {
    "ExecuteTime": {
     "end_time": "2025-01-12T09:57:10.289883Z",
     "start_time": "2025-01-12T09:56:11.804851Z"
    }
   },
   "cell_type": "code",
   "source": [
    "X_train, X_test, y_train, y_test = train_test_split(X, y, test_size=0.2, random_state=42)\n",
    "\n",
    "# Kategorische und numerische Spalten definieren\n",
    "cat_col = ['region_group', 'type_unified', 'Availability']\n",
    "numerical_features = [col for col in df.columns if col not in cat_col + [\"price_cleaned\"]]\n",
    "\n",
    "# Preprocessing für numerische Daten\n",
    "numerical_transformer = Pipeline(steps=[\n",
    "    ('imputer', KNNImputer(n_neighbors=5)),  # Fehlwerte auffüllen\n",
    "    ('scaler', StandardScaler())  # Standardisieren\n",
    "])\n",
    "\n",
    "# Preprocessing für kategorische Daten\n",
    "categorical_transformer = Pipeline(steps=[\n",
    "    ('onehot', OneHotEncoder(handle_unknown='ignore'))  # One-Hot-Encoding\n",
    "])\n",
    "\n",
    "# ColumnTransformer erstellen\n",
    "preprocessor = ColumnTransformer(\n",
    "    transformers=[\n",
    "        ('num', numerical_transformer, numerical_features),\n",
    "        ('cat', categorical_transformer, cat_col)\n",
    "    ]\n",
    ")\n",
    "\n",
    "# Pipeline nur für das Preprocessing erstellen\n",
    "pipeline = Pipeline(steps=[\n",
    "    ('preprocessor', preprocessor)\n",
    "])\n",
    "\n",
    "\n",
    "X_train_transformed = pipeline.fit_transform(X_train)\n",
    "X_test_transformed = pipeline.transform(X_test)"
   ],
   "id": "a3434603fde42af9",
   "outputs": [],
   "execution_count": 6
  },
  {
   "metadata": {},
   "cell_type": "code",
   "source": [
    "# Define the objective function for Optuna\n",
    "def objective(trial):\n",
    "    # Suggest hyperparameters\n",
    "    n_estimators = trial.suggest_int(\"n_estimators\", 50, 500)\n",
    "    learning_rate = trial.suggest_float(\"learning_rate\", 0.01, 1.0, log=True)\n",
    "    max_depth = trial.suggest_int(\"max_depth\", 1, 10)\n",
    "\n",
    "    # Create the base estimator\n",
    "    base_estimator = DecisionTreeRegressor(max_depth=max_depth)\n",
    "\n",
    "    # Create AdaBoostRegressor with the suggested hyperparameters\n",
    "    model = AdaBoostRegressor(\n",
    "        estimator=base_estimator,  # Changed from base_estimator to estimator\n",
    "        n_estimators=n_estimators,\n",
    "        learning_rate=learning_rate,\n",
    "        random_state=42\n",
    "    )\n",
    "\n",
    "\n",
    "    # Use K-Fold Cross Validation if dataset is large enough, otherwise use train-test split\n",
    "    kf = KFold(n_splits=5, shuffle=True, random_state=42)\n",
    "    mape_scores = []\n",
    "\n",
    "    for train_index, val_index in kf.split(X_train_transformed):\n",
    "        X_train_fold, X_val_fold = X_train_transformed[train_index], X_train_transformed[val_index]\n",
    "        y_train_fold, y_val_fold = y_train.iloc[train_index], y_train.iloc[val_index]\n",
    "\n",
    "        # Train the model\n",
    "        model.fit(X_train_fold, y_train_fold)\n",
    "\n",
    "        # Predict on the validation fold\n",
    "        y_pred = model.predict(X_val_fold)\n",
    "\n",
    "        # Evaluate the model using Mean Absolute Percentage Error\n",
    "        mape = mean_absolute_percentage_error(y_val_fold, y_pred)\n",
    "        mape_scores.append(mape)\n",
    "\n",
    "    return sum(mape_scores) / len(mape_scores)\n",
    "\n",
    "# Create a study and optimize the objective function\n",
    "study = optuna.create_study(direction=\"minimize\")\n",
    "study.optimize(objective, n_trials=10, timeout=120)\n",
    "\n",
    "# Output the best hyperparameters and score\n",
    "print(\"Best parameters:\", study.best_params)\n",
    "print(\"Best MAPE:\", study.best_value)"
   ],
   "id": "e55c61cdb3fa93a",
   "outputs": [],
   "execution_count": null
  },
  {
   "metadata": {},
   "cell_type": "code",
   "source": [
    "# Train the best model with the optimal parameters\n",
    "best_params = study.best_params\n",
    "best_model = AdaBoostRegressor(\n",
    "    base_estimator=DecisionTreeRegressor(max_depth=best_params[\"max_depth\"]),\n",
    "    n_estimators=best_params[\"n_estimators\"],\n",
    "    learning_rate=best_params[\"learning_rate\"],\n",
    "    random_state=42\n",
    ")\n",
    "best_model.fit(X_train_transformed, y_train)\n",
    "\n",
    "# Evaluate the final model\n",
    "final_mape = mean_absolute_percentage_error(y_test, best_model.predict(X_test_transformed))\n",
    "print(\"Final MAPE with the best model:\", final_mape)"
   ],
   "id": "af6a3fb8302d24f4",
   "outputs": [],
   "execution_count": null
  },
  {
   "metadata": {},
   "cell_type": "markdown",
   "source": "# Price logaritmiert",
   "id": "a020f2049f01b01a"
  },
  {
   "metadata": {
    "ExecuteTime": {
     "end_time": "2025-01-12T09:57:10.441159Z",
     "start_time": "2025-01-12T09:57:10.430886Z"
    }
   },
   "cell_type": "code",
   "source": [
    "y_test_log = np.log(y_test)\n",
    "y_train_log = np.log(y_train)"
   ],
   "id": "8dd828b44f3f7829",
   "outputs": [],
   "execution_count": 7
  },
  {
   "metadata": {
    "ExecuteTime": {
     "end_time": "2025-01-12T10:22:19.209010Z",
     "start_time": "2025-01-12T10:15:00.133941Z"
    }
   },
   "cell_type": "code",
   "source": [
    "def objective(trial):\n",
    "    # Suggest hyperparameters\n",
    "    n_estimators = trial.suggest_int(\"n_estimators\", 50, 200)\n",
    "    learning_rate = trial.suggest_float(\"learning_rate\", 0.01, 1.0, log=True)\n",
    "    max_depth = trial.suggest_int(\"max_depth\", 1, 10)\n",
    "\n",
    "    # Create the base estimator\n",
    "    base_estimator = DecisionTreeRegressor(max_depth=max_depth)\n",
    "\n",
    "    # Create AdaBoostRegressor with the suggested hyperparameters\n",
    "    model = AdaBoostRegressor(\n",
    "        estimator=base_estimator,  # Changed from base_estimator to estimator\n",
    "        n_estimators=n_estimators,\n",
    "        learning_rate=learning_rate,\n",
    "        random_state=42\n",
    "    )\n",
    "\n",
    "\n",
    "    # Use K-Fold Cross Validation if dataset is large enough, otherwise use train-test split\n",
    "    kf = KFold(n_splits=5, shuffle=True, random_state=42)\n",
    "    mape_scores = []\n",
    "\n",
    "    for train_index, val_index in kf.split(X_train_transformed):\n",
    "        X_train_fold, X_val_fold = X_train_transformed[train_index], X_train_transformed[val_index]\n",
    "        y_train_fold, y_val_fold = y_train_log.iloc[train_index], y_train_log.iloc[val_index]\n",
    "\n",
    "        # Train the model\n",
    "        model.fit(X_train_fold, y_train_fold)\n",
    "\n",
    "        # Predict on the validation fold\n",
    "        y_pred = model.predict(X_val_fold)\n",
    "\n",
    "        # Evaluate the model using Mean Absolute Percentage Error\n",
    "        mape = mean_absolute_percentage_error(np.exp(y_val_fold), np.exp(y_pred))\n",
    "        mape_scores.append(mape)\n",
    "\n",
    "    return sum(mape_scores) / len(mape_scores)\n",
    "\n",
    "# Create a study and optimize the objective function\n",
    "study = optuna.create_study(direction=\"minimize\")\n",
    "study.optimize(objective, n_trials=20, timeout=120)\n",
    "\n",
    "# Output the best hyperparameters and score\n",
    "print(\"Best parameters:\", study.best_params)\n",
    "print(\"Best MAPE:\", study.best_value)\n"
   ],
   "id": "6ab3c41c70ed1a99",
   "outputs": [
    {
     "name": "stderr",
     "output_type": "stream",
     "text": [
      "[I 2025-01-12 11:15:00,149] A new study created in memory with name: no-name-1bfe6661-91d1-499f-8409-82827aa1c24c\n",
      "[I 2025-01-12 11:22:19,202] Trial 0 finished with value: 0.25551756086165794 and parameters: {'n_estimators': 106, 'learning_rate': 0.048839934063016316, 'max_depth': 9}. Best is trial 0 with value: 0.25551756086165794.\n"
     ]
    },
    {
     "name": "stdout",
     "output_type": "stream",
     "text": [
      "Best parameters: {'n_estimators': 106, 'learning_rate': 0.048839934063016316, 'max_depth': 9}\n",
      "Best MAPE: 0.25551756086165794\n"
     ]
    }
   ],
   "execution_count": 19
  },
  {
   "metadata": {
    "ExecuteTime": {
     "end_time": "2025-01-12T10:28:48.434886Z",
     "start_time": "2025-01-12T10:28:48.352464Z"
    }
   },
   "cell_type": "code",
   "source": "optuna.visualization.plot_param_importances(study)",
   "id": "8606251e7da41c6a",
   "outputs": [
    {
     "ename": "ValueError",
     "evalue": "Cannot evaluate parameter importances with only a single trial.",
     "output_type": "error",
     "traceback": [
      "\u001B[1;31m---------------------------------------------------------------------------\u001B[0m",
      "\u001B[1;31mValueError\u001B[0m                                Traceback (most recent call last)",
      "Cell \u001B[1;32mIn[20], line 1\u001B[0m\n\u001B[1;32m----> 1\u001B[0m \u001B[43moptuna\u001B[49m\u001B[38;5;241;43m.\u001B[39;49m\u001B[43mvisualization\u001B[49m\u001B[38;5;241;43m.\u001B[39;49m\u001B[43mplot_param_importances\u001B[49m\u001B[43m(\u001B[49m\u001B[43mstudy\u001B[49m\u001B[43m)\u001B[49m\n",
      "File \u001B[1;32m~\\Documents\\FHNW\\immo_challenge\\venv\\Lib\\site-packages\\optuna\\visualization\\_param_importances.py:168\u001B[0m, in \u001B[0;36mplot_param_importances\u001B[1;34m(study, evaluator, params, target, target_name)\u001B[0m\n\u001B[0;32m    121\u001B[0m \u001B[38;5;250m\u001B[39m\u001B[38;5;124;03m\"\"\"Plot hyperparameter importances.\u001B[39;00m\n\u001B[0;32m    122\u001B[0m \n\u001B[0;32m    123\u001B[0m \u001B[38;5;124;03m.. seealso::\u001B[39;00m\n\u001B[1;32m   (...)\u001B[0m\n\u001B[0;32m    164\u001B[0m \u001B[38;5;124;03m    A :class:`plotly.graph_objects.Figure` object.\u001B[39;00m\n\u001B[0;32m    165\u001B[0m \u001B[38;5;124;03m\"\"\"\u001B[39;00m\n\u001B[0;32m    167\u001B[0m _imports\u001B[38;5;241m.\u001B[39mcheck()\n\u001B[1;32m--> 168\u001B[0m importances_infos \u001B[38;5;241m=\u001B[39m \u001B[43m_get_importances_infos\u001B[49m\u001B[43m(\u001B[49m\u001B[43mstudy\u001B[49m\u001B[43m,\u001B[49m\u001B[43m \u001B[49m\u001B[43mevaluator\u001B[49m\u001B[43m,\u001B[49m\u001B[43m \u001B[49m\u001B[43mparams\u001B[49m\u001B[43m,\u001B[49m\u001B[43m \u001B[49m\u001B[43mtarget\u001B[49m\u001B[43m,\u001B[49m\u001B[43m \u001B[49m\u001B[43mtarget_name\u001B[49m\u001B[43m)\u001B[49m\n\u001B[0;32m    169\u001B[0m \u001B[38;5;28;01mreturn\u001B[39;00m _get_importances_plot(importances_infos, study)\n",
      "File \u001B[1;32m~\\Documents\\FHNW\\immo_challenge\\venv\\Lib\\site-packages\\optuna\\visualization\\_param_importances.py:82\u001B[0m, in \u001B[0;36m_get_importances_infos\u001B[1;34m(study, evaluator, params, target, target_name)\u001B[0m\n\u001B[0;32m     79\u001B[0m \u001B[38;5;28;01mif\u001B[39;00m target \u001B[38;5;129;01mor\u001B[39;00m \u001B[38;5;129;01mnot\u001B[39;00m study\u001B[38;5;241m.\u001B[39m_is_multi_objective():\n\u001B[0;32m     80\u001B[0m     target_name \u001B[38;5;241m=\u001B[39m metric_names[\u001B[38;5;241m0\u001B[39m] \u001B[38;5;28;01mif\u001B[39;00m metric_names \u001B[38;5;129;01mis\u001B[39;00m \u001B[38;5;129;01mnot\u001B[39;00m \u001B[38;5;28;01mNone\u001B[39;00m \u001B[38;5;129;01mand\u001B[39;00m \u001B[38;5;129;01mnot\u001B[39;00m target \u001B[38;5;28;01melse\u001B[39;00m target_name\n\u001B[0;32m     81\u001B[0m     importances_infos: \u001B[38;5;28mtuple\u001B[39m[_ImportancesInfo, \u001B[38;5;241m.\u001B[39m\u001B[38;5;241m.\u001B[39m\u001B[38;5;241m.\u001B[39m] \u001B[38;5;241m=\u001B[39m (\n\u001B[1;32m---> 82\u001B[0m         \u001B[43m_get_importances_info\u001B[49m\u001B[43m(\u001B[49m\n\u001B[0;32m     83\u001B[0m \u001B[43m            \u001B[49m\u001B[43mstudy\u001B[49m\u001B[43m,\u001B[49m\n\u001B[0;32m     84\u001B[0m \u001B[43m            \u001B[49m\u001B[43mevaluator\u001B[49m\u001B[43m,\u001B[49m\n\u001B[0;32m     85\u001B[0m \u001B[43m            \u001B[49m\u001B[43mparams\u001B[49m\u001B[43m,\u001B[49m\n\u001B[0;32m     86\u001B[0m \u001B[43m            \u001B[49m\u001B[43mtarget\u001B[49m\u001B[38;5;241;43m=\u001B[39;49m\u001B[43mtarget\u001B[49m\u001B[43m,\u001B[49m\n\u001B[0;32m     87\u001B[0m \u001B[43m            \u001B[49m\u001B[43mtarget_name\u001B[49m\u001B[38;5;241;43m=\u001B[39;49m\u001B[43mtarget_name\u001B[49m\u001B[43m,\u001B[49m\n\u001B[0;32m     88\u001B[0m \u001B[43m        \u001B[49m\u001B[43m)\u001B[49m,\n\u001B[0;32m     89\u001B[0m     )\n\u001B[0;32m     91\u001B[0m \u001B[38;5;28;01melse\u001B[39;00m:\n\u001B[0;32m     92\u001B[0m     n_objectives \u001B[38;5;241m=\u001B[39m \u001B[38;5;28mlen\u001B[39m(study\u001B[38;5;241m.\u001B[39mdirections)\n",
      "File \u001B[1;32m~\\Documents\\FHNW\\immo_challenge\\venv\\Lib\\site-packages\\optuna\\visualization\\_param_importances.py:54\u001B[0m, in \u001B[0;36m_get_importances_info\u001B[1;34m(study, evaluator, params, target, target_name)\u001B[0m\n\u001B[0;32m     46\u001B[0m     logger\u001B[38;5;241m.\u001B[39mwarning(\u001B[38;5;124m\"\u001B[39m\u001B[38;5;124mStudy instance does not contain completed trials.\u001B[39m\u001B[38;5;124m\"\u001B[39m)\n\u001B[0;32m     47\u001B[0m     \u001B[38;5;28;01mreturn\u001B[39;00m _ImportancesInfo(\n\u001B[0;32m     48\u001B[0m         importance_values\u001B[38;5;241m=\u001B[39m[],\n\u001B[0;32m     49\u001B[0m         param_names\u001B[38;5;241m=\u001B[39m[],\n\u001B[0;32m     50\u001B[0m         importance_labels\u001B[38;5;241m=\u001B[39m[],\n\u001B[0;32m     51\u001B[0m         target_name\u001B[38;5;241m=\u001B[39mtarget_name,\n\u001B[0;32m     52\u001B[0m     )\n\u001B[1;32m---> 54\u001B[0m importances \u001B[38;5;241m=\u001B[39m \u001B[43moptuna\u001B[49m\u001B[38;5;241;43m.\u001B[39;49m\u001B[43mimportance\u001B[49m\u001B[38;5;241;43m.\u001B[39;49m\u001B[43mget_param_importances\u001B[49m\u001B[43m(\u001B[49m\n\u001B[0;32m     55\u001B[0m \u001B[43m    \u001B[49m\u001B[43mstudy\u001B[49m\u001B[43m,\u001B[49m\u001B[43m \u001B[49m\u001B[43mevaluator\u001B[49m\u001B[38;5;241;43m=\u001B[39;49m\u001B[43mevaluator\u001B[49m\u001B[43m,\u001B[49m\u001B[43m \u001B[49m\u001B[43mparams\u001B[49m\u001B[38;5;241;43m=\u001B[39;49m\u001B[43mparams\u001B[49m\u001B[43m,\u001B[49m\u001B[43m \u001B[49m\u001B[43mtarget\u001B[49m\u001B[38;5;241;43m=\u001B[39;49m\u001B[43mtarget\u001B[49m\n\u001B[0;32m     56\u001B[0m \u001B[43m\u001B[49m\u001B[43m)\u001B[49m\n\u001B[0;32m     58\u001B[0m importances \u001B[38;5;241m=\u001B[39m \u001B[38;5;28mdict\u001B[39m(\u001B[38;5;28mreversed\u001B[39m(\u001B[38;5;28mlist\u001B[39m(importances\u001B[38;5;241m.\u001B[39mitems())))\n\u001B[0;32m     59\u001B[0m importance_values \u001B[38;5;241m=\u001B[39m \u001B[38;5;28mlist\u001B[39m(importances\u001B[38;5;241m.\u001B[39mvalues())\n",
      "File \u001B[1;32m~\\Documents\\FHNW\\immo_challenge\\venv\\Lib\\site-packages\\optuna\\importance\\__init__.py:111\u001B[0m, in \u001B[0;36mget_param_importances\u001B[1;34m(study, evaluator, params, target, normalize)\u001B[0m\n\u001B[0;32m    108\u001B[0m \u001B[38;5;28;01mif\u001B[39;00m \u001B[38;5;129;01mnot\u001B[39;00m \u001B[38;5;28misinstance\u001B[39m(evaluator, BaseImportanceEvaluator):\n\u001B[0;32m    109\u001B[0m     \u001B[38;5;28;01mraise\u001B[39;00m \u001B[38;5;167;01mTypeError\u001B[39;00m(\u001B[38;5;124m\"\u001B[39m\u001B[38;5;124mEvaluator must be a subclass of BaseImportanceEvaluator.\u001B[39m\u001B[38;5;124m\"\u001B[39m)\n\u001B[1;32m--> 111\u001B[0m res \u001B[38;5;241m=\u001B[39m \u001B[43mevaluator\u001B[49m\u001B[38;5;241;43m.\u001B[39;49m\u001B[43mevaluate\u001B[49m\u001B[43m(\u001B[49m\u001B[43mstudy\u001B[49m\u001B[43m,\u001B[49m\u001B[43m \u001B[49m\u001B[43mparams\u001B[49m\u001B[38;5;241;43m=\u001B[39;49m\u001B[43mparams\u001B[49m\u001B[43m,\u001B[49m\u001B[43m \u001B[49m\u001B[43mtarget\u001B[49m\u001B[38;5;241;43m=\u001B[39;49m\u001B[43mtarget\u001B[49m\u001B[43m)\u001B[49m\n\u001B[0;32m    112\u001B[0m \u001B[38;5;28;01mif\u001B[39;00m normalize:\n\u001B[0;32m    113\u001B[0m     s \u001B[38;5;241m=\u001B[39m \u001B[38;5;28msum\u001B[39m(res\u001B[38;5;241m.\u001B[39mvalues())\n",
      "File \u001B[1;32m~\\Documents\\FHNW\\immo_challenge\\venv\\Lib\\site-packages\\optuna\\importance\\_fanova\\_evaluator.py:89\u001B[0m, in \u001B[0;36mFanovaImportanceEvaluator.evaluate\u001B[1;34m(self, study, params, target)\u001B[0m\n\u001B[0;32m     82\u001B[0m \u001B[38;5;28;01mif\u001B[39;00m target \u001B[38;5;129;01mis\u001B[39;00m \u001B[38;5;28;01mNone\u001B[39;00m \u001B[38;5;129;01mand\u001B[39;00m study\u001B[38;5;241m.\u001B[39m_is_multi_objective():\n\u001B[0;32m     83\u001B[0m     \u001B[38;5;28;01mraise\u001B[39;00m \u001B[38;5;167;01mValueError\u001B[39;00m(\n\u001B[0;32m     84\u001B[0m         \u001B[38;5;124m\"\u001B[39m\u001B[38;5;124mIf the `study` is being used for multi-objective optimization, \u001B[39m\u001B[38;5;124m\"\u001B[39m\n\u001B[0;32m     85\u001B[0m         \u001B[38;5;124m\"\u001B[39m\u001B[38;5;124mplease specify the `target`. For example, use \u001B[39m\u001B[38;5;124m\"\u001B[39m\n\u001B[0;32m     86\u001B[0m         \u001B[38;5;124m\"\u001B[39m\u001B[38;5;124m`target=lambda t: t.values[0]` for the first objective value.\u001B[39m\u001B[38;5;124m\"\u001B[39m\n\u001B[0;32m     87\u001B[0m     )\n\u001B[1;32m---> 89\u001B[0m distributions \u001B[38;5;241m=\u001B[39m \u001B[43m_get_distributions\u001B[49m\u001B[43m(\u001B[49m\u001B[43mstudy\u001B[49m\u001B[43m,\u001B[49m\u001B[43m \u001B[49m\u001B[43mparams\u001B[49m\u001B[38;5;241;43m=\u001B[39;49m\u001B[43mparams\u001B[49m\u001B[43m)\u001B[49m\n\u001B[0;32m     90\u001B[0m \u001B[38;5;28;01mif\u001B[39;00m params \u001B[38;5;129;01mis\u001B[39;00m \u001B[38;5;28;01mNone\u001B[39;00m:\n\u001B[0;32m     91\u001B[0m     params \u001B[38;5;241m=\u001B[39m \u001B[38;5;28mlist\u001B[39m(distributions\u001B[38;5;241m.\u001B[39mkeys())\n",
      "File \u001B[1;32m~\\Documents\\FHNW\\immo_challenge\\venv\\Lib\\site-packages\\optuna\\importance\\_base.py:69\u001B[0m, in \u001B[0;36m_get_distributions\u001B[1;34m(study, params)\u001B[0m\n\u001B[0;32m     67\u001B[0m \u001B[38;5;28;01mdef\u001B[39;00m \u001B[38;5;21m_get_distributions\u001B[39m(study: Study, params: \u001B[38;5;28mlist\u001B[39m[\u001B[38;5;28mstr\u001B[39m] \u001B[38;5;241m|\u001B[39m \u001B[38;5;28;01mNone\u001B[39;00m) \u001B[38;5;241m-\u001B[39m\u001B[38;5;241m>\u001B[39m \u001B[38;5;28mdict\u001B[39m[\u001B[38;5;28mstr\u001B[39m, BaseDistribution]:\n\u001B[0;32m     68\u001B[0m     completed_trials \u001B[38;5;241m=\u001B[39m study\u001B[38;5;241m.\u001B[39mget_trials(deepcopy\u001B[38;5;241m=\u001B[39m\u001B[38;5;28;01mFalse\u001B[39;00m, states\u001B[38;5;241m=\u001B[39m(TrialState\u001B[38;5;241m.\u001B[39mCOMPLETE,))\n\u001B[1;32m---> 69\u001B[0m     \u001B[43m_check_evaluate_args\u001B[49m\u001B[43m(\u001B[49m\u001B[43mcompleted_trials\u001B[49m\u001B[43m,\u001B[49m\u001B[43m \u001B[49m\u001B[43mparams\u001B[49m\u001B[43m)\u001B[49m\n\u001B[0;32m     71\u001B[0m     \u001B[38;5;28;01mif\u001B[39;00m params \u001B[38;5;129;01mis\u001B[39;00m \u001B[38;5;28;01mNone\u001B[39;00m:\n\u001B[0;32m     72\u001B[0m         \u001B[38;5;28;01mreturn\u001B[39;00m intersection_search_space(study\u001B[38;5;241m.\u001B[39mget_trials(deepcopy\u001B[38;5;241m=\u001B[39m\u001B[38;5;28;01mFalse\u001B[39;00m))\n",
      "File \u001B[1;32m~\\Documents\\FHNW\\immo_challenge\\venv\\Lib\\site-packages\\optuna\\importance\\_base.py:114\u001B[0m, in \u001B[0;36m_check_evaluate_args\u001B[1;34m(completed_trials, params)\u001B[0m\n\u001B[0;32m    112\u001B[0m     \u001B[38;5;28;01mraise\u001B[39;00m \u001B[38;5;167;01mValueError\u001B[39;00m(\u001B[38;5;124m\"\u001B[39m\u001B[38;5;124mCannot evaluate parameter importances without completed trials.\u001B[39m\u001B[38;5;124m\"\u001B[39m)\n\u001B[0;32m    113\u001B[0m \u001B[38;5;28;01mif\u001B[39;00m \u001B[38;5;28mlen\u001B[39m(completed_trials) \u001B[38;5;241m==\u001B[39m \u001B[38;5;241m1\u001B[39m:\n\u001B[1;32m--> 114\u001B[0m     \u001B[38;5;28;01mraise\u001B[39;00m \u001B[38;5;167;01mValueError\u001B[39;00m(\u001B[38;5;124m\"\u001B[39m\u001B[38;5;124mCannot evaluate parameter importances with only a single trial.\u001B[39m\u001B[38;5;124m\"\u001B[39m)\n\u001B[0;32m    116\u001B[0m \u001B[38;5;28;01mif\u001B[39;00m params \u001B[38;5;129;01mis\u001B[39;00m \u001B[38;5;129;01mnot\u001B[39;00m \u001B[38;5;28;01mNone\u001B[39;00m:\n\u001B[0;32m    117\u001B[0m     \u001B[38;5;28;01mif\u001B[39;00m \u001B[38;5;129;01mnot\u001B[39;00m \u001B[38;5;28misinstance\u001B[39m(params, (\u001B[38;5;28mlist\u001B[39m, \u001B[38;5;28mtuple\u001B[39m)):\n",
      "\u001B[1;31mValueError\u001B[0m: Cannot evaluate parameter importances with only a single trial."
     ]
    }
   ],
   "execution_count": 20
  },
  {
   "metadata": {
    "ExecuteTime": {
     "end_time": "2025-01-12T10:29:46.012148Z",
     "start_time": "2025-01-12T10:28:49.130775Z"
    }
   },
   "cell_type": "code",
   "source": [
    "# Train the best model with the optimal parameters\n",
    "best_params = study.best_params\n",
    "best_model = AdaBoostRegressor(\n",
    "    estimator=DecisionTreeRegressor(max_depth=best_params[\"max_depth\"]),\n",
    "    n_estimators=best_params[\"n_estimators\"],\n",
    "    learning_rate=best_params[\"learning_rate\"],\n",
    "    random_state=42\n",
    ")\n",
    "best_model.fit(X_train_transformed, y_train_log)\n",
    "\n",
    "# Evaluate the final model\n",
    "test_mape = mean_absolute_percentage_error(y_test, np.exp(best_model.predict(X_test_transformed)))\n",
    "print(\"Final MAPE with the best model:\", test_mape)\n"
   ],
   "id": "2f8a580a415a10d",
   "outputs": [
    {
     "name": "stdout",
     "output_type": "stream",
     "text": [
      "Final MAPE with the best model: 0.3012302260088983\n"
     ]
    }
   ],
   "execution_count": 21
  },
  {
   "metadata": {
    "ExecuteTime": {
     "end_time": "2025-01-12T10:29:46.095448Z",
     "start_time": "2025-01-12T10:29:46.082739Z"
    }
   },
   "cell_type": "code",
   "source": [
    "def get_feature_names(preprocessor):\n",
    "    # Extract numerical feature names\n",
    "    num_features = numerical_features\n",
    "\n",
    "    # Extract categorical feature names after one-hot encoding\n",
    "    cat_features = preprocessor.named_transformers_['cat']['onehot'].get_feature_names_out(cat_col)\n",
    "\n",
    "    # Combine both\n",
    "    return np.concatenate([num_features, cat_features])\n",
    "\n",
    "# Extract feature names\n",
    "feature_names = get_feature_names(preprocessor)\n",
    "\n",
    "# Create a DataFrame with feature importances\n",
    "feature_importance_df = pd.DataFrame({\n",
    "    'Feature': feature_names,\n",
    "    'Importance': best_model.feature_importances_\n",
    "}).sort_values(by='Importance', ascending=False)\n",
    "\n",
    "feature_importance_df = feature_importance_df.sort_values(by='Importance', ascending=False)\n",
    "top10_importance = feature_importance_df.head(10)"
   ],
   "id": "f9dafc337e324793",
   "outputs": [],
   "execution_count": 22
  },
  {
   "metadata": {
    "ExecuteTime": {
     "end_time": "2025-01-12T10:29:46.312956Z",
     "start_time": "2025-01-12T10:29:46.101082Z"
    }
   },
   "cell_type": "code",
   "source": [
    "plt.figure(figsize=(10, 6))\n",
    "plt.barh(top10_importance['Feature'], top10_importance['Importance'])\n",
    "plt.xlabel('Importance')\n",
    "plt.ylabel('Feature')\n",
    "plt.title('Top-10 Feature Importances AdaBoost')\n",
    "plt.gca().invert_yaxis()  # Most important at the top\n",
    "plt.show()"
   ],
   "id": "16aee5d134ae5d29",
   "outputs": [
    {
     "data": {
      "text/plain": [
       "<Figure size 1000x600 with 1 Axes>"
      ],
      "image/png": "[encoded data removed]"
     },
     "metadata": {},
     "output_type": "display_data"
    }
   ],
   "execution_count": 23
  },
  {
   "metadata": {
    "ExecuteTime": {
     "end_time": "2025-01-12T10:30:20.909451Z",
     "start_time": "2025-01-12T10:30:19.871818Z"
    }
   },
   "cell_type": "code",
   "source": [
    "train_mape = mean_absolute_percentage_error(np.exp(y_train_log), np.exp(best_model.predict(X_train_transformed)))\n",
    "#plot mape\n",
    "plt.figure(figsize=(8, 5))\n",
    "plt.bar([\"Train\", \"Test\"], [train_mape, test_mape])\n",
    "plt.ylabel(\"MAPE\")\n",
    "plt.title(\"Train/ Test MAPE AdaBoost\")\n",
    "plt.show()\n"
   ],
   "id": "f18d2e20640cc8fa",
   "outputs": [
    {
     "data": {
      "text/plain": [
       "<Figure size 800x500 with 1 Axes>"
      ],
      "image/png": "[encoded data removed]"
     },
     "metadata": {},
     "output_type": "display_data"
    }
   ],
   "execution_count": 24
  },
  {
   "metadata": {},
   "cell_type": "markdown",
   "source": "# Mehr Hyperparameter",
   "id": "6fa4beeca3f6e76"
  },
  {
   "metadata": {},
   "cell_type": "code",
   "source": [
    "def objective(trial):\n",
    "    n_estimators = trial.suggest_int(\"n_estimators\", 50, 1000)\n",
    "    learning_rate = trial.suggest_float(\"learning_rate\", 0.001, 1.0, log=True)\n",
    "    max_depth = trial.suggest_int(\"max_depth\", 2, 20)\n",
    "    min_samples_split = trial.suggest_int(\"min_samples_split\", 2, 20)\n",
    "    min_samples_leaf = trial.suggest_int(\"min_samples_leaf\", 1, 20)\n",
    "    max_features = trial.suggest_categorical(\"max_features\", [\"sqrt\", \"log2\", None])\n",
    "\n",
    "    # Create the base estimator\n",
    "    base_estimator = DecisionTreeRegressor(\n",
    "        max_depth=max_depth,\n",
    "        min_samples_split=min_samples_split,\n",
    "        min_samples_leaf=min_samples_leaf,\n",
    "        max_features=max_features\n",
    "    )\n",
    "\n",
    "    # Create AdaBoostRegressor\n",
    "    model = AdaBoostRegressor(\n",
    "        estimator=base_estimator,\n",
    "        n_estimators=n_estimators,\n",
    "        learning_rate=learning_rate,\n",
    "        random_state=42\n",
    "    )\n",
    "\n",
    "\n",
    "    # Use K-Fold Cross Validation if dataset is large enough, otherwise use train-test split\n",
    "    kf = KFold(n_splits=5, shuffle=True, random_state=42)\n",
    "    mape_scores = []\n",
    "\n",
    "    for train_index, val_index in kf.split(X_train_transformed):\n",
    "        X_train_fold, X_val_fold = X_train_transformed[train_index], X_train_transformed[val_index]\n",
    "        y_train_fold, y_val_fold = y_train_log.iloc[train_index], y_train_log.iloc[val_index]\n",
    "\n",
    "        # Train the model\n",
    "        model.fit(X_train_fold, y_train_fold)\n",
    "\n",
    "        # Predict on the validation fold\n",
    "        y_pred = model.predict(X_val_fold)\n",
    "\n",
    "        # Evaluate the model using Mean Absolute Percentage Error\n",
    "        mape = mean_absolute_percentage_error(np.exp(y_val_fold), np.exp(y_pred))\n",
    "        mape_scores.append(mape)\n",
    "\n",
    "    return sum(mape_scores) / len(mape_scores)\n",
    "\n",
    "# Create a study and optimize the objective function\n",
    "study = optuna.create_study(direction=\"minimize\")\n",
    "study.optimize(objective, n_trials=20, timeout=180)\n",
    "\n",
    "# Output the best hyperparameters and score\n",
    "print(\"Best parameters:\", study.best_params)\n",
    "print(\"Best MAPE:\", study.best_value)\n"
   ],
   "id": "3b059a09f5e5eae5",
   "outputs": [],
   "execution_count": null
  },
  {
   "metadata": {},
   "cell_type": "markdown",
   "source": "# Kaggle Wetbewerb",
   "id": "a060b401b3b20c45"
  },
  {
   "metadata": {},
   "cell_type": "code",
   "source": [
    "df_kaggle = dp.prepare_kaggle_dataset(\n",
    "    filePath=\"../data/test_data-Kaggle-v0.11.csv\",\n",
    "    imputer=None,\n",
    "    normalizeAndStandardize=False,\n",
    "    basic_house_imputer=True,\n",
    "    get_dummies=False\n",
    ")\n",
    "df_kaggle.head()"
   ],
   "id": "4876003b1a50e855",
   "outputs": [],
   "execution_count": null
  },
  {
   "metadata": {},
   "cell_type": "code",
   "source": "df_kaggle = df_kaggle.drop(['Type:', 'Hall height:'], axis=1)",
   "id": "a4727c8a83139058",
   "outputs": [],
   "execution_count": null
  },
  {
   "metadata": {},
   "cell_type": "code",
   "source": [
    "df_kaggle[\"region_group\"] = df_kaggle[\"region_group\"].astype(\"category\")\n",
    "df_kaggle[\"type_unified\"] = df_kaggle[\"type_unified\"].astype(\"category\")\n",
    "df_kaggle[\"Availability\"] = df_kaggle[\"Availability\"].astype(\"category\")"
   ],
   "id": "e01a57f8e73734bc",
   "outputs": [],
   "execution_count": null
  },
  {
   "metadata": {},
   "cell_type": "code",
   "source": [
    "X_kaggle = df_kaggle\n",
    "X_kaggle_transformed = pipeline.transform(X_kaggle)"
   ],
   "id": "844f33bc44b463cf",
   "outputs": [],
   "execution_count": null
  },
  {
   "metadata": {},
   "cell_type": "code",
   "source": [
    "from src.utils.helperFunctions import create_kaggle_results\n",
    "\n",
    "results = best_model.predict(X_kaggle_transformed)\n",
    "results = np.exp(results)\n",
    "create_kaggle_results(results, path_to_kaggledata=\"../data/test_data-Kaggle-v0.11.csv\", csv_name='adaboost_log_price.csv')"
   ],
   "id": "5570884b1e4893ce",
   "outputs": [],
   "execution_count": null
  },
  {
   "metadata": {},
   "cell_type": "code",
   "source": "",
   "id": "e2d09e12bc817c25",
   "outputs": [],
   "execution_count": null
  }
 ],
 "metadata": {
  "kernelspec": {
   "display_name": "Python 3",
   "language": "python",
   "name": "python3"
  },
  "language_info": {
   "codemirror_mode": {
    "name": "ipython",
    "version": 2
   },
   "file_extension": ".py",
   "mimetype": "text/x-python",
   "name": "python",
   "nbconvert_exporter": "python",
   "pygments_lexer": "ipython2",
   "version": "2.7.6"
  }
 },
 "nbformat": 4,
 "nbformat_minor": 5
}

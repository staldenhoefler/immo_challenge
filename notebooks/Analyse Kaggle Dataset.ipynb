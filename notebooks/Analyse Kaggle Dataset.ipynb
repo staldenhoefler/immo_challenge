{
 "cells": [
  {
   "cell_type": "code",
   "outputs": [
    {
     "name": "stderr",
     "output_type": "stream",
     "text": [
      "C:\\Users\\denis\\AppData\\Local\\Temp\\ipykernel_41384\\3698658165.py:4: DtypeWarning: Columns (3,4,5,6,11,13,14,15,16,17,18,19,20,21,22,23,24,25,26,27,28,29,30,31,32,33,34,35,36,37,38,39,40,41,42,43,45,46,48,49,104,111,112,115,116,117,120,121,122,124,127,128,130,131) have mixed types. Specify dtype option on import or set low_memory=False.\n",
      "  df_test_kaggle = pd.read_csv('../data/test_data-Kaggle-v0.11.csv')\n"
     ]
    }
   ],
   "source": [
    "import pandas as pd\n",
    "import matplotlib.pyplot as plt\n",
    "\n",
    "df_test_kaggle = pd.read_csv('../data/test_data-Kaggle-v0.11.csv')"
   ],
   "metadata": {
    "collapsed": false,
    "ExecuteTime": {
     "end_time": "2024-12-20T08:32:16.888861200Z",
     "start_time": "2024-12-20T08:32:15.180544300Z"
    }
   },
   "id": "9728e779ffaad220",
   "execution_count": 26
  },
  {
   "cell_type": "code",
   "outputs": [
    {
     "data": {
      "text/plain": "       Unnamed: 0.1    Unnamed: 0           lat           lon         index  \\\ncount  24556.000000  24556.000000  24556.000000  24556.000000  24556.000000   \nmean   12281.348917  12281.348917     46.759035      7.949025  41755.119075   \nstd     7092.250375   7092.250375      0.547245      0.957995  26649.266834   \nmin        0.000000      0.000000     45.825091      5.971927      7.000000   \n25%     6139.750000   6139.750000     46.218276      7.133160  18853.000000   \n50%    12279.500000  12279.500000     46.771719      7.935144  41397.500000   \n75%    18423.250000  18423.250000     47.292799      8.891711  67813.000000   \nmax    24565.000000  24565.000000     47.793642     10.474655  84748.000000   \n\n       ForestDensityL  ForestDensityM  ForestDensityS      Latitude  \\\ncount    24556.000000    24556.000000    24556.000000  24556.000000   \nmean         0.221945        0.147896        0.090304     46.759079   \nstd          0.208954        0.190445        0.167288      0.547266   \nmin          0.000000        0.000000        0.000000     45.823861   \n25%          0.038104        0.000000        0.000000     46.218669   \n50%          0.157835        0.054028        0.000000     46.771666   \n75%          0.360398        0.243687        0.092069     47.293157   \nmax          0.932371        1.000000        1.000000     47.793484   \n\n          Longitude  ...  Plot_area_unified  Living_area_unified  \\\ncount  24556.000000  ...       9.276000e+03         22431.000000   \nmean       7.949493  ...       9.733515e+03           154.680710   \nstd        0.957776  ...       8.402658e+05           117.899645   \nmin        5.971354  ...       1.000000e+00             1.000000   \n25%        7.132040  ...       3.260000e+02            97.000000   \n50%        7.935004  ...       5.820000e+02           129.000000   \n75%        8.894112  ...       9.990000e+02           180.000000   \nmax       10.445192  ...       8.092808e+07          4362.000000   \n\n       No. of rooms:  Number of apartments:  Last refurbishment:  Year built:  \\\ncount   11506.000000            1630.000000          2924.000000  9265.000000   \nmean        5.150356               4.979141          2013.287620  1984.011333   \nstd         2.471891               6.351737            10.385572    61.624263   \nmin         1.000000               1.000000          1900.000000  1021.000000   \n25%         3.500000               1.000000          2010.000000  1974.000000   \n50%         4.500000               3.000000          2016.000000  2005.000000   \n75%         5.500000               7.000000          2020.000000  2022.000000   \nmax        42.000000              85.000000          2024.000000  2025.000000   \n\n       Number of floors:           plz  Number of toilets:  space_cleaned  \ncount        3834.000000  24556.000000               261.0   13038.000000  \nmean            2.849765   4744.987009                 1.0     157.479138  \nstd             1.349790   2588.112192                 0.0     178.174524  \nmin             1.000000   1000.000000                 1.0       0.000000  \n25%             2.000000   1955.000000                 1.0      95.000000  \n50%             3.000000   4710.000000                 1.0     128.000000  \n75%             3.000000   6850.000000                 1.0     177.000000  \nmax            24.000000   9658.000000                 1.0    8071.000000  \n\n[8 rows x 66 columns]",
      "text/html": "<div>\n<style scoped>\n    .dataframe tbody tr th:only-of-type {\n        vertical-align: middle;\n    }\n\n    .dataframe tbody tr th {\n        vertical-align: top;\n    }\n\n    .dataframe thead th {\n        text-align: right;\n    }\n</style>\n<table border=\"1\" class=\"dataframe\">\n  <thead>\n    <tr style=\"text-align: right;\">\n      <th></th>\n      <th>Unnamed: 0.1</th>\n      <th>Unnamed: 0</th>\n      <th>lat</th>\n      <th>lon</th>\n      <th>index</th>\n      <th>ForestDensityL</th>\n      <th>ForestDensityM</th>\n      <th>ForestDensityS</th>\n      <th>Latitude</th>\n      <th>Longitude</th>\n      <th>...</th>\n      <th>Plot_area_unified</th>\n      <th>Living_area_unified</th>\n      <th>No. of rooms:</th>\n      <th>Number of apartments:</th>\n      <th>Last refurbishment:</th>\n      <th>Year built:</th>\n      <th>Number of floors:</th>\n      <th>plz</th>\n      <th>Number of toilets:</th>\n      <th>space_cleaned</th>\n    </tr>\n  </thead>\n  <tbody>\n    <tr>\n      <th>count</th>\n      <td>24556.000000</td>\n      <td>24556.000000</td>\n      <td>24556.000000</td>\n      <td>24556.000000</td>\n      <td>24556.000000</td>\n      <td>24556.000000</td>\n      <td>24556.000000</td>\n      <td>24556.000000</td>\n      <td>24556.000000</td>\n      <td>24556.000000</td>\n      <td>...</td>\n      <td>9.276000e+03</td>\n      <td>22431.000000</td>\n      <td>11506.000000</td>\n      <td>1630.000000</td>\n      <td>2924.000000</td>\n      <td>9265.000000</td>\n      <td>3834.000000</td>\n      <td>24556.000000</td>\n      <td>261.0</td>\n      <td>13038.000000</td>\n    </tr>\n    <tr>\n      <th>mean</th>\n      <td>12281.348917</td>\n      <td>12281.348917</td>\n      <td>46.759035</td>\n      <td>7.949025</td>\n      <td>41755.119075</td>\n      <td>0.221945</td>\n      <td>0.147896</td>\n      <td>0.090304</td>\n      <td>46.759079</td>\n      <td>7.949493</td>\n      <td>...</td>\n      <td>9.733515e+03</td>\n      <td>154.680710</td>\n      <td>5.150356</td>\n      <td>4.979141</td>\n      <td>2013.287620</td>\n      <td>1984.011333</td>\n      <td>2.849765</td>\n      <td>4744.987009</td>\n      <td>1.0</td>\n      <td>157.479138</td>\n    </tr>\n    <tr>\n      <th>std</th>\n      <td>7092.250375</td>\n      <td>7092.250375</td>\n      <td>0.547245</td>\n      <td>0.957995</td>\n      <td>26649.266834</td>\n      <td>0.208954</td>\n      <td>0.190445</td>\n      <td>0.167288</td>\n      <td>0.547266</td>\n      <td>0.957776</td>\n      <td>...</td>\n      <td>8.402658e+05</td>\n      <td>117.899645</td>\n      <td>2.471891</td>\n      <td>6.351737</td>\n      <td>10.385572</td>\n      <td>61.624263</td>\n      <td>1.349790</td>\n      <td>2588.112192</td>\n      <td>0.0</td>\n      <td>178.174524</td>\n    </tr>\n    <tr>\n      <th>min</th>\n      <td>0.000000</td>\n      <td>0.000000</td>\n      <td>45.825091</td>\n      <td>5.971927</td>\n      <td>7.000000</td>\n      <td>0.000000</td>\n      <td>0.000000</td>\n      <td>0.000000</td>\n      <td>45.823861</td>\n      <td>5.971354</td>\n      <td>...</td>\n      <td>1.000000e+00</td>\n      <td>1.000000</td>\n      <td>1.000000</td>\n      <td>1.000000</td>\n      <td>1900.000000</td>\n      <td>1021.000000</td>\n      <td>1.000000</td>\n      <td>1000.000000</td>\n      <td>1.0</td>\n      <td>0.000000</td>\n    </tr>\n    <tr>\n      <th>25%</th>\n      <td>6139.750000</td>\n      <td>6139.750000</td>\n      <td>46.218276</td>\n      <td>7.133160</td>\n      <td>18853.000000</td>\n      <td>0.038104</td>\n      <td>0.000000</td>\n      <td>0.000000</td>\n      <td>46.218669</td>\n      <td>7.132040</td>\n      <td>...</td>\n      <td>3.260000e+02</td>\n      <td>97.000000</td>\n      <td>3.500000</td>\n      <td>1.000000</td>\n      <td>2010.000000</td>\n      <td>1974.000000</td>\n      <td>2.000000</td>\n      <td>1955.000000</td>\n      <td>1.0</td>\n      <td>95.000000</td>\n    </tr>\n    <tr>\n      <th>50%</th>\n      <td>12279.500000</td>\n      <td>12279.500000</td>\n      <td>46.771719</td>\n      <td>7.935144</td>\n      <td>41397.500000</td>\n      <td>0.157835</td>\n      <td>0.054028</td>\n      <td>0.000000</td>\n      <td>46.771666</td>\n      <td>7.935004</td>\n      <td>...</td>\n      <td>5.820000e+02</td>\n      <td>129.000000</td>\n      <td>4.500000</td>\n      <td>3.000000</td>\n      <td>2016.000000</td>\n      <td>2005.000000</td>\n      <td>3.000000</td>\n      <td>4710.000000</td>\n      <td>1.0</td>\n      <td>128.000000</td>\n    </tr>\n    <tr>\n      <th>75%</th>\n      <td>18423.250000</td>\n      <td>18423.250000</td>\n      <td>47.292799</td>\n      <td>8.891711</td>\n      <td>67813.000000</td>\n      <td>0.360398</td>\n      <td>0.243687</td>\n      <td>0.092069</td>\n      <td>47.293157</td>\n      <td>8.894112</td>\n      <td>...</td>\n      <td>9.990000e+02</td>\n      <td>180.000000</td>\n      <td>5.500000</td>\n      <td>7.000000</td>\n      <td>2020.000000</td>\n      <td>2022.000000</td>\n      <td>3.000000</td>\n      <td>6850.000000</td>\n      <td>1.0</td>\n      <td>177.000000</td>\n    </tr>\n    <tr>\n      <th>max</th>\n      <td>24565.000000</td>\n      <td>24565.000000</td>\n      <td>47.793642</td>\n      <td>10.474655</td>\n      <td>84748.000000</td>\n      <td>0.932371</td>\n      <td>1.000000</td>\n      <td>1.000000</td>\n      <td>47.793484</td>\n      <td>10.445192</td>\n      <td>...</td>\n      <td>8.092808e+07</td>\n      <td>4362.000000</td>\n      <td>42.000000</td>\n      <td>85.000000</td>\n      <td>2024.000000</td>\n      <td>2025.000000</td>\n      <td>24.000000</td>\n      <td>9658.000000</td>\n      <td>1.0</td>\n      <td>8071.000000</td>\n    </tr>\n  </tbody>\n</table>\n<p>8 rows × 66 columns</p>\n</div>"
     },
     "execution_count": 2,
     "metadata": {},
     "output_type": "execute_result"
    }
   ],
   "source": [
    "df_test_kaggle.describe()"
   ],
   "metadata": {
    "collapsed": false,
    "ExecuteTime": {
     "end_time": "2024-12-18T08:00:44.085266Z",
     "start_time": "2024-12-18T08:00:43.926794100Z"
    }
   },
   "id": "3dd726684b5850eb",
   "execution_count": 2
  },
  {
   "cell_type": "code",
   "outputs": [
    {
     "data": {
      "text/plain": "     Unnamed: 0.1  Unnamed: 0 Municipality Living space Plot area Floor space  \\\n450           450         450          NaN          NaN       NaN         NaN   \n\n    Availability             location  \\\n450          NaN  5612 Villmergen, AG   \n\n                                           description  \\\n450  4193 m²«Bauland mit bewilligtem Projekt» detai...   \n\n                                  detailed_description  ... Floor space:  \\\n450  detail_responsive#description_titleWillkommen ...  ...          NaN   \n\n    Number of floors: Volume:     plz Number of toilets: Gross yield:  \\\n450               NaN     NaN  5612.0                NaN          NaN   \n\n    Minimum floor space: space_cleaned Type: Hall height:  \n450                  NaN        4193.0   NaN          NaN  \n\n[1 rows x 132 columns]",
      "text/html": "<div>\n<style scoped>\n    .dataframe tbody tr th:only-of-type {\n        vertical-align: middle;\n    }\n\n    .dataframe tbody tr th {\n        vertical-align: top;\n    }\n\n    .dataframe thead th {\n        text-align: right;\n    }\n</style>\n<table border=\"1\" class=\"dataframe\">\n  <thead>\n    <tr style=\"text-align: right;\">\n      <th></th>\n      <th>Unnamed: 0.1</th>\n      <th>Unnamed: 0</th>\n      <th>Municipality</th>\n      <th>Living space</th>\n      <th>Plot area</th>\n      <th>Floor space</th>\n      <th>Availability</th>\n      <th>location</th>\n      <th>description</th>\n      <th>detailed_description</th>\n      <th>...</th>\n      <th>Floor space:</th>\n      <th>Number of floors:</th>\n      <th>Volume:</th>\n      <th>plz</th>\n      <th>Number of toilets:</th>\n      <th>Gross yield:</th>\n      <th>Minimum floor space:</th>\n      <th>space_cleaned</th>\n      <th>Type:</th>\n      <th>Hall height:</th>\n    </tr>\n  </thead>\n  <tbody>\n    <tr>\n      <th>450</th>\n      <td>450</td>\n      <td>450</td>\n      <td>NaN</td>\n      <td>NaN</td>\n      <td>NaN</td>\n      <td>NaN</td>\n      <td>NaN</td>\n      <td>5612 Villmergen, AG</td>\n      <td>4193 m²«Bauland mit bewilligtem Projekt» detai...</td>\n      <td>detail_responsive#description_titleWillkommen ...</td>\n      <td>...</td>\n      <td>NaN</td>\n      <td>NaN</td>\n      <td>NaN</td>\n      <td>5612.0</td>\n      <td>NaN</td>\n      <td>NaN</td>\n      <td>NaN</td>\n      <td>4193.0</td>\n      <td>NaN</td>\n      <td>NaN</td>\n    </tr>\n  </tbody>\n</table>\n<p>1 rows × 132 columns</p>\n</div>"
     },
     "execution_count": 7,
     "metadata": {},
     "output_type": "execute_result"
    }
   ],
   "source": [
    "df_test_kaggle[df_test_kaggle['Space extracted'] == 4193.000000]"
   ],
   "metadata": {
    "collapsed": false,
    "ExecuteTime": {
     "end_time": "2024-12-16T10:13:01.862377100Z",
     "start_time": "2024-12-16T10:13:01.841855700Z"
    }
   },
   "id": "e45333eecb46463d",
   "execution_count": 7
  },
  {
   "cell_type": "code",
   "outputs": [
    {
     "data": {
      "text/plain": "       Unnamed: 0.1  Unnamed: 0 Municipality Living space Plot area  \\\n0                 0           0         Suhr       220 m²    733 m²   \n1                 1           1         Suhr       230 m²    702 m²   \n2                 2           2   Biberstein       131 m²       NaN   \n3                 3           3         Suhr       140 m²    206 m²   \n4                 4           4   Biberstein       156 m²    222 m²   \n...             ...         ...          ...          ...       ...   \n24551         24561       24561     Wildhaus          NaN       NaN   \n24552         24562       24562     Wildhaus          NaN       NaN   \n24553         24563       24563     Wildhaus          NaN       NaN   \n24554         24564       24564     Wildhaus          NaN       NaN   \n24555         24565       24565     Wildhaus          NaN       NaN   \n\n      Floor space Availability                              location  \\\n0             NaN   On request            Galeggenweg 95034 Suhr, AG   \n1             NaN   On request     Hofstattmattenweg 195034 Suhr, AG   \n2             NaN   On request        Gheldweg 105023 Biberstein, AG   \n3          140 m²  Immediately     Obere Dorfstrasse 275034 Suhr, AG   \n4          242 m²   On request  Buhldenstrasse 8d5023 Biberstein, AG   \n...           ...          ...                                   ...   \n24551         NaN          NaN                  Hof 2, 9658 Wildhaus   \n24552         NaN          NaN                         9658 Wildhaus   \n24553         NaN          NaN                         9658 Wildhaus   \n24554         NaN          NaN                         9658 Wildhaus   \n24555         NaN          NaN    Steinrütistrasse 28, 9658 Wildhaus   \n\n                                             description  \\\n0      6.5 rooms, 220 m²«Landhausvilla mit einzigarti...   \n1      7.5 rooms, 230 m²«Grosszügiges Anwesen mit tra...   \n2      4.5 rooms, 131 m²«Terrassenhaus mit traumhafte...   \n3      6.5 rooms, 140 m²«Mittelhaus in Suhr an attrak...   \n4      4.5 rooms, 156 m²«Bezugsbereit - ruhige Lage u...   \n...                                                  ...   \n24551  1.5 Zimmerwohnung an zentraler Lage mit schöne...   \n24552  OBJEKT IST BEREITS RESERVIERT!!Sie suchen eine...   \n24553  Mitten im Ober - Toggenburg ist ein 4 Zimmer C...   \n24554  Zu verkaufen ist hier in Wildhaus eine schön u...   \n24555  1-Zi-Whg. (EG) / 4-Zi-Whg. (OG) / 2 1/2-Zi-Whg...   \n\n                                    detailed_description  ... Floor space:  \\\n0      DescriptionVilla lädt zum Träumen ein  Wir ver...  ...          NaN   \n1      DescriptionLicht, Glas und Holz - ein freisteh...  ...          NaN   \n2      DescriptionLage  Das 4.5-Zimmer-Terrassenhaus ...  ...          NaN   \n3      DescriptionReiheneinfamilienhaus (Mittelhaus) ...  ...          NaN   \n4      DescriptionStilvolle Liegenschaft an ruhiger L...  ...          NaN   \n...                                                  ...  ...          ...   \n24551  Description\\n\"Schöne Kleinwohnung mit Cheminée...  ...          NaN   \n24552  Description\\n\"BEREITS RESERVIERT!\"\\nOBJEKT IST...  ...          NaN   \n24553  Description\\n\"Chalet mit grossem Grundstück\"\\n...  ...          NaN   \n24554  Description\\n\"5½ Zimmer Ferienwohnung mit Gara...  ...          NaN   \n24555  Description\\n\"Haus mit 2 Einliegerwohnungen in...  ...          NaN   \n\n      Number of floors:  Volume:     plz Number of toilets: Gross yield:  \\\n0                   NaN      NaN  5034.0                NaN          NaN   \n1                   NaN      NaN  5034.0                NaN          NaN   \n2                   NaN      NaN  5023.0                NaN          NaN   \n3                   NaN      NaN  5034.0                NaN          NaN   \n4                   NaN      NaN  5023.0                NaN          NaN   \n...                 ...      ...     ...                ...          ...   \n24551               NaN      NaN  9658.0                NaN          NaN   \n24552               6.0      NaN  9658.0                NaN          NaN   \n24553               1.0      NaN  9658.0                NaN          NaN   \n24554               4.0      NaN  9658.0                NaN          NaN   \n24555               NaN  1463 m3  9658.0                NaN          NaN   \n\n      Minimum floor space: space_cleaned         Type: Hall height:  \n0                      NaN         220.0           NaN          NaN  \n1                      NaN         230.0           NaN          NaN  \n2                      NaN         131.0           NaN          NaN  \n3                      NaN         140.0           NaN          NaN  \n4                      NaN         156.0           NaN          NaN  \n...                    ...           ...           ...          ...  \n24551                  NaN          36.0     Apartment          NaN  \n24552                  NaN           NaN     Apartment          NaN  \n24553                  NaN         800.0  Single house          NaN  \n24554                  NaN           NaN     Apartment          NaN  \n24555                  NaN           NaN  Single house          NaN  \n\n[24556 rows x 132 columns]",
      "text/html": "<div>\n<style scoped>\n    .dataframe tbody tr th:only-of-type {\n        vertical-align: middle;\n    }\n\n    .dataframe tbody tr th {\n        vertical-align: top;\n    }\n\n    .dataframe thead th {\n        text-align: right;\n    }\n</style>\n<table border=\"1\" class=\"dataframe\">\n  <thead>\n    <tr style=\"text-align: right;\">\n      <th></th>\n      <th>Unnamed: 0.1</th>\n      <th>Unnamed: 0</th>\n      <th>Municipality</th>\n      <th>Living space</th>\n      <th>Plot area</th>\n      <th>Floor space</th>\n      <th>Availability</th>\n      <th>location</th>\n      <th>description</th>\n      <th>detailed_description</th>\n      <th>...</th>\n      <th>Floor space:</th>\n      <th>Number of floors:</th>\n      <th>Volume:</th>\n      <th>plz</th>\n      <th>Number of toilets:</th>\n      <th>Gross yield:</th>\n      <th>Minimum floor space:</th>\n      <th>space_cleaned</th>\n      <th>Type:</th>\n      <th>Hall height:</th>\n    </tr>\n  </thead>\n  <tbody>\n    <tr>\n      <th>0</th>\n      <td>0</td>\n      <td>0</td>\n      <td>Suhr</td>\n      <td>220 m²</td>\n      <td>733 m²</td>\n      <td>NaN</td>\n      <td>On request</td>\n      <td>Galeggenweg 95034 Suhr, AG</td>\n      <td>6.5 rooms, 220 m²«Landhausvilla mit einzigarti...</td>\n      <td>DescriptionVilla lädt zum Träumen ein  Wir ver...</td>\n      <td>...</td>\n      <td>NaN</td>\n      <td>NaN</td>\n      <td>NaN</td>\n      <td>5034.0</td>\n      <td>NaN</td>\n      <td>NaN</td>\n      <td>NaN</td>\n      <td>220.0</td>\n      <td>NaN</td>\n      <td>NaN</td>\n    </tr>\n    <tr>\n      <th>1</th>\n      <td>1</td>\n      <td>1</td>\n      <td>Suhr</td>\n      <td>230 m²</td>\n      <td>702 m²</td>\n      <td>NaN</td>\n      <td>On request</td>\n      <td>Hofstattmattenweg 195034 Suhr, AG</td>\n      <td>7.5 rooms, 230 m²«Grosszügiges Anwesen mit tra...</td>\n      <td>DescriptionLicht, Glas und Holz - ein freisteh...</td>\n      <td>...</td>\n      <td>NaN</td>\n      <td>NaN</td>\n      <td>NaN</td>\n      <td>5034.0</td>\n      <td>NaN</td>\n      <td>NaN</td>\n      <td>NaN</td>\n      <td>230.0</td>\n      <td>NaN</td>\n      <td>NaN</td>\n    </tr>\n    <tr>\n      <th>2</th>\n      <td>2</td>\n      <td>2</td>\n      <td>Biberstein</td>\n      <td>131 m²</td>\n      <td>NaN</td>\n      <td>NaN</td>\n      <td>On request</td>\n      <td>Gheldweg 105023 Biberstein, AG</td>\n      <td>4.5 rooms, 131 m²«Terrassenhaus mit traumhafte...</td>\n      <td>DescriptionLage  Das 4.5-Zimmer-Terrassenhaus ...</td>\n      <td>...</td>\n      <td>NaN</td>\n      <td>NaN</td>\n      <td>NaN</td>\n      <td>5023.0</td>\n      <td>NaN</td>\n      <td>NaN</td>\n      <td>NaN</td>\n      <td>131.0</td>\n      <td>NaN</td>\n      <td>NaN</td>\n    </tr>\n    <tr>\n      <th>3</th>\n      <td>3</td>\n      <td>3</td>\n      <td>Suhr</td>\n      <td>140 m²</td>\n      <td>206 m²</td>\n      <td>140 m²</td>\n      <td>Immediately</td>\n      <td>Obere Dorfstrasse 275034 Suhr, AG</td>\n      <td>6.5 rooms, 140 m²«Mittelhaus in Suhr an attrak...</td>\n      <td>DescriptionReiheneinfamilienhaus (Mittelhaus) ...</td>\n      <td>...</td>\n      <td>NaN</td>\n      <td>NaN</td>\n      <td>NaN</td>\n      <td>5034.0</td>\n      <td>NaN</td>\n      <td>NaN</td>\n      <td>NaN</td>\n      <td>140.0</td>\n      <td>NaN</td>\n      <td>NaN</td>\n    </tr>\n    <tr>\n      <th>4</th>\n      <td>4</td>\n      <td>4</td>\n      <td>Biberstein</td>\n      <td>156 m²</td>\n      <td>222 m²</td>\n      <td>242 m²</td>\n      <td>On request</td>\n      <td>Buhldenstrasse 8d5023 Biberstein, AG</td>\n      <td>4.5 rooms, 156 m²«Bezugsbereit - ruhige Lage u...</td>\n      <td>DescriptionStilvolle Liegenschaft an ruhiger L...</td>\n      <td>...</td>\n      <td>NaN</td>\n      <td>NaN</td>\n      <td>NaN</td>\n      <td>5023.0</td>\n      <td>NaN</td>\n      <td>NaN</td>\n      <td>NaN</td>\n      <td>156.0</td>\n      <td>NaN</td>\n      <td>NaN</td>\n    </tr>\n    <tr>\n      <th>...</th>\n      <td>...</td>\n      <td>...</td>\n      <td>...</td>\n      <td>...</td>\n      <td>...</td>\n      <td>...</td>\n      <td>...</td>\n      <td>...</td>\n      <td>...</td>\n      <td>...</td>\n      <td>...</td>\n      <td>...</td>\n      <td>...</td>\n      <td>...</td>\n      <td>...</td>\n      <td>...</td>\n      <td>...</td>\n      <td>...</td>\n      <td>...</td>\n      <td>...</td>\n      <td>...</td>\n    </tr>\n    <tr>\n      <th>24551</th>\n      <td>24561</td>\n      <td>24561</td>\n      <td>Wildhaus</td>\n      <td>NaN</td>\n      <td>NaN</td>\n      <td>NaN</td>\n      <td>NaN</td>\n      <td>Hof 2, 9658 Wildhaus</td>\n      <td>1.5 Zimmerwohnung an zentraler Lage mit schöne...</td>\n      <td>Description\\n\"Schöne Kleinwohnung mit Cheminée...</td>\n      <td>...</td>\n      <td>NaN</td>\n      <td>NaN</td>\n      <td>NaN</td>\n      <td>9658.0</td>\n      <td>NaN</td>\n      <td>NaN</td>\n      <td>NaN</td>\n      <td>36.0</td>\n      <td>Apartment</td>\n      <td>NaN</td>\n    </tr>\n    <tr>\n      <th>24552</th>\n      <td>24562</td>\n      <td>24562</td>\n      <td>Wildhaus</td>\n      <td>NaN</td>\n      <td>NaN</td>\n      <td>NaN</td>\n      <td>NaN</td>\n      <td>9658 Wildhaus</td>\n      <td>OBJEKT IST BEREITS RESERVIERT!!Sie suchen eine...</td>\n      <td>Description\\n\"BEREITS RESERVIERT!\"\\nOBJEKT IST...</td>\n      <td>...</td>\n      <td>NaN</td>\n      <td>6.0</td>\n      <td>NaN</td>\n      <td>9658.0</td>\n      <td>NaN</td>\n      <td>NaN</td>\n      <td>NaN</td>\n      <td>NaN</td>\n      <td>Apartment</td>\n      <td>NaN</td>\n    </tr>\n    <tr>\n      <th>24553</th>\n      <td>24563</td>\n      <td>24563</td>\n      <td>Wildhaus</td>\n      <td>NaN</td>\n      <td>NaN</td>\n      <td>NaN</td>\n      <td>NaN</td>\n      <td>9658 Wildhaus</td>\n      <td>Mitten im Ober - Toggenburg ist ein 4 Zimmer C...</td>\n      <td>Description\\n\"Chalet mit grossem Grundstück\"\\n...</td>\n      <td>...</td>\n      <td>NaN</td>\n      <td>1.0</td>\n      <td>NaN</td>\n      <td>9658.0</td>\n      <td>NaN</td>\n      <td>NaN</td>\n      <td>NaN</td>\n      <td>800.0</td>\n      <td>Single house</td>\n      <td>NaN</td>\n    </tr>\n    <tr>\n      <th>24554</th>\n      <td>24564</td>\n      <td>24564</td>\n      <td>Wildhaus</td>\n      <td>NaN</td>\n      <td>NaN</td>\n      <td>NaN</td>\n      <td>NaN</td>\n      <td>9658 Wildhaus</td>\n      <td>Zu verkaufen ist hier in Wildhaus eine schön u...</td>\n      <td>Description\\n\"5½ Zimmer Ferienwohnung mit Gara...</td>\n      <td>...</td>\n      <td>NaN</td>\n      <td>4.0</td>\n      <td>NaN</td>\n      <td>9658.0</td>\n      <td>NaN</td>\n      <td>NaN</td>\n      <td>NaN</td>\n      <td>NaN</td>\n      <td>Apartment</td>\n      <td>NaN</td>\n    </tr>\n    <tr>\n      <th>24555</th>\n      <td>24565</td>\n      <td>24565</td>\n      <td>Wildhaus</td>\n      <td>NaN</td>\n      <td>NaN</td>\n      <td>NaN</td>\n      <td>NaN</td>\n      <td>Steinrütistrasse 28, 9658 Wildhaus</td>\n      <td>1-Zi-Whg. (EG) / 4-Zi-Whg. (OG) / 2 1/2-Zi-Whg...</td>\n      <td>Description\\n\"Haus mit 2 Einliegerwohnungen in...</td>\n      <td>...</td>\n      <td>NaN</td>\n      <td>NaN</td>\n      <td>1463 m3</td>\n      <td>9658.0</td>\n      <td>NaN</td>\n      <td>NaN</td>\n      <td>NaN</td>\n      <td>NaN</td>\n      <td>Single house</td>\n      <td>NaN</td>\n    </tr>\n  </tbody>\n</table>\n<p>24556 rows × 132 columns</p>\n</div>"
     },
     "execution_count": 3,
     "metadata": {},
     "output_type": "execute_result"
    }
   ],
   "source": [
    "df_test_kaggle"
   ],
   "metadata": {
    "collapsed": false,
    "ExecuteTime": {
     "end_time": "2024-12-18T08:00:45.363797900Z",
     "start_time": "2024-12-18T08:00:45.320065500Z"
    }
   },
   "id": "75314f01b28826c4",
   "execution_count": 3
  },
  {
   "cell_type": "code",
   "outputs": [
    {
     "data": {
      "text/plain": "type_unified\nflat                              11046\ndetached-house                     7164\nvilla                              1160\nsemi-detached-house                1043\nduplex-maisonette                   825\nattic-flat                          718\npenthouse                           685\nterrace-house                       556\nchalet                              453\nstepped-apartment                   236\nfarmhouse                           184\nrustico                             111\nloft                                 69\nstudio                               65\nstepped-house                        50\nfurnished-residential-property       45\ncastle                               13\nattic-room                           11\nsingle-room                           4\nsecondary-suite                       3\ndetached-secondary-suite              3\nName: count, dtype: int64"
     },
     "execution_count": 10,
     "metadata": {},
     "output_type": "execute_result"
    }
   ],
   "source": [
    "df_test_kaggle['type_unified'].value_counts()"
   ],
   "metadata": {
    "collapsed": false,
    "ExecuteTime": {
     "end_time": "2024-12-20T08:26:29.712634700Z",
     "start_time": "2024-12-20T08:26:29.691367Z"
    }
   },
   "id": "7286eed0d90aaa46",
   "execution_count": 10
  },
  {
   "cell_type": "code",
   "outputs": [
    {
     "name": "stderr",
     "output_type": "stream",
     "text": [
      "C:\\Users\\denis\\AppData\\Local\\Temp\\ipykernel_41384\\1819881021.py:1: DtypeWarning: Columns (3,4,5,6,11,13,14,15,16,17,18,19,20,21,22,23,24,25,26,27,28,29,30,31,32,33,34,35,36,37,38,39,40,41,42,43,45,46,47,49,50,107,110,114,115,116,119,120,121,124,125,126,128,131,132) have mixed types. Specify dtype option on import or set low_memory=False.\n",
      "  df = pd.read_csv('../data/immo_data_202208_v2.csv')\n"
     ]
    }
   ],
   "source": [
    "df = pd.read_csv('../data/immo_data_202208_v2.csv')"
   ],
   "metadata": {
    "collapsed": false,
    "ExecuteTime": {
     "end_time": "2024-12-20T08:32:27.278427400Z",
     "start_time": "2024-12-20T08:32:25.687904Z"
    }
   },
   "id": "80f09fec57781067",
   "execution_count": 27
  },
  {
   "cell_type": "code",
   "outputs": [
    {
     "data": {
      "text/plain": "type\nflat                              5988\nApartment                         4835\ndetached-house                    3560\nSingle house                      1515\nvilla                              718\nsemi-detached-house                592\npenthouse                          551\nVilla                              537\nterrace-house                      523\nAttic flat                         451\nduplex-maisonette                  430\nChalet                             413\nchalet                             284\nDuplex                             283\nRow house                          277\nBifamiliar house                   272\nattic-flat                         239\nMulti-family house                 167\nstepped-apartment                  140\nRoof flat                          114\nfarmhouse                          110\nTerrace flat                        75\nStudio                              69\nrustico                             65\nstepped-house                       64\nFarm house                          62\nstudio                              27\nloft                                26\nfurnished-residential-property      17\nLoft                                17\nTerrace house                       15\ncastle                               9\nFurnished dwelling                   8\nattic-room                           6\nAttic                                6\ndetached-secondary-suite             4\nRustic house                         4\nCastle                               3\nsecondary-suite                      1\nsingle-room                          1\nHobby room                           1\nGranny flat                          1\nCellar compartment                   1\nName: count, dtype: int64"
     },
     "execution_count": 7,
     "metadata": {},
     "output_type": "execute_result"
    }
   ],
   "source": [
    "df['type'].value_counts()"
   ],
   "metadata": {
    "collapsed": false,
    "ExecuteTime": {
     "end_time": "2024-12-19T14:23:40.021046700Z",
     "start_time": "2024-12-19T14:23:40.009586800Z"
    }
   },
   "id": "8d1700c33d790669",
   "execution_count": 7
  },
  {
   "cell_type": "code",
   "outputs": [
    {
     "data": {
      "text/plain": "type_unified\nflat                              10824\ndetached-house                     5514\nvilla                              1255\nsemi-detached-house                 869\nduplex-maisonette                   713\nchalet                              697\nattic-flat                          690\npenthouse                           665\nterrace-house                       538\nstepped-apartment                   215\nfarmhouse                           172\nstudio                               96\nrustico                              69\nstepped-house                        64\nloft                                 43\nfurnished-residential-property       25\ncastle                               12\nattic-room                           12\ndetached-secondary-suite              4\nsingle-room                           3\nsecondary-suite                       1\nName: count, dtype: int64"
     },
     "execution_count": 8,
     "metadata": {},
     "output_type": "execute_result"
    }
   ],
   "source": [
    "df['type_unified'].value_counts()\n"
   ],
   "metadata": {
    "collapsed": false,
    "ExecuteTime": {
     "end_time": "2024-12-19T14:24:22.068429100Z",
     "start_time": "2024-12-19T14:24:22.056651700Z"
    }
   },
   "id": "ba98db1196d1032a",
   "execution_count": 8
  },
  {
   "cell_type": "code",
   "outputs": [],
   "source": [
    "df_test_kaggle['type_unified'] = df_test_kaggle['type_unified'].str.lower()"
   ],
   "metadata": {
    "collapsed": false,
    "ExecuteTime": {
     "end_time": "2024-12-20T08:29:45.161243800Z",
     "start_time": "2024-12-20T08:29:45.151395800Z"
    }
   },
   "id": "e87b31292ff11dd4",
   "execution_count": 23
  },
  {
   "cell_type": "code",
   "outputs": [
    {
     "name": "stdout",
     "output_type": "stream",
     "text": [
      "Unique values in set 1: [nan]\n",
      "Unique values in set 2: ['Multi-family house' 'Apartment' 'Attic flat' 'Villa'\n",
      " 'Furnished dwelling' 'Duplex' 'Row house' 'Bifamiliar house'\n",
      " 'Single house' 'Loft' 'Studio' 'Terrace flat' 'Roof flat' 'Farm house'\n",
      " 'Terrace house' 'Castle' 'Chalet' 'Attic' 'Rustic house' 'Hobby room'\n",
      " 'Granny flat' 'Cellar compartment']\n"
     ]
    }
   ],
   "source": [
    "# Unique to set 1 (values in 'Type:' not in 'type')\n",
    "unique_to_set_1 = df_test_kaggle[~df_test_kaggle['type_unified'].isin(df['type'])]['type_unified'].unique()\n",
    "\n",
    "# Unique to set 2 (values in 'type' not in 'Type:')\n",
    "unique_to_set_2 = df[~df['type'].isin(df_test_kaggle['type_unified'])]['type'].unique()\n",
    "\n",
    "# Print the results\n",
    "print(\"Unique values in set 1:\", unique_to_set_1)\n",
    "print(\"Unique values in set 2:\", unique_to_set_2)\n",
    "\n"
   ],
   "metadata": {
    "collapsed": false,
    "ExecuteTime": {
     "end_time": "2024-12-20T08:27:16.228942100Z",
     "start_time": "2024-12-20T08:27:16.205777Z"
    }
   },
   "id": "c4f1e902898b4e37",
   "execution_count": 13
  },
  {
   "cell_type": "code",
   "outputs": [
    {
     "name": "stdout",
     "output_type": "stream",
     "text": [
      "Unique values in set 1: [nan]\n",
      "Unique values in set 2: []\n"
     ]
    }
   ],
   "source": [
    "# Unique to set 1 (values in 'Type:' not in 'type')\n",
    "unique_to_set_1 = df_test_kaggle[~df_test_kaggle['type_unified'].isin(df['type_unified'])]['type_unified'].unique()\n",
    "\n",
    "# Unique to set 2 (values in 'type' not in 'Type:')\n",
    "unique_to_set_2 = df[~df['type_unified'].isin(df_test_kaggle['type_unified'])]['type_unified'].unique()\n",
    "\n",
    "# Print the results\n",
    "print(\"Unique values in set 1:\", unique_to_set_1)\n",
    "print(\"Unique values in set 2:\", unique_to_set_2)\n"
   ],
   "metadata": {
    "collapsed": false,
    "ExecuteTime": {
     "end_time": "2024-12-20T08:32:37.773500600Z",
     "start_time": "2024-12-20T08:32:37.763871100Z"
    }
   },
   "id": "70cef8a0dcb559a4",
   "execution_count": 28
  },
  {
   "cell_type": "code",
   "outputs": [
    {
     "data": {
      "text/plain": "['Unnamed: 0.1',\n 'Unnamed: 0',\n 'Municipality',\n 'Living space',\n 'Plot area',\n 'Floor space',\n 'Availability',\n 'location',\n 'description',\n 'detailed_description',\n 'url',\n 'table',\n 'Floor',\n 'detail_responsive#municipality',\n 'detail_responsive#surface_living',\n 'detail_responsive#floor',\n 'detail_responsive#available_from',\n 'Gemeinde',\n 'Wohnfläche',\n 'Stockwerk',\n 'Nutzfläche',\n 'Verfügbarkeit',\n 'Grundstücksfläche',\n 'detail_responsive#surface_property',\n 'detail_responsive#surface_usable',\n 'Commune',\n 'Surface habitable',\n 'Surface du terrain',\n 'Surface utile',\n 'Disponibilité',\n 'Étage',\n 'Comune',\n 'Superficie abitabile',\n 'Disponibilità',\n 'Gross return',\n 'Piano',\n 'Superficie del terreno',\n 'Superficie utile',\n 'Municipality_merged',\n 'Floor_merged',\n 'Living_space_merged',\n 'Floor_space_merged',\n 'Plot_area_merged',\n 'Availability_merged',\n 'location_parsed',\n 'title',\n 'details',\n 'address',\n 'link',\n 'details_structured',\n 'lat',\n 'lon',\n 'index',\n 'ForestDensityL',\n 'ForestDensityM',\n 'ForestDensityS',\n 'Latitude',\n 'Locality',\n 'Longitude',\n 'NoisePollutionRailwayL',\n 'NoisePollutionRailwayM',\n 'NoisePollutionRailwayS',\n 'NoisePollutionRoadL',\n 'NoisePollutionRoadM',\n 'NoisePollutionRoadS',\n 'PopulationDensityL',\n 'PopulationDensityM',\n 'PopulationDensityS',\n 'RiversAndLakesL',\n 'RiversAndLakesM',\n 'RiversAndLakesS',\n 'WorkplaceDensityL',\n 'WorkplaceDensityM',\n 'WorkplaceDensityS',\n 'Zip',\n 'distanceToTrainStation',\n 'gde_area_agriculture_percentage',\n 'gde_area_forest_percentage',\n 'gde_area_nonproductive_percentage',\n 'gde_area_settlement_percentage',\n 'gde_average_house_hold',\n 'gde_empty_apartments',\n 'gde_foreigners_percentage',\n 'gde_new_homes_per_1000',\n 'gde_politics_bdp',\n 'gde_politics_cvp',\n 'gde_politics_evp',\n 'gde_politics_fdp',\n 'gde_politics_glp',\n 'gde_politics_gps',\n 'gde_politics_pda',\n 'gde_politics_rights',\n 'gde_politics_sp',\n 'gde_politics_svp',\n 'gde_pop_per_km2',\n 'gde_population',\n 'gde_private_apartments',\n 'gde_social_help_quota',\n 'gde_tax',\n 'gde_workers_sector1',\n 'gde_workers_sector2',\n 'gde_workers_sector3',\n 'gde_workers_total',\n 'Space extracted',\n 'rooms',\n 'plz_parsed',\n 'type_unified',\n 'Floor_unified',\n 'Plot_area_unified',\n 'Living_area_unified',\n 'provider',\n 'space',\n 'address_s',\n 'No. of rooms:',\n 'Number of apartments:',\n 'Surface living:',\n 'Land area:',\n 'Room height:',\n 'Last refurbishment:',\n 'Year built:',\n 'features',\n 'description_detailed',\n 'Floor space:',\n 'Number of floors:',\n 'Volume:',\n 'plz',\n 'Number of toilets:',\n 'Gross yield:',\n 'Minimum floor space:',\n 'space_cleaned',\n 'Type:',\n 'Hall height:']"
     },
     "execution_count": 7,
     "metadata": {},
     "output_type": "execute_result"
    }
   ],
   "source": [
    "list(df_test_kaggle.columns)"
   ],
   "metadata": {
    "collapsed": false,
    "ExecuteTime": {
     "end_time": "2024-12-20T08:24:15.338373100Z",
     "start_time": "2024-12-20T08:24:15.327038Z"
    }
   },
   "id": "814782adafdcb4f9",
   "execution_count": 7
  },
  {
   "cell_type": "code",
   "outputs": [
    {
     "data": {
      "text/plain": "{'attic-flat',\n 'attic-room',\n 'castle',\n 'chalet',\n 'detached-house',\n 'detached-secondary-suite',\n 'duplex-maisonette',\n 'farmhouse',\n 'flat',\n 'furnished-residential-property',\n 'loft',\n nan,\n 'penthouse',\n 'rustico',\n 'secondary-suite',\n 'semi-detached-house',\n 'single-room',\n 'stepped-apartment',\n 'stepped-house',\n 'studio',\n 'terrace-house',\n 'villa'}"
     },
     "execution_count": 18,
     "metadata": {},
     "output_type": "execute_result"
    }
   ],
   "source": [
    "set(df_test_kaggle[\"type_unified\"].unique())"
   ],
   "metadata": {
    "collapsed": false,
    "ExecuteTime": {
     "end_time": "2024-12-20T08:28:35.012830300Z",
     "start_time": "2024-12-20T08:28:35.004952700Z"
    }
   },
   "id": "7d9bd705e33b6760",
   "execution_count": 18
  },
  {
   "cell_type": "code",
   "outputs": [
    {
     "data": {
      "text/plain": "{'attic-flat',\n 'attic-room',\n 'castle',\n 'chalet',\n 'detached-house',\n 'detached-secondary-suite',\n 'duplex-maisonette',\n 'farmhouse',\n 'flat',\n 'furnished-residential-property',\n 'loft',\n 'penthouse',\n 'rustico',\n 'secondary-suite',\n 'semi-detached-house',\n 'single-room',\n 'stepped-apartment',\n 'stepped-house',\n 'studio',\n 'terrace-house',\n 'villa'}"
     },
     "execution_count": 20,
     "metadata": {},
     "output_type": "execute_result"
    }
   ],
   "source": [
    "set(df[\"type_unified\"].unique())"
   ],
   "metadata": {
    "collapsed": false,
    "ExecuteTime": {
     "end_time": "2024-12-20T08:28:54.809862900Z",
     "start_time": "2024-12-20T08:28:54.802830700Z"
    }
   },
   "id": "f4845b0bdc7de6d2",
   "execution_count": 20
  },
  {
   "cell_type": "code",
   "outputs": [
    {
     "data": {
      "text/plain": "{'attic-flat',\n 'attic-room',\n 'castle',\n 'chalet',\n 'detached-house',\n 'detached-secondary-suite',\n 'duplex-maisonette',\n 'farmhouse',\n 'flat',\n 'furnished-residential-property',\n 'loft',\n 'penthouse',\n 'rustico',\n 'secondary-suite',\n 'semi-detached-house',\n 'single-room',\n 'stepped-apartment',\n 'stepped-house',\n 'studio',\n 'terrace-house',\n 'villa'}"
     },
     "execution_count": 21,
     "metadata": {},
     "output_type": "execute_result"
    }
   ],
   "source": [
    "set(df_test_kaggle[\"type_unified\"].unique()).intersection(set(df[\"type_unified\"].unique()))"
   ],
   "metadata": {
    "collapsed": false,
    "ExecuteTime": {
     "end_time": "2024-12-20T08:28:58.595174Z",
     "start_time": "2024-12-20T08:28:58.585986500Z"
    }
   },
   "id": "5225af40e0f40cda",
   "execution_count": 21
  }
 ],
 "metadata": {
  "kernelspec": {
   "display_name": "Python 3",
   "language": "python",
   "name": "python3"
  },
  "language_info": {
   "codemirror_mode": {
    "name": "ipython",
    "version": 2
   },
   "file_extension": ".py",
   "mimetype": "text/x-python",
   "name": "python",
   "nbconvert_exporter": "python",
   "pygments_lexer": "ipython2",
   "version": "2.7.6"
  }
 },
 "nbformat": 4,
 "nbformat_minor": 5
}

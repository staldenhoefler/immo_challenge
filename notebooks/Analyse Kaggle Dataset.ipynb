{
 "cells": [
  {
   "cell_type": "code",
   "outputs": [
    {
     "name": "stderr",
     "output_type": "stream",
     "text": [
      "C:\\Users\\denis\\AppData\\Local\\Temp\\ipykernel_35392\\2921688909.py:4: DtypeWarning: Columns (3,4,5,6,11,13,14,15,16,17,18,19,20,21,22,23,24,25,26,27,28,29,30,31,32,33,34,35,36,37,38,39,40,41,42,43,45,46,48,49,104,111,112,115,116,117,120,121,122,124,127,128,130,131) have mixed types. Specify dtype option on import or set low_memory=False.\n",
      "  df_test_kaggle = pd.read_csv('C:/Users/denis/Downloads/test_data-Kaggle-v0.11.csv/test_data-Kaggle-v0.11.csv')\n"
     ]
    }
   ],
   "source": [
    "import pandas as pd\n",
    "import matplotlib.pyplot as plt\n",
    "\n",
    "df_test_kaggle = pd.read_csv('C:/Users/denis/Downloads/test_data-Kaggle-v0.11.csv/test_data-Kaggle-v0.11.csv')"
   ],
   "metadata": {
    "collapsed": false,
    "ExecuteTime": {
     "end_time": "2024-12-16T10:11:58.957757200Z",
     "start_time": "2024-12-16T10:11:57.358572400Z"
    }
   },
   "id": "9728e779ffaad220",
   "execution_count": 3
  },
  {
   "cell_type": "code",
   "outputs": [
    {
     "data": {
      "text/plain": "       Unnamed: 0.1    Unnamed: 0           lat           lon         index  \\\ncount  24556.000000  24556.000000  24556.000000  24556.000000  24556.000000   \nmean   12281.348917  12281.348917     46.759035      7.949025  41755.119075   \nstd     7092.250375   7092.250375      0.547245      0.957995  26649.266834   \nmin        0.000000      0.000000     45.825091      5.971927      7.000000   \n25%     6139.750000   6139.750000     46.218276      7.133160  18853.000000   \n50%    12279.500000  12279.500000     46.771719      7.935144  41397.500000   \n75%    18423.250000  18423.250000     47.292799      8.891711  67813.000000   \nmax    24565.000000  24565.000000     47.793642     10.474655  84748.000000   \n\n       ForestDensityL  ForestDensityM  ForestDensityS      Latitude  \\\ncount    24556.000000    24556.000000    24556.000000  24556.000000   \nmean         0.221945        0.147896        0.090304     46.759079   \nstd          0.208954        0.190445        0.167288      0.547266   \nmin          0.000000        0.000000        0.000000     45.823861   \n25%          0.038104        0.000000        0.000000     46.218669   \n50%          0.157835        0.054028        0.000000     46.771666   \n75%          0.360398        0.243687        0.092069     47.293157   \nmax          0.932371        1.000000        1.000000     47.793484   \n\n          Longitude  ...  Plot_area_unified  Living_area_unified  \\\ncount  24556.000000  ...       9.276000e+03         22431.000000   \nmean       7.949493  ...       9.733515e+03           154.680710   \nstd        0.957776  ...       8.402658e+05           117.899645   \nmin        5.971354  ...       1.000000e+00             1.000000   \n25%        7.132040  ...       3.260000e+02            97.000000   \n50%        7.935004  ...       5.820000e+02           129.000000   \n75%        8.894112  ...       9.990000e+02           180.000000   \nmax       10.445192  ...       8.092808e+07          4362.000000   \n\n       No. of rooms:  Number of apartments:  Last refurbishment:  Year built:  \\\ncount   11506.000000            1630.000000          2924.000000  9265.000000   \nmean        5.150356               4.979141          2013.287620  1984.011333   \nstd         2.471891               6.351737            10.385572    61.624263   \nmin         1.000000               1.000000          1900.000000  1021.000000   \n25%         3.500000               1.000000          2010.000000  1974.000000   \n50%         4.500000               3.000000          2016.000000  2005.000000   \n75%         5.500000               7.000000          2020.000000  2022.000000   \nmax        42.000000              85.000000          2024.000000  2025.000000   \n\n       Number of floors:           plz  Number of toilets:  space_cleaned  \ncount        3834.000000  24556.000000               261.0   13038.000000  \nmean            2.849765   4744.987009                 1.0     157.479138  \nstd             1.349790   2588.112192                 0.0     178.174524  \nmin             1.000000   1000.000000                 1.0       0.000000  \n25%             2.000000   1955.000000                 1.0      95.000000  \n50%             3.000000   4710.000000                 1.0     128.000000  \n75%             3.000000   6850.000000                 1.0     177.000000  \nmax            24.000000   9658.000000                 1.0    8071.000000  \n\n[8 rows x 66 columns]",
      "text/html": "<div>\n<style scoped>\n    .dataframe tbody tr th:only-of-type {\n        vertical-align: middle;\n    }\n\n    .dataframe tbody tr th {\n        vertical-align: top;\n    }\n\n    .dataframe thead th {\n        text-align: right;\n    }\n</style>\n<table border=\"1\" class=\"dataframe\">\n  <thead>\n    <tr style=\"text-align: right;\">\n      <th></th>\n      <th>Unnamed: 0.1</th>\n      <th>Unnamed: 0</th>\n      <th>lat</th>\n      <th>lon</th>\n      <th>index</th>\n      <th>ForestDensityL</th>\n      <th>ForestDensityM</th>\n      <th>ForestDensityS</th>\n      <th>Latitude</th>\n      <th>Longitude</th>\n      <th>...</th>\n      <th>Plot_area_unified</th>\n      <th>Living_area_unified</th>\n      <th>No. of rooms:</th>\n      <th>Number of apartments:</th>\n      <th>Last refurbishment:</th>\n      <th>Year built:</th>\n      <th>Number of floors:</th>\n      <th>plz</th>\n      <th>Number of toilets:</th>\n      <th>space_cleaned</th>\n    </tr>\n  </thead>\n  <tbody>\n    <tr>\n      <th>count</th>\n      <td>24556.000000</td>\n      <td>24556.000000</td>\n      <td>24556.000000</td>\n      <td>24556.000000</td>\n      <td>24556.000000</td>\n      <td>24556.000000</td>\n      <td>24556.000000</td>\n      <td>24556.000000</td>\n      <td>24556.000000</td>\n      <td>24556.000000</td>\n      <td>...</td>\n      <td>9.276000e+03</td>\n      <td>22431.000000</td>\n      <td>11506.000000</td>\n      <td>1630.000000</td>\n      <td>2924.000000</td>\n      <td>9265.000000</td>\n      <td>3834.000000</td>\n      <td>24556.000000</td>\n      <td>261.0</td>\n      <td>13038.000000</td>\n    </tr>\n    <tr>\n      <th>mean</th>\n      <td>12281.348917</td>\n      <td>12281.348917</td>\n      <td>46.759035</td>\n      <td>7.949025</td>\n      <td>41755.119075</td>\n      <td>0.221945</td>\n      <td>0.147896</td>\n      <td>0.090304</td>\n      <td>46.759079</td>\n      <td>7.949493</td>\n      <td>...</td>\n      <td>9.733515e+03</td>\n      <td>154.680710</td>\n      <td>5.150356</td>\n      <td>4.979141</td>\n      <td>2013.287620</td>\n      <td>1984.011333</td>\n      <td>2.849765</td>\n      <td>4744.987009</td>\n      <td>1.0</td>\n      <td>157.479138</td>\n    </tr>\n    <tr>\n      <th>std</th>\n      <td>7092.250375</td>\n      <td>7092.250375</td>\n      <td>0.547245</td>\n      <td>0.957995</td>\n      <td>26649.266834</td>\n      <td>0.208954</td>\n      <td>0.190445</td>\n      <td>0.167288</td>\n      <td>0.547266</td>\n      <td>0.957776</td>\n      <td>...</td>\n      <td>8.402658e+05</td>\n      <td>117.899645</td>\n      <td>2.471891</td>\n      <td>6.351737</td>\n      <td>10.385572</td>\n      <td>61.624263</td>\n      <td>1.349790</td>\n      <td>2588.112192</td>\n      <td>0.0</td>\n      <td>178.174524</td>\n    </tr>\n    <tr>\n      <th>min</th>\n      <td>0.000000</td>\n      <td>0.000000</td>\n      <td>45.825091</td>\n      <td>5.971927</td>\n      <td>7.000000</td>\n      <td>0.000000</td>\n      <td>0.000000</td>\n      <td>0.000000</td>\n      <td>45.823861</td>\n      <td>5.971354</td>\n      <td>...</td>\n      <td>1.000000e+00</td>\n      <td>1.000000</td>\n      <td>1.000000</td>\n      <td>1.000000</td>\n      <td>1900.000000</td>\n      <td>1021.000000</td>\n      <td>1.000000</td>\n      <td>1000.000000</td>\n      <td>1.0</td>\n      <td>0.000000</td>\n    </tr>\n    <tr>\n      <th>25%</th>\n      <td>6139.750000</td>\n      <td>6139.750000</td>\n      <td>46.218276</td>\n      <td>7.133160</td>\n      <td>18853.000000</td>\n      <td>0.038104</td>\n      <td>0.000000</td>\n      <td>0.000000</td>\n      <td>46.218669</td>\n      <td>7.132040</td>\n      <td>...</td>\n      <td>3.260000e+02</td>\n      <td>97.000000</td>\n      <td>3.500000</td>\n      <td>1.000000</td>\n      <td>2010.000000</td>\n      <td>1974.000000</td>\n      <td>2.000000</td>\n      <td>1955.000000</td>\n      <td>1.0</td>\n      <td>95.000000</td>\n    </tr>\n    <tr>\n      <th>50%</th>\n      <td>12279.500000</td>\n      <td>12279.500000</td>\n      <td>46.771719</td>\n      <td>7.935144</td>\n      <td>41397.500000</td>\n      <td>0.157835</td>\n      <td>0.054028</td>\n      <td>0.000000</td>\n      <td>46.771666</td>\n      <td>7.935004</td>\n      <td>...</td>\n      <td>5.820000e+02</td>\n      <td>129.000000</td>\n      <td>4.500000</td>\n      <td>3.000000</td>\n      <td>2016.000000</td>\n      <td>2005.000000</td>\n      <td>3.000000</td>\n      <td>4710.000000</td>\n      <td>1.0</td>\n      <td>128.000000</td>\n    </tr>\n    <tr>\n      <th>75%</th>\n      <td>18423.250000</td>\n      <td>18423.250000</td>\n      <td>47.292799</td>\n      <td>8.891711</td>\n      <td>67813.000000</td>\n      <td>0.360398</td>\n      <td>0.243687</td>\n      <td>0.092069</td>\n      <td>47.293157</td>\n      <td>8.894112</td>\n      <td>...</td>\n      <td>9.990000e+02</td>\n      <td>180.000000</td>\n      <td>5.500000</td>\n      <td>7.000000</td>\n      <td>2020.000000</td>\n      <td>2022.000000</td>\n      <td>3.000000</td>\n      <td>6850.000000</td>\n      <td>1.0</td>\n      <td>177.000000</td>\n    </tr>\n    <tr>\n      <th>max</th>\n      <td>24565.000000</td>\n      <td>24565.000000</td>\n      <td>47.793642</td>\n      <td>10.474655</td>\n      <td>84748.000000</td>\n      <td>0.932371</td>\n      <td>1.000000</td>\n      <td>1.000000</td>\n      <td>47.793484</td>\n      <td>10.445192</td>\n      <td>...</td>\n      <td>8.092808e+07</td>\n      <td>4362.000000</td>\n      <td>42.000000</td>\n      <td>85.000000</td>\n      <td>2024.000000</td>\n      <td>2025.000000</td>\n      <td>24.000000</td>\n      <td>9658.000000</td>\n      <td>1.0</td>\n      <td>8071.000000</td>\n    </tr>\n  </tbody>\n</table>\n<p>8 rows × 66 columns</p>\n</div>"
     },
     "execution_count": 4,
     "metadata": {},
     "output_type": "execute_result"
    }
   ],
   "source": [
    "df_test_kaggle.describe()"
   ],
   "metadata": {
    "collapsed": false,
    "ExecuteTime": {
     "end_time": "2024-12-16T10:12:02.588575300Z",
     "start_time": "2024-12-16T10:12:02.462160400Z"
    }
   },
   "id": "3dd726684b5850eb",
   "execution_count": 4
  },
  {
   "cell_type": "code",
   "outputs": [
    {
     "data": {
      "text/plain": "     Unnamed: 0.1  Unnamed: 0 Municipality Living space Plot area Floor space  \\\n450           450         450          NaN          NaN       NaN         NaN   \n\n    Availability             location  \\\n450          NaN  5612 Villmergen, AG   \n\n                                           description  \\\n450  4193 m²«Bauland mit bewilligtem Projekt» detai...   \n\n                                  detailed_description  ... Floor space:  \\\n450  detail_responsive#description_titleWillkommen ...  ...          NaN   \n\n    Number of floors: Volume:     plz Number of toilets: Gross yield:  \\\n450               NaN     NaN  5612.0                NaN          NaN   \n\n    Minimum floor space: space_cleaned Type: Hall height:  \n450                  NaN        4193.0   NaN          NaN  \n\n[1 rows x 132 columns]",
      "text/html": "<div>\n<style scoped>\n    .dataframe tbody tr th:only-of-type {\n        vertical-align: middle;\n    }\n\n    .dataframe tbody tr th {\n        vertical-align: top;\n    }\n\n    .dataframe thead th {\n        text-align: right;\n    }\n</style>\n<table border=\"1\" class=\"dataframe\">\n  <thead>\n    <tr style=\"text-align: right;\">\n      <th></th>\n      <th>Unnamed: 0.1</th>\n      <th>Unnamed: 0</th>\n      <th>Municipality</th>\n      <th>Living space</th>\n      <th>Plot area</th>\n      <th>Floor space</th>\n      <th>Availability</th>\n      <th>location</th>\n      <th>description</th>\n      <th>detailed_description</th>\n      <th>...</th>\n      <th>Floor space:</th>\n      <th>Number of floors:</th>\n      <th>Volume:</th>\n      <th>plz</th>\n      <th>Number of toilets:</th>\n      <th>Gross yield:</th>\n      <th>Minimum floor space:</th>\n      <th>space_cleaned</th>\n      <th>Type:</th>\n      <th>Hall height:</th>\n    </tr>\n  </thead>\n  <tbody>\n    <tr>\n      <th>450</th>\n      <td>450</td>\n      <td>450</td>\n      <td>NaN</td>\n      <td>NaN</td>\n      <td>NaN</td>\n      <td>NaN</td>\n      <td>NaN</td>\n      <td>5612 Villmergen, AG</td>\n      <td>4193 m²«Bauland mit bewilligtem Projekt» detai...</td>\n      <td>detail_responsive#description_titleWillkommen ...</td>\n      <td>...</td>\n      <td>NaN</td>\n      <td>NaN</td>\n      <td>NaN</td>\n      <td>5612.0</td>\n      <td>NaN</td>\n      <td>NaN</td>\n      <td>NaN</td>\n      <td>4193.0</td>\n      <td>NaN</td>\n      <td>NaN</td>\n    </tr>\n  </tbody>\n</table>\n<p>1 rows × 132 columns</p>\n</div>"
     },
     "execution_count": 7,
     "metadata": {},
     "output_type": "execute_result"
    }
   ],
   "source": [
    "df_test_kaggle[df_test_kaggle['Space extracted'] == 4193.000000]"
   ],
   "metadata": {
    "collapsed": false,
    "ExecuteTime": {
     "end_time": "2024-12-16T10:13:01.862377100Z",
     "start_time": "2024-12-16T10:13:01.841855700Z"
    }
   },
   "id": "e45333eecb46463d",
   "execution_count": 7
  },
  {
   "cell_type": "code",
   "outputs": [],
   "source": [],
   "metadata": {
    "collapsed": false
   },
   "id": "75314f01b28826c4"
  }
 ],
 "metadata": {
  "kernelspec": {
   "display_name": "Python 3",
   "language": "python",
   "name": "python3"
  },
  "language_info": {
   "codemirror_mode": {
    "name": "ipython",
    "version": 2
   },
   "file_extension": ".py",
   "mimetype": "text/x-python",
   "name": "python",
   "nbconvert_exporter": "python",
   "pygments_lexer": "ipython2",
   "version": "2.7.6"
  }
 },
 "nbformat": 4,
 "nbformat_minor": 5
}

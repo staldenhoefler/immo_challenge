{
 "cells": [
  {
   "cell_type": "code",
   "execution_count": null,
   "id": "initial_id",
   "metadata": {
    "collapsed": true
   },
   "outputs": [],
   "source": [
    "import src.dataPipeline as dataPipeline\n",
    "import importlib\n",
    "\n",
    "import matplotlib.pyplot as plt\n",
    "import numpy as np\n",
    "import pandas as pd\n",
    "from tqdm import tqdm\n",
    "\n",
    "import optuna\n",
    "\n",
    "from sklearn.model_selection import train_test_split\n",
    "from sklearn.tree import  RandomForestClassifier\n",
    "from sklearn.compose import ColumnTransformer\n",
    "from sklearn.pipeline import Pipeline\n",
    "from sklearn.model_selection import cross_val_score, KFold,StratifiedKFold\n",
    "from sklearn.metrics import accuracy_score, make_scorer, f1_score, recall_score, precision_score\n",
    "from sklearn.impute import KNNImputer, SimpleImputer\n",
    "from sklearn.preprocessing import StandardScaler, OneHotEncoder\n",
    "\n",
    "importlib.reload(dataPipeline)\n"
   ]
  },
  {
   "metadata": {},
   "cell_type": "code",
   "outputs": [],
   "execution_count": null,
   "source": [
    "dp = dataPipeline.DataPipeline()\n",
    "df = dp.runPipeline(\n",
    "    filePath=\"../../data/immo_data_202208_v2.csv\",\n",
    "    imputer=None,\n",
    "    normalizeAndStandardize= False,\n",
    "    basic_house_imputer = True,\n",
    "    get_dummies = False\n",
    ")"
   ],
   "id": "6bb2feeee40aa7ab"
  },
  {
   "metadata": {},
   "cell_type": "code",
   "outputs": [],
   "execution_count": null,
   "source": "df.head()",
   "id": "26200d77a0522cdc"
  },
  {
   "metadata": {},
   "cell_type": "code",
   "outputs": [],
   "execution_count": null,
   "source": [
    "merge_mapping = {\n",
    "    'attic-room': 'attic-flat',\n",
    "    'castle': 'farmhouse',\n",
    "    'detached-secondary-suite': 'detached-house',\n",
    "    'single-room': 'studio',\n",
    "    'secondary-suite': 'duplex-maisonette'\n",
    "}\n",
    "\n",
    "df['type_unified'] = df['type_unified'].replace(merge_mapping)"
   ],
   "id": "6558ad2cb34ac2a"
  },
  {
   "metadata": {},
   "cell_type": "code",
   "outputs": [],
   "execution_count": null,
   "source": [
    "df[\"region_group\"] = df[\"region_group\"].astype(\"category\")\n",
    "df[\"Availability\"] = df[\"Availability\"].astype(\"category\")"
   ],
   "id": "d4dc6f1eaa0f7ecf"
  },
  {
   "metadata": {},
   "cell_type": "code",
   "outputs": [],
   "execution_count": null,
   "source": [
    "X = df.drop(\"type_unified\", axis=1)\n",
    "y = df[\"type_unified\"]\n",
    "X_train, X_test, y_train, y_test = train_test_split(X, y, test_size=0.2, random_state=42)"
   ],
   "id": "3808d450be21c80a"
  },
  {
   "metadata": {},
   "cell_type": "code",
   "outputs": [],
   "execution_count": null,
   "source": [
    "cat_col = ['region_group', 'Availability']\n",
    "numerical_features = [col for col in df.columns if col not in cat_col + [\"type_unified\"]]\n",
    "\n",
    "# Preprocessing für numerische Daten\n",
    "numerical_transformer = Pipeline(steps=[\n",
    "    ('imputer', KNNImputer(n_neighbors=5)),  # Fehlwerte auffüllen\n",
    "    ('scaler', StandardScaler())  # Standardisieren\n",
    "])\n",
    "\n",
    "# Preprocessing für kategorische Daten\n",
    "categorical_transformer = Pipeline(steps=[\n",
    "    ('imputer', SimpleImputer(strategy='most_frequent')),  # Fehlwerte auffüllen\n",
    "    ('onehot', OneHotEncoder(handle_unknown='ignore'))  # One-Hot-Encoding\n",
    "])\n",
    "\n",
    "# ColumnTransformer erstellen\n",
    "preprocessor = ColumnTransformer(\n",
    "    transformers=[\n",
    "        ('num', numerical_transformer, numerical_features),\n",
    "        ('cat', categorical_transformer, cat_col)\n",
    "    ]\n",
    ")\n",
    "\n",
    "# Pipeline nur für das Preprocessing erstellen\n",
    "pipeline = Pipeline(steps=[\n",
    "    ('preprocessor', preprocessor)\n",
    "])\n",
    "\n",
    "X_train_transformed = pipeline.fit_transform(X_train)\n",
    "X_test_transformed = pipeline.transform(X_test)"
   ],
   "id": "eb63e4b6fe94af1e"
  },
  {
   "metadata": {},
   "cell_type": "code",
   "outputs": [],
   "execution_count": null,
   "source": [
    "# Define cross-validator\n",
    "kf = StratifiedKFold(n_splits=5, shuffle=True, random_state=42)\n",
    "\n",
    "# Metrics to collect\n",
    "accuracy_scores = []\n",
    "f1_scores = []\n",
    "recall_scores = []\n",
    "precision_scores = []\n",
    "\n",
    "# Iterate through the folds\n",
    "for train_index, val_index in kf.split(X_train, y_train):\n",
    "    # Split original data into train and validation sets\n",
    "    X_fold_train, X_fold_val = X_train.iloc[train_index], X_train.iloc[val_index]\n",
    "    y_fold_train, y_fold_val = y_train.iloc[train_index], y_train.iloc[val_index]\n",
    "\n",
    "    # Transform train and validation sets\n",
    "    X_fold_train_transformed = pipeline.fit_transform(X_fold_train)\n",
    "    X_fold_val_transformed = pipeline.transform(X_fold_val)\n",
    "\n",
    "    # Train the model\n",
    "    RandomForrest = RandomForestClassifier\n",
    "    RandomForrest.fit(X_fold_train_transformed, y_fold_train)\n",
    "\n",
    "    # Predict on the validation set\n",
    "    y_val_pred = RandomForrest.predict(X_fold_val_transformed)\n",
    "\n",
    "    # Calculate metrics\n",
    "    accuracy_scores.append(accuracy_score(y_fold_val, y_val_pred))\n",
    "    f1_scores.append(f1_score(y_fold_val, y_val_pred, average='weighted'))\n",
    "    recall_scores.append(recall_score(y_fold_val, y_val_pred, average='weighted'))\n",
    "    precision_scores.append(precision_score(y_fold_val, y_val_pred, average='weighted'))"
   ],
   "id": "cc1755b7d9f5b8ff"
  },
  {
   "metadata": {},
   "cell_type": "code",
   "outputs": [],
   "execution_count": null,
   "source": [
    "print(f\"Accuracy: {np.mean(accuracy_scores)}\")\n",
    "print(f\"F1: {np.mean(f1_scores)}\")\n",
    "print(f\"Recall: {np.mean(recall_scores)}\")\n",
    "print(f\"Precision: {np.mean(precision_scores)}\")\n"
   ],
   "id": "422713ab76543d49"
  }
 ],
 "metadata": {
  "kernelspec": {
   "display_name": "Python 3",
   "language": "python",
   "name": "python3"
  },
  "language_info": {
   "codemirror_mode": {
    "name": "ipython",
    "version": 2
   },
   "file_extension": ".py",
   "mimetype": "text/x-python",
   "name": "python",
   "nbconvert_exporter": "python",
   "pygments_lexer": "ipython2",
   "version": "2.7.6"
  }
 },
 "nbformat": 4,
 "nbformat_minor": 5
}

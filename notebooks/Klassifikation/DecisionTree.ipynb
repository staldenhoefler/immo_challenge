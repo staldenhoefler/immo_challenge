{
 "cells": [
  {
   "cell_type": "code",
   "id": "initial_id",
   "metadata": {
    "collapsed": true,
    "ExecuteTime": {
     "end_time": "2025-01-04T20:14:01.512405Z",
     "start_time": "2025-01-04T20:14:01.482487Z"
    }
   },
   "source": [
    "import src.dataPipeline as dataPipeline\n",
    "import importlib\n",
    "\n",
    "import matplotlib.pyplot as plt\n",
    "import numpy as np\n",
    "import pandas as pd\n",
    "from tqdm import tqdm\n",
    "\n",
    "import optuna\n",
    "\n",
    "from sklearn.model_selection import train_test_split\n",
    "from sklearn.tree import DecisionTreeClassifier\n",
    "from sklearn.compose import ColumnTransformer\n",
    "from sklearn.pipeline import Pipeline\n",
    "from sklearn.model_selection import cross_val_score, KFold,StratifiedKFold\n",
    "# Evaluating the model\n",
    "from sklearn.metrics import accuracy_score, make_scorer, f1_score, recall_score, precision_score\n",
    "from sklearn.impute import KNNImputer, SimpleImputer\n",
    "from sklearn.preprocessing import StandardScaler, OneHotEncoder\n",
    "\n",
    "importlib.reload(dataPipeline)\n"
   ],
   "outputs": [
    {
     "data": {
      "text/plain": [
       "<module 'src.dataPipeline' from 'C:\\\\Users\\\\wartm\\\\Documents\\\\FHNW\\\\immo_challenge\\\\src\\\\dataPipeline.py'>"
      ]
     },
     "execution_count": 2,
     "metadata": {},
     "output_type": "execute_result"
    }
   ],
   "execution_count": 2
  },
  {
   "metadata": {},
   "cell_type": "code",
   "outputs": [],
   "execution_count": null,
   "source": [
    "dp = dataPipeline.DataPipeline()\n",
    "df = dp.runPipeline(\n",
    "    filePath=\"../../data/immo_data_202208_v2.csv\",\n",
    "    imputer=None,\n",
    "    normalizeAndStandardize= False,\n",
    "    basic_house_imputer = True,\n",
    "    get_dummies = False\n",
    ")"
   ],
   "id": "b07e99fdf12c64d"
  },
  {
   "metadata": {},
   "cell_type": "code",
   "outputs": [],
   "execution_count": null,
   "source": "df.head()",
   "id": "4fa2f0a3defb0b94"
  },
  {
   "metadata": {},
   "cell_type": "code",
   "outputs": [],
   "execution_count": null,
   "source": [
    "df[\"region_group\"] = df[\"region_group\"].astype(\"category\")\n",
    "df[\"Availability\"] = df[\"Availability\"].astype(\"category\")"
   ],
   "id": "af67bedb58034475"
  },
  {
   "metadata": {},
   "cell_type": "code",
   "outputs": [],
   "execution_count": null,
   "source": [
    "X = df.drop(\"type_unified\", axis=1)\n",
    "y = df[\"type_unified\"]\n",
    "X_train, X_test, y_train, y_test = train_test_split(X, y, test_size=0.2, random_state=42)"
   ],
   "id": "abc3f58d8d990df8"
  },
  {
   "metadata": {},
   "cell_type": "code",
   "outputs": [],
   "execution_count": null,
   "source": [
    "cat_col = ['region_group', 'Availability']\n",
    "numerical_features = [col for col in df.columns if col not in cat_col + [\"type_unified\"]]\n",
    "\n",
    "# Preprocessing für numerische Daten\n",
    "numerical_transformer = Pipeline(steps=[\n",
    "    ('imputer', KNNImputer(n_neighbors=5)),  # Fehlwerte auffüllen\n",
    "    ('scaler', StandardScaler())  # Standardisieren\n",
    "])\n",
    "\n",
    "# Preprocessing für kategorische Daten\n",
    "categorical_transformer = Pipeline(steps=[\n",
    "    ('imputer', SimpleImputer(strategy='most_frequent')),  # Fehlwerte auffüllen\n",
    "    ('onehot', OneHotEncoder(handle_unknown='ignore'))  # One-Hot-Encoding\n",
    "])\n",
    "\n",
    "# ColumnTransformer erstellen\n",
    "preprocessor = ColumnTransformer(\n",
    "    transformers=[\n",
    "        ('num', numerical_transformer, numerical_features),\n",
    "        ('cat', categorical_transformer, cat_col)\n",
    "    ]\n",
    ")\n",
    "\n",
    "# Pipeline nur für das Preprocessing erstellen\n",
    "pipeline = Pipeline(steps=[\n",
    "    ('preprocessor', preprocessor)\n",
    "])\n",
    "\n",
    "X_train_transformed = pipeline.fit_transform(X_train)\n",
    "X_test_transformed = pipeline.transform(X_test)"
   ],
   "id": "6e7dacddcc612e1f"
  }
 ],
 "metadata": {
  "kernelspec": {
   "display_name": "Python 3",
   "language": "python",
   "name": "python3"
  },
  "language_info": {
   "codemirror_mode": {
    "name": "ipython",
    "version": 2
   },
   "file_extension": ".py",
   "mimetype": "text/x-python",
   "name": "python",
   "nbconvert_exporter": "python",
   "pygments_lexer": "ipython2",
   "version": "2.7.6"
  }
 },
 "nbformat": 4,
 "nbformat_minor": 5
}

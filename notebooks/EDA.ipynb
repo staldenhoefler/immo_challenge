{
 "cells": [
  {
   "cell_type": "code",
   "id": "initial_id",
   "metadata": {
    "collapsed": true,
    "ExecuteTime": {
     "end_time": "2024-09-23T12:12:59.563633Z",
     "start_time": "2024-09-23T12:12:57.666195Z"
    }
   },
   "source": [
    "import numpy as np\n",
    "import pandas as pd\n",
    "import matplotlib as plt\n",
    "import seaborn as sns"
   ],
   "outputs": [],
   "execution_count": 3
  },
  {
   "metadata": {},
   "cell_type": "markdown",
   "source": [
    "# Einlesen der Daten\n",
    "Auffällig sind schon die fehlenden Werte (Nan)"
   ],
   "id": "230811b19e4d5091"
  },
  {
   "metadata": {
    "ExecuteTime": {
     "end_time": "2024-09-23T13:19:53.740995Z",
     "start_time": "2024-09-23T13:19:50.954582Z"
    }
   },
   "cell_type": "code",
   "source": [
    "df = pd.read_csv(\"../data/immo_data_202208_v2.csv\", low_memory=False)\n",
    "df.drop([\"Unnamed: 0.1\",\"Unnamed: 0\"], axis=1,inplace=True) #Zwei Spalten für Index ?\n",
    "df.head()"
   ],
   "id": "dde7cb166be85892",
   "outputs": [
    {
     "data": {
      "text/plain": [
       "  Municipality Living space Plot area Floor space Availability  \\\n",
       "0   Biberstein       100 m²       NaN         NaN   On request   \n",
       "1   Biberstein       156 m²    222 m²      242 m²   On request   \n",
       "2          NaN          NaN       NaN         NaN          NaN   \n",
       "3   Biberstein       154 m²    370 m²      257 m²   On request   \n",
       "4     Küttigen       142 m²       NaN         NaN   On request   \n",
       "\n",
       "                                location  \\\n",
       "0                    5023 Biberstein, AG   \n",
       "1   Buhldenstrasse 8d5023 Biberstein, AG   \n",
       "2                       5022 Rombach, AG   \n",
       "3  Buhaldenstrasse 8A5023 Biberstein, AG   \n",
       "4                       5022 Rombach, AG   \n",
       "\n",
       "                                         description  \\\n",
       "0  3.5 rooms, 100 m²«Luxuriöse Attika-Wohnung mit...   \n",
       "1  4.5 rooms, 156 m²«Stilvolle Liegenschaft - ruh...   \n",
       "2  2.5 rooms, 93 m²«Moderne, lichtdurchflutete At...   \n",
       "3  4.5 rooms, 154 m²«AgentSelly - Luxuriöses Eckh...   \n",
       "4  4.5 rooms, 142 m²«MIT GARTENSITZPLATZ UND VIEL...   \n",
       "\n",
       "                                detailed_description  \\\n",
       "0  DescriptionLuxuriöse Attika-Wohnung direkt an ...   \n",
       "1  DescriptionStilvolle Liegenschaft an ruhiger L...   \n",
       "2  detail_responsive#description_title2,5 Zimmerw...   \n",
       "3  DescriptionDieses äusserst grosszügige Minergi...   \n",
       "4  DescriptionAus ehemals zwei Wohnungen wurde ei...   \n",
       "\n",
       "                                                 url  \\\n",
       "0  https://www.immoscout24.ch//en/d/penthouse-buy...   \n",
       "1  https://www.immoscout24.ch//en/d/terrace-house...   \n",
       "2  https://www.immoscout24.ch//en/d/penthouse-buy...   \n",
       "3  https://www.immoscout24.ch//en/d/detached-hous...   \n",
       "4  https://www.immoscout24.ch//en/d/flat-buy-romb...   \n",
       "\n",
       "                                               table  ... features  \\\n",
       "0  b <article class=####Box-cYFBPY hKrxoH####><h2...  ...      NaN   \n",
       "1  b <article class=####Box-cYFBPY hKrxoH####><h2...  ...      NaN   \n",
       "2  b <article class=####Box-cYFBPY hKrxoH####><h2...  ...      NaN   \n",
       "3  b <article class=####Box-cYFBPY hKrxoH####><h2...  ...      NaN   \n",
       "4  b <article class=####Box-cYFBPY hKrxoH####><h2...  ...      NaN   \n",
       "\n",
       "  description_detailed Floor space: Number of floors: Volume:     plz  \\\n",
       "0                  NaN          NaN               NaN     NaN  5023.0   \n",
       "1                  NaN          NaN               NaN     NaN  5023.0   \n",
       "2                  NaN          NaN               NaN     NaN  5022.0   \n",
       "3                  NaN          NaN               NaN     NaN  5023.0   \n",
       "4                  NaN          NaN               NaN     NaN  5022.0   \n",
       "\n",
       "  Number of toilets: Gross yield: Minimum floor space: space_cleaned  \n",
       "0                NaN          NaN                  NaN           NaN  \n",
       "1                NaN          NaN                  NaN           NaN  \n",
       "2                NaN          NaN                  NaN           NaN  \n",
       "3                NaN          NaN                  NaN           NaN  \n",
       "4                NaN          NaN                  NaN           NaN  \n",
       "\n",
       "[5 rows x 132 columns]"
      ],
      "text/html": [
       "<div>\n",
       "<style scoped>\n",
       "    .dataframe tbody tr th:only-of-type {\n",
       "        vertical-align: middle;\n",
       "    }\n",
       "\n",
       "    .dataframe tbody tr th {\n",
       "        vertical-align: top;\n",
       "    }\n",
       "\n",
       "    .dataframe thead th {\n",
       "        text-align: right;\n",
       "    }\n",
       "</style>\n",
       "<table border=\"1\" class=\"dataframe\">\n",
       "  <thead>\n",
       "    <tr style=\"text-align: right;\">\n",
       "      <th></th>\n",
       "      <th>Municipality</th>\n",
       "      <th>Living space</th>\n",
       "      <th>Plot area</th>\n",
       "      <th>Floor space</th>\n",
       "      <th>Availability</th>\n",
       "      <th>location</th>\n",
       "      <th>description</th>\n",
       "      <th>detailed_description</th>\n",
       "      <th>url</th>\n",
       "      <th>table</th>\n",
       "      <th>...</th>\n",
       "      <th>features</th>\n",
       "      <th>description_detailed</th>\n",
       "      <th>Floor space:</th>\n",
       "      <th>Number of floors:</th>\n",
       "      <th>Volume:</th>\n",
       "      <th>plz</th>\n",
       "      <th>Number of toilets:</th>\n",
       "      <th>Gross yield:</th>\n",
       "      <th>Minimum floor space:</th>\n",
       "      <th>space_cleaned</th>\n",
       "    </tr>\n",
       "  </thead>\n",
       "  <tbody>\n",
       "    <tr>\n",
       "      <th>0</th>\n",
       "      <td>Biberstein</td>\n",
       "      <td>100 m²</td>\n",
       "      <td>NaN</td>\n",
       "      <td>NaN</td>\n",
       "      <td>On request</td>\n",
       "      <td>5023 Biberstein, AG</td>\n",
       "      <td>3.5 rooms, 100 m²«Luxuriöse Attika-Wohnung mit...</td>\n",
       "      <td>DescriptionLuxuriöse Attika-Wohnung direkt an ...</td>\n",
       "      <td>https://www.immoscout24.ch//en/d/penthouse-buy...</td>\n",
       "      <td>b &lt;article class=####Box-cYFBPY hKrxoH####&gt;&lt;h2...</td>\n",
       "      <td>...</td>\n",
       "      <td>NaN</td>\n",
       "      <td>NaN</td>\n",
       "      <td>NaN</td>\n",
       "      <td>NaN</td>\n",
       "      <td>NaN</td>\n",
       "      <td>5023.0</td>\n",
       "      <td>NaN</td>\n",
       "      <td>NaN</td>\n",
       "      <td>NaN</td>\n",
       "      <td>NaN</td>\n",
       "    </tr>\n",
       "    <tr>\n",
       "      <th>1</th>\n",
       "      <td>Biberstein</td>\n",
       "      <td>156 m²</td>\n",
       "      <td>222 m²</td>\n",
       "      <td>242 m²</td>\n",
       "      <td>On request</td>\n",
       "      <td>Buhldenstrasse 8d5023 Biberstein, AG</td>\n",
       "      <td>4.5 rooms, 156 m²«Stilvolle Liegenschaft - ruh...</td>\n",
       "      <td>DescriptionStilvolle Liegenschaft an ruhiger L...</td>\n",
       "      <td>https://www.immoscout24.ch//en/d/terrace-house...</td>\n",
       "      <td>b &lt;article class=####Box-cYFBPY hKrxoH####&gt;&lt;h2...</td>\n",
       "      <td>...</td>\n",
       "      <td>NaN</td>\n",
       "      <td>NaN</td>\n",
       "      <td>NaN</td>\n",
       "      <td>NaN</td>\n",
       "      <td>NaN</td>\n",
       "      <td>5023.0</td>\n",
       "      <td>NaN</td>\n",
       "      <td>NaN</td>\n",
       "      <td>NaN</td>\n",
       "      <td>NaN</td>\n",
       "    </tr>\n",
       "    <tr>\n",
       "      <th>2</th>\n",
       "      <td>NaN</td>\n",
       "      <td>NaN</td>\n",
       "      <td>NaN</td>\n",
       "      <td>NaN</td>\n",
       "      <td>NaN</td>\n",
       "      <td>5022 Rombach, AG</td>\n",
       "      <td>2.5 rooms, 93 m²«Moderne, lichtdurchflutete At...</td>\n",
       "      <td>detail_responsive#description_title2,5 Zimmerw...</td>\n",
       "      <td>https://www.immoscout24.ch//en/d/penthouse-buy...</td>\n",
       "      <td>b &lt;article class=####Box-cYFBPY hKrxoH####&gt;&lt;h2...</td>\n",
       "      <td>...</td>\n",
       "      <td>NaN</td>\n",
       "      <td>NaN</td>\n",
       "      <td>NaN</td>\n",
       "      <td>NaN</td>\n",
       "      <td>NaN</td>\n",
       "      <td>5022.0</td>\n",
       "      <td>NaN</td>\n",
       "      <td>NaN</td>\n",
       "      <td>NaN</td>\n",
       "      <td>NaN</td>\n",
       "    </tr>\n",
       "    <tr>\n",
       "      <th>3</th>\n",
       "      <td>Biberstein</td>\n",
       "      <td>154 m²</td>\n",
       "      <td>370 m²</td>\n",
       "      <td>257 m²</td>\n",
       "      <td>On request</td>\n",
       "      <td>Buhaldenstrasse 8A5023 Biberstein, AG</td>\n",
       "      <td>4.5 rooms, 154 m²«AgentSelly - Luxuriöses Eckh...</td>\n",
       "      <td>DescriptionDieses äusserst grosszügige Minergi...</td>\n",
       "      <td>https://www.immoscout24.ch//en/d/detached-hous...</td>\n",
       "      <td>b &lt;article class=####Box-cYFBPY hKrxoH####&gt;&lt;h2...</td>\n",
       "      <td>...</td>\n",
       "      <td>NaN</td>\n",
       "      <td>NaN</td>\n",
       "      <td>NaN</td>\n",
       "      <td>NaN</td>\n",
       "      <td>NaN</td>\n",
       "      <td>5023.0</td>\n",
       "      <td>NaN</td>\n",
       "      <td>NaN</td>\n",
       "      <td>NaN</td>\n",
       "      <td>NaN</td>\n",
       "    </tr>\n",
       "    <tr>\n",
       "      <th>4</th>\n",
       "      <td>Küttigen</td>\n",
       "      <td>142 m²</td>\n",
       "      <td>NaN</td>\n",
       "      <td>NaN</td>\n",
       "      <td>On request</td>\n",
       "      <td>5022 Rombach, AG</td>\n",
       "      <td>4.5 rooms, 142 m²«MIT GARTENSITZPLATZ UND VIEL...</td>\n",
       "      <td>DescriptionAus ehemals zwei Wohnungen wurde ei...</td>\n",
       "      <td>https://www.immoscout24.ch//en/d/flat-buy-romb...</td>\n",
       "      <td>b &lt;article class=####Box-cYFBPY hKrxoH####&gt;&lt;h2...</td>\n",
       "      <td>...</td>\n",
       "      <td>NaN</td>\n",
       "      <td>NaN</td>\n",
       "      <td>NaN</td>\n",
       "      <td>NaN</td>\n",
       "      <td>NaN</td>\n",
       "      <td>5022.0</td>\n",
       "      <td>NaN</td>\n",
       "      <td>NaN</td>\n",
       "      <td>NaN</td>\n",
       "      <td>NaN</td>\n",
       "    </tr>\n",
       "  </tbody>\n",
       "</table>\n",
       "<p>5 rows × 132 columns</p>\n",
       "</div>"
      ]
     },
     "execution_count": 47,
     "metadata": {},
     "output_type": "execute_result"
    }
   ],
   "execution_count": 47
  },
  {
   "metadata": {
    "ExecuteTime": {
     "end_time": "2024-09-23T13:19:59.625889Z",
     "start_time": "2024-09-23T13:19:59.574374Z"
    }
   },
   "cell_type": "code",
   "source": "df.info()",
   "id": "b605e5eda019b92b",
   "outputs": [
    {
     "name": "stdout",
     "output_type": "stream",
     "text": [
      "<class 'pandas.core.frame.DataFrame'>\n",
      "RangeIndex: 22481 entries, 0 to 22480\n",
      "Columns: 132 entries, Municipality to space_cleaned\n",
      "dtypes: float64(63), int64(2), object(67)\n",
      "memory usage: 22.6+ MB\n"
     ]
    }
   ],
   "execution_count": 48
  },
  {
   "metadata": {},
   "cell_type": "markdown",
   "source": "## Duplikate zählen",
   "id": "b0dedb9a12466fdd"
  },
  {
   "metadata": {
    "ExecuteTime": {
     "end_time": "2024-09-23T13:20:07.468055Z",
     "start_time": "2024-09-23T13:20:07.174432Z"
    }
   },
   "cell_type": "code",
   "source": "print(df.duplicated().sum())",
   "id": "d2654fa2401f18da",
   "outputs": [
    {
     "name": "stdout",
     "output_type": "stream",
     "text": [
      "0\n"
     ]
    }
   ],
   "execution_count": 49
  },
  {
   "metadata": {},
   "cell_type": "markdown",
   "source": "Datensatz scheint keine Duplikate zu haben.",
   "id": "f6736dc218a58f13"
  },
  {
   "metadata": {},
   "cell_type": "markdown",
   "source": "## Fehlende Daten zählen",
   "id": "71541968615cf96b"
  },
  {
   "metadata": {},
   "cell_type": "markdown",
   "source": "### Insgesamt",
   "id": "1eb938928e3e4e24"
  },
  {
   "metadata": {
    "ExecuteTime": {
     "end_time": "2024-09-23T13:24:15.764790Z",
     "start_time": "2024-09-23T13:24:15.704936Z"
    }
   },
   "cell_type": "code",
   "source": "print(df.isna().sum().sum())",
   "id": "b459ffdf5e81a026",
   "outputs": [
    {
     "name": "stdout",
     "output_type": "stream",
     "text": [
      "1179856\n"
     ]
    }
   ],
   "execution_count": 57
  },
  {
   "metadata": {},
   "cell_type": "markdown",
   "source": "Spalten mit den meisten fehlenden Werte",
   "id": "4b24b62d73d1f851"
  },
  {
   "metadata": {
    "ExecuteTime": {
     "end_time": "2024-09-23T14:14:02.295341Z",
     "start_time": "2024-09-23T14:14:02.208036Z"
    }
   },
   "cell_type": "code",
   "source": "df.isna().sum().sort_values(ascending=False).head(10)",
   "id": "1d26e97eed8058c6",
   "outputs": [
    {
     "data": {
      "text/plain": [
       "Minimum floor space:      22479\n",
       "Superficie utile          22475\n",
       "Gross return              22475\n",
       "Piano                     22471\n",
       "Superficie del terreno    22470\n",
       "Surface utile             22467\n",
       "Gross yield:              22467\n",
       "Étage                     22457\n",
       "Superficie abitabile      22454\n",
       "Comune                    22454\n",
       "dtype: int64"
      ]
     },
     "execution_count": 84,
     "metadata": {},
     "output_type": "execute_result"
    }
   ],
   "execution_count": 84
  },
  {
   "metadata": {},
   "cell_type": "markdown",
   "source": "Spalten die komplett sind ",
   "id": "513705acc28cf409"
  },
  {
   "metadata": {
    "ExecuteTime": {
     "end_time": "2024-09-23T13:33:27.032672Z",
     "start_time": "2024-09-23T13:33:26.974319Z"
    }
   },
   "cell_type": "code",
   "source": "print((df.isna().sum() == 0).sum())",
   "id": "c8fb2832a85a6bac",
   "outputs": [
    {
     "name": "stdout",
     "output_type": "stream",
     "text": [
      "48\n"
     ]
    }
   ],
   "execution_count": 74
  },
  {
   "metadata": {},
   "cell_type": "markdown",
   "source": "Im Vergleich zum ganzen Dataset",
   "id": "4fd92d9bee12eb9d"
  },
  {
   "metadata": {
    "ExecuteTime": {
     "end_time": "2024-09-23T14:09:29.085942Z",
     "start_time": "2024-09-23T14:09:29.075357Z"
    }
   },
   "cell_type": "code",
   "source": "df.shape",
   "id": "852ecd89263f6e0c",
   "outputs": [
    {
     "data": {
      "text/plain": [
       "(22481, 132)"
      ]
     },
     "execution_count": 83,
     "metadata": {},
     "output_type": "execute_result"
    }
   ],
   "execution_count": 83
  },
  {
   "metadata": {},
   "cell_type": "markdown",
   "source": [
    "**Zusammengefasst:** <br>\n",
    "Es gibt sehr viele fehlende Werte. Wenn man die Spalten untersucht sieht man, dass es Saplten gibt wie \"Minimum floor space:\" welche 22479 fehlende Werte von 22481 hat. Es gibt aber auch 48 von 132 Spalten die keine fehlende Werte enthalten.  \n"
   ],
   "id": "2102dc93f4a0f60"
  },
  {
   "metadata": {},
   "cell_type": "markdown",
   "source": "",
   "id": "564793676030afd8"
  },
  {
   "metadata": {
    "ExecuteTime": {
     "end_time": "2024-09-23T13:29:07.200689Z",
     "start_time": "2024-09-23T13:29:07.172425Z"
    }
   },
   "cell_type": "code",
   "outputs": [
    {
     "data": {
      "text/plain": [
       "      Municipality Living space Plot area Floor space Availability  \\\n",
       "13553     Ecublens          NaN       NaN         NaN          NaN   \n",
       "13554     Ecublens          NaN       NaN         NaN          NaN   \n",
       "\n",
       "                                  location  \\\n",
       "13553  Chem. de Montaney 40, 1024 Ecublens   \n",
       "13554  Chem. de Montaney 40, 1024 Ecublens   \n",
       "\n",
       "                                             description  \\\n",
       "13553  Très bel appartement de 3 1/2 pièces sis dans ...   \n",
       "13554  Très bel appartement de 3 1/2 pièces sis dans ...   \n",
       "\n",
       "                                    detailed_description  \\\n",
       "13553  Description\\n\"Appartement en attique de 3 1/2 ...   \n",
       "13554  Description\\n\"Appartement en attique de 3 1/2 ...   \n",
       "\n",
       "                                          url table  ...  \\\n",
       "13553  https://www.homegate.ch/buy/3001883362   NaN  ...   \n",
       "13554  https://www.homegate.ch/buy/3002001035   NaN  ...   \n",
       "\n",
       "                                                features  \\\n",
       "13553  Pets allowed\\tBalcony / Terrace\\tWashing machi...   \n",
       "13554  Pets allowed\\tBalcony / Terrace\\tWashing machi...   \n",
       "\n",
       "                                    description_detailed Floor space:  \\\n",
       "13553  Description\\n\"Appartement en attique de 3 1/2 ...       100 m2   \n",
       "13554  Description\\n\"Appartement en attique de 3 1/2 ...       100 m2   \n",
       "\n",
       "      Number of floors: Volume:     plz Number of toilets: Gross yield:  \\\n",
       "13553               3.0     NaN  1024.0                NaN          NaN   \n",
       "13554               3.0     NaN  1024.0                NaN          NaN   \n",
       "\n",
       "      Minimum floor space: space_cleaned  \n",
       "13553                88 m2         100.0  \n",
       "13554                88 m2         100.0  \n",
       "\n",
       "[2 rows x 132 columns]"
      ],
      "text/html": [
       "<div>\n",
       "<style scoped>\n",
       "    .dataframe tbody tr th:only-of-type {\n",
       "        vertical-align: middle;\n",
       "    }\n",
       "\n",
       "    .dataframe tbody tr th {\n",
       "        vertical-align: top;\n",
       "    }\n",
       "\n",
       "    .dataframe thead th {\n",
       "        text-align: right;\n",
       "    }\n",
       "</style>\n",
       "<table border=\"1\" class=\"dataframe\">\n",
       "  <thead>\n",
       "    <tr style=\"text-align: right;\">\n",
       "      <th></th>\n",
       "      <th>Municipality</th>\n",
       "      <th>Living space</th>\n",
       "      <th>Plot area</th>\n",
       "      <th>Floor space</th>\n",
       "      <th>Availability</th>\n",
       "      <th>location</th>\n",
       "      <th>description</th>\n",
       "      <th>detailed_description</th>\n",
       "      <th>url</th>\n",
       "      <th>table</th>\n",
       "      <th>...</th>\n",
       "      <th>features</th>\n",
       "      <th>description_detailed</th>\n",
       "      <th>Floor space:</th>\n",
       "      <th>Number of floors:</th>\n",
       "      <th>Volume:</th>\n",
       "      <th>plz</th>\n",
       "      <th>Number of toilets:</th>\n",
       "      <th>Gross yield:</th>\n",
       "      <th>Minimum floor space:</th>\n",
       "      <th>space_cleaned</th>\n",
       "    </tr>\n",
       "  </thead>\n",
       "  <tbody>\n",
       "    <tr>\n",
       "      <th>13553</th>\n",
       "      <td>Ecublens</td>\n",
       "      <td>NaN</td>\n",
       "      <td>NaN</td>\n",
       "      <td>NaN</td>\n",
       "      <td>NaN</td>\n",
       "      <td>Chem. de Montaney 40, 1024 Ecublens</td>\n",
       "      <td>Très bel appartement de 3 1/2 pièces sis dans ...</td>\n",
       "      <td>Description\\n\"Appartement en attique de 3 1/2 ...</td>\n",
       "      <td>https://www.homegate.ch/buy/3001883362</td>\n",
       "      <td>NaN</td>\n",
       "      <td>...</td>\n",
       "      <td>Pets allowed\\tBalcony / Terrace\\tWashing machi...</td>\n",
       "      <td>Description\\n\"Appartement en attique de 3 1/2 ...</td>\n",
       "      <td>100 m2</td>\n",
       "      <td>3.0</td>\n",
       "      <td>NaN</td>\n",
       "      <td>1024.0</td>\n",
       "      <td>NaN</td>\n",
       "      <td>NaN</td>\n",
       "      <td>88 m2</td>\n",
       "      <td>100.0</td>\n",
       "    </tr>\n",
       "    <tr>\n",
       "      <th>13554</th>\n",
       "      <td>Ecublens</td>\n",
       "      <td>NaN</td>\n",
       "      <td>NaN</td>\n",
       "      <td>NaN</td>\n",
       "      <td>NaN</td>\n",
       "      <td>Chem. de Montaney 40, 1024 Ecublens</td>\n",
       "      <td>Très bel appartement de 3 1/2 pièces sis dans ...</td>\n",
       "      <td>Description\\n\"Appartement en attique de 3 1/2 ...</td>\n",
       "      <td>https://www.homegate.ch/buy/3002001035</td>\n",
       "      <td>NaN</td>\n",
       "      <td>...</td>\n",
       "      <td>Pets allowed\\tBalcony / Terrace\\tWashing machi...</td>\n",
       "      <td>Description\\n\"Appartement en attique de 3 1/2 ...</td>\n",
       "      <td>100 m2</td>\n",
       "      <td>3.0</td>\n",
       "      <td>NaN</td>\n",
       "      <td>1024.0</td>\n",
       "      <td>NaN</td>\n",
       "      <td>NaN</td>\n",
       "      <td>88 m2</td>\n",
       "      <td>100.0</td>\n",
       "    </tr>\n",
       "  </tbody>\n",
       "</table>\n",
       "<p>2 rows × 132 columns</p>\n",
       "</div>"
      ]
     },
     "execution_count": 64,
     "metadata": {},
     "output_type": "execute_result"
    }
   ],
   "execution_count": 64,
   "source": "df.loc[df[\"Minimum floor space:\"].isna() == False]",
   "id": "2c90be8aa86a4e96"
  },
  {
   "metadata": {},
   "cell_type": "code",
   "outputs": [],
   "execution_count": null,
   "source": "",
   "id": "f712374d9200cc5e"
  }
 ],
 "metadata": {
  "kernelspec": {
   "display_name": "Python 3",
   "language": "python",
   "name": "python3"
  },
  "language_info": {
   "codemirror_mode": {
    "name": "ipython",
    "version": 2
   },
   "file_extension": ".py",
   "mimetype": "text/x-python",
   "name": "python",
   "nbconvert_exporter": "python",
   "pygments_lexer": "ipython2",
   "version": "2.7.6"
  }
 },
 "nbformat": 4,
 "nbformat_minor": 5
}

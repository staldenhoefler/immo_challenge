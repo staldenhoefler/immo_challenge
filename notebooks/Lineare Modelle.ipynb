{
 "cells": [
  {
   "metadata": {
    "ExecuteTime": {
     "end_time": "2025-01-03T14:32:43.968378Z",
     "start_time": "2025-01-03T14:32:43.950287Z"
    }
   },
   "cell_type": "code",
   "source": [
    "import src.dataPipeline as dataPipeline\n",
    "import importlib\n",
    "importlib.reload(dataPipeline)\n",
    "import matplotlib.pyplot as plt\n",
    "import numpy as np\n",
    "import pandas as pd\n",
    "import seaborn as sns\n",
    "\n",
    "from sklearn.linear_model import LinearRegression\n",
    "from sklearn import linear_model\n",
    "from sklearn.model_selection import train_test_split\n",
    "from sklearn.metrics import mean_absolute_percentage_error, r2_score\n",
    "from sklearn.impute import KNNImputer\n",
    "from sklearn.preprocessing import StandardScaler\n",
    "from sklearn.model_selection import KFold\n",
    "\n",
    "importlib.reload(dataPipeline)\n"
   ],
   "id": "221b3c3f377c0656",
   "outputs": [
    {
     "data": {
      "text/plain": [
       "<module 'src.dataPipeline' from 'C:\\\\Users\\\\wartm\\\\Documents\\\\FHNW\\\\immo_challenge\\\\src\\\\dataPipeline.py'>"
      ]
     },
     "execution_count": 12,
     "metadata": {},
     "output_type": "execute_result"
    }
   ],
   "execution_count": 12
  },
  {
   "metadata": {
    "ExecuteTime": {
     "end_time": "2025-01-03T14:23:41.917209Z",
     "start_time": "2025-01-03T14:23:41.906530Z"
    }
   },
   "cell_type": "code",
   "source": [
    "def plot_residuals(y_test, y_pred):\n",
    "    #subplot with residuals vs. predicted values and histogram of residuals\n",
    "    fig, axs = plt.subplots(1, 2, figsize=(15, 5))\n",
    "    #residuals vs. predicted values\n",
    "    sns.scatterplot(x=y_pred, y=y_test - y_pred, color='blue',ax=axs[0])\n",
    "    axs[0].axhline(y=0, color='r', linestyle='-')\n",
    "    axs[0].set_xlabel('Predicted values')\n",
    "    axs[0].set_ylabel('Residuals')\n",
    "    axs[0].set_title('Residuals vs. Predicted values')\n",
    "    #histogram of residuals\n",
    "    sns.histplot(y_test - y_pred, bins=30, ax=axs[1])\n",
    "    axs[1].set_title('Histogram of Residuals')\n",
    "    plt.show()"
   ],
   "id": "5636dfe34904d3b0",
   "outputs": [],
   "execution_count": 2
  },
  {
   "metadata": {
    "ExecuteTime": {
     "end_time": "2025-01-03T14:23:41.953228Z",
     "start_time": "2025-01-03T14:23:41.944314Z"
    }
   },
   "cell_type": "code",
   "source": [
    "def calculate_metrics(X_train, y_test, y_pred):\n",
    "    n = len(y_test)  # Number of observations\n",
    "    k = X_train.shape[1]  # Number of predictors\n",
    "    r2 = round(r2_score(y_test, y_pred), 4)\n",
    "    R2_adjusted = round(1 - (1 - r2) * (n - 1) / (n - k - 1), 4)\n",
    "    mape = round(mean_absolute_percentage_error(y_test, y_pred) * 100, 4)\n",
    "    return r2, R2_adjusted, mape"
   ],
   "id": "be4312aee8b8c581",
   "outputs": [],
   "execution_count": 3
  },
  {
   "metadata": {
    "ExecuteTime": {
     "end_time": "2025-01-03T14:32:28.111991Z",
     "start_time": "2025-01-03T14:32:28.081817Z"
    }
   },
   "cell_type": "code",
   "source": [
    "dp = dataPipeline.DataPipeline()\n",
    "df = dp.runPipeline(\n",
    "    filePath=\"../data/immo_data_202208_v2.csv\",\n",
    "    imputer=None,\n",
    "    normalizeAndStandardize= False,\n",
    "    basic_house_imputer = True,\n",
    "    web=True,\n",
    "    get_dummies = False\n",
    ")"
   ],
   "id": "20deac094fb3c596",
   "outputs": [
    {
     "ename": "TypeError",
     "evalue": "DataPipeline.runPipeline() got an unexpected keyword argument 'web'",
     "output_type": "error",
     "traceback": [
      "\u001B[1;31m---------------------------------------------------------------------------\u001B[0m",
      "\u001B[1;31mTypeError\u001B[0m                                 Traceback (most recent call last)",
      "Cell \u001B[1;32mIn[11], line 2\u001B[0m\n\u001B[0;32m      1\u001B[0m dp \u001B[38;5;241m=\u001B[39m dataPipeline\u001B[38;5;241m.\u001B[39mDataPipeline()\n\u001B[1;32m----> 2\u001B[0m df \u001B[38;5;241m=\u001B[39m \u001B[43mdp\u001B[49m\u001B[38;5;241;43m.\u001B[39;49m\u001B[43mrunPipeline\u001B[49m\u001B[43m(\u001B[49m\n\u001B[0;32m      3\u001B[0m \u001B[43m    \u001B[49m\u001B[43mfilePath\u001B[49m\u001B[38;5;241;43m=\u001B[39;49m\u001B[38;5;124;43m\"\u001B[39;49m\u001B[38;5;124;43m../data/immo_data_202208_v2.csv\u001B[39;49m\u001B[38;5;124;43m\"\u001B[39;49m\u001B[43m,\u001B[49m\n\u001B[0;32m      4\u001B[0m \u001B[43m    \u001B[49m\u001B[43mimputer\u001B[49m\u001B[38;5;241;43m=\u001B[39;49m\u001B[38;5;28;43;01mNone\u001B[39;49;00m\u001B[43m,\u001B[49m\n\u001B[0;32m      5\u001B[0m \u001B[43m    \u001B[49m\u001B[43mnormalizeAndStandardize\u001B[49m\u001B[38;5;241;43m=\u001B[39;49m\u001B[43m \u001B[49m\u001B[38;5;28;43;01mFalse\u001B[39;49;00m\u001B[43m,\u001B[49m\n\u001B[0;32m      6\u001B[0m \u001B[43m    \u001B[49m\u001B[43mbasic_house_imputer\u001B[49m\u001B[43m \u001B[49m\u001B[38;5;241;43m=\u001B[39;49m\u001B[43m \u001B[49m\u001B[38;5;28;43;01mTrue\u001B[39;49;00m\u001B[43m,\u001B[49m\n\u001B[0;32m      7\u001B[0m \u001B[43m    \u001B[49m\u001B[43mweb\u001B[49m\u001B[38;5;241;43m=\u001B[39;49m\u001B[38;5;28;43;01mTrue\u001B[39;49;00m\u001B[43m,\u001B[49m\n\u001B[0;32m      8\u001B[0m \u001B[43m    \u001B[49m\u001B[43mget_dummies\u001B[49m\u001B[43m \u001B[49m\u001B[38;5;241;43m=\u001B[39;49m\u001B[43m \u001B[49m\u001B[38;5;28;43;01mFalse\u001B[39;49;00m\n\u001B[0;32m      9\u001B[0m \u001B[43m)\u001B[49m\n",
      "\u001B[1;31mTypeError\u001B[0m: DataPipeline.runPipeline() got an unexpected keyword argument 'web'"
     ]
    }
   ],
   "execution_count": 11
  },
  {
   "metadata": {},
   "cell_type": "code",
   "outputs": [],
   "execution_count": null,
   "source": "df['price_cleaned'].isna().sum()",
   "id": "a5b8f71bd68058ff"
  },
  {
   "metadata": {},
   "cell_type": "code",
   "outputs": [],
   "execution_count": null,
   "source": "df.head()",
   "id": "5324144c21a28ada"
  },
  {
   "metadata": {},
   "cell_type": "code",
   "outputs": [],
   "execution_count": null,
   "source": "sns.scatterplot(data=df, x=\"Space extracted\", y = \"price_cleaned\",hue=\"region_group\")",
   "id": "ec5f8ae48678abb1"
  },
  {
   "metadata": {},
   "cell_type": "markdown",
   "source": "# Lineare Modelle mit Space extracted",
   "id": "16ab90d0b7de5f93"
  },
  {
   "metadata": {},
   "cell_type": "code",
   "outputs": [],
   "execution_count": null,
   "source": "df[['Space extracted']].isna().sum()",
   "id": "e0031a8bf78b7a7a"
  },
  {
   "metadata": {},
   "cell_type": "code",
   "outputs": [],
   "execution_count": null,
   "source": "df[['Space extracted']] = df[['Space extracted']].astype(float)",
   "id": "bd8325353a872e34"
  },
  {
   "metadata": {},
   "cell_type": "code",
   "outputs": [],
   "execution_count": null,
   "source": [
    "impute_mean = df.copy()\n",
    "impute_mean['Space extracted'] = impute_mean['Space extracted'].fillna(impute_mean['Space extracted'].mean())\n",
    "impute_delete = df.copy()\n",
    "impute_delete = impute_delete.dropna(subset=['Space extracted'])\n",
    "impute_median = df.copy()\n",
    "impute_median['Space extracted'] = impute_median['Space extracted'].fillna(impute_median['Space extracted'].median())\n",
    "impute_knn = df.copy()\n",
    "# Versuch Fläche 1 imputieren\n",
    "impute_knn.loc[impute_knn['Space extracted'] < 5, 'Space extracted'] = np.nan\n",
    "imputer = KNNImputer(n_neighbors=5)\n",
    "impute_knn['Space extracted'] = imputer.fit_transform(impute_knn[['Space extracted']])"
   ],
   "id": "214c4e10cd7cc43f"
  },
  {
   "metadata": {},
   "cell_type": "code",
   "outputs": [],
   "execution_count": null,
   "source": [
    "y = np.log(impute_knn[['price_cleaned']].values)\n",
    "X = np.log(impute_knn[['Space extracted']].values)\n",
    "\n",
    "X_train, X_test, y_train, y_test = train_test_split(X, y, test_size=0.2, shuffle=True, random_state=42)\n",
    "model = LinearRegression()\n",
    "model.fit(X_train, y_train)\n",
    "y_pred = model.predict(X_test)"
   ],
   "id": "1088d0adcb3552ea"
  },
  {
   "metadata": {},
   "cell_type": "code",
   "outputs": [],
   "execution_count": null,
   "source": [
    "plt.scatter(X_test, y_test)\n",
    "plt.plot(X_test, model.predict(X_test), color='red')\n",
    "plt.show()"
   ],
   "id": "995cbac2b622a2eb"
  },
  {
   "metadata": {},
   "cell_type": "code",
   "outputs": [],
   "execution_count": null,
   "source": "plot_residuals(y_test.flatten(), y_pred.flatten())",
   "id": "167e30c47df6b309"
  },
  {
   "metadata": {},
   "cell_type": "code",
   "outputs": [],
   "execution_count": null,
   "source": [
    "#create df with X_test and y_test and y_pred\n",
    "df_pred = pd.DataFrame(data={'Space extracted': X_test.flatten(), 'price_cleaned': y_test.flatten(), 'price_pred': y_pred.flatten()})\n",
    "\n",
    "df_pred[\"Diff\"] = df_pred[\"price_cleaned\"] - df_pred[\"price_pred\"]\n",
    "df_pred"
   ],
   "id": "3a55377f64e396a0"
  },
  {
   "metadata": {},
   "cell_type": "code",
   "outputs": [],
   "execution_count": null,
   "source": [
    "#scaling y_pred back to original scale\n",
    "y_pred = np.exp(y_pred)\n",
    "y_test = np.exp(y_test)\n",
    "\n",
    "r2, R2_adjusted, mape = calculate_metrics(X_train,y_test, y_pred)\n",
    "print(f\"R2 {r2},Adjusted R^2:{R2_adjusted}, MAPE:{mape}%\")"
   ],
   "id": "aabe4366cc7f0aa2"
  },
  {
   "metadata": {},
   "cell_type": "markdown",
   "source": "# Lineare Modelle mit Space extracted und No. of rooms",
   "id": "cd85769d250d2746"
  },
  {
   "metadata": {},
   "cell_type": "code",
   "outputs": [],
   "execution_count": null,
   "source": "df_two_features = df[['Space extracted', 'No. of rooms:', 'price_cleaned']].copy()",
   "id": "1a903e82da2c866f"
  },
  {
   "metadata": {},
   "cell_type": "code",
   "outputs": [],
   "execution_count": null,
   "source": [
    "imputer = KNNImputer(n_neighbors=5)\n",
    "df_two_features['Space extracted'] = imputer.fit_transform(df_two_features[['Space extracted']])\n",
    "df_two_features['No. of rooms:'] = imputer.fit_transform(df_two_features[['No. of rooms:']])"
   ],
   "id": "2ed446e2e0a54037"
  },
  {
   "metadata": {},
   "cell_type": "code",
   "outputs": [],
   "execution_count": null,
   "source": [
    "df_two_features[\"Space extracted\"] = np.log(df_two_features[['Space extracted']])\n",
    "df_two_features[\"No. of rooms:\"] = np.log(df_two_features[['No. of rooms:']])"
   ],
   "id": "ce8b582185a5e7f3"
  },
  {
   "metadata": {},
   "cell_type": "code",
   "outputs": [],
   "execution_count": null,
   "source": [
    "X = df_two_features.drop(columns=[\"price_cleaned\"]).values\n",
    "y = np.log(df_two_features[['price_cleaned']].values)\n",
    "\n",
    "X_train, X_test, y_train, y_test = train_test_split(X, y, test_size=0.2, shuffle=True, random_state=42)\n",
    "#standardizing with scikit learn\n",
    "scaler = StandardScaler()\n",
    "X_train = scaler.fit_transform(X_train)  # Fit on training data and transform\n",
    "X_test = scaler.transform(X_test)       # Transform test data with the same scaler\n",
    "\n",
    "model = LinearRegression()\n",
    "model.fit(X_train, y_train)\n",
    "y_pred = model.predict(X_test)\n"
   ],
   "id": "5d3c8d1a15117cc1"
  },
  {
   "metadata": {},
   "cell_type": "code",
   "outputs": [],
   "execution_count": null,
   "source": "plot_residuals(y_test.flatten(), y_pred.flatten())",
   "id": "a49dfe2aaf7efa2e"
  },
  {
   "metadata": {},
   "cell_type": "code",
   "outputs": [],
   "execution_count": null,
   "source": [
    "#scaling y_pred back to original scale\n",
    "y_pred = np.exp(y_pred)\n",
    "y_test = np.exp(y_test)\n",
    "\n",
    "r2, R2_adjusted, mape = calculate_metrics(X_train,y_test, y_pred)\n",
    "print(f\"R2 {r2},Adjusted R^2:{R2_adjusted}, MAPE:{mape}%\")"
   ],
   "id": "305710b221f0a6a8"
  },
  {
   "metadata": {},
   "cell_type": "markdown",
   "source": "# Modelle mit einfachen Features\n",
   "id": "1327d4604e9c1f74"
  },
  {
   "metadata": {
    "ExecuteTime": {
     "end_time": "2025-01-03T14:23:49.260050Z",
     "start_time": "2025-01-03T14:23:49.221789Z"
    }
   },
   "cell_type": "code",
   "source": [
    "easy_features = [\"Floor\",\"price_cleaned\",\"detail_responsive#surface_usable\",\"Number of floors:\",\"Plot_area_unified\",\"Space extracted\",\"No. of rooms:\",\"type_unified\"]\n",
    "\n",
    "df_small = df[easy_features].copy()\n",
    "df_small.head()"
   ],
   "id": "b60fc68cf67e72a0",
   "outputs": [
    {
     "data": {
      "text/plain": [
       "   Floor  price_cleaned  detail_responsive#surface_usable  Number of floors:  \\\n",
       "0    4.0      1150000.0                               0.0                1.0   \n",
       "1    0.0      1420000.0                               0.0                1.0   \n",
       "2    2.0       720000.0                               0.0                1.0   \n",
       "3    0.0      1430000.0                               0.0                1.0   \n",
       "4    0.0       995000.0                               0.0                1.0   \n",
       "\n",
       "   Plot_area_unified  Space extracted  No. of rooms:    type_unified  \n",
       "0                0.0            100.0            5.0       penthouse  \n",
       "1              222.0            156.0            5.0   terrace-house  \n",
       "2                0.0             93.0            5.0       penthouse  \n",
       "3              370.0            154.0            5.0  detached-house  \n",
       "4                0.0            142.0            5.0            flat  "
      ],
      "text/html": [
       "<div>\n",
       "<style scoped>\n",
       "    .dataframe tbody tr th:only-of-type {\n",
       "        vertical-align: middle;\n",
       "    }\n",
       "\n",
       "    .dataframe tbody tr th {\n",
       "        vertical-align: top;\n",
       "    }\n",
       "\n",
       "    .dataframe thead th {\n",
       "        text-align: right;\n",
       "    }\n",
       "</style>\n",
       "<table border=\"1\" class=\"dataframe\">\n",
       "  <thead>\n",
       "    <tr style=\"text-align: right;\">\n",
       "      <th></th>\n",
       "      <th>Floor</th>\n",
       "      <th>price_cleaned</th>\n",
       "      <th>detail_responsive#surface_usable</th>\n",
       "      <th>Number of floors:</th>\n",
       "      <th>Plot_area_unified</th>\n",
       "      <th>Space extracted</th>\n",
       "      <th>No. of rooms:</th>\n",
       "      <th>type_unified</th>\n",
       "    </tr>\n",
       "  </thead>\n",
       "  <tbody>\n",
       "    <tr>\n",
       "      <th>0</th>\n",
       "      <td>4.0</td>\n",
       "      <td>1150000.0</td>\n",
       "      <td>0.0</td>\n",
       "      <td>1.0</td>\n",
       "      <td>0.0</td>\n",
       "      <td>100.0</td>\n",
       "      <td>5.0</td>\n",
       "      <td>penthouse</td>\n",
       "    </tr>\n",
       "    <tr>\n",
       "      <th>1</th>\n",
       "      <td>0.0</td>\n",
       "      <td>1420000.0</td>\n",
       "      <td>0.0</td>\n",
       "      <td>1.0</td>\n",
       "      <td>222.0</td>\n",
       "      <td>156.0</td>\n",
       "      <td>5.0</td>\n",
       "      <td>terrace-house</td>\n",
       "    </tr>\n",
       "    <tr>\n",
       "      <th>2</th>\n",
       "      <td>2.0</td>\n",
       "      <td>720000.0</td>\n",
       "      <td>0.0</td>\n",
       "      <td>1.0</td>\n",
       "      <td>0.0</td>\n",
       "      <td>93.0</td>\n",
       "      <td>5.0</td>\n",
       "      <td>penthouse</td>\n",
       "    </tr>\n",
       "    <tr>\n",
       "      <th>3</th>\n",
       "      <td>0.0</td>\n",
       "      <td>1430000.0</td>\n",
       "      <td>0.0</td>\n",
       "      <td>1.0</td>\n",
       "      <td>370.0</td>\n",
       "      <td>154.0</td>\n",
       "      <td>5.0</td>\n",
       "      <td>detached-house</td>\n",
       "    </tr>\n",
       "    <tr>\n",
       "      <th>4</th>\n",
       "      <td>0.0</td>\n",
       "      <td>995000.0</td>\n",
       "      <td>0.0</td>\n",
       "      <td>1.0</td>\n",
       "      <td>0.0</td>\n",
       "      <td>142.0</td>\n",
       "      <td>5.0</td>\n",
       "      <td>flat</td>\n",
       "    </tr>\n",
       "  </tbody>\n",
       "</table>\n",
       "</div>"
      ]
     },
     "execution_count": 5,
     "metadata": {},
     "output_type": "execute_result"
    }
   ],
   "execution_count": 5
  },
  {
   "metadata": {
    "ExecuteTime": {
     "end_time": "2025-01-03T12:47:18.800569Z",
     "start_time": "2025-01-03T12:47:12.850093Z"
    }
   },
   "cell_type": "code",
   "source": [
    "#Fill na for Floor, Space extracted No. of rooms: with knn\n",
    "imputer = KNNImputer(n_neighbors=5)\n",
    "df_small['Floor'] = imputer.fit_transform(df_small[['Floor']])\n",
    "df_small['Space extracted'] = imputer.fit_transform(df_small[['Space extracted']])\n",
    "df_small['No. of rooms:'] = imputer.fit_transform(df_small[['No. of rooms:']])"
   ],
   "id": "f57a37d9b8e1def0",
   "outputs": [],
   "execution_count": 8
  },
  {
   "metadata": {
    "ExecuteTime": {
     "end_time": "2025-01-03T12:47:18.827849Z",
     "start_time": "2025-01-03T12:47:18.811770Z"
    }
   },
   "cell_type": "code",
   "source": "df_small.isna().sum()",
   "id": "b51ba1b87ed2b052",
   "outputs": [
    {
     "data": {
      "text/plain": [
       "Floor                               0\n",
       "price_cleaned                       0\n",
       "detail_responsive#surface_usable    0\n",
       "Number of floors:                   0\n",
       "Plot_area_unified                   0\n",
       "Space extracted                     0\n",
       "No. of rooms:                       0\n",
       "type_unified                        0\n",
       "dtype: int64"
      ]
     },
     "execution_count": 9,
     "metadata": {},
     "output_type": "execute_result"
    }
   ],
   "execution_count": 9
  },
  {
   "metadata": {
    "ExecuteTime": {
     "end_time": "2025-01-03T12:47:18.977222Z",
     "start_time": "2025-01-03T12:47:18.950056Z"
    }
   },
   "cell_type": "code",
   "source": [
    "df_small['Space extracted'] = np.log(df_small[['Space extracted']])\n",
    "df_small = pd.get_dummies(df_small, columns=['type_unified'], drop_first=True)"
   ],
   "id": "52b132021974f0ed",
   "outputs": [],
   "execution_count": 10
  },
  {
   "metadata": {
    "ExecuteTime": {
     "end_time": "2025-01-03T12:47:19.462112Z",
     "start_time": "2025-01-03T12:47:19.140038Z"
    }
   },
   "cell_type": "code",
   "source": [
    "X = df_small.drop(columns=[\"price_cleaned\"]).values\n",
    "y = np.log(df_small[['price_cleaned']].values)\n",
    "\n",
    "X_train, X_test, y_train, y_test = train_test_split(X, y, test_size=0.2, shuffle=True, random_state=42)\n",
    "#standardizing with scikit learn\n",
    "scaler = StandardScaler()\n",
    "X_train[:, :6] = scaler.fit_transform(X_train[:, :6])\n",
    "X_test[:, :6] = scaler.transform(X_test[:, :6])\n",
    "\n",
    "model = LinearRegression()\n",
    "model.fit(X_train, y_train)\n",
    "y_pred = model.predict(X_test)"
   ],
   "id": "c6c75c0d3b89ad2c",
   "outputs": [],
   "execution_count": 11
  },
  {
   "metadata": {
    "ExecuteTime": {
     "end_time": "2025-01-03T12:47:20.314242Z",
     "start_time": "2025-01-03T12:47:19.469625Z"
    }
   },
   "cell_type": "code",
   "source": "plot_residuals(y_test.flatten(), y_pred.flatten())",
   "id": "ac979abe87e90ed7",
   "outputs": [
    {
     "data": {
      "text/plain": [
       "<Figure size 1500x500 with 2 Axes>"
      ],
      "image/png": "[encoded data removed]"
     },
     "metadata": {},
     "output_type": "display_data"
    }
   ],
   "execution_count": 12
  },
  {
   "metadata": {
    "ExecuteTime": {
     "end_time": "2025-01-03T12:47:20.433753Z",
     "start_time": "2025-01-03T12:47:20.403378Z"
    }
   },
   "cell_type": "code",
   "source": [
    "#scaling y_pred back to original scale\n",
    "y_pred = np.exp(y_pred)\n",
    "y_test = np.exp(y_test)\n",
    "\n",
    "r2, R2_adjusted, mape = calculate_metrics(X_train,y_test, y_pred)\n",
    "print(f\"R2 {r2},Adjusted R^2:{R2_adjusted}, MAPE:{mape}%\")"
   ],
   "id": "e3b7f2c8ea2c616d",
   "outputs": [
    {
     "name": "stdout",
     "output_type": "stream",
     "text": [
      "R2 0.3114,Adjusted R^2:0.3071, MAPE:46.8157%\n"
     ]
    }
   ],
   "execution_count": 13
  },
  {
   "metadata": {},
   "cell_type": "markdown",
   "source": "# Modelle mit bestehen Features + Standort",
   "id": "b69c914e4c1d0730"
  },
  {
   "metadata": {
    "ExecuteTime": {
     "end_time": "2025-01-03T14:24:41.770368Z",
     "start_time": "2025-01-03T14:24:41.746536Z"
    }
   },
   "cell_type": "code",
   "source": "df.head()",
   "id": "cb9e45bd3b03bd6c",
   "outputs": [
    {
     "data": {
      "text/plain": [
       "  Availability  Floor  detail_responsive#surface_usable  Floor_space_merged  \\\n",
       "0   On request    4.0                               0.0                 NaN   \n",
       "1   On request    0.0                               0.0               242.0   \n",
       "2  Immediately    2.0                               0.0                 NaN   \n",
       "3   On request    0.0                               0.0               257.0   \n",
       "4   On request    0.0                               0.0                 NaN   \n",
       "\n",
       "   ForestDensityL  ForestDensityM  ForestDensityS  NoisePollutionRailwayL  \\\n",
       "0        0.511176        0.286451        0.090908                     0.0   \n",
       "1        0.511176        0.286451        0.090908                     0.0   \n",
       "2        0.163362        0.095877        0.001911                     0.0   \n",
       "3        0.511176        0.286451        0.090908                     0.0   \n",
       "4        0.333865        0.279276        0.145835                     0.0   \n",
       "\n",
       "   NoisePollutionRailwayM  NoisePollutionRailwayS  ...  gde_workers_total  \\\n",
       "0                     0.0                     0.0  ...              331.0   \n",
       "1                     0.0                     0.0  ...              331.0   \n",
       "2                     0.0                     0.0  ...            33493.0   \n",
       "3                     0.0                     0.0  ...              331.0   \n",
       "4                     0.0                     0.0  ...             1355.0   \n",
       "\n",
       "   price_cleaned  Space extracted    type_unified  Plot_area_unified  \\\n",
       "0      1150000.0            100.0       penthouse                0.0   \n",
       "1      1420000.0            156.0   terrace-house              222.0   \n",
       "2       720000.0             93.0       penthouse                0.0   \n",
       "3      1430000.0            154.0  detached-house              370.0   \n",
       "4       995000.0            142.0            flat                0.0   \n",
       "\n",
       "   No. of rooms:  Last refurbishment:  Year built:  Number of floors:  \\\n",
       "0            5.0                  NaN          NaN                1.0   \n",
       "1            5.0                  NaN          NaN                1.0   \n",
       "2            5.0                  NaN          NaN                1.0   \n",
       "3            5.0                  NaN          NaN                1.0   \n",
       "4            5.0                  NaN          NaN                1.0   \n",
       "\n",
       "   region_group  \n",
       "0          75.0  \n",
       "1          75.0  \n",
       "2          75.0  \n",
       "3          75.0  \n",
       "4          75.0  \n",
       "\n",
       "[5 rows x 59 columns]"
      ],
      "text/html": [
       "<div>\n",
       "<style scoped>\n",
       "    .dataframe tbody tr th:only-of-type {\n",
       "        vertical-align: middle;\n",
       "    }\n",
       "\n",
       "    .dataframe tbody tr th {\n",
       "        vertical-align: top;\n",
       "    }\n",
       "\n",
       "    .dataframe thead th {\n",
       "        text-align: right;\n",
       "    }\n",
       "</style>\n",
       "<table border=\"1\" class=\"dataframe\">\n",
       "  <thead>\n",
       "    <tr style=\"text-align: right;\">\n",
       "      <th></th>\n",
       "      <th>Availability</th>\n",
       "      <th>Floor</th>\n",
       "      <th>detail_responsive#surface_usable</th>\n",
       "      <th>Floor_space_merged</th>\n",
       "      <th>ForestDensityL</th>\n",
       "      <th>ForestDensityM</th>\n",
       "      <th>ForestDensityS</th>\n",
       "      <th>NoisePollutionRailwayL</th>\n",
       "      <th>NoisePollutionRailwayM</th>\n",
       "      <th>NoisePollutionRailwayS</th>\n",
       "      <th>...</th>\n",
       "      <th>gde_workers_total</th>\n",
       "      <th>price_cleaned</th>\n",
       "      <th>Space extracted</th>\n",
       "      <th>type_unified</th>\n",
       "      <th>Plot_area_unified</th>\n",
       "      <th>No. of rooms:</th>\n",
       "      <th>Last refurbishment:</th>\n",
       "      <th>Year built:</th>\n",
       "      <th>Number of floors:</th>\n",
       "      <th>region_group</th>\n",
       "    </tr>\n",
       "  </thead>\n",
       "  <tbody>\n",
       "    <tr>\n",
       "      <th>0</th>\n",
       "      <td>On request</td>\n",
       "      <td>4.0</td>\n",
       "      <td>0.0</td>\n",
       "      <td>NaN</td>\n",
       "      <td>0.511176</td>\n",
       "      <td>0.286451</td>\n",
       "      <td>0.090908</td>\n",
       "      <td>0.0</td>\n",
       "      <td>0.0</td>\n",
       "      <td>0.0</td>\n",
       "      <td>...</td>\n",
       "      <td>331.0</td>\n",
       "      <td>1150000.0</td>\n",
       "      <td>100.0</td>\n",
       "      <td>penthouse</td>\n",
       "      <td>0.0</td>\n",
       "      <td>5.0</td>\n",
       "      <td>NaN</td>\n",
       "      <td>NaN</td>\n",
       "      <td>1.0</td>\n",
       "      <td>75.0</td>\n",
       "    </tr>\n",
       "    <tr>\n",
       "      <th>1</th>\n",
       "      <td>On request</td>\n",
       "      <td>0.0</td>\n",
       "      <td>0.0</td>\n",
       "      <td>242.0</td>\n",
       "      <td>0.511176</td>\n",
       "      <td>0.286451</td>\n",
       "      <td>0.090908</td>\n",
       "      <td>0.0</td>\n",
       "      <td>0.0</td>\n",
       "      <td>0.0</td>\n",
       "      <td>...</td>\n",
       "      <td>331.0</td>\n",
       "      <td>1420000.0</td>\n",
       "      <td>156.0</td>\n",
       "      <td>terrace-house</td>\n",
       "      <td>222.0</td>\n",
       "      <td>5.0</td>\n",
       "      <td>NaN</td>\n",
       "      <td>NaN</td>\n",
       "      <td>1.0</td>\n",
       "      <td>75.0</td>\n",
       "    </tr>\n",
       "    <tr>\n",
       "      <th>2</th>\n",
       "      <td>Immediately</td>\n",
       "      <td>2.0</td>\n",
       "      <td>0.0</td>\n",
       "      <td>NaN</td>\n",
       "      <td>0.163362</td>\n",
       "      <td>0.095877</td>\n",
       "      <td>0.001911</td>\n",
       "      <td>0.0</td>\n",
       "      <td>0.0</td>\n",
       "      <td>0.0</td>\n",
       "      <td>...</td>\n",
       "      <td>33493.0</td>\n",
       "      <td>720000.0</td>\n",
       "      <td>93.0</td>\n",
       "      <td>penthouse</td>\n",
       "      <td>0.0</td>\n",
       "      <td>5.0</td>\n",
       "      <td>NaN</td>\n",
       "      <td>NaN</td>\n",
       "      <td>1.0</td>\n",
       "      <td>75.0</td>\n",
       "    </tr>\n",
       "    <tr>\n",
       "      <th>3</th>\n",
       "      <td>On request</td>\n",
       "      <td>0.0</td>\n",
       "      <td>0.0</td>\n",
       "      <td>257.0</td>\n",
       "      <td>0.511176</td>\n",
       "      <td>0.286451</td>\n",
       "      <td>0.090908</td>\n",
       "      <td>0.0</td>\n",
       "      <td>0.0</td>\n",
       "      <td>0.0</td>\n",
       "      <td>...</td>\n",
       "      <td>331.0</td>\n",
       "      <td>1430000.0</td>\n",
       "      <td>154.0</td>\n",
       "      <td>detached-house</td>\n",
       "      <td>370.0</td>\n",
       "      <td>5.0</td>\n",
       "      <td>NaN</td>\n",
       "      <td>NaN</td>\n",
       "      <td>1.0</td>\n",
       "      <td>75.0</td>\n",
       "    </tr>\n",
       "    <tr>\n",
       "      <th>4</th>\n",
       "      <td>On request</td>\n",
       "      <td>0.0</td>\n",
       "      <td>0.0</td>\n",
       "      <td>NaN</td>\n",
       "      <td>0.333865</td>\n",
       "      <td>0.279276</td>\n",
       "      <td>0.145835</td>\n",
       "      <td>0.0</td>\n",
       "      <td>0.0</td>\n",
       "      <td>0.0</td>\n",
       "      <td>...</td>\n",
       "      <td>1355.0</td>\n",
       "      <td>995000.0</td>\n",
       "      <td>142.0</td>\n",
       "      <td>flat</td>\n",
       "      <td>0.0</td>\n",
       "      <td>5.0</td>\n",
       "      <td>NaN</td>\n",
       "      <td>NaN</td>\n",
       "      <td>1.0</td>\n",
       "      <td>75.0</td>\n",
       "    </tr>\n",
       "  </tbody>\n",
       "</table>\n",
       "<p>5 rows × 59 columns</p>\n",
       "</div>"
      ]
     },
     "execution_count": 6,
     "metadata": {},
     "output_type": "execute_result"
    }
   ],
   "execution_count": 6
  },
  {
   "metadata": {
    "ExecuteTime": {
     "end_time": "2025-01-03T14:25:33.021596Z",
     "start_time": "2025-01-03T14:25:32.988250Z"
    }
   },
   "cell_type": "code",
   "source": [
    "experiment_standort = [\"Floor\",\"price_cleaned\",\"detail_responsive#surface_usable\",\"Number of floors:\",\"Plot_area_unified\",\"Space extracted\",\"No. of rooms:\",\"type_unified\", \"region_group\"]\n",
    "df_3 = df[experiment_standort].copy()\n",
    "df_3.head()"
   ],
   "id": "f951ce380243954c",
   "outputs": [
    {
     "data": {
      "text/plain": [
       "   Floor  price_cleaned  detail_responsive#surface_usable  Number of floors:  \\\n",
       "0    4.0      1150000.0                               0.0                1.0   \n",
       "1    0.0      1420000.0                               0.0                1.0   \n",
       "2    2.0       720000.0                               0.0                1.0   \n",
       "3    0.0      1430000.0                               0.0                1.0   \n",
       "4    0.0       995000.0                               0.0                1.0   \n",
       "\n",
       "   Plot_area_unified  Space extracted  No. of rooms:    type_unified  \\\n",
       "0                0.0            100.0            5.0       penthouse   \n",
       "1              222.0            156.0            5.0   terrace-house   \n",
       "2                0.0             93.0            5.0       penthouse   \n",
       "3              370.0            154.0            5.0  detached-house   \n",
       "4                0.0            142.0            5.0            flat   \n",
       "\n",
       "   region_group  \n",
       "0          75.0  \n",
       "1          75.0  \n",
       "2          75.0  \n",
       "3          75.0  \n",
       "4          75.0  "
      ],
      "text/html": [
       "<div>\n",
       "<style scoped>\n",
       "    .dataframe tbody tr th:only-of-type {\n",
       "        vertical-align: middle;\n",
       "    }\n",
       "\n",
       "    .dataframe tbody tr th {\n",
       "        vertical-align: top;\n",
       "    }\n",
       "\n",
       "    .dataframe thead th {\n",
       "        text-align: right;\n",
       "    }\n",
       "</style>\n",
       "<table border=\"1\" class=\"dataframe\">\n",
       "  <thead>\n",
       "    <tr style=\"text-align: right;\">\n",
       "      <th></th>\n",
       "      <th>Floor</th>\n",
       "      <th>price_cleaned</th>\n",
       "      <th>detail_responsive#surface_usable</th>\n",
       "      <th>Number of floors:</th>\n",
       "      <th>Plot_area_unified</th>\n",
       "      <th>Space extracted</th>\n",
       "      <th>No. of rooms:</th>\n",
       "      <th>type_unified</th>\n",
       "      <th>region_group</th>\n",
       "    </tr>\n",
       "  </thead>\n",
       "  <tbody>\n",
       "    <tr>\n",
       "      <th>0</th>\n",
       "      <td>4.0</td>\n",
       "      <td>1150000.0</td>\n",
       "      <td>0.0</td>\n",
       "      <td>1.0</td>\n",
       "      <td>0.0</td>\n",
       "      <td>100.0</td>\n",
       "      <td>5.0</td>\n",
       "      <td>penthouse</td>\n",
       "      <td>75.0</td>\n",
       "    </tr>\n",
       "    <tr>\n",
       "      <th>1</th>\n",
       "      <td>0.0</td>\n",
       "      <td>1420000.0</td>\n",
       "      <td>0.0</td>\n",
       "      <td>1.0</td>\n",
       "      <td>222.0</td>\n",
       "      <td>156.0</td>\n",
       "      <td>5.0</td>\n",
       "      <td>terrace-house</td>\n",
       "      <td>75.0</td>\n",
       "    </tr>\n",
       "    <tr>\n",
       "      <th>2</th>\n",
       "      <td>2.0</td>\n",
       "      <td>720000.0</td>\n",
       "      <td>0.0</td>\n",
       "      <td>1.0</td>\n",
       "      <td>0.0</td>\n",
       "      <td>93.0</td>\n",
       "      <td>5.0</td>\n",
       "      <td>penthouse</td>\n",
       "      <td>75.0</td>\n",
       "    </tr>\n",
       "    <tr>\n",
       "      <th>3</th>\n",
       "      <td>0.0</td>\n",
       "      <td>1430000.0</td>\n",
       "      <td>0.0</td>\n",
       "      <td>1.0</td>\n",
       "      <td>370.0</td>\n",
       "      <td>154.0</td>\n",
       "      <td>5.0</td>\n",
       "      <td>detached-house</td>\n",
       "      <td>75.0</td>\n",
       "    </tr>\n",
       "    <tr>\n",
       "      <th>4</th>\n",
       "      <td>0.0</td>\n",
       "      <td>995000.0</td>\n",
       "      <td>0.0</td>\n",
       "      <td>1.0</td>\n",
       "      <td>0.0</td>\n",
       "      <td>142.0</td>\n",
       "      <td>5.0</td>\n",
       "      <td>flat</td>\n",
       "      <td>75.0</td>\n",
       "    </tr>\n",
       "  </tbody>\n",
       "</table>\n",
       "</div>"
      ]
     },
     "execution_count": 8,
     "metadata": {},
     "output_type": "execute_result"
    }
   ],
   "execution_count": 8
  },
  {
   "metadata": {
    "ExecuteTime": {
     "end_time": "2025-01-03T14:25:38.819253Z",
     "start_time": "2025-01-03T14:25:38.806014Z"
    }
   },
   "cell_type": "code",
   "source": "df_3.isna().sum()",
   "id": "b92c5785c9671ba6",
   "outputs": [
    {
     "data": {
      "text/plain": [
       "Floor                               3121\n",
       "price_cleaned                          0\n",
       "detail_responsive#surface_usable       0\n",
       "Number of floors:                      0\n",
       "Plot_area_unified                      0\n",
       "Space extracted                      883\n",
       "No. of rooms:                        622\n",
       "type_unified                           0\n",
       "region_group                           0\n",
       "dtype: int64"
      ]
     },
     "execution_count": 9,
     "metadata": {},
     "output_type": "execute_result"
    }
   ],
   "execution_count": 9
  },
  {
   "metadata": {},
   "cell_type": "code",
   "outputs": [],
   "execution_count": null,
   "source": [
    "df_3['Space extracted'] = np.log(df_3[['Space extracted']])\n",
    "df_3"
   ],
   "id": "33b3e3404631b90e"
  },
  {
   "metadata": {},
   "cell_type": "code",
   "outputs": [],
   "execution_count": null,
   "source": [
    "df_3 = pd.get_dummies(df_3, columns=['type_unified'], drop_first=True)\n",
    "df_3 = pd.get_dummies(df_3, columns=['region_group'], drop_first=True)\n",
    "\n",
    "X = df_3.drop(columns=[\"price_cleaned\"]).values\n",
    "print(X.shape)\n",
    "y = np.log(df_3[['price_cleaned']].values)\n",
    "\n",
    "X_train, X_test, y_train, y_test = train_test_split(X, y, test_size=0.2, shuffle=True, random_state=42)\n",
    "#standardizing with scikit learn\n",
    "scaler = StandardScaler()\n",
    "X_train[:, :6] = scaler.fit_transform(X_train[:, :6])\n",
    "X_test[:, :6] = scaler.transform(X_test[:, :6])\n",
    "\n",
    "model = LinearRegression()\n",
    "model.fit(X_train, y_train)\n",
    "y_pred = model.predict(X_test)"
   ],
   "id": "8ff9d33d8503d748"
  },
  {
   "metadata": {},
   "cell_type": "code",
   "outputs": [],
   "execution_count": null,
   "source": "plot_residuals(y_test.flatten(), y_pred.flatten())",
   "id": "f7b03af3fdcc9be0"
  },
  {
   "metadata": {},
   "cell_type": "code",
   "outputs": [],
   "execution_count": null,
   "source": [
    "#plotting predicted vs. actual values\n",
    "plt.scatter(y_test, y_pred)\n",
    "plt.xlabel('Actual values')\n",
    "plt.ylabel('Predicted values')\n",
    "plt.title('Actual vs. Predicted values')\n",
    "plt.show()"
   ],
   "id": "d243451fb855b524"
  },
  {
   "metadata": {},
   "cell_type": "code",
   "outputs": [],
   "execution_count": null,
   "source": [
    "#scaling y_pred back to original scale\n",
    "y_pred = np.exp(y_pred)\n",
    "y_test = np.exp(y_test)\n",
    "\n",
    "r2, R2_adjusted, mape = calculate_metrics(X_train,y_test, y_pred)\n",
    "print(f\"R2 {r2},Adjusted R^2:{R2_adjusted}, MAPE:{mape}%\")"
   ],
   "id": "a721d5f73af9f927"
  },
  {
   "metadata": {},
   "cell_type": "code",
   "outputs": [],
   "execution_count": null,
   "source": [
    "#print training metrics\n",
    "y_pred_train = model.predict(X_train)\n",
    "r2, R2_adjusted, mape = calculate_metrics(X_train,y_train, y_pred_train)\n",
    "print(f\"R2 {r2},Adjusted R^2:{R2_adjusted}, MAPE:{mape}%\")"
   ],
   "id": "f187c1b3e8a461bb"
  }
 ],
 "metadata": {
  "kernelspec": {
   "display_name": "Python 3",
   "language": "python",
   "name": "python3"
  },
  "language_info": {
   "codemirror_mode": {
    "name": "ipython",
    "version": 2
   },
   "file_extension": ".py",
   "mimetype": "text/x-python",
   "name": "python",
   "nbconvert_exporter": "python",
   "pygments_lexer": "ipython2",
   "version": "2.7.6"
  }
 },
 "nbformat": 4,
 "nbformat_minor": 5
}

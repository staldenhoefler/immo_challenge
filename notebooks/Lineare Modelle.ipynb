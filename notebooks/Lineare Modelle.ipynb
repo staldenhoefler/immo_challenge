{
 "cells": [
  {
   "metadata": {},
   "cell_type": "code",
   "outputs": [],
   "execution_count": null,
   "source": [
    "import src.dataPipeline as dataPipeline\n",
    "import importlib\n",
    "importlib.reload(dataPipeline)\n",
    "import matplotlib.pyplot as plt\n",
    "import numpy as np\n",
    "import pandas as pd\n",
    "import seaborn as sns\n",
    "\n",
    "from sklearn.linear_model import LinearRegression\n",
    "from sklearn import linear_model\n",
    "from sklearn.model_selection import train_test_split\n",
    "from sklearn.metrics import mean_absolute_percentage_error, r2_score\n",
    "from sklearn.impute import KNNImputer\n",
    "from sklearn.preprocessing import StandardScaler\n",
    "from sklearn.model_selection import KFold\n",
    "\n",
    "importlib.reload(dataPipeline)\n"
   ],
   "id": "221b3c3f377c0656"
  },
  {
   "metadata": {},
   "cell_type": "code",
   "outputs": [],
   "execution_count": null,
   "source": [
    "def plot_residuals(y_test, y_pred):\n",
    "    #subplot with residuals vs. predicted values and histogram of residuals\n",
    "    fig, axs = plt.subplots(1, 2, figsize=(15, 5))\n",
    "    #residuals vs. predicted values\n",
    "    sns.scatterplot(x=y_pred, y=y_test - y_pred, color='blue',ax=axs[0])\n",
    "    axs[0].axhline(y=0, color='r', linestyle='-')\n",
    "    axs[0].set_xlabel('Predicted values')\n",
    "    axs[0].set_ylabel('Residuals')\n",
    "    axs[0].set_title('Residuals vs. Predicted values')\n",
    "    #histogram of residuals\n",
    "    sns.histplot(y_test - y_pred, bins=30, ax=axs[1])\n",
    "    axs[1].set_title('Histogram of Residuals')\n",
    "    plt.show()"
   ],
   "id": "5636dfe34904d3b0"
  },
  {
   "metadata": {},
   "cell_type": "code",
   "outputs": [],
   "execution_count": null,
   "source": [
    "def calculate_metrics(X_train, y_test, y_pred):\n",
    "    n = len(y_test)  # Number of observations\n",
    "    k = X_train.shape[1]  # Number of predictors\n",
    "    r2 = round(r2_score(y_test, y_pred), 4)\n",
    "    R2_adjusted = round(1 - (1 - r2) * (n - 1) / (n - k - 1), 4)\n",
    "    mape = round(mean_absolute_percentage_error(y_test, y_pred) * 100, 4)\n",
    "    return r2, R2_adjusted, mape"
   ],
   "id": "be4312aee8b8c581"
  },
  {
   "metadata": {},
   "cell_type": "code",
   "outputs": [],
   "execution_count": null,
   "source": [
    "dp = dataPipeline.DataPipeline()\n",
    "df = dp.runPipeline(\n",
    "    filePath=\"../data/immo_data_202208_v2.csv\",\n",
    "    imputer=None,\n",
    "    normalizeAndStandardize= False,\n",
    "    get_dummies = False\n",
    ")"
   ],
   "id": "20deac094fb3c596"
  },
  {
   "metadata": {},
   "cell_type": "code",
   "outputs": [],
   "execution_count": null,
   "source": "df['price_cleaned'].isna().sum()",
   "id": "a5b8f71bd68058ff"
  },
  {
   "metadata": {},
   "cell_type": "code",
   "outputs": [],
   "execution_count": null,
   "source": "df.head()",
   "id": "5324144c21a28ada"
  },
  {
   "metadata": {},
   "cell_type": "code",
   "outputs": [],
   "execution_count": null,
   "source": "sns.scatterplot(data=df, x=\"Space extracted\", y = \"price_cleaned\",hue=\"region_group\")",
   "id": "ec5f8ae48678abb1"
  },
  {
   "metadata": {},
   "cell_type": "markdown",
   "source": "# Lineare Modelle mit Space extracted",
   "id": "16ab90d0b7de5f93"
  },
  {
   "metadata": {},
   "cell_type": "code",
   "outputs": [],
   "execution_count": null,
   "source": "df[['Space extracted']].isna().sum()",
   "id": "e0031a8bf78b7a7a"
  },
  {
   "metadata": {},
   "cell_type": "code",
   "outputs": [],
   "execution_count": null,
   "source": "df[['Space extracted']] = df[['Space extracted']].astype(float)",
   "id": "bd8325353a872e34"
  },
  {
   "metadata": {},
   "cell_type": "code",
   "outputs": [],
   "execution_count": null,
   "source": [
    "impute_mean = df.copy()\n",
    "impute_mean['Space extracted'] = impute_mean['Space extracted'].fillna(impute_mean['Space extracted'].mean())\n",
    "impute_delete = df.copy()\n",
    "impute_delete = impute_delete.dropna(subset=['Space extracted'])\n",
    "impute_median = df.copy()\n",
    "impute_median['Space extracted'] = impute_median['Space extracted'].fillna(impute_median['Space extracted'].median())\n",
    "impute_knn = df.copy()\n",
    "# Versuch Fläche 1 imputieren\n",
    "impute_knn.loc[impute_knn['Space extracted'] < 5, 'Space extracted'] = np.nan\n",
    "imputer = KNNImputer(n_neighbors=5)\n",
    "impute_knn['Space extracted'] = imputer.fit_transform(impute_knn[['Space extracted']])"
   ],
   "id": "214c4e10cd7cc43f"
  },
  {
   "metadata": {},
   "cell_type": "code",
   "outputs": [],
   "execution_count": null,
   "source": [
    "y = np.log(impute_knn[['price_cleaned']].values)\n",
    "X = np.log(impute_knn[['Space extracted']].values)\n",
    "\n",
    "X_train, X_test, y_train, y_test = train_test_split(X, y, test_size=0.2, shuffle=True, random_state=42)\n",
    "model = LinearRegression()\n",
    "model.fit(X_train, y_train)\n",
    "y_pred = model.predict(X_test)"
   ],
   "id": "1088d0adcb3552ea"
  },
  {
   "metadata": {},
   "cell_type": "code",
   "outputs": [],
   "execution_count": null,
   "source": [
    "plt.scatter(X_test, y_test)\n",
    "plt.plot(X_test, model.predict(X_test), color='red')\n",
    "plt.show()"
   ],
   "id": "995cbac2b622a2eb"
  },
  {
   "metadata": {},
   "cell_type": "code",
   "outputs": [],
   "execution_count": null,
   "source": "plot_residuals(y_test.flatten(), y_pred.flatten())",
   "id": "167e30c47df6b309"
  },
  {
   "metadata": {},
   "cell_type": "code",
   "outputs": [],
   "execution_count": null,
   "source": [
    "#create df with X_test and y_test and y_pred\n",
    "df_pred = pd.DataFrame(data={'Space extracted': X_test.flatten(), 'price_cleaned': y_test.flatten(), 'price_pred': y_pred.flatten()})\n",
    "\n",
    "df_pred[\"Diff\"] = df_pred[\"price_cleaned\"] - df_pred[\"price_pred\"]\n",
    "df_pred"
   ],
   "id": "3a55377f64e396a0"
  },
  {
   "metadata": {},
   "cell_type": "code",
   "outputs": [],
   "execution_count": null,
   "source": [
    "#scaling y_pred back to original scale\n",
    "y_pred = np.exp(y_pred)\n",
    "y_test = np.exp(y_test)\n",
    "\n",
    "r2, R2_adjusted, mape = calculate_metrics(X_train,y_test, y_pred)\n",
    "print(f\"R2 {r2},Adjusted R^2:{R2_adjusted}, MAPE:{mape}%\")"
   ],
   "id": "aabe4366cc7f0aa2"
  },
  {
   "metadata": {},
   "cell_type": "markdown",
   "source": "# Lineare Modelle mit Space extracted und No. of rooms",
   "id": "cd85769d250d2746"
  },
  {
   "metadata": {},
   "cell_type": "code",
   "outputs": [],
   "execution_count": null,
   "source": [
    "df_two_features = df[['Space extracted', 'No. of rooms:', 'price_cleaned']].copy()\n",
    "df_two_features.loc[df_two_features['Space extracted'] < 5, 'Space extracted'] = np.nan\n",
    "\n",
    "#df_two_features['No. of rooms:'] = df_two_features['No. of rooms:'].fillna(1)\n",
    "#df_two_features['Space extracted'] = df_two_features['Space extracted'].fillna(0)"
   ],
   "id": "1a903e82da2c866f"
  },
  {
   "metadata": {},
   "cell_type": "code",
   "outputs": [],
   "execution_count": null,
   "source": [
    "imputer = KNNImputer(n_neighbors=5)\n",
    "df_two_features['Space extracted'] = imputer.fit_transform(df_two_features[['Space extracted']])\n",
    "df_two_features['No. of rooms:'] = imputer.fit_transform(df_two_features[['No. of rooms:']])\n"
   ],
   "id": "2ed446e2e0a54037"
  },
  {
   "metadata": {},
   "cell_type": "code",
   "outputs": [],
   "execution_count": null,
   "source": [
    "df_two_features[\"Space extracted\"] = np.log(df_two_features[['Space extracted']])\n",
    "df_two_features[\"No. of rooms:\"] = np.log(df_two_features[['No. of rooms:']])"
   ],
   "id": "ce8b582185a5e7f3"
  },
  {
   "metadata": {},
   "cell_type": "code",
   "outputs": [],
   "execution_count": null,
   "source": [
    "X = df_two_features.drop(columns=[\"price_cleaned\"]).values\n",
    "y = np.log(df_two_features[['price_cleaned']].values)\n",
    "\n",
    "X_train, X_test, y_train, y_test = train_test_split(X, y, test_size=0.2, shuffle=True, random_state=42)\n",
    "#standardizing with scikit learn\n",
    "scaler = StandardScaler()\n",
    "X_train = scaler.fit_transform(X_train)  # Fit on training data and transform\n",
    "X_test = scaler.transform(X_test)       # Transform test data with the same scaler\n",
    "\n",
    "model = LinearRegression()\n",
    "model.fit(X_train, y_train)\n",
    "y_pred = model.predict(X_test)\n"
   ],
   "id": "5d3c8d1a15117cc1"
  },
  {
   "metadata": {},
   "cell_type": "code",
   "outputs": [],
   "execution_count": null,
   "source": "plot_residuals(y_test.flatten(), y_pred.flatten())",
   "id": "a49dfe2aaf7efa2e"
  },
  {
   "metadata": {},
   "cell_type": "code",
   "outputs": [],
   "execution_count": null,
   "source": [
    "#scaling y_pred back to original scale\n",
    "y_pred = np.exp(y_pred)\n",
    "y_test = np.exp(y_test)\n",
    "\n",
    "r2, R2_adjusted, mape = calculate_metrics(X_train,y_test, y_pred)\n",
    "print(f\"R2 {r2},Adjusted R^2:{R2_adjusted}, MAPE:{mape}%\")"
   ],
   "id": "305710b221f0a6a8"
  },
  {
   "metadata": {},
   "cell_type": "markdown",
   "source": "# Modelle mit einfachen Features\n",
   "id": "1327d4604e9c1f74"
  },
  {
   "metadata": {},
   "cell_type": "code",
   "outputs": [],
   "execution_count": null,
   "source": [
    "easy_features = [\"Floor\",\"price_cleaned\",\"detail_responsive#surface_usable\",\"Number of floors:\",\"Plot_area_unified\",\"Space extracted\",\"No. of rooms:\",\"type_unified\"]\n",
    "df_small = df[easy_features].copy()\n",
    "df_small.loc[df_small['Space extracted'] < 5, 'Space extracted'] = np.nan\n",
    "df_small.head()"
   ],
   "id": "b60fc68cf67e72a0"
  },
  {
   "metadata": {},
   "cell_type": "code",
   "outputs": [],
   "execution_count": null,
   "source": [
    "#Filling Floor for House types with zeros\n",
    "house_types = [\n",
    "    'detached-house', 'villa', 'semi-detached-house', 'terrace-house',\n",
    "    'chalet', 'farmhouse', 'rustico', 'castle', 'detached-secondary-suite'\n",
    "]\n",
    "df_small.loc[\n",
    "    (df_small['type_unified'].isin(house_types)) & (df_small['Floor'].isna()),\n",
    "    'Floor'\n",
    "] = 0"
   ],
   "id": "98cd43864e46f0df"
  },
  {
   "metadata": {},
   "cell_type": "code",
   "outputs": [],
   "execution_count": null,
   "source": [
    "#Fill na with 0\n",
    "df_small[\"detail_responsive#surface_usable\"] = df_small[\"detail_responsive#surface_usable\"].fillna(0)\n",
    "df_small[\"Number of floors:\"] = df_small[\"Number of floors:\"].fillna(1)\n",
    "df_small[\"Plot_area_unified\"] = df_small[\"Plot_area_unified\"].fillna(0)"
   ],
   "id": "1c5f260f7d346c63"
  },
  {
   "metadata": {},
   "cell_type": "code",
   "outputs": [],
   "execution_count": null,
   "source": [
    "#Fill na for Floor, Space extracted No. of rooms: with knn\n",
    "imputer = KNNImputer(n_neighbors=5)\n",
    "df_small['Floor'] = imputer.fit_transform(df_small[['Floor']])\n",
    "df_small['Space extracted'] = imputer.fit_transform(df_small[['Space extracted']])\n",
    "df_small['No. of rooms:'] = imputer.fit_transform(df_small[['No. of rooms:']])"
   ],
   "id": "f57a37d9b8e1def0"
  },
  {
   "metadata": {},
   "cell_type": "code",
   "outputs": [],
   "execution_count": null,
   "source": "df_small.isna().sum()",
   "id": "b51ba1b87ed2b052"
  },
  {
   "metadata": {},
   "cell_type": "code",
   "outputs": [],
   "execution_count": null,
   "source": [
    "df_small['Space extracted'] = np.log(df_small[['Space extracted']])\n",
    "df_small = pd.get_dummies(df_small, columns=['type_unified'], drop_first=True)"
   ],
   "id": "52b132021974f0ed"
  },
  {
   "metadata": {},
   "cell_type": "code",
   "outputs": [],
   "execution_count": null,
   "source": [
    "X = df_small.drop(columns=[\"price_cleaned\"]).values\n",
    "y = np.log(df_small[['price_cleaned']].values)\n",
    "\n",
    "X_train, X_test, y_train, y_test = train_test_split(X, y, test_size=0.2, shuffle=True, random_state=42)\n",
    "#standardizing with scikit learn\n",
    "scaler = StandardScaler()\n",
    "X_train[:, :6] = scaler.fit_transform(X_train[:, :6])\n",
    "X_test[:, :6] = scaler.transform(X_test[:, :6])\n",
    "\n",
    "model = LinearRegression()\n",
    "model.fit(X_train, y_train)\n",
    "y_pred = model.predict(X_test)"
   ],
   "id": "c6c75c0d3b89ad2c"
  },
  {
   "metadata": {},
   "cell_type": "code",
   "outputs": [],
   "execution_count": null,
   "source": "plot_residuals(y_test.flatten(), y_pred.flatten())",
   "id": "ac979abe87e90ed7"
  },
  {
   "metadata": {},
   "cell_type": "code",
   "outputs": [],
   "execution_count": null,
   "source": [
    "#scaling y_pred back to original scale\n",
    "y_pred = np.exp(y_pred)\n",
    "y_test = np.exp(y_test)\n",
    "\n",
    "r2, R2_adjusted, mape = calculate_metrics(X_train,y_test, y_pred)\n",
    "print(f\"R2 {r2},Adjusted R^2:{R2_adjusted}, MAPE:{mape}%\")"
   ],
   "id": "e3b7f2c8ea2c616d"
  },
  {
   "metadata": {},
   "cell_type": "markdown",
   "source": "# Modelle mit bestehen Features + Standort",
   "id": "b69c914e4c1d0730"
  },
  {
   "metadata": {},
   "cell_type": "code",
   "outputs": [],
   "execution_count": null,
   "source": "df.head()",
   "id": "cb9e45bd3b03bd6c"
  },
  {
   "metadata": {},
   "cell_type": "code",
   "outputs": [],
   "execution_count": null,
   "source": [
    "experiment_standort = [\"Floor\",\"price_cleaned\",\"detail_responsive#surface_usable\",\"Number of floors:\",\"Plot_area_unified\",\"Space extracted\",\"No. of rooms:\",\"type_unified\", \"region_group\"]\n",
    "df_3 = df[experiment_standort].copy()\n",
    "df_3.loc[df_3['Space extracted'] < 5, 'Space extracted'] = np.nan\n",
    "df_3.head()"
   ],
   "id": "f951ce380243954c"
  },
  {
   "metadata": {},
   "cell_type": "code",
   "outputs": [],
   "execution_count": null,
   "source": [
    "#Filling Floor for House types with zeros\n",
    "house_types = [\n",
    "    'detached-house', 'villa', 'semi-detached-house', 'terrace-house',\n",
    "    'chalet', 'farmhouse', 'rustico', 'castle', 'detached-secondary-suite'\n",
    "]\n",
    "df_3.loc[\n",
    "    (df_3['type_unified'].isin(house_types)) & (df_3['Floor'].isna()),\n",
    "    'Floor'\n",
    "] = 0\n",
    "#Fill na with 0\n",
    "df_3[\"detail_responsive#surface_usable\"] = df_3[\"detail_responsive#surface_usable\"].fillna(0)\n",
    "df_3[\"Number of floors:\"] = df_3[\"Number of floors:\"].fillna(1)\n",
    "df_3[\"Plot_area_unified\"] = df_3[\"Plot_area_unified\"].fillna(0)\n",
    "\n",
    "#Fill na for Floor, Space extracted No. of rooms: with knn\n",
    "imputer = KNNImputer(n_neighbors=5)\n",
    "df_3['Floor'] = imputer.fit_transform(df_3[['Floor']])\n",
    "df_3['Space extracted'] = imputer.fit_transform(df_3[['Space extracted']])\n",
    "df_3['No. of rooms:'] = imputer.fit_transform(df_3[['No. of rooms:']])"
   ],
   "id": "7d118efdd6802bbb"
  },
  {
   "metadata": {},
   "cell_type": "code",
   "outputs": [],
   "execution_count": null,
   "source": [
    "df_3['Space extracted'] = np.log(df_3[['Space extracted']])\n",
    "df_3 = pd.get_dummies(df_3, columns=['type_unified'], drop_first=True)\n",
    "df_3 = pd.get_dummies(df_3, columns=['region_group'], drop_first=True)\n",
    "X = df_3.drop(columns=[\"price_cleaned\"]).values\n",
    "print(X.shape)\n",
    "y = np.log(df_3[['price_cleaned']].values)\n",
    "\n",
    "X_train, X_test, y_train, y_test = train_test_split(X, y, test_size=0.2, shuffle=True, random_state=42)\n",
    "#standardizing with scikit learn\n",
    "scaler = StandardScaler()\n",
    "X_train[:, :6] = scaler.fit_transform(X_train[:, :6])\n",
    "X_test[:, :6] = scaler.transform(X_test[:, :6])\n",
    "\n",
    "model = LinearRegression()\n",
    "model.fit(X_train, y_train)\n",
    "y_pred = model.predict(X_test)"
   ],
   "id": "8ff9d33d8503d748"
  },
  {
   "metadata": {},
   "cell_type": "code",
   "outputs": [],
   "execution_count": null,
   "source": "plot_residuals(y_test.flatten(), y_pred.flatten())",
   "id": "f7b03af3fdcc9be0"
  },
  {
   "metadata": {},
   "cell_type": "code",
   "outputs": [],
   "execution_count": null,
   "source": [
    "#plotting predicted vs. actual values\n",
    "plt.scatter(y_test, y_pred)\n",
    "plt.xlabel('Actual values')\n",
    "plt.ylabel('Predicted values')\n",
    "plt.title('Actual vs. Predicted values')\n",
    "plt.show()"
   ],
   "id": "d243451fb855b524"
  },
  {
   "metadata": {},
   "cell_type": "code",
   "outputs": [],
   "execution_count": null,
   "source": [
    "#scaling y_pred back to original scale\n",
    "y_pred = np.exp(y_pred)\n",
    "y_test = np.exp(y_test)\n",
    "\n",
    "r2, R2_adjusted, mape = calculate_metrics(X_train,y_test, y_pred)\n",
    "print(f\"R2 {r2},Adjusted R^2:{R2_adjusted}, MAPE:{mape}%\")"
   ],
   "id": "a721d5f73af9f927"
  },
  {
   "metadata": {},
   "cell_type": "code",
   "outputs": [],
   "execution_count": null,
   "source": [
    "#print training metrics\n",
    "y_pred_train = model.predict(X_train)\n",
    "r2, R2_adjusted, mape = calculate_metrics(X_train,y_train, y_pred_train)\n",
    "print(f\"R2 {r2},Adjusted R^2:{R2_adjusted}, MAPE:{mape}%\")"
   ],
   "id": "f187c1b3e8a461bb"
  }
 ],
 "metadata": {
  "kernelspec": {
   "display_name": "Python 3",
   "language": "python",
   "name": "python3"
  },
  "language_info": {
   "codemirror_mode": {
    "name": "ipython",
    "version": 2
   },
   "file_extension": ".py",
   "mimetype": "text/x-python",
   "name": "python",
   "nbconvert_exporter": "python",
   "pygments_lexer": "ipython2",
   "version": "2.7.6"
  }
 },
 "nbformat": 4,
 "nbformat_minor": 5
}

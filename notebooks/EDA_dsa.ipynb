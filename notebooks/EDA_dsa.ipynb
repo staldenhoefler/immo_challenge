{
 "cells": [
  {
   "cell_type": "code",
   "execution_count": 1,
   "id": "initial_id",
   "metadata": {
    "collapsed": true,
    "ExecuteTime": {
     "end_time": "2024-10-06T08:09:02.415781800Z",
     "start_time": "2024-10-06T08:09:02.352749400Z"
    }
   },
   "outputs": [],
   "source": [
    "import pandas as pd\n",
    "import numpy as np\n",
    "import matplotlib.pyplot as plt\n",
    "import os\n",
    "os.chdir('..')\n",
    "\n"
   ]
  },
  {
   "cell_type": "code",
   "execution_count": 5,
   "id": "6291ed2f9c4f4b0a",
   "metadata": {
    "ExecuteTime": {
     "end_time": "2024-10-03T15:21:38.035397700Z",
     "start_time": "2024-10-03T15:21:36.443426800Z"
    },
    "collapsed": false
   },
   "outputs": [
    {
     "ename": "ParserError",
     "evalue": "Error tokenizing data. C error: Calling read(nbytes) on source failed. Try engine='python'.",
     "output_type": "error",
     "traceback": [
      "\u001B[1;31m---------------------------------------------------------------------------\u001B[0m",
      "\u001B[1;31mParserError\u001B[0m                               Traceback (most recent call last)",
      "Cell \u001B[1;32mIn[5], line 1\u001B[0m\n\u001B[1;32m----> 1\u001B[0m df \u001B[38;5;241m=\u001B[39m \u001B[43mpd\u001B[49m\u001B[38;5;241;43m.\u001B[39;49m\u001B[43mread_csv\u001B[49m\u001B[43m(\u001B[49m\u001B[38;5;124;43m'\u001B[39;49m\u001B[38;5;124;43m../data/immo_data_202208_v2.csv\u001B[39;49m\u001B[38;5;124;43m'\u001B[39;49m\u001B[43m,\u001B[49m\u001B[43m \u001B[49m\u001B[43msep\u001B[49m\u001B[38;5;241;43m=\u001B[39;49m\u001B[38;5;124;43m'\u001B[39;49m\u001B[38;5;124;43m,\u001B[39;49m\u001B[38;5;124;43m'\u001B[39;49m\u001B[43m,\u001B[49m\u001B[43m \u001B[49m\u001B[43mskip_blank_lines\u001B[49m\u001B[38;5;241;43m=\u001B[39;49m\u001B[38;5;28;43;01mTrue\u001B[39;49;00m\u001B[43m,\u001B[49m\u001B[43m \u001B[49m\u001B[43mdtype\u001B[49m\u001B[38;5;241;43m=\u001B[39;49m\u001B[38;5;28;43mstr\u001B[39;49m\u001B[43m)\u001B[49m\n\u001B[0;32m      2\u001B[0m \u001B[38;5;28mprint\u001B[39m(df\u001B[38;5;241m.\u001B[39mshape)\n",
      "File \u001B[1;32mC:\\FHNW_Programmiersachen\\5_Sem\\immo_challenge\\.venv\\Lib\\site-packages\\pandas\\io\\parsers\\readers.py:1026\u001B[0m, in \u001B[0;36mread_csv\u001B[1;34m(filepath_or_buffer, sep, delimiter, header, names, index_col, usecols, dtype, engine, converters, true_values, false_values, skipinitialspace, skiprows, skipfooter, nrows, na_values, keep_default_na, na_filter, verbose, skip_blank_lines, parse_dates, infer_datetime_format, keep_date_col, date_parser, date_format, dayfirst, cache_dates, iterator, chunksize, compression, thousands, decimal, lineterminator, quotechar, quoting, doublequote, escapechar, comment, encoding, encoding_errors, dialect, on_bad_lines, delim_whitespace, low_memory, memory_map, float_precision, storage_options, dtype_backend)\u001B[0m\n\u001B[0;32m   1013\u001B[0m kwds_defaults \u001B[38;5;241m=\u001B[39m _refine_defaults_read(\n\u001B[0;32m   1014\u001B[0m     dialect,\n\u001B[0;32m   1015\u001B[0m     delimiter,\n\u001B[1;32m   (...)\u001B[0m\n\u001B[0;32m   1022\u001B[0m     dtype_backend\u001B[38;5;241m=\u001B[39mdtype_backend,\n\u001B[0;32m   1023\u001B[0m )\n\u001B[0;32m   1024\u001B[0m kwds\u001B[38;5;241m.\u001B[39mupdate(kwds_defaults)\n\u001B[1;32m-> 1026\u001B[0m \u001B[38;5;28;01mreturn\u001B[39;00m \u001B[43m_read\u001B[49m\u001B[43m(\u001B[49m\u001B[43mfilepath_or_buffer\u001B[49m\u001B[43m,\u001B[49m\u001B[43m \u001B[49m\u001B[43mkwds\u001B[49m\u001B[43m)\u001B[49m\n",
      "File \u001B[1;32mC:\\FHNW_Programmiersachen\\5_Sem\\immo_challenge\\.venv\\Lib\\site-packages\\pandas\\io\\parsers\\readers.py:626\u001B[0m, in \u001B[0;36m_read\u001B[1;34m(filepath_or_buffer, kwds)\u001B[0m\n\u001B[0;32m    623\u001B[0m     \u001B[38;5;28;01mreturn\u001B[39;00m parser\n\u001B[0;32m    625\u001B[0m \u001B[38;5;28;01mwith\u001B[39;00m parser:\n\u001B[1;32m--> 626\u001B[0m     \u001B[38;5;28;01mreturn\u001B[39;00m \u001B[43mparser\u001B[49m\u001B[38;5;241;43m.\u001B[39;49m\u001B[43mread\u001B[49m\u001B[43m(\u001B[49m\u001B[43mnrows\u001B[49m\u001B[43m)\u001B[49m\n",
      "File \u001B[1;32mC:\\FHNW_Programmiersachen\\5_Sem\\immo_challenge\\.venv\\Lib\\site-packages\\pandas\\io\\parsers\\readers.py:1923\u001B[0m, in \u001B[0;36mTextFileReader.read\u001B[1;34m(self, nrows)\u001B[0m\n\u001B[0;32m   1916\u001B[0m nrows \u001B[38;5;241m=\u001B[39m validate_integer(\u001B[38;5;124m\"\u001B[39m\u001B[38;5;124mnrows\u001B[39m\u001B[38;5;124m\"\u001B[39m, nrows)\n\u001B[0;32m   1917\u001B[0m \u001B[38;5;28;01mtry\u001B[39;00m:\n\u001B[0;32m   1918\u001B[0m     \u001B[38;5;66;03m# error: \"ParserBase\" has no attribute \"read\"\u001B[39;00m\n\u001B[0;32m   1919\u001B[0m     (\n\u001B[0;32m   1920\u001B[0m         index,\n\u001B[0;32m   1921\u001B[0m         columns,\n\u001B[0;32m   1922\u001B[0m         col_dict,\n\u001B[1;32m-> 1923\u001B[0m     ) \u001B[38;5;241m=\u001B[39m \u001B[38;5;28;43mself\u001B[39;49m\u001B[38;5;241;43m.\u001B[39;49m\u001B[43m_engine\u001B[49m\u001B[38;5;241;43m.\u001B[39;49m\u001B[43mread\u001B[49m\u001B[43m(\u001B[49m\u001B[43m  \u001B[49m\u001B[38;5;66;43;03m# type: ignore[attr-defined]\u001B[39;49;00m\n\u001B[0;32m   1924\u001B[0m \u001B[43m        \u001B[49m\u001B[43mnrows\u001B[49m\n\u001B[0;32m   1925\u001B[0m \u001B[43m    \u001B[49m\u001B[43m)\u001B[49m\n\u001B[0;32m   1926\u001B[0m \u001B[38;5;28;01mexcept\u001B[39;00m \u001B[38;5;167;01mException\u001B[39;00m:\n\u001B[0;32m   1927\u001B[0m     \u001B[38;5;28mself\u001B[39m\u001B[38;5;241m.\u001B[39mclose()\n",
      "File \u001B[1;32mC:\\FHNW_Programmiersachen\\5_Sem\\immo_challenge\\.venv\\Lib\\site-packages\\pandas\\io\\parsers\\c_parser_wrapper.py:234\u001B[0m, in \u001B[0;36mCParserWrapper.read\u001B[1;34m(self, nrows)\u001B[0m\n\u001B[0;32m    232\u001B[0m \u001B[38;5;28;01mtry\u001B[39;00m:\n\u001B[0;32m    233\u001B[0m     \u001B[38;5;28;01mif\u001B[39;00m \u001B[38;5;28mself\u001B[39m\u001B[38;5;241m.\u001B[39mlow_memory:\n\u001B[1;32m--> 234\u001B[0m         chunks \u001B[38;5;241m=\u001B[39m \u001B[38;5;28;43mself\u001B[39;49m\u001B[38;5;241;43m.\u001B[39;49m\u001B[43m_reader\u001B[49m\u001B[38;5;241;43m.\u001B[39;49m\u001B[43mread_low_memory\u001B[49m\u001B[43m(\u001B[49m\u001B[43mnrows\u001B[49m\u001B[43m)\u001B[49m\n\u001B[0;32m    235\u001B[0m         \u001B[38;5;66;03m# destructive to chunks\u001B[39;00m\n\u001B[0;32m    236\u001B[0m         data \u001B[38;5;241m=\u001B[39m _concatenate_chunks(chunks)\n",
      "File \u001B[1;32mparsers.pyx:838\u001B[0m, in \u001B[0;36mpandas._libs.parsers.TextReader.read_low_memory\u001B[1;34m()\u001B[0m\n",
      "File \u001B[1;32mparsers.pyx:905\u001B[0m, in \u001B[0;36mpandas._libs.parsers.TextReader._read_rows\u001B[1;34m()\u001B[0m\n",
      "File \u001B[1;32mparsers.pyx:874\u001B[0m, in \u001B[0;36mpandas._libs.parsers.TextReader._tokenize_rows\u001B[1;34m()\u001B[0m\n",
      "File \u001B[1;32mparsers.pyx:891\u001B[0m, in \u001B[0;36mpandas._libs.parsers.TextReader._check_tokenize_status\u001B[1;34m()\u001B[0m\n",
      "File \u001B[1;32mparsers.pyx:2061\u001B[0m, in \u001B[0;36mpandas._libs.parsers.raise_parser_error\u001B[1;34m()\u001B[0m\n",
      "\u001B[1;31mParserError\u001B[0m: Error tokenizing data. C error: Calling read(nbytes) on source failed. Try engine='python'."
     ]
    }
   ],
   "source": [
    "df = pd.read_csv('../data/immo_data_202208_v2.csv', sep=',', skip_blank_lines=True, dtype=str)\n",
    "print(df.shape)"
   ]
  },
  {
   "cell_type": "code",
   "execution_count": null,
   "id": "1cc09162d8f90a59",
   "metadata": {
    "ExecuteTime": {
     "end_time": "2024-10-03T15:21:38.131080800Z",
     "start_time": "2024-10-03T15:21:38.038426100Z"
    },
    "collapsed": false
   },
   "outputs": [],
   "source": [
    "df.head()"
   ]
  },
  {
   "cell_type": "code",
   "execution_count": null,
   "id": "c71f18b3c9c1badf",
   "metadata": {
    "ExecuteTime": {
     "start_time": "2024-10-03T15:21:38.038426100Z"
    },
    "collapsed": false
   },
   "outputs": [],
   "source": [
    "df.tail()"
   ]
  },
  {
   "cell_type": "code",
   "execution_count": null,
   "id": "d0c3f086e3b36d3c",
   "metadata": {
    "ExecuteTime": {
     "start_time": "2024-10-03T15:21:38.039393600Z"
    },
    "collapsed": false
   },
   "outputs": [],
   "source": [
    "count_column = df.describe()[0:1]\n",
    "\n",
    "count_column = count_column.transpose()\n",
    "# order ascending\n",
    "count_column = count_column.sort_values(by='count', axis=0)\n",
    "# add procentual missing values\n",
    "count_column['missing [%]'] = 100 - (count_column['count'] / df.shape[0] * 100)\n",
    "count_column['missing absolute'] =  df.shape[0] - count_column['count']\n",
    "count_column"
   ]
  },
  {
   "cell_type": "code",
   "execution_count": null,
   "id": "72c7667e78ee28bf",
   "metadata": {
    "ExecuteTime": {
     "start_time": "2024-10-03T15:21:38.040394Z"
    },
    "collapsed": false
   },
   "outputs": [],
   "source": [
    "# find datapoint with most missing values\n",
    "df[df.isnull().sum(axis=1) == df.isnull().sum(axis=1).max()]"
   ]
  },
  {
   "cell_type": "code",
   "execution_count": null,
   "id": "4171fd358978fa7b",
   "metadata": {
    "ExecuteTime": {
     "start_time": "2024-10-03T15:21:38.041394100Z"
    },
    "collapsed": false
   },
   "outputs": [],
   "source": [
    "# count price on request\n",
    "amount_price_on_request = df[df['price'] == 'Price on request']\n",
    "amount_price_on_request"
   ]
  },
  {
   "cell_type": "code",
   "execution_count": null,
   "id": "26139e86d8814190",
   "metadata": {
    "ExecuteTime": {
     "start_time": "2024-10-03T15:21:38.043395700Z"
    },
    "collapsed": false
   },
   "outputs": [],
   "source": [
    "# count unique values in column price\n",
    "prices = df['price'].value_counts()\n",
    "#filter where price does not contain 'CHF'\n",
    "prices = prices[prices.index.str.contains('CHF') == False]\n",
    "prices"
   ]
  },
  {
   "cell_type": "code",
   "execution_count": null,
   "id": "81e452c7fc9b516a",
   "metadata": {
    "ExecuteTime": {
     "start_time": "2024-10-03T15:21:38.044392800Z"
    },
    "collapsed": false
   },
   "outputs": [],
   "source": [
    "# remove price on request\n",
    "df = df[df['price'] != 'Price on request']\n",
    "df['price_cleaned'] = df['price_cleaned'].astype(float)"
   ]
  },
  {
   "cell_type": "code",
   "execution_count": null,
   "id": "c3f473c7bd765e11",
   "metadata": {
    "ExecuteTime": {
     "start_time": "2024-10-03T15:21:38.045394900Z"
    },
    "collapsed": false
   },
   "outputs": [],
   "source": [
    "(df['price_cleaned']/1000).plot.hist(bins=200)\n",
    "plt.xlabel('Price in 1000 CHF')\n",
    "plt.ylabel('Frequency')\n",
    "plt.title('Histogram of prices')\n",
    "plt.xlim(0, 5000)\n",
    "plt.show()"
   ]
  },
  {
   "cell_type": "code",
   "execution_count": null,
   "id": "cba1166feb7ac681",
   "metadata": {
    "ExecuteTime": {
     "start_time": "2024-10-03T15:21:38.046392700Z"
    },
    "collapsed": false
   },
   "outputs": [],
   "source": [
    "# show list of all columns ordered by price_cleaned asending\n",
    "df = df.sort_values(by='price_cleaned', ascending=True)\n",
    "df"
   ]
  },
  {
   "cell_type": "code",
   "execution_count": null,
   "id": "24a11e24cd70d897",
   "metadata": {
    "ExecuteTime": {
     "start_time": "2024-10-03T15:21:38.047392300Z"
    },
    "collapsed": false
   },
   "outputs": [],
   "source": [
    "import pandas as pd\n",
    "\n",
    "def compare_columns_percentage(df):\n",
    "    # Erstelle ein leeres Dictionary, um die Übereinstimmung zu speichern\n",
    "    similarity_info = {}\n",
    "    \n",
    "    # Vergleiche jede Spalte mit jeder anderen Spalte\n",
    "    for col1 in df.columns:\n",
    "        for col2 in df.columns:\n",
    "            if col1 != col2:  # Vermeide den Vergleich einer Spalte mit sich selbst\n",
    "                # Vergleiche die Werte in jeder Zeile\n",
    "                matching_rows = df[col1] == df[col2]\n",
    "                matching_percentage = (matching_rows.sum() / len(df)) * 100  # Prozentuale Übereinstimmung\n",
    "                \n",
    "                # Speichere die Informationen nur, wenn es eine Übereinstimmung gibt\n",
    "                if matching_percentage > 0:\n",
    "                    similarity_info[(col1, col2)] = matching_percentage\n",
    "    \n",
    "    # Erstelle ein DataFrame aus dem Dictionary, um die Ergebnisse anzuzeigen\n",
    "    similarity_df = pd.DataFrame.from_dict(similarity_info, orient='index', columns=['Percentage'])\n",
    "    similarity_df.index = pd.MultiIndex.from_tuples(similarity_df.index, names=[\"Column 1\", \"Column 2\"])\n",
    "    \n",
    "    # Sortiere die Ergebnisse nach der höchsten Übereinstimmung\n",
    "    similarity_df = similarity_df.sort_values(by=\"Percentage\", ascending=False)\n",
    "    \n",
    "    return similarity_df\n",
    "\n",
    "# Beispiel-Aufruf mit deinem DataFrame (df)\n",
    "similarity_df = compare_columns_percentage(df)\n",
    "# Display the results\n",
    "print(similarity_df)\n"
   ]
  },
  {
   "cell_type": "code",
   "execution_count": null,
   "id": "fda7ac05b6bd2776",
   "metadata": {
    "ExecuteTime": {
     "start_time": "2024-10-03T15:21:38.047392300Z"
    },
    "collapsed": false
   },
   "outputs": [],
   "source": [
    "similarity_df"
   ]
  },
  {
   "cell_type": "code",
   "execution_count": null,
   "id": "46cca9687cc2b64a",
   "metadata": {
    "ExecuteTime": {
     "start_time": "2024-10-03T15:21:38.048395400Z"
    },
    "collapsed": false
   },
   "outputs": [],
   "source": [
    "#df_droped_columns = df.drop(columns=['Unnamed: 0', 'plz', 'Living_area_unified', 'type', 'Availability', 'Municipality', 'Living space', 'Living_space_merged', 'address_s', 'location', 'space_cleaned', 'description', 'detailed_description', 'url', 'table', 'detail_responsive#municipality', 'detail_responsive#surface_living', 'detail_responsive#floor', 'detail_responsive#available_from', 'Minimum floor space:', 'Superficie utile', 'Gross return', 'Piano', 'Superficie del terreno', 'Surface utile', 'Gross yield:', 'Étage', 'Surface du terrain', 'Superficie abitabile', 'Comune', 'Disponibilità', 'Nutzfläche'])"
   ]
  },
  {
   "cell_type": "code",
   "execution_count": null,
   "id": "6fae22e247126b4a",
   "metadata": {
    "ExecuteTime": {
     "start_time": "2024-10-03T15:21:38.049393100Z"
    },
    "collapsed": false
   },
   "outputs": [],
   "source": [
    "columns_to_drop = count_column[count_column['missing [%]'] > 50].index\n",
    "columns_to_drop"
   ]
  },
  {
   "cell_type": "code",
   "execution_count": null,
   "id": "f8c13705cdcb704e",
   "metadata": {
    "ExecuteTime": {
     "start_time": "2024-10-03T15:21:38.050394800Z"
    },
    "collapsed": false
   },
   "outputs": [],
   "source": [
    "df_droped_columns = df.drop(columns=columns_to_drop)\n",
    "df_droped_columns"
   ]
  },
  {
   "cell_type": "code",
   "execution_count": null,
   "id": "faffa6da540ed81a",
   "metadata": {
    "ExecuteTime": {
     "start_time": "2024-10-03T15:21:38.052393900Z"
    },
    "collapsed": false
   },
   "outputs": [],
   "source": []
  },
  {
   "cell_type": "markdown",
   "id": "793f1d21fc50c920",
   "metadata": {
    "collapsed": false
   },
   "source": [
    "# Analyse der Wohnungsdaten\n",
    "## Flächenattribute"
   ]
  },
  {
   "cell_type": "code",
   "execution_count": null,
   "id": "52a9d9110a704bc7",
   "metadata": {
    "ExecuteTime": {
     "start_time": "2024-10-03T15:21:38.054395100Z"
    },
    "collapsed": false
   },
   "outputs": [],
   "source": [
    "columns_wohnung_attr = ['type'\n",
    "                        , 'type_unified'\n",
    "                        , 'rooms'\n",
    "                        , 'Space extracted'\n",
    "                        , 'Living_area_unified'\n",
    "                        , 'Availability_merged'\n",
    "                        , 'Availability'\n",
    "                        , 'Living_space_merged'\n",
    "                        , 'Living space'\n",
    "                        , 'Floor'\n",
    "                        , 'address_s'\n",
    "                        , 'space'\n",
    "                        , 'space_cleaned'\n",
    "                        , 'Surface living:'\n",
    "                        , 'No. of rooms:'\n",
    "                        , 'Plot_area_unified'\n",
    "                        , 'Year built:'\n",
    "                        , 'Floor space'\n",
    "                        , 'Floor_space_merged'\n",
    "                        , 'Land area:'\n",
    "                        , 'Plot area'\n",
    "                        , 'Plot_area_merged'\n",
    "                        , 'Floor_unified'\n",
    "                        , 'Floor_merged'\n",
    "                        , 'detail_responsive#floor'\n",
    "                        , 'Room height:'\n",
    "                        , 'detail_responsive#surface_living'\n",
    "                        , 'detail_responsive#municipality'\n",
    "                        , 'detail_responsive#available_from'\n",
    "                        , 'Number of apartments:'\n",
    "                        , 'Volume:'\n",
    "                        , 'Last refurbishment:'\n",
    "                        , 'Number of floors:'\n",
    "                        , 'Floor space:'\n",
    "                        , 'Surface habitable'\n",
    "                        , 'Stockwerk'\n",
    "                        , 'Disponibilité'\n",
    "                        , 'Number of toilets:'\n",
    "                        , 'detail_responsive#surface_usable'\n",
    "                        , 'Wohnfläche'\n",
    "                        , 'detail_responsive#surface_property'\n",
    "                        , 'Verfügbarkeit'\n",
    "                        , 'Superficie del terreno'\n",
    "                        , 'Surface utile'\n",
    "                        , 'Étage'\n",
    "                        , 'Surface du terrain'\n",
    "                        , 'Superficie abitabile'\n",
    "                        , 'Disponibilità'\n",
    "                        , 'Nutzfläche'\n",
    "                        , 'Grundstücksfläche'\n",
    "                        , 'Minimum floor space:'\n",
    "                        , 'Superficie utile'\n",
    "                        , 'Piano'\n",
    "                        ]\n",
    "df_wohung_flächenattr = df[columns_wohnung_attr]\n",
    "df_wohung_flächenattr"
   ]
  },
  {
   "cell_type": "code",
   "execution_count": null,
   "id": "5cb1be77b53a6b9b",
   "metadata": {
    "ExecuteTime": {
     "start_time": "2024-10-03T15:21:38.055393400Z"
    },
    "collapsed": false
   },
   "outputs": [],
   "source": [
    "# count nan values per column\n",
    "nans_wohnung = df_wohung_flächenattr.isna().sum()\n",
    "nans_wohnung"
   ]
  },
  {
   "cell_type": "code",
   "execution_count": null,
   "id": "c7b6e2179e07ad61",
   "metadata": {
    "ExecuteTime": {
     "start_time": "2024-10-03T15:21:38.057394100Z"
    },
    "collapsed": false
   },
   "outputs": [],
   "source": [
    "columns_duplicated_space_attr = [\n",
    "                        'Space extracted'\n",
    "                        , 'Living_area_unified'\n",
    "                        , 'Living_space_merged'\n",
    "                        , 'Living space'\n",
    "                        , 'space'\n",
    "                        , 'space_cleaned'\n",
    "                        , 'Surface living:'\n",
    "                        , 'Plot_area_unified'\n",
    "                        , 'Floor space'\n",
    "                        , 'Floor_space_merged'\n",
    "                        , 'Land area:'\n",
    "                        , 'Plot area'\n",
    "                        , 'Plot_area_merged'\n",
    "                        , 'detail_responsive#surface_living'\n",
    "                        , 'Volume:'\n",
    "                        , 'Floor space:'\n",
    "                        , 'Surface habitable'\n",
    "                        , 'detail_responsive#surface_usable'\n",
    "                        , 'Wohnfläche'\n",
    "                        , 'detail_responsive#surface_property'\n",
    "                        , 'Superficie del terreno'\n",
    "                        , 'Surface utile'\n",
    "                        , 'Surface du terrain'\n",
    "                        , 'Superficie abitabile'\n",
    "                        , 'Nutzfläche'\n",
    "                        , 'Grundstücksfläche'\n",
    "                        , 'Minimum floor space:'\n",
    "                        , 'Superficie utile'\n",
    "]\n",
    "df_wohung_flächenattr = df[columns_duplicated_space_attr]\n",
    "df_wohung_flächenattr"
   ]
  },
  {
   "cell_type": "code",
   "execution_count": null,
   "id": "c5abf5b7a36276bc",
   "metadata": {
    "ExecuteTime": {
     "start_time": "2024-10-03T15:21:38.059394Z"
    },
    "collapsed": false
   },
   "outputs": [],
   "source": [
    "nans_wohnung = df_wohung_flächenattr.isna().sum()\n",
    "nans_wohnung"
   ]
  },
  {
   "cell_type": "code",
   "execution_count": null,
   "id": "262b4c2376c9b7b6",
   "metadata": {
    "ExecuteTime": {
     "start_time": "2024-10-03T15:21:38.060393200Z"
    },
    "collapsed": false
   },
   "outputs": [],
   "source": [
    "from src.dataPipeline import DataPipeline as dp\n",
    "from sklearn.impute import SimpleImputer\n",
    "\n",
    "dp = dp()\n",
    "dp.read_csv('../data/immo_data_202208_v2.csv')\n",
    "dp.drop_columns([\n",
    "    'Living_area_unified'\n",
    "    ,'Living_space_merged'\n",
    "    ,'Living space'\n",
    "    ,'space'\n",
    "    ,'space_cleaned'\n",
    "    ,'Surface living:'\n",
    "    ,'Wohnfläche'\n",
    "    ,'Superficie abitabile'\n",
    "])\n",
    "dp.impute_missing_values(imputer=SimpleImputer(strategy='most_frequent'))\n",
    "dp.get_data()"
   ]
  },
  {
   "cell_type": "code",
   "execution_count": null,
   "id": "9943ca6d5ed475b2",
   "metadata": {
    "ExecuteTime": {
     "start_time": "2024-10-03T15:21:38.062392900Z"
    },
    "collapsed": false
   },
   "outputs": [],
   "source": [
    "for column in df.columns:\n",
    "    print(column, df[column][0])\n"
   ]
  },
  {
   "cell_type": "markdown",
   "id": "3e98e90a40204d9",
   "metadata": {
    "collapsed": false
   },
   "source": []
  },
  {
   "cell_type": "markdown",
   "id": "415ae64df1a67203",
   "metadata": {
    "collapsed": false
   },
   "source": [
    "Stockwerk"
   ]
  },
  {
   "cell_type": "code",
   "execution_count": null,
   "id": "274635971d09d765",
   "metadata": {
    "ExecuteTime": {
     "start_time": "2024-10-03T15:21:38.063392800Z"
    },
    "collapsed": false
   },
   "outputs": [],
   "source": [
    "# drop rows where every value is missing\n",
    "\n",
    "temp = df[['Floor_unified', 'Floor_merged', 'Étage', 'Piano', 'Stockwerk', 'detail_responsive#floor', 'Floor']]\n",
    "temp.dropna(how='all').isna().sum()\n"
   ]
  },
  {
   "cell_type": "code",
   "execution_count": null,
   "id": "ce7a6ea45bd77760",
   "metadata": {
    "ExecuteTime": {
     "start_time": "2024-10-03T15:21:38.064393700Z"
    },
    "collapsed": false
   },
   "outputs": [],
   "source": [
    "temp = df[['Floor_unified', 'Floor_merged', 'Étage', 'Piano', 'Stockwerk', 'detail_responsive#floor', 'Floor']]\n",
    "temp['Floor'] = temp[['Floor', 'detail_responsive#floor', 'Floor_merged']].bfill(axis=1)['Floor']\n",
    "temp.isna().sum()"
   ]
  },
  {
   "cell_type": "markdown",
   "id": "55576782c44c6f79",
   "metadata": {
    "collapsed": false
   },
   "source": [
    "Wohnfläche"
   ]
  },
  {
   "cell_type": "code",
   "execution_count": null,
   "id": "ada932c7c8503f02",
   "metadata": {
    "ExecuteTime": {
     "start_time": "2024-10-03T15:21:38.065395700Z"
    },
    "collapsed": false
   },
   "outputs": [],
   "source": [
    "temp = df[['Living space', 'Wohnfläche', 'detail_responsive#surface_living', 'Surface habitable', 'Superficie abitabile', 'Living_space_merged', 'Space extracted', 'Living_area_unified', 'space', 'Surface living:', 'space_cleaned']]\n",
    "temp.dropna(how='all').isna().sum()"
   ]
  },
  {
   "cell_type": "code",
   "execution_count": null,
   "id": "f71b44b2bcad04fe",
   "metadata": {
    "ExecuteTime": {
     "start_time": "2024-10-03T15:21:38.066397100Z"
    },
    "collapsed": false
   },
   "outputs": [],
   "source": [
    "temp = df[['Living space', 'Wohnfläche', 'detail_responsive#surface_living', 'Surface habitable', 'Superficie abitabile', 'Living_space_merged', 'Space extracted', 'Living_area_unified', 'space', 'Surface living:', 'space_cleaned']]\n",
    "temp = temp.dropna(how='all')\n",
    "temp"
   ]
  },
  {
   "cell_type": "code",
   "execution_count": null,
   "id": "a56d4b72331f3ea6",
   "metadata": {
    "ExecuteTime": {
     "start_time": "2024-10-03T15:21:38.067396200Z"
    },
    "collapsed": false
   },
   "outputs": [],
   "source": [
    "temp['Space extracted'] = temp[['Space extracted', 'detail_responsive#surface_living']].bfill(axis=1)['Space extracted']\n",
    "temp.isna().sum()"
   ]
  },
  {
   "cell_type": "markdown",
   "id": "1e1d6e8bb527262",
   "metadata": {
    "collapsed": false
   },
   "source": [
    "Grundstücksfläche"
   ]
  },
  {
   "cell_type": "code",
   "execution_count": null,
   "id": "e1b4c191e3bd6dc0",
   "metadata": {
    "ExecuteTime": {
     "start_time": "2024-10-03T15:21:38.068392800Z"
    },
    "collapsed": false
   },
   "outputs": [],
   "source": [
    "temp = df[['Plot area', 'Grundstücksfläche', 'detail_responsive#surface_property', 'Surface du terrain', 'Superficie del terreno', 'Plot_area_merged', 'Plot_area_unified', 'Land area:']]\n",
    "temp.dropna(how='all').isna().sum()"
   ]
  },
  {
   "cell_type": "code",
   "execution_count": null,
   "id": "93dc760f6152f5e1",
   "metadata": {
    "ExecuteTime": {
     "start_time": "2024-10-03T15:21:38.070395300Z"
    },
    "collapsed": false
   },
   "outputs": [],
   "source": [
    "temp = df[['Plot_area_unified','Plot area', 'Grundstücksfläche', 'detail_responsive#surface_property', 'Surface du terrain', 'Superficie del terreno', 'Plot_area_merged', 'Land area:']]\n",
    "temp = temp.dropna(how='all')\n",
    "temp"
   ]
  },
  {
   "cell_type": "code",
   "execution_count": null,
   "id": "8baf84280d4937b1",
   "metadata": {
    "ExecuteTime": {
     "start_time": "2024-10-03T15:21:38.071396300Z"
    },
    "collapsed": false
   },
   "outputs": [],
   "source": [
    "temp['Plot_area_unified'] = temp[['Plot_area_unified', 'detail_responsive#surface_property', 'Plot_area_merged']].bfill(axis=1)['Plot_area_unified']\n",
    "temp.isna().sum()"
   ]
  },
  {
   "cell_type": "markdown",
   "id": "c49c8edbbc631566",
   "metadata": {
    "collapsed": false
   },
   "source": [
    "Nutzfläche"
   ]
  },
  {
   "cell_type": "code",
   "execution_count": null,
   "id": "94125c54b5427b21",
   "metadata": {
    "ExecuteTime": {
     "start_time": "2024-10-03T15:21:38.072394900Z"
    },
    "collapsed": false
   },
   "outputs": [],
   "source": [
    "temp = df[['Nutzfläche', 'detail_responsive#surface_usable', 'Surface utile', 'Superficie utile']]\n",
    "temp.dropna(how='all').isna().sum()"
   ]
  },
  {
   "cell_type": "code",
   "execution_count": null,
   "id": "1a2345fb71d93ebd",
   "metadata": {
    "ExecuteTime": {
     "start_time": "2024-10-03T15:21:38.072394900Z"
    },
    "collapsed": false
   },
   "outputs": [],
   "source": [
    "temp = df[['Nutzfläche', 'detail_responsive#surface_usable', 'Surface utile', 'Superficie utile']]\n",
    "temp = temp.dropna(how='all')\n",
    "temp"
   ]
  },
  {
   "cell_type": "code",
   "execution_count": null,
   "id": "ce6e4c780540fdd3",
   "metadata": {
    "ExecuteTime": {
     "start_time": "2024-10-03T15:21:38.073398300Z"
    },
    "collapsed": false
   },
   "outputs": [],
   "source": [
    "temp['detail_responsive#surface_usable'] = temp[['detail_responsive#surface_usable', 'Nutzfläche', 'Surface utile', 'Superficie utile']].bfill(axis=1)['detail_responsive#surface_usable']\n",
    "temp.isna().sum()"
   ]
  },
  {
   "cell_type": "markdown",
   "id": "dc6adabad28b02ad",
   "metadata": {
    "collapsed": false
   },
   "source": [
    "Stockwerksfläche"
   ]
  },
  {
   "cell_type": "code",
   "execution_count": null,
   "id": "8792107b67b7c3b4",
   "metadata": {
    "ExecuteTime": {
     "start_time": "2024-10-03T15:21:38.074399800Z"
    },
    "collapsed": false
   },
   "outputs": [],
   "source": [
    "temp = df[['Floor space', 'Floor_space_merged']]\n",
    "temp.dropna(how='all').isna().sum()"
   ]
  },
  {
   "cell_type": "markdown",
   "id": "1616b8c172a32145",
   "metadata": {
    "collapsed": false
   },
   "source": [
    "Floor_space_merged bereits vorhanden"
   ]
  },
  {
   "cell_type": "markdown",
   "id": "d630f51f66afb432",
   "metadata": {
    "collapsed": false
   },
   "source": [
    "Number of rooms"
   ]
  },
  {
   "cell_type": "code",
   "execution_count": null,
   "id": "57b6b49dcfe199dc",
   "metadata": {
    "ExecuteTime": {
     "start_time": "2024-10-03T15:21:38.075400800Z"
    },
    "collapsed": false
   },
   "outputs": [],
   "source": [
    "temp = df[['No. of rooms:', 'rooms']]"
   ]
  },
  {
   "cell_type": "code",
   "execution_count": null,
   "id": "8962a95ebb011cd9",
   "metadata": {
    "ExecuteTime": {
     "start_time": "2024-10-03T15:21:38.075400800Z"
    },
    "collapsed": false
   },
   "outputs": [],
   "source": [
    "temp['No. of rooms:'] = temp[['No. of rooms:', 'rooms']].bfill(axis=1)['No. of rooms:']\n",
    "temp.isna().sum()"
   ]
  },
  {
   "cell_type": "markdown",
   "id": "40e1f7611f8e59b0",
   "metadata": {
    "collapsed": false
   },
   "source": [
    "Availability"
   ]
  },
  {
   "cell_type": "code",
   "execution_count": null,
   "id": "a0240ed01e0b4e43",
   "metadata": {
    "ExecuteTime": {
     "start_time": "2024-10-03T15:21:38.076397100Z"
    },
    "collapsed": false
   },
   "outputs": [],
   "source": [
    "temp = df[['Availability', 'detail_responsive#available_from', 'Disponibilité', 'Disponibilità','Availability_merged']]\n",
    "temp.dropna(how='all').isna().sum()"
   ]
  },
  {
   "cell_type": "code",
   "execution_count": null,
   "id": "df4f8a1c72e63911",
   "metadata": {
    "ExecuteTime": {
     "start_time": "2024-10-03T15:21:38.076397100Z"
    },
    "collapsed": false
   },
   "outputs": [],
   "source": [
    "temp = df[['Availability', 'detail_responsive#available_from', 'Disponibilité', 'Disponibilità','Availability_merged']]\n",
    "temp = temp.dropna(how='all')\n",
    "temp"
   ]
  },
  {
   "cell_type": "code",
   "execution_count": null,
   "id": "8a1c7b485a0fef2c",
   "metadata": {
    "ExecuteTime": {
     "start_time": "2024-10-03T15:21:38.077397400Z"
    },
    "collapsed": false
   },
   "outputs": [],
   "source": [
    "temp['Availability'] = temp[['Availability', 'detail_responsive#available_from', 'Availability_merged', 'Verfügbarkeit', 'Disponibilité', 'Disponibilità']].bfill(axis=1)['Availability']\n",
    "temp.isna().sum()"
   ]
  },
  {
   "cell_type": "markdown",
   "id": "7a2059fede253898",
   "metadata": {
    "collapsed": false
   },
   "source": []
  },
  {
   "cell_type": "markdown",
   "id": "d4f4bb5ebff9b991",
   "metadata": {
    "collapsed": false
   },
   "source": []
  },
  {
   "cell_type": "code",
   "execution_count": null,
   "id": "d1ae51048a655875",
   "metadata": {
    "ExecuteTime": {
     "start_time": "2024-10-03T15:21:38.078397400Z"
    },
    "collapsed": false
   },
   "outputs": [],
   "source": [
    "temp = df.drop(columns=[\n",
    "'Unnamed: 0.1'\n",
    ",'Unnamed: 0'\n",
    ",'Living space'\n",
    ",'Plot area'\n",
    ",'Floor space'\n",
    ",'location'\n",
    ",'description'\n",
    ",'detailed_description'\n",
    ",'url'\n",
    ",'table'\n",
    ",'detail_responsive#surface_living'\n",
    ",'detail_responsive#floor'\n",
    ",'Wohnfläche'\n",
    ",'Stockwerk'\n",
    ",'Nutzfläche'\n",
    ",'Grundstücksfläche'\n",
    ",'detail_responsive#surface_property'\n",
    ",'Surface habitable'\n",
    ",'Surface du terrain'\n",
    ",'Surface utile'\n",
    ",'Étage'\n",
    ",'Superficie abitabile'\n",
    ",'Gross return'\n",
    ",'Piano'\n",
    ",'Superficie del terreno'\n",
    ",'Superficie utile'\n",
    ",'Floor_merged'\n",
    ",'Living_space_merged'\n",
    ",'Plot_area_merged'\n",
    ",'location_parsed'\n",
    ",'title'\n",
    ",'details'\n",
    ",'address'\n",
    ",'link'\n",
    ",'details_structured'\n",
    ",'Floor_unified'\n",
    ",'Living_area_unified'\n",
    ",'provider'\n",
    ",'space'\n",
    ",'address_s'\n",
    ",'rooms'\n",
    ",'Surface living:'\n",
    ",'Land area:'\n",
    ",'Room height:'\n",
    ",'features'\n",
    ",'description_detailed'\n",
    ",'Floor space:'\n",
    ",'Volume:'\n",
    ",'Number of toilets:'\n",
    ",'Gross yield:'\n",
    ",'Minimum floor space:'\n",
    ",'space_cleaned'\n",
    "])\n",
    "temp"
   ]
  },
  {
   "cell_type": "markdown",
   "id": "374447fd3af0e063",
   "metadata": {
    "collapsed": false
   },
   "source": [
    "### Test Datapipeline"
   ]
  },
  {
   "cell_type": "code",
   "execution_count": 1,
   "id": "37b7d5386ddeadba",
   "metadata": {
    "ExecuteTime": {
     "end_time": "2024-10-03T16:14:47.305403600Z",
     "start_time": "2024-10-03T16:14:47.290511200Z"
    },
    "collapsed": false
   },
   "outputs": [],
   "source": [
    "columns_to_drop_all=[\n",
    "'Unnamed: 0.1'\n",
    ",'Unnamed: 0'\n",
    ",'Municipality'\n",
    ",'Living space'\n",
    ",'Plot area'\n",
    ",'Floor space'\n",
    ",'location'\n",
    ",'description'\n",
    ",'detailed_description'\n",
    ",'url'\n",
    ",'table'\n",
    ",'detail_responsive#municipality'\n",
    ",'detail_responsive#surface_living'\n",
    ",'detail_responsive#floor'\n",
    ",'detail_responsive#available_from'\n",
    ",'Gemeinde'\n",
    ",'Wohnfläche'\n",
    ",'Stockwerk'\n",
    ",'Nutzfläche'\n",
    ",'Verfügbarkeit'\n",
    ",'Grundstücksfläche'\n",
    ",'detail_responsive#surface_property'\n",
    ",'Commune'\n",
    ",'Surface habitable'\n",
    ",'Surface du terrain'\n",
    ",'Surface utile'\n",
    ",'Disponibilité'\n",
    ",'Étage'\n",
    ",'Comune'\n",
    ",'Superficie abitabile'\n",
    ",'Disponibilità'\n",
    ",'Gross return'\n",
    ",'Piano'\n",
    ",'Superficie del terreno'\n",
    ",'Superficie utile'\n",
    ",'Municipality_merged'\n",
    ",'Floor_merged'\n",
    ",'Living_space_merged'\n",
    ",'Plot_area_merged'\n",
    ",'Availability_merged'\n",
    ",'location_parsed'\n",
    ",'title'\n",
    ",'price'\n",
    ",'details'\n",
    ",'address'\n",
    ",'link'\n",
    ",'details_structured'\n",
    ",'lat'\n",
    ",'lon'\n",
    ",'index'\n",
    ",'Latitude'\n",
    ",'Locality'\n",
    ",'Longitude'\n",
    ",'Zip'\n",
    ",'rooms'\n",
    ",'type_unified'\n",
    ",'Floor_unified'\n",
    ",'Living_area_unified'\n",
    ",'provider'\n",
    ",'space'\n",
    ",'price_s'\n",
    ",'address_s'\n",
    ",'Surface living:'\n",
    ",'Land area:'\n",
    ",'Room height:'\n",
    ",'features'\n",
    ",'description_detailed'\n",
    ",'Floor space:'\n",
    ",'Volume:'\n",
    ",'plz'\n",
    ",'Number of toilets:'\n",
    ",'Gross yield:'\n",
    ",'Minimum floor space:'\n",
    ",'space_cleaned'\n",
    "]"
   ]
  },
  {
   "cell_type": "code",
   "execution_count": 2,
   "id": "f8e4951d523ea7cb",
   "metadata": {
    "ExecuteTime": {
     "end_time": "2024-10-03T16:16:02.616366500Z",
     "start_time": "2024-10-03T16:14:47.296356200Z"
    },
    "collapsed": false
   },
   "outputs": [
    {
     "name": "stderr",
     "output_type": "stream",
     "text": [
      "C:\\FHNW_Programmiersachen\\5_Sem\\immo_challenge\\src\\dataPipeline.py:27: DtypeWarning: Columns (3,4,5,6,11,13,14,15,16,17,18,19,20,21,22,23,24,25,26,27,28,29,30,31,32,33,34,35,36,37,38,39,40,41,42,43,45,46,47,49,50,107,110,114,115,116,119,120,121,124,125,126,128,131,132) have mixed types. Specify dtype option on import or set low_memory=False.\n",
      "  self.data = pd.read_csv(file_path)\n",
      "C:\\FHNW_Programmiersachen\\5_Sem\\immo_challenge\\src\\dataPipeline.py:46: FutureWarning: Downcasting object dtype arrays on .fillna, .ffill, .bfill is deprecated and will change in a future version. Call result.infer_objects(copy=False) instead. To opt-in to the future behavior, set `pd.set_option('future.no_silent_downcasting', True)`\n",
      "  self.data['Space extracted'] = self.data[['Space extracted', 'detail_responsive#surface_living']].bfill(axis=1)['Space extracted']\n",
      "C:\\FHNW_Programmiersachen\\5_Sem\\immo_challenge\\src\\dataPipeline.py:47: FutureWarning: Downcasting object dtype arrays on .fillna, .ffill, .bfill is deprecated and will change in a future version. Call result.infer_objects(copy=False) instead. To opt-in to the future behavior, set `pd.set_option('future.no_silent_downcasting', True)`\n",
      "  self.data['Plot_area_unified'] = self.data[['Plot_area_unified', 'detail_responsive#surface_property', 'Plot_area_merged']].bfill(axis=1)['Plot_area_unified']\n",
      "C:\\FHNW_Programmiersachen\\5_Sem\\immo_challenge\\src\\dataPipeline.py:48: FutureWarning: Downcasting object dtype arrays on .fillna, .ffill, .bfill is deprecated and will change in a future version. Call result.infer_objects(copy=False) instead. To opt-in to the future behavior, set `pd.set_option('future.no_silent_downcasting', True)`\n",
      "  self.data['Availability'] = self.data[['Availability', 'detail_responsive#available_from', 'Availability_merged', 'Verfügbarkeit', 'Disponibilité', 'Disponibilità']].bfill(axis=1)['Availability']\n",
      "C:\\FHNW_Programmiersachen\\5_Sem\\immo_challenge\\src\\dataPipeline.py:49: FutureWarning: Downcasting object dtype arrays on .fillna, .ffill, .bfill is deprecated and will change in a future version. Call result.infer_objects(copy=False) instead. To opt-in to the future behavior, set `pd.set_option('future.no_silent_downcasting', True)`\n",
      "  self.data['No. of rooms:'] = self.data[['No. of rooms:', 'rooms']].bfill(axis=1)['No. of rooms:']\n"
     ]
    }
   ],
   "source": [
    "from src.dataPipeline import DataPipeline as DataPipeline\n",
    "from sklearn.impute import KNNImputer\n",
    "\n",
    "dp = DataPipeline()\n",
    "dp.read_csv('../data/immo_data_202208_v2.csv')\n",
    "dp.merge_columns()\n",
    "dp.drop_columns(columns=columns_to_drop_all)\n",
    "dp.clean_data()\n",
    "dp.encode_categorical_features()\n",
    "dp.impute_missing_values(imputer=KNNImputer(n_neighbors=5))\n",
    "df_clean = dp.get_data()"
   ]
  },
  {
   "cell_type": "code",
   "execution_count": 3,
   "id": "7025afd76c18bf84",
   "metadata": {
    "ExecuteTime": {
     "end_time": "2024-10-03T16:16:02.646359900Z",
     "start_time": "2024-10-03T16:16:02.616366500Z"
    },
    "collapsed": false
   },
   "outputs": [
    {
     "data": {
      "text/html": [
       "<div>\n",
       "<style scoped>\n",
       "    .dataframe tbody tr th:only-of-type {\n",
       "        vertical-align: middle;\n",
       "    }\n",
       "\n",
       "    .dataframe tbody tr th {\n",
       "        vertical-align: top;\n",
       "    }\n",
       "\n",
       "    .dataframe thead th {\n",
       "        text-align: right;\n",
       "    }\n",
       "</style>\n",
       "<table border=\"1\" class=\"dataframe\">\n",
       "  <thead>\n",
       "    <tr style=\"text-align: right;\">\n",
       "      <th></th>\n",
       "      <th>Floor</th>\n",
       "      <th>detail_responsive#surface_usable</th>\n",
       "      <th>Floor_space_merged</th>\n",
       "      <th>ForestDensityL</th>\n",
       "      <th>ForestDensityM</th>\n",
       "      <th>ForestDensityS</th>\n",
       "      <th>NoisePollutionRailwayL</th>\n",
       "      <th>NoisePollutionRailwayM</th>\n",
       "      <th>NoisePollutionRailwayS</th>\n",
       "      <th>NoisePollutionRoadL</th>\n",
       "      <th>...</th>\n",
       "      <th>type_penthouse</th>\n",
       "      <th>type_rustico</th>\n",
       "      <th>type_secondary-suite</th>\n",
       "      <th>type_semi-detached-house</th>\n",
       "      <th>type_single-room</th>\n",
       "      <th>type_stepped-apartment</th>\n",
       "      <th>type_stepped-house</th>\n",
       "      <th>type_studio</th>\n",
       "      <th>type_terrace-house</th>\n",
       "      <th>type_villa</th>\n",
       "    </tr>\n",
       "  </thead>\n",
       "  <tbody>\n",
       "    <tr>\n",
       "      <th>0</th>\n",
       "      <td>4.0</td>\n",
       "      <td>187.2</td>\n",
       "      <td>204.2</td>\n",
       "      <td>0.511176</td>\n",
       "      <td>0.286451</td>\n",
       "      <td>0.090908</td>\n",
       "      <td>0.000000</td>\n",
       "      <td>0.000000</td>\n",
       "      <td>0.000000</td>\n",
       "      <td>0.058298</td>\n",
       "      <td>...</td>\n",
       "      <td>1.0</td>\n",
       "      <td>0.0</td>\n",
       "      <td>0.0</td>\n",
       "      <td>0.0</td>\n",
       "      <td>0.0</td>\n",
       "      <td>0.0</td>\n",
       "      <td>0.0</td>\n",
       "      <td>0.0</td>\n",
       "      <td>0.0</td>\n",
       "      <td>0.0</td>\n",
       "    </tr>\n",
       "    <tr>\n",
       "      <th>1</th>\n",
       "      <td>1.8</td>\n",
       "      <td>191.8</td>\n",
       "      <td>242.0</td>\n",
       "      <td>0.511176</td>\n",
       "      <td>0.286451</td>\n",
       "      <td>0.090908</td>\n",
       "      <td>0.000000</td>\n",
       "      <td>0.000000</td>\n",
       "      <td>0.000000</td>\n",
       "      <td>0.058298</td>\n",
       "      <td>...</td>\n",
       "      <td>0.0</td>\n",
       "      <td>0.0</td>\n",
       "      <td>0.0</td>\n",
       "      <td>0.0</td>\n",
       "      <td>0.0</td>\n",
       "      <td>0.0</td>\n",
       "      <td>0.0</td>\n",
       "      <td>0.0</td>\n",
       "      <td>1.0</td>\n",
       "      <td>0.0</td>\n",
       "    </tr>\n",
       "    <tr>\n",
       "      <th>2</th>\n",
       "      <td>2.0</td>\n",
       "      <td>162.0</td>\n",
       "      <td>100.8</td>\n",
       "      <td>0.163362</td>\n",
       "      <td>0.095877</td>\n",
       "      <td>0.001911</td>\n",
       "      <td>0.000000</td>\n",
       "      <td>0.000000</td>\n",
       "      <td>0.000000</td>\n",
       "      <td>0.334957</td>\n",
       "      <td>...</td>\n",
       "      <td>1.0</td>\n",
       "      <td>0.0</td>\n",
       "      <td>0.0</td>\n",
       "      <td>0.0</td>\n",
       "      <td>0.0</td>\n",
       "      <td>0.0</td>\n",
       "      <td>0.0</td>\n",
       "      <td>0.0</td>\n",
       "      <td>0.0</td>\n",
       "      <td>0.0</td>\n",
       "    </tr>\n",
       "    <tr>\n",
       "      <th>3</th>\n",
       "      <td>2.2</td>\n",
       "      <td>191.8</td>\n",
       "      <td>257.0</td>\n",
       "      <td>0.511176</td>\n",
       "      <td>0.286451</td>\n",
       "      <td>0.090908</td>\n",
       "      <td>0.000000</td>\n",
       "      <td>0.000000</td>\n",
       "      <td>0.000000</td>\n",
       "      <td>0.058298</td>\n",
       "      <td>...</td>\n",
       "      <td>0.0</td>\n",
       "      <td>0.0</td>\n",
       "      <td>0.0</td>\n",
       "      <td>0.0</td>\n",
       "      <td>0.0</td>\n",
       "      <td>0.0</td>\n",
       "      <td>0.0</td>\n",
       "      <td>0.0</td>\n",
       "      <td>0.0</td>\n",
       "      <td>0.0</td>\n",
       "    </tr>\n",
       "    <tr>\n",
       "      <th>4</th>\n",
       "      <td>0.0</td>\n",
       "      <td>197.6</td>\n",
       "      <td>228.0</td>\n",
       "      <td>0.333865</td>\n",
       "      <td>0.279276</td>\n",
       "      <td>0.145835</td>\n",
       "      <td>0.000000</td>\n",
       "      <td>0.000000</td>\n",
       "      <td>0.000000</td>\n",
       "      <td>0.133498</td>\n",
       "      <td>...</td>\n",
       "      <td>0.0</td>\n",
       "      <td>0.0</td>\n",
       "      <td>0.0</td>\n",
       "      <td>0.0</td>\n",
       "      <td>0.0</td>\n",
       "      <td>0.0</td>\n",
       "      <td>0.0</td>\n",
       "      <td>0.0</td>\n",
       "      <td>0.0</td>\n",
       "      <td>0.0</td>\n",
       "    </tr>\n",
       "    <tr>\n",
       "      <th>...</th>\n",
       "      <td>...</td>\n",
       "      <td>...</td>\n",
       "      <td>...</td>\n",
       "      <td>...</td>\n",
       "      <td>...</td>\n",
       "      <td>...</td>\n",
       "      <td>...</td>\n",
       "      <td>...</td>\n",
       "      <td>...</td>\n",
       "      <td>...</td>\n",
       "      <td>...</td>\n",
       "      <td>...</td>\n",
       "      <td>...</td>\n",
       "      <td>...</td>\n",
       "      <td>...</td>\n",
       "      <td>...</td>\n",
       "      <td>...</td>\n",
       "      <td>...</td>\n",
       "      <td>...</td>\n",
       "      <td>...</td>\n",
       "      <td>...</td>\n",
       "    </tr>\n",
       "    <tr>\n",
       "      <th>21461</th>\n",
       "      <td>0.8</td>\n",
       "      <td>67.8</td>\n",
       "      <td>99.6</td>\n",
       "      <td>0.495715</td>\n",
       "      <td>0.385885</td>\n",
       "      <td>0.097278</td>\n",
       "      <td>0.000000</td>\n",
       "      <td>0.000000</td>\n",
       "      <td>0.000000</td>\n",
       "      <td>0.236514</td>\n",
       "      <td>...</td>\n",
       "      <td>0.0</td>\n",
       "      <td>0.0</td>\n",
       "      <td>0.0</td>\n",
       "      <td>0.0</td>\n",
       "      <td>0.0</td>\n",
       "      <td>0.0</td>\n",
       "      <td>0.0</td>\n",
       "      <td>0.0</td>\n",
       "      <td>0.0</td>\n",
       "      <td>0.0</td>\n",
       "    </tr>\n",
       "    <tr>\n",
       "      <th>21462</th>\n",
       "      <td>2.2</td>\n",
       "      <td>207.2</td>\n",
       "      <td>255.2</td>\n",
       "      <td>0.000000</td>\n",
       "      <td>0.000000</td>\n",
       "      <td>0.000000</td>\n",
       "      <td>0.000000</td>\n",
       "      <td>0.000000</td>\n",
       "      <td>0.000000</td>\n",
       "      <td>0.325610</td>\n",
       "      <td>...</td>\n",
       "      <td>0.0</td>\n",
       "      <td>0.0</td>\n",
       "      <td>0.0</td>\n",
       "      <td>0.0</td>\n",
       "      <td>0.0</td>\n",
       "      <td>0.0</td>\n",
       "      <td>0.0</td>\n",
       "      <td>0.0</td>\n",
       "      <td>0.0</td>\n",
       "      <td>0.0</td>\n",
       "    </tr>\n",
       "    <tr>\n",
       "      <th>21463</th>\n",
       "      <td>1.4</td>\n",
       "      <td>233.2</td>\n",
       "      <td>281.8</td>\n",
       "      <td>0.000000</td>\n",
       "      <td>0.000000</td>\n",
       "      <td>0.000000</td>\n",
       "      <td>0.052609</td>\n",
       "      <td>0.083575</td>\n",
       "      <td>0.027766</td>\n",
       "      <td>0.306761</td>\n",
       "      <td>...</td>\n",
       "      <td>0.0</td>\n",
       "      <td>0.0</td>\n",
       "      <td>0.0</td>\n",
       "      <td>0.0</td>\n",
       "      <td>0.0</td>\n",
       "      <td>0.0</td>\n",
       "      <td>0.0</td>\n",
       "      <td>0.0</td>\n",
       "      <td>0.0</td>\n",
       "      <td>0.0</td>\n",
       "    </tr>\n",
       "    <tr>\n",
       "      <th>21464</th>\n",
       "      <td>0.8</td>\n",
       "      <td>167.8</td>\n",
       "      <td>160.8</td>\n",
       "      <td>0.410843</td>\n",
       "      <td>0.151363</td>\n",
       "      <td>0.038351</td>\n",
       "      <td>0.000000</td>\n",
       "      <td>0.000000</td>\n",
       "      <td>0.000000</td>\n",
       "      <td>0.198066</td>\n",
       "      <td>...</td>\n",
       "      <td>0.0</td>\n",
       "      <td>0.0</td>\n",
       "      <td>0.0</td>\n",
       "      <td>0.0</td>\n",
       "      <td>0.0</td>\n",
       "      <td>0.0</td>\n",
       "      <td>0.0</td>\n",
       "      <td>0.0</td>\n",
       "      <td>0.0</td>\n",
       "      <td>0.0</td>\n",
       "    </tr>\n",
       "    <tr>\n",
       "      <th>21465</th>\n",
       "      <td>1.2</td>\n",
       "      <td>361.2</td>\n",
       "      <td>139.0</td>\n",
       "      <td>0.284828</td>\n",
       "      <td>0.153670</td>\n",
       "      <td>0.113892</td>\n",
       "      <td>0.020078</td>\n",
       "      <td>0.020966</td>\n",
       "      <td>0.010568</td>\n",
       "      <td>0.221735</td>\n",
       "      <td>...</td>\n",
       "      <td>0.0</td>\n",
       "      <td>0.0</td>\n",
       "      <td>0.0</td>\n",
       "      <td>0.0</td>\n",
       "      <td>0.0</td>\n",
       "      <td>0.0</td>\n",
       "      <td>0.0</td>\n",
       "      <td>0.0</td>\n",
       "      <td>0.0</td>\n",
       "      <td>0.0</td>\n",
       "    </tr>\n",
       "  </tbody>\n",
       "</table>\n",
       "<p>21466 rows × 104 columns</p>\n",
       "</div>"
      ],
      "text/plain": [
       "       Floor  detail_responsive#surface_usable  Floor_space_merged  \\\n",
       "0        4.0                             187.2               204.2   \n",
       "1        1.8                             191.8               242.0   \n",
       "2        2.0                             162.0               100.8   \n",
       "3        2.2                             191.8               257.0   \n",
       "4        0.0                             197.6               228.0   \n",
       "...      ...                               ...                 ...   \n",
       "21461    0.8                              67.8                99.6   \n",
       "21462    2.2                             207.2               255.2   \n",
       "21463    1.4                             233.2               281.8   \n",
       "21464    0.8                             167.8               160.8   \n",
       "21465    1.2                             361.2               139.0   \n",
       "\n",
       "       ForestDensityL  ForestDensityM  ForestDensityS  NoisePollutionRailwayL  \\\n",
       "0            0.511176        0.286451        0.090908                0.000000   \n",
       "1            0.511176        0.286451        0.090908                0.000000   \n",
       "2            0.163362        0.095877        0.001911                0.000000   \n",
       "3            0.511176        0.286451        0.090908                0.000000   \n",
       "4            0.333865        0.279276        0.145835                0.000000   \n",
       "...               ...             ...             ...                     ...   \n",
       "21461        0.495715        0.385885        0.097278                0.000000   \n",
       "21462        0.000000        0.000000        0.000000                0.000000   \n",
       "21463        0.000000        0.000000        0.000000                0.052609   \n",
       "21464        0.410843        0.151363        0.038351                0.000000   \n",
       "21465        0.284828        0.153670        0.113892                0.020078   \n",
       "\n",
       "       NoisePollutionRailwayM  NoisePollutionRailwayS  NoisePollutionRoadL  \\\n",
       "0                    0.000000                0.000000             0.058298   \n",
       "1                    0.000000                0.000000             0.058298   \n",
       "2                    0.000000                0.000000             0.334957   \n",
       "3                    0.000000                0.000000             0.058298   \n",
       "4                    0.000000                0.000000             0.133498   \n",
       "...                       ...                     ...                  ...   \n",
       "21461                0.000000                0.000000             0.236514   \n",
       "21462                0.000000                0.000000             0.325610   \n",
       "21463                0.083575                0.027766             0.306761   \n",
       "21464                0.000000                0.000000             0.198066   \n",
       "21465                0.020966                0.010568             0.221735   \n",
       "\n",
       "       ...  type_penthouse  type_rustico  type_secondary-suite  \\\n",
       "0      ...             1.0           0.0                   0.0   \n",
       "1      ...             0.0           0.0                   0.0   \n",
       "2      ...             1.0           0.0                   0.0   \n",
       "3      ...             0.0           0.0                   0.0   \n",
       "4      ...             0.0           0.0                   0.0   \n",
       "...    ...             ...           ...                   ...   \n",
       "21461  ...             0.0           0.0                   0.0   \n",
       "21462  ...             0.0           0.0                   0.0   \n",
       "21463  ...             0.0           0.0                   0.0   \n",
       "21464  ...             0.0           0.0                   0.0   \n",
       "21465  ...             0.0           0.0                   0.0   \n",
       "\n",
       "       type_semi-detached-house  type_single-room  type_stepped-apartment  \\\n",
       "0                           0.0               0.0                     0.0   \n",
       "1                           0.0               0.0                     0.0   \n",
       "2                           0.0               0.0                     0.0   \n",
       "3                           0.0               0.0                     0.0   \n",
       "4                           0.0               0.0                     0.0   \n",
       "...                         ...               ...                     ...   \n",
       "21461                       0.0               0.0                     0.0   \n",
       "21462                       0.0               0.0                     0.0   \n",
       "21463                       0.0               0.0                     0.0   \n",
       "21464                       0.0               0.0                     0.0   \n",
       "21465                       0.0               0.0                     0.0   \n",
       "\n",
       "       type_stepped-house  type_studio  type_terrace-house  type_villa  \n",
       "0                     0.0          0.0                 0.0         0.0  \n",
       "1                     0.0          0.0                 1.0         0.0  \n",
       "2                     0.0          0.0                 0.0         0.0  \n",
       "3                     0.0          0.0                 0.0         0.0  \n",
       "4                     0.0          0.0                 0.0         0.0  \n",
       "...                   ...          ...                 ...         ...  \n",
       "21461                 0.0          0.0                 0.0         0.0  \n",
       "21462                 0.0          0.0                 0.0         0.0  \n",
       "21463                 0.0          0.0                 0.0         0.0  \n",
       "21464                 0.0          0.0                 0.0         0.0  \n",
       "21465                 0.0          0.0                 0.0         0.0  \n",
       "\n",
       "[21466 rows x 104 columns]"
      ]
     },
     "execution_count": 3,
     "metadata": {},
     "output_type": "execute_result"
    }
   ],
   "source": [
    "df_clean"
   ]
  },
  {
   "cell_type": "code",
   "execution_count": 9,
   "id": "9cbf706448e57cf0",
   "metadata": {
    "ExecuteTime": {
     "end_time": "2024-10-03T16:22:30.678160500Z",
     "start_time": "2024-10-03T16:22:30.563542500Z"
    },
    "collapsed": false
   },
   "outputs": [
    {
     "data": {
      "image/png": "[encoded data removed]",
      "text/plain": [
       "<Figure size 640x480 with 1 Axes>"
      ]
     },
     "metadata": {},
     "output_type": "display_data"
    }
   ],
   "source": [
    "# Plot scatterplot of price_cleaned and space extracted\n",
    "plt.scatter(df_clean['price_cleaned']/10000, df_clean['Space extracted'])\n",
    "plt.xlabel('Price in CHF [10`000]')\n",
    "plt.ylabel('Space in m²')\n",
    "plt.title('Scatterplot of price and space')\n",
    "plt.show()"
   ]
  },
  {
   "cell_type": "markdown",
   "id": "2afb3df440965d11",
   "metadata": {
    "collapsed": false
   },
   "source": [
    "Make random forest model to predict price_cleaned"
   ]
  },
  {
   "cell_type": "code",
   "execution_count": 12,
   "id": "b466a3f703bebe93",
   "metadata": {
    "collapsed": false,
    "ExecuteTime": {
     "end_time": "2024-10-06T08:26:15.897629500Z",
     "start_time": "2024-10-06T08:26:15.856258300Z"
    }
   },
   "outputs": [],
   "source": [
    "# Make random forest model to predict price_cleaned\n",
    "from sklearn.ensemble import RandomForestRegressor\n",
    "from sklearn.model_selection import train_test_split\n",
    "# use mape as metric\n",
    "from sklearn.metrics import mean_absolute_percentage_error\n",
    "\n",
    "X = df_cleaned.drop(columns=['price_cleaned'])\n",
    "y = df_cleaned['price_cleaned']\n",
    "X_train, X_test, y_train, y_test = train_test_split(X, y, test_size=0.4, random_state=42)"
   ]
  },
  {
   "cell_type": "code",
   "outputs": [
    {
     "data": {
      "text/plain": "np.float64(1.366316881945175)"
     },
     "execution_count": 13,
     "metadata": {},
     "output_type": "execute_result"
    }
   ],
   "source": [
    "\n",
    "model = RandomForestRegressor()\n",
    "model.fit(X_train, y_train)\n",
    "y_pred = model.predict(X_test)\n",
    "\n",
    "mape = mean_absolute_percentage_error(y_test, y_pred)\n",
    "mape"
   ],
   "metadata": {
    "collapsed": false,
    "ExecuteTime": {
     "end_time": "2024-10-06T08:26:55.892525200Z",
     "start_time": "2024-10-06T08:26:15.874700400Z"
    }
   },
   "id": "4625190387137a94",
   "execution_count": 13
  },
  {
   "cell_type": "code",
   "execution_count": 14,
   "id": "1b0097ca18c809b7",
   "metadata": {
    "collapsed": false,
    "ExecuteTime": {
     "end_time": "2024-10-06T08:26:55.924677Z",
     "start_time": "2024-10-06T08:26:55.894535100Z"
    }
   },
   "outputs": [
    {
     "data": {
      "text/plain": "                             feature  importance\n1   detail_responsive#surface_usable    0.580171\n2                 Floor_space_merged    0.300563\n53             Number of apartments:    0.044277\n0                              Floor    0.025147\n54               Last refurbishment:    0.014032\n..                               ...         ...\n65           type_Cellar compartment    0.000000\n64                       type_Castle    0.000000\n71                   type_Hobby room    0.000000\n84                       type_castle    0.000000\n97                  type_single-room    0.000000\n\n[103 rows x 2 columns]",
      "text/html": "<div>\n<style scoped>\n    .dataframe tbody tr th:only-of-type {\n        vertical-align: middle;\n    }\n\n    .dataframe tbody tr th {\n        vertical-align: top;\n    }\n\n    .dataframe thead th {\n        text-align: right;\n    }\n</style>\n<table border=\"1\" class=\"dataframe\">\n  <thead>\n    <tr style=\"text-align: right;\">\n      <th></th>\n      <th>feature</th>\n      <th>importance</th>\n    </tr>\n  </thead>\n  <tbody>\n    <tr>\n      <th>1</th>\n      <td>detail_responsive#surface_usable</td>\n      <td>0.580171</td>\n    </tr>\n    <tr>\n      <th>2</th>\n      <td>Floor_space_merged</td>\n      <td>0.300563</td>\n    </tr>\n    <tr>\n      <th>53</th>\n      <td>Number of apartments:</td>\n      <td>0.044277</td>\n    </tr>\n    <tr>\n      <th>0</th>\n      <td>Floor</td>\n      <td>0.025147</td>\n    </tr>\n    <tr>\n      <th>54</th>\n      <td>Last refurbishment:</td>\n      <td>0.014032</td>\n    </tr>\n    <tr>\n      <th>...</th>\n      <td>...</td>\n      <td>...</td>\n    </tr>\n    <tr>\n      <th>65</th>\n      <td>type_Cellar compartment</td>\n      <td>0.000000</td>\n    </tr>\n    <tr>\n      <th>64</th>\n      <td>type_Castle</td>\n      <td>0.000000</td>\n    </tr>\n    <tr>\n      <th>71</th>\n      <td>type_Hobby room</td>\n      <td>0.000000</td>\n    </tr>\n    <tr>\n      <th>84</th>\n      <td>type_castle</td>\n      <td>0.000000</td>\n    </tr>\n    <tr>\n      <th>97</th>\n      <td>type_single-room</td>\n      <td>0.000000</td>\n    </tr>\n  </tbody>\n</table>\n<p>103 rows × 2 columns</p>\n</div>"
     },
     "execution_count": 14,
     "metadata": {},
     "output_type": "execute_result"
    }
   ],
   "source": [
    "# show feature importance with names\n",
    "feature_importance = model.feature_importances_\n",
    "feature_names = X.columns\n",
    "feature_importance_df = pd.DataFrame({'feature': feature_names, 'importance': feature_importance})\n",
    "feature_importance_df = feature_importance_df.sort_values(by='importance', ascending=False)\n",
    "feature_importance_df"
   ]
  },
  {
   "cell_type": "code",
   "execution_count": 11,
   "id": "9d123cff30bac412",
   "metadata": {
    "collapsed": false,
    "ExecuteTime": {
     "end_time": "2024-10-06T08:26:15.853657200Z",
     "start_time": "2024-10-06T08:25:00.104652500Z"
    }
   },
   "outputs": [
    {
     "name": "stderr",
     "output_type": "stream",
     "text": [
      "C:\\FHNW_Programmiersachen\\5_Sem\\immo_challenge\\src\\dataPipeline.py:35: DtypeWarning: Columns (3,4,5,6,11,13,14,15,16,17,18,19,20,21,22,23,24,25,26,27,28,29,30,31,32,33,34,35,36,37,38,39,40,41,42,43,45,46,47,49,50,107,110,114,115,116,119,120,121,124,125,126,128,131,132) have mixed types. Specify dtype option on import or set low_memory=False.\n",
      "  self.data = pd.read_csv(filePath)\n",
      "C:\\FHNW_Programmiersachen\\5_Sem\\immo_challenge\\src\\dataPipeline.py:58: FutureWarning: Downcasting object dtype arrays on .fillna, .ffill, .bfill is deprecated and will change in a future version. Call result.infer_objects(copy=False) instead. To opt-in to the future behavior, set `pd.set_option('future.no_silent_downcasting', True)`\n",
      "  ]].bfill(axis=1)['Space extracted']\n",
      "C:\\FHNW_Programmiersachen\\5_Sem\\immo_challenge\\src\\dataPipeline.py:63: FutureWarning: Downcasting object dtype arrays on .fillna, .ffill, .bfill is deprecated and will change in a future version. Call result.infer_objects(copy=False) instead. To opt-in to the future behavior, set `pd.set_option('future.no_silent_downcasting', True)`\n",
      "  ]].bfill(axis=1)['Plot_area_unified']\n",
      "C:\\FHNW_Programmiersachen\\5_Sem\\immo_challenge\\src\\dataPipeline.py:69: FutureWarning: Downcasting object dtype arrays on .fillna, .ffill, .bfill is deprecated and will change in a future version. Call result.infer_objects(copy=False) instead. To opt-in to the future behavior, set `pd.set_option('future.no_silent_downcasting', True)`\n",
      "  ]].bfill(axis=1)['Availability']\n",
      "C:\\FHNW_Programmiersachen\\5_Sem\\immo_challenge\\src\\dataPipeline.py:73: FutureWarning: Downcasting object dtype arrays on .fillna, .ffill, .bfill is deprecated and will change in a future version. Call result.infer_objects(copy=False) instead. To opt-in to the future behavior, set `pd.set_option('future.no_silent_downcasting', True)`\n",
      "  ]].bfill(axis=1)['No. of rooms:']\n"
     ]
    },
    {
     "data": {
      "text/plain": "       Floor  detail_responsive#surface_usable  Floor_space_merged  \\\n0        4.0                             186.2               189.8   \n1        2.1                             201.3               242.0   \n2        2.0                             206.7               122.3   \n3        2.2                             201.3               257.0   \n4        0.0                             170.9               176.8   \n...      ...                               ...                 ...   \n20824    1.5                              88.8                94.1   \n20825    1.9                             196.7               226.6   \n20826    1.1                             201.3               308.8   \n20827    1.1                             202.4               184.9   \n20828    1.2                             239.0               144.7   \n\n       ForestDensityL  ForestDensityM  ForestDensityS  NoisePollutionRailwayL  \\\n0            0.511176        0.286451        0.090908                0.000000   \n1            0.511176        0.286451        0.090908                0.000000   \n2            0.163362        0.095877        0.001911                0.000000   \n3            0.511176        0.286451        0.090908                0.000000   \n4            0.333865        0.279276        0.145835                0.000000   \n...               ...             ...             ...                     ...   \n20824        0.495715        0.385885        0.097278                0.000000   \n20825        0.000000        0.000000        0.000000                0.000000   \n20826        0.000000        0.000000        0.000000                0.052609   \n20827        0.410843        0.151363        0.038351                0.000000   \n20828        0.284828        0.153670        0.113892                0.020078   \n\n       NoisePollutionRailwayM  NoisePollutionRailwayS  NoisePollutionRoadL  \\\n0                    0.000000                0.000000             0.058298   \n1                    0.000000                0.000000             0.058298   \n2                    0.000000                0.000000             0.334957   \n3                    0.000000                0.000000             0.058298   \n4                    0.000000                0.000000             0.133498   \n...                       ...                     ...                  ...   \n20824                0.000000                0.000000             0.236514   \n20825                0.000000                0.000000             0.325610   \n20826                0.083575                0.027766             0.306761   \n20827                0.000000                0.000000             0.198066   \n20828                0.020966                0.010568             0.221735   \n\n       ...  type_penthouse  type_rustico  type_secondary-suite  \\\n0      ...             1.0           0.0                   0.0   \n1      ...             0.0           0.0                   0.0   \n2      ...             1.0           0.0                   0.0   \n3      ...             0.0           0.0                   0.0   \n4      ...             0.0           0.0                   0.0   \n...    ...             ...           ...                   ...   \n20824  ...             0.0           0.0                   0.0   \n20825  ...             0.0           0.0                   0.0   \n20826  ...             0.0           0.0                   0.0   \n20827  ...             0.0           0.0                   0.0   \n20828  ...             0.0           0.0                   0.0   \n\n       type_semi-detached-house  type_single-room  type_stepped-apartment  \\\n0                           0.0               0.0                     0.0   \n1                           0.0               0.0                     0.0   \n2                           0.0               0.0                     0.0   \n3                           0.0               0.0                     0.0   \n4                           0.0               0.0                     0.0   \n...                         ...               ...                     ...   \n20824                       0.0               0.0                     0.0   \n20825                       0.0               0.0                     0.0   \n20826                       0.0               0.0                     0.0   \n20827                       0.0               0.0                     0.0   \n20828                       0.0               0.0                     0.0   \n\n       type_stepped-house  type_studio  type_terrace-house  type_villa  \n0                     0.0          0.0                 0.0         0.0  \n1                     0.0          0.0                 1.0         0.0  \n2                     0.0          0.0                 0.0         0.0  \n3                     0.0          0.0                 0.0         0.0  \n4                     0.0          0.0                 0.0         0.0  \n...                   ...          ...                 ...         ...  \n20824                 0.0          0.0                 0.0         0.0  \n20825                 0.0          0.0                 0.0         0.0  \n20826                 0.0          0.0                 0.0         0.0  \n20827                 0.0          0.0                 0.0         0.0  \n20828                 0.0          0.0                 0.0         0.0  \n\n[20829 rows x 104 columns]",
      "text/html": "<div>\n<style scoped>\n    .dataframe tbody tr th:only-of-type {\n        vertical-align: middle;\n    }\n\n    .dataframe tbody tr th {\n        vertical-align: top;\n    }\n\n    .dataframe thead th {\n        text-align: right;\n    }\n</style>\n<table border=\"1\" class=\"dataframe\">\n  <thead>\n    <tr style=\"text-align: right;\">\n      <th></th>\n      <th>Floor</th>\n      <th>detail_responsive#surface_usable</th>\n      <th>Floor_space_merged</th>\n      <th>ForestDensityL</th>\n      <th>ForestDensityM</th>\n      <th>ForestDensityS</th>\n      <th>NoisePollutionRailwayL</th>\n      <th>NoisePollutionRailwayM</th>\n      <th>NoisePollutionRailwayS</th>\n      <th>NoisePollutionRoadL</th>\n      <th>...</th>\n      <th>type_penthouse</th>\n      <th>type_rustico</th>\n      <th>type_secondary-suite</th>\n      <th>type_semi-detached-house</th>\n      <th>type_single-room</th>\n      <th>type_stepped-apartment</th>\n      <th>type_stepped-house</th>\n      <th>type_studio</th>\n      <th>type_terrace-house</th>\n      <th>type_villa</th>\n    </tr>\n  </thead>\n  <tbody>\n    <tr>\n      <th>0</th>\n      <td>4.0</td>\n      <td>186.2</td>\n      <td>189.8</td>\n      <td>0.511176</td>\n      <td>0.286451</td>\n      <td>0.090908</td>\n      <td>0.000000</td>\n      <td>0.000000</td>\n      <td>0.000000</td>\n      <td>0.058298</td>\n      <td>...</td>\n      <td>1.0</td>\n      <td>0.0</td>\n      <td>0.0</td>\n      <td>0.0</td>\n      <td>0.0</td>\n      <td>0.0</td>\n      <td>0.0</td>\n      <td>0.0</td>\n      <td>0.0</td>\n      <td>0.0</td>\n    </tr>\n    <tr>\n      <th>1</th>\n      <td>2.1</td>\n      <td>201.3</td>\n      <td>242.0</td>\n      <td>0.511176</td>\n      <td>0.286451</td>\n      <td>0.090908</td>\n      <td>0.000000</td>\n      <td>0.000000</td>\n      <td>0.000000</td>\n      <td>0.058298</td>\n      <td>...</td>\n      <td>0.0</td>\n      <td>0.0</td>\n      <td>0.0</td>\n      <td>0.0</td>\n      <td>0.0</td>\n      <td>0.0</td>\n      <td>0.0</td>\n      <td>0.0</td>\n      <td>1.0</td>\n      <td>0.0</td>\n    </tr>\n    <tr>\n      <th>2</th>\n      <td>2.0</td>\n      <td>206.7</td>\n      <td>122.3</td>\n      <td>0.163362</td>\n      <td>0.095877</td>\n      <td>0.001911</td>\n      <td>0.000000</td>\n      <td>0.000000</td>\n      <td>0.000000</td>\n      <td>0.334957</td>\n      <td>...</td>\n      <td>1.0</td>\n      <td>0.0</td>\n      <td>0.0</td>\n      <td>0.0</td>\n      <td>0.0</td>\n      <td>0.0</td>\n      <td>0.0</td>\n      <td>0.0</td>\n      <td>0.0</td>\n      <td>0.0</td>\n    </tr>\n    <tr>\n      <th>3</th>\n      <td>2.2</td>\n      <td>201.3</td>\n      <td>257.0</td>\n      <td>0.511176</td>\n      <td>0.286451</td>\n      <td>0.090908</td>\n      <td>0.000000</td>\n      <td>0.000000</td>\n      <td>0.000000</td>\n      <td>0.058298</td>\n      <td>...</td>\n      <td>0.0</td>\n      <td>0.0</td>\n      <td>0.0</td>\n      <td>0.0</td>\n      <td>0.0</td>\n      <td>0.0</td>\n      <td>0.0</td>\n      <td>0.0</td>\n      <td>0.0</td>\n      <td>0.0</td>\n    </tr>\n    <tr>\n      <th>4</th>\n      <td>0.0</td>\n      <td>170.9</td>\n      <td>176.8</td>\n      <td>0.333865</td>\n      <td>0.279276</td>\n      <td>0.145835</td>\n      <td>0.000000</td>\n      <td>0.000000</td>\n      <td>0.000000</td>\n      <td>0.133498</td>\n      <td>...</td>\n      <td>0.0</td>\n      <td>0.0</td>\n      <td>0.0</td>\n      <td>0.0</td>\n      <td>0.0</td>\n      <td>0.0</td>\n      <td>0.0</td>\n      <td>0.0</td>\n      <td>0.0</td>\n      <td>0.0</td>\n    </tr>\n    <tr>\n      <th>...</th>\n      <td>...</td>\n      <td>...</td>\n      <td>...</td>\n      <td>...</td>\n      <td>...</td>\n      <td>...</td>\n      <td>...</td>\n      <td>...</td>\n      <td>...</td>\n      <td>...</td>\n      <td>...</td>\n      <td>...</td>\n      <td>...</td>\n      <td>...</td>\n      <td>...</td>\n      <td>...</td>\n      <td>...</td>\n      <td>...</td>\n      <td>...</td>\n      <td>...</td>\n      <td>...</td>\n    </tr>\n    <tr>\n      <th>20824</th>\n      <td>1.5</td>\n      <td>88.8</td>\n      <td>94.1</td>\n      <td>0.495715</td>\n      <td>0.385885</td>\n      <td>0.097278</td>\n      <td>0.000000</td>\n      <td>0.000000</td>\n      <td>0.000000</td>\n      <td>0.236514</td>\n      <td>...</td>\n      <td>0.0</td>\n      <td>0.0</td>\n      <td>0.0</td>\n      <td>0.0</td>\n      <td>0.0</td>\n      <td>0.0</td>\n      <td>0.0</td>\n      <td>0.0</td>\n      <td>0.0</td>\n      <td>0.0</td>\n    </tr>\n    <tr>\n      <th>20825</th>\n      <td>1.9</td>\n      <td>196.7</td>\n      <td>226.6</td>\n      <td>0.000000</td>\n      <td>0.000000</td>\n      <td>0.000000</td>\n      <td>0.000000</td>\n      <td>0.000000</td>\n      <td>0.000000</td>\n      <td>0.325610</td>\n      <td>...</td>\n      <td>0.0</td>\n      <td>0.0</td>\n      <td>0.0</td>\n      <td>0.0</td>\n      <td>0.0</td>\n      <td>0.0</td>\n      <td>0.0</td>\n      <td>0.0</td>\n      <td>0.0</td>\n      <td>0.0</td>\n    </tr>\n    <tr>\n      <th>20826</th>\n      <td>1.1</td>\n      <td>201.3</td>\n      <td>308.8</td>\n      <td>0.000000</td>\n      <td>0.000000</td>\n      <td>0.000000</td>\n      <td>0.052609</td>\n      <td>0.083575</td>\n      <td>0.027766</td>\n      <td>0.306761</td>\n      <td>...</td>\n      <td>0.0</td>\n      <td>0.0</td>\n      <td>0.0</td>\n      <td>0.0</td>\n      <td>0.0</td>\n      <td>0.0</td>\n      <td>0.0</td>\n      <td>0.0</td>\n      <td>0.0</td>\n      <td>0.0</td>\n    </tr>\n    <tr>\n      <th>20827</th>\n      <td>1.1</td>\n      <td>202.4</td>\n      <td>184.9</td>\n      <td>0.410843</td>\n      <td>0.151363</td>\n      <td>0.038351</td>\n      <td>0.000000</td>\n      <td>0.000000</td>\n      <td>0.000000</td>\n      <td>0.198066</td>\n      <td>...</td>\n      <td>0.0</td>\n      <td>0.0</td>\n      <td>0.0</td>\n      <td>0.0</td>\n      <td>0.0</td>\n      <td>0.0</td>\n      <td>0.0</td>\n      <td>0.0</td>\n      <td>0.0</td>\n      <td>0.0</td>\n    </tr>\n    <tr>\n      <th>20828</th>\n      <td>1.2</td>\n      <td>239.0</td>\n      <td>144.7</td>\n      <td>0.284828</td>\n      <td>0.153670</td>\n      <td>0.113892</td>\n      <td>0.020078</td>\n      <td>0.020966</td>\n      <td>0.010568</td>\n      <td>0.221735</td>\n      <td>...</td>\n      <td>0.0</td>\n      <td>0.0</td>\n      <td>0.0</td>\n      <td>0.0</td>\n      <td>0.0</td>\n      <td>0.0</td>\n      <td>0.0</td>\n      <td>0.0</td>\n      <td>0.0</td>\n      <td>0.0</td>\n    </tr>\n  </tbody>\n</table>\n<p>20829 rows × 104 columns</p>\n</div>"
     },
     "execution_count": 11,
     "metadata": {},
     "output_type": "execute_result"
    }
   ],
   "source": [
    "from src.dataPipeline import DataPipeline as DataPipeline\n",
    "from sklearn.impute import KNNImputer\n",
    "\n",
    "dp = DataPipeline()\n",
    "knnImputer = KNNImputer(n_neighbors=10)\n",
    "df_cleaned = dp.runPipeline(imputer=knnImputer)\n",
    "df_cleaned"
   ]
  },
  {
   "cell_type": "code",
   "outputs": [
    {
     "data": {
      "text/plain": "       Floor  detail_responsive#surface_usable  Floor_space_merged  \\\n11054    1.0                              86.4               118.1   \n11492    2.0                             133.6               116.9   \n14780    2.0                             227.3               136.1   \n16196    1.0                              86.4               118.1   \n17492    1.0                             115.2               105.5   \n\n       ForestDensityL  ForestDensityM  ForestDensityS  NoisePollutionRailwayL  \\\n11054        0.091187        0.000000        0.000000                0.000000   \n11492        0.067579        0.004344        0.000000                0.000000   \n14780        0.146196        0.000000        0.000000                0.000000   \n16196        0.389839        0.216568        0.000477                0.000000   \n17492        0.015847        0.000368        0.000000                0.020772   \n\n       NoisePollutionRailwayM  NoisePollutionRailwayS  NoisePollutionRoadL  \\\n11054                     0.0                     0.0             0.204950   \n11492                     0.0                     0.0             0.286804   \n14780                     0.0                     0.0             0.262890   \n16196                     0.0                     0.0             0.266983   \n17492                     0.0                     0.0             0.239773   \n\n       ...  type_penthouse  type_rustico  type_secondary-suite  \\\n11054  ...             0.0           0.0                   0.0   \n11492  ...             0.0           0.0                   0.0   \n14780  ...             0.0           0.0                   0.0   \n16196  ...             0.0           0.0                   0.0   \n17492  ...             0.0           0.0                   0.0   \n\n       type_semi-detached-house  type_single-room  type_stepped-apartment  \\\n11054                       0.0               0.0                     0.0   \n11492                       0.0               0.0                     0.0   \n14780                       0.0               0.0                     0.0   \n16196                       0.0               0.0                     0.0   \n17492                       0.0               0.0                     0.0   \n\n       type_stepped-house  type_studio  type_terrace-house  type_villa  \n11054                 0.0          0.0                 0.0         0.0  \n11492                 0.0          0.0                 0.0         0.0  \n14780                 0.0          0.0                 0.0         0.0  \n16196                 0.0          0.0                 0.0         0.0  \n17492                 0.0          0.0                 0.0         0.0  \n\n[5 rows x 104 columns]",
      "text/html": "<div>\n<style scoped>\n    .dataframe tbody tr th:only-of-type {\n        vertical-align: middle;\n    }\n\n    .dataframe tbody tr th {\n        vertical-align: top;\n    }\n\n    .dataframe thead th {\n        text-align: right;\n    }\n</style>\n<table border=\"1\" class=\"dataframe\">\n  <thead>\n    <tr style=\"text-align: right;\">\n      <th></th>\n      <th>Floor</th>\n      <th>detail_responsive#surface_usable</th>\n      <th>Floor_space_merged</th>\n      <th>ForestDensityL</th>\n      <th>ForestDensityM</th>\n      <th>ForestDensityS</th>\n      <th>NoisePollutionRailwayL</th>\n      <th>NoisePollutionRailwayM</th>\n      <th>NoisePollutionRailwayS</th>\n      <th>NoisePollutionRoadL</th>\n      <th>...</th>\n      <th>type_penthouse</th>\n      <th>type_rustico</th>\n      <th>type_secondary-suite</th>\n      <th>type_semi-detached-house</th>\n      <th>type_single-room</th>\n      <th>type_stepped-apartment</th>\n      <th>type_stepped-house</th>\n      <th>type_studio</th>\n      <th>type_terrace-house</th>\n      <th>type_villa</th>\n    </tr>\n  </thead>\n  <tbody>\n    <tr>\n      <th>11054</th>\n      <td>1.0</td>\n      <td>86.4</td>\n      <td>118.1</td>\n      <td>0.091187</td>\n      <td>0.000000</td>\n      <td>0.000000</td>\n      <td>0.000000</td>\n      <td>0.0</td>\n      <td>0.0</td>\n      <td>0.204950</td>\n      <td>...</td>\n      <td>0.0</td>\n      <td>0.0</td>\n      <td>0.0</td>\n      <td>0.0</td>\n      <td>0.0</td>\n      <td>0.0</td>\n      <td>0.0</td>\n      <td>0.0</td>\n      <td>0.0</td>\n      <td>0.0</td>\n    </tr>\n    <tr>\n      <th>11492</th>\n      <td>2.0</td>\n      <td>133.6</td>\n      <td>116.9</td>\n      <td>0.067579</td>\n      <td>0.004344</td>\n      <td>0.000000</td>\n      <td>0.000000</td>\n      <td>0.0</td>\n      <td>0.0</td>\n      <td>0.286804</td>\n      <td>...</td>\n      <td>0.0</td>\n      <td>0.0</td>\n      <td>0.0</td>\n      <td>0.0</td>\n      <td>0.0</td>\n      <td>0.0</td>\n      <td>0.0</td>\n      <td>0.0</td>\n      <td>0.0</td>\n      <td>0.0</td>\n    </tr>\n    <tr>\n      <th>14780</th>\n      <td>2.0</td>\n      <td>227.3</td>\n      <td>136.1</td>\n      <td>0.146196</td>\n      <td>0.000000</td>\n      <td>0.000000</td>\n      <td>0.000000</td>\n      <td>0.0</td>\n      <td>0.0</td>\n      <td>0.262890</td>\n      <td>...</td>\n      <td>0.0</td>\n      <td>0.0</td>\n      <td>0.0</td>\n      <td>0.0</td>\n      <td>0.0</td>\n      <td>0.0</td>\n      <td>0.0</td>\n      <td>0.0</td>\n      <td>0.0</td>\n      <td>0.0</td>\n    </tr>\n    <tr>\n      <th>16196</th>\n      <td>1.0</td>\n      <td>86.4</td>\n      <td>118.1</td>\n      <td>0.389839</td>\n      <td>0.216568</td>\n      <td>0.000477</td>\n      <td>0.000000</td>\n      <td>0.0</td>\n      <td>0.0</td>\n      <td>0.266983</td>\n      <td>...</td>\n      <td>0.0</td>\n      <td>0.0</td>\n      <td>0.0</td>\n      <td>0.0</td>\n      <td>0.0</td>\n      <td>0.0</td>\n      <td>0.0</td>\n      <td>0.0</td>\n      <td>0.0</td>\n      <td>0.0</td>\n    </tr>\n    <tr>\n      <th>17492</th>\n      <td>1.0</td>\n      <td>115.2</td>\n      <td>105.5</td>\n      <td>0.015847</td>\n      <td>0.000368</td>\n      <td>0.000000</td>\n      <td>0.020772</td>\n      <td>0.0</td>\n      <td>0.0</td>\n      <td>0.239773</td>\n      <td>...</td>\n      <td>0.0</td>\n      <td>0.0</td>\n      <td>0.0</td>\n      <td>0.0</td>\n      <td>0.0</td>\n      <td>0.0</td>\n      <td>0.0</td>\n      <td>0.0</td>\n      <td>0.0</td>\n      <td>0.0</td>\n    </tr>\n  </tbody>\n</table>\n<p>5 rows × 104 columns</p>\n</div>"
     },
     "execution_count": 15,
     "metadata": {},
     "output_type": "execute_result"
    }
   ],
   "source": [
    "# check for duplicates and print them\n",
    "duplicates = df_cleaned.duplicated()\n",
    "duplicates = df_cleaned[duplicates]\n",
    "duplicates"
   ],
   "metadata": {
    "collapsed": false,
    "ExecuteTime": {
     "end_time": "2024-10-06T08:27:23.863632500Z",
     "start_time": "2024-10-06T08:27:23.769627500Z"
    }
   },
   "id": "e231fe3cfeec7126",
   "execution_count": 15
  },
  {
   "cell_type": "code",
   "execution_count": 3,
   "id": "cc307403cb293d23",
   "metadata": {
    "ExecuteTime": {
     "end_time": "2024-10-04T06:52:30.673620800Z",
     "start_time": "2024-10-04T06:52:30.447702900Z"
    },
    "collapsed": false
   },
   "outputs": [
    {
     "data": {
      "image/png": "[encoded data removed]",
      "text/plain": [
       "<Figure size 1000x1000 with 2 Axes>"
      ]
     },
     "metadata": {},
     "output_type": "display_data"
    }
   ],
   "source": [
    "# Plot correlation matrix of top 10 features\n",
    "import seaborn as sns\n",
    "corr = df_cleaned[['price_cleaned', 'detail_responsive#surface_usable'\n",
    ",'Floor_space_merged'\n",
    ",'Number of apartments:'\n",
    ",'Floor'\n",
    ",'Last refurbishment:'\n",
    ",'gde_new_homes_per_1000'\n",
    ",'Year built:'\n",
    ",'gde_politics_bdp'\n",
    ",'Number of floors:'\n",
    ",'gde_foreigners_percentage'\n",
    "]].corr()\n",
    "plt.figure(figsize=(10,10))\n",
    "sns.heatmap(corr)\n",
    "plt.show()"
   ]
  },
  {
   "cell_type": "code",
   "execution_count": 4,
   "id": "7922daa92fec772c",
   "metadata": {
    "ExecuteTime": {
     "end_time": "2024-10-04T07:50:22.308542400Z",
     "start_time": "2024-10-04T07:50:22.087864900Z"
    },
    "collapsed": false
   },
   "outputs": [
    {
     "data": {
      "image/png": "[encoded data removed]",
      "text/plain": [
       "<Figure size 1000x1000 with 2 Axes>"
      ]
     },
     "metadata": {},
     "output_type": "display_data"
    }
   ],
   "source": [
    "corr = df_cleaned[['price_cleaned', 'gde_politics_svp'\n",
    ",'gde_area_agriculture_percentage'\n",
    ",'Space extracted'\n",
    ",'gde_empty_apartments'\n",
    ",'plz_parsed'\n",
    ",'Plot_area_unified'\n",
    ",'gde_pop_per_km2'\n",
    ",'No. of rooms:'\n",
    ",'gde_population'\n",
    ",'gde_workers_sector2'\n",
    "]].corr()\n",
    "plt.figure(figsize=(10,10))\n",
    "sns.heatmap(corr)\n",
    "plt.show()"
   ]
  },
  {
   "cell_type": "code",
   "execution_count": null,
   "id": "8266183f2b153cd0",
   "metadata": {
    "collapsed": false
   },
   "outputs": [],
   "source": []
  }
 ],
 "metadata": {
  "kernelspec": {
   "display_name": "Python 3",
   "language": "python",
   "name": "python3"
  },
  "language_info": {
   "codemirror_mode": {
    "name": "ipython",
    "version": 3
   },
   "file_extension": ".py",
   "mimetype": "text/x-python",
   "name": "python",
   "nbconvert_exporter": "python",
   "pygments_lexer": "ipython3",
   "version": "3.11.5"
  }
 },
 "nbformat": 4,
 "nbformat_minor": 5
}

{
 "cells": [
  {
   "cell_type": "code",
   "execution_count": 1,
   "id": "initial_id",
   "metadata": {
    "collapsed": true,
    "ExecuteTime": {
     "end_time": "2024-09-24T07:58:14.954152800Z",
     "start_time": "2024-09-24T07:58:14.951149500Z"
    }
   },
   "outputs": [],
   "source": [
    "import pandas as pd\n",
    "import numpy as np\n",
    "import matplotlib.pyplot as plt"
   ]
  },
  {
   "cell_type": "code",
   "outputs": [
    {
     "name": "stdout",
     "output_type": "stream",
     "text": [
      "(22481, 134)\n"
     ]
    }
   ],
   "source": [
    "df = pd.read_csv('../data/immo_data_202208_v2.csv', sep=',', skip_blank_lines=True, dtype=str)\n",
    "print(df.shape)"
   ],
   "metadata": {
    "collapsed": false,
    "ExecuteTime": {
     "end_time": "2024-09-24T07:58:16.385956100Z",
     "start_time": "2024-09-24T07:58:14.954152800Z"
    }
   },
   "id": "6291ed2f9c4f4b0a",
   "execution_count": 2
  },
  {
   "cell_type": "code",
   "outputs": [
    {
     "data": {
      "text/plain": "  Unnamed: 0.1 Unnamed: 0 Municipality Living space Plot area Floor space  \\\n0            0          0   Biberstein       100 m²       NaN         NaN   \n1            1          1   Biberstein       156 m²    222 m²      242 m²   \n2            2          2          NaN          NaN       NaN         NaN   \n3            3          3   Biberstein       154 m²    370 m²      257 m²   \n4            4          4     Küttigen       142 m²       NaN         NaN   \n\n  Availability                               location  \\\n0   On request                    5023 Biberstein, AG   \n1   On request   Buhldenstrasse 8d5023 Biberstein, AG   \n2          NaN                       5022 Rombach, AG   \n3   On request  Buhaldenstrasse 8A5023 Biberstein, AG   \n4   On request                       5022 Rombach, AG   \n\n                                         description  \\\n0  3.5 rooms, 100 m²«Luxuriöse Attika-Wohnung mit...   \n1  4.5 rooms, 156 m²«Stilvolle Liegenschaft - ruh...   \n2  2.5 rooms, 93 m²«Moderne, lichtdurchflutete At...   \n3  4.5 rooms, 154 m²«AgentSelly - Luxuriöses Eckh...   \n4  4.5 rooms, 142 m²«MIT GARTENSITZPLATZ UND VIEL...   \n\n                                detailed_description  ... features  \\\n0  DescriptionLuxuriöse Attika-Wohnung direkt an ...  ...      NaN   \n1  DescriptionStilvolle Liegenschaft an ruhiger L...  ...      NaN   \n2  detail_responsive#description_title2,5 Zimmerw...  ...      NaN   \n3  DescriptionDieses äusserst grosszügige Minergi...  ...      NaN   \n4  DescriptionAus ehemals zwei Wohnungen wurde ei...  ...      NaN   \n\n  description_detailed Floor space: Number of floors: Volume:     plz  \\\n0                  NaN          NaN               NaN     NaN  5023.0   \n1                  NaN          NaN               NaN     NaN  5023.0   \n2                  NaN          NaN               NaN     NaN  5022.0   \n3                  NaN          NaN               NaN     NaN  5023.0   \n4                  NaN          NaN               NaN     NaN  5022.0   \n\n  Number of toilets: Gross yield: Minimum floor space: space_cleaned  \n0                NaN          NaN                  NaN           NaN  \n1                NaN          NaN                  NaN           NaN  \n2                NaN          NaN                  NaN           NaN  \n3                NaN          NaN                  NaN           NaN  \n4                NaN          NaN                  NaN           NaN  \n\n[5 rows x 134 columns]",
      "text/html": "<div>\n<style scoped>\n    .dataframe tbody tr th:only-of-type {\n        vertical-align: middle;\n    }\n\n    .dataframe tbody tr th {\n        vertical-align: top;\n    }\n\n    .dataframe thead th {\n        text-align: right;\n    }\n</style>\n<table border=\"1\" class=\"dataframe\">\n  <thead>\n    <tr style=\"text-align: right;\">\n      <th></th>\n      <th>Unnamed: 0.1</th>\n      <th>Unnamed: 0</th>\n      <th>Municipality</th>\n      <th>Living space</th>\n      <th>Plot area</th>\n      <th>Floor space</th>\n      <th>Availability</th>\n      <th>location</th>\n      <th>description</th>\n      <th>detailed_description</th>\n      <th>...</th>\n      <th>features</th>\n      <th>description_detailed</th>\n      <th>Floor space:</th>\n      <th>Number of floors:</th>\n      <th>Volume:</th>\n      <th>plz</th>\n      <th>Number of toilets:</th>\n      <th>Gross yield:</th>\n      <th>Minimum floor space:</th>\n      <th>space_cleaned</th>\n    </tr>\n  </thead>\n  <tbody>\n    <tr>\n      <th>0</th>\n      <td>0</td>\n      <td>0</td>\n      <td>Biberstein</td>\n      <td>100 m²</td>\n      <td>NaN</td>\n      <td>NaN</td>\n      <td>On request</td>\n      <td>5023 Biberstein, AG</td>\n      <td>3.5 rooms, 100 m²«Luxuriöse Attika-Wohnung mit...</td>\n      <td>DescriptionLuxuriöse Attika-Wohnung direkt an ...</td>\n      <td>...</td>\n      <td>NaN</td>\n      <td>NaN</td>\n      <td>NaN</td>\n      <td>NaN</td>\n      <td>NaN</td>\n      <td>5023.0</td>\n      <td>NaN</td>\n      <td>NaN</td>\n      <td>NaN</td>\n      <td>NaN</td>\n    </tr>\n    <tr>\n      <th>1</th>\n      <td>1</td>\n      <td>1</td>\n      <td>Biberstein</td>\n      <td>156 m²</td>\n      <td>222 m²</td>\n      <td>242 m²</td>\n      <td>On request</td>\n      <td>Buhldenstrasse 8d5023 Biberstein, AG</td>\n      <td>4.5 rooms, 156 m²«Stilvolle Liegenschaft - ruh...</td>\n      <td>DescriptionStilvolle Liegenschaft an ruhiger L...</td>\n      <td>...</td>\n      <td>NaN</td>\n      <td>NaN</td>\n      <td>NaN</td>\n      <td>NaN</td>\n      <td>NaN</td>\n      <td>5023.0</td>\n      <td>NaN</td>\n      <td>NaN</td>\n      <td>NaN</td>\n      <td>NaN</td>\n    </tr>\n    <tr>\n      <th>2</th>\n      <td>2</td>\n      <td>2</td>\n      <td>NaN</td>\n      <td>NaN</td>\n      <td>NaN</td>\n      <td>NaN</td>\n      <td>NaN</td>\n      <td>5022 Rombach, AG</td>\n      <td>2.5 rooms, 93 m²«Moderne, lichtdurchflutete At...</td>\n      <td>detail_responsive#description_title2,5 Zimmerw...</td>\n      <td>...</td>\n      <td>NaN</td>\n      <td>NaN</td>\n      <td>NaN</td>\n      <td>NaN</td>\n      <td>NaN</td>\n      <td>5022.0</td>\n      <td>NaN</td>\n      <td>NaN</td>\n      <td>NaN</td>\n      <td>NaN</td>\n    </tr>\n    <tr>\n      <th>3</th>\n      <td>3</td>\n      <td>3</td>\n      <td>Biberstein</td>\n      <td>154 m²</td>\n      <td>370 m²</td>\n      <td>257 m²</td>\n      <td>On request</td>\n      <td>Buhaldenstrasse 8A5023 Biberstein, AG</td>\n      <td>4.5 rooms, 154 m²«AgentSelly - Luxuriöses Eckh...</td>\n      <td>DescriptionDieses äusserst grosszügige Minergi...</td>\n      <td>...</td>\n      <td>NaN</td>\n      <td>NaN</td>\n      <td>NaN</td>\n      <td>NaN</td>\n      <td>NaN</td>\n      <td>5023.0</td>\n      <td>NaN</td>\n      <td>NaN</td>\n      <td>NaN</td>\n      <td>NaN</td>\n    </tr>\n    <tr>\n      <th>4</th>\n      <td>4</td>\n      <td>4</td>\n      <td>Küttigen</td>\n      <td>142 m²</td>\n      <td>NaN</td>\n      <td>NaN</td>\n      <td>On request</td>\n      <td>5022 Rombach, AG</td>\n      <td>4.5 rooms, 142 m²«MIT GARTENSITZPLATZ UND VIEL...</td>\n      <td>DescriptionAus ehemals zwei Wohnungen wurde ei...</td>\n      <td>...</td>\n      <td>NaN</td>\n      <td>NaN</td>\n      <td>NaN</td>\n      <td>NaN</td>\n      <td>NaN</td>\n      <td>5022.0</td>\n      <td>NaN</td>\n      <td>NaN</td>\n      <td>NaN</td>\n      <td>NaN</td>\n    </tr>\n  </tbody>\n</table>\n<p>5 rows × 134 columns</p>\n</div>"
     },
     "execution_count": 3,
     "metadata": {},
     "output_type": "execute_result"
    }
   ],
   "source": [
    "df.head()"
   ],
   "metadata": {
    "collapsed": false,
    "ExecuteTime": {
     "end_time": "2024-09-24T07:58:16.404538600Z",
     "start_time": "2024-09-24T07:58:16.383958700Z"
    }
   },
   "id": "1cc09162d8f90a59",
   "execution_count": 3
  },
  {
   "cell_type": "code",
   "outputs": [
    {
     "data": {
      "text/plain": "      Unnamed: 0.1 Unnamed: 0    Municipality Living space Plot area  \\\n22476        22476      29298        Buchs SG          NaN       NaN   \n22477        22477      29300             Wil          NaN       NaN   \n22478        22478      29301          Wil SG          NaN       NaN   \n22479        22479      29302       Matzingen          NaN       NaN   \n22480        22480      29303    Lichtensteig          NaN       NaN   \n\n      Floor space Availability                              location  \\\n22476         NaN          NaN  Altendorferstrasse 53, 9470 Buchs SG   \n22477         NaN          NaN       Fürstenlandstrasse 69, 9500 Wil   \n22478         NaN          NaN                           9500 Wil SG   \n22479         NaN          NaN      Haldenstrasse 30, 9548 Matzingen   \n22480         NaN          NaN         Neugasse 1, 9620 Lichtensteig   \n\n      description                               detailed_description  ...  \\\n22476         NaN  Description\\n\"Hausteil mit verschieden Nutzung...  ...   \n22477         NaN  Description\\n\"J'ADORE - Exklusives Wohnen in W...  ...   \n22478         NaN  Description\\n\"Einmalige Gelegenheit an sehr gu...  ...   \n22479         NaN  Description\\n\"LA VIE - Exklusives Wohnen in Ma...  ...   \n22480         NaN  Description\\n\"Historisches Altstadthaus im \"St...  ...   \n\n                                                features  \\\n22476  Pets allowed\\tCable TV\\tChild-friendly\\tParkin...   \n22477  Balcony / Terrace\\tWashing machine\\tView\\tWhee...   \n22478   Balcony / Terrace\\tChild-friendly\\tParking space   \n22479  Balcony / Terrace\\tView\\tWheelchair access\\tQu...   \n22480  Balcony / Terrace\\tFireplace\\tQuiet neighborho...   \n\n                                    description_detailed Floor space:  \\\n22476  Description\\n\"Hausteil mit verschieden Nutzung...          NaN   \n22477  Description\\n\"J'ADORE - Exklusives Wohnen in W...          NaN   \n22478  Description\\n\"Einmalige Gelegenheit an sehr gu...          NaN   \n22479  Description\\n\"LA VIE - Exklusives Wohnen in Ma...          NaN   \n22480  Description\\n\"Historisches Altstadthaus im \"St...          NaN   \n\n      Number of floors:  Volume:     plz Number of toilets: Gross yield:  \\\n22476               NaN   496 m3  9470.0                NaN          NaN   \n22477               3.0      NaN  9500.0                NaN          NaN   \n22478               3.0   706 m3  9500.0                NaN          NaN   \n22479               NaN      NaN  9548.0                NaN          NaN   \n22480               3.0  1395 m3  9620.0                NaN          NaN   \n\n      Minimum floor space: space_cleaned  \n22476                  NaN         102.0  \n22477                  NaN         180.0  \n22478                  NaN         167.0  \n22479                  NaN         175.0  \n22480                  NaN         154.0  \n\n[5 rows x 134 columns]",
      "text/html": "<div>\n<style scoped>\n    .dataframe tbody tr th:only-of-type {\n        vertical-align: middle;\n    }\n\n    .dataframe tbody tr th {\n        vertical-align: top;\n    }\n\n    .dataframe thead th {\n        text-align: right;\n    }\n</style>\n<table border=\"1\" class=\"dataframe\">\n  <thead>\n    <tr style=\"text-align: right;\">\n      <th></th>\n      <th>Unnamed: 0.1</th>\n      <th>Unnamed: 0</th>\n      <th>Municipality</th>\n      <th>Living space</th>\n      <th>Plot area</th>\n      <th>Floor space</th>\n      <th>Availability</th>\n      <th>location</th>\n      <th>description</th>\n      <th>detailed_description</th>\n      <th>...</th>\n      <th>features</th>\n      <th>description_detailed</th>\n      <th>Floor space:</th>\n      <th>Number of floors:</th>\n      <th>Volume:</th>\n      <th>plz</th>\n      <th>Number of toilets:</th>\n      <th>Gross yield:</th>\n      <th>Minimum floor space:</th>\n      <th>space_cleaned</th>\n    </tr>\n  </thead>\n  <tbody>\n    <tr>\n      <th>22476</th>\n      <td>22476</td>\n      <td>29298</td>\n      <td>Buchs SG</td>\n      <td>NaN</td>\n      <td>NaN</td>\n      <td>NaN</td>\n      <td>NaN</td>\n      <td>Altendorferstrasse 53, 9470 Buchs SG</td>\n      <td>NaN</td>\n      <td>Description\\n\"Hausteil mit verschieden Nutzung...</td>\n      <td>...</td>\n      <td>Pets allowed\\tCable TV\\tChild-friendly\\tParkin...</td>\n      <td>Description\\n\"Hausteil mit verschieden Nutzung...</td>\n      <td>NaN</td>\n      <td>NaN</td>\n      <td>496 m3</td>\n      <td>9470.0</td>\n      <td>NaN</td>\n      <td>NaN</td>\n      <td>NaN</td>\n      <td>102.0</td>\n    </tr>\n    <tr>\n      <th>22477</th>\n      <td>22477</td>\n      <td>29300</td>\n      <td>Wil</td>\n      <td>NaN</td>\n      <td>NaN</td>\n      <td>NaN</td>\n      <td>NaN</td>\n      <td>Fürstenlandstrasse 69, 9500 Wil</td>\n      <td>NaN</td>\n      <td>Description\\n\"J'ADORE - Exklusives Wohnen in W...</td>\n      <td>...</td>\n      <td>Balcony / Terrace\\tWashing machine\\tView\\tWhee...</td>\n      <td>Description\\n\"J'ADORE - Exklusives Wohnen in W...</td>\n      <td>NaN</td>\n      <td>3.0</td>\n      <td>NaN</td>\n      <td>9500.0</td>\n      <td>NaN</td>\n      <td>NaN</td>\n      <td>NaN</td>\n      <td>180.0</td>\n    </tr>\n    <tr>\n      <th>22478</th>\n      <td>22478</td>\n      <td>29301</td>\n      <td>Wil SG</td>\n      <td>NaN</td>\n      <td>NaN</td>\n      <td>NaN</td>\n      <td>NaN</td>\n      <td>9500 Wil SG</td>\n      <td>NaN</td>\n      <td>Description\\n\"Einmalige Gelegenheit an sehr gu...</td>\n      <td>...</td>\n      <td>Balcony / Terrace\\tChild-friendly\\tParking space</td>\n      <td>Description\\n\"Einmalige Gelegenheit an sehr gu...</td>\n      <td>NaN</td>\n      <td>3.0</td>\n      <td>706 m3</td>\n      <td>9500.0</td>\n      <td>NaN</td>\n      <td>NaN</td>\n      <td>NaN</td>\n      <td>167.0</td>\n    </tr>\n    <tr>\n      <th>22479</th>\n      <td>22479</td>\n      <td>29302</td>\n      <td>Matzingen</td>\n      <td>NaN</td>\n      <td>NaN</td>\n      <td>NaN</td>\n      <td>NaN</td>\n      <td>Haldenstrasse 30, 9548 Matzingen</td>\n      <td>NaN</td>\n      <td>Description\\n\"LA VIE - Exklusives Wohnen in Ma...</td>\n      <td>...</td>\n      <td>Balcony / Terrace\\tView\\tWheelchair access\\tQu...</td>\n      <td>Description\\n\"LA VIE - Exklusives Wohnen in Ma...</td>\n      <td>NaN</td>\n      <td>NaN</td>\n      <td>NaN</td>\n      <td>9548.0</td>\n      <td>NaN</td>\n      <td>NaN</td>\n      <td>NaN</td>\n      <td>175.0</td>\n    </tr>\n    <tr>\n      <th>22480</th>\n      <td>22480</td>\n      <td>29303</td>\n      <td>Lichtensteig</td>\n      <td>NaN</td>\n      <td>NaN</td>\n      <td>NaN</td>\n      <td>NaN</td>\n      <td>Neugasse 1, 9620 Lichtensteig</td>\n      <td>NaN</td>\n      <td>Description\\n\"Historisches Altstadthaus im \"St...</td>\n      <td>...</td>\n      <td>Balcony / Terrace\\tFireplace\\tQuiet neighborho...</td>\n      <td>Description\\n\"Historisches Altstadthaus im \"St...</td>\n      <td>NaN</td>\n      <td>3.0</td>\n      <td>1395 m3</td>\n      <td>9620.0</td>\n      <td>NaN</td>\n      <td>NaN</td>\n      <td>NaN</td>\n      <td>154.0</td>\n    </tr>\n  </tbody>\n</table>\n<p>5 rows × 134 columns</p>\n</div>"
     },
     "execution_count": 4,
     "metadata": {},
     "output_type": "execute_result"
    }
   ],
   "source": [
    "df.tail()"
   ],
   "metadata": {
    "collapsed": false,
    "ExecuteTime": {
     "end_time": "2024-09-24T07:58:16.430767Z",
     "start_time": "2024-09-24T07:58:16.405539500Z"
    }
   },
   "id": "c71f18b3c9c1badf",
   "execution_count": 4
  },
  {
   "cell_type": "code",
   "outputs": [
    {
     "data": {
      "text/plain": "                        count missing [%] missing absolute\nMinimum floor space:        2   99.991104            22479\nSuperficie utile            6   99.973311            22475\nGross return                6   99.973311            22475\nPiano                      10   99.955518            22471\nSuperficie del terreno     11    99.95107            22470\n...                       ...         ...              ...\nRiversAndLakesM         22481         0.0                0\nRiversAndLakesL         22481         0.0                0\nPopulationDensityS      22481         0.0                0\nZip                     22481         0.0                0\nPopulationDensityL      22481         0.0                0\n\n[134 rows x 3 columns]",
      "text/html": "<div>\n<style scoped>\n    .dataframe tbody tr th:only-of-type {\n        vertical-align: middle;\n    }\n\n    .dataframe tbody tr th {\n        vertical-align: top;\n    }\n\n    .dataframe thead th {\n        text-align: right;\n    }\n</style>\n<table border=\"1\" class=\"dataframe\">\n  <thead>\n    <tr style=\"text-align: right;\">\n      <th></th>\n      <th>count</th>\n      <th>missing [%]</th>\n      <th>missing absolute</th>\n    </tr>\n  </thead>\n  <tbody>\n    <tr>\n      <th>Minimum floor space:</th>\n      <td>2</td>\n      <td>99.991104</td>\n      <td>22479</td>\n    </tr>\n    <tr>\n      <th>Superficie utile</th>\n      <td>6</td>\n      <td>99.973311</td>\n      <td>22475</td>\n    </tr>\n    <tr>\n      <th>Gross return</th>\n      <td>6</td>\n      <td>99.973311</td>\n      <td>22475</td>\n    </tr>\n    <tr>\n      <th>Piano</th>\n      <td>10</td>\n      <td>99.955518</td>\n      <td>22471</td>\n    </tr>\n    <tr>\n      <th>Superficie del terreno</th>\n      <td>11</td>\n      <td>99.95107</td>\n      <td>22470</td>\n    </tr>\n    <tr>\n      <th>...</th>\n      <td>...</td>\n      <td>...</td>\n      <td>...</td>\n    </tr>\n    <tr>\n      <th>RiversAndLakesM</th>\n      <td>22481</td>\n      <td>0.0</td>\n      <td>0</td>\n    </tr>\n    <tr>\n      <th>RiversAndLakesL</th>\n      <td>22481</td>\n      <td>0.0</td>\n      <td>0</td>\n    </tr>\n    <tr>\n      <th>PopulationDensityS</th>\n      <td>22481</td>\n      <td>0.0</td>\n      <td>0</td>\n    </tr>\n    <tr>\n      <th>Zip</th>\n      <td>22481</td>\n      <td>0.0</td>\n      <td>0</td>\n    </tr>\n    <tr>\n      <th>PopulationDensityL</th>\n      <td>22481</td>\n      <td>0.0</td>\n      <td>0</td>\n    </tr>\n  </tbody>\n</table>\n<p>134 rows × 3 columns</p>\n</div>"
     },
     "execution_count": 5,
     "metadata": {},
     "output_type": "execute_result"
    }
   ],
   "source": [
    "count_column = df.describe()[0:1]\n",
    "\n",
    "count_column = count_column.transpose()\n",
    "# order ascending\n",
    "count_column = count_column.sort_values(by='count', axis=0)\n",
    "# add procentual missing values\n",
    "count_column['missing [%]'] = 100 - (count_column['count'] / df.shape[0] * 100)\n",
    "count_column['missing absolute'] =  df.shape[0] - count_column['count']\n",
    "count_column"
   ],
   "metadata": {
    "collapsed": false,
    "ExecuteTime": {
     "end_time": "2024-09-24T07:58:16.789966500Z",
     "start_time": "2024-09-24T07:58:16.425922200Z"
    }
   },
   "id": "d0c3f086e3b36d3c",
   "execution_count": 5
  },
  {
   "cell_type": "code",
   "outputs": [
    {
     "data": {
      "text/plain": "      Unnamed: 0.1 Unnamed: 0 Municipality Living space Plot area Floor space  \\\n11588        11588      11611          NaN          NaN       NaN         NaN   \n\n      Availability                                  location  \\\n11588          NaN  Rue du Centre Sportif 221936 Verbier, VS   \n\n                                             description  \\\n11588  «EXCLUSIVITÉ VERBIER - CENTRE : Bel appartemen...   \n\n                                    detailed_description  ... features  \\\n11588  detail_responsive#description_titleÀ seulement...  ...      NaN   \n\n      description_detailed Floor space: Number of floors: Volume:     plz  \\\n11588                  NaN          NaN               NaN     NaN  1936.0   \n\n      Number of toilets: Gross yield: Minimum floor space: space_cleaned  \n11588                NaN          NaN                  NaN           NaN  \n\n[1 rows x 134 columns]",
      "text/html": "<div>\n<style scoped>\n    .dataframe tbody tr th:only-of-type {\n        vertical-align: middle;\n    }\n\n    .dataframe tbody tr th {\n        vertical-align: top;\n    }\n\n    .dataframe thead th {\n        text-align: right;\n    }\n</style>\n<table border=\"1\" class=\"dataframe\">\n  <thead>\n    <tr style=\"text-align: right;\">\n      <th></th>\n      <th>Unnamed: 0.1</th>\n      <th>Unnamed: 0</th>\n      <th>Municipality</th>\n      <th>Living space</th>\n      <th>Plot area</th>\n      <th>Floor space</th>\n      <th>Availability</th>\n      <th>location</th>\n      <th>description</th>\n      <th>detailed_description</th>\n      <th>...</th>\n      <th>features</th>\n      <th>description_detailed</th>\n      <th>Floor space:</th>\n      <th>Number of floors:</th>\n      <th>Volume:</th>\n      <th>plz</th>\n      <th>Number of toilets:</th>\n      <th>Gross yield:</th>\n      <th>Minimum floor space:</th>\n      <th>space_cleaned</th>\n    </tr>\n  </thead>\n  <tbody>\n    <tr>\n      <th>11588</th>\n      <td>11588</td>\n      <td>11611</td>\n      <td>NaN</td>\n      <td>NaN</td>\n      <td>NaN</td>\n      <td>NaN</td>\n      <td>NaN</td>\n      <td>Rue du Centre Sportif 221936 Verbier, VS</td>\n      <td>«EXCLUSIVITÉ VERBIER - CENTRE : Bel appartemen...</td>\n      <td>detail_responsive#description_titleÀ seulement...</td>\n      <td>...</td>\n      <td>NaN</td>\n      <td>NaN</td>\n      <td>NaN</td>\n      <td>NaN</td>\n      <td>NaN</td>\n      <td>1936.0</td>\n      <td>NaN</td>\n      <td>NaN</td>\n      <td>NaN</td>\n      <td>NaN</td>\n    </tr>\n  </tbody>\n</table>\n<p>1 rows × 134 columns</p>\n</div>"
     },
     "execution_count": 6,
     "metadata": {},
     "output_type": "execute_result"
    }
   ],
   "source": [
    "# find datapoint with most missing values\n",
    "df[df.isnull().sum(axis=1) == df.isnull().sum(axis=1).max()]"
   ],
   "metadata": {
    "collapsed": false,
    "ExecuteTime": {
     "end_time": "2024-09-24T07:58:16.965909700Z",
     "start_time": "2024-09-24T07:58:16.786673500Z"
    }
   },
   "id": "72c7667e78ee28bf",
   "execution_count": 6
  },
  {
   "cell_type": "code",
   "outputs": [
    {
     "data": {
      "text/plain": "      Unnamed: 0.1 Unnamed: 0              Municipality Living space  \\\n21              21         21                       NaN          NaN   \n27              27         41                     Turgi       150 m²   \n28              28         44                       NaN          NaN   \n29              29         45                     Turgi       104 m²   \n33              33         52                      Suhr       160 m²   \n...            ...        ...                       ...          ...   \n13274        13274      13297  Zürich, Kreis 6 (Zurich)       442 m²   \n13288        13288      13311                      Maur       181 m²   \n13290        13290      13313                      Maur       180 m²   \n13299        13299      13322                     Elsau       100 m²   \n13316        13316      13339                       NaN          NaN   \n\n      Plot area Floor space Availability                       location  \\\n21          NaN         NaN          NaN            5018 Erlinsbach, AG   \n27       223 m²         NaN   On request                 5300 Turgi, AG   \n28          NaN         NaN          NaN            5042 Hirschthal, AG   \n29      1496 m²         NaN  Immediately                 5300 Turgi, AG   \n33       640 m²         NaN   On request                  5034 Suhr, AG   \n...         ...         ...          ...                            ...   \n13274   1326 m²         NaN   On request          Zürich8044 Zürich, ZH   \n13288    911 m²         NaN   On request  Lebernhöhe8123 Ebmatingen, ZH   \n13290    188 m²         NaN   On request            8123 Ebmatingen, ZH   \n13299    312 m²         NaN   On request     Kirchgasse 38352 Elsau, ZH   \n13316       NaN         NaN          NaN            8413 Neftenbach, ZH   \n\n                                             description  \\\n21     4.5 rooms, 236 m²«Terrassenhaus mit malerische...   \n27     4.5 rooms, 150 m²«####Two in One#### mit Einli...   \n28     7.5 rooms, 216 m²«Verzauberndes Generationenha...   \n29     5 rooms, 104 m²«#### Top Einfamilienhaus einge...   \n33     5.5 rooms, 160 m²«FAMILIENGLÜCK MIT VIEL PLATZ...   \n...                                                  ...   \n13274  10 rooms, 442 m²«Anwesen an bester Lage im Woh...   \n13288  5.5 rooms, 181 m²«Grandioses 5 1/2 Zi. Einfami...   \n13290  5.5 rooms, 180 m²«FAMILIENFREUNDLICH MIT GARTE...   \n13299  5.5 rooms, 100 m²«5.5-Zimmer-Einfamilienhaus m...   \n13316        «Projektankündigung»Price on requestFavorit   \n\n                                    detailed_description  ... features  \\\n21     BeschreibungEine aussergewöhnliche Wohnung am ...  ...      NaN   \n27     DescriptionEin Haus mit Geschichte in neuem Gl...  ...      NaN   \n28     detail_responsive#description_titleDieses 7.5-...  ...      NaN   \n29     DescriptionBesonderes: Gleichzeitig in der Näh...  ...      NaN   \n33     DescriptionDieses Schmuckstück liegt in einem ...  ...      NaN   \n...                                                  ...  ...      ...   \n13274  DescriptionAnwesen an bester Lage im Wohnrecht...  ...      NaN   \n13288  DescriptionAn ruhiger und bestens besonnter Wo...  ...      NaN   \n13290  DescriptionZum Verkauf steht diese grosse, seh...  ...      NaN   \n13299  DescriptionObjektbeschriebDas heimelige Einfam...  ...      NaN   \n13316  BeschreibungIm Lindebrunne fühlt sich jede dih...  ...      NaN   \n\n      description_detailed Floor space: Number of floors: Volume:     plz  \\\n21                     NaN          NaN               NaN     NaN  5018.0   \n27                     NaN          NaN               NaN     NaN  5300.0   \n28                     NaN          NaN               NaN     NaN  5042.0   \n29                     NaN          NaN               NaN     NaN  5300.0   \n33                     NaN          NaN               NaN     NaN  5034.0   \n...                    ...          ...               ...     ...     ...   \n13274                  NaN          NaN               NaN     NaN  8044.0   \n13288                  NaN          NaN               NaN     NaN  8123.0   \n13290                  NaN          NaN               NaN     NaN  8123.0   \n13299                  NaN          NaN               NaN     NaN  8352.0   \n13316                  NaN          NaN               NaN     NaN  8413.0   \n\n      Number of toilets: Gross yield: Minimum floor space: space_cleaned  \n21                   NaN          NaN                  NaN           NaN  \n27                   NaN          NaN                  NaN           NaN  \n28                   NaN          NaN                  NaN           NaN  \n29                   NaN          NaN                  NaN           NaN  \n33                   NaN          NaN                  NaN           NaN  \n...                  ...          ...                  ...           ...  \n13274                NaN          NaN                  NaN           NaN  \n13288                NaN          NaN                  NaN           NaN  \n13290                NaN          NaN                  NaN           NaN  \n13299                NaN          NaN                  NaN           NaN  \n13316                NaN          NaN                  NaN           NaN  \n\n[1015 rows x 134 columns]",
      "text/html": "<div>\n<style scoped>\n    .dataframe tbody tr th:only-of-type {\n        vertical-align: middle;\n    }\n\n    .dataframe tbody tr th {\n        vertical-align: top;\n    }\n\n    .dataframe thead th {\n        text-align: right;\n    }\n</style>\n<table border=\"1\" class=\"dataframe\">\n  <thead>\n    <tr style=\"text-align: right;\">\n      <th></th>\n      <th>Unnamed: 0.1</th>\n      <th>Unnamed: 0</th>\n      <th>Municipality</th>\n      <th>Living space</th>\n      <th>Plot area</th>\n      <th>Floor space</th>\n      <th>Availability</th>\n      <th>location</th>\n      <th>description</th>\n      <th>detailed_description</th>\n      <th>...</th>\n      <th>features</th>\n      <th>description_detailed</th>\n      <th>Floor space:</th>\n      <th>Number of floors:</th>\n      <th>Volume:</th>\n      <th>plz</th>\n      <th>Number of toilets:</th>\n      <th>Gross yield:</th>\n      <th>Minimum floor space:</th>\n      <th>space_cleaned</th>\n    </tr>\n  </thead>\n  <tbody>\n    <tr>\n      <th>21</th>\n      <td>21</td>\n      <td>21</td>\n      <td>NaN</td>\n      <td>NaN</td>\n      <td>NaN</td>\n      <td>NaN</td>\n      <td>NaN</td>\n      <td>5018 Erlinsbach, AG</td>\n      <td>4.5 rooms, 236 m²«Terrassenhaus mit malerische...</td>\n      <td>BeschreibungEine aussergewöhnliche Wohnung am ...</td>\n      <td>...</td>\n      <td>NaN</td>\n      <td>NaN</td>\n      <td>NaN</td>\n      <td>NaN</td>\n      <td>NaN</td>\n      <td>5018.0</td>\n      <td>NaN</td>\n      <td>NaN</td>\n      <td>NaN</td>\n      <td>NaN</td>\n    </tr>\n    <tr>\n      <th>27</th>\n      <td>27</td>\n      <td>41</td>\n      <td>Turgi</td>\n      <td>150 m²</td>\n      <td>223 m²</td>\n      <td>NaN</td>\n      <td>On request</td>\n      <td>5300 Turgi, AG</td>\n      <td>4.5 rooms, 150 m²«####Two in One#### mit Einli...</td>\n      <td>DescriptionEin Haus mit Geschichte in neuem Gl...</td>\n      <td>...</td>\n      <td>NaN</td>\n      <td>NaN</td>\n      <td>NaN</td>\n      <td>NaN</td>\n      <td>NaN</td>\n      <td>5300.0</td>\n      <td>NaN</td>\n      <td>NaN</td>\n      <td>NaN</td>\n      <td>NaN</td>\n    </tr>\n    <tr>\n      <th>28</th>\n      <td>28</td>\n      <td>44</td>\n      <td>NaN</td>\n      <td>NaN</td>\n      <td>NaN</td>\n      <td>NaN</td>\n      <td>NaN</td>\n      <td>5042 Hirschthal, AG</td>\n      <td>7.5 rooms, 216 m²«Verzauberndes Generationenha...</td>\n      <td>detail_responsive#description_titleDieses 7.5-...</td>\n      <td>...</td>\n      <td>NaN</td>\n      <td>NaN</td>\n      <td>NaN</td>\n      <td>NaN</td>\n      <td>NaN</td>\n      <td>5042.0</td>\n      <td>NaN</td>\n      <td>NaN</td>\n      <td>NaN</td>\n      <td>NaN</td>\n    </tr>\n    <tr>\n      <th>29</th>\n      <td>29</td>\n      <td>45</td>\n      <td>Turgi</td>\n      <td>104 m²</td>\n      <td>1496 m²</td>\n      <td>NaN</td>\n      <td>Immediately</td>\n      <td>5300 Turgi, AG</td>\n      <td>5 rooms, 104 m²«#### Top Einfamilienhaus einge...</td>\n      <td>DescriptionBesonderes: Gleichzeitig in der Näh...</td>\n      <td>...</td>\n      <td>NaN</td>\n      <td>NaN</td>\n      <td>NaN</td>\n      <td>NaN</td>\n      <td>NaN</td>\n      <td>5300.0</td>\n      <td>NaN</td>\n      <td>NaN</td>\n      <td>NaN</td>\n      <td>NaN</td>\n    </tr>\n    <tr>\n      <th>33</th>\n      <td>33</td>\n      <td>52</td>\n      <td>Suhr</td>\n      <td>160 m²</td>\n      <td>640 m²</td>\n      <td>NaN</td>\n      <td>On request</td>\n      <td>5034 Suhr, AG</td>\n      <td>5.5 rooms, 160 m²«FAMILIENGLÜCK MIT VIEL PLATZ...</td>\n      <td>DescriptionDieses Schmuckstück liegt in einem ...</td>\n      <td>...</td>\n      <td>NaN</td>\n      <td>NaN</td>\n      <td>NaN</td>\n      <td>NaN</td>\n      <td>NaN</td>\n      <td>5034.0</td>\n      <td>NaN</td>\n      <td>NaN</td>\n      <td>NaN</td>\n      <td>NaN</td>\n    </tr>\n    <tr>\n      <th>...</th>\n      <td>...</td>\n      <td>...</td>\n      <td>...</td>\n      <td>...</td>\n      <td>...</td>\n      <td>...</td>\n      <td>...</td>\n      <td>...</td>\n      <td>...</td>\n      <td>...</td>\n      <td>...</td>\n      <td>...</td>\n      <td>...</td>\n      <td>...</td>\n      <td>...</td>\n      <td>...</td>\n      <td>...</td>\n      <td>...</td>\n      <td>...</td>\n      <td>...</td>\n      <td>...</td>\n    </tr>\n    <tr>\n      <th>13274</th>\n      <td>13274</td>\n      <td>13297</td>\n      <td>Zürich, Kreis 6 (Zurich)</td>\n      <td>442 m²</td>\n      <td>1326 m²</td>\n      <td>NaN</td>\n      <td>On request</td>\n      <td>Zürich8044 Zürich, ZH</td>\n      <td>10 rooms, 442 m²«Anwesen an bester Lage im Woh...</td>\n      <td>DescriptionAnwesen an bester Lage im Wohnrecht...</td>\n      <td>...</td>\n      <td>NaN</td>\n      <td>NaN</td>\n      <td>NaN</td>\n      <td>NaN</td>\n      <td>NaN</td>\n      <td>8044.0</td>\n      <td>NaN</td>\n      <td>NaN</td>\n      <td>NaN</td>\n      <td>NaN</td>\n    </tr>\n    <tr>\n      <th>13288</th>\n      <td>13288</td>\n      <td>13311</td>\n      <td>Maur</td>\n      <td>181 m²</td>\n      <td>911 m²</td>\n      <td>NaN</td>\n      <td>On request</td>\n      <td>Lebernhöhe8123 Ebmatingen, ZH</td>\n      <td>5.5 rooms, 181 m²«Grandioses 5 1/2 Zi. Einfami...</td>\n      <td>DescriptionAn ruhiger und bestens besonnter Wo...</td>\n      <td>...</td>\n      <td>NaN</td>\n      <td>NaN</td>\n      <td>NaN</td>\n      <td>NaN</td>\n      <td>NaN</td>\n      <td>8123.0</td>\n      <td>NaN</td>\n      <td>NaN</td>\n      <td>NaN</td>\n      <td>NaN</td>\n    </tr>\n    <tr>\n      <th>13290</th>\n      <td>13290</td>\n      <td>13313</td>\n      <td>Maur</td>\n      <td>180 m²</td>\n      <td>188 m²</td>\n      <td>NaN</td>\n      <td>On request</td>\n      <td>8123 Ebmatingen, ZH</td>\n      <td>5.5 rooms, 180 m²«FAMILIENFREUNDLICH MIT GARTE...</td>\n      <td>DescriptionZum Verkauf steht diese grosse, seh...</td>\n      <td>...</td>\n      <td>NaN</td>\n      <td>NaN</td>\n      <td>NaN</td>\n      <td>NaN</td>\n      <td>NaN</td>\n      <td>8123.0</td>\n      <td>NaN</td>\n      <td>NaN</td>\n      <td>NaN</td>\n      <td>NaN</td>\n    </tr>\n    <tr>\n      <th>13299</th>\n      <td>13299</td>\n      <td>13322</td>\n      <td>Elsau</td>\n      <td>100 m²</td>\n      <td>312 m²</td>\n      <td>NaN</td>\n      <td>On request</td>\n      <td>Kirchgasse 38352 Elsau, ZH</td>\n      <td>5.5 rooms, 100 m²«5.5-Zimmer-Einfamilienhaus m...</td>\n      <td>DescriptionObjektbeschriebDas heimelige Einfam...</td>\n      <td>...</td>\n      <td>NaN</td>\n      <td>NaN</td>\n      <td>NaN</td>\n      <td>NaN</td>\n      <td>NaN</td>\n      <td>8352.0</td>\n      <td>NaN</td>\n      <td>NaN</td>\n      <td>NaN</td>\n      <td>NaN</td>\n    </tr>\n    <tr>\n      <th>13316</th>\n      <td>13316</td>\n      <td>13339</td>\n      <td>NaN</td>\n      <td>NaN</td>\n      <td>NaN</td>\n      <td>NaN</td>\n      <td>NaN</td>\n      <td>8413 Neftenbach, ZH</td>\n      <td>«Projektankündigung»Price on requestFavorit</td>\n      <td>BeschreibungIm Lindebrunne fühlt sich jede dih...</td>\n      <td>...</td>\n      <td>NaN</td>\n      <td>NaN</td>\n      <td>NaN</td>\n      <td>NaN</td>\n      <td>NaN</td>\n      <td>8413.0</td>\n      <td>NaN</td>\n      <td>NaN</td>\n      <td>NaN</td>\n      <td>NaN</td>\n    </tr>\n  </tbody>\n</table>\n<p>1015 rows × 134 columns</p>\n</div>"
     },
     "execution_count": 7,
     "metadata": {},
     "output_type": "execute_result"
    }
   ],
   "source": [
    "# count price on request\n",
    "amount_price_on_request = df[df['price'] == 'Price on request']\n",
    "amount_price_on_request"
   ],
   "metadata": {
    "collapsed": false,
    "ExecuteTime": {
     "end_time": "2024-09-24T07:58:16.983823200Z",
     "start_time": "2024-09-24T07:58:16.964912Z"
    }
   },
   "id": "4171fd358978fa7b",
   "execution_count": 7
  },
  {
   "cell_type": "code",
   "outputs": [
    {
     "data": {
      "text/plain": "price\nPrice on request    1015\nEUR 495,000.—          2\nEUR1,180,000.–         1\nEUR1,645,000.–         1\nEUR1,880,000.–         1\nEUR2,130,000.–         1\nEUR5,500,000.–         1\nEUR1,130,000.–         1\nEUR1,200,000.–         1\nEUR1,340,000.–         1\nEUR 780,000.—          1\nEUR 1,639,000.—        1\nEUR 635,000.—          1\nEUR 650,000.—          1\nEUR 190,000.—          1\nEUR200,000.–           1\nEUR10,000,000.–        1\nName: count, dtype: int64"
     },
     "execution_count": 8,
     "metadata": {},
     "output_type": "execute_result"
    }
   ],
   "source": [
    "# count unique values in column price\n",
    "prices = df['price'].value_counts()\n",
    "#filter where price does not contain 'CHF'\n",
    "prices = prices[prices.index.str.contains('CHF') == False]\n",
    "prices"
   ],
   "metadata": {
    "collapsed": false,
    "ExecuteTime": {
     "end_time": "2024-09-24T07:58:17.007847900Z",
     "start_time": "2024-09-24T07:58:16.982824500Z"
    }
   },
   "id": "26139e86d8814190",
   "execution_count": 8
  },
  {
   "cell_type": "code",
   "outputs": [],
   "source": [
    "# remove price on request\n",
    "df = df[df['price'] != 'Price on request']\n",
    "df['price_cleaned'] = df['price_cleaned'].astype(float)"
   ],
   "metadata": {
    "collapsed": false,
    "ExecuteTime": {
     "end_time": "2024-09-24T08:49:52.631029800Z",
     "start_time": "2024-09-24T08:49:52.623519500Z"
    }
   },
   "id": "81e452c7fc9b516a",
   "execution_count": 23
  },
  {
   "cell_type": "code",
   "outputs": [
    {
     "data": {
      "text/plain": "<Figure size 640x480 with 1 Axes>",
      "image/png": "[encoded data removed]"
     },
     "metadata": {},
     "output_type": "display_data"
    }
   ],
   "source": [
    "(df['price_cleaned']/1000).plot.hist(bins=200)\n",
    "plt.xlabel('Price in 1000 CHF')\n",
    "plt.ylabel('Frequency')\n",
    "plt.title('Histogram of prices')\n",
    "plt.xlim(0, 5000)\n",
    "plt.show()"
   ],
   "metadata": {
    "collapsed": false,
    "ExecuteTime": {
     "end_time": "2024-09-24T08:49:53.226720300Z",
     "start_time": "2024-09-24T08:49:53.025947800Z"
    }
   },
   "id": "c3f473c7bd765e11",
   "execution_count": 24
  },
  {
   "cell_type": "code",
   "outputs": [
    {
     "data": {
      "text/plain": "      Unnamed: 0.1 Unnamed: 0 Municipality Living space Plot area Floor space  \\\n10690        10690      10713         Etoy          NaN       NaN         NaN   \n3906          3906       3929      Veyrier       140 m²       NaN         NaN   \n17882        17882      20516     Ovronnaz          NaN       NaN         NaN   \n5021          5021       5044     Le Locle        45 m²       NaN         NaN   \n20194        20194      25560     Le Locle          NaN       NaN         NaN   \n...            ...        ...          ...          ...       ...         ...   \n16848        16848      18758     Montreux          NaN       NaN         NaN   \n11005        11005      11028          NaN          NaN       NaN         NaN   \n13958        13958      14292    Buchillon          NaN       NaN         NaN   \n10657        10657      10680   Saint-Prex          NaN   5000 m²         NaN   \n16849        16849      18759     Montreux          NaN       NaN         NaN   \n\n      Availability                       location  \\\n10690   On request                  1163 Etoy, VD   \n3906    31.12.2022               1255 Veyrier, GE   \n17882          NaN  Ch de la Coppe, 1911 Ovronnaz   \n5021    On request              2400 Le Locle, NE   \n20194          NaN                  2400 Le Locle   \n...            ...                            ...   \n16848          NaN                  1820 Montreux   \n11005          NaN                1295 Tannay, VD   \n13958          NaN                 1164 Buchillon   \n10657   On request               1162 St-Prex, VD   \n16849          NaN                  1820 Montreux   \n\n                                             description  \\\n10690  «a vendre une maison villageoise sur la Côte»C...   \n3906   7 rooms, 140 m²«Villa a vendre 7 pieces a Veyr...   \n17882  Chaleureux, douillets, élégants, les tout dern...   \n5021   2 rooms, 45 m²«IDEAL POUR ETUDIANT !»CHF 745.—...   \n20194  Idéalement situé, cet appartement de 2 pièces ...   \n...                                                  ...   \n16848  Face au Lac, située à proximité du Centre-Vill...   \n11005  14 rooms, 1200 m²«Splendide propriété pied dan...   \n13958  Située au bord du Lac Léman, entre Lausanne et...   \n10657  10 rooms«Somptueuse propriété pieds dans l eau...   \n16849  Cette propriété est l'oeuvre du célèbre archit...   \n\n                                    detailed_description  ...  \\\n10690  DescriptionA vendre une maison villageoise sit...  ...   \n3906   DescriptionJolie maison familliale comprenant ...  ...   \n17882  Description\\n\"Investissez en secondaire! Belle...  ...   \n5021   DescriptionIdéalement situé, cet appartement d...  ...   \n20194  Description\\n\"IDEAL POUR ETUDIANT !\"\\nIdéaleme...  ...   \n...                                                  ...  ...   \n16848  Description\\n\"Somptueuse Maison de Maître avec...  ...   \n11005  BeschreibungNous vous présentons cette superbe...  ...   \n13958  Description\\n\"UNIQUE, villa ultra moderne pied...  ...   \n10657  DescriptionCette propriété de maître ####pieds...  ...   \n16849  Description\\n\"Somptueuse propriété pieds dans ...  ...   \n\n                                                features  \\\n10690                                                NaN   \n3906                                                 NaN   \n17882  Balcony / Terrace\\tCable TV\\tFireplace\\tWheelc...   \n5021                                                 NaN   \n20194                        Wheelchair access\\tElevator   \n...                                                  ...   \n16848  Balcony / Terrace\\tView\\tParking space\\tGarage...   \n11005                                                NaN   \n13958  Balcony / Terrace\\tFireplace\\tView\\tWheelchair...   \n10657                                                NaN   \n16849                                                NaN   \n\n                                    description_detailed Floor space:  \\\n10690                                                NaN          NaN   \n3906                                                 NaN          NaN   \n17882  Description\\n\"Investissez en secondaire! Belle...        88 m2   \n5021                                                 NaN          NaN   \n20194  Description\\n\"IDEAL POUR ETUDIANT !\"\\nIdéaleme...          NaN   \n...                                                  ...          ...   \n16848  Description\\n\"Somptueuse Maison de Maître avec...          NaN   \n11005                                                NaN          NaN   \n13958  Description\\n\"UNIQUE, villa ultra moderne pied...          NaN   \n10657                                                NaN          NaN   \n16849  Description\\n\"Somptueuse propriété pieds dans ...          NaN   \n\n      Number of floors: Volume:     plz Number of toilets: Gross yield:  \\\n10690               NaN     NaN  1163.0                NaN          NaN   \n3906                NaN     NaN  1255.0                NaN          NaN   \n17882               NaN     NaN  1911.0                NaN          NaN   \n5021                NaN     NaN  2400.0                NaN          NaN   \n20194               NaN     NaN  2400.0                NaN          NaN   \n...                 ...     ...     ...                ...          ...   \n16848               NaN     NaN  1820.0                NaN          NaN   \n11005               NaN     NaN  1295.0                NaN          NaN   \n13958               2.0     NaN  1164.0                NaN          NaN   \n10657               NaN     NaN  1162.0                NaN          NaN   \n16849               NaN     NaN  1820.0                NaN          NaN   \n\n      Minimum floor space: space_cleaned  \n10690                  NaN           NaN  \n3906                   NaN           NaN  \n17882                  NaN          68.0  \n5021                   NaN           NaN  \n20194                  NaN          45.0  \n...                    ...           ...  \n16848                  NaN         782.0  \n11005                  NaN           NaN  \n13958                  NaN         900.0  \n10657                  NaN           NaN  \n16849                  NaN        1500.0  \n\n[21466 rows x 134 columns]",
      "text/html": "<div>\n<style scoped>\n    .dataframe tbody tr th:only-of-type {\n        vertical-align: middle;\n    }\n\n    .dataframe tbody tr th {\n        vertical-align: top;\n    }\n\n    .dataframe thead th {\n        text-align: right;\n    }\n</style>\n<table border=\"1\" class=\"dataframe\">\n  <thead>\n    <tr style=\"text-align: right;\">\n      <th></th>\n      <th>Unnamed: 0.1</th>\n      <th>Unnamed: 0</th>\n      <th>Municipality</th>\n      <th>Living space</th>\n      <th>Plot area</th>\n      <th>Floor space</th>\n      <th>Availability</th>\n      <th>location</th>\n      <th>description</th>\n      <th>detailed_description</th>\n      <th>...</th>\n      <th>features</th>\n      <th>description_detailed</th>\n      <th>Floor space:</th>\n      <th>Number of floors:</th>\n      <th>Volume:</th>\n      <th>plz</th>\n      <th>Number of toilets:</th>\n      <th>Gross yield:</th>\n      <th>Minimum floor space:</th>\n      <th>space_cleaned</th>\n    </tr>\n  </thead>\n  <tbody>\n    <tr>\n      <th>10690</th>\n      <td>10690</td>\n      <td>10713</td>\n      <td>Etoy</td>\n      <td>NaN</td>\n      <td>NaN</td>\n      <td>NaN</td>\n      <td>On request</td>\n      <td>1163 Etoy, VD</td>\n      <td>«a vendre une maison villageoise sur la Côte»C...</td>\n      <td>DescriptionA vendre une maison villageoise sit...</td>\n      <td>...</td>\n      <td>NaN</td>\n      <td>NaN</td>\n      <td>NaN</td>\n      <td>NaN</td>\n      <td>NaN</td>\n      <td>1163.0</td>\n      <td>NaN</td>\n      <td>NaN</td>\n      <td>NaN</td>\n      <td>NaN</td>\n    </tr>\n    <tr>\n      <th>3906</th>\n      <td>3906</td>\n      <td>3929</td>\n      <td>Veyrier</td>\n      <td>140 m²</td>\n      <td>NaN</td>\n      <td>NaN</td>\n      <td>31.12.2022</td>\n      <td>1255 Veyrier, GE</td>\n      <td>7 rooms, 140 m²«Villa a vendre 7 pieces a Veyr...</td>\n      <td>DescriptionJolie maison familliale comprenant ...</td>\n      <td>...</td>\n      <td>NaN</td>\n      <td>NaN</td>\n      <td>NaN</td>\n      <td>NaN</td>\n      <td>NaN</td>\n      <td>1255.0</td>\n      <td>NaN</td>\n      <td>NaN</td>\n      <td>NaN</td>\n      <td>NaN</td>\n    </tr>\n    <tr>\n      <th>17882</th>\n      <td>17882</td>\n      <td>20516</td>\n      <td>Ovronnaz</td>\n      <td>NaN</td>\n      <td>NaN</td>\n      <td>NaN</td>\n      <td>NaN</td>\n      <td>Ch de la Coppe, 1911 Ovronnaz</td>\n      <td>Chaleureux, douillets, élégants, les tout dern...</td>\n      <td>Description\\n\"Investissez en secondaire! Belle...</td>\n      <td>...</td>\n      <td>Balcony / Terrace\\tCable TV\\tFireplace\\tWheelc...</td>\n      <td>Description\\n\"Investissez en secondaire! Belle...</td>\n      <td>88 m2</td>\n      <td>NaN</td>\n      <td>NaN</td>\n      <td>1911.0</td>\n      <td>NaN</td>\n      <td>NaN</td>\n      <td>NaN</td>\n      <td>68.0</td>\n    </tr>\n    <tr>\n      <th>5021</th>\n      <td>5021</td>\n      <td>5044</td>\n      <td>Le Locle</td>\n      <td>45 m²</td>\n      <td>NaN</td>\n      <td>NaN</td>\n      <td>On request</td>\n      <td>2400 Le Locle, NE</td>\n      <td>2 rooms, 45 m²«IDEAL POUR ETUDIANT !»CHF 745.—...</td>\n      <td>DescriptionIdéalement situé, cet appartement d...</td>\n      <td>...</td>\n      <td>NaN</td>\n      <td>NaN</td>\n      <td>NaN</td>\n      <td>NaN</td>\n      <td>NaN</td>\n      <td>2400.0</td>\n      <td>NaN</td>\n      <td>NaN</td>\n      <td>NaN</td>\n      <td>NaN</td>\n    </tr>\n    <tr>\n      <th>20194</th>\n      <td>20194</td>\n      <td>25560</td>\n      <td>Le Locle</td>\n      <td>NaN</td>\n      <td>NaN</td>\n      <td>NaN</td>\n      <td>NaN</td>\n      <td>2400 Le Locle</td>\n      <td>Idéalement situé, cet appartement de 2 pièces ...</td>\n      <td>Description\\n\"IDEAL POUR ETUDIANT !\"\\nIdéaleme...</td>\n      <td>...</td>\n      <td>Wheelchair access\\tElevator</td>\n      <td>Description\\n\"IDEAL POUR ETUDIANT !\"\\nIdéaleme...</td>\n      <td>NaN</td>\n      <td>NaN</td>\n      <td>NaN</td>\n      <td>2400.0</td>\n      <td>NaN</td>\n      <td>NaN</td>\n      <td>NaN</td>\n      <td>45.0</td>\n    </tr>\n    <tr>\n      <th>...</th>\n      <td>...</td>\n      <td>...</td>\n      <td>...</td>\n      <td>...</td>\n      <td>...</td>\n      <td>...</td>\n      <td>...</td>\n      <td>...</td>\n      <td>...</td>\n      <td>...</td>\n      <td>...</td>\n      <td>...</td>\n      <td>...</td>\n      <td>...</td>\n      <td>...</td>\n      <td>...</td>\n      <td>...</td>\n      <td>...</td>\n      <td>...</td>\n      <td>...</td>\n      <td>...</td>\n    </tr>\n    <tr>\n      <th>16848</th>\n      <td>16848</td>\n      <td>18758</td>\n      <td>Montreux</td>\n      <td>NaN</td>\n      <td>NaN</td>\n      <td>NaN</td>\n      <td>NaN</td>\n      <td>1820 Montreux</td>\n      <td>Face au Lac, située à proximité du Centre-Vill...</td>\n      <td>Description\\n\"Somptueuse Maison de Maître avec...</td>\n      <td>...</td>\n      <td>Balcony / Terrace\\tView\\tParking space\\tGarage...</td>\n      <td>Description\\n\"Somptueuse Maison de Maître avec...</td>\n      <td>NaN</td>\n      <td>NaN</td>\n      <td>NaN</td>\n      <td>1820.0</td>\n      <td>NaN</td>\n      <td>NaN</td>\n      <td>NaN</td>\n      <td>782.0</td>\n    </tr>\n    <tr>\n      <th>11005</th>\n      <td>11005</td>\n      <td>11028</td>\n      <td>NaN</td>\n      <td>NaN</td>\n      <td>NaN</td>\n      <td>NaN</td>\n      <td>NaN</td>\n      <td>1295 Tannay, VD</td>\n      <td>14 rooms, 1200 m²«Splendide propriété pied dan...</td>\n      <td>BeschreibungNous vous présentons cette superbe...</td>\n      <td>...</td>\n      <td>NaN</td>\n      <td>NaN</td>\n      <td>NaN</td>\n      <td>NaN</td>\n      <td>NaN</td>\n      <td>1295.0</td>\n      <td>NaN</td>\n      <td>NaN</td>\n      <td>NaN</td>\n      <td>NaN</td>\n    </tr>\n    <tr>\n      <th>13958</th>\n      <td>13958</td>\n      <td>14292</td>\n      <td>Buchillon</td>\n      <td>NaN</td>\n      <td>NaN</td>\n      <td>NaN</td>\n      <td>NaN</td>\n      <td>1164 Buchillon</td>\n      <td>Située au bord du Lac Léman, entre Lausanne et...</td>\n      <td>Description\\n\"UNIQUE, villa ultra moderne pied...</td>\n      <td>...</td>\n      <td>Balcony / Terrace\\tFireplace\\tView\\tWheelchair...</td>\n      <td>Description\\n\"UNIQUE, villa ultra moderne pied...</td>\n      <td>NaN</td>\n      <td>2.0</td>\n      <td>NaN</td>\n      <td>1164.0</td>\n      <td>NaN</td>\n      <td>NaN</td>\n      <td>NaN</td>\n      <td>900.0</td>\n    </tr>\n    <tr>\n      <th>10657</th>\n      <td>10657</td>\n      <td>10680</td>\n      <td>Saint-Prex</td>\n      <td>NaN</td>\n      <td>5000 m²</td>\n      <td>NaN</td>\n      <td>On request</td>\n      <td>1162 St-Prex, VD</td>\n      <td>10 rooms«Somptueuse propriété pieds dans l eau...</td>\n      <td>DescriptionCette propriété de maître ####pieds...</td>\n      <td>...</td>\n      <td>NaN</td>\n      <td>NaN</td>\n      <td>NaN</td>\n      <td>NaN</td>\n      <td>NaN</td>\n      <td>1162.0</td>\n      <td>NaN</td>\n      <td>NaN</td>\n      <td>NaN</td>\n      <td>NaN</td>\n    </tr>\n    <tr>\n      <th>16849</th>\n      <td>16849</td>\n      <td>18759</td>\n      <td>Montreux</td>\n      <td>NaN</td>\n      <td>NaN</td>\n      <td>NaN</td>\n      <td>NaN</td>\n      <td>1820 Montreux</td>\n      <td>Cette propriété est l'oeuvre du célèbre archit...</td>\n      <td>Description\\n\"Somptueuse propriété pieds dans ...</td>\n      <td>...</td>\n      <td>NaN</td>\n      <td>Description\\n\"Somptueuse propriété pieds dans ...</td>\n      <td>NaN</td>\n      <td>NaN</td>\n      <td>NaN</td>\n      <td>1820.0</td>\n      <td>NaN</td>\n      <td>NaN</td>\n      <td>NaN</td>\n      <td>1500.0</td>\n    </tr>\n  </tbody>\n</table>\n<p>21466 rows × 134 columns</p>\n</div>"
     },
     "execution_count": 26,
     "metadata": {},
     "output_type": "execute_result"
    }
   ],
   "source": [
    "# show list of all columns ordered by price_cleaned asending\n",
    "df = df.sort_values(by='price_cleaned', ascending=True)\n",
    "df"
   ],
   "metadata": {
    "collapsed": false,
    "ExecuteTime": {
     "end_time": "2024-09-24T08:50:32.588016700Z",
     "start_time": "2024-09-24T08:50:32.517952200Z"
    }
   },
   "id": "cba1166feb7ac681",
   "execution_count": 26
  },
  {
   "cell_type": "code",
   "outputs": [
    {
     "name": "stdout",
     "output_type": "stream",
     "text": [
      "                                                                       Percentage\n",
      "Column 1                           Column 2                                      \n",
      "plz                                plz_parsed                           98.663002\n",
      "plz_parsed                         plz                                  98.663002\n",
      "Living_area_unified                Space extracted                      93.939253\n",
      "Space extracted                    Living_area_unified                  93.939253\n",
      "RiversAndLakesS                    NoisePollutionRailwayS               80.462126\n",
      "...                                                                           ...\n",
      "Grundstücksfläche                  Floor_space_merged                    0.004659\n",
      "detail_responsive#surface_property detail_responsive#surface_usable      0.004659\n",
      "detail_responsive#surface_usable   detail_responsive#surface_property    0.004659\n",
      "Year built:                        gde_private_apartments                0.004659\n",
      "                                   gde_workers_sector3                   0.004659\n",
      "\n",
      "[952 rows x 1 columns]\n"
     ]
    }
   ],
   "source": [
    "import pandas as pd\n",
    "\n",
    "def compare_columns_percentage(df):\n",
    "    # Erstelle ein leeres Dictionary, um die Übereinstimmung zu speichern\n",
    "    similarity_info = {}\n",
    "    \n",
    "    # Vergleiche jede Spalte mit jeder anderen Spalte\n",
    "    for col1 in df.columns:\n",
    "        for col2 in df.columns:\n",
    "            if col1 != col2:  # Vermeide den Vergleich einer Spalte mit sich selbst\n",
    "                # Vergleiche die Werte in jeder Zeile\n",
    "                matching_rows = df[col1] == df[col2]\n",
    "                matching_percentage = (matching_rows.sum() / len(df)) * 100  # Prozentuale Übereinstimmung\n",
    "                \n",
    "                # Speichere die Informationen nur, wenn es eine Übereinstimmung gibt\n",
    "                if matching_percentage > 0:\n",
    "                    similarity_info[(col1, col2)] = matching_percentage\n",
    "    \n",
    "    # Erstelle ein DataFrame aus dem Dictionary, um die Ergebnisse anzuzeigen\n",
    "    similarity_df = pd.DataFrame.from_dict(similarity_info, orient='index', columns=['Percentage'])\n",
    "    similarity_df.index = pd.MultiIndex.from_tuples(similarity_df.index, names=[\"Column 1\", \"Column 2\"])\n",
    "    \n",
    "    # Sortiere die Ergebnisse nach der höchsten Übereinstimmung\n",
    "    similarity_df = similarity_df.sort_values(by=\"Percentage\", ascending=False)\n",
    "    \n",
    "    return similarity_df\n",
    "\n",
    "# Beispiel-Aufruf mit deinem DataFrame (df)\n",
    "similarity_df = compare_columns_percentage(df)\n",
    "# Display the results\n",
    "print(similarity_df)\n"
   ],
   "metadata": {
    "collapsed": false,
    "ExecuteTime": {
     "end_time": "2024-09-24T09:41:25.841527500Z",
     "start_time": "2024-09-24T09:41:11.763893300Z"
    }
   },
   "id": "24a11e24cd70d897",
   "execution_count": 33
  },
  {
   "cell_type": "code",
   "outputs": [
    {
     "data": {
      "text/plain": "                                                                       Percentage\nColumn 1                           Column 2                                      \nplz                                plz_parsed                           98.663002\nplz_parsed                         plz                                  98.663002\nLiving_area_unified                Space extracted                      93.939253\nSpace extracted                    Living_area_unified                  93.939253\nRiversAndLakesS                    NoisePollutionRailwayS               80.462126\n...                                                                           ...\nGrundstücksfläche                  Floor_space_merged                    0.004659\ndetail_responsive#surface_property detail_responsive#surface_usable      0.004659\ndetail_responsive#surface_usable   detail_responsive#surface_property    0.004659\nYear built:                        gde_private_apartments                0.004659\n                                   gde_workers_sector3                   0.004659\n\n[952 rows x 1 columns]",
      "text/html": "<div>\n<style scoped>\n    .dataframe tbody tr th:only-of-type {\n        vertical-align: middle;\n    }\n\n    .dataframe tbody tr th {\n        vertical-align: top;\n    }\n\n    .dataframe thead th {\n        text-align: right;\n    }\n</style>\n<table border=\"1\" class=\"dataframe\">\n  <thead>\n    <tr style=\"text-align: right;\">\n      <th></th>\n      <th></th>\n      <th>Percentage</th>\n    </tr>\n    <tr>\n      <th>Column 1</th>\n      <th>Column 2</th>\n      <th></th>\n    </tr>\n  </thead>\n  <tbody>\n    <tr>\n      <th>plz</th>\n      <th>plz_parsed</th>\n      <td>98.663002</td>\n    </tr>\n    <tr>\n      <th>plz_parsed</th>\n      <th>plz</th>\n      <td>98.663002</td>\n    </tr>\n    <tr>\n      <th>Living_area_unified</th>\n      <th>Space extracted</th>\n      <td>93.939253</td>\n    </tr>\n    <tr>\n      <th>Space extracted</th>\n      <th>Living_area_unified</th>\n      <td>93.939253</td>\n    </tr>\n    <tr>\n      <th>RiversAndLakesS</th>\n      <th>NoisePollutionRailwayS</th>\n      <td>80.462126</td>\n    </tr>\n    <tr>\n      <th>...</th>\n      <th>...</th>\n      <td>...</td>\n    </tr>\n    <tr>\n      <th>Grundstücksfläche</th>\n      <th>Floor_space_merged</th>\n      <td>0.004659</td>\n    </tr>\n    <tr>\n      <th>detail_responsive#surface_property</th>\n      <th>detail_responsive#surface_usable</th>\n      <td>0.004659</td>\n    </tr>\n    <tr>\n      <th>detail_responsive#surface_usable</th>\n      <th>detail_responsive#surface_property</th>\n      <td>0.004659</td>\n    </tr>\n    <tr>\n      <th rowspan=\"2\" valign=\"top\">Year built:</th>\n      <th>gde_private_apartments</th>\n      <td>0.004659</td>\n    </tr>\n    <tr>\n      <th>gde_workers_sector3</th>\n      <td>0.004659</td>\n    </tr>\n  </tbody>\n</table>\n<p>952 rows × 1 columns</p>\n</div>"
     },
     "execution_count": 34,
     "metadata": {},
     "output_type": "execute_result"
    }
   ],
   "source": [
    "similarity_df"
   ],
   "metadata": {
    "collapsed": false,
    "ExecuteTime": {
     "end_time": "2024-09-24T09:41:42.576773Z",
     "start_time": "2024-09-24T09:41:42.563746500Z"
    }
   },
   "id": "fda7ac05b6bd2776",
   "execution_count": 34
  },
  {
   "cell_type": "code",
   "outputs": [],
   "source": [
    "#df_droped_columns = df.drop(columns=['Unnamed: 0', 'plz', 'Living_area_unified', 'type', 'Availability', 'Municipality', 'Living space', 'Living_space_merged', 'address_s', 'location', 'space_cleaned', 'description', 'detailed_description', 'url', 'table', 'detail_responsive#municipality', 'detail_responsive#surface_living', 'detail_responsive#floor', 'detail_responsive#available_from', 'Minimum floor space:', 'Superficie utile', 'Gross return', 'Piano', 'Superficie del terreno', 'Surface utile', 'Gross yield:', 'Étage', 'Surface du terrain', 'Superficie abitabile', 'Comune', 'Disponibilità', 'Nutzfläche'])"
   ],
   "metadata": {
    "collapsed": false,
    "ExecuteTime": {
     "end_time": "2024-09-24T12:02:05.897619900Z",
     "start_time": "2024-09-24T12:02:05.872349800Z"
    }
   },
   "id": "46cca9687cc2b64a",
   "execution_count": 43
  },
  {
   "cell_type": "code",
   "outputs": [
    {
     "data": {
      "text/plain": "Index(['Minimum floor space:', 'Superficie utile', 'Gross return', 'Piano',\n       'Superficie del terreno', 'Surface utile', 'Gross yield:', 'Étage',\n       'Surface du terrain', 'Superficie abitabile', 'Comune', 'Disponibilità',\n       'Nutzfläche', 'Grundstücksfläche', 'Surface habitable', 'Stockwerk',\n       'Commune', 'Disponibilité', 'Number of toilets:',\n       'detail_responsive#surface_usable', 'Wohnfläche', 'Gemeinde',\n       'detail_responsive#surface_property', 'Verfügbarkeit',\n       'detail_responsive#floor', 'Room height:',\n       'detail_responsive#surface_living', 'detail_responsive#municipality',\n       'detail_responsive#available_from', 'Number of apartments:', 'Volume:',\n       'Last refurbishment:', 'Number of floors:', 'Floor space:',\n       'Floor space', 'Floor_space_merged', 'Land area:', 'Plot area',\n       'Plot_area_merged', 'Floor_unified', 'Floor_merged', 'Year built:',\n       'Plot_area_unified', 'features', 'No. of rooms:',\n       'description_detailed', 'Surface living:', 'space_cleaned', 'price_s',\n       'space', 'address_s', 'Floor'],\n      dtype='object')"
     },
     "execution_count": 48,
     "metadata": {},
     "output_type": "execute_result"
    }
   ],
   "source": [
    "columns_to_drop = count_column[count_column['missing [%]'] > 50].index\n",
    "columns_to_drop"
   ],
   "metadata": {
    "collapsed": false,
    "ExecuteTime": {
     "end_time": "2024-09-24T12:13:16.190820600Z",
     "start_time": "2024-09-24T12:13:16.184304400Z"
    }
   },
   "id": "6fae22e247126b4a",
   "execution_count": 48
  },
  {
   "cell_type": "code",
   "outputs": [
    {
     "data": {
      "text/plain": "      Unnamed: 0.1 Unnamed: 0 Municipality Living space Availability  \\\n10690        10690      10713         Etoy          NaN   On request   \n3906          3906       3929      Veyrier       140 m²   31.12.2022   \n17882        17882      20516     Ovronnaz          NaN          NaN   \n5021          5021       5044     Le Locle        45 m²   On request   \n20194        20194      25560     Le Locle          NaN          NaN   \n...            ...        ...          ...          ...          ...   \n16848        16848      18758     Montreux          NaN          NaN   \n11005        11005      11028          NaN          NaN          NaN   \n13958        13958      14292    Buchillon          NaN          NaN   \n10657        10657      10680   Saint-Prex          NaN   On request   \n16849        16849      18759     Montreux          NaN          NaN   \n\n                            location  \\\n10690                  1163 Etoy, VD   \n3906                1255 Veyrier, GE   \n17882  Ch de la Coppe, 1911 Ovronnaz   \n5021               2400 Le Locle, NE   \n20194                  2400 Le Locle   \n...                              ...   \n16848                  1820 Montreux   \n11005                1295 Tannay, VD   \n13958                 1164 Buchillon   \n10657               1162 St-Prex, VD   \n16849                  1820 Montreux   \n\n                                             description  \\\n10690  «a vendre une maison villageoise sur la Côte»C...   \n3906   7 rooms, 140 m²«Villa a vendre 7 pieces a Veyr...   \n17882  Chaleureux, douillets, élégants, les tout dern...   \n5021   2 rooms, 45 m²«IDEAL POUR ETUDIANT !»CHF 745.—...   \n20194  Idéalement situé, cet appartement de 2 pièces ...   \n...                                                  ...   \n16848  Face au Lac, située à proximité du Centre-Vill...   \n11005  14 rooms, 1200 m²«Splendide propriété pied dan...   \n13958  Située au bord du Lac Léman, entre Lausanne et...   \n10657  10 rooms«Somptueuse propriété pieds dans l eau...   \n16849  Cette propriété est l'oeuvre du célèbre archit...   \n\n                                    detailed_description  \\\n10690  DescriptionA vendre une maison villageoise sit...   \n3906   DescriptionJolie maison familliale comprenant ...   \n17882  Description\\n\"Investissez en secondaire! Belle...   \n5021   DescriptionIdéalement situé, cet appartement d...   \n20194  Description\\n\"IDEAL POUR ETUDIANT !\"\\nIdéaleme...   \n...                                                  ...   \n16848  Description\\n\"Somptueuse Maison de Maître avec...   \n11005  BeschreibungNous vous présentons cette superbe...   \n13958  Description\\n\"UNIQUE, villa ultra moderne pied...   \n10657  DescriptionCette propriété de maître ####pieds...   \n16849  Description\\n\"Somptueuse propriété pieds dans ...   \n\n                                                     url  \\\n10690  https://www.immoscout24.ch//en/d/terrace-house...   \n3906   https://www.immoscout24.ch//en/d/detached-hous...   \n17882             https://www.homegate.ch/buy/3000094943   \n5021   https://www.immoscout24.ch//en/d/flat-buy-le-l...   \n20194             https://www.homegate.ch/buy/3002040063   \n...                                                  ...   \n16848             https://www.homegate.ch/buy/3002011511   \n11005  https://www.immoscout24.ch//en/d/detached-hous...   \n13958             https://www.homegate.ch/buy/3001777104   \n10657  https://www.immoscout24.ch//en/d/detached-hous...   \n16849             https://www.homegate.ch/buy/3001716228   \n\n                                                   table  ...  \\\n10690  b <article class=####Box-cYFBPY hKrxoH####><h2...  ...   \n3906   b <article class=####Box-cYFBPY hKrxoH####><h2...  ...   \n17882                                                NaN  ...   \n5021   b <article class=####Box-cYFBPY hKrxoH####><h2...  ...   \n20194                                                NaN  ...   \n...                                                  ...  ...   \n16848                                                NaN  ...   \n11005  b <article class=####Box-cYFBPY hKrxoH####><h2...  ...   \n13958                                                NaN  ...   \n10657  b <article class=####Box-cYFBPY hKrxoH####><h2...  ...   \n16849                                                NaN  ...   \n\n      gde_workers_total price_cleaned            type Space extracted  rooms  \\\n10690            2734.0           1.0   terrace-house             NaN    NaN   \n3906             2105.0           2.0  detached-house           140.0    7.0   \n17882            1480.0         550.0       Apartment            68.0  3.5rm   \n5021             8266.0         745.0            flat            45.0    2.0   \n20194            8266.0         745.0       Apartment            45.0    2rm   \n...                 ...           ...             ...             ...    ...   \n16848           12380.0    26000000.0    Single house           782.0   20rm   \n11005            4157.0    30000000.0  detached-house          1200.0    4.0   \n13958              92.0    38000000.0    Single house           900.0   20rm   \n10657            2734.0    45000000.0  detached-house             NaN    0.0   \n16849           12380.0    49000000.0    Single house          1500.0    NaN   \n\n      plz_parsed    type_unified Living_area_unified        provider     plz  \n10690     1163.0   terrace-house                 NaN  Immoscout24.ch  1163.0  \n3906      1255.0  detached-house               140.0  Immoscout24.ch  1255.0  \n17882     1911.0            flat                68.0     homegate.ch  1911.0  \n5021      2400.0            flat                45.0  Immoscout24.ch  2400.0  \n20194     2400.0            flat                45.0     homegate.ch  2400.0  \n...          ...             ...                 ...             ...     ...  \n16848     1820.0  detached-house               782.0     homegate.ch  1820.0  \n11005     1295.0  detached-house              1200.0  Immoscout24.ch  1295.0  \n13958     1164.0  detached-house               900.0     homegate.ch  1164.0  \n10657     1162.0  detached-house                 NaN  Immoscout24.ch  1162.0  \n16849     1820.0  detached-house              1500.0     homegate.ch  1820.0  \n\n[21466 rows x 82 columns]",
      "text/html": "<div>\n<style scoped>\n    .dataframe tbody tr th:only-of-type {\n        vertical-align: middle;\n    }\n\n    .dataframe tbody tr th {\n        vertical-align: top;\n    }\n\n    .dataframe thead th {\n        text-align: right;\n    }\n</style>\n<table border=\"1\" class=\"dataframe\">\n  <thead>\n    <tr style=\"text-align: right;\">\n      <th></th>\n      <th>Unnamed: 0.1</th>\n      <th>Unnamed: 0</th>\n      <th>Municipality</th>\n      <th>Living space</th>\n      <th>Availability</th>\n      <th>location</th>\n      <th>description</th>\n      <th>detailed_description</th>\n      <th>url</th>\n      <th>table</th>\n      <th>...</th>\n      <th>gde_workers_total</th>\n      <th>price_cleaned</th>\n      <th>type</th>\n      <th>Space extracted</th>\n      <th>rooms</th>\n      <th>plz_parsed</th>\n      <th>type_unified</th>\n      <th>Living_area_unified</th>\n      <th>provider</th>\n      <th>plz</th>\n    </tr>\n  </thead>\n  <tbody>\n    <tr>\n      <th>10690</th>\n      <td>10690</td>\n      <td>10713</td>\n      <td>Etoy</td>\n      <td>NaN</td>\n      <td>On request</td>\n      <td>1163 Etoy, VD</td>\n      <td>«a vendre une maison villageoise sur la Côte»C...</td>\n      <td>DescriptionA vendre une maison villageoise sit...</td>\n      <td>https://www.immoscout24.ch//en/d/terrace-house...</td>\n      <td>b &lt;article class=####Box-cYFBPY hKrxoH####&gt;&lt;h2...</td>\n      <td>...</td>\n      <td>2734.0</td>\n      <td>1.0</td>\n      <td>terrace-house</td>\n      <td>NaN</td>\n      <td>NaN</td>\n      <td>1163.0</td>\n      <td>terrace-house</td>\n      <td>NaN</td>\n      <td>Immoscout24.ch</td>\n      <td>1163.0</td>\n    </tr>\n    <tr>\n      <th>3906</th>\n      <td>3906</td>\n      <td>3929</td>\n      <td>Veyrier</td>\n      <td>140 m²</td>\n      <td>31.12.2022</td>\n      <td>1255 Veyrier, GE</td>\n      <td>7 rooms, 140 m²«Villa a vendre 7 pieces a Veyr...</td>\n      <td>DescriptionJolie maison familliale comprenant ...</td>\n      <td>https://www.immoscout24.ch//en/d/detached-hous...</td>\n      <td>b &lt;article class=####Box-cYFBPY hKrxoH####&gt;&lt;h2...</td>\n      <td>...</td>\n      <td>2105.0</td>\n      <td>2.0</td>\n      <td>detached-house</td>\n      <td>140.0</td>\n      <td>7.0</td>\n      <td>1255.0</td>\n      <td>detached-house</td>\n      <td>140.0</td>\n      <td>Immoscout24.ch</td>\n      <td>1255.0</td>\n    </tr>\n    <tr>\n      <th>17882</th>\n      <td>17882</td>\n      <td>20516</td>\n      <td>Ovronnaz</td>\n      <td>NaN</td>\n      <td>NaN</td>\n      <td>Ch de la Coppe, 1911 Ovronnaz</td>\n      <td>Chaleureux, douillets, élégants, les tout dern...</td>\n      <td>Description\\n\"Investissez en secondaire! Belle...</td>\n      <td>https://www.homegate.ch/buy/3000094943</td>\n      <td>NaN</td>\n      <td>...</td>\n      <td>1480.0</td>\n      <td>550.0</td>\n      <td>Apartment</td>\n      <td>68.0</td>\n      <td>3.5rm</td>\n      <td>1911.0</td>\n      <td>flat</td>\n      <td>68.0</td>\n      <td>homegate.ch</td>\n      <td>1911.0</td>\n    </tr>\n    <tr>\n      <th>5021</th>\n      <td>5021</td>\n      <td>5044</td>\n      <td>Le Locle</td>\n      <td>45 m²</td>\n      <td>On request</td>\n      <td>2400 Le Locle, NE</td>\n      <td>2 rooms, 45 m²«IDEAL POUR ETUDIANT !»CHF 745.—...</td>\n      <td>DescriptionIdéalement situé, cet appartement d...</td>\n      <td>https://www.immoscout24.ch//en/d/flat-buy-le-l...</td>\n      <td>b &lt;article class=####Box-cYFBPY hKrxoH####&gt;&lt;h2...</td>\n      <td>...</td>\n      <td>8266.0</td>\n      <td>745.0</td>\n      <td>flat</td>\n      <td>45.0</td>\n      <td>2.0</td>\n      <td>2400.0</td>\n      <td>flat</td>\n      <td>45.0</td>\n      <td>Immoscout24.ch</td>\n      <td>2400.0</td>\n    </tr>\n    <tr>\n      <th>20194</th>\n      <td>20194</td>\n      <td>25560</td>\n      <td>Le Locle</td>\n      <td>NaN</td>\n      <td>NaN</td>\n      <td>2400 Le Locle</td>\n      <td>Idéalement situé, cet appartement de 2 pièces ...</td>\n      <td>Description\\n\"IDEAL POUR ETUDIANT !\"\\nIdéaleme...</td>\n      <td>https://www.homegate.ch/buy/3002040063</td>\n      <td>NaN</td>\n      <td>...</td>\n      <td>8266.0</td>\n      <td>745.0</td>\n      <td>Apartment</td>\n      <td>45.0</td>\n      <td>2rm</td>\n      <td>2400.0</td>\n      <td>flat</td>\n      <td>45.0</td>\n      <td>homegate.ch</td>\n      <td>2400.0</td>\n    </tr>\n    <tr>\n      <th>...</th>\n      <td>...</td>\n      <td>...</td>\n      <td>...</td>\n      <td>...</td>\n      <td>...</td>\n      <td>...</td>\n      <td>...</td>\n      <td>...</td>\n      <td>...</td>\n      <td>...</td>\n      <td>...</td>\n      <td>...</td>\n      <td>...</td>\n      <td>...</td>\n      <td>...</td>\n      <td>...</td>\n      <td>...</td>\n      <td>...</td>\n      <td>...</td>\n      <td>...</td>\n      <td>...</td>\n    </tr>\n    <tr>\n      <th>16848</th>\n      <td>16848</td>\n      <td>18758</td>\n      <td>Montreux</td>\n      <td>NaN</td>\n      <td>NaN</td>\n      <td>1820 Montreux</td>\n      <td>Face au Lac, située à proximité du Centre-Vill...</td>\n      <td>Description\\n\"Somptueuse Maison de Maître avec...</td>\n      <td>https://www.homegate.ch/buy/3002011511</td>\n      <td>NaN</td>\n      <td>...</td>\n      <td>12380.0</td>\n      <td>26000000.0</td>\n      <td>Single house</td>\n      <td>782.0</td>\n      <td>20rm</td>\n      <td>1820.0</td>\n      <td>detached-house</td>\n      <td>782.0</td>\n      <td>homegate.ch</td>\n      <td>1820.0</td>\n    </tr>\n    <tr>\n      <th>11005</th>\n      <td>11005</td>\n      <td>11028</td>\n      <td>NaN</td>\n      <td>NaN</td>\n      <td>NaN</td>\n      <td>1295 Tannay, VD</td>\n      <td>14 rooms, 1200 m²«Splendide propriété pied dan...</td>\n      <td>BeschreibungNous vous présentons cette superbe...</td>\n      <td>https://www.immoscout24.ch//en/d/detached-hous...</td>\n      <td>b &lt;article class=####Box-cYFBPY hKrxoH####&gt;&lt;h2...</td>\n      <td>...</td>\n      <td>4157.0</td>\n      <td>30000000.0</td>\n      <td>detached-house</td>\n      <td>1200.0</td>\n      <td>4.0</td>\n      <td>1295.0</td>\n      <td>detached-house</td>\n      <td>1200.0</td>\n      <td>Immoscout24.ch</td>\n      <td>1295.0</td>\n    </tr>\n    <tr>\n      <th>13958</th>\n      <td>13958</td>\n      <td>14292</td>\n      <td>Buchillon</td>\n      <td>NaN</td>\n      <td>NaN</td>\n      <td>1164 Buchillon</td>\n      <td>Située au bord du Lac Léman, entre Lausanne et...</td>\n      <td>Description\\n\"UNIQUE, villa ultra moderne pied...</td>\n      <td>https://www.homegate.ch/buy/3001777104</td>\n      <td>NaN</td>\n      <td>...</td>\n      <td>92.0</td>\n      <td>38000000.0</td>\n      <td>Single house</td>\n      <td>900.0</td>\n      <td>20rm</td>\n      <td>1164.0</td>\n      <td>detached-house</td>\n      <td>900.0</td>\n      <td>homegate.ch</td>\n      <td>1164.0</td>\n    </tr>\n    <tr>\n      <th>10657</th>\n      <td>10657</td>\n      <td>10680</td>\n      <td>Saint-Prex</td>\n      <td>NaN</td>\n      <td>On request</td>\n      <td>1162 St-Prex, VD</td>\n      <td>10 rooms«Somptueuse propriété pieds dans l eau...</td>\n      <td>DescriptionCette propriété de maître ####pieds...</td>\n      <td>https://www.immoscout24.ch//en/d/detached-hous...</td>\n      <td>b &lt;article class=####Box-cYFBPY hKrxoH####&gt;&lt;h2...</td>\n      <td>...</td>\n      <td>2734.0</td>\n      <td>45000000.0</td>\n      <td>detached-house</td>\n      <td>NaN</td>\n      <td>0.0</td>\n      <td>1162.0</td>\n      <td>detached-house</td>\n      <td>NaN</td>\n      <td>Immoscout24.ch</td>\n      <td>1162.0</td>\n    </tr>\n    <tr>\n      <th>16849</th>\n      <td>16849</td>\n      <td>18759</td>\n      <td>Montreux</td>\n      <td>NaN</td>\n      <td>NaN</td>\n      <td>1820 Montreux</td>\n      <td>Cette propriété est l'oeuvre du célèbre archit...</td>\n      <td>Description\\n\"Somptueuse propriété pieds dans ...</td>\n      <td>https://www.homegate.ch/buy/3001716228</td>\n      <td>NaN</td>\n      <td>...</td>\n      <td>12380.0</td>\n      <td>49000000.0</td>\n      <td>Single house</td>\n      <td>1500.0</td>\n      <td>NaN</td>\n      <td>1820.0</td>\n      <td>detached-house</td>\n      <td>1500.0</td>\n      <td>homegate.ch</td>\n      <td>1820.0</td>\n    </tr>\n  </tbody>\n</table>\n<p>21466 rows × 82 columns</p>\n</div>"
     },
     "execution_count": 49,
     "metadata": {},
     "output_type": "execute_result"
    }
   ],
   "source": [
    "df_droped_columns = df.drop(columns=columns_to_drop)\n",
    "df_droped_columns"
   ],
   "metadata": {
    "collapsed": false,
    "ExecuteTime": {
     "end_time": "2024-09-24T12:14:36.059799400Z",
     "start_time": "2024-09-24T12:14:35.993090800Z"
    }
   },
   "id": "f8c13705cdcb704e",
   "execution_count": 49
  },
  {
   "cell_type": "code",
   "outputs": [
    {
     "name": "stdout",
     "output_type": "stream",
     "text": [
      "Index(['Unnamed: 0.1', 'Unnamed: 0', 'Municipality', 'Living space',\n",
      "       'Plot area', 'Floor space', 'Availability', 'location', 'description',\n",
      "       'detailed_description',\n",
      "       ...\n",
      "       'features', 'description_detailed', 'Floor space:', 'Number of floors:',\n",
      "       'Volume:', 'plz', 'Number of toilets:', 'Gross yield:',\n",
      "       'Minimum floor space:', 'space_cleaned'],\n",
      "      dtype='object', length=134)\n"
     ]
    }
   ],
   "source": [],
   "metadata": {
    "collapsed": false,
    "ExecuteTime": {
     "end_time": "2024-09-24T14:01:14.734410700Z",
     "start_time": "2024-09-24T14:01:14.726850700Z"
    }
   },
   "id": "faffa6da540ed81a",
   "execution_count": 51
  },
  {
   "cell_type": "markdown",
   "source": [
    "# Analyse der Wohnungsdaten\n",
    "## Flächenattribute"
   ],
   "metadata": {
    "collapsed": false
   },
   "id": "793f1d21fc50c920"
  },
  {
   "cell_type": "code",
   "outputs": [
    {
     "data": {
      "text/plain": "                 type    type_unified  rooms Space extracted  \\\n10690   terrace-house   terrace-house    NaN             NaN   \n3906   detached-house  detached-house    7.0           140.0   \n17882       Apartment            flat  3.5rm            68.0   \n5021             flat            flat    2.0            45.0   \n20194       Apartment            flat    2rm            45.0   \n...               ...             ...    ...             ...   \n16848    Single house  detached-house   20rm           782.0   \n11005  detached-house  detached-house    4.0          1200.0   \n13958    Single house  detached-house   20rm           900.0   \n10657  detached-house  detached-house    0.0             NaN   \n16849    Single house  detached-house    NaN          1500.0   \n\n      Living_area_unified Availability_merged Availability  \\\n10690                 NaN          On request   On request   \n3906                140.0          31.12.2022   31.12.2022   \n17882                68.0                 NaN          NaN   \n5021                 45.0          On request   On request   \n20194                45.0                 NaN          NaN   \n...                   ...                 ...          ...   \n16848               782.0                 NaN          NaN   \n11005              1200.0          On request          NaN   \n13958               900.0                 NaN          NaN   \n10657                 NaN          On request   On request   \n16849              1500.0                 NaN          NaN   \n\n      Living_space_merged Living space     Floor  ... Surface utile Étage  \\\n10690                 NaN          NaN       NaN  ...           NaN   NaN   \n3906               140 m²       140 m²       NaN  ...           NaN   NaN   \n17882                 NaN          NaN        GF  ...           NaN   NaN   \n5021                45 m²        45 m²  8. floor  ...           NaN   NaN   \n20194                 NaN          NaN         8  ...           NaN   NaN   \n...                   ...          ...       ...  ...           ...   ...   \n16848                 NaN          NaN       NaN  ...           NaN   NaN   \n11005             1200 m²          NaN       NaN  ...           NaN   NaN   \n13958                 NaN          NaN       NaN  ...           NaN   NaN   \n10657                 NaN          NaN       NaN  ...           NaN   NaN   \n16849                 NaN          NaN       NaN  ...           NaN   NaN   \n\n      Surface du terrain Superficie abitabile Disponibilità Nutzfläche  \\\n10690                NaN                  NaN           NaN        NaN   \n3906                 NaN                  NaN           NaN        NaN   \n17882                NaN                  NaN           NaN        NaN   \n5021                 NaN                  NaN           NaN        NaN   \n20194                NaN                  NaN           NaN        NaN   \n...                  ...                  ...           ...        ...   \n16848                NaN                  NaN           NaN        NaN   \n11005                NaN                  NaN           NaN        NaN   \n13958                NaN                  NaN           NaN        NaN   \n10657                NaN                  NaN           NaN        NaN   \n16849                NaN                  NaN           NaN        NaN   \n\n      Grundstücksfläche Minimum floor space: Superficie utile Piano  \n10690               NaN                  NaN              NaN   NaN  \n3906                NaN                  NaN              NaN   NaN  \n17882               NaN                  NaN              NaN   NaN  \n5021                NaN                  NaN              NaN   NaN  \n20194               NaN                  NaN              NaN   NaN  \n...                 ...                  ...              ...   ...  \n16848               NaN                  NaN              NaN   NaN  \n11005           8071 m²                  NaN              NaN   NaN  \n13958               NaN                  NaN              NaN   NaN  \n10657               NaN                  NaN              NaN   NaN  \n16849               NaN                  NaN              NaN   NaN  \n\n[21466 rows x 53 columns]",
      "text/html": "<div>\n<style scoped>\n    .dataframe tbody tr th:only-of-type {\n        vertical-align: middle;\n    }\n\n    .dataframe tbody tr th {\n        vertical-align: top;\n    }\n\n    .dataframe thead th {\n        text-align: right;\n    }\n</style>\n<table border=\"1\" class=\"dataframe\">\n  <thead>\n    <tr style=\"text-align: right;\">\n      <th></th>\n      <th>type</th>\n      <th>type_unified</th>\n      <th>rooms</th>\n      <th>Space extracted</th>\n      <th>Living_area_unified</th>\n      <th>Availability_merged</th>\n      <th>Availability</th>\n      <th>Living_space_merged</th>\n      <th>Living space</th>\n      <th>Floor</th>\n      <th>...</th>\n      <th>Surface utile</th>\n      <th>Étage</th>\n      <th>Surface du terrain</th>\n      <th>Superficie abitabile</th>\n      <th>Disponibilità</th>\n      <th>Nutzfläche</th>\n      <th>Grundstücksfläche</th>\n      <th>Minimum floor space:</th>\n      <th>Superficie utile</th>\n      <th>Piano</th>\n    </tr>\n  </thead>\n  <tbody>\n    <tr>\n      <th>10690</th>\n      <td>terrace-house</td>\n      <td>terrace-house</td>\n      <td>NaN</td>\n      <td>NaN</td>\n      <td>NaN</td>\n      <td>On request</td>\n      <td>On request</td>\n      <td>NaN</td>\n      <td>NaN</td>\n      <td>NaN</td>\n      <td>...</td>\n      <td>NaN</td>\n      <td>NaN</td>\n      <td>NaN</td>\n      <td>NaN</td>\n      <td>NaN</td>\n      <td>NaN</td>\n      <td>NaN</td>\n      <td>NaN</td>\n      <td>NaN</td>\n      <td>NaN</td>\n    </tr>\n    <tr>\n      <th>3906</th>\n      <td>detached-house</td>\n      <td>detached-house</td>\n      <td>7.0</td>\n      <td>140.0</td>\n      <td>140.0</td>\n      <td>31.12.2022</td>\n      <td>31.12.2022</td>\n      <td>140 m²</td>\n      <td>140 m²</td>\n      <td>NaN</td>\n      <td>...</td>\n      <td>NaN</td>\n      <td>NaN</td>\n      <td>NaN</td>\n      <td>NaN</td>\n      <td>NaN</td>\n      <td>NaN</td>\n      <td>NaN</td>\n      <td>NaN</td>\n      <td>NaN</td>\n      <td>NaN</td>\n    </tr>\n    <tr>\n      <th>17882</th>\n      <td>Apartment</td>\n      <td>flat</td>\n      <td>3.5rm</td>\n      <td>68.0</td>\n      <td>68.0</td>\n      <td>NaN</td>\n      <td>NaN</td>\n      <td>NaN</td>\n      <td>NaN</td>\n      <td>GF</td>\n      <td>...</td>\n      <td>NaN</td>\n      <td>NaN</td>\n      <td>NaN</td>\n      <td>NaN</td>\n      <td>NaN</td>\n      <td>NaN</td>\n      <td>NaN</td>\n      <td>NaN</td>\n      <td>NaN</td>\n      <td>NaN</td>\n    </tr>\n    <tr>\n      <th>5021</th>\n      <td>flat</td>\n      <td>flat</td>\n      <td>2.0</td>\n      <td>45.0</td>\n      <td>45.0</td>\n      <td>On request</td>\n      <td>On request</td>\n      <td>45 m²</td>\n      <td>45 m²</td>\n      <td>8. floor</td>\n      <td>...</td>\n      <td>NaN</td>\n      <td>NaN</td>\n      <td>NaN</td>\n      <td>NaN</td>\n      <td>NaN</td>\n      <td>NaN</td>\n      <td>NaN</td>\n      <td>NaN</td>\n      <td>NaN</td>\n      <td>NaN</td>\n    </tr>\n    <tr>\n      <th>20194</th>\n      <td>Apartment</td>\n      <td>flat</td>\n      <td>2rm</td>\n      <td>45.0</td>\n      <td>45.0</td>\n      <td>NaN</td>\n      <td>NaN</td>\n      <td>NaN</td>\n      <td>NaN</td>\n      <td>8</td>\n      <td>...</td>\n      <td>NaN</td>\n      <td>NaN</td>\n      <td>NaN</td>\n      <td>NaN</td>\n      <td>NaN</td>\n      <td>NaN</td>\n      <td>NaN</td>\n      <td>NaN</td>\n      <td>NaN</td>\n      <td>NaN</td>\n    </tr>\n    <tr>\n      <th>...</th>\n      <td>...</td>\n      <td>...</td>\n      <td>...</td>\n      <td>...</td>\n      <td>...</td>\n      <td>...</td>\n      <td>...</td>\n      <td>...</td>\n      <td>...</td>\n      <td>...</td>\n      <td>...</td>\n      <td>...</td>\n      <td>...</td>\n      <td>...</td>\n      <td>...</td>\n      <td>...</td>\n      <td>...</td>\n      <td>...</td>\n      <td>...</td>\n      <td>...</td>\n      <td>...</td>\n    </tr>\n    <tr>\n      <th>16848</th>\n      <td>Single house</td>\n      <td>detached-house</td>\n      <td>20rm</td>\n      <td>782.0</td>\n      <td>782.0</td>\n      <td>NaN</td>\n      <td>NaN</td>\n      <td>NaN</td>\n      <td>NaN</td>\n      <td>NaN</td>\n      <td>...</td>\n      <td>NaN</td>\n      <td>NaN</td>\n      <td>NaN</td>\n      <td>NaN</td>\n      <td>NaN</td>\n      <td>NaN</td>\n      <td>NaN</td>\n      <td>NaN</td>\n      <td>NaN</td>\n      <td>NaN</td>\n    </tr>\n    <tr>\n      <th>11005</th>\n      <td>detached-house</td>\n      <td>detached-house</td>\n      <td>4.0</td>\n      <td>1200.0</td>\n      <td>1200.0</td>\n      <td>On request</td>\n      <td>NaN</td>\n      <td>1200 m²</td>\n      <td>NaN</td>\n      <td>NaN</td>\n      <td>...</td>\n      <td>NaN</td>\n      <td>NaN</td>\n      <td>NaN</td>\n      <td>NaN</td>\n      <td>NaN</td>\n      <td>NaN</td>\n      <td>8071 m²</td>\n      <td>NaN</td>\n      <td>NaN</td>\n      <td>NaN</td>\n    </tr>\n    <tr>\n      <th>13958</th>\n      <td>Single house</td>\n      <td>detached-house</td>\n      <td>20rm</td>\n      <td>900.0</td>\n      <td>900.0</td>\n      <td>NaN</td>\n      <td>NaN</td>\n      <td>NaN</td>\n      <td>NaN</td>\n      <td>NaN</td>\n      <td>...</td>\n      <td>NaN</td>\n      <td>NaN</td>\n      <td>NaN</td>\n      <td>NaN</td>\n      <td>NaN</td>\n      <td>NaN</td>\n      <td>NaN</td>\n      <td>NaN</td>\n      <td>NaN</td>\n      <td>NaN</td>\n    </tr>\n    <tr>\n      <th>10657</th>\n      <td>detached-house</td>\n      <td>detached-house</td>\n      <td>0.0</td>\n      <td>NaN</td>\n      <td>NaN</td>\n      <td>On request</td>\n      <td>On request</td>\n      <td>NaN</td>\n      <td>NaN</td>\n      <td>NaN</td>\n      <td>...</td>\n      <td>NaN</td>\n      <td>NaN</td>\n      <td>NaN</td>\n      <td>NaN</td>\n      <td>NaN</td>\n      <td>NaN</td>\n      <td>NaN</td>\n      <td>NaN</td>\n      <td>NaN</td>\n      <td>NaN</td>\n    </tr>\n    <tr>\n      <th>16849</th>\n      <td>Single house</td>\n      <td>detached-house</td>\n      <td>NaN</td>\n      <td>1500.0</td>\n      <td>1500.0</td>\n      <td>NaN</td>\n      <td>NaN</td>\n      <td>NaN</td>\n      <td>NaN</td>\n      <td>NaN</td>\n      <td>...</td>\n      <td>NaN</td>\n      <td>NaN</td>\n      <td>NaN</td>\n      <td>NaN</td>\n      <td>NaN</td>\n      <td>NaN</td>\n      <td>NaN</td>\n      <td>NaN</td>\n      <td>NaN</td>\n      <td>NaN</td>\n    </tr>\n  </tbody>\n</table>\n<p>21466 rows × 53 columns</p>\n</div>"
     },
     "execution_count": 52,
     "metadata": {},
     "output_type": "execute_result"
    }
   ],
   "source": [
    "columns_wohnung_attr = ['type'\n",
    "                        , 'type_unified'\n",
    "                        , 'rooms'\n",
    "                        , 'Space extracted'\n",
    "                        , 'Living_area_unified'\n",
    "                        , 'Availability_merged'\n",
    "                        , 'Availability'\n",
    "                        , 'Living_space_merged'\n",
    "                        , 'Living space'\n",
    "                        , 'Floor'\n",
    "                        , 'address_s'\n",
    "                        , 'space'\n",
    "                        , 'space_cleaned'\n",
    "                        , 'Surface living:'\n",
    "                        , 'No. of rooms:'\n",
    "                        , 'Plot_area_unified'\n",
    "                        , 'Year built:'\n",
    "                        , 'Floor space'\n",
    "                        , 'Floor_space_merged'\n",
    "                        , 'Land area:'\n",
    "                        , 'Plot area'\n",
    "                        , 'Plot_area_merged'\n",
    "                        , 'Floor_unified'\n",
    "                        , 'Floor_merged'\n",
    "                        , 'detail_responsive#floor'\n",
    "                        , 'Room height:'\n",
    "                        , 'detail_responsive#surface_living'\n",
    "                        , 'detail_responsive#municipality'\n",
    "                        , 'detail_responsive#available_from'\n",
    "                        , 'Number of apartments:'\n",
    "                        , 'Volume:'\n",
    "                        , 'Last refurbishment:'\n",
    "                        , 'Number of floors:'\n",
    "                        , 'Floor space:'\n",
    "                        , 'Surface habitable'\n",
    "                        , 'Stockwerk'\n",
    "                        , 'Disponibilité'\n",
    "                        , 'Number of toilets:'\n",
    "                        , 'detail_responsive#surface_usable'\n",
    "                        , 'Wohnfläche'\n",
    "                        , 'detail_responsive#surface_property'\n",
    "                        , 'Verfügbarkeit'\n",
    "                        , 'Superficie del terreno'\n",
    "                        , 'Surface utile'\n",
    "                        , 'Étage'\n",
    "                        , 'Surface du terrain'\n",
    "                        , 'Superficie abitabile'\n",
    "                        , 'Disponibilità'\n",
    "                        , 'Nutzfläche'\n",
    "                        , 'Grundstücksfläche'\n",
    "                        , 'Minimum floor space:'\n",
    "                        , 'Superficie utile'\n",
    "                        , 'Piano'\n",
    "                        ]\n",
    "df_wohung_flächenattr = df[columns_wohnung_attr]\n",
    "df_wohung_flächenattr"
   ],
   "metadata": {
    "collapsed": false,
    "ExecuteTime": {
     "end_time": "2024-09-24T14:13:25.263030700Z",
     "start_time": "2024-09-24T14:13:25.201991300Z"
    }
   },
   "id": "52a9d9110a704bc7",
   "execution_count": 52
  },
  {
   "cell_type": "code",
   "outputs": [
    {
     "data": {
      "text/plain": "type                                      0\ntype_unified                              0\nrooms                                   697\nSpace extracted                        1301\nLiving_area_unified                    1301\nAvailability_merged                    9552\nAvailability                           9784\nLiving_space_merged                   10427\nLiving space                          10649\nFloor                                 11770\naddress_s                             12340\nspace                                 12340\nspace_cleaned                         12340\nSurface living:                       12340\nNo. of rooms:                         12598\nPlot_area_unified                     13991\nYear built:                           14533\nFloor space                           18853\nFloor_space_merged                    18796\nLand area:                            18197\nPlot area                             17260\nPlot_area_merged                      17171\nFloor_unified                         16413\nFloor_merged                          16320\ndetail_responsive#floor               21268\nRoom height:                          21190\ndetail_responsive#surface_living      21068\ndetail_responsive#municipality        21048\ndetail_responsive#available_from      21040\nNumber of apartments:                 20562\nVolume:                               19934\nLast refurbishment:                   19209\nNumber of floors:                     19067\nFloor space:                          18706\nSurface habitable                     21405\nStockwerk                             21407\nDisponibilité                         21403\nNumber of toilets:                    21393\ndetail_responsive#surface_usable      21362\nWohnfläche                            21331\ndetail_responsive#surface_property    21325\nVerfügbarkeit                         21324\nSuperficie del terreno                21456\nSurface utile                         21453\nÉtage                                 21442\nSurface du terrain                    21441\nSuperficie abitabile                  21440\nDisponibilità                         21439\nNutzfläche                            21428\nGrundstücksfläche                     21412\nMinimum floor space:                  21464\nSuperficie utile                      21460\nPiano                                 21456\ndtype: int64"
     },
     "execution_count": 55,
     "metadata": {},
     "output_type": "execute_result"
    }
   ],
   "source": [
    "# count nan values per column\n",
    "nans_wohnung = df_wohung_flächenattr.isna().sum()\n",
    "nans_wohnung"
   ],
   "metadata": {
    "collapsed": false,
    "ExecuteTime": {
     "end_time": "2024-09-24T14:16:12.613243500Z",
     "start_time": "2024-09-24T14:16:12.569599400Z"
    }
   },
   "id": "5cb1be77b53a6b9b",
   "execution_count": 55
  },
  {
   "cell_type": "code",
   "outputs": [
    {
     "data": {
      "text/plain": "      Space extracted Living_area_unified Living_space_merged Living space  \\\n10690             NaN                 NaN                 NaN          NaN   \n3906            140.0               140.0              140 m²       140 m²   \n17882            68.0                68.0                 NaN          NaN   \n5021             45.0                45.0               45 m²        45 m²   \n20194            45.0                45.0                 NaN          NaN   \n...               ...                 ...                 ...          ...   \n16848           782.0               782.0                 NaN          NaN   \n11005          1200.0              1200.0             1200 m²          NaN   \n13958           900.0               900.0                 NaN          NaN   \n10657             NaN                 NaN                 NaN          NaN   \n16849          1500.0              1500.0                 NaN          NaN   \n\n         space space_cleaned Surface living: Plot_area_unified Floor space  \\\n10690      NaN           NaN             NaN               NaN         NaN   \n3906       NaN           NaN             NaN               NaN         NaN   \n17882     68m2          68.0           68 m2               NaN         NaN   \n5021       NaN           NaN             NaN               NaN         NaN   \n20194     45m2          45.0           45 m2               NaN         NaN   \n...        ...           ...             ...               ...         ...   \n16848    782m2         782.0          782 m2            4713.0         NaN   \n11005      NaN           NaN             NaN               NaN         NaN   \n13958    900m2         900.0          900 m2               NaN         NaN   \n10657      NaN           NaN             NaN            5000.0         NaN   \n16849  1,500m2        1500.0         1500 m2           10091.0         NaN   \n\n      Floor_space_merged  ... Wohnfläche detail_responsive#surface_property  \\\n10690                NaN  ...        NaN                                NaN   \n3906                 NaN  ...        NaN                                NaN   \n17882                NaN  ...        NaN                                NaN   \n5021                 NaN  ...        NaN                                NaN   \n20194                NaN  ...        NaN                                NaN   \n...                  ...  ...        ...                                ...   \n16848                NaN  ...        NaN                                NaN   \n11005                NaN  ...    1200 m²                                NaN   \n13958                NaN  ...        NaN                                NaN   \n10657                NaN  ...        NaN                                NaN   \n16849                NaN  ...        NaN                                NaN   \n\n      Superficie del terreno Surface utile Surface du terrain  \\\n10690                    NaN           NaN                NaN   \n3906                     NaN           NaN                NaN   \n17882                    NaN           NaN                NaN   \n5021                     NaN           NaN                NaN   \n20194                    NaN           NaN                NaN   \n...                      ...           ...                ...   \n16848                    NaN           NaN                NaN   \n11005                    NaN           NaN                NaN   \n13958                    NaN           NaN                NaN   \n10657                    NaN           NaN                NaN   \n16849                    NaN           NaN                NaN   \n\n      Superficie abitabile Nutzfläche Grundstücksfläche Minimum floor space:  \\\n10690                  NaN        NaN               NaN                  NaN   \n3906                   NaN        NaN               NaN                  NaN   \n17882                  NaN        NaN               NaN                  NaN   \n5021                   NaN        NaN               NaN                  NaN   \n20194                  NaN        NaN               NaN                  NaN   \n...                    ...        ...               ...                  ...   \n16848                  NaN        NaN               NaN                  NaN   \n11005                  NaN        NaN           8071 m²                  NaN   \n13958                  NaN        NaN               NaN                  NaN   \n10657                  NaN        NaN               NaN                  NaN   \n16849                  NaN        NaN               NaN                  NaN   \n\n      Superficie utile  \n10690              NaN  \n3906               NaN  \n17882              NaN  \n5021               NaN  \n20194              NaN  \n...                ...  \n16848              NaN  \n11005              NaN  \n13958              NaN  \n10657              NaN  \n16849              NaN  \n\n[21466 rows x 28 columns]",
      "text/html": "<div>\n<style scoped>\n    .dataframe tbody tr th:only-of-type {\n        vertical-align: middle;\n    }\n\n    .dataframe tbody tr th {\n        vertical-align: top;\n    }\n\n    .dataframe thead th {\n        text-align: right;\n    }\n</style>\n<table border=\"1\" class=\"dataframe\">\n  <thead>\n    <tr style=\"text-align: right;\">\n      <th></th>\n      <th>Space extracted</th>\n      <th>Living_area_unified</th>\n      <th>Living_space_merged</th>\n      <th>Living space</th>\n      <th>space</th>\n      <th>space_cleaned</th>\n      <th>Surface living:</th>\n      <th>Plot_area_unified</th>\n      <th>Floor space</th>\n      <th>Floor_space_merged</th>\n      <th>...</th>\n      <th>Wohnfläche</th>\n      <th>detail_responsive#surface_property</th>\n      <th>Superficie del terreno</th>\n      <th>Surface utile</th>\n      <th>Surface du terrain</th>\n      <th>Superficie abitabile</th>\n      <th>Nutzfläche</th>\n      <th>Grundstücksfläche</th>\n      <th>Minimum floor space:</th>\n      <th>Superficie utile</th>\n    </tr>\n  </thead>\n  <tbody>\n    <tr>\n      <th>10690</th>\n      <td>NaN</td>\n      <td>NaN</td>\n      <td>NaN</td>\n      <td>NaN</td>\n      <td>NaN</td>\n      <td>NaN</td>\n      <td>NaN</td>\n      <td>NaN</td>\n      <td>NaN</td>\n      <td>NaN</td>\n      <td>...</td>\n      <td>NaN</td>\n      <td>NaN</td>\n      <td>NaN</td>\n      <td>NaN</td>\n      <td>NaN</td>\n      <td>NaN</td>\n      <td>NaN</td>\n      <td>NaN</td>\n      <td>NaN</td>\n      <td>NaN</td>\n    </tr>\n    <tr>\n      <th>3906</th>\n      <td>140.0</td>\n      <td>140.0</td>\n      <td>140 m²</td>\n      <td>140 m²</td>\n      <td>NaN</td>\n      <td>NaN</td>\n      <td>NaN</td>\n      <td>NaN</td>\n      <td>NaN</td>\n      <td>NaN</td>\n      <td>...</td>\n      <td>NaN</td>\n      <td>NaN</td>\n      <td>NaN</td>\n      <td>NaN</td>\n      <td>NaN</td>\n      <td>NaN</td>\n      <td>NaN</td>\n      <td>NaN</td>\n      <td>NaN</td>\n      <td>NaN</td>\n    </tr>\n    <tr>\n      <th>17882</th>\n      <td>68.0</td>\n      <td>68.0</td>\n      <td>NaN</td>\n      <td>NaN</td>\n      <td>68m2</td>\n      <td>68.0</td>\n      <td>68 m2</td>\n      <td>NaN</td>\n      <td>NaN</td>\n      <td>NaN</td>\n      <td>...</td>\n      <td>NaN</td>\n      <td>NaN</td>\n      <td>NaN</td>\n      <td>NaN</td>\n      <td>NaN</td>\n      <td>NaN</td>\n      <td>NaN</td>\n      <td>NaN</td>\n      <td>NaN</td>\n      <td>NaN</td>\n    </tr>\n    <tr>\n      <th>5021</th>\n      <td>45.0</td>\n      <td>45.0</td>\n      <td>45 m²</td>\n      <td>45 m²</td>\n      <td>NaN</td>\n      <td>NaN</td>\n      <td>NaN</td>\n      <td>NaN</td>\n      <td>NaN</td>\n      <td>NaN</td>\n      <td>...</td>\n      <td>NaN</td>\n      <td>NaN</td>\n      <td>NaN</td>\n      <td>NaN</td>\n      <td>NaN</td>\n      <td>NaN</td>\n      <td>NaN</td>\n      <td>NaN</td>\n      <td>NaN</td>\n      <td>NaN</td>\n    </tr>\n    <tr>\n      <th>20194</th>\n      <td>45.0</td>\n      <td>45.0</td>\n      <td>NaN</td>\n      <td>NaN</td>\n      <td>45m2</td>\n      <td>45.0</td>\n      <td>45 m2</td>\n      <td>NaN</td>\n      <td>NaN</td>\n      <td>NaN</td>\n      <td>...</td>\n      <td>NaN</td>\n      <td>NaN</td>\n      <td>NaN</td>\n      <td>NaN</td>\n      <td>NaN</td>\n      <td>NaN</td>\n      <td>NaN</td>\n      <td>NaN</td>\n      <td>NaN</td>\n      <td>NaN</td>\n    </tr>\n    <tr>\n      <th>...</th>\n      <td>...</td>\n      <td>...</td>\n      <td>...</td>\n      <td>...</td>\n      <td>...</td>\n      <td>...</td>\n      <td>...</td>\n      <td>...</td>\n      <td>...</td>\n      <td>...</td>\n      <td>...</td>\n      <td>...</td>\n      <td>...</td>\n      <td>...</td>\n      <td>...</td>\n      <td>...</td>\n      <td>...</td>\n      <td>...</td>\n      <td>...</td>\n      <td>...</td>\n      <td>...</td>\n    </tr>\n    <tr>\n      <th>16848</th>\n      <td>782.0</td>\n      <td>782.0</td>\n      <td>NaN</td>\n      <td>NaN</td>\n      <td>782m2</td>\n      <td>782.0</td>\n      <td>782 m2</td>\n      <td>4713.0</td>\n      <td>NaN</td>\n      <td>NaN</td>\n      <td>...</td>\n      <td>NaN</td>\n      <td>NaN</td>\n      <td>NaN</td>\n      <td>NaN</td>\n      <td>NaN</td>\n      <td>NaN</td>\n      <td>NaN</td>\n      <td>NaN</td>\n      <td>NaN</td>\n      <td>NaN</td>\n    </tr>\n    <tr>\n      <th>11005</th>\n      <td>1200.0</td>\n      <td>1200.0</td>\n      <td>1200 m²</td>\n      <td>NaN</td>\n      <td>NaN</td>\n      <td>NaN</td>\n      <td>NaN</td>\n      <td>NaN</td>\n      <td>NaN</td>\n      <td>NaN</td>\n      <td>...</td>\n      <td>1200 m²</td>\n      <td>NaN</td>\n      <td>NaN</td>\n      <td>NaN</td>\n      <td>NaN</td>\n      <td>NaN</td>\n      <td>NaN</td>\n      <td>8071 m²</td>\n      <td>NaN</td>\n      <td>NaN</td>\n    </tr>\n    <tr>\n      <th>13958</th>\n      <td>900.0</td>\n      <td>900.0</td>\n      <td>NaN</td>\n      <td>NaN</td>\n      <td>900m2</td>\n      <td>900.0</td>\n      <td>900 m2</td>\n      <td>NaN</td>\n      <td>NaN</td>\n      <td>NaN</td>\n      <td>...</td>\n      <td>NaN</td>\n      <td>NaN</td>\n      <td>NaN</td>\n      <td>NaN</td>\n      <td>NaN</td>\n      <td>NaN</td>\n      <td>NaN</td>\n      <td>NaN</td>\n      <td>NaN</td>\n      <td>NaN</td>\n    </tr>\n    <tr>\n      <th>10657</th>\n      <td>NaN</td>\n      <td>NaN</td>\n      <td>NaN</td>\n      <td>NaN</td>\n      <td>NaN</td>\n      <td>NaN</td>\n      <td>NaN</td>\n      <td>5000.0</td>\n      <td>NaN</td>\n      <td>NaN</td>\n      <td>...</td>\n      <td>NaN</td>\n      <td>NaN</td>\n      <td>NaN</td>\n      <td>NaN</td>\n      <td>NaN</td>\n      <td>NaN</td>\n      <td>NaN</td>\n      <td>NaN</td>\n      <td>NaN</td>\n      <td>NaN</td>\n    </tr>\n    <tr>\n      <th>16849</th>\n      <td>1500.0</td>\n      <td>1500.0</td>\n      <td>NaN</td>\n      <td>NaN</td>\n      <td>1,500m2</td>\n      <td>1500.0</td>\n      <td>1500 m2</td>\n      <td>10091.0</td>\n      <td>NaN</td>\n      <td>NaN</td>\n      <td>...</td>\n      <td>NaN</td>\n      <td>NaN</td>\n      <td>NaN</td>\n      <td>NaN</td>\n      <td>NaN</td>\n      <td>NaN</td>\n      <td>NaN</td>\n      <td>NaN</td>\n      <td>NaN</td>\n      <td>NaN</td>\n    </tr>\n  </tbody>\n</table>\n<p>21466 rows × 28 columns</p>\n</div>"
     },
     "execution_count": 57,
     "metadata": {},
     "output_type": "execute_result"
    }
   ],
   "source": [
    "columns_duplicated_space_attr = [\n",
    "                        'Space extracted'\n",
    "                        , 'Living_area_unified'\n",
    "                        , 'Living_space_merged'\n",
    "                        , 'Living space'\n",
    "                        , 'space'\n",
    "                        , 'space_cleaned'\n",
    "                        , 'Surface living:'\n",
    "                        , 'Plot_area_unified'\n",
    "                        , 'Floor space'\n",
    "                        , 'Floor_space_merged'\n",
    "                        , 'Land area:'\n",
    "                        , 'Plot area'\n",
    "                        , 'Plot_area_merged'\n",
    "                        , 'detail_responsive#surface_living'\n",
    "                        , 'Volume:'\n",
    "                        , 'Floor space:'\n",
    "                        , 'Surface habitable'\n",
    "                        , 'detail_responsive#surface_usable'\n",
    "                        , 'Wohnfläche'\n",
    "                        , 'detail_responsive#surface_property'\n",
    "                        , 'Superficie del terreno'\n",
    "                        , 'Surface utile'\n",
    "                        , 'Surface du terrain'\n",
    "                        , 'Superficie abitabile'\n",
    "                        , 'Nutzfläche'\n",
    "                        , 'Grundstücksfläche'\n",
    "                        , 'Minimum floor space:'\n",
    "                        , 'Superficie utile'\n",
    "]\n",
    "df_wohung_flächenattr = df[columns_duplicated_space_attr]\n",
    "df_wohung_flächenattr"
   ],
   "metadata": {
    "collapsed": false,
    "ExecuteTime": {
     "end_time": "2024-09-24T14:21:43.535440600Z",
     "start_time": "2024-09-24T14:21:43.488296800Z"
    }
   },
   "id": "c7b6e2179e07ad61",
   "execution_count": 57
  },
  {
   "cell_type": "code",
   "outputs": [
    {
     "data": {
      "text/plain": "Space extracted                        1301\nLiving_area_unified                    1301\nLiving_space_merged                   10427\nLiving space                          10649\nspace                                 12340\nspace_cleaned                         12340\nSurface living:                       12340\nPlot_area_unified                     13991\nFloor space                           18853\nFloor_space_merged                    18796\nLand area:                            18197\nPlot area                             17260\nPlot_area_merged                      17171\ndetail_responsive#surface_living      21068\nVolume:                               19934\nFloor space:                          18706\nSurface habitable                     21405\ndetail_responsive#surface_usable      21362\nWohnfläche                            21331\ndetail_responsive#surface_property    21325\nSuperficie del terreno                21456\nSurface utile                         21453\nSurface du terrain                    21441\nSuperficie abitabile                  21440\nNutzfläche                            21428\nGrundstücksfläche                     21412\nMinimum floor space:                  21464\nSuperficie utile                      21460\ndtype: int64"
     },
     "execution_count": 58,
     "metadata": {},
     "output_type": "execute_result"
    }
   ],
   "source": [
    "nans_wohnung = df_wohung_flächenattr.isna().sum()\n",
    "nans_wohnung"
   ],
   "metadata": {
    "collapsed": false,
    "ExecuteTime": {
     "end_time": "2024-09-24T14:26:16.144382Z",
     "start_time": "2024-09-24T14:26:16.129839600Z"
    }
   },
   "id": "c5abf5b7a36276bc",
   "execution_count": 58
  },
  {
   "cell_type": "code",
   "outputs": [],
   "source": [],
   "metadata": {
    "collapsed": false
   },
   "id": "262b4c2376c9b7b6"
  }
 ],
 "metadata": {
  "kernelspec": {
   "display_name": "Python 3",
   "language": "python",
   "name": "python3"
  },
  "language_info": {
   "codemirror_mode": {
    "name": "ipython",
    "version": 2
   },
   "file_extension": ".py",
   "mimetype": "text/x-python",
   "name": "python",
   "nbconvert_exporter": "python",
   "pygments_lexer": "ipython2",
   "version": "2.7.6"
  }
 },
 "nbformat": 4,
 "nbformat_minor": 5
}

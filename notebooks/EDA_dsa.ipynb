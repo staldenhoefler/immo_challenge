{
 "cells": [
  {
   "cell_type": "code",
   "execution_count": 1,
   "id": "initial_id",
   "metadata": {
    "collapsed": true,
    "ExecuteTime": {
     "end_time": "2024-10-02T11:10:45.062546900Z",
     "start_time": "2024-10-02T11:10:41.195011Z"
    }
   },
   "outputs": [],
   "source": [
    "import pandas as pd\n",
    "import numpy as np\n",
    "import matplotlib.pyplot as plt"
   ]
  },
  {
   "cell_type": "code",
   "outputs": [
    {
     "name": "stdout",
     "output_type": "stream",
     "text": [
      "(22481, 134)\n"
     ]
    }
   ],
   "source": [
    "df = pd.read_csv('../data/immo_data_202208_v2.csv', sep=',', skip_blank_lines=True, dtype=str)\n",
    "print(df.shape)"
   ],
   "metadata": {
    "collapsed": false,
    "ExecuteTime": {
     "end_time": "2024-10-02T11:10:47.996072200Z",
     "start_time": "2024-10-02T11:10:45.065546800Z"
    }
   },
   "id": "6291ed2f9c4f4b0a",
   "execution_count": 2
  },
  {
   "cell_type": "code",
   "outputs": [
    {
     "data": {
      "text/plain": "  Unnamed: 0.1 Unnamed: 0 Municipality Living space Plot area Floor space  \\\n0            0          0   Biberstein       100 m²       NaN         NaN   \n1            1          1   Biberstein       156 m²    222 m²      242 m²   \n2            2          2          NaN          NaN       NaN         NaN   \n3            3          3   Biberstein       154 m²    370 m²      257 m²   \n4            4          4     Küttigen       142 m²       NaN         NaN   \n\n  Availability                               location  \\\n0   On request                    5023 Biberstein, AG   \n1   On request   Buhldenstrasse 8d5023 Biberstein, AG   \n2          NaN                       5022 Rombach, AG   \n3   On request  Buhaldenstrasse 8A5023 Biberstein, AG   \n4   On request                       5022 Rombach, AG   \n\n                                         description  \\\n0  3.5 rooms, 100 m²«Luxuriöse Attika-Wohnung mit...   \n1  4.5 rooms, 156 m²«Stilvolle Liegenschaft - ruh...   \n2  2.5 rooms, 93 m²«Moderne, lichtdurchflutete At...   \n3  4.5 rooms, 154 m²«AgentSelly - Luxuriöses Eckh...   \n4  4.5 rooms, 142 m²«MIT GARTENSITZPLATZ UND VIEL...   \n\n                                detailed_description  ... features  \\\n0  DescriptionLuxuriöse Attika-Wohnung direkt an ...  ...      NaN   \n1  DescriptionStilvolle Liegenschaft an ruhiger L...  ...      NaN   \n2  detail_responsive#description_title2,5 Zimmerw...  ...      NaN   \n3  DescriptionDieses äusserst grosszügige Minergi...  ...      NaN   \n4  DescriptionAus ehemals zwei Wohnungen wurde ei...  ...      NaN   \n\n  description_detailed Floor space: Number of floors: Volume:     plz  \\\n0                  NaN          NaN               NaN     NaN  5023.0   \n1                  NaN          NaN               NaN     NaN  5023.0   \n2                  NaN          NaN               NaN     NaN  5022.0   \n3                  NaN          NaN               NaN     NaN  5023.0   \n4                  NaN          NaN               NaN     NaN  5022.0   \n\n  Number of toilets: Gross yield: Minimum floor space: space_cleaned  \n0                NaN          NaN                  NaN           NaN  \n1                NaN          NaN                  NaN           NaN  \n2                NaN          NaN                  NaN           NaN  \n3                NaN          NaN                  NaN           NaN  \n4                NaN          NaN                  NaN           NaN  \n\n[5 rows x 134 columns]",
      "text/html": "<div>\n<style scoped>\n    .dataframe tbody tr th:only-of-type {\n        vertical-align: middle;\n    }\n\n    .dataframe tbody tr th {\n        vertical-align: top;\n    }\n\n    .dataframe thead th {\n        text-align: right;\n    }\n</style>\n<table border=\"1\" class=\"dataframe\">\n  <thead>\n    <tr style=\"text-align: right;\">\n      <th></th>\n      <th>Unnamed: 0.1</th>\n      <th>Unnamed: 0</th>\n      <th>Municipality</th>\n      <th>Living space</th>\n      <th>Plot area</th>\n      <th>Floor space</th>\n      <th>Availability</th>\n      <th>location</th>\n      <th>description</th>\n      <th>detailed_description</th>\n      <th>...</th>\n      <th>features</th>\n      <th>description_detailed</th>\n      <th>Floor space:</th>\n      <th>Number of floors:</th>\n      <th>Volume:</th>\n      <th>plz</th>\n      <th>Number of toilets:</th>\n      <th>Gross yield:</th>\n      <th>Minimum floor space:</th>\n      <th>space_cleaned</th>\n    </tr>\n  </thead>\n  <tbody>\n    <tr>\n      <th>0</th>\n      <td>0</td>\n      <td>0</td>\n      <td>Biberstein</td>\n      <td>100 m²</td>\n      <td>NaN</td>\n      <td>NaN</td>\n      <td>On request</td>\n      <td>5023 Biberstein, AG</td>\n      <td>3.5 rooms, 100 m²«Luxuriöse Attika-Wohnung mit...</td>\n      <td>DescriptionLuxuriöse Attika-Wohnung direkt an ...</td>\n      <td>...</td>\n      <td>NaN</td>\n      <td>NaN</td>\n      <td>NaN</td>\n      <td>NaN</td>\n      <td>NaN</td>\n      <td>5023.0</td>\n      <td>NaN</td>\n      <td>NaN</td>\n      <td>NaN</td>\n      <td>NaN</td>\n    </tr>\n    <tr>\n      <th>1</th>\n      <td>1</td>\n      <td>1</td>\n      <td>Biberstein</td>\n      <td>156 m²</td>\n      <td>222 m²</td>\n      <td>242 m²</td>\n      <td>On request</td>\n      <td>Buhldenstrasse 8d5023 Biberstein, AG</td>\n      <td>4.5 rooms, 156 m²«Stilvolle Liegenschaft - ruh...</td>\n      <td>DescriptionStilvolle Liegenschaft an ruhiger L...</td>\n      <td>...</td>\n      <td>NaN</td>\n      <td>NaN</td>\n      <td>NaN</td>\n      <td>NaN</td>\n      <td>NaN</td>\n      <td>5023.0</td>\n      <td>NaN</td>\n      <td>NaN</td>\n      <td>NaN</td>\n      <td>NaN</td>\n    </tr>\n    <tr>\n      <th>2</th>\n      <td>2</td>\n      <td>2</td>\n      <td>NaN</td>\n      <td>NaN</td>\n      <td>NaN</td>\n      <td>NaN</td>\n      <td>NaN</td>\n      <td>5022 Rombach, AG</td>\n      <td>2.5 rooms, 93 m²«Moderne, lichtdurchflutete At...</td>\n      <td>detail_responsive#description_title2,5 Zimmerw...</td>\n      <td>...</td>\n      <td>NaN</td>\n      <td>NaN</td>\n      <td>NaN</td>\n      <td>NaN</td>\n      <td>NaN</td>\n      <td>5022.0</td>\n      <td>NaN</td>\n      <td>NaN</td>\n      <td>NaN</td>\n      <td>NaN</td>\n    </tr>\n    <tr>\n      <th>3</th>\n      <td>3</td>\n      <td>3</td>\n      <td>Biberstein</td>\n      <td>154 m²</td>\n      <td>370 m²</td>\n      <td>257 m²</td>\n      <td>On request</td>\n      <td>Buhaldenstrasse 8A5023 Biberstein, AG</td>\n      <td>4.5 rooms, 154 m²«AgentSelly - Luxuriöses Eckh...</td>\n      <td>DescriptionDieses äusserst grosszügige Minergi...</td>\n      <td>...</td>\n      <td>NaN</td>\n      <td>NaN</td>\n      <td>NaN</td>\n      <td>NaN</td>\n      <td>NaN</td>\n      <td>5023.0</td>\n      <td>NaN</td>\n      <td>NaN</td>\n      <td>NaN</td>\n      <td>NaN</td>\n    </tr>\n    <tr>\n      <th>4</th>\n      <td>4</td>\n      <td>4</td>\n      <td>Küttigen</td>\n      <td>142 m²</td>\n      <td>NaN</td>\n      <td>NaN</td>\n      <td>On request</td>\n      <td>5022 Rombach, AG</td>\n      <td>4.5 rooms, 142 m²«MIT GARTENSITZPLATZ UND VIEL...</td>\n      <td>DescriptionAus ehemals zwei Wohnungen wurde ei...</td>\n      <td>...</td>\n      <td>NaN</td>\n      <td>NaN</td>\n      <td>NaN</td>\n      <td>NaN</td>\n      <td>NaN</td>\n      <td>5022.0</td>\n      <td>NaN</td>\n      <td>NaN</td>\n      <td>NaN</td>\n      <td>NaN</td>\n    </tr>\n  </tbody>\n</table>\n<p>5 rows × 134 columns</p>\n</div>"
     },
     "execution_count": 3,
     "metadata": {},
     "output_type": "execute_result"
    }
   ],
   "source": [
    "df.head()"
   ],
   "metadata": {
    "collapsed": false,
    "ExecuteTime": {
     "end_time": "2024-10-02T11:10:48.049614300Z",
     "start_time": "2024-10-02T11:10:47.982037600Z"
    }
   },
   "id": "1cc09162d8f90a59",
   "execution_count": 3
  },
  {
   "cell_type": "code",
   "outputs": [
    {
     "data": {
      "text/plain": "      Unnamed: 0.1 Unnamed: 0    Municipality Living space Plot area  \\\n22476        22476      29298        Buchs SG          NaN       NaN   \n22477        22477      29300             Wil          NaN       NaN   \n22478        22478      29301          Wil SG          NaN       NaN   \n22479        22479      29302       Matzingen          NaN       NaN   \n22480        22480      29303    Lichtensteig          NaN       NaN   \n\n      Floor space Availability                              location  \\\n22476         NaN          NaN  Altendorferstrasse 53, 9470 Buchs SG   \n22477         NaN          NaN       Fürstenlandstrasse 69, 9500 Wil   \n22478         NaN          NaN                           9500 Wil SG   \n22479         NaN          NaN      Haldenstrasse 30, 9548 Matzingen   \n22480         NaN          NaN         Neugasse 1, 9620 Lichtensteig   \n\n      description                               detailed_description  ...  \\\n22476         NaN  Description\\n\"Hausteil mit verschieden Nutzung...  ...   \n22477         NaN  Description\\n\"J'ADORE - Exklusives Wohnen in W...  ...   \n22478         NaN  Description\\n\"Einmalige Gelegenheit an sehr gu...  ...   \n22479         NaN  Description\\n\"LA VIE - Exklusives Wohnen in Ma...  ...   \n22480         NaN  Description\\n\"Historisches Altstadthaus im \"St...  ...   \n\n                                                features  \\\n22476  Pets allowed\\tCable TV\\tChild-friendly\\tParkin...   \n22477  Balcony / Terrace\\tWashing machine\\tView\\tWhee...   \n22478   Balcony / Terrace\\tChild-friendly\\tParking space   \n22479  Balcony / Terrace\\tView\\tWheelchair access\\tQu...   \n22480  Balcony / Terrace\\tFireplace\\tQuiet neighborho...   \n\n                                    description_detailed Floor space:  \\\n22476  Description\\n\"Hausteil mit verschieden Nutzung...          NaN   \n22477  Description\\n\"J'ADORE - Exklusives Wohnen in W...          NaN   \n22478  Description\\n\"Einmalige Gelegenheit an sehr gu...          NaN   \n22479  Description\\n\"LA VIE - Exklusives Wohnen in Ma...          NaN   \n22480  Description\\n\"Historisches Altstadthaus im \"St...          NaN   \n\n      Number of floors:  Volume:     plz Number of toilets: Gross yield:  \\\n22476               NaN   496 m3  9470.0                NaN          NaN   \n22477               3.0      NaN  9500.0                NaN          NaN   \n22478               3.0   706 m3  9500.0                NaN          NaN   \n22479               NaN      NaN  9548.0                NaN          NaN   \n22480               3.0  1395 m3  9620.0                NaN          NaN   \n\n      Minimum floor space: space_cleaned  \n22476                  NaN         102.0  \n22477                  NaN         180.0  \n22478                  NaN         167.0  \n22479                  NaN         175.0  \n22480                  NaN         154.0  \n\n[5 rows x 134 columns]",
      "text/html": "<div>\n<style scoped>\n    .dataframe tbody tr th:only-of-type {\n        vertical-align: middle;\n    }\n\n    .dataframe tbody tr th {\n        vertical-align: top;\n    }\n\n    .dataframe thead th {\n        text-align: right;\n    }\n</style>\n<table border=\"1\" class=\"dataframe\">\n  <thead>\n    <tr style=\"text-align: right;\">\n      <th></th>\n      <th>Unnamed: 0.1</th>\n      <th>Unnamed: 0</th>\n      <th>Municipality</th>\n      <th>Living space</th>\n      <th>Plot area</th>\n      <th>Floor space</th>\n      <th>Availability</th>\n      <th>location</th>\n      <th>description</th>\n      <th>detailed_description</th>\n      <th>...</th>\n      <th>features</th>\n      <th>description_detailed</th>\n      <th>Floor space:</th>\n      <th>Number of floors:</th>\n      <th>Volume:</th>\n      <th>plz</th>\n      <th>Number of toilets:</th>\n      <th>Gross yield:</th>\n      <th>Minimum floor space:</th>\n      <th>space_cleaned</th>\n    </tr>\n  </thead>\n  <tbody>\n    <tr>\n      <th>22476</th>\n      <td>22476</td>\n      <td>29298</td>\n      <td>Buchs SG</td>\n      <td>NaN</td>\n      <td>NaN</td>\n      <td>NaN</td>\n      <td>NaN</td>\n      <td>Altendorferstrasse 53, 9470 Buchs SG</td>\n      <td>NaN</td>\n      <td>Description\\n\"Hausteil mit verschieden Nutzung...</td>\n      <td>...</td>\n      <td>Pets allowed\\tCable TV\\tChild-friendly\\tParkin...</td>\n      <td>Description\\n\"Hausteil mit verschieden Nutzung...</td>\n      <td>NaN</td>\n      <td>NaN</td>\n      <td>496 m3</td>\n      <td>9470.0</td>\n      <td>NaN</td>\n      <td>NaN</td>\n      <td>NaN</td>\n      <td>102.0</td>\n    </tr>\n    <tr>\n      <th>22477</th>\n      <td>22477</td>\n      <td>29300</td>\n      <td>Wil</td>\n      <td>NaN</td>\n      <td>NaN</td>\n      <td>NaN</td>\n      <td>NaN</td>\n      <td>Fürstenlandstrasse 69, 9500 Wil</td>\n      <td>NaN</td>\n      <td>Description\\n\"J'ADORE - Exklusives Wohnen in W...</td>\n      <td>...</td>\n      <td>Balcony / Terrace\\tWashing machine\\tView\\tWhee...</td>\n      <td>Description\\n\"J'ADORE - Exklusives Wohnen in W...</td>\n      <td>NaN</td>\n      <td>3.0</td>\n      <td>NaN</td>\n      <td>9500.0</td>\n      <td>NaN</td>\n      <td>NaN</td>\n      <td>NaN</td>\n      <td>180.0</td>\n    </tr>\n    <tr>\n      <th>22478</th>\n      <td>22478</td>\n      <td>29301</td>\n      <td>Wil SG</td>\n      <td>NaN</td>\n      <td>NaN</td>\n      <td>NaN</td>\n      <td>NaN</td>\n      <td>9500 Wil SG</td>\n      <td>NaN</td>\n      <td>Description\\n\"Einmalige Gelegenheit an sehr gu...</td>\n      <td>...</td>\n      <td>Balcony / Terrace\\tChild-friendly\\tParking space</td>\n      <td>Description\\n\"Einmalige Gelegenheit an sehr gu...</td>\n      <td>NaN</td>\n      <td>3.0</td>\n      <td>706 m3</td>\n      <td>9500.0</td>\n      <td>NaN</td>\n      <td>NaN</td>\n      <td>NaN</td>\n      <td>167.0</td>\n    </tr>\n    <tr>\n      <th>22479</th>\n      <td>22479</td>\n      <td>29302</td>\n      <td>Matzingen</td>\n      <td>NaN</td>\n      <td>NaN</td>\n      <td>NaN</td>\n      <td>NaN</td>\n      <td>Haldenstrasse 30, 9548 Matzingen</td>\n      <td>NaN</td>\n      <td>Description\\n\"LA VIE - Exklusives Wohnen in Ma...</td>\n      <td>...</td>\n      <td>Balcony / Terrace\\tView\\tWheelchair access\\tQu...</td>\n      <td>Description\\n\"LA VIE - Exklusives Wohnen in Ma...</td>\n      <td>NaN</td>\n      <td>NaN</td>\n      <td>NaN</td>\n      <td>9548.0</td>\n      <td>NaN</td>\n      <td>NaN</td>\n      <td>NaN</td>\n      <td>175.0</td>\n    </tr>\n    <tr>\n      <th>22480</th>\n      <td>22480</td>\n      <td>29303</td>\n      <td>Lichtensteig</td>\n      <td>NaN</td>\n      <td>NaN</td>\n      <td>NaN</td>\n      <td>NaN</td>\n      <td>Neugasse 1, 9620 Lichtensteig</td>\n      <td>NaN</td>\n      <td>Description\\n\"Historisches Altstadthaus im \"St...</td>\n      <td>...</td>\n      <td>Balcony / Terrace\\tFireplace\\tQuiet neighborho...</td>\n      <td>Description\\n\"Historisches Altstadthaus im \"St...</td>\n      <td>NaN</td>\n      <td>3.0</td>\n      <td>1395 m3</td>\n      <td>9620.0</td>\n      <td>NaN</td>\n      <td>NaN</td>\n      <td>NaN</td>\n      <td>154.0</td>\n    </tr>\n  </tbody>\n</table>\n<p>5 rows × 134 columns</p>\n</div>"
     },
     "execution_count": 4,
     "metadata": {},
     "output_type": "execute_result"
    }
   ],
   "source": [
    "df.tail()"
   ],
   "metadata": {
    "collapsed": false,
    "ExecuteTime": {
     "end_time": "2024-10-02T11:10:48.122027600Z",
     "start_time": "2024-10-02T11:10:48.022779600Z"
    }
   },
   "id": "c71f18b3c9c1badf",
   "execution_count": 4
  },
  {
   "cell_type": "code",
   "outputs": [
    {
     "data": {
      "text/plain": "                        count missing [%] missing absolute\nMinimum floor space:        2   99.991104            22479\nSuperficie utile            6   99.973311            22475\nGross return                6   99.973311            22475\nPiano                      10   99.955518            22471\nSuperficie del terreno     11    99.95107            22470\n...                       ...         ...              ...\nRiversAndLakesM         22481         0.0                0\nRiversAndLakesL         22481         0.0                0\nPopulationDensityS      22481         0.0                0\nZip                     22481         0.0                0\nPopulationDensityL      22481         0.0                0\n\n[134 rows x 3 columns]",
      "text/html": "<div>\n<style scoped>\n    .dataframe tbody tr th:only-of-type {\n        vertical-align: middle;\n    }\n\n    .dataframe tbody tr th {\n        vertical-align: top;\n    }\n\n    .dataframe thead th {\n        text-align: right;\n    }\n</style>\n<table border=\"1\" class=\"dataframe\">\n  <thead>\n    <tr style=\"text-align: right;\">\n      <th></th>\n      <th>count</th>\n      <th>missing [%]</th>\n      <th>missing absolute</th>\n    </tr>\n  </thead>\n  <tbody>\n    <tr>\n      <th>Minimum floor space:</th>\n      <td>2</td>\n      <td>99.991104</td>\n      <td>22479</td>\n    </tr>\n    <tr>\n      <th>Superficie utile</th>\n      <td>6</td>\n      <td>99.973311</td>\n      <td>22475</td>\n    </tr>\n    <tr>\n      <th>Gross return</th>\n      <td>6</td>\n      <td>99.973311</td>\n      <td>22475</td>\n    </tr>\n    <tr>\n      <th>Piano</th>\n      <td>10</td>\n      <td>99.955518</td>\n      <td>22471</td>\n    </tr>\n    <tr>\n      <th>Superficie del terreno</th>\n      <td>11</td>\n      <td>99.95107</td>\n      <td>22470</td>\n    </tr>\n    <tr>\n      <th>...</th>\n      <td>...</td>\n      <td>...</td>\n      <td>...</td>\n    </tr>\n    <tr>\n      <th>RiversAndLakesM</th>\n      <td>22481</td>\n      <td>0.0</td>\n      <td>0</td>\n    </tr>\n    <tr>\n      <th>RiversAndLakesL</th>\n      <td>22481</td>\n      <td>0.0</td>\n      <td>0</td>\n    </tr>\n    <tr>\n      <th>PopulationDensityS</th>\n      <td>22481</td>\n      <td>0.0</td>\n      <td>0</td>\n    </tr>\n    <tr>\n      <th>Zip</th>\n      <td>22481</td>\n      <td>0.0</td>\n      <td>0</td>\n    </tr>\n    <tr>\n      <th>PopulationDensityL</th>\n      <td>22481</td>\n      <td>0.0</td>\n      <td>0</td>\n    </tr>\n  </tbody>\n</table>\n<p>134 rows × 3 columns</p>\n</div>"
     },
     "execution_count": 5,
     "metadata": {},
     "output_type": "execute_result"
    }
   ],
   "source": [
    "count_column = df.describe()[0:1]\n",
    "\n",
    "count_column = count_column.transpose()\n",
    "# order ascending\n",
    "count_column = count_column.sort_values(by='count', axis=0)\n",
    "# add procentual missing values\n",
    "count_column['missing [%]'] = 100 - (count_column['count'] / df.shape[0] * 100)\n",
    "count_column['missing absolute'] =  df.shape[0] - count_column['count']\n",
    "count_column"
   ],
   "metadata": {
    "collapsed": false,
    "ExecuteTime": {
     "end_time": "2024-10-02T11:10:49.756540Z",
     "start_time": "2024-10-02T11:10:48.050618Z"
    }
   },
   "id": "d0c3f086e3b36d3c",
   "execution_count": 5
  },
  {
   "cell_type": "code",
   "outputs": [
    {
     "data": {
      "text/plain": "      Unnamed: 0.1 Unnamed: 0 Municipality Living space Plot area Floor space  \\\n11588        11588      11611          NaN          NaN       NaN         NaN   \n\n      Availability                                  location  \\\n11588          NaN  Rue du Centre Sportif 221936 Verbier, VS   \n\n                                             description  \\\n11588  «EXCLUSIVITÉ VERBIER - CENTRE : Bel appartemen...   \n\n                                    detailed_description  ... features  \\\n11588  detail_responsive#description_titleÀ seulement...  ...      NaN   \n\n      description_detailed Floor space: Number of floors: Volume:     plz  \\\n11588                  NaN          NaN               NaN     NaN  1936.0   \n\n      Number of toilets: Gross yield: Minimum floor space: space_cleaned  \n11588                NaN          NaN                  NaN           NaN  \n\n[1 rows x 134 columns]",
      "text/html": "<div>\n<style scoped>\n    .dataframe tbody tr th:only-of-type {\n        vertical-align: middle;\n    }\n\n    .dataframe tbody tr th {\n        vertical-align: top;\n    }\n\n    .dataframe thead th {\n        text-align: right;\n    }\n</style>\n<table border=\"1\" class=\"dataframe\">\n  <thead>\n    <tr style=\"text-align: right;\">\n      <th></th>\n      <th>Unnamed: 0.1</th>\n      <th>Unnamed: 0</th>\n      <th>Municipality</th>\n      <th>Living space</th>\n      <th>Plot area</th>\n      <th>Floor space</th>\n      <th>Availability</th>\n      <th>location</th>\n      <th>description</th>\n      <th>detailed_description</th>\n      <th>...</th>\n      <th>features</th>\n      <th>description_detailed</th>\n      <th>Floor space:</th>\n      <th>Number of floors:</th>\n      <th>Volume:</th>\n      <th>plz</th>\n      <th>Number of toilets:</th>\n      <th>Gross yield:</th>\n      <th>Minimum floor space:</th>\n      <th>space_cleaned</th>\n    </tr>\n  </thead>\n  <tbody>\n    <tr>\n      <th>11588</th>\n      <td>11588</td>\n      <td>11611</td>\n      <td>NaN</td>\n      <td>NaN</td>\n      <td>NaN</td>\n      <td>NaN</td>\n      <td>NaN</td>\n      <td>Rue du Centre Sportif 221936 Verbier, VS</td>\n      <td>«EXCLUSIVITÉ VERBIER - CENTRE : Bel appartemen...</td>\n      <td>detail_responsive#description_titleÀ seulement...</td>\n      <td>...</td>\n      <td>NaN</td>\n      <td>NaN</td>\n      <td>NaN</td>\n      <td>NaN</td>\n      <td>NaN</td>\n      <td>1936.0</td>\n      <td>NaN</td>\n      <td>NaN</td>\n      <td>NaN</td>\n      <td>NaN</td>\n    </tr>\n  </tbody>\n</table>\n<p>1 rows × 134 columns</p>\n</div>"
     },
     "execution_count": 6,
     "metadata": {},
     "output_type": "execute_result"
    }
   ],
   "source": [
    "# find datapoint with most missing values\n",
    "df[df.isnull().sum(axis=1) == df.isnull().sum(axis=1).max()]"
   ],
   "metadata": {
    "collapsed": false,
    "ExecuteTime": {
     "end_time": "2024-10-02T11:10:49.878755Z",
     "start_time": "2024-10-02T11:10:49.276609500Z"
    }
   },
   "id": "72c7667e78ee28bf",
   "execution_count": 6
  },
  {
   "cell_type": "code",
   "outputs": [
    {
     "data": {
      "text/plain": "      Unnamed: 0.1 Unnamed: 0              Municipality Living space  \\\n21              21         21                       NaN          NaN   \n27              27         41                     Turgi       150 m²   \n28              28         44                       NaN          NaN   \n29              29         45                     Turgi       104 m²   \n33              33         52                      Suhr       160 m²   \n...            ...        ...                       ...          ...   \n13274        13274      13297  Zürich, Kreis 6 (Zurich)       442 m²   \n13288        13288      13311                      Maur       181 m²   \n13290        13290      13313                      Maur       180 m²   \n13299        13299      13322                     Elsau       100 m²   \n13316        13316      13339                       NaN          NaN   \n\n      Plot area Floor space Availability                       location  \\\n21          NaN         NaN          NaN            5018 Erlinsbach, AG   \n27       223 m²         NaN   On request                 5300 Turgi, AG   \n28          NaN         NaN          NaN            5042 Hirschthal, AG   \n29      1496 m²         NaN  Immediately                 5300 Turgi, AG   \n33       640 m²         NaN   On request                  5034 Suhr, AG   \n...         ...         ...          ...                            ...   \n13274   1326 m²         NaN   On request          Zürich8044 Zürich, ZH   \n13288    911 m²         NaN   On request  Lebernhöhe8123 Ebmatingen, ZH   \n13290    188 m²         NaN   On request            8123 Ebmatingen, ZH   \n13299    312 m²         NaN   On request     Kirchgasse 38352 Elsau, ZH   \n13316       NaN         NaN          NaN            8413 Neftenbach, ZH   \n\n                                             description  \\\n21     4.5 rooms, 236 m²«Terrassenhaus mit malerische...   \n27     4.5 rooms, 150 m²«####Two in One#### mit Einli...   \n28     7.5 rooms, 216 m²«Verzauberndes Generationenha...   \n29     5 rooms, 104 m²«#### Top Einfamilienhaus einge...   \n33     5.5 rooms, 160 m²«FAMILIENGLÜCK MIT VIEL PLATZ...   \n...                                                  ...   \n13274  10 rooms, 442 m²«Anwesen an bester Lage im Woh...   \n13288  5.5 rooms, 181 m²«Grandioses 5 1/2 Zi. Einfami...   \n13290  5.5 rooms, 180 m²«FAMILIENFREUNDLICH MIT GARTE...   \n13299  5.5 rooms, 100 m²«5.5-Zimmer-Einfamilienhaus m...   \n13316        «Projektankündigung»Price on requestFavorit   \n\n                                    detailed_description  ... features  \\\n21     BeschreibungEine aussergewöhnliche Wohnung am ...  ...      NaN   \n27     DescriptionEin Haus mit Geschichte in neuem Gl...  ...      NaN   \n28     detail_responsive#description_titleDieses 7.5-...  ...      NaN   \n29     DescriptionBesonderes: Gleichzeitig in der Näh...  ...      NaN   \n33     DescriptionDieses Schmuckstück liegt in einem ...  ...      NaN   \n...                                                  ...  ...      ...   \n13274  DescriptionAnwesen an bester Lage im Wohnrecht...  ...      NaN   \n13288  DescriptionAn ruhiger und bestens besonnter Wo...  ...      NaN   \n13290  DescriptionZum Verkauf steht diese grosse, seh...  ...      NaN   \n13299  DescriptionObjektbeschriebDas heimelige Einfam...  ...      NaN   \n13316  BeschreibungIm Lindebrunne fühlt sich jede dih...  ...      NaN   \n\n      description_detailed Floor space: Number of floors: Volume:     plz  \\\n21                     NaN          NaN               NaN     NaN  5018.0   \n27                     NaN          NaN               NaN     NaN  5300.0   \n28                     NaN          NaN               NaN     NaN  5042.0   \n29                     NaN          NaN               NaN     NaN  5300.0   \n33                     NaN          NaN               NaN     NaN  5034.0   \n...                    ...          ...               ...     ...     ...   \n13274                  NaN          NaN               NaN     NaN  8044.0   \n13288                  NaN          NaN               NaN     NaN  8123.0   \n13290                  NaN          NaN               NaN     NaN  8123.0   \n13299                  NaN          NaN               NaN     NaN  8352.0   \n13316                  NaN          NaN               NaN     NaN  8413.0   \n\n      Number of toilets: Gross yield: Minimum floor space: space_cleaned  \n21                   NaN          NaN                  NaN           NaN  \n27                   NaN          NaN                  NaN           NaN  \n28                   NaN          NaN                  NaN           NaN  \n29                   NaN          NaN                  NaN           NaN  \n33                   NaN          NaN                  NaN           NaN  \n...                  ...          ...                  ...           ...  \n13274                NaN          NaN                  NaN           NaN  \n13288                NaN          NaN                  NaN           NaN  \n13290                NaN          NaN                  NaN           NaN  \n13299                NaN          NaN                  NaN           NaN  \n13316                NaN          NaN                  NaN           NaN  \n\n[1015 rows x 134 columns]",
      "text/html": "<div>\n<style scoped>\n    .dataframe tbody tr th:only-of-type {\n        vertical-align: middle;\n    }\n\n    .dataframe tbody tr th {\n        vertical-align: top;\n    }\n\n    .dataframe thead th {\n        text-align: right;\n    }\n</style>\n<table border=\"1\" class=\"dataframe\">\n  <thead>\n    <tr style=\"text-align: right;\">\n      <th></th>\n      <th>Unnamed: 0.1</th>\n      <th>Unnamed: 0</th>\n      <th>Municipality</th>\n      <th>Living space</th>\n      <th>Plot area</th>\n      <th>Floor space</th>\n      <th>Availability</th>\n      <th>location</th>\n      <th>description</th>\n      <th>detailed_description</th>\n      <th>...</th>\n      <th>features</th>\n      <th>description_detailed</th>\n      <th>Floor space:</th>\n      <th>Number of floors:</th>\n      <th>Volume:</th>\n      <th>plz</th>\n      <th>Number of toilets:</th>\n      <th>Gross yield:</th>\n      <th>Minimum floor space:</th>\n      <th>space_cleaned</th>\n    </tr>\n  </thead>\n  <tbody>\n    <tr>\n      <th>21</th>\n      <td>21</td>\n      <td>21</td>\n      <td>NaN</td>\n      <td>NaN</td>\n      <td>NaN</td>\n      <td>NaN</td>\n      <td>NaN</td>\n      <td>5018 Erlinsbach, AG</td>\n      <td>4.5 rooms, 236 m²«Terrassenhaus mit malerische...</td>\n      <td>BeschreibungEine aussergewöhnliche Wohnung am ...</td>\n      <td>...</td>\n      <td>NaN</td>\n      <td>NaN</td>\n      <td>NaN</td>\n      <td>NaN</td>\n      <td>NaN</td>\n      <td>5018.0</td>\n      <td>NaN</td>\n      <td>NaN</td>\n      <td>NaN</td>\n      <td>NaN</td>\n    </tr>\n    <tr>\n      <th>27</th>\n      <td>27</td>\n      <td>41</td>\n      <td>Turgi</td>\n      <td>150 m²</td>\n      <td>223 m²</td>\n      <td>NaN</td>\n      <td>On request</td>\n      <td>5300 Turgi, AG</td>\n      <td>4.5 rooms, 150 m²«####Two in One#### mit Einli...</td>\n      <td>DescriptionEin Haus mit Geschichte in neuem Gl...</td>\n      <td>...</td>\n      <td>NaN</td>\n      <td>NaN</td>\n      <td>NaN</td>\n      <td>NaN</td>\n      <td>NaN</td>\n      <td>5300.0</td>\n      <td>NaN</td>\n      <td>NaN</td>\n      <td>NaN</td>\n      <td>NaN</td>\n    </tr>\n    <tr>\n      <th>28</th>\n      <td>28</td>\n      <td>44</td>\n      <td>NaN</td>\n      <td>NaN</td>\n      <td>NaN</td>\n      <td>NaN</td>\n      <td>NaN</td>\n      <td>5042 Hirschthal, AG</td>\n      <td>7.5 rooms, 216 m²«Verzauberndes Generationenha...</td>\n      <td>detail_responsive#description_titleDieses 7.5-...</td>\n      <td>...</td>\n      <td>NaN</td>\n      <td>NaN</td>\n      <td>NaN</td>\n      <td>NaN</td>\n      <td>NaN</td>\n      <td>5042.0</td>\n      <td>NaN</td>\n      <td>NaN</td>\n      <td>NaN</td>\n      <td>NaN</td>\n    </tr>\n    <tr>\n      <th>29</th>\n      <td>29</td>\n      <td>45</td>\n      <td>Turgi</td>\n      <td>104 m²</td>\n      <td>1496 m²</td>\n      <td>NaN</td>\n      <td>Immediately</td>\n      <td>5300 Turgi, AG</td>\n      <td>5 rooms, 104 m²«#### Top Einfamilienhaus einge...</td>\n      <td>DescriptionBesonderes: Gleichzeitig in der Näh...</td>\n      <td>...</td>\n      <td>NaN</td>\n      <td>NaN</td>\n      <td>NaN</td>\n      <td>NaN</td>\n      <td>NaN</td>\n      <td>5300.0</td>\n      <td>NaN</td>\n      <td>NaN</td>\n      <td>NaN</td>\n      <td>NaN</td>\n    </tr>\n    <tr>\n      <th>33</th>\n      <td>33</td>\n      <td>52</td>\n      <td>Suhr</td>\n      <td>160 m²</td>\n      <td>640 m²</td>\n      <td>NaN</td>\n      <td>On request</td>\n      <td>5034 Suhr, AG</td>\n      <td>5.5 rooms, 160 m²«FAMILIENGLÜCK MIT VIEL PLATZ...</td>\n      <td>DescriptionDieses Schmuckstück liegt in einem ...</td>\n      <td>...</td>\n      <td>NaN</td>\n      <td>NaN</td>\n      <td>NaN</td>\n      <td>NaN</td>\n      <td>NaN</td>\n      <td>5034.0</td>\n      <td>NaN</td>\n      <td>NaN</td>\n      <td>NaN</td>\n      <td>NaN</td>\n    </tr>\n    <tr>\n      <th>...</th>\n      <td>...</td>\n      <td>...</td>\n      <td>...</td>\n      <td>...</td>\n      <td>...</td>\n      <td>...</td>\n      <td>...</td>\n      <td>...</td>\n      <td>...</td>\n      <td>...</td>\n      <td>...</td>\n      <td>...</td>\n      <td>...</td>\n      <td>...</td>\n      <td>...</td>\n      <td>...</td>\n      <td>...</td>\n      <td>...</td>\n      <td>...</td>\n      <td>...</td>\n      <td>...</td>\n    </tr>\n    <tr>\n      <th>13274</th>\n      <td>13274</td>\n      <td>13297</td>\n      <td>Zürich, Kreis 6 (Zurich)</td>\n      <td>442 m²</td>\n      <td>1326 m²</td>\n      <td>NaN</td>\n      <td>On request</td>\n      <td>Zürich8044 Zürich, ZH</td>\n      <td>10 rooms, 442 m²«Anwesen an bester Lage im Woh...</td>\n      <td>DescriptionAnwesen an bester Lage im Wohnrecht...</td>\n      <td>...</td>\n      <td>NaN</td>\n      <td>NaN</td>\n      <td>NaN</td>\n      <td>NaN</td>\n      <td>NaN</td>\n      <td>8044.0</td>\n      <td>NaN</td>\n      <td>NaN</td>\n      <td>NaN</td>\n      <td>NaN</td>\n    </tr>\n    <tr>\n      <th>13288</th>\n      <td>13288</td>\n      <td>13311</td>\n      <td>Maur</td>\n      <td>181 m²</td>\n      <td>911 m²</td>\n      <td>NaN</td>\n      <td>On request</td>\n      <td>Lebernhöhe8123 Ebmatingen, ZH</td>\n      <td>5.5 rooms, 181 m²«Grandioses 5 1/2 Zi. Einfami...</td>\n      <td>DescriptionAn ruhiger und bestens besonnter Wo...</td>\n      <td>...</td>\n      <td>NaN</td>\n      <td>NaN</td>\n      <td>NaN</td>\n      <td>NaN</td>\n      <td>NaN</td>\n      <td>8123.0</td>\n      <td>NaN</td>\n      <td>NaN</td>\n      <td>NaN</td>\n      <td>NaN</td>\n    </tr>\n    <tr>\n      <th>13290</th>\n      <td>13290</td>\n      <td>13313</td>\n      <td>Maur</td>\n      <td>180 m²</td>\n      <td>188 m²</td>\n      <td>NaN</td>\n      <td>On request</td>\n      <td>8123 Ebmatingen, ZH</td>\n      <td>5.5 rooms, 180 m²«FAMILIENFREUNDLICH MIT GARTE...</td>\n      <td>DescriptionZum Verkauf steht diese grosse, seh...</td>\n      <td>...</td>\n      <td>NaN</td>\n      <td>NaN</td>\n      <td>NaN</td>\n      <td>NaN</td>\n      <td>NaN</td>\n      <td>8123.0</td>\n      <td>NaN</td>\n      <td>NaN</td>\n      <td>NaN</td>\n      <td>NaN</td>\n    </tr>\n    <tr>\n      <th>13299</th>\n      <td>13299</td>\n      <td>13322</td>\n      <td>Elsau</td>\n      <td>100 m²</td>\n      <td>312 m²</td>\n      <td>NaN</td>\n      <td>On request</td>\n      <td>Kirchgasse 38352 Elsau, ZH</td>\n      <td>5.5 rooms, 100 m²«5.5-Zimmer-Einfamilienhaus m...</td>\n      <td>DescriptionObjektbeschriebDas heimelige Einfam...</td>\n      <td>...</td>\n      <td>NaN</td>\n      <td>NaN</td>\n      <td>NaN</td>\n      <td>NaN</td>\n      <td>NaN</td>\n      <td>8352.0</td>\n      <td>NaN</td>\n      <td>NaN</td>\n      <td>NaN</td>\n      <td>NaN</td>\n    </tr>\n    <tr>\n      <th>13316</th>\n      <td>13316</td>\n      <td>13339</td>\n      <td>NaN</td>\n      <td>NaN</td>\n      <td>NaN</td>\n      <td>NaN</td>\n      <td>NaN</td>\n      <td>8413 Neftenbach, ZH</td>\n      <td>«Projektankündigung»Price on requestFavorit</td>\n      <td>BeschreibungIm Lindebrunne fühlt sich jede dih...</td>\n      <td>...</td>\n      <td>NaN</td>\n      <td>NaN</td>\n      <td>NaN</td>\n      <td>NaN</td>\n      <td>NaN</td>\n      <td>8413.0</td>\n      <td>NaN</td>\n      <td>NaN</td>\n      <td>NaN</td>\n      <td>NaN</td>\n    </tr>\n  </tbody>\n</table>\n<p>1015 rows × 134 columns</p>\n</div>"
     },
     "execution_count": 7,
     "metadata": {},
     "output_type": "execute_result"
    }
   ],
   "source": [
    "# count price on request\n",
    "amount_price_on_request = df[df['price'] == 'Price on request']\n",
    "amount_price_on_request"
   ],
   "metadata": {
    "collapsed": false,
    "ExecuteTime": {
     "end_time": "2024-10-02T11:10:49.916048900Z",
     "start_time": "2024-10-02T11:10:49.740559300Z"
    }
   },
   "id": "4171fd358978fa7b",
   "execution_count": 7
  },
  {
   "cell_type": "code",
   "outputs": [
    {
     "data": {
      "text/plain": "price\nPrice on request    1015\nEUR 495,000.—          2\nEUR1,180,000.–         1\nEUR1,645,000.–         1\nEUR1,880,000.–         1\nEUR2,130,000.–         1\nEUR5,500,000.–         1\nEUR1,130,000.–         1\nEUR1,200,000.–         1\nEUR1,340,000.–         1\nEUR 780,000.—          1\nEUR 1,639,000.—        1\nEUR 635,000.—          1\nEUR 650,000.—          1\nEUR 190,000.—          1\nEUR200,000.–           1\nEUR10,000,000.–        1\nName: count, dtype: int64"
     },
     "execution_count": 8,
     "metadata": {},
     "output_type": "execute_result"
    }
   ],
   "source": [
    "# count unique values in column price\n",
    "prices = df['price'].value_counts()\n",
    "#filter where price does not contain 'CHF'\n",
    "prices = prices[prices.index.str.contains('CHF') == False]\n",
    "prices"
   ],
   "metadata": {
    "collapsed": false,
    "ExecuteTime": {
     "end_time": "2024-10-02T11:10:49.936896200Z",
     "start_time": "2024-10-02T11:10:49.779620400Z"
    }
   },
   "id": "26139e86d8814190",
   "execution_count": 8
  },
  {
   "cell_type": "code",
   "outputs": [],
   "source": [
    "# remove price on request\n",
    "df = df[df['price'] != 'Price on request']\n",
    "df['price_cleaned'] = df['price_cleaned'].astype(float)"
   ],
   "metadata": {
    "collapsed": false,
    "ExecuteTime": {
     "end_time": "2024-10-02T11:10:50.012663100Z",
     "start_time": "2024-10-02T11:10:49.800597500Z"
    }
   },
   "id": "81e452c7fc9b516a",
   "execution_count": 9
  },
  {
   "cell_type": "code",
   "outputs": [
    {
     "data": {
      "text/plain": "<Figure size 640x480 with 1 Axes>",
      "image/png": "[encoded data removed]"
     },
     "metadata": {},
     "output_type": "display_data"
    }
   ],
   "source": [
    "(df['price_cleaned']/1000).plot.hist(bins=200)\n",
    "plt.xlabel('Price in 1000 CHF')\n",
    "plt.ylabel('Frequency')\n",
    "plt.title('Histogram of prices')\n",
    "plt.xlim(0, 5000)\n",
    "plt.show()"
   ],
   "metadata": {
    "collapsed": false,
    "ExecuteTime": {
     "end_time": "2024-10-02T11:10:50.627105200Z",
     "start_time": "2024-10-02T11:10:49.864679Z"
    }
   },
   "id": "c3f473c7bd765e11",
   "execution_count": 10
  },
  {
   "cell_type": "code",
   "outputs": [
    {
     "data": {
      "text/plain": "      Unnamed: 0.1 Unnamed: 0 Municipality Living space Plot area Floor space  \\\n10690        10690      10713         Etoy          NaN       NaN         NaN   \n3906          3906       3929      Veyrier       140 m²       NaN         NaN   \n17882        17882      20516     Ovronnaz          NaN       NaN         NaN   \n5021          5021       5044     Le Locle        45 m²       NaN         NaN   \n20194        20194      25560     Le Locle          NaN       NaN         NaN   \n...            ...        ...          ...          ...       ...         ...   \n16848        16848      18758     Montreux          NaN       NaN         NaN   \n11005        11005      11028          NaN          NaN       NaN         NaN   \n13958        13958      14292    Buchillon          NaN       NaN         NaN   \n10657        10657      10680   Saint-Prex          NaN   5000 m²         NaN   \n16849        16849      18759     Montreux          NaN       NaN         NaN   \n\n      Availability                       location  \\\n10690   On request                  1163 Etoy, VD   \n3906    31.12.2022               1255 Veyrier, GE   \n17882          NaN  Ch de la Coppe, 1911 Ovronnaz   \n5021    On request              2400 Le Locle, NE   \n20194          NaN                  2400 Le Locle   \n...            ...                            ...   \n16848          NaN                  1820 Montreux   \n11005          NaN                1295 Tannay, VD   \n13958          NaN                 1164 Buchillon   \n10657   On request               1162 St-Prex, VD   \n16849          NaN                  1820 Montreux   \n\n                                             description  \\\n10690  «a vendre une maison villageoise sur la Côte»C...   \n3906   7 rooms, 140 m²«Villa a vendre 7 pieces a Veyr...   \n17882  Chaleureux, douillets, élégants, les tout dern...   \n5021   2 rooms, 45 m²«IDEAL POUR ETUDIANT !»CHF 745.—...   \n20194  Idéalement situé, cet appartement de 2 pièces ...   \n...                                                  ...   \n16848  Face au Lac, située à proximité du Centre-Vill...   \n11005  14 rooms, 1200 m²«Splendide propriété pied dan...   \n13958  Située au bord du Lac Léman, entre Lausanne et...   \n10657  10 rooms«Somptueuse propriété pieds dans l eau...   \n16849  Cette propriété est l'oeuvre du célèbre archit...   \n\n                                    detailed_description  ...  \\\n10690  DescriptionA vendre une maison villageoise sit...  ...   \n3906   DescriptionJolie maison familliale comprenant ...  ...   \n17882  Description\\n\"Investissez en secondaire! Belle...  ...   \n5021   DescriptionIdéalement situé, cet appartement d...  ...   \n20194  Description\\n\"IDEAL POUR ETUDIANT !\"\\nIdéaleme...  ...   \n...                                                  ...  ...   \n16848  Description\\n\"Somptueuse Maison de Maître avec...  ...   \n11005  BeschreibungNous vous présentons cette superbe...  ...   \n13958  Description\\n\"UNIQUE, villa ultra moderne pied...  ...   \n10657  DescriptionCette propriété de maître ####pieds...  ...   \n16849  Description\\n\"Somptueuse propriété pieds dans ...  ...   \n\n                                                features  \\\n10690                                                NaN   \n3906                                                 NaN   \n17882  Balcony / Terrace\\tCable TV\\tFireplace\\tWheelc...   \n5021                                                 NaN   \n20194                        Wheelchair access\\tElevator   \n...                                                  ...   \n16848  Balcony / Terrace\\tView\\tParking space\\tGarage...   \n11005                                                NaN   \n13958  Balcony / Terrace\\tFireplace\\tView\\tWheelchair...   \n10657                                                NaN   \n16849                                                NaN   \n\n                                    description_detailed Floor space:  \\\n10690                                                NaN          NaN   \n3906                                                 NaN          NaN   \n17882  Description\\n\"Investissez en secondaire! Belle...        88 m2   \n5021                                                 NaN          NaN   \n20194  Description\\n\"IDEAL POUR ETUDIANT !\"\\nIdéaleme...          NaN   \n...                                                  ...          ...   \n16848  Description\\n\"Somptueuse Maison de Maître avec...          NaN   \n11005                                                NaN          NaN   \n13958  Description\\n\"UNIQUE, villa ultra moderne pied...          NaN   \n10657                                                NaN          NaN   \n16849  Description\\n\"Somptueuse propriété pieds dans ...          NaN   \n\n      Number of floors: Volume:     plz Number of toilets: Gross yield:  \\\n10690               NaN     NaN  1163.0                NaN          NaN   \n3906                NaN     NaN  1255.0                NaN          NaN   \n17882               NaN     NaN  1911.0                NaN          NaN   \n5021                NaN     NaN  2400.0                NaN          NaN   \n20194               NaN     NaN  2400.0                NaN          NaN   \n...                 ...     ...     ...                ...          ...   \n16848               NaN     NaN  1820.0                NaN          NaN   \n11005               NaN     NaN  1295.0                NaN          NaN   \n13958               2.0     NaN  1164.0                NaN          NaN   \n10657               NaN     NaN  1162.0                NaN          NaN   \n16849               NaN     NaN  1820.0                NaN          NaN   \n\n      Minimum floor space: space_cleaned  \n10690                  NaN           NaN  \n3906                   NaN           NaN  \n17882                  NaN          68.0  \n5021                   NaN           NaN  \n20194                  NaN          45.0  \n...                    ...           ...  \n16848                  NaN         782.0  \n11005                  NaN           NaN  \n13958                  NaN         900.0  \n10657                  NaN           NaN  \n16849                  NaN        1500.0  \n\n[21466 rows x 134 columns]",
      "text/html": "<div>\n<style scoped>\n    .dataframe tbody tr th:only-of-type {\n        vertical-align: middle;\n    }\n\n    .dataframe tbody tr th {\n        vertical-align: top;\n    }\n\n    .dataframe thead th {\n        text-align: right;\n    }\n</style>\n<table border=\"1\" class=\"dataframe\">\n  <thead>\n    <tr style=\"text-align: right;\">\n      <th></th>\n      <th>Unnamed: 0.1</th>\n      <th>Unnamed: 0</th>\n      <th>Municipality</th>\n      <th>Living space</th>\n      <th>Plot area</th>\n      <th>Floor space</th>\n      <th>Availability</th>\n      <th>location</th>\n      <th>description</th>\n      <th>detailed_description</th>\n      <th>...</th>\n      <th>features</th>\n      <th>description_detailed</th>\n      <th>Floor space:</th>\n      <th>Number of floors:</th>\n      <th>Volume:</th>\n      <th>plz</th>\n      <th>Number of toilets:</th>\n      <th>Gross yield:</th>\n      <th>Minimum floor space:</th>\n      <th>space_cleaned</th>\n    </tr>\n  </thead>\n  <tbody>\n    <tr>\n      <th>10690</th>\n      <td>10690</td>\n      <td>10713</td>\n      <td>Etoy</td>\n      <td>NaN</td>\n      <td>NaN</td>\n      <td>NaN</td>\n      <td>On request</td>\n      <td>1163 Etoy, VD</td>\n      <td>«a vendre une maison villageoise sur la Côte»C...</td>\n      <td>DescriptionA vendre une maison villageoise sit...</td>\n      <td>...</td>\n      <td>NaN</td>\n      <td>NaN</td>\n      <td>NaN</td>\n      <td>NaN</td>\n      <td>NaN</td>\n      <td>1163.0</td>\n      <td>NaN</td>\n      <td>NaN</td>\n      <td>NaN</td>\n      <td>NaN</td>\n    </tr>\n    <tr>\n      <th>3906</th>\n      <td>3906</td>\n      <td>3929</td>\n      <td>Veyrier</td>\n      <td>140 m²</td>\n      <td>NaN</td>\n      <td>NaN</td>\n      <td>31.12.2022</td>\n      <td>1255 Veyrier, GE</td>\n      <td>7 rooms, 140 m²«Villa a vendre 7 pieces a Veyr...</td>\n      <td>DescriptionJolie maison familliale comprenant ...</td>\n      <td>...</td>\n      <td>NaN</td>\n      <td>NaN</td>\n      <td>NaN</td>\n      <td>NaN</td>\n      <td>NaN</td>\n      <td>1255.0</td>\n      <td>NaN</td>\n      <td>NaN</td>\n      <td>NaN</td>\n      <td>NaN</td>\n    </tr>\n    <tr>\n      <th>17882</th>\n      <td>17882</td>\n      <td>20516</td>\n      <td>Ovronnaz</td>\n      <td>NaN</td>\n      <td>NaN</td>\n      <td>NaN</td>\n      <td>NaN</td>\n      <td>Ch de la Coppe, 1911 Ovronnaz</td>\n      <td>Chaleureux, douillets, élégants, les tout dern...</td>\n      <td>Description\\n\"Investissez en secondaire! Belle...</td>\n      <td>...</td>\n      <td>Balcony / Terrace\\tCable TV\\tFireplace\\tWheelc...</td>\n      <td>Description\\n\"Investissez en secondaire! Belle...</td>\n      <td>88 m2</td>\n      <td>NaN</td>\n      <td>NaN</td>\n      <td>1911.0</td>\n      <td>NaN</td>\n      <td>NaN</td>\n      <td>NaN</td>\n      <td>68.0</td>\n    </tr>\n    <tr>\n      <th>5021</th>\n      <td>5021</td>\n      <td>5044</td>\n      <td>Le Locle</td>\n      <td>45 m²</td>\n      <td>NaN</td>\n      <td>NaN</td>\n      <td>On request</td>\n      <td>2400 Le Locle, NE</td>\n      <td>2 rooms, 45 m²«IDEAL POUR ETUDIANT !»CHF 745.—...</td>\n      <td>DescriptionIdéalement situé, cet appartement d...</td>\n      <td>...</td>\n      <td>NaN</td>\n      <td>NaN</td>\n      <td>NaN</td>\n      <td>NaN</td>\n      <td>NaN</td>\n      <td>2400.0</td>\n      <td>NaN</td>\n      <td>NaN</td>\n      <td>NaN</td>\n      <td>NaN</td>\n    </tr>\n    <tr>\n      <th>20194</th>\n      <td>20194</td>\n      <td>25560</td>\n      <td>Le Locle</td>\n      <td>NaN</td>\n      <td>NaN</td>\n      <td>NaN</td>\n      <td>NaN</td>\n      <td>2400 Le Locle</td>\n      <td>Idéalement situé, cet appartement de 2 pièces ...</td>\n      <td>Description\\n\"IDEAL POUR ETUDIANT !\"\\nIdéaleme...</td>\n      <td>...</td>\n      <td>Wheelchair access\\tElevator</td>\n      <td>Description\\n\"IDEAL POUR ETUDIANT !\"\\nIdéaleme...</td>\n      <td>NaN</td>\n      <td>NaN</td>\n      <td>NaN</td>\n      <td>2400.0</td>\n      <td>NaN</td>\n      <td>NaN</td>\n      <td>NaN</td>\n      <td>45.0</td>\n    </tr>\n    <tr>\n      <th>...</th>\n      <td>...</td>\n      <td>...</td>\n      <td>...</td>\n      <td>...</td>\n      <td>...</td>\n      <td>...</td>\n      <td>...</td>\n      <td>...</td>\n      <td>...</td>\n      <td>...</td>\n      <td>...</td>\n      <td>...</td>\n      <td>...</td>\n      <td>...</td>\n      <td>...</td>\n      <td>...</td>\n      <td>...</td>\n      <td>...</td>\n      <td>...</td>\n      <td>...</td>\n      <td>...</td>\n    </tr>\n    <tr>\n      <th>16848</th>\n      <td>16848</td>\n      <td>18758</td>\n      <td>Montreux</td>\n      <td>NaN</td>\n      <td>NaN</td>\n      <td>NaN</td>\n      <td>NaN</td>\n      <td>1820 Montreux</td>\n      <td>Face au Lac, située à proximité du Centre-Vill...</td>\n      <td>Description\\n\"Somptueuse Maison de Maître avec...</td>\n      <td>...</td>\n      <td>Balcony / Terrace\\tView\\tParking space\\tGarage...</td>\n      <td>Description\\n\"Somptueuse Maison de Maître avec...</td>\n      <td>NaN</td>\n      <td>NaN</td>\n      <td>NaN</td>\n      <td>1820.0</td>\n      <td>NaN</td>\n      <td>NaN</td>\n      <td>NaN</td>\n      <td>782.0</td>\n    </tr>\n    <tr>\n      <th>11005</th>\n      <td>11005</td>\n      <td>11028</td>\n      <td>NaN</td>\n      <td>NaN</td>\n      <td>NaN</td>\n      <td>NaN</td>\n      <td>NaN</td>\n      <td>1295 Tannay, VD</td>\n      <td>14 rooms, 1200 m²«Splendide propriété pied dan...</td>\n      <td>BeschreibungNous vous présentons cette superbe...</td>\n      <td>...</td>\n      <td>NaN</td>\n      <td>NaN</td>\n      <td>NaN</td>\n      <td>NaN</td>\n      <td>NaN</td>\n      <td>1295.0</td>\n      <td>NaN</td>\n      <td>NaN</td>\n      <td>NaN</td>\n      <td>NaN</td>\n    </tr>\n    <tr>\n      <th>13958</th>\n      <td>13958</td>\n      <td>14292</td>\n      <td>Buchillon</td>\n      <td>NaN</td>\n      <td>NaN</td>\n      <td>NaN</td>\n      <td>NaN</td>\n      <td>1164 Buchillon</td>\n      <td>Située au bord du Lac Léman, entre Lausanne et...</td>\n      <td>Description\\n\"UNIQUE, villa ultra moderne pied...</td>\n      <td>...</td>\n      <td>Balcony / Terrace\\tFireplace\\tView\\tWheelchair...</td>\n      <td>Description\\n\"UNIQUE, villa ultra moderne pied...</td>\n      <td>NaN</td>\n      <td>2.0</td>\n      <td>NaN</td>\n      <td>1164.0</td>\n      <td>NaN</td>\n      <td>NaN</td>\n      <td>NaN</td>\n      <td>900.0</td>\n    </tr>\n    <tr>\n      <th>10657</th>\n      <td>10657</td>\n      <td>10680</td>\n      <td>Saint-Prex</td>\n      <td>NaN</td>\n      <td>5000 m²</td>\n      <td>NaN</td>\n      <td>On request</td>\n      <td>1162 St-Prex, VD</td>\n      <td>10 rooms«Somptueuse propriété pieds dans l eau...</td>\n      <td>DescriptionCette propriété de maître ####pieds...</td>\n      <td>...</td>\n      <td>NaN</td>\n      <td>NaN</td>\n      <td>NaN</td>\n      <td>NaN</td>\n      <td>NaN</td>\n      <td>1162.0</td>\n      <td>NaN</td>\n      <td>NaN</td>\n      <td>NaN</td>\n      <td>NaN</td>\n    </tr>\n    <tr>\n      <th>16849</th>\n      <td>16849</td>\n      <td>18759</td>\n      <td>Montreux</td>\n      <td>NaN</td>\n      <td>NaN</td>\n      <td>NaN</td>\n      <td>NaN</td>\n      <td>1820 Montreux</td>\n      <td>Cette propriété est l'oeuvre du célèbre archit...</td>\n      <td>Description\\n\"Somptueuse propriété pieds dans ...</td>\n      <td>...</td>\n      <td>NaN</td>\n      <td>Description\\n\"Somptueuse propriété pieds dans ...</td>\n      <td>NaN</td>\n      <td>NaN</td>\n      <td>NaN</td>\n      <td>1820.0</td>\n      <td>NaN</td>\n      <td>NaN</td>\n      <td>NaN</td>\n      <td>1500.0</td>\n    </tr>\n  </tbody>\n</table>\n<p>21466 rows × 134 columns</p>\n</div>"
     },
     "execution_count": 11,
     "metadata": {},
     "output_type": "execute_result"
    }
   ],
   "source": [
    "# show list of all columns ordered by price_cleaned asending\n",
    "df = df.sort_values(by='price_cleaned', ascending=True)\n",
    "df"
   ],
   "metadata": {
    "collapsed": false,
    "ExecuteTime": {
     "end_time": "2024-10-02T11:10:50.884406200Z",
     "start_time": "2024-10-02T11:10:50.528584500Z"
    }
   },
   "id": "cba1166feb7ac681",
   "execution_count": 11
  },
  {
   "cell_type": "code",
   "outputs": [
    {
     "ename": "KeyboardInterrupt",
     "evalue": "",
     "output_type": "error",
     "traceback": [
      "\u001B[1;31m---------------------------------------------------------------------------\u001B[0m",
      "\u001B[1;31mKeyboardInterrupt\u001B[0m                         Traceback (most recent call last)",
      "Cell \u001B[1;32mIn[12], line 29\u001B[0m\n\u001B[0;32m     26\u001B[0m     \u001B[38;5;28;01mreturn\u001B[39;00m similarity_df\n\u001B[0;32m     28\u001B[0m \u001B[38;5;66;03m# Beispiel-Aufruf mit deinem DataFrame (df)\u001B[39;00m\n\u001B[1;32m---> 29\u001B[0m similarity_df \u001B[38;5;241m=\u001B[39m \u001B[43mcompare_columns_percentage\u001B[49m\u001B[43m(\u001B[49m\u001B[43mdf\u001B[49m\u001B[43m)\u001B[49m\n\u001B[0;32m     30\u001B[0m \u001B[38;5;66;03m# Display the results\u001B[39;00m\n\u001B[0;32m     31\u001B[0m \u001B[38;5;28mprint\u001B[39m(similarity_df)\n",
      "Cell \u001B[1;32mIn[12], line 13\u001B[0m, in \u001B[0;36mcompare_columns_percentage\u001B[1;34m(df)\u001B[0m\n\u001B[0;32m     10\u001B[0m \u001B[38;5;28;01mif\u001B[39;00m col1 \u001B[38;5;241m!=\u001B[39m col2:  \u001B[38;5;66;03m# Vermeide den Vergleich einer Spalte mit sich selbst\u001B[39;00m\n\u001B[0;32m     11\u001B[0m     \u001B[38;5;66;03m# Vergleiche die Werte in jeder Zeile\u001B[39;00m\n\u001B[0;32m     12\u001B[0m     matching_rows \u001B[38;5;241m=\u001B[39m df[col1] \u001B[38;5;241m==\u001B[39m df[col2]\n\u001B[1;32m---> 13\u001B[0m     matching_percentage \u001B[38;5;241m=\u001B[39m (\u001B[43mmatching_rows\u001B[49m\u001B[38;5;241;43m.\u001B[39;49m\u001B[43msum\u001B[49m\u001B[43m(\u001B[49m\u001B[43m)\u001B[49m \u001B[38;5;241m/\u001B[39m \u001B[38;5;28mlen\u001B[39m(df)) \u001B[38;5;241m*\u001B[39m \u001B[38;5;241m100\u001B[39m  \u001B[38;5;66;03m# Prozentuale Übereinstimmung\u001B[39;00m\n\u001B[0;32m     15\u001B[0m     \u001B[38;5;66;03m# Speichere die Informationen nur, wenn es eine Übereinstimmung gibt\u001B[39;00m\n\u001B[0;32m     16\u001B[0m     \u001B[38;5;28;01mif\u001B[39;00m matching_percentage \u001B[38;5;241m>\u001B[39m \u001B[38;5;241m0\u001B[39m:\n",
      "File \u001B[1;32mC:\\FHNW_Programmiersachen\\5_Sem\\immo_challenge\\.venv\\Lib\\site-packages\\pandas\\core\\series.py:6528\u001B[0m, in \u001B[0;36mSeries.sum\u001B[1;34m(self, axis, skipna, numeric_only, min_count, **kwargs)\u001B[0m\n\u001B[0;32m   6519\u001B[0m \u001B[38;5;129m@doc\u001B[39m(make_doc(\u001B[38;5;124m\"\u001B[39m\u001B[38;5;124msum\u001B[39m\u001B[38;5;124m\"\u001B[39m, ndim\u001B[38;5;241m=\u001B[39m\u001B[38;5;241m1\u001B[39m))\n\u001B[0;32m   6520\u001B[0m \u001B[38;5;28;01mdef\u001B[39;00m \u001B[38;5;21msum\u001B[39m(\n\u001B[0;32m   6521\u001B[0m     \u001B[38;5;28mself\u001B[39m,\n\u001B[1;32m   (...)\u001B[0m\n\u001B[0;32m   6526\u001B[0m     \u001B[38;5;241m*\u001B[39m\u001B[38;5;241m*\u001B[39mkwargs,\n\u001B[0;32m   6527\u001B[0m ):\n\u001B[1;32m-> 6528\u001B[0m     \u001B[38;5;28;01mreturn\u001B[39;00m \u001B[43mNDFrame\u001B[49m\u001B[38;5;241;43m.\u001B[39;49m\u001B[43msum\u001B[49m\u001B[43m(\u001B[49m\u001B[38;5;28;43mself\u001B[39;49m\u001B[43m,\u001B[49m\u001B[43m \u001B[49m\u001B[43maxis\u001B[49m\u001B[43m,\u001B[49m\u001B[43m \u001B[49m\u001B[43mskipna\u001B[49m\u001B[43m,\u001B[49m\u001B[43m \u001B[49m\u001B[43mnumeric_only\u001B[49m\u001B[43m,\u001B[49m\u001B[43m \u001B[49m\u001B[43mmin_count\u001B[49m\u001B[43m,\u001B[49m\u001B[43m \u001B[49m\u001B[38;5;241;43m*\u001B[39;49m\u001B[38;5;241;43m*\u001B[39;49m\u001B[43mkwargs\u001B[49m\u001B[43m)\u001B[49m\n",
      "File \u001B[1;32mC:\\FHNW_Programmiersachen\\5_Sem\\immo_challenge\\.venv\\Lib\\site-packages\\pandas\\core\\generic.py:12506\u001B[0m, in \u001B[0;36mNDFrame.sum\u001B[1;34m(self, axis, skipna, numeric_only, min_count, **kwargs)\u001B[0m\n\u001B[0;32m  12498\u001B[0m \u001B[38;5;28;01mdef\u001B[39;00m \u001B[38;5;21msum\u001B[39m(\n\u001B[0;32m  12499\u001B[0m     \u001B[38;5;28mself\u001B[39m,\n\u001B[0;32m  12500\u001B[0m     axis: Axis \u001B[38;5;241m|\u001B[39m \u001B[38;5;28;01mNone\u001B[39;00m \u001B[38;5;241m=\u001B[39m \u001B[38;5;241m0\u001B[39m,\n\u001B[1;32m   (...)\u001B[0m\n\u001B[0;32m  12504\u001B[0m     \u001B[38;5;241m*\u001B[39m\u001B[38;5;241m*\u001B[39mkwargs,\n\u001B[0;32m  12505\u001B[0m ):\n\u001B[1;32m> 12506\u001B[0m     \u001B[38;5;28;01mreturn\u001B[39;00m \u001B[38;5;28;43mself\u001B[39;49m\u001B[38;5;241;43m.\u001B[39;49m\u001B[43m_min_count_stat_function\u001B[49m\u001B[43m(\u001B[49m\n\u001B[0;32m  12507\u001B[0m \u001B[43m        \u001B[49m\u001B[38;5;124;43m\"\u001B[39;49m\u001B[38;5;124;43msum\u001B[39;49m\u001B[38;5;124;43m\"\u001B[39;49m\u001B[43m,\u001B[49m\u001B[43m \u001B[49m\u001B[43mnanops\u001B[49m\u001B[38;5;241;43m.\u001B[39;49m\u001B[43mnansum\u001B[49m\u001B[43m,\u001B[49m\u001B[43m \u001B[49m\u001B[43maxis\u001B[49m\u001B[43m,\u001B[49m\u001B[43m \u001B[49m\u001B[43mskipna\u001B[49m\u001B[43m,\u001B[49m\u001B[43m \u001B[49m\u001B[43mnumeric_only\u001B[49m\u001B[43m,\u001B[49m\u001B[43m \u001B[49m\u001B[43mmin_count\u001B[49m\u001B[43m,\u001B[49m\u001B[43m \u001B[49m\u001B[38;5;241;43m*\u001B[39;49m\u001B[38;5;241;43m*\u001B[39;49m\u001B[43mkwargs\u001B[49m\n\u001B[0;32m  12508\u001B[0m \u001B[43m    \u001B[49m\u001B[43m)\u001B[49m\n",
      "File \u001B[1;32mC:\\FHNW_Programmiersachen\\5_Sem\\immo_challenge\\.venv\\Lib\\site-packages\\pandas\\core\\generic.py:12489\u001B[0m, in \u001B[0;36mNDFrame._min_count_stat_function\u001B[1;34m(self, name, func, axis, skipna, numeric_only, min_count, **kwargs)\u001B[0m\n\u001B[0;32m  12486\u001B[0m \u001B[38;5;28;01melif\u001B[39;00m axis \u001B[38;5;129;01mis\u001B[39;00m lib\u001B[38;5;241m.\u001B[39mno_default:\n\u001B[0;32m  12487\u001B[0m     axis \u001B[38;5;241m=\u001B[39m \u001B[38;5;241m0\u001B[39m\n\u001B[1;32m> 12489\u001B[0m \u001B[38;5;28;01mreturn\u001B[39;00m \u001B[38;5;28;43mself\u001B[39;49m\u001B[38;5;241;43m.\u001B[39;49m\u001B[43m_reduce\u001B[49m\u001B[43m(\u001B[49m\n\u001B[0;32m  12490\u001B[0m \u001B[43m    \u001B[49m\u001B[43mfunc\u001B[49m\u001B[43m,\u001B[49m\n\u001B[0;32m  12491\u001B[0m \u001B[43m    \u001B[49m\u001B[43mname\u001B[49m\u001B[38;5;241;43m=\u001B[39;49m\u001B[43mname\u001B[49m\u001B[43m,\u001B[49m\n\u001B[0;32m  12492\u001B[0m \u001B[43m    \u001B[49m\u001B[43maxis\u001B[49m\u001B[38;5;241;43m=\u001B[39;49m\u001B[43maxis\u001B[49m\u001B[43m,\u001B[49m\n\u001B[0;32m  12493\u001B[0m \u001B[43m    \u001B[49m\u001B[43mskipna\u001B[49m\u001B[38;5;241;43m=\u001B[39;49m\u001B[43mskipna\u001B[49m\u001B[43m,\u001B[49m\n\u001B[0;32m  12494\u001B[0m \u001B[43m    \u001B[49m\u001B[43mnumeric_only\u001B[49m\u001B[38;5;241;43m=\u001B[39;49m\u001B[43mnumeric_only\u001B[49m\u001B[43m,\u001B[49m\n\u001B[0;32m  12495\u001B[0m \u001B[43m    \u001B[49m\u001B[43mmin_count\u001B[49m\u001B[38;5;241;43m=\u001B[39;49m\u001B[43mmin_count\u001B[49m\u001B[43m,\u001B[49m\n\u001B[0;32m  12496\u001B[0m \u001B[43m\u001B[49m\u001B[43m)\u001B[49m\n",
      "File \u001B[1;32mC:\\FHNW_Programmiersachen\\5_Sem\\immo_challenge\\.venv\\Lib\\site-packages\\pandas\\core\\series.py:6457\u001B[0m, in \u001B[0;36mSeries._reduce\u001B[1;34m(self, op, name, axis, skipna, numeric_only, filter_type, **kwds)\u001B[0m\n\u001B[0;32m   6452\u001B[0m     \u001B[38;5;66;03m# GH#47500 - change to TypeError to match other methods\u001B[39;00m\n\u001B[0;32m   6453\u001B[0m     \u001B[38;5;28;01mraise\u001B[39;00m \u001B[38;5;167;01mTypeError\u001B[39;00m(\n\u001B[0;32m   6454\u001B[0m         \u001B[38;5;124mf\u001B[39m\u001B[38;5;124m\"\u001B[39m\u001B[38;5;124mSeries.\u001B[39m\u001B[38;5;132;01m{\u001B[39;00mname\u001B[38;5;132;01m}\u001B[39;00m\u001B[38;5;124m does not allow \u001B[39m\u001B[38;5;132;01m{\u001B[39;00mkwd_name\u001B[38;5;132;01m}\u001B[39;00m\u001B[38;5;124m=\u001B[39m\u001B[38;5;132;01m{\u001B[39;00mnumeric_only\u001B[38;5;132;01m}\u001B[39;00m\u001B[38;5;124m \u001B[39m\u001B[38;5;124m\"\u001B[39m\n\u001B[0;32m   6455\u001B[0m         \u001B[38;5;124m\"\u001B[39m\u001B[38;5;124mwith non-numeric dtypes.\u001B[39m\u001B[38;5;124m\"\u001B[39m\n\u001B[0;32m   6456\u001B[0m     )\n\u001B[1;32m-> 6457\u001B[0m \u001B[38;5;28;01mreturn\u001B[39;00m \u001B[43mop\u001B[49m\u001B[43m(\u001B[49m\u001B[43mdelegate\u001B[49m\u001B[43m,\u001B[49m\u001B[43m \u001B[49m\u001B[43mskipna\u001B[49m\u001B[38;5;241;43m=\u001B[39;49m\u001B[43mskipna\u001B[49m\u001B[43m,\u001B[49m\u001B[43m \u001B[49m\u001B[38;5;241;43m*\u001B[39;49m\u001B[38;5;241;43m*\u001B[39;49m\u001B[43mkwds\u001B[49m\u001B[43m)\u001B[49m\n",
      "File \u001B[1;32mC:\\FHNW_Programmiersachen\\5_Sem\\immo_challenge\\.venv\\Lib\\site-packages\\pandas\\core\\nanops.py:85\u001B[0m, in \u001B[0;36mdisallow.__call__.<locals>._f\u001B[1;34m(*args, **kwargs)\u001B[0m\n\u001B[0;32m     81\u001B[0m     \u001B[38;5;28;01mraise\u001B[39;00m \u001B[38;5;167;01mTypeError\u001B[39;00m(\n\u001B[0;32m     82\u001B[0m         \u001B[38;5;124mf\u001B[39m\u001B[38;5;124m\"\u001B[39m\u001B[38;5;124mreduction operation \u001B[39m\u001B[38;5;124m'\u001B[39m\u001B[38;5;132;01m{\u001B[39;00mf_name\u001B[38;5;132;01m}\u001B[39;00m\u001B[38;5;124m'\u001B[39m\u001B[38;5;124m not allowed for this dtype\u001B[39m\u001B[38;5;124m\"\u001B[39m\n\u001B[0;32m     83\u001B[0m     )\n\u001B[0;32m     84\u001B[0m \u001B[38;5;28;01mtry\u001B[39;00m:\n\u001B[1;32m---> 85\u001B[0m     \u001B[38;5;28;01mreturn\u001B[39;00m \u001B[43mf\u001B[49m\u001B[43m(\u001B[49m\u001B[38;5;241;43m*\u001B[39;49m\u001B[43margs\u001B[49m\u001B[43m,\u001B[49m\u001B[43m \u001B[49m\u001B[38;5;241;43m*\u001B[39;49m\u001B[38;5;241;43m*\u001B[39;49m\u001B[43mkwargs\u001B[49m\u001B[43m)\u001B[49m\n\u001B[0;32m     86\u001B[0m \u001B[38;5;28;01mexcept\u001B[39;00m \u001B[38;5;167;01mValueError\u001B[39;00m \u001B[38;5;28;01mas\u001B[39;00m e:\n\u001B[0;32m     87\u001B[0m     \u001B[38;5;66;03m# we want to transform an object array\u001B[39;00m\n\u001B[0;32m     88\u001B[0m     \u001B[38;5;66;03m# ValueError message to the more typical TypeError\u001B[39;00m\n\u001B[0;32m     89\u001B[0m     \u001B[38;5;66;03m# e.g. this is normally a disallowed function on\u001B[39;00m\n\u001B[0;32m     90\u001B[0m     \u001B[38;5;66;03m# object arrays that contain strings\u001B[39;00m\n\u001B[0;32m     91\u001B[0m     \u001B[38;5;28;01mif\u001B[39;00m is_object_dtype(args[\u001B[38;5;241m0\u001B[39m]):\n",
      "File \u001B[1;32mC:\\FHNW_Programmiersachen\\5_Sem\\immo_challenge\\.venv\\Lib\\site-packages\\pandas\\core\\nanops.py:404\u001B[0m, in \u001B[0;36m_datetimelike_compat.<locals>.new_func\u001B[1;34m(values, axis, skipna, mask, **kwargs)\u001B[0m\n\u001B[0;32m    401\u001B[0m \u001B[38;5;28;01mif\u001B[39;00m datetimelike \u001B[38;5;129;01mand\u001B[39;00m mask \u001B[38;5;129;01mis\u001B[39;00m \u001B[38;5;28;01mNone\u001B[39;00m:\n\u001B[0;32m    402\u001B[0m     mask \u001B[38;5;241m=\u001B[39m isna(values)\n\u001B[1;32m--> 404\u001B[0m result \u001B[38;5;241m=\u001B[39m \u001B[43mfunc\u001B[49m\u001B[43m(\u001B[49m\u001B[43mvalues\u001B[49m\u001B[43m,\u001B[49m\u001B[43m \u001B[49m\u001B[43maxis\u001B[49m\u001B[38;5;241;43m=\u001B[39;49m\u001B[43maxis\u001B[49m\u001B[43m,\u001B[49m\u001B[43m \u001B[49m\u001B[43mskipna\u001B[49m\u001B[38;5;241;43m=\u001B[39;49m\u001B[43mskipna\u001B[49m\u001B[43m,\u001B[49m\u001B[43m \u001B[49m\u001B[43mmask\u001B[49m\u001B[38;5;241;43m=\u001B[39;49m\u001B[43mmask\u001B[49m\u001B[43m,\u001B[49m\u001B[43m \u001B[49m\u001B[38;5;241;43m*\u001B[39;49m\u001B[38;5;241;43m*\u001B[39;49m\u001B[43mkwargs\u001B[49m\u001B[43m)\u001B[49m\n\u001B[0;32m    406\u001B[0m \u001B[38;5;28;01mif\u001B[39;00m datetimelike:\n\u001B[0;32m    407\u001B[0m     result \u001B[38;5;241m=\u001B[39m _wrap_results(result, orig_values\u001B[38;5;241m.\u001B[39mdtype, fill_value\u001B[38;5;241m=\u001B[39miNaT)\n",
      "File \u001B[1;32mC:\\FHNW_Programmiersachen\\5_Sem\\immo_challenge\\.venv\\Lib\\site-packages\\pandas\\core\\nanops.py:477\u001B[0m, in \u001B[0;36mmaybe_operate_rowwise.<locals>.newfunc\u001B[1;34m(values, axis, **kwargs)\u001B[0m\n\u001B[0;32m    474\u001B[0m         results \u001B[38;5;241m=\u001B[39m [func(x, \u001B[38;5;241m*\u001B[39m\u001B[38;5;241m*\u001B[39mkwargs) \u001B[38;5;28;01mfor\u001B[39;00m x \u001B[38;5;129;01min\u001B[39;00m arrs]\n\u001B[0;32m    475\u001B[0m     \u001B[38;5;28;01mreturn\u001B[39;00m np\u001B[38;5;241m.\u001B[39marray(results)\n\u001B[1;32m--> 477\u001B[0m \u001B[38;5;28;01mreturn\u001B[39;00m \u001B[43mfunc\u001B[49m\u001B[43m(\u001B[49m\u001B[43mvalues\u001B[49m\u001B[43m,\u001B[49m\u001B[43m \u001B[49m\u001B[43maxis\u001B[49m\u001B[38;5;241;43m=\u001B[39;49m\u001B[43maxis\u001B[49m\u001B[43m,\u001B[49m\u001B[43m \u001B[49m\u001B[38;5;241;43m*\u001B[39;49m\u001B[38;5;241;43m*\u001B[39;49m\u001B[43mkwargs\u001B[49m\u001B[43m)\u001B[49m\n",
      "File \u001B[1;32mC:\\FHNW_Programmiersachen\\5_Sem\\immo_challenge\\.venv\\Lib\\site-packages\\pandas\\core\\nanops.py:646\u001B[0m, in \u001B[0;36mnansum\u001B[1;34m(values, axis, skipna, min_count, mask)\u001B[0m\n\u001B[0;32m    643\u001B[0m \u001B[38;5;28;01melif\u001B[39;00m dtype\u001B[38;5;241m.\u001B[39mkind \u001B[38;5;241m==\u001B[39m \u001B[38;5;124m\"\u001B[39m\u001B[38;5;124mm\u001B[39m\u001B[38;5;124m\"\u001B[39m:\n\u001B[0;32m    644\u001B[0m     dtype_sum \u001B[38;5;241m=\u001B[39m np\u001B[38;5;241m.\u001B[39mdtype(np\u001B[38;5;241m.\u001B[39mfloat64)\n\u001B[1;32m--> 646\u001B[0m the_sum \u001B[38;5;241m=\u001B[39m \u001B[43mvalues\u001B[49m\u001B[38;5;241;43m.\u001B[39;49m\u001B[43msum\u001B[49m\u001B[43m(\u001B[49m\u001B[43maxis\u001B[49m\u001B[43m,\u001B[49m\u001B[43m \u001B[49m\u001B[43mdtype\u001B[49m\u001B[38;5;241;43m=\u001B[39;49m\u001B[43mdtype_sum\u001B[49m\u001B[43m)\u001B[49m\n\u001B[0;32m    647\u001B[0m the_sum \u001B[38;5;241m=\u001B[39m _maybe_null_out(the_sum, axis, mask, values\u001B[38;5;241m.\u001B[39mshape, min_count\u001B[38;5;241m=\u001B[39mmin_count)\n\u001B[0;32m    649\u001B[0m \u001B[38;5;28;01mreturn\u001B[39;00m the_sum\n",
      "File \u001B[1;32mC:\\FHNW_Programmiersachen\\5_Sem\\immo_challenge\\.venv\\Lib\\site-packages\\numpy\\_core\\_methods.py:53\u001B[0m, in \u001B[0;36m_sum\u001B[1;34m(a, axis, dtype, out, keepdims, initial, where)\u001B[0m\n\u001B[0;32m     51\u001B[0m \u001B[38;5;28;01mdef\u001B[39;00m \u001B[38;5;21m_sum\u001B[39m(a, axis\u001B[38;5;241m=\u001B[39m\u001B[38;5;28;01mNone\u001B[39;00m, dtype\u001B[38;5;241m=\u001B[39m\u001B[38;5;28;01mNone\u001B[39;00m, out\u001B[38;5;241m=\u001B[39m\u001B[38;5;28;01mNone\u001B[39;00m, keepdims\u001B[38;5;241m=\u001B[39m\u001B[38;5;28;01mFalse\u001B[39;00m,\n\u001B[0;32m     52\u001B[0m          initial\u001B[38;5;241m=\u001B[39m_NoValue, where\u001B[38;5;241m=\u001B[39m\u001B[38;5;28;01mTrue\u001B[39;00m):\n\u001B[1;32m---> 53\u001B[0m     \u001B[38;5;28;01mreturn\u001B[39;00m umr_sum(a, axis, dtype, out, keepdims, initial, where)\n",
      "\u001B[1;31mKeyboardInterrupt\u001B[0m: "
     ]
    }
   ],
   "source": [
    "import pandas as pd\n",
    "\n",
    "def compare_columns_percentage(df):\n",
    "    # Erstelle ein leeres Dictionary, um die Übereinstimmung zu speichern\n",
    "    similarity_info = {}\n",
    "    \n",
    "    # Vergleiche jede Spalte mit jeder anderen Spalte\n",
    "    for col1 in df.columns:\n",
    "        for col2 in df.columns:\n",
    "            if col1 != col2:  # Vermeide den Vergleich einer Spalte mit sich selbst\n",
    "                # Vergleiche die Werte in jeder Zeile\n",
    "                matching_rows = df[col1] == df[col2]\n",
    "                matching_percentage = (matching_rows.sum() / len(df)) * 100  # Prozentuale Übereinstimmung\n",
    "                \n",
    "                # Speichere die Informationen nur, wenn es eine Übereinstimmung gibt\n",
    "                if matching_percentage > 0:\n",
    "                    similarity_info[(col1, col2)] = matching_percentage\n",
    "    \n",
    "    # Erstelle ein DataFrame aus dem Dictionary, um die Ergebnisse anzuzeigen\n",
    "    similarity_df = pd.DataFrame.from_dict(similarity_info, orient='index', columns=['Percentage'])\n",
    "    similarity_df.index = pd.MultiIndex.from_tuples(similarity_df.index, names=[\"Column 1\", \"Column 2\"])\n",
    "    \n",
    "    # Sortiere die Ergebnisse nach der höchsten Übereinstimmung\n",
    "    similarity_df = similarity_df.sort_values(by=\"Percentage\", ascending=False)\n",
    "    \n",
    "    return similarity_df\n",
    "\n",
    "# Beispiel-Aufruf mit deinem DataFrame (df)\n",
    "similarity_df = compare_columns_percentage(df)\n",
    "# Display the results\n",
    "print(similarity_df)\n"
   ],
   "metadata": {
    "collapsed": false,
    "ExecuteTime": {
     "end_time": "2024-10-02T11:11:27.267348800Z",
     "start_time": "2024-10-02T11:10:50.776855600Z"
    }
   },
   "id": "24a11e24cd70d897",
   "execution_count": 12
  },
  {
   "cell_type": "code",
   "outputs": [],
   "source": [
    "similarity_df"
   ],
   "metadata": {
    "collapsed": false,
    "ExecuteTime": {
     "end_time": "2024-10-02T11:11:27.291591500Z",
     "start_time": "2024-10-02T11:11:27.271383200Z"
    }
   },
   "id": "fda7ac05b6bd2776",
   "execution_count": null
  },
  {
   "cell_type": "code",
   "outputs": [],
   "source": [
    "#df_droped_columns = df.drop(columns=['Unnamed: 0', 'plz', 'Living_area_unified', 'type', 'Availability', 'Municipality', 'Living space', 'Living_space_merged', 'address_s', 'location', 'space_cleaned', 'description', 'detailed_description', 'url', 'table', 'detail_responsive#municipality', 'detail_responsive#surface_living', 'detail_responsive#floor', 'detail_responsive#available_from', 'Minimum floor space:', 'Superficie utile', 'Gross return', 'Piano', 'Superficie del terreno', 'Surface utile', 'Gross yield:', 'Étage', 'Surface du terrain', 'Superficie abitabile', 'Comune', 'Disponibilità', 'Nutzfläche'])"
   ],
   "metadata": {
    "collapsed": false,
    "ExecuteTime": {
     "start_time": "2024-10-02T11:11:27.273153800Z"
    }
   },
   "id": "46cca9687cc2b64a",
   "execution_count": null
  },
  {
   "cell_type": "code",
   "outputs": [
    {
     "data": {
      "text/plain": "Index(['Minimum floor space:', 'Superficie utile', 'Gross return', 'Piano',\n       'Superficie del terreno', 'Surface utile', 'Gross yield:', 'Étage',\n       'Surface du terrain', 'Superficie abitabile', 'Comune', 'Disponibilità',\n       'Nutzfläche', 'Grundstücksfläche', 'Surface habitable', 'Stockwerk',\n       'Commune', 'Disponibilité', 'Number of toilets:',\n       'detail_responsive#surface_usable', 'Wohnfläche', 'Gemeinde',\n       'detail_responsive#surface_property', 'Verfügbarkeit',\n       'detail_responsive#floor', 'Room height:',\n       'detail_responsive#surface_living', 'detail_responsive#municipality',\n       'detail_responsive#available_from', 'Number of apartments:', 'Volume:',\n       'Last refurbishment:', 'Number of floors:', 'Floor space:',\n       'Floor space', 'Floor_space_merged', 'Land area:', 'Plot area',\n       'Plot_area_merged', 'Floor_unified', 'Floor_merged', 'Year built:',\n       'Plot_area_unified', 'features', 'No. of rooms:',\n       'description_detailed', 'Surface living:', 'space_cleaned', 'price_s',\n       'space', 'address_s', 'Floor'],\n      dtype='object')"
     },
     "execution_count": 20,
     "metadata": {},
     "output_type": "execute_result"
    }
   ],
   "source": [
    "columns_to_drop = count_column[count_column['missing [%]'] > 50].index\n",
    "columns_to_drop"
   ],
   "metadata": {
    "collapsed": false,
    "ExecuteTime": {
     "end_time": "2024-10-02T11:17:05.382717600Z",
     "start_time": "2024-10-02T11:17:05.326291700Z"
    }
   },
   "id": "6fae22e247126b4a",
   "execution_count": 20
  },
  {
   "cell_type": "code",
   "outputs": [],
   "source": [
    "df_droped_columns = df.drop(columns=columns_to_drop)\n",
    "df_droped_columns"
   ],
   "metadata": {
    "collapsed": false,
    "ExecuteTime": {
     "start_time": "2024-10-02T11:11:27.277194900Z"
    }
   },
   "id": "f8c13705cdcb704e",
   "execution_count": null
  },
  {
   "cell_type": "code",
   "outputs": [],
   "source": [],
   "metadata": {
    "collapsed": false,
    "ExecuteTime": {
     "start_time": "2024-10-02T11:11:27.279193700Z"
    }
   },
   "id": "faffa6da540ed81a",
   "execution_count": null
  },
  {
   "cell_type": "markdown",
   "source": [
    "# Analyse der Wohnungsdaten\n",
    "## Flächenattribute"
   ],
   "metadata": {
    "collapsed": false
   },
   "id": "793f1d21fc50c920"
  },
  {
   "cell_type": "code",
   "outputs": [
    {
     "data": {
      "text/plain": "                 type    type_unified  rooms Space extracted  \\\n10690   terrace-house   terrace-house    NaN             NaN   \n3906   detached-house  detached-house    7.0           140.0   \n17882       Apartment            flat  3.5rm            68.0   \n5021             flat            flat    2.0            45.0   \n20194       Apartment            flat    2rm            45.0   \n...               ...             ...    ...             ...   \n16848    Single house  detached-house   20rm           782.0   \n11005  detached-house  detached-house    4.0          1200.0   \n13958    Single house  detached-house   20rm           900.0   \n10657  detached-house  detached-house    0.0             NaN   \n16849    Single house  detached-house    NaN          1500.0   \n\n      Living_area_unified Availability_merged Availability  \\\n10690                 NaN          On request   On request   \n3906                140.0          31.12.2022   31.12.2022   \n17882                68.0                 NaN          NaN   \n5021                 45.0          On request   On request   \n20194                45.0                 NaN          NaN   \n...                   ...                 ...          ...   \n16848               782.0                 NaN          NaN   \n11005              1200.0          On request          NaN   \n13958               900.0                 NaN          NaN   \n10657                 NaN          On request   On request   \n16849              1500.0                 NaN          NaN   \n\n      Living_space_merged Living space     Floor  ... Surface utile Étage  \\\n10690                 NaN          NaN       NaN  ...           NaN   NaN   \n3906               140 m²       140 m²       NaN  ...           NaN   NaN   \n17882                 NaN          NaN        GF  ...           NaN   NaN   \n5021                45 m²        45 m²  8. floor  ...           NaN   NaN   \n20194                 NaN          NaN         8  ...           NaN   NaN   \n...                   ...          ...       ...  ...           ...   ...   \n16848                 NaN          NaN       NaN  ...           NaN   NaN   \n11005             1200 m²          NaN       NaN  ...           NaN   NaN   \n13958                 NaN          NaN       NaN  ...           NaN   NaN   \n10657                 NaN          NaN       NaN  ...           NaN   NaN   \n16849                 NaN          NaN       NaN  ...           NaN   NaN   \n\n      Surface du terrain Superficie abitabile Disponibilità Nutzfläche  \\\n10690                NaN                  NaN           NaN        NaN   \n3906                 NaN                  NaN           NaN        NaN   \n17882                NaN                  NaN           NaN        NaN   \n5021                 NaN                  NaN           NaN        NaN   \n20194                NaN                  NaN           NaN        NaN   \n...                  ...                  ...           ...        ...   \n16848                NaN                  NaN           NaN        NaN   \n11005                NaN                  NaN           NaN        NaN   \n13958                NaN                  NaN           NaN        NaN   \n10657                NaN                  NaN           NaN        NaN   \n16849                NaN                  NaN           NaN        NaN   \n\n      Grundstücksfläche Minimum floor space: Superficie utile Piano  \n10690               NaN                  NaN              NaN   NaN  \n3906                NaN                  NaN              NaN   NaN  \n17882               NaN                  NaN              NaN   NaN  \n5021                NaN                  NaN              NaN   NaN  \n20194               NaN                  NaN              NaN   NaN  \n...                 ...                  ...              ...   ...  \n16848               NaN                  NaN              NaN   NaN  \n11005           8071 m²                  NaN              NaN   NaN  \n13958               NaN                  NaN              NaN   NaN  \n10657               NaN                  NaN              NaN   NaN  \n16849               NaN                  NaN              NaN   NaN  \n\n[21466 rows x 53 columns]",
      "text/html": "<div>\n<style scoped>\n    .dataframe tbody tr th:only-of-type {\n        vertical-align: middle;\n    }\n\n    .dataframe tbody tr th {\n        vertical-align: top;\n    }\n\n    .dataframe thead th {\n        text-align: right;\n    }\n</style>\n<table border=\"1\" class=\"dataframe\">\n  <thead>\n    <tr style=\"text-align: right;\">\n      <th></th>\n      <th>type</th>\n      <th>type_unified</th>\n      <th>rooms</th>\n      <th>Space extracted</th>\n      <th>Living_area_unified</th>\n      <th>Availability_merged</th>\n      <th>Availability</th>\n      <th>Living_space_merged</th>\n      <th>Living space</th>\n      <th>Floor</th>\n      <th>...</th>\n      <th>Surface utile</th>\n      <th>Étage</th>\n      <th>Surface du terrain</th>\n      <th>Superficie abitabile</th>\n      <th>Disponibilità</th>\n      <th>Nutzfläche</th>\n      <th>Grundstücksfläche</th>\n      <th>Minimum floor space:</th>\n      <th>Superficie utile</th>\n      <th>Piano</th>\n    </tr>\n  </thead>\n  <tbody>\n    <tr>\n      <th>10690</th>\n      <td>terrace-house</td>\n      <td>terrace-house</td>\n      <td>NaN</td>\n      <td>NaN</td>\n      <td>NaN</td>\n      <td>On request</td>\n      <td>On request</td>\n      <td>NaN</td>\n      <td>NaN</td>\n      <td>NaN</td>\n      <td>...</td>\n      <td>NaN</td>\n      <td>NaN</td>\n      <td>NaN</td>\n      <td>NaN</td>\n      <td>NaN</td>\n      <td>NaN</td>\n      <td>NaN</td>\n      <td>NaN</td>\n      <td>NaN</td>\n      <td>NaN</td>\n    </tr>\n    <tr>\n      <th>3906</th>\n      <td>detached-house</td>\n      <td>detached-house</td>\n      <td>7.0</td>\n      <td>140.0</td>\n      <td>140.0</td>\n      <td>31.12.2022</td>\n      <td>31.12.2022</td>\n      <td>140 m²</td>\n      <td>140 m²</td>\n      <td>NaN</td>\n      <td>...</td>\n      <td>NaN</td>\n      <td>NaN</td>\n      <td>NaN</td>\n      <td>NaN</td>\n      <td>NaN</td>\n      <td>NaN</td>\n      <td>NaN</td>\n      <td>NaN</td>\n      <td>NaN</td>\n      <td>NaN</td>\n    </tr>\n    <tr>\n      <th>17882</th>\n      <td>Apartment</td>\n      <td>flat</td>\n      <td>3.5rm</td>\n      <td>68.0</td>\n      <td>68.0</td>\n      <td>NaN</td>\n      <td>NaN</td>\n      <td>NaN</td>\n      <td>NaN</td>\n      <td>GF</td>\n      <td>...</td>\n      <td>NaN</td>\n      <td>NaN</td>\n      <td>NaN</td>\n      <td>NaN</td>\n      <td>NaN</td>\n      <td>NaN</td>\n      <td>NaN</td>\n      <td>NaN</td>\n      <td>NaN</td>\n      <td>NaN</td>\n    </tr>\n    <tr>\n      <th>5021</th>\n      <td>flat</td>\n      <td>flat</td>\n      <td>2.0</td>\n      <td>45.0</td>\n      <td>45.0</td>\n      <td>On request</td>\n      <td>On request</td>\n      <td>45 m²</td>\n      <td>45 m²</td>\n      <td>8. floor</td>\n      <td>...</td>\n      <td>NaN</td>\n      <td>NaN</td>\n      <td>NaN</td>\n      <td>NaN</td>\n      <td>NaN</td>\n      <td>NaN</td>\n      <td>NaN</td>\n      <td>NaN</td>\n      <td>NaN</td>\n      <td>NaN</td>\n    </tr>\n    <tr>\n      <th>20194</th>\n      <td>Apartment</td>\n      <td>flat</td>\n      <td>2rm</td>\n      <td>45.0</td>\n      <td>45.0</td>\n      <td>NaN</td>\n      <td>NaN</td>\n      <td>NaN</td>\n      <td>NaN</td>\n      <td>8</td>\n      <td>...</td>\n      <td>NaN</td>\n      <td>NaN</td>\n      <td>NaN</td>\n      <td>NaN</td>\n      <td>NaN</td>\n      <td>NaN</td>\n      <td>NaN</td>\n      <td>NaN</td>\n      <td>NaN</td>\n      <td>NaN</td>\n    </tr>\n    <tr>\n      <th>...</th>\n      <td>...</td>\n      <td>...</td>\n      <td>...</td>\n      <td>...</td>\n      <td>...</td>\n      <td>...</td>\n      <td>...</td>\n      <td>...</td>\n      <td>...</td>\n      <td>...</td>\n      <td>...</td>\n      <td>...</td>\n      <td>...</td>\n      <td>...</td>\n      <td>...</td>\n      <td>...</td>\n      <td>...</td>\n      <td>...</td>\n      <td>...</td>\n      <td>...</td>\n      <td>...</td>\n    </tr>\n    <tr>\n      <th>16848</th>\n      <td>Single house</td>\n      <td>detached-house</td>\n      <td>20rm</td>\n      <td>782.0</td>\n      <td>782.0</td>\n      <td>NaN</td>\n      <td>NaN</td>\n      <td>NaN</td>\n      <td>NaN</td>\n      <td>NaN</td>\n      <td>...</td>\n      <td>NaN</td>\n      <td>NaN</td>\n      <td>NaN</td>\n      <td>NaN</td>\n      <td>NaN</td>\n      <td>NaN</td>\n      <td>NaN</td>\n      <td>NaN</td>\n      <td>NaN</td>\n      <td>NaN</td>\n    </tr>\n    <tr>\n      <th>11005</th>\n      <td>detached-house</td>\n      <td>detached-house</td>\n      <td>4.0</td>\n      <td>1200.0</td>\n      <td>1200.0</td>\n      <td>On request</td>\n      <td>NaN</td>\n      <td>1200 m²</td>\n      <td>NaN</td>\n      <td>NaN</td>\n      <td>...</td>\n      <td>NaN</td>\n      <td>NaN</td>\n      <td>NaN</td>\n      <td>NaN</td>\n      <td>NaN</td>\n      <td>NaN</td>\n      <td>8071 m²</td>\n      <td>NaN</td>\n      <td>NaN</td>\n      <td>NaN</td>\n    </tr>\n    <tr>\n      <th>13958</th>\n      <td>Single house</td>\n      <td>detached-house</td>\n      <td>20rm</td>\n      <td>900.0</td>\n      <td>900.0</td>\n      <td>NaN</td>\n      <td>NaN</td>\n      <td>NaN</td>\n      <td>NaN</td>\n      <td>NaN</td>\n      <td>...</td>\n      <td>NaN</td>\n      <td>NaN</td>\n      <td>NaN</td>\n      <td>NaN</td>\n      <td>NaN</td>\n      <td>NaN</td>\n      <td>NaN</td>\n      <td>NaN</td>\n      <td>NaN</td>\n      <td>NaN</td>\n    </tr>\n    <tr>\n      <th>10657</th>\n      <td>detached-house</td>\n      <td>detached-house</td>\n      <td>0.0</td>\n      <td>NaN</td>\n      <td>NaN</td>\n      <td>On request</td>\n      <td>On request</td>\n      <td>NaN</td>\n      <td>NaN</td>\n      <td>NaN</td>\n      <td>...</td>\n      <td>NaN</td>\n      <td>NaN</td>\n      <td>NaN</td>\n      <td>NaN</td>\n      <td>NaN</td>\n      <td>NaN</td>\n      <td>NaN</td>\n      <td>NaN</td>\n      <td>NaN</td>\n      <td>NaN</td>\n    </tr>\n    <tr>\n      <th>16849</th>\n      <td>Single house</td>\n      <td>detached-house</td>\n      <td>NaN</td>\n      <td>1500.0</td>\n      <td>1500.0</td>\n      <td>NaN</td>\n      <td>NaN</td>\n      <td>NaN</td>\n      <td>NaN</td>\n      <td>NaN</td>\n      <td>...</td>\n      <td>NaN</td>\n      <td>NaN</td>\n      <td>NaN</td>\n      <td>NaN</td>\n      <td>NaN</td>\n      <td>NaN</td>\n      <td>NaN</td>\n      <td>NaN</td>\n      <td>NaN</td>\n      <td>NaN</td>\n    </tr>\n  </tbody>\n</table>\n<p>21466 rows × 53 columns</p>\n</div>"
     },
     "execution_count": 21,
     "metadata": {},
     "output_type": "execute_result"
    }
   ],
   "source": [
    "columns_wohnung_attr = ['type'\n",
    "                        , 'type_unified'\n",
    "                        , 'rooms'\n",
    "                        , 'Space extracted'\n",
    "                        , 'Living_area_unified'\n",
    "                        , 'Availability_merged'\n",
    "                        , 'Availability'\n",
    "                        , 'Living_space_merged'\n",
    "                        , 'Living space'\n",
    "                        , 'Floor'\n",
    "                        , 'address_s'\n",
    "                        , 'space'\n",
    "                        , 'space_cleaned'\n",
    "                        , 'Surface living:'\n",
    "                        , 'No. of rooms:'\n",
    "                        , 'Plot_area_unified'\n",
    "                        , 'Year built:'\n",
    "                        , 'Floor space'\n",
    "                        , 'Floor_space_merged'\n",
    "                        , 'Land area:'\n",
    "                        , 'Plot area'\n",
    "                        , 'Plot_area_merged'\n",
    "                        , 'Floor_unified'\n",
    "                        , 'Floor_merged'\n",
    "                        , 'detail_responsive#floor'\n",
    "                        , 'Room height:'\n",
    "                        , 'detail_responsive#surface_living'\n",
    "                        , 'detail_responsive#municipality'\n",
    "                        , 'detail_responsive#available_from'\n",
    "                        , 'Number of apartments:'\n",
    "                        , 'Volume:'\n",
    "                        , 'Last refurbishment:'\n",
    "                        , 'Number of floors:'\n",
    "                        , 'Floor space:'\n",
    "                        , 'Surface habitable'\n",
    "                        , 'Stockwerk'\n",
    "                        , 'Disponibilité'\n",
    "                        , 'Number of toilets:'\n",
    "                        , 'detail_responsive#surface_usable'\n",
    "                        , 'Wohnfläche'\n",
    "                        , 'detail_responsive#surface_property'\n",
    "                        , 'Verfügbarkeit'\n",
    "                        , 'Superficie del terreno'\n",
    "                        , 'Surface utile'\n",
    "                        , 'Étage'\n",
    "                        , 'Surface du terrain'\n",
    "                        , 'Superficie abitabile'\n",
    "                        , 'Disponibilità'\n",
    "                        , 'Nutzfläche'\n",
    "                        , 'Grundstücksfläche'\n",
    "                        , 'Minimum floor space:'\n",
    "                        , 'Superficie utile'\n",
    "                        , 'Piano'\n",
    "                        ]\n",
    "df_wohung_flächenattr = df[columns_wohnung_attr]\n",
    "df_wohung_flächenattr"
   ],
   "metadata": {
    "collapsed": false,
    "ExecuteTime": {
     "end_time": "2024-10-02T11:24:18.879080500Z",
     "start_time": "2024-10-02T11:24:18.422397100Z"
    }
   },
   "id": "52a9d9110a704bc7",
   "execution_count": 21
  },
  {
   "cell_type": "code",
   "outputs": [
    {
     "data": {
      "text/plain": "type                                      0\ntype_unified                              0\nrooms                                   697\nSpace extracted                        1301\nLiving_area_unified                    1301\nAvailability_merged                    9552\nAvailability                           9784\nLiving_space_merged                   10427\nLiving space                          10649\nFloor                                 11770\naddress_s                             12340\nspace                                 12340\nspace_cleaned                         12340\nSurface living:                       12340\nNo. of rooms:                         12598\nPlot_area_unified                     13991\nYear built:                           14533\nFloor space                           18853\nFloor_space_merged                    18796\nLand area:                            18197\nPlot area                             17260\nPlot_area_merged                      17171\nFloor_unified                         16413\nFloor_merged                          16320\ndetail_responsive#floor               21268\nRoom height:                          21190\ndetail_responsive#surface_living      21068\ndetail_responsive#municipality        21048\ndetail_responsive#available_from      21040\nNumber of apartments:                 20562\nVolume:                               19934\nLast refurbishment:                   19209\nNumber of floors:                     19067\nFloor space:                          18706\nSurface habitable                     21405\nStockwerk                             21407\nDisponibilité                         21403\nNumber of toilets:                    21393\ndetail_responsive#surface_usable      21362\nWohnfläche                            21331\ndetail_responsive#surface_property    21325\nVerfügbarkeit                         21324\nSuperficie del terreno                21456\nSurface utile                         21453\nÉtage                                 21442\nSurface du terrain                    21441\nSuperficie abitabile                  21440\nDisponibilità                         21439\nNutzfläche                            21428\nGrundstücksfläche                     21412\nMinimum floor space:                  21464\nSuperficie utile                      21460\nPiano                                 21456\ndtype: int64"
     },
     "execution_count": 22,
     "metadata": {},
     "output_type": "execute_result"
    }
   ],
   "source": [
    "# count nan values per column\n",
    "nans_wohnung = df_wohung_flächenattr.isna().sum()\n",
    "nans_wohnung"
   ],
   "metadata": {
    "collapsed": false,
    "ExecuteTime": {
     "end_time": "2024-10-02T11:24:20.931524200Z",
     "start_time": "2024-10-02T11:24:19.108264900Z"
    }
   },
   "id": "5cb1be77b53a6b9b",
   "execution_count": 22
  },
  {
   "cell_type": "code",
   "outputs": [
    {
     "data": {
      "text/plain": "      Space extracted Living_area_unified Living_space_merged Living space  \\\n10690             NaN                 NaN                 NaN          NaN   \n3906            140.0               140.0              140 m²       140 m²   \n17882            68.0                68.0                 NaN          NaN   \n5021             45.0                45.0               45 m²        45 m²   \n20194            45.0                45.0                 NaN          NaN   \n...               ...                 ...                 ...          ...   \n16848           782.0               782.0                 NaN          NaN   \n11005          1200.0              1200.0             1200 m²          NaN   \n13958           900.0               900.0                 NaN          NaN   \n10657             NaN                 NaN                 NaN          NaN   \n16849          1500.0              1500.0                 NaN          NaN   \n\n         space space_cleaned Surface living: Plot_area_unified Floor space  \\\n10690      NaN           NaN             NaN               NaN         NaN   \n3906       NaN           NaN             NaN               NaN         NaN   \n17882     68m2          68.0           68 m2               NaN         NaN   \n5021       NaN           NaN             NaN               NaN         NaN   \n20194     45m2          45.0           45 m2               NaN         NaN   \n...        ...           ...             ...               ...         ...   \n16848    782m2         782.0          782 m2            4713.0         NaN   \n11005      NaN           NaN             NaN               NaN         NaN   \n13958    900m2         900.0          900 m2               NaN         NaN   \n10657      NaN           NaN             NaN            5000.0         NaN   \n16849  1,500m2        1500.0         1500 m2           10091.0         NaN   \n\n      Floor_space_merged  ... Wohnfläche detail_responsive#surface_property  \\\n10690                NaN  ...        NaN                                NaN   \n3906                 NaN  ...        NaN                                NaN   \n17882                NaN  ...        NaN                                NaN   \n5021                 NaN  ...        NaN                                NaN   \n20194                NaN  ...        NaN                                NaN   \n...                  ...  ...        ...                                ...   \n16848                NaN  ...        NaN                                NaN   \n11005                NaN  ...    1200 m²                                NaN   \n13958                NaN  ...        NaN                                NaN   \n10657                NaN  ...        NaN                                NaN   \n16849                NaN  ...        NaN                                NaN   \n\n      Superficie del terreno Surface utile Surface du terrain  \\\n10690                    NaN           NaN                NaN   \n3906                     NaN           NaN                NaN   \n17882                    NaN           NaN                NaN   \n5021                     NaN           NaN                NaN   \n20194                    NaN           NaN                NaN   \n...                      ...           ...                ...   \n16848                    NaN           NaN                NaN   \n11005                    NaN           NaN                NaN   \n13958                    NaN           NaN                NaN   \n10657                    NaN           NaN                NaN   \n16849                    NaN           NaN                NaN   \n\n      Superficie abitabile Nutzfläche Grundstücksfläche Minimum floor space:  \\\n10690                  NaN        NaN               NaN                  NaN   \n3906                   NaN        NaN               NaN                  NaN   \n17882                  NaN        NaN               NaN                  NaN   \n5021                   NaN        NaN               NaN                  NaN   \n20194                  NaN        NaN               NaN                  NaN   \n...                    ...        ...               ...                  ...   \n16848                  NaN        NaN               NaN                  NaN   \n11005                  NaN        NaN           8071 m²                  NaN   \n13958                  NaN        NaN               NaN                  NaN   \n10657                  NaN        NaN               NaN                  NaN   \n16849                  NaN        NaN               NaN                  NaN   \n\n      Superficie utile  \n10690              NaN  \n3906               NaN  \n17882              NaN  \n5021               NaN  \n20194              NaN  \n...                ...  \n16848              NaN  \n11005              NaN  \n13958              NaN  \n10657              NaN  \n16849              NaN  \n\n[21466 rows x 28 columns]",
      "text/html": "<div>\n<style scoped>\n    .dataframe tbody tr th:only-of-type {\n        vertical-align: middle;\n    }\n\n    .dataframe tbody tr th {\n        vertical-align: top;\n    }\n\n    .dataframe thead th {\n        text-align: right;\n    }\n</style>\n<table border=\"1\" class=\"dataframe\">\n  <thead>\n    <tr style=\"text-align: right;\">\n      <th></th>\n      <th>Space extracted</th>\n      <th>Living_area_unified</th>\n      <th>Living_space_merged</th>\n      <th>Living space</th>\n      <th>space</th>\n      <th>space_cleaned</th>\n      <th>Surface living:</th>\n      <th>Plot_area_unified</th>\n      <th>Floor space</th>\n      <th>Floor_space_merged</th>\n      <th>...</th>\n      <th>Wohnfläche</th>\n      <th>detail_responsive#surface_property</th>\n      <th>Superficie del terreno</th>\n      <th>Surface utile</th>\n      <th>Surface du terrain</th>\n      <th>Superficie abitabile</th>\n      <th>Nutzfläche</th>\n      <th>Grundstücksfläche</th>\n      <th>Minimum floor space:</th>\n      <th>Superficie utile</th>\n    </tr>\n  </thead>\n  <tbody>\n    <tr>\n      <th>10690</th>\n      <td>NaN</td>\n      <td>NaN</td>\n      <td>NaN</td>\n      <td>NaN</td>\n      <td>NaN</td>\n      <td>NaN</td>\n      <td>NaN</td>\n      <td>NaN</td>\n      <td>NaN</td>\n      <td>NaN</td>\n      <td>...</td>\n      <td>NaN</td>\n      <td>NaN</td>\n      <td>NaN</td>\n      <td>NaN</td>\n      <td>NaN</td>\n      <td>NaN</td>\n      <td>NaN</td>\n      <td>NaN</td>\n      <td>NaN</td>\n      <td>NaN</td>\n    </tr>\n    <tr>\n      <th>3906</th>\n      <td>140.0</td>\n      <td>140.0</td>\n      <td>140 m²</td>\n      <td>140 m²</td>\n      <td>NaN</td>\n      <td>NaN</td>\n      <td>NaN</td>\n      <td>NaN</td>\n      <td>NaN</td>\n      <td>NaN</td>\n      <td>...</td>\n      <td>NaN</td>\n      <td>NaN</td>\n      <td>NaN</td>\n      <td>NaN</td>\n      <td>NaN</td>\n      <td>NaN</td>\n      <td>NaN</td>\n      <td>NaN</td>\n      <td>NaN</td>\n      <td>NaN</td>\n    </tr>\n    <tr>\n      <th>17882</th>\n      <td>68.0</td>\n      <td>68.0</td>\n      <td>NaN</td>\n      <td>NaN</td>\n      <td>68m2</td>\n      <td>68.0</td>\n      <td>68 m2</td>\n      <td>NaN</td>\n      <td>NaN</td>\n      <td>NaN</td>\n      <td>...</td>\n      <td>NaN</td>\n      <td>NaN</td>\n      <td>NaN</td>\n      <td>NaN</td>\n      <td>NaN</td>\n      <td>NaN</td>\n      <td>NaN</td>\n      <td>NaN</td>\n      <td>NaN</td>\n      <td>NaN</td>\n    </tr>\n    <tr>\n      <th>5021</th>\n      <td>45.0</td>\n      <td>45.0</td>\n      <td>45 m²</td>\n      <td>45 m²</td>\n      <td>NaN</td>\n      <td>NaN</td>\n      <td>NaN</td>\n      <td>NaN</td>\n      <td>NaN</td>\n      <td>NaN</td>\n      <td>...</td>\n      <td>NaN</td>\n      <td>NaN</td>\n      <td>NaN</td>\n      <td>NaN</td>\n      <td>NaN</td>\n      <td>NaN</td>\n      <td>NaN</td>\n      <td>NaN</td>\n      <td>NaN</td>\n      <td>NaN</td>\n    </tr>\n    <tr>\n      <th>20194</th>\n      <td>45.0</td>\n      <td>45.0</td>\n      <td>NaN</td>\n      <td>NaN</td>\n      <td>45m2</td>\n      <td>45.0</td>\n      <td>45 m2</td>\n      <td>NaN</td>\n      <td>NaN</td>\n      <td>NaN</td>\n      <td>...</td>\n      <td>NaN</td>\n      <td>NaN</td>\n      <td>NaN</td>\n      <td>NaN</td>\n      <td>NaN</td>\n      <td>NaN</td>\n      <td>NaN</td>\n      <td>NaN</td>\n      <td>NaN</td>\n      <td>NaN</td>\n    </tr>\n    <tr>\n      <th>...</th>\n      <td>...</td>\n      <td>...</td>\n      <td>...</td>\n      <td>...</td>\n      <td>...</td>\n      <td>...</td>\n      <td>...</td>\n      <td>...</td>\n      <td>...</td>\n      <td>...</td>\n      <td>...</td>\n      <td>...</td>\n      <td>...</td>\n      <td>...</td>\n      <td>...</td>\n      <td>...</td>\n      <td>...</td>\n      <td>...</td>\n      <td>...</td>\n      <td>...</td>\n      <td>...</td>\n    </tr>\n    <tr>\n      <th>16848</th>\n      <td>782.0</td>\n      <td>782.0</td>\n      <td>NaN</td>\n      <td>NaN</td>\n      <td>782m2</td>\n      <td>782.0</td>\n      <td>782 m2</td>\n      <td>4713.0</td>\n      <td>NaN</td>\n      <td>NaN</td>\n      <td>...</td>\n      <td>NaN</td>\n      <td>NaN</td>\n      <td>NaN</td>\n      <td>NaN</td>\n      <td>NaN</td>\n      <td>NaN</td>\n      <td>NaN</td>\n      <td>NaN</td>\n      <td>NaN</td>\n      <td>NaN</td>\n    </tr>\n    <tr>\n      <th>11005</th>\n      <td>1200.0</td>\n      <td>1200.0</td>\n      <td>1200 m²</td>\n      <td>NaN</td>\n      <td>NaN</td>\n      <td>NaN</td>\n      <td>NaN</td>\n      <td>NaN</td>\n      <td>NaN</td>\n      <td>NaN</td>\n      <td>...</td>\n      <td>1200 m²</td>\n      <td>NaN</td>\n      <td>NaN</td>\n      <td>NaN</td>\n      <td>NaN</td>\n      <td>NaN</td>\n      <td>NaN</td>\n      <td>8071 m²</td>\n      <td>NaN</td>\n      <td>NaN</td>\n    </tr>\n    <tr>\n      <th>13958</th>\n      <td>900.0</td>\n      <td>900.0</td>\n      <td>NaN</td>\n      <td>NaN</td>\n      <td>900m2</td>\n      <td>900.0</td>\n      <td>900 m2</td>\n      <td>NaN</td>\n      <td>NaN</td>\n      <td>NaN</td>\n      <td>...</td>\n      <td>NaN</td>\n      <td>NaN</td>\n      <td>NaN</td>\n      <td>NaN</td>\n      <td>NaN</td>\n      <td>NaN</td>\n      <td>NaN</td>\n      <td>NaN</td>\n      <td>NaN</td>\n      <td>NaN</td>\n    </tr>\n    <tr>\n      <th>10657</th>\n      <td>NaN</td>\n      <td>NaN</td>\n      <td>NaN</td>\n      <td>NaN</td>\n      <td>NaN</td>\n      <td>NaN</td>\n      <td>NaN</td>\n      <td>5000.0</td>\n      <td>NaN</td>\n      <td>NaN</td>\n      <td>...</td>\n      <td>NaN</td>\n      <td>NaN</td>\n      <td>NaN</td>\n      <td>NaN</td>\n      <td>NaN</td>\n      <td>NaN</td>\n      <td>NaN</td>\n      <td>NaN</td>\n      <td>NaN</td>\n      <td>NaN</td>\n    </tr>\n    <tr>\n      <th>16849</th>\n      <td>1500.0</td>\n      <td>1500.0</td>\n      <td>NaN</td>\n      <td>NaN</td>\n      <td>1,500m2</td>\n      <td>1500.0</td>\n      <td>1500 m2</td>\n      <td>10091.0</td>\n      <td>NaN</td>\n      <td>NaN</td>\n      <td>...</td>\n      <td>NaN</td>\n      <td>NaN</td>\n      <td>NaN</td>\n      <td>NaN</td>\n      <td>NaN</td>\n      <td>NaN</td>\n      <td>NaN</td>\n      <td>NaN</td>\n      <td>NaN</td>\n      <td>NaN</td>\n    </tr>\n  </tbody>\n</table>\n<p>21466 rows × 28 columns</p>\n</div>"
     },
     "execution_count": 23,
     "metadata": {},
     "output_type": "execute_result"
    }
   ],
   "source": [
    "columns_duplicated_space_attr = [\n",
    "                        'Space extracted'\n",
    "                        , 'Living_area_unified'\n",
    "                        , 'Living_space_merged'\n",
    "                        , 'Living space'\n",
    "                        , 'space'\n",
    "                        , 'space_cleaned'\n",
    "                        , 'Surface living:'\n",
    "                        , 'Plot_area_unified'\n",
    "                        , 'Floor space'\n",
    "                        , 'Floor_space_merged'\n",
    "                        , 'Land area:'\n",
    "                        , 'Plot area'\n",
    "                        , 'Plot_area_merged'\n",
    "                        , 'detail_responsive#surface_living'\n",
    "                        , 'Volume:'\n",
    "                        , 'Floor space:'\n",
    "                        , 'Surface habitable'\n",
    "                        , 'detail_responsive#surface_usable'\n",
    "                        , 'Wohnfläche'\n",
    "                        , 'detail_responsive#surface_property'\n",
    "                        , 'Superficie del terreno'\n",
    "                        , 'Surface utile'\n",
    "                        , 'Surface du terrain'\n",
    "                        , 'Superficie abitabile'\n",
    "                        , 'Nutzfläche'\n",
    "                        , 'Grundstücksfläche'\n",
    "                        , 'Minimum floor space:'\n",
    "                        , 'Superficie utile'\n",
    "]\n",
    "df_wohung_flächenattr = df[columns_duplicated_space_attr]\n",
    "df_wohung_flächenattr"
   ],
   "metadata": {
    "collapsed": false,
    "ExecuteTime": {
     "end_time": "2024-10-02T11:24:21.788574700Z",
     "start_time": "2024-10-02T11:24:21.258930700Z"
    }
   },
   "id": "c7b6e2179e07ad61",
   "execution_count": 23
  },
  {
   "cell_type": "code",
   "outputs": [
    {
     "data": {
      "text/plain": "Space extracted                        1301\nLiving_area_unified                    1301\nLiving_space_merged                   10427\nLiving space                          10649\nspace                                 12340\nspace_cleaned                         12340\nSurface living:                       12340\nPlot_area_unified                     13991\nFloor space                           18853\nFloor_space_merged                    18796\nLand area:                            18197\nPlot area                             17260\nPlot_area_merged                      17171\ndetail_responsive#surface_living      21068\nVolume:                               19934\nFloor space:                          18706\nSurface habitable                     21405\ndetail_responsive#surface_usable      21362\nWohnfläche                            21331\ndetail_responsive#surface_property    21325\nSuperficie del terreno                21456\nSurface utile                         21453\nSurface du terrain                    21441\nSuperficie abitabile                  21440\nNutzfläche                            21428\nGrundstücksfläche                     21412\nMinimum floor space:                  21464\nSuperficie utile                      21460\ndtype: int64"
     },
     "execution_count": 24,
     "metadata": {},
     "output_type": "execute_result"
    }
   ],
   "source": [
    "nans_wohnung = df_wohung_flächenattr.isna().sum()\n",
    "nans_wohnung"
   ],
   "metadata": {
    "collapsed": false,
    "ExecuteTime": {
     "end_time": "2024-10-02T11:24:23.503607400Z",
     "start_time": "2024-10-02T11:24:23.230578500Z"
    }
   },
   "id": "c5abf5b7a36276bc",
   "execution_count": 24
  },
  {
   "cell_type": "code",
   "outputs": [],
   "source": [
    "from src.dataPipeline import DataPipeline as dp\n",
    "from sklearn.impute import SimpleImputer\n",
    "\n",
    "dp = dp()\n",
    "dp.read_csv('../data/immo_data_202208_v2.csv')\n",
    "dp.drop_columns([\n",
    "    'Living_area_unified'\n",
    "    ,'Living_space_merged'\n",
    "    ,'Living space'\n",
    "    ,'space'\n",
    "    ,'space_cleaned'\n",
    "    ,'Surface living:'\n",
    "    ,'Wohnfläche'\n",
    "    ,'Superficie abitabile'\n",
    "])\n",
    "dp.impute_missing_values(imputer=SimpleImputer(strategy='most_frequent'))\n",
    "dp.get_data()"
   ],
   "metadata": {
    "collapsed": false,
    "ExecuteTime": {
     "start_time": "2024-10-02T11:11:27.288069700Z"
    }
   },
   "id": "262b4c2376c9b7b6",
   "execution_count": null
  },
  {
   "cell_type": "code",
   "outputs": [
    {
     "name": "stdout",
     "output_type": "stream",
     "text": [
      "Unnamed: 0.1 0\n",
      "Unnamed: 0 0\n",
      "Municipality Biberstein\n",
      "Living space 100 m²\n",
      "Plot area nan\n",
      "Floor space nan\n",
      "Availability On request\n",
      "location 5023 Biberstein, AG\n",
      "description 3.5 rooms, 100 m²«Luxuriöse Attika-Wohnung mit herrlicher Aussicht»CHF 1,150,000.—Favourite\n",
      "detailed_description DescriptionLuxuriöse Attika-Wohnung direkt an der Aare und angrenzend an die Landwirtschaftszone, mit unverbaubarer Weitsicht, grosszügiger Garage und Option auf ein zusätzliches Zimmer.Einzigartige Lage, top Aussicht und hochwertige Innenausstattung? Das alles bietet diese charmante Eigentumswohnung auf 100m2 im steuergünstigen Biberstein. Stadtnah gelegen und mit direktem Naturzugang sorgt sie für ein rundum angenehmes Wohngefühl.In der ganzen Wohnung sind hochwertige Materialien mit einem südländischen Touch verbaut. Der Boden ist mit einem Jurastein und die beiden Zimmer mit Holz versehen (mit Bodenheizung).In die Wohnung gelangt man über einen separaten Eingang, ein halbes Stockwerk vom gewachsenen Boden erhöht (kein gemeinsames Treppenhaus). Die grosse Terrasse (rund 70m2) öffnet nach Süden ein einzigartiges Panorama mit einem herrlichen Blick auf Natur, Aare und Alpen.Naturfreunde können von der Haustür direkt an die Aare oder in die Wälder gelangen. Zur Arbeit ist die Bushaltestelle nur 200m entfernt (Bahnhof Aarau ist innerhalb von wenigen Minuten erreichbar). Für die Fahrzeuge bestehen 3 Parkmöglichkeiten: Eine grosse Garage mit Fenster direkt unterhalb der Wohnung (Länge: 7m / Breite: 3m), ein Aussenparkplatz vor der Garage und daneben ein grosszügiger Carport.Die Wohnung zeichnet sich besonders durch ihren grosszügigen Wohn-/Essbereich mit einer bodentiefen Fensterfronst nach Süden aus. Vom Eingangsbereich mit Garderobe gelangt man auf beiden Seiten direkt in zwei separate Zimmer. Anschliessend findet sich links das ideal ausgestattete Badezimmer (Badewanne, Dusche, zwei Lavabos, elektrischer Handtuchwärmer, alles in hochwertiger Qualität - Villeroy&Boch/Granit/Jurastein/Murano-Glas). Die Küche ist grosszügig und halb offen zum Essbereich konzipiert. Zwischen dem Badezimmer und der Küche befindet sich ein grosser Abstellraum (fast 10m2) mit eigener Waschmaschine / Tumbler/Lavabo. Noch mehr Stauraum bietet ein grosszügiger Keller im Untergeschoss. Im Wohn-/Essbereich war ursprünglich ein weiteres Zimmer geplant, womit die Wohnung mit wenig Aufwand zu einer 4.5-Zimmer-Wohnung erweitert werden könnte.Neben der grossen Süd-Terrasse hat es einen weiteren Balkon Richtung Osten, wo sich das Frühstück wunderbar an der Morgensonne geniessen lässt. Die eingebaute Klimaanlage bietet zudem auch an heissen Sommertagen eine angenehme Raumtemperatur.Das Haus ist mit einer modernen, effizienten Ölheizung ausgestattet. Sie überzeugt mit einem sehr tiefen Verbrauch und wird jährlich per Serviceabonnement gewartet. Der wohnungseigene Warmwasser-Boiler fasst 300 Liter und ist ab Service.Es würde uns freuen, Ihnen diese einzigartige Wohnung an einem individuellen Besichtigungstermin vorzustellen.\n",
      "url https://www.immoscout24.ch//en/d/penthouse-buy-biberstein/7255200\n",
      "table b <article class=####Box-cYFBPY hKrxoH####><h2 class=####Box-cYFBPY gZLPvm####>Main information</h2><table class=####DataTable__StyledTable-sc-1o2xig5-1 jbXaEC####><tbody><tr><td class=####DataTable__SimpleCell-sc-1o2xig5-2 DataTable__Cell-sc-1o2xig5-4 edrNfG dGBatU####>Municipality</td><td class=####DataTable__SimpleCell-sc-1o2xig5-2 DataTable__CellValue-sc-1o2xig5-3 edrNfG rJZBK####>Biberstein</td></tr><tr><td class=####DataTable__SimpleCell-sc-1o2xig5-2 DataTable__Cell-sc-1o2xig5-4 edrNfG dGBatU####>Living space</td><td class=####DataTable__SimpleCell-sc-1o2xig5-2 DataTable__CellValue-sc-1o2xig5-3 edrNfG rJZBK####>100 m&#178;</td></tr><tr><td class=####DataTable__SimpleCell-sc-1o2xig5-2 DataTable__Cell-sc-1o2xig5-4 edrNfG dGBatU####>Floor</td><td class=####DataTable__SimpleCell-sc-1o2xig5-2 DataTable__CellValue-sc-1o2xig5-3 edrNfG rJZBK####>4. floor</td></tr><tr><td class=####DataTable__SimpleCell-sc-1o2xig5-2 DataTable__Cell-sc-1o2xig5-4 edrNfG dGBatU####>Availability</td><td class=####DataTable__SimpleCell-sc-1o2xig5-2 DataTable__CellValue-sc-1o2xig5-3 edrNfG rJZBK####>On request</td></tr><tr class=####Box-cYFBPY fgkiRl####><td colspan=####2#### class=####DataTable__SimpleCell-sc-1o2xig5-2 DataTable__Cell-sc-1o2xig5-4 edrNfG fFglmV####><a href=####https://cis01.immoscout24.ch/is24media/13/d5/2bb0f98746-220805.pdf#### target=####_blank#### rel=####noopener#### class=####Box-cYFBPY Link__Shell-kMBQAv ljXWtL hMCCae####><svg width=####24#### height=####24#### viewbox=####0 0 24 24#### fill=####none#### class=####Pdf__SvgPdf-fVqkQz jPOpoj####><path d=####M18 18v2H6v-2H4v4h16v-5l-2 1zM4 10V8l6-6h10v8h-2V4h-6v6H4zm6-5L7 8h3V5zm-2.042 7.386a2.131 2.131 0 00-1.405-1.228A6.203 6.203 0 005 11H4v6h1v-1.995a6.2 6.2 0 001.552-.159 2.131 2.131 0 001.406-1.227 2.756 2.756 0 000-1.233zM5.995 14L5 14.002V12h1s1.073 0 1.036 1a1.026 1.026 0 01-1.041 1zM19 12v-1h-4v6h1v-2h2v-1h-2v-2h3zm-5.033 1.886C13.927 11.931 12.79 11 10.913 11H9v6h1.913c1.877 0 3.014-.931 3.054-2.886v-.228zM11 16h-1v-4h1a1.789 1.789 0 012.003 2A1.788 1.788 0 0111 16z#### fill=#####333####/></svg>A_Grundriss.pdf</a></td></tr></tbody></table><hr class=####Divider-iprSaI bBhTLQ####/></article> \n",
      "Floor 4. floor\n",
      "detail_responsive#municipality nan\n",
      "detail_responsive#surface_living nan\n",
      "detail_responsive#floor nan\n",
      "detail_responsive#available_from nan\n",
      "Gemeinde nan\n",
      "Wohnfläche nan\n",
      "Stockwerk nan\n",
      "Nutzfläche nan\n",
      "Verfügbarkeit nan\n",
      "Grundstücksfläche nan\n",
      "detail_responsive#surface_property nan\n",
      "detail_responsive#surface_usable nan\n",
      "Commune nan\n",
      "Surface habitable nan\n",
      "Surface du terrain nan\n",
      "Surface utile nan\n",
      "Disponibilité nan\n",
      "Étage nan\n",
      "Comune nan\n",
      "Superficie abitabile nan\n",
      "Disponibilità nan\n",
      "Gross return nan\n",
      "Piano nan\n",
      "Superficie del terreno nan\n",
      "Superficie utile nan\n",
      "Municipality_merged Biberstein\n",
      "Floor_merged 4. floor\n",
      "Living_space_merged 100 m²\n",
      "Floor_space_merged nan\n",
      "Plot_area_merged nan\n",
      "Availability_merged On request\n",
      "location_parsed Strasse:  plz:5023 Stadt: Biberstein Kanton: AG\n",
      "title Luxuriöse Attika-Wohnung mit herrlicher Aussicht\n",
      "details 3.5 rooms, 100 m², \n",
      "address 5023 Biberstein, AG\n",
      "price CHF 1,150,000.—\n",
      "link /en/d/penthouse-buy-biberstein/7255200\n",
      "details_structured {'Municipality': 'Biberstein', 'Living space': '100 m²', 'Floor': '4. floor', 'Availability': 'On request', 'location': '5023 Biberstein, AG', 'description': '3.5 rooms, 100 m²«Luxuriöse Attika-Wohnung mit herrlicher Aussicht»CHF 1,150,000.—Favourite', 'detailed_description': 'DescriptionLuxuriöse Attika-Wohnung direkt an der Aare und angrenzend an die Landwirtschaftszone, mit unverbaubarer Weitsicht, grosszügiger Garage und Option auf ein zusätzliches Zimmer.Einzigartige Lage, top Aussicht und hochwertige Innenausstattung? Das alles bietet diese charmante Eigentumswohnung auf 100m2 im steuergünstigen Biberstein. Stadtnah gelegen und mit direktem Naturzugang sorgt sie für ein rundum angenehmes Wohngefühl.In der ganzen Wohnung sind hochwertige Materialien mit einem südländischen Touch verbaut. Der Boden ist mit einem Jurastein und die beiden Zimmer mit Holz versehen (mit Bodenheizung).In die Wohnung gelangt man über einen separaten Eingang, ein halbes Stockwerk vom gewachsenen Boden erhöht (kein gemeinsames Treppenhaus). Die grosse Terrasse (rund 70m2) öffnet nach Süden ein einzigartiges Panorama mit einem herrlichen Blick auf Natur, Aare und Alpen.Naturfreunde können von der Haustür direkt an die Aare oder in die Wälder gelangen. Zur Arbeit ist die Bushaltestelle nur 200m entfernt (Bahnhof Aarau ist innerhalb von wenigen Minuten erreichbar). Für die Fahrzeuge bestehen 3 Parkmöglichkeiten: Eine grosse Garage mit Fenster direkt unterhalb der Wohnung (Länge: 7m / Breite: 3m), ein Aussenparkplatz vor der Garage und daneben ein grosszügiger Carport.Die Wohnung zeichnet sich besonders durch ihren grosszügigen Wohn-/Essbereich mit einer bodentiefen Fensterfronst nach Süden aus. Vom Eingangsbereich mit Garderobe gelangt man auf beiden Seiten direkt in zwei separate Zimmer. Anschliessend findet sich links das ideal ausgestattete Badezimmer (Badewanne, Dusche, zwei Lavabos, elektrischer Handtuchwärmer, alles in hochwertiger Qualität - Villeroy&Boch/Granit/Jurastein/Murano-Glas). Die Küche ist grosszügig und halb offen zum Essbereich konzipiert. Zwischen dem Badezimmer und der Küche befindet sich ein grosser Abstellraum (fast 10m2) mit eigener Waschmaschine / Tumbler/Lavabo. Noch mehr Stauraum bietet ein grosszügiger Keller im Untergeschoss. Im Wohn-/Essbereich war ursprünglich ein weiteres Zimmer geplant, womit die Wohnung mit wenig Aufwand zu einer 4.5-Zimmer-Wohnung erweitert werden könnte.Neben der grossen Süd-Terrasse hat es einen weiteren Balkon Richtung Osten, wo sich das Frühstück wunderbar an der Morgensonne geniessen lässt. Die eingebaute Klimaanlage bietet zudem auch an heissen Sommertagen eine angenehme Raumtemperatur.Das Haus ist mit einer modernen, effizienten Ölheizung ausgestattet. Sie überzeugt mit einem sehr tiefen Verbrauch und wird jährlich per Serviceabonnement gewartet. Der wohnungseigene Warmwasser-Boiler fasst 300 Liter und ist ab Service.Es würde uns freuen, Ihnen diese einzigartige Wohnung an einem individuellen Besichtigungstermin vorzustellen.', 'url': 'https://www.immoscout24.ch//en/d/penthouse-buy-biberstein/7255200', 'table': 'b\\'<article class=\"Box-cYFBPY hKrxoH\"><h2 class=\"Box-cYFBPY gZLPvm\">Main information</h2><table class=\"DataTable__StyledTable-sc-1o2xig5-1 jbXaEC\"><tbody><tr><td class=\"DataTable__SimpleCell-sc-1o2xig5-2 DataTable__Cell-sc-1o2xig5-4 edrNfG dGBatU\">Municipality</td><td class=\"DataTable__SimpleCell-sc-1o2xig5-2 DataTable__CellValue-sc-1o2xig5-3 edrNfG rJZBK\">Biberstein</td></tr><tr><td class=\"DataTable__SimpleCell-sc-1o2xig5-2 DataTable__Cell-sc-1o2xig5-4 edrNfG dGBatU\">Living space</td><td class=\"DataTable__SimpleCell-sc-1o2xig5-2 DataTable__CellValue-sc-1o2xig5-3 edrNfG rJZBK\">100 m&#178;</td></tr><tr><td class=\"DataTable__SimpleCell-sc-1o2xig5-2 DataTable__Cell-sc-1o2xig5-4 edrNfG dGBatU\">Floor</td><td class=\"DataTable__SimpleCell-sc-1o2xig5-2 DataTable__CellValue-sc-1o2xig5-3 edrNfG rJZBK\">4. floor</td></tr><tr><td class=\"DataTable__SimpleCell-sc-1o2xig5-2 DataTable__Cell-sc-1o2xig5-4 edrNfG dGBatU\">Availability</td><td class=\"DataTable__SimpleCell-sc-1o2xig5-2 DataTable__CellValue-sc-1o2xig5-3 edrNfG rJZBK\">On request</td></tr><tr class=\"Box-cYFBPY fgkiRl\"><td colspan=\"2\" class=\"DataTable__SimpleCell-sc-1o2xig5-2 DataTable__Cell-sc-1o2xig5-4 edrNfG fFglmV\"><a href=\"https://cis01.immoscout24.ch/is24media/13/d5/2bb0f98746-220805.pdf\" target=\"_blank\" rel=\"noopener\" class=\"Box-cYFBPY Link__Shell-kMBQAv ljXWtL hMCCae\"><svg width=\"24\" height=\"24\" viewbox=\"0 0 24 24\" fill=\"none\" class=\"Pdf__SvgPdf-fVqkQz jPOpoj\"><path d=\"M18 18v2H6v-2H4v4h16v-5l-2 1zM4 10V8l6-6h10v8h-2V4h-6v6H4zm6-5L7 8h3V5zm-2.042 7.386a2.131 2.131 0 00-1.405-1.228A6.203 6.203 0 005 11H4v6h1v-1.995a6.2 6.2 0 001.552-.159 2.131 2.131 0 001.406-1.227 2.756 2.756 0 000-1.233zM5.995 14L5 14.002V12h1s1.073 0 1.036 1a1.026 1.026 0 01-1.041 1zM19 12v-1h-4v6h1v-2h2v-1h-2v-2h3zm-5.033 1.886C13.927 11.931 12.79 11 10.913 11H9v6h1.913c1.877 0 3.014-.931 3.054-2.886v-.228zM11 16h-1v-4h1a1.789 1.789 0 012.003 2A1.788 1.788 0 0111 16z\" fill=\"#333\"/></svg>A_Grundriss.pdf</a></td></tr></tbody></table><hr class=\"Divider-iprSaI bBhTLQ\"/></article>\\''}\n",
      "lat 47.4171\n",
      "lon 8.0856\n",
      "index 16620\n",
      "ForestDensityL 0.5111756483642033\n",
      "ForestDensityM 0.2864510208821959\n",
      "ForestDensityS 0.0909078094589692\n",
      "Latitude 47.4159269\n",
      "Locality Biberstein\n",
      "Longitude 8.0858398\n",
      "NoisePollutionRailwayL 0.0\n",
      "NoisePollutionRailwayM 0.0\n",
      "NoisePollutionRailwayS 0.0\n",
      "NoisePollutionRoadL 0.0582979379946271\n",
      "NoisePollutionRoadM 0.067047626047332\n",
      "NoisePollutionRoadS 0.1038503253796095\n",
      "PopulationDensityL 0.0929137474087486\n",
      "PopulationDensityM 0.2095297398560906\n",
      "PopulationDensityS 0.3666736198025309\n",
      "RiversAndLakesL 0.0821698280693361\n",
      "RiversAndLakesM 0.0018113817490726\n",
      "RiversAndLakesS 0.0118710714307242\n",
      "WorkplaceDensityL 0.0301693757471317\n",
      "WorkplaceDensityM 0.0521201856730648\n",
      "WorkplaceDensityS 0.0989513422818792\n",
      "Zip 5023\n",
      "distanceToTrainStation 3.0384665928009302\n",
      "gde_area_agriculture_percentage 30.6763285024\n",
      "gde_area_forest_percentage 51.44927536229999\n",
      "gde_area_nonproductive_percentage 4.5893719807\n",
      "gde_area_settlement_percentage 13.2850241546\n",
      "gde_average_house_hold 2.23\n",
      "gde_empty_apartments 1.9946808511\n",
      "gde_foreigners_percentage 9.25566343\n",
      "gde_new_homes_per_1000 4.739336492900001\n",
      "gde_politics_bdp 5.8737151248\n",
      "gde_politics_cvp 4.5796622614\n",
      "gde_politics_evp 3.359030837\n",
      "gde_politics_fdp 18.3553597651\n",
      "gde_politics_glp 6.0572687225\n",
      "gde_politics_gps 7.0668135095\n",
      "gde_politics_pda nan\n",
      "gde_politics_rights 0.2202643172\n",
      "gde_politics_sp 20.392804699000003\n",
      "gde_politics_svp 30.8094713656\n",
      "gde_pop_per_km2 376.829268293\n",
      "gde_population 1545.0\n",
      "gde_private_apartments 686.0\n",
      "gde_social_help_quota 2.2342586324\n",
      "gde_tax 5.89\n",
      "gde_workers_sector1 14.0\n",
      "gde_workers_sector2 9.0\n",
      "gde_workers_sector3 308.0\n",
      "gde_workers_total 331.0\n",
      "price_cleaned 1150000.0\n",
      "type penthouse\n",
      "Space extracted 100.0\n",
      "rooms 5.0\n",
      "plz_parsed 5023.0\n",
      "type_unified penthouse\n",
      "Floor_unified 4\n",
      "Plot_area_unified nan\n",
      "Living_area_unified 100.0\n",
      "provider Immoscout24.ch\n",
      "space nan\n",
      "price_s nan\n",
      "address_s nan\n",
      "No. of rooms: nan\n",
      "Number of apartments: nan\n",
      "Surface living: nan\n",
      "Land area: nan\n",
      "Room height: nan\n",
      "Last refurbishment: nan\n",
      "Year built: nan\n",
      "features nan\n",
      "description_detailed nan\n",
      "Floor space: nan\n",
      "Number of floors: nan\n",
      "Volume: nan\n",
      "plz 5023.0\n",
      "Number of toilets: nan\n",
      "Gross yield: nan\n",
      "Minimum floor space: nan\n",
      "space_cleaned nan\n"
     ]
    }
   ],
   "source": [
    "for column in df.columns:\n",
    "    print(column, df[column][0])\n"
   ],
   "metadata": {
    "collapsed": false,
    "ExecuteTime": {
     "end_time": "2024-10-02T11:14:05.541585Z",
     "start_time": "2024-10-02T11:14:05.530101300Z"
    }
   },
   "id": "9943ca6d5ed475b2",
   "execution_count": 19
  },
  {
   "cell_type": "markdown",
   "source": [],
   "metadata": {
    "collapsed": false
   },
   "id": "3e98e90a40204d9"
  },
  {
   "cell_type": "markdown",
   "source": [
    "Stockwerk"
   ],
   "metadata": {
    "collapsed": false
   },
   "id": "415ae64df1a67203"
  },
  {
   "cell_type": "code",
   "outputs": [
    {
     "data": {
      "text/plain": "Floor_unified              4934\nFloor_merged               4841\nÉtage                      9963\nPiano                      9977\nStockwerk                  9928\ndetail_responsive#floor    9789\nFloor                       291\ndtype: int64"
     },
     "execution_count": 30,
     "metadata": {},
     "output_type": "execute_result"
    }
   ],
   "source": [
    "# drop rows where every value is missing\n",
    "\n",
    "temp = df[['Floor_unified', 'Floor_merged', 'Étage', 'Piano', 'Stockwerk', 'detail_responsive#floor', 'Floor']]\n",
    "temp.dropna(how='all').isna().sum()\n"
   ],
   "metadata": {
    "collapsed": false,
    "ExecuteTime": {
     "end_time": "2024-10-02T12:45:54.647804100Z",
     "start_time": "2024-10-02T12:45:54.243115200Z"
    }
   },
   "id": "274635971d09d765",
   "execution_count": 30
  },
  {
   "cell_type": "code",
   "outputs": [
    {
     "name": "stderr",
     "output_type": "stream",
     "text": [
      "C:\\Users\\denis\\AppData\\Local\\Temp\\ipykernel_21336\\467695869.py:2: SettingWithCopyWarning: \n",
      "A value is trying to be set on a copy of a slice from a DataFrame.\n",
      "Try using .loc[row_indexer,col_indexer] = value instead\n",
      "\n",
      "See the caveats in the documentation: https://pandas.pydata.org/pandas-docs/stable/user_guide/indexing.html#returning-a-view-versus-a-copy\n",
      "  temp['Floor'] = temp[['Floor', 'detail_responsive#floor', 'Floor_merged']].bfill(axis=1)['Floor']\n"
     ]
    },
    {
     "data": {
      "text/plain": "Floor_unified              16413\nFloor_merged               16320\nÉtage                      21442\nPiano                      21456\nStockwerk                  21407\ndetail_responsive#floor    21268\nFloor                      11479\ndtype: int64"
     },
     "execution_count": 36,
     "metadata": {},
     "output_type": "execute_result"
    }
   ],
   "source": [
    "temp = df[['Floor_unified', 'Floor_merged', 'Étage', 'Piano', 'Stockwerk', 'detail_responsive#floor', 'Floor']]\n",
    "temp['Floor'] = temp[['Floor', 'detail_responsive#floor', 'Floor_merged']].bfill(axis=1)['Floor']\n",
    "temp.isna().sum()"
   ],
   "metadata": {
    "collapsed": false,
    "ExecuteTime": {
     "end_time": "2024-10-02T13:51:10.081605800Z",
     "start_time": "2024-10-02T13:51:09.965314400Z"
    }
   },
   "id": "ce7a6ea45bd77760",
   "execution_count": 36
  },
  {
   "cell_type": "markdown",
   "source": [
    "Wohnfläche"
   ],
   "metadata": {
    "collapsed": false
   },
   "id": "55576782c44c6f79"
  },
  {
   "cell_type": "code",
   "outputs": [
    {
     "data": {
      "text/plain": "Living space                         9746\nWohnfläche                          20428\ndetail_responsive#surface_living    20165\nSurface habitable                   20502\nSuperficie abitabile                20537\nLiving_space_merged                  9524\nSpace extracted                       398\nLiving_area_unified                   398\nspace                               11437\nSurface living:                     11437\nspace_cleaned                       11437\ndtype: int64"
     },
     "execution_count": 40,
     "metadata": {},
     "output_type": "execute_result"
    }
   ],
   "source": [
    "temp = df[['Living space', 'Wohnfläche', 'detail_responsive#surface_living', 'Surface habitable', 'Superficie abitabile', 'Living_space_merged', 'Space extracted', 'Living_area_unified', 'space', 'Surface living:', 'space_cleaned']]\n",
    "temp.dropna(how='all').isna().sum()"
   ],
   "metadata": {
    "collapsed": false,
    "ExecuteTime": {
     "end_time": "2024-10-02T14:40:02.442422600Z",
     "start_time": "2024-10-02T14:40:02.405809500Z"
    }
   },
   "id": "ada932c7c8503f02",
   "execution_count": 40
  },
  {
   "cell_type": "code",
   "outputs": [
    {
     "data": {
      "text/plain": "      Living space Wohnfläche detail_responsive#surface_living  \\\n3906        140 m²        NaN                              NaN   \n17882          NaN        NaN                              NaN   \n5021         45 m²        NaN                              NaN   \n20194          NaN        NaN                              NaN   \n17883          NaN        NaN                              NaN   \n...            ...        ...                              ...   \n16847          NaN        NaN                              NaN   \n16848          NaN        NaN                              NaN   \n11005          NaN    1200 m²                              NaN   \n13958          NaN        NaN                              NaN   \n16849          NaN        NaN                              NaN   \n\n      Surface habitable Superficie abitabile Living_space_merged  \\\n3906                NaN                  NaN              140 m²   \n17882               NaN                  NaN                 NaN   \n5021                NaN                  NaN               45 m²   \n20194               NaN                  NaN                 NaN   \n17883               NaN                  NaN                 NaN   \n...                 ...                  ...                 ...   \n16847               NaN                  NaN                 NaN   \n16848               NaN                  NaN                 NaN   \n11005               NaN                  NaN             1200 m²   \n13958               NaN                  NaN                 NaN   \n16849               NaN                  NaN                 NaN   \n\n      Space extracted Living_area_unified    space Surface living:  \\\n3906            140.0               140.0      NaN             NaN   \n17882            68.0                68.0     68m2           68 m2   \n5021             45.0                45.0      NaN             NaN   \n20194            45.0                45.0     45m2           45 m2   \n17883            90.0                90.0     90m2           90 m2   \n...               ...                 ...      ...             ...   \n16847          1000.0              1000.0  1,000m2         1000 m2   \n16848           782.0               782.0    782m2          782 m2   \n11005          1200.0              1200.0      NaN             NaN   \n13958           900.0               900.0    900m2          900 m2   \n16849          1500.0              1500.0  1,500m2         1500 m2   \n\n      space_cleaned  \n3906            NaN  \n17882          68.0  \n5021            NaN  \n20194          45.0  \n17883          90.0  \n...             ...  \n16847        1000.0  \n16848         782.0  \n11005           NaN  \n13958         900.0  \n16849        1500.0  \n\n[20563 rows x 11 columns]",
      "text/html": "<div>\n<style scoped>\n    .dataframe tbody tr th:only-of-type {\n        vertical-align: middle;\n    }\n\n    .dataframe tbody tr th {\n        vertical-align: top;\n    }\n\n    .dataframe thead th {\n        text-align: right;\n    }\n</style>\n<table border=\"1\" class=\"dataframe\">\n  <thead>\n    <tr style=\"text-align: right;\">\n      <th></th>\n      <th>Living space</th>\n      <th>Wohnfläche</th>\n      <th>detail_responsive#surface_living</th>\n      <th>Surface habitable</th>\n      <th>Superficie abitabile</th>\n      <th>Living_space_merged</th>\n      <th>Space extracted</th>\n      <th>Living_area_unified</th>\n      <th>space</th>\n      <th>Surface living:</th>\n      <th>space_cleaned</th>\n    </tr>\n  </thead>\n  <tbody>\n    <tr>\n      <th>3906</th>\n      <td>140 m²</td>\n      <td>NaN</td>\n      <td>NaN</td>\n      <td>NaN</td>\n      <td>NaN</td>\n      <td>140 m²</td>\n      <td>140.0</td>\n      <td>140.0</td>\n      <td>NaN</td>\n      <td>NaN</td>\n      <td>NaN</td>\n    </tr>\n    <tr>\n      <th>17882</th>\n      <td>NaN</td>\n      <td>NaN</td>\n      <td>NaN</td>\n      <td>NaN</td>\n      <td>NaN</td>\n      <td>NaN</td>\n      <td>68.0</td>\n      <td>68.0</td>\n      <td>68m2</td>\n      <td>68 m2</td>\n      <td>68.0</td>\n    </tr>\n    <tr>\n      <th>5021</th>\n      <td>45 m²</td>\n      <td>NaN</td>\n      <td>NaN</td>\n      <td>NaN</td>\n      <td>NaN</td>\n      <td>45 m²</td>\n      <td>45.0</td>\n      <td>45.0</td>\n      <td>NaN</td>\n      <td>NaN</td>\n      <td>NaN</td>\n    </tr>\n    <tr>\n      <th>20194</th>\n      <td>NaN</td>\n      <td>NaN</td>\n      <td>NaN</td>\n      <td>NaN</td>\n      <td>NaN</td>\n      <td>NaN</td>\n      <td>45.0</td>\n      <td>45.0</td>\n      <td>45m2</td>\n      <td>45 m2</td>\n      <td>45.0</td>\n    </tr>\n    <tr>\n      <th>17883</th>\n      <td>NaN</td>\n      <td>NaN</td>\n      <td>NaN</td>\n      <td>NaN</td>\n      <td>NaN</td>\n      <td>NaN</td>\n      <td>90.0</td>\n      <td>90.0</td>\n      <td>90m2</td>\n      <td>90 m2</td>\n      <td>90.0</td>\n    </tr>\n    <tr>\n      <th>...</th>\n      <td>...</td>\n      <td>...</td>\n      <td>...</td>\n      <td>...</td>\n      <td>...</td>\n      <td>...</td>\n      <td>...</td>\n      <td>...</td>\n      <td>...</td>\n      <td>...</td>\n      <td>...</td>\n    </tr>\n    <tr>\n      <th>16847</th>\n      <td>NaN</td>\n      <td>NaN</td>\n      <td>NaN</td>\n      <td>NaN</td>\n      <td>NaN</td>\n      <td>NaN</td>\n      <td>1000.0</td>\n      <td>1000.0</td>\n      <td>1,000m2</td>\n      <td>1000 m2</td>\n      <td>1000.0</td>\n    </tr>\n    <tr>\n      <th>16848</th>\n      <td>NaN</td>\n      <td>NaN</td>\n      <td>NaN</td>\n      <td>NaN</td>\n      <td>NaN</td>\n      <td>NaN</td>\n      <td>782.0</td>\n      <td>782.0</td>\n      <td>782m2</td>\n      <td>782 m2</td>\n      <td>782.0</td>\n    </tr>\n    <tr>\n      <th>11005</th>\n      <td>NaN</td>\n      <td>1200 m²</td>\n      <td>NaN</td>\n      <td>NaN</td>\n      <td>NaN</td>\n      <td>1200 m²</td>\n      <td>1200.0</td>\n      <td>1200.0</td>\n      <td>NaN</td>\n      <td>NaN</td>\n      <td>NaN</td>\n    </tr>\n    <tr>\n      <th>13958</th>\n      <td>NaN</td>\n      <td>NaN</td>\n      <td>NaN</td>\n      <td>NaN</td>\n      <td>NaN</td>\n      <td>NaN</td>\n      <td>900.0</td>\n      <td>900.0</td>\n      <td>900m2</td>\n      <td>900 m2</td>\n      <td>900.0</td>\n    </tr>\n    <tr>\n      <th>16849</th>\n      <td>NaN</td>\n      <td>NaN</td>\n      <td>NaN</td>\n      <td>NaN</td>\n      <td>NaN</td>\n      <td>NaN</td>\n      <td>1500.0</td>\n      <td>1500.0</td>\n      <td>1,500m2</td>\n      <td>1500 m2</td>\n      <td>1500.0</td>\n    </tr>\n  </tbody>\n</table>\n<p>20563 rows × 11 columns</p>\n</div>"
     },
     "execution_count": 44,
     "metadata": {},
     "output_type": "execute_result"
    }
   ],
   "source": [
    "temp = df[['Living space', 'Wohnfläche', 'detail_responsive#surface_living', 'Surface habitable', 'Superficie abitabile', 'Living_space_merged', 'Space extracted', 'Living_area_unified', 'space', 'Surface living:', 'space_cleaned']]\n",
    "temp = temp.dropna(how='all')\n",
    "temp"
   ],
   "metadata": {
    "collapsed": false,
    "ExecuteTime": {
     "end_time": "2024-10-02T14:42:29.132740300Z",
     "start_time": "2024-10-02T14:42:29.092058300Z"
    }
   },
   "id": "f71b44b2bcad04fe",
   "execution_count": 44
  },
  {
   "cell_type": "code",
   "outputs": [
    {
     "data": {
      "text/plain": "Living space                         9746\nWohnfläche                          20428\ndetail_responsive#surface_living    20165\nSurface habitable                   20502\nSuperficie abitabile                20537\nLiving_space_merged                  9524\nSpace extracted                         0\nLiving_area_unified                   398\nspace                               11437\nSurface living:                     11437\nspace_cleaned                       11437\ndtype: int64"
     },
     "execution_count": 45,
     "metadata": {},
     "output_type": "execute_result"
    }
   ],
   "source": [
    "temp['Space extracted'] = temp[['Space extracted', 'detail_responsive#surface_living']].bfill(axis=1)['Space extracted']\n",
    "temp.isna().sum()"
   ],
   "metadata": {
    "collapsed": false,
    "ExecuteTime": {
     "end_time": "2024-10-02T14:44:04.178721200Z",
     "start_time": "2024-10-02T14:44:03.373783100Z"
    }
   },
   "id": "a56d4b72331f3ea6",
   "execution_count": 45
  },
  {
   "cell_type": "markdown",
   "source": [
    "Grundstücksfläche"
   ],
   "metadata": {
    "collapsed": false
   },
   "id": "1e1d6e8bb527262"
  },
  {
   "cell_type": "code",
   "outputs": [
    {
     "data": {
      "text/plain": "Plot area                             3499\nGrundstücksfläche                     7651\ndetail_responsive#surface_property    7564\nSurface du terrain                    7680\nSuperficie del terreno                7695\nPlot_area_merged                      3410\nPlot_area_unified                      230\nLand area:                            4436\ndtype: int64"
     },
     "execution_count": 46,
     "metadata": {},
     "output_type": "execute_result"
    }
   ],
   "source": [
    "temp = df[['Plot area', 'Grundstücksfläche', 'detail_responsive#surface_property', 'Surface du terrain', 'Superficie del terreno', 'Plot_area_merged', 'Plot_area_unified', 'Land area:']]\n",
    "temp.dropna(how='all').isna().sum()"
   ],
   "metadata": {
    "collapsed": false,
    "ExecuteTime": {
     "end_time": "2024-10-02T15:20:32.437555Z",
     "start_time": "2024-10-02T15:20:32.385406700Z"
    }
   },
   "id": "e1b4c191e3bd6dc0",
   "execution_count": 46
  },
  {
   "cell_type": "code",
   "outputs": [
    {
     "data": {
      "text/plain": "      Plot_area_unified  Plot area Grundstücksfläche  \\\n6920               58.0      58 m²               NaN   \n9418               57.0      57 m²               NaN   \n8445            12136.0  12,136 m²               NaN   \n9407              102.0     102 m²               NaN   \n7021              500.0     500 m²               NaN   \n...                 ...        ...               ...   \n13427            5039.0        NaN               NaN   \n16848            4713.0        NaN               NaN   \n11005               NaN        NaN           8071 m²   \n10657            5000.0    5000 m²               NaN   \n16849           10091.0        NaN               NaN   \n\n      detail_responsive#surface_property Surface du terrain  \\\n6920                                 NaN                NaN   \n9418                                 NaN                NaN   \n8445                                 NaN                NaN   \n9407                                 NaN                NaN   \n7021                                 NaN                NaN   \n...                                  ...                ...   \n13427                                NaN                NaN   \n16848                                NaN                NaN   \n11005                                NaN                NaN   \n10657                                NaN                NaN   \n16849                                NaN                NaN   \n\n      Superficie del terreno Plot_area_merged Land area:  \n6920                     NaN            58 m²        NaN  \n9418                     NaN            57 m²        NaN  \n8445                     NaN        12,136 m²        NaN  \n9407                     NaN           102 m²        NaN  \n7021                     NaN           500 m²        NaN  \n...                      ...              ...        ...  \n13427                    NaN              NaN    5039 m2  \n16848                    NaN              NaN    4713 m2  \n11005                    NaN          8071 m²        NaN  \n10657                    NaN          5000 m²        NaN  \n16849                    NaN              NaN   10091 m2  \n\n[7705 rows x 8 columns]",
      "text/html": "<div>\n<style scoped>\n    .dataframe tbody tr th:only-of-type {\n        vertical-align: middle;\n    }\n\n    .dataframe tbody tr th {\n        vertical-align: top;\n    }\n\n    .dataframe thead th {\n        text-align: right;\n    }\n</style>\n<table border=\"1\" class=\"dataframe\">\n  <thead>\n    <tr style=\"text-align: right;\">\n      <th></th>\n      <th>Plot_area_unified</th>\n      <th>Plot area</th>\n      <th>Grundstücksfläche</th>\n      <th>detail_responsive#surface_property</th>\n      <th>Surface du terrain</th>\n      <th>Superficie del terreno</th>\n      <th>Plot_area_merged</th>\n      <th>Land area:</th>\n    </tr>\n  </thead>\n  <tbody>\n    <tr>\n      <th>6920</th>\n      <td>58.0</td>\n      <td>58 m²</td>\n      <td>NaN</td>\n      <td>NaN</td>\n      <td>NaN</td>\n      <td>NaN</td>\n      <td>58 m²</td>\n      <td>NaN</td>\n    </tr>\n    <tr>\n      <th>9418</th>\n      <td>57.0</td>\n      <td>57 m²</td>\n      <td>NaN</td>\n      <td>NaN</td>\n      <td>NaN</td>\n      <td>NaN</td>\n      <td>57 m²</td>\n      <td>NaN</td>\n    </tr>\n    <tr>\n      <th>8445</th>\n      <td>12136.0</td>\n      <td>12,136 m²</td>\n      <td>NaN</td>\n      <td>NaN</td>\n      <td>NaN</td>\n      <td>NaN</td>\n      <td>12,136 m²</td>\n      <td>NaN</td>\n    </tr>\n    <tr>\n      <th>9407</th>\n      <td>102.0</td>\n      <td>102 m²</td>\n      <td>NaN</td>\n      <td>NaN</td>\n      <td>NaN</td>\n      <td>NaN</td>\n      <td>102 m²</td>\n      <td>NaN</td>\n    </tr>\n    <tr>\n      <th>7021</th>\n      <td>500.0</td>\n      <td>500 m²</td>\n      <td>NaN</td>\n      <td>NaN</td>\n      <td>NaN</td>\n      <td>NaN</td>\n      <td>500 m²</td>\n      <td>NaN</td>\n    </tr>\n    <tr>\n      <th>...</th>\n      <td>...</td>\n      <td>...</td>\n      <td>...</td>\n      <td>...</td>\n      <td>...</td>\n      <td>...</td>\n      <td>...</td>\n      <td>...</td>\n    </tr>\n    <tr>\n      <th>13427</th>\n      <td>5039.0</td>\n      <td>NaN</td>\n      <td>NaN</td>\n      <td>NaN</td>\n      <td>NaN</td>\n      <td>NaN</td>\n      <td>NaN</td>\n      <td>5039 m2</td>\n    </tr>\n    <tr>\n      <th>16848</th>\n      <td>4713.0</td>\n      <td>NaN</td>\n      <td>NaN</td>\n      <td>NaN</td>\n      <td>NaN</td>\n      <td>NaN</td>\n      <td>NaN</td>\n      <td>4713 m2</td>\n    </tr>\n    <tr>\n      <th>11005</th>\n      <td>NaN</td>\n      <td>NaN</td>\n      <td>8071 m²</td>\n      <td>NaN</td>\n      <td>NaN</td>\n      <td>NaN</td>\n      <td>8071 m²</td>\n      <td>NaN</td>\n    </tr>\n    <tr>\n      <th>10657</th>\n      <td>5000.0</td>\n      <td>5000 m²</td>\n      <td>NaN</td>\n      <td>NaN</td>\n      <td>NaN</td>\n      <td>NaN</td>\n      <td>5000 m²</td>\n      <td>NaN</td>\n    </tr>\n    <tr>\n      <th>16849</th>\n      <td>10091.0</td>\n      <td>NaN</td>\n      <td>NaN</td>\n      <td>NaN</td>\n      <td>NaN</td>\n      <td>NaN</td>\n      <td>NaN</td>\n      <td>10091 m2</td>\n    </tr>\n  </tbody>\n</table>\n<p>7705 rows × 8 columns</p>\n</div>"
     },
     "execution_count": 48,
     "metadata": {},
     "output_type": "execute_result"
    }
   ],
   "source": [
    "temp = df[['Plot_area_unified','Plot area', 'Grundstücksfläche', 'detail_responsive#surface_property', 'Surface du terrain', 'Superficie del terreno', 'Plot_area_merged', 'Land area:']]\n",
    "temp = temp.dropna(how='all')\n",
    "temp"
   ],
   "metadata": {
    "collapsed": false,
    "ExecuteTime": {
     "end_time": "2024-10-02T15:23:48.569151400Z",
     "start_time": "2024-10-02T15:23:48.515606500Z"
    }
   },
   "id": "93dc760f6152f5e1",
   "execution_count": 48
  },
  {
   "cell_type": "code",
   "outputs": [
    {
     "data": {
      "text/plain": "Plot_area_unified                        0\nPlot area                             3499\nGrundstücksfläche                     7651\ndetail_responsive#surface_property    7564\nSurface du terrain                    7680\nSuperficie del terreno                7695\nPlot_area_merged                      3410\nLand area:                            4436\ndtype: int64"
     },
     "execution_count": 49,
     "metadata": {},
     "output_type": "execute_result"
    }
   ],
   "source": [
    "temp['Plot_area_unified'] = temp[['Plot_area_unified', 'detail_responsive#surface_property', 'Plot_area_merged']].bfill(axis=1)['Plot_area_unified']\n",
    "temp.isna().sum()"
   ],
   "metadata": {
    "collapsed": false,
    "ExecuteTime": {
     "end_time": "2024-10-02T15:27:26.591736600Z",
     "start_time": "2024-10-02T15:27:26.408008Z"
    }
   },
   "id": "8baf84280d4937b1",
   "execution_count": 49
  },
  {
   "cell_type": "markdown",
   "source": [
    "Nutzfläche"
   ],
   "metadata": {
    "collapsed": false
   },
   "id": "c49c8edbbc631566"
  },
  {
   "cell_type": "code",
   "outputs": [
    {
     "data": {
      "text/plain": "Nutzfläche                          123\ndetail_responsive#surface_usable     57\nSurface utile                       148\nSuperficie utile                    155\ndtype: int64"
     },
     "execution_count": 52,
     "metadata": {},
     "output_type": "execute_result"
    }
   ],
   "source": [
    "temp = df[['Nutzfläche', 'detail_responsive#surface_usable', 'Surface utile', 'Superficie utile']]\n",
    "temp.dropna(how='all').isna().sum()"
   ],
   "metadata": {
    "collapsed": false,
    "ExecuteTime": {
     "end_time": "2024-10-02T15:58:22.449830900Z",
     "start_time": "2024-10-02T15:58:22.417076700Z"
    }
   },
   "id": "94125c54b5427b21",
   "execution_count": 52
  },
  {
   "cell_type": "code",
   "outputs": [
    {
     "data": {
      "text/plain": "      Nutzfläche detail_responsive#surface_usable Surface utile  \\\n11610        NaN                            75 m²           NaN   \n11466        NaN                            40 m²           NaN   \n11611        NaN                              NaN         60 m²   \n8961         NaN                            78 m²           NaN   \n6835         NaN                           108 m²           NaN   \n...          ...                              ...           ...   \n10811        NaN                           450 m²           NaN   \n11296        NaN                           290 m²           NaN   \n6740      620 m²                              NaN           NaN   \n10563        NaN                           300 m²           NaN   \n8607      180 m²                              NaN           NaN   \n\n      Superficie utile  \n11610              NaN  \n11466              NaN  \n11611              NaN  \n8961               NaN  \n6835               NaN  \n...                ...  \n10811              NaN  \n11296              NaN  \n6740               NaN  \n10563              NaN  \n8607               NaN  \n\n[161 rows x 4 columns]",
      "text/html": "<div>\n<style scoped>\n    .dataframe tbody tr th:only-of-type {\n        vertical-align: middle;\n    }\n\n    .dataframe tbody tr th {\n        vertical-align: top;\n    }\n\n    .dataframe thead th {\n        text-align: right;\n    }\n</style>\n<table border=\"1\" class=\"dataframe\">\n  <thead>\n    <tr style=\"text-align: right;\">\n      <th></th>\n      <th>Nutzfläche</th>\n      <th>detail_responsive#surface_usable</th>\n      <th>Surface utile</th>\n      <th>Superficie utile</th>\n    </tr>\n  </thead>\n  <tbody>\n    <tr>\n      <th>11610</th>\n      <td>NaN</td>\n      <td>75 m²</td>\n      <td>NaN</td>\n      <td>NaN</td>\n    </tr>\n    <tr>\n      <th>11466</th>\n      <td>NaN</td>\n      <td>40 m²</td>\n      <td>NaN</td>\n      <td>NaN</td>\n    </tr>\n    <tr>\n      <th>11611</th>\n      <td>NaN</td>\n      <td>NaN</td>\n      <td>60 m²</td>\n      <td>NaN</td>\n    </tr>\n    <tr>\n      <th>8961</th>\n      <td>NaN</td>\n      <td>78 m²</td>\n      <td>NaN</td>\n      <td>NaN</td>\n    </tr>\n    <tr>\n      <th>6835</th>\n      <td>NaN</td>\n      <td>108 m²</td>\n      <td>NaN</td>\n      <td>NaN</td>\n    </tr>\n    <tr>\n      <th>...</th>\n      <td>...</td>\n      <td>...</td>\n      <td>...</td>\n      <td>...</td>\n    </tr>\n    <tr>\n      <th>10811</th>\n      <td>NaN</td>\n      <td>450 m²</td>\n      <td>NaN</td>\n      <td>NaN</td>\n    </tr>\n    <tr>\n      <th>11296</th>\n      <td>NaN</td>\n      <td>290 m²</td>\n      <td>NaN</td>\n      <td>NaN</td>\n    </tr>\n    <tr>\n      <th>6740</th>\n      <td>620 m²</td>\n      <td>NaN</td>\n      <td>NaN</td>\n      <td>NaN</td>\n    </tr>\n    <tr>\n      <th>10563</th>\n      <td>NaN</td>\n      <td>300 m²</td>\n      <td>NaN</td>\n      <td>NaN</td>\n    </tr>\n    <tr>\n      <th>8607</th>\n      <td>180 m²</td>\n      <td>NaN</td>\n      <td>NaN</td>\n      <td>NaN</td>\n    </tr>\n  </tbody>\n</table>\n<p>161 rows × 4 columns</p>\n</div>"
     },
     "execution_count": 53,
     "metadata": {},
     "output_type": "execute_result"
    }
   ],
   "source": [
    "temp = df[['Nutzfläche', 'detail_responsive#surface_usable', 'Surface utile', 'Superficie utile']]\n",
    "temp = temp.dropna(how='all')\n",
    "temp"
   ],
   "metadata": {
    "collapsed": false,
    "ExecuteTime": {
     "end_time": "2024-10-02T16:00:43.720034500Z",
     "start_time": "2024-10-02T16:00:43.702678200Z"
    }
   },
   "id": "1a2345fb71d93ebd",
   "execution_count": 53
  },
  {
   "cell_type": "code",
   "outputs": [
    {
     "data": {
      "text/plain": "Nutzfläche                          123\ndetail_responsive#surface_usable      0\nSurface utile                       148\nSuperficie utile                    155\ndtype: int64"
     },
     "execution_count": 54,
     "metadata": {},
     "output_type": "execute_result"
    }
   ],
   "source": [
    "temp['detail_responsive#surface_usable'] = temp[['detail_responsive#surface_usable', 'Nutzfläche', 'Surface utile', 'Superficie utile']].bfill(axis=1)['detail_responsive#surface_usable']\n",
    "temp.isna().sum()"
   ],
   "metadata": {
    "collapsed": false,
    "ExecuteTime": {
     "end_time": "2024-10-02T16:03:33.053746Z",
     "start_time": "2024-10-02T16:03:33.029469Z"
    }
   },
   "id": "ce6e4c780540fdd3",
   "execution_count": 54
  },
  {
   "cell_type": "markdown",
   "source": [
    "Stockwerksfläche"
   ],
   "metadata": {
    "collapsed": false
   },
   "id": "dc6adabad28b02ad"
  },
  {
   "cell_type": "code",
   "outputs": [
    {
     "data": {
      "text/plain": "Floor space           57\nFloor_space_merged     0\ndtype: int64"
     },
     "execution_count": 58,
     "metadata": {},
     "output_type": "execute_result"
    }
   ],
   "source": [
    "temp = df[['Floor space', 'Floor_space_merged']]\n",
    "temp.dropna(how='all').isna().sum()"
   ],
   "metadata": {
    "collapsed": false,
    "ExecuteTime": {
     "end_time": "2024-10-02T16:40:38.690891900Z",
     "start_time": "2024-10-02T16:40:38.651917400Z"
    }
   },
   "id": "8792107b67b7c3b4",
   "execution_count": 58
  },
  {
   "cell_type": "markdown",
   "source": [
    "Floor_space_merged bereits vorhanden"
   ],
   "metadata": {
    "collapsed": false
   },
   "id": "1616b8c172a32145"
  },
  {
   "cell_type": "markdown",
   "source": [
    "Number of rooms"
   ],
   "metadata": {
    "collapsed": false
   },
   "id": "d630f51f66afb432"
  },
  {
   "cell_type": "code",
   "outputs": [],
   "source": [
    "temp = df[['No. of rooms:', 'rooms']]"
   ],
   "metadata": {
    "collapsed": false,
    "ExecuteTime": {
     "end_time": "2024-10-02T16:51:03.083594300Z",
     "start_time": "2024-10-02T16:51:03.075878500Z"
    }
   },
   "id": "57b6b49dcfe199dc",
   "execution_count": 60
  },
  {
   "cell_type": "code",
   "outputs": [
    {
     "name": "stderr",
     "output_type": "stream",
     "text": [
      "C:\\Users\\denis\\AppData\\Local\\Temp\\ipykernel_21336\\3332346563.py:1: SettingWithCopyWarning: \n",
      "A value is trying to be set on a copy of a slice from a DataFrame.\n",
      "Try using .loc[row_indexer,col_indexer] = value instead\n",
      "\n",
      "See the caveats in the documentation: https://pandas.pydata.org/pandas-docs/stable/user_guide/indexing.html#returning-a-view-versus-a-copy\n",
      "  temp['No. of rooms:'] = temp[['No. of rooms:', 'rooms']].bfill(axis=1)['No. of rooms:']\n"
     ]
    },
    {
     "data": {
      "text/plain": "No. of rooms:    697\nrooms            697\ndtype: int64"
     },
     "execution_count": 61,
     "metadata": {},
     "output_type": "execute_result"
    }
   ],
   "source": [
    "temp['No. of rooms:'] = temp[['No. of rooms:', 'rooms']].bfill(axis=1)['No. of rooms:']\n",
    "temp.isna().sum()"
   ],
   "metadata": {
    "collapsed": false,
    "ExecuteTime": {
     "end_time": "2024-10-02T16:51:04.880889300Z",
     "start_time": "2024-10-02T16:51:04.861365Z"
    }
   },
   "id": "8962a95ebb011cd9",
   "execution_count": 61
  }
 ],
 "metadata": {
  "kernelspec": {
   "display_name": "Python 3",
   "language": "python",
   "name": "python3"
  },
  "language_info": {
   "codemirror_mode": {
    "name": "ipython",
    "version": 2
   },
   "file_extension": ".py",
   "mimetype": "text/x-python",
   "name": "python",
   "nbconvert_exporter": "python",
   "pygments_lexer": "ipython2",
   "version": "2.7.6"
  }
 },
 "nbformat": 4,
 "nbformat_minor": 5
}

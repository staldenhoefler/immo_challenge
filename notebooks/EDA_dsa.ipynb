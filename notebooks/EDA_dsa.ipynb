{
 "cells": [
  {
   "cell_type": "code",
   "id": "initial_id",
   "metadata": {
    "collapsed": true,
    "ExecuteTime": {
     "end_time": "2024-11-14T08:13:46.778831Z",
     "start_time": "2024-11-14T08:13:46.773671Z"
    }
   },
   "source": [
    "import pandas as pd\n",
    "import numpy as np\n",
    "import matplotlib.pyplot as plt\n",
    "import os\n",
    "os.chdir('..')"
   ],
   "outputs": [],
   "execution_count": 1
  },
  {
   "cell_type": "code",
   "id": "6291ed2f9c4f4b0a",
   "metadata": {
    "collapsed": false,
    "ExecuteTime": {
     "end_time": "2024-11-14T08:13:49.078776Z",
     "start_time": "2024-11-14T08:13:46.792846Z"
    }
   },
   "source": [
    "df = pd.read_csv('data/immo_data_202208_v2.csv', sep=',', skip_blank_lines=True, dtype=str)\n",
    "print(df.shape)"
   ],
   "outputs": [
    {
     "name": "stdout",
     "output_type": "stream",
     "text": [
      "(22481, 134)\n"
     ]
    }
   ],
   "execution_count": 2
  },
  {
   "cell_type": "code",
   "id": "1cc09162d8f90a59",
   "metadata": {
    "collapsed": false,
    "ExecuteTime": {
     "end_time": "2024-11-14T08:13:49.762925Z",
     "start_time": "2024-11-14T08:13:49.736070Z"
    }
   },
   "source": [
    "df.head()"
   ],
   "outputs": [
    {
     "data": {
      "text/plain": [
       "  Unnamed: 0.1 Unnamed: 0 Municipality Living space Plot area Floor space  \\\n",
       "0            0          0   Biberstein       100 m²       NaN         NaN   \n",
       "1            1          1   Biberstein       156 m²    222 m²      242 m²   \n",
       "2            2          2          NaN          NaN       NaN         NaN   \n",
       "3            3          3   Biberstein       154 m²    370 m²      257 m²   \n",
       "4            4          4     Küttigen       142 m²       NaN         NaN   \n",
       "\n",
       "  Availability                               location  \\\n",
       "0   On request                    5023 Biberstein, AG   \n",
       "1   On request   Buhldenstrasse 8d5023 Biberstein, AG   \n",
       "2          NaN                       5022 Rombach, AG   \n",
       "3   On request  Buhaldenstrasse 8A5023 Biberstein, AG   \n",
       "4   On request                       5022 Rombach, AG   \n",
       "\n",
       "                                         description  \\\n",
       "0  3.5 rooms, 100 m²«Luxuriöse Attika-Wohnung mit...   \n",
       "1  4.5 rooms, 156 m²«Stilvolle Liegenschaft - ruh...   \n",
       "2  2.5 rooms, 93 m²«Moderne, lichtdurchflutete At...   \n",
       "3  4.5 rooms, 154 m²«AgentSelly - Luxuriöses Eckh...   \n",
       "4  4.5 rooms, 142 m²«MIT GARTENSITZPLATZ UND VIEL...   \n",
       "\n",
       "                                detailed_description  ... features  \\\n",
       "0  DescriptionLuxuriöse Attika-Wohnung direkt an ...  ...      NaN   \n",
       "1  DescriptionStilvolle Liegenschaft an ruhiger L...  ...      NaN   \n",
       "2  detail_responsive#description_title2,5 Zimmerw...  ...      NaN   \n",
       "3  DescriptionDieses äusserst grosszügige Minergi...  ...      NaN   \n",
       "4  DescriptionAus ehemals zwei Wohnungen wurde ei...  ...      NaN   \n",
       "\n",
       "  description_detailed Floor space: Number of floors: Volume:     plz  \\\n",
       "0                  NaN          NaN               NaN     NaN  5023.0   \n",
       "1                  NaN          NaN               NaN     NaN  5023.0   \n",
       "2                  NaN          NaN               NaN     NaN  5022.0   \n",
       "3                  NaN          NaN               NaN     NaN  5023.0   \n",
       "4                  NaN          NaN               NaN     NaN  5022.0   \n",
       "\n",
       "  Number of toilets: Gross yield: Minimum floor space: space_cleaned  \n",
       "0                NaN          NaN                  NaN           NaN  \n",
       "1                NaN          NaN                  NaN           NaN  \n",
       "2                NaN          NaN                  NaN           NaN  \n",
       "3                NaN          NaN                  NaN           NaN  \n",
       "4                NaN          NaN                  NaN           NaN  \n",
       "\n",
       "[5 rows x 134 columns]"
      ],
      "text/html": [
       "<div>\n",
       "<style scoped>\n",
       "    .dataframe tbody tr th:only-of-type {\n",
       "        vertical-align: middle;\n",
       "    }\n",
       "\n",
       "    .dataframe tbody tr th {\n",
       "        vertical-align: top;\n",
       "    }\n",
       "\n",
       "    .dataframe thead th {\n",
       "        text-align: right;\n",
       "    }\n",
       "</style>\n",
       "<table border=\"1\" class=\"dataframe\">\n",
       "  <thead>\n",
       "    <tr style=\"text-align: right;\">\n",
       "      <th></th>\n",
       "      <th>Unnamed: 0.1</th>\n",
       "      <th>Unnamed: 0</th>\n",
       "      <th>Municipality</th>\n",
       "      <th>Living space</th>\n",
       "      <th>Plot area</th>\n",
       "      <th>Floor space</th>\n",
       "      <th>Availability</th>\n",
       "      <th>location</th>\n",
       "      <th>description</th>\n",
       "      <th>detailed_description</th>\n",
       "      <th>...</th>\n",
       "      <th>features</th>\n",
       "      <th>description_detailed</th>\n",
       "      <th>Floor space:</th>\n",
       "      <th>Number of floors:</th>\n",
       "      <th>Volume:</th>\n",
       "      <th>plz</th>\n",
       "      <th>Number of toilets:</th>\n",
       "      <th>Gross yield:</th>\n",
       "      <th>Minimum floor space:</th>\n",
       "      <th>space_cleaned</th>\n",
       "    </tr>\n",
       "  </thead>\n",
       "  <tbody>\n",
       "    <tr>\n",
       "      <th>0</th>\n",
       "      <td>0</td>\n",
       "      <td>0</td>\n",
       "      <td>Biberstein</td>\n",
       "      <td>100 m²</td>\n",
       "      <td>NaN</td>\n",
       "      <td>NaN</td>\n",
       "      <td>On request</td>\n",
       "      <td>5023 Biberstein, AG</td>\n",
       "      <td>3.5 rooms, 100 m²«Luxuriöse Attika-Wohnung mit...</td>\n",
       "      <td>DescriptionLuxuriöse Attika-Wohnung direkt an ...</td>\n",
       "      <td>...</td>\n",
       "      <td>NaN</td>\n",
       "      <td>NaN</td>\n",
       "      <td>NaN</td>\n",
       "      <td>NaN</td>\n",
       "      <td>NaN</td>\n",
       "      <td>5023.0</td>\n",
       "      <td>NaN</td>\n",
       "      <td>NaN</td>\n",
       "      <td>NaN</td>\n",
       "      <td>NaN</td>\n",
       "    </tr>\n",
       "    <tr>\n",
       "      <th>1</th>\n",
       "      <td>1</td>\n",
       "      <td>1</td>\n",
       "      <td>Biberstein</td>\n",
       "      <td>156 m²</td>\n",
       "      <td>222 m²</td>\n",
       "      <td>242 m²</td>\n",
       "      <td>On request</td>\n",
       "      <td>Buhldenstrasse 8d5023 Biberstein, AG</td>\n",
       "      <td>4.5 rooms, 156 m²«Stilvolle Liegenschaft - ruh...</td>\n",
       "      <td>DescriptionStilvolle Liegenschaft an ruhiger L...</td>\n",
       "      <td>...</td>\n",
       "      <td>NaN</td>\n",
       "      <td>NaN</td>\n",
       "      <td>NaN</td>\n",
       "      <td>NaN</td>\n",
       "      <td>NaN</td>\n",
       "      <td>5023.0</td>\n",
       "      <td>NaN</td>\n",
       "      <td>NaN</td>\n",
       "      <td>NaN</td>\n",
       "      <td>NaN</td>\n",
       "    </tr>\n",
       "    <tr>\n",
       "      <th>2</th>\n",
       "      <td>2</td>\n",
       "      <td>2</td>\n",
       "      <td>NaN</td>\n",
       "      <td>NaN</td>\n",
       "      <td>NaN</td>\n",
       "      <td>NaN</td>\n",
       "      <td>NaN</td>\n",
       "      <td>5022 Rombach, AG</td>\n",
       "      <td>2.5 rooms, 93 m²«Moderne, lichtdurchflutete At...</td>\n",
       "      <td>detail_responsive#description_title2,5 Zimmerw...</td>\n",
       "      <td>...</td>\n",
       "      <td>NaN</td>\n",
       "      <td>NaN</td>\n",
       "      <td>NaN</td>\n",
       "      <td>NaN</td>\n",
       "      <td>NaN</td>\n",
       "      <td>5022.0</td>\n",
       "      <td>NaN</td>\n",
       "      <td>NaN</td>\n",
       "      <td>NaN</td>\n",
       "      <td>NaN</td>\n",
       "    </tr>\n",
       "    <tr>\n",
       "      <th>3</th>\n",
       "      <td>3</td>\n",
       "      <td>3</td>\n",
       "      <td>Biberstein</td>\n",
       "      <td>154 m²</td>\n",
       "      <td>370 m²</td>\n",
       "      <td>257 m²</td>\n",
       "      <td>On request</td>\n",
       "      <td>Buhaldenstrasse 8A5023 Biberstein, AG</td>\n",
       "      <td>4.5 rooms, 154 m²«AgentSelly - Luxuriöses Eckh...</td>\n",
       "      <td>DescriptionDieses äusserst grosszügige Minergi...</td>\n",
       "      <td>...</td>\n",
       "      <td>NaN</td>\n",
       "      <td>NaN</td>\n",
       "      <td>NaN</td>\n",
       "      <td>NaN</td>\n",
       "      <td>NaN</td>\n",
       "      <td>5023.0</td>\n",
       "      <td>NaN</td>\n",
       "      <td>NaN</td>\n",
       "      <td>NaN</td>\n",
       "      <td>NaN</td>\n",
       "    </tr>\n",
       "    <tr>\n",
       "      <th>4</th>\n",
       "      <td>4</td>\n",
       "      <td>4</td>\n",
       "      <td>Küttigen</td>\n",
       "      <td>142 m²</td>\n",
       "      <td>NaN</td>\n",
       "      <td>NaN</td>\n",
       "      <td>On request</td>\n",
       "      <td>5022 Rombach, AG</td>\n",
       "      <td>4.5 rooms, 142 m²«MIT GARTENSITZPLATZ UND VIEL...</td>\n",
       "      <td>DescriptionAus ehemals zwei Wohnungen wurde ei...</td>\n",
       "      <td>...</td>\n",
       "      <td>NaN</td>\n",
       "      <td>NaN</td>\n",
       "      <td>NaN</td>\n",
       "      <td>NaN</td>\n",
       "      <td>NaN</td>\n",
       "      <td>5022.0</td>\n",
       "      <td>NaN</td>\n",
       "      <td>NaN</td>\n",
       "      <td>NaN</td>\n",
       "      <td>NaN</td>\n",
       "    </tr>\n",
       "  </tbody>\n",
       "</table>\n",
       "<p>5 rows × 134 columns</p>\n",
       "</div>"
      ]
     },
     "execution_count": 3,
     "metadata": {},
     "output_type": "execute_result"
    }
   ],
   "execution_count": 3
  },
  {
   "cell_type": "code",
   "id": "c71f18b3c9c1badf",
   "metadata": {
    "collapsed": false,
    "ExecuteTime": {
     "end_time": "2024-11-14T08:13:49.809746Z",
     "start_time": "2024-11-14T08:13:49.779713Z"
    }
   },
   "source": [
    "df.tail()"
   ],
   "outputs": [
    {
     "data": {
      "text/plain": [
       "      Unnamed: 0.1 Unnamed: 0    Municipality Living space Plot area  \\\n",
       "22476        22476      29298        Buchs SG          NaN       NaN   \n",
       "22477        22477      29300             Wil          NaN       NaN   \n",
       "22478        22478      29301          Wil SG          NaN       NaN   \n",
       "22479        22479      29302       Matzingen          NaN       NaN   \n",
       "22480        22480      29303    Lichtensteig          NaN       NaN   \n",
       "\n",
       "      Floor space Availability                              location  \\\n",
       "22476         NaN          NaN  Altendorferstrasse 53, 9470 Buchs SG   \n",
       "22477         NaN          NaN       Fürstenlandstrasse 69, 9500 Wil   \n",
       "22478         NaN          NaN                           9500 Wil SG   \n",
       "22479         NaN          NaN      Haldenstrasse 30, 9548 Matzingen   \n",
       "22480         NaN          NaN         Neugasse 1, 9620 Lichtensteig   \n",
       "\n",
       "      description                               detailed_description  ...  \\\n",
       "22476         NaN  Description\\n\"Hausteil mit verschieden Nutzung...  ...   \n",
       "22477         NaN  Description\\n\"J'ADORE - Exklusives Wohnen in W...  ...   \n",
       "22478         NaN  Description\\n\"Einmalige Gelegenheit an sehr gu...  ...   \n",
       "22479         NaN  Description\\n\"LA VIE - Exklusives Wohnen in Ma...  ...   \n",
       "22480         NaN  Description\\n\"Historisches Altstadthaus im \"St...  ...   \n",
       "\n",
       "                                                features  \\\n",
       "22476  Pets allowed\\tCable TV\\tChild-friendly\\tParkin...   \n",
       "22477  Balcony / Terrace\\tWashing machine\\tView\\tWhee...   \n",
       "22478   Balcony / Terrace\\tChild-friendly\\tParking space   \n",
       "22479  Balcony / Terrace\\tView\\tWheelchair access\\tQu...   \n",
       "22480  Balcony / Terrace\\tFireplace\\tQuiet neighborho...   \n",
       "\n",
       "                                    description_detailed Floor space:  \\\n",
       "22476  Description\\n\"Hausteil mit verschieden Nutzung...          NaN   \n",
       "22477  Description\\n\"J'ADORE - Exklusives Wohnen in W...          NaN   \n",
       "22478  Description\\n\"Einmalige Gelegenheit an sehr gu...          NaN   \n",
       "22479  Description\\n\"LA VIE - Exklusives Wohnen in Ma...          NaN   \n",
       "22480  Description\\n\"Historisches Altstadthaus im \"St...          NaN   \n",
       "\n",
       "      Number of floors:  Volume:     plz Number of toilets: Gross yield:  \\\n",
       "22476               NaN   496 m3  9470.0                NaN          NaN   \n",
       "22477               3.0      NaN  9500.0                NaN          NaN   \n",
       "22478               3.0   706 m3  9500.0                NaN          NaN   \n",
       "22479               NaN      NaN  9548.0                NaN          NaN   \n",
       "22480               3.0  1395 m3  9620.0                NaN          NaN   \n",
       "\n",
       "      Minimum floor space: space_cleaned  \n",
       "22476                  NaN         102.0  \n",
       "22477                  NaN         180.0  \n",
       "22478                  NaN         167.0  \n",
       "22479                  NaN         175.0  \n",
       "22480                  NaN         154.0  \n",
       "\n",
       "[5 rows x 134 columns]"
      ],
      "text/html": [
       "<div>\n",
       "<style scoped>\n",
       "    .dataframe tbody tr th:only-of-type {\n",
       "        vertical-align: middle;\n",
       "    }\n",
       "\n",
       "    .dataframe tbody tr th {\n",
       "        vertical-align: top;\n",
       "    }\n",
       "\n",
       "    .dataframe thead th {\n",
       "        text-align: right;\n",
       "    }\n",
       "</style>\n",
       "<table border=\"1\" class=\"dataframe\">\n",
       "  <thead>\n",
       "    <tr style=\"text-align: right;\">\n",
       "      <th></th>\n",
       "      <th>Unnamed: 0.1</th>\n",
       "      <th>Unnamed: 0</th>\n",
       "      <th>Municipality</th>\n",
       "      <th>Living space</th>\n",
       "      <th>Plot area</th>\n",
       "      <th>Floor space</th>\n",
       "      <th>Availability</th>\n",
       "      <th>location</th>\n",
       "      <th>description</th>\n",
       "      <th>detailed_description</th>\n",
       "      <th>...</th>\n",
       "      <th>features</th>\n",
       "      <th>description_detailed</th>\n",
       "      <th>Floor space:</th>\n",
       "      <th>Number of floors:</th>\n",
       "      <th>Volume:</th>\n",
       "      <th>plz</th>\n",
       "      <th>Number of toilets:</th>\n",
       "      <th>Gross yield:</th>\n",
       "      <th>Minimum floor space:</th>\n",
       "      <th>space_cleaned</th>\n",
       "    </tr>\n",
       "  </thead>\n",
       "  <tbody>\n",
       "    <tr>\n",
       "      <th>22476</th>\n",
       "      <td>22476</td>\n",
       "      <td>29298</td>\n",
       "      <td>Buchs SG</td>\n",
       "      <td>NaN</td>\n",
       "      <td>NaN</td>\n",
       "      <td>NaN</td>\n",
       "      <td>NaN</td>\n",
       "      <td>Altendorferstrasse 53, 9470 Buchs SG</td>\n",
       "      <td>NaN</td>\n",
       "      <td>Description\\n\"Hausteil mit verschieden Nutzung...</td>\n",
       "      <td>...</td>\n",
       "      <td>Pets allowed\\tCable TV\\tChild-friendly\\tParkin...</td>\n",
       "      <td>Description\\n\"Hausteil mit verschieden Nutzung...</td>\n",
       "      <td>NaN</td>\n",
       "      <td>NaN</td>\n",
       "      <td>496 m3</td>\n",
       "      <td>9470.0</td>\n",
       "      <td>NaN</td>\n",
       "      <td>NaN</td>\n",
       "      <td>NaN</td>\n",
       "      <td>102.0</td>\n",
       "    </tr>\n",
       "    <tr>\n",
       "      <th>22477</th>\n",
       "      <td>22477</td>\n",
       "      <td>29300</td>\n",
       "      <td>Wil</td>\n",
       "      <td>NaN</td>\n",
       "      <td>NaN</td>\n",
       "      <td>NaN</td>\n",
       "      <td>NaN</td>\n",
       "      <td>Fürstenlandstrasse 69, 9500 Wil</td>\n",
       "      <td>NaN</td>\n",
       "      <td>Description\\n\"J'ADORE - Exklusives Wohnen in W...</td>\n",
       "      <td>...</td>\n",
       "      <td>Balcony / Terrace\\tWashing machine\\tView\\tWhee...</td>\n",
       "      <td>Description\\n\"J'ADORE - Exklusives Wohnen in W...</td>\n",
       "      <td>NaN</td>\n",
       "      <td>3.0</td>\n",
       "      <td>NaN</td>\n",
       "      <td>9500.0</td>\n",
       "      <td>NaN</td>\n",
       "      <td>NaN</td>\n",
       "      <td>NaN</td>\n",
       "      <td>180.0</td>\n",
       "    </tr>\n",
       "    <tr>\n",
       "      <th>22478</th>\n",
       "      <td>22478</td>\n",
       "      <td>29301</td>\n",
       "      <td>Wil SG</td>\n",
       "      <td>NaN</td>\n",
       "      <td>NaN</td>\n",
       "      <td>NaN</td>\n",
       "      <td>NaN</td>\n",
       "      <td>9500 Wil SG</td>\n",
       "      <td>NaN</td>\n",
       "      <td>Description\\n\"Einmalige Gelegenheit an sehr gu...</td>\n",
       "      <td>...</td>\n",
       "      <td>Balcony / Terrace\\tChild-friendly\\tParking space</td>\n",
       "      <td>Description\\n\"Einmalige Gelegenheit an sehr gu...</td>\n",
       "      <td>NaN</td>\n",
       "      <td>3.0</td>\n",
       "      <td>706 m3</td>\n",
       "      <td>9500.0</td>\n",
       "      <td>NaN</td>\n",
       "      <td>NaN</td>\n",
       "      <td>NaN</td>\n",
       "      <td>167.0</td>\n",
       "    </tr>\n",
       "    <tr>\n",
       "      <th>22479</th>\n",
       "      <td>22479</td>\n",
       "      <td>29302</td>\n",
       "      <td>Matzingen</td>\n",
       "      <td>NaN</td>\n",
       "      <td>NaN</td>\n",
       "      <td>NaN</td>\n",
       "      <td>NaN</td>\n",
       "      <td>Haldenstrasse 30, 9548 Matzingen</td>\n",
       "      <td>NaN</td>\n",
       "      <td>Description\\n\"LA VIE - Exklusives Wohnen in Ma...</td>\n",
       "      <td>...</td>\n",
       "      <td>Balcony / Terrace\\tView\\tWheelchair access\\tQu...</td>\n",
       "      <td>Description\\n\"LA VIE - Exklusives Wohnen in Ma...</td>\n",
       "      <td>NaN</td>\n",
       "      <td>NaN</td>\n",
       "      <td>NaN</td>\n",
       "      <td>9548.0</td>\n",
       "      <td>NaN</td>\n",
       "      <td>NaN</td>\n",
       "      <td>NaN</td>\n",
       "      <td>175.0</td>\n",
       "    </tr>\n",
       "    <tr>\n",
       "      <th>22480</th>\n",
       "      <td>22480</td>\n",
       "      <td>29303</td>\n",
       "      <td>Lichtensteig</td>\n",
       "      <td>NaN</td>\n",
       "      <td>NaN</td>\n",
       "      <td>NaN</td>\n",
       "      <td>NaN</td>\n",
       "      <td>Neugasse 1, 9620 Lichtensteig</td>\n",
       "      <td>NaN</td>\n",
       "      <td>Description\\n\"Historisches Altstadthaus im \"St...</td>\n",
       "      <td>...</td>\n",
       "      <td>Balcony / Terrace\\tFireplace\\tQuiet neighborho...</td>\n",
       "      <td>Description\\n\"Historisches Altstadthaus im \"St...</td>\n",
       "      <td>NaN</td>\n",
       "      <td>3.0</td>\n",
       "      <td>1395 m3</td>\n",
       "      <td>9620.0</td>\n",
       "      <td>NaN</td>\n",
       "      <td>NaN</td>\n",
       "      <td>NaN</td>\n",
       "      <td>154.0</td>\n",
       "    </tr>\n",
       "  </tbody>\n",
       "</table>\n",
       "<p>5 rows × 134 columns</p>\n",
       "</div>"
      ]
     },
     "execution_count": 4,
     "metadata": {},
     "output_type": "execute_result"
    }
   ],
   "execution_count": 4
  },
  {
   "cell_type": "code",
   "id": "d0c3f086e3b36d3c",
   "metadata": {
    "collapsed": false,
    "ExecuteTime": {
     "end_time": "2024-11-14T08:13:51.164515Z",
     "start_time": "2024-11-14T08:13:50.015028Z"
    }
   },
   "source": [
    "count_column = df.describe()[0:1]\n",
    "\n",
    "count_column = count_column.transpose()\n",
    "# order ascending\n",
    "count_column = count_column.sort_values(by='count', axis=0)\n",
    "# add procentual missing values\n",
    "count_column['missing [%]'] = 100 - (count_column['count'] / df.shape[0] * 100)\n",
    "count_column['missing absolute'] =  df.shape[0] - count_column['count']\n",
    "count_column"
   ],
   "outputs": [
    {
     "data": {
      "text/plain": [
       "                        count missing [%] missing absolute\n",
       "Minimum floor space:        2   99.991104            22479\n",
       "Superficie utile            6   99.973311            22475\n",
       "Gross return                6   99.973311            22475\n",
       "Piano                      10   99.955518            22471\n",
       "Superficie del terreno     11    99.95107            22470\n",
       "...                       ...         ...              ...\n",
       "RiversAndLakesM         22481         0.0                0\n",
       "RiversAndLakesL         22481         0.0                0\n",
       "PopulationDensityS      22481         0.0                0\n",
       "Zip                     22481         0.0                0\n",
       "PopulationDensityL      22481         0.0                0\n",
       "\n",
       "[134 rows x 3 columns]"
      ],
      "text/html": [
       "<div>\n",
       "<style scoped>\n",
       "    .dataframe tbody tr th:only-of-type {\n",
       "        vertical-align: middle;\n",
       "    }\n",
       "\n",
       "    .dataframe tbody tr th {\n",
       "        vertical-align: top;\n",
       "    }\n",
       "\n",
       "    .dataframe thead th {\n",
       "        text-align: right;\n",
       "    }\n",
       "</style>\n",
       "<table border=\"1\" class=\"dataframe\">\n",
       "  <thead>\n",
       "    <tr style=\"text-align: right;\">\n",
       "      <th></th>\n",
       "      <th>count</th>\n",
       "      <th>missing [%]</th>\n",
       "      <th>missing absolute</th>\n",
       "    </tr>\n",
       "  </thead>\n",
       "  <tbody>\n",
       "    <tr>\n",
       "      <th>Minimum floor space:</th>\n",
       "      <td>2</td>\n",
       "      <td>99.991104</td>\n",
       "      <td>22479</td>\n",
       "    </tr>\n",
       "    <tr>\n",
       "      <th>Superficie utile</th>\n",
       "      <td>6</td>\n",
       "      <td>99.973311</td>\n",
       "      <td>22475</td>\n",
       "    </tr>\n",
       "    <tr>\n",
       "      <th>Gross return</th>\n",
       "      <td>6</td>\n",
       "      <td>99.973311</td>\n",
       "      <td>22475</td>\n",
       "    </tr>\n",
       "    <tr>\n",
       "      <th>Piano</th>\n",
       "      <td>10</td>\n",
       "      <td>99.955518</td>\n",
       "      <td>22471</td>\n",
       "    </tr>\n",
       "    <tr>\n",
       "      <th>Superficie del terreno</th>\n",
       "      <td>11</td>\n",
       "      <td>99.95107</td>\n",
       "      <td>22470</td>\n",
       "    </tr>\n",
       "    <tr>\n",
       "      <th>...</th>\n",
       "      <td>...</td>\n",
       "      <td>...</td>\n",
       "      <td>...</td>\n",
       "    </tr>\n",
       "    <tr>\n",
       "      <th>RiversAndLakesM</th>\n",
       "      <td>22481</td>\n",
       "      <td>0.0</td>\n",
       "      <td>0</td>\n",
       "    </tr>\n",
       "    <tr>\n",
       "      <th>RiversAndLakesL</th>\n",
       "      <td>22481</td>\n",
       "      <td>0.0</td>\n",
       "      <td>0</td>\n",
       "    </tr>\n",
       "    <tr>\n",
       "      <th>PopulationDensityS</th>\n",
       "      <td>22481</td>\n",
       "      <td>0.0</td>\n",
       "      <td>0</td>\n",
       "    </tr>\n",
       "    <tr>\n",
       "      <th>Zip</th>\n",
       "      <td>22481</td>\n",
       "      <td>0.0</td>\n",
       "      <td>0</td>\n",
       "    </tr>\n",
       "    <tr>\n",
       "      <th>PopulationDensityL</th>\n",
       "      <td>22481</td>\n",
       "      <td>0.0</td>\n",
       "      <td>0</td>\n",
       "    </tr>\n",
       "  </tbody>\n",
       "</table>\n",
       "<p>134 rows × 3 columns</p>\n",
       "</div>"
      ]
     },
     "execution_count": 5,
     "metadata": {},
     "output_type": "execute_result"
    }
   ],
   "execution_count": 5
  },
  {
   "cell_type": "code",
   "id": "72c7667e78ee28bf",
   "metadata": {
    "collapsed": false,
    "ExecuteTime": {
     "end_time": "2024-11-14T08:13:51.658664Z",
     "start_time": "2024-11-14T08:13:51.346125Z"
    }
   },
   "source": [
    "# find datapoint with most missing values\n",
    "df[df.isnull().sum(axis=1) == df.isnull().sum(axis=1).max()]"
   ],
   "outputs": [
    {
     "data": {
      "text/plain": [
       "      Unnamed: 0.1 Unnamed: 0 Municipality Living space Plot area Floor space  \\\n",
       "11588        11588      11611          NaN          NaN       NaN         NaN   \n",
       "\n",
       "      Availability                                  location  \\\n",
       "11588          NaN  Rue du Centre Sportif 221936 Verbier, VS   \n",
       "\n",
       "                                             description  \\\n",
       "11588  «EXCLUSIVITÉ VERBIER - CENTRE : Bel appartemen...   \n",
       "\n",
       "                                    detailed_description  ... features  \\\n",
       "11588  detail_responsive#description_titleÀ seulement...  ...      NaN   \n",
       "\n",
       "      description_detailed Floor space: Number of floors: Volume:     plz  \\\n",
       "11588                  NaN          NaN               NaN     NaN  1936.0   \n",
       "\n",
       "      Number of toilets: Gross yield: Minimum floor space: space_cleaned  \n",
       "11588                NaN          NaN                  NaN           NaN  \n",
       "\n",
       "[1 rows x 134 columns]"
      ],
      "text/html": [
       "<div>\n",
       "<style scoped>\n",
       "    .dataframe tbody tr th:only-of-type {\n",
       "        vertical-align: middle;\n",
       "    }\n",
       "\n",
       "    .dataframe tbody tr th {\n",
       "        vertical-align: top;\n",
       "    }\n",
       "\n",
       "    .dataframe thead th {\n",
       "        text-align: right;\n",
       "    }\n",
       "</style>\n",
       "<table border=\"1\" class=\"dataframe\">\n",
       "  <thead>\n",
       "    <tr style=\"text-align: right;\">\n",
       "      <th></th>\n",
       "      <th>Unnamed: 0.1</th>\n",
       "      <th>Unnamed: 0</th>\n",
       "      <th>Municipality</th>\n",
       "      <th>Living space</th>\n",
       "      <th>Plot area</th>\n",
       "      <th>Floor space</th>\n",
       "      <th>Availability</th>\n",
       "      <th>location</th>\n",
       "      <th>description</th>\n",
       "      <th>detailed_description</th>\n",
       "      <th>...</th>\n",
       "      <th>features</th>\n",
       "      <th>description_detailed</th>\n",
       "      <th>Floor space:</th>\n",
       "      <th>Number of floors:</th>\n",
       "      <th>Volume:</th>\n",
       "      <th>plz</th>\n",
       "      <th>Number of toilets:</th>\n",
       "      <th>Gross yield:</th>\n",
       "      <th>Minimum floor space:</th>\n",
       "      <th>space_cleaned</th>\n",
       "    </tr>\n",
       "  </thead>\n",
       "  <tbody>\n",
       "    <tr>\n",
       "      <th>11588</th>\n",
       "      <td>11588</td>\n",
       "      <td>11611</td>\n",
       "      <td>NaN</td>\n",
       "      <td>NaN</td>\n",
       "      <td>NaN</td>\n",
       "      <td>NaN</td>\n",
       "      <td>NaN</td>\n",
       "      <td>Rue du Centre Sportif 221936 Verbier, VS</td>\n",
       "      <td>«EXCLUSIVITÉ VERBIER - CENTRE : Bel appartemen...</td>\n",
       "      <td>detail_responsive#description_titleÀ seulement...</td>\n",
       "      <td>...</td>\n",
       "      <td>NaN</td>\n",
       "      <td>NaN</td>\n",
       "      <td>NaN</td>\n",
       "      <td>NaN</td>\n",
       "      <td>NaN</td>\n",
       "      <td>1936.0</td>\n",
       "      <td>NaN</td>\n",
       "      <td>NaN</td>\n",
       "      <td>NaN</td>\n",
       "      <td>NaN</td>\n",
       "    </tr>\n",
       "  </tbody>\n",
       "</table>\n",
       "<p>1 rows × 134 columns</p>\n",
       "</div>"
      ]
     },
     "execution_count": 6,
     "metadata": {},
     "output_type": "execute_result"
    }
   ],
   "execution_count": 6
  },
  {
   "cell_type": "code",
   "id": "4171fd358978fa7b",
   "metadata": {
    "collapsed": false,
    "ExecuteTime": {
     "end_time": "2024-11-14T08:13:52.493194Z",
     "start_time": "2024-11-14T08:13:52.458211Z"
    }
   },
   "source": [
    "# count price on request\n",
    "amount_price_on_request = df[df['price'] == 'Price on request']\n",
    "amount_price_on_request"
   ],
   "outputs": [
    {
     "data": {
      "text/plain": [
       "      Unnamed: 0.1 Unnamed: 0              Municipality Living space  \\\n",
       "21              21         21                       NaN          NaN   \n",
       "27              27         41                     Turgi       150 m²   \n",
       "28              28         44                       NaN          NaN   \n",
       "29              29         45                     Turgi       104 m²   \n",
       "33              33         52                      Suhr       160 m²   \n",
       "...            ...        ...                       ...          ...   \n",
       "13274        13274      13297  Zürich, Kreis 6 (Zurich)       442 m²   \n",
       "13288        13288      13311                      Maur       181 m²   \n",
       "13290        13290      13313                      Maur       180 m²   \n",
       "13299        13299      13322                     Elsau       100 m²   \n",
       "13316        13316      13339                       NaN          NaN   \n",
       "\n",
       "      Plot area Floor space Availability                       location  \\\n",
       "21          NaN         NaN          NaN            5018 Erlinsbach, AG   \n",
       "27       223 m²         NaN   On request                 5300 Turgi, AG   \n",
       "28          NaN         NaN          NaN            5042 Hirschthal, AG   \n",
       "29      1496 m²         NaN  Immediately                 5300 Turgi, AG   \n",
       "33       640 m²         NaN   On request                  5034 Suhr, AG   \n",
       "...         ...         ...          ...                            ...   \n",
       "13274   1326 m²         NaN   On request          Zürich8044 Zürich, ZH   \n",
       "13288    911 m²         NaN   On request  Lebernhöhe8123 Ebmatingen, ZH   \n",
       "13290    188 m²         NaN   On request            8123 Ebmatingen, ZH   \n",
       "13299    312 m²         NaN   On request     Kirchgasse 38352 Elsau, ZH   \n",
       "13316       NaN         NaN          NaN            8413 Neftenbach, ZH   \n",
       "\n",
       "                                             description  \\\n",
       "21     4.5 rooms, 236 m²«Terrassenhaus mit malerische...   \n",
       "27     4.5 rooms, 150 m²«####Two in One#### mit Einli...   \n",
       "28     7.5 rooms, 216 m²«Verzauberndes Generationenha...   \n",
       "29     5 rooms, 104 m²«#### Top Einfamilienhaus einge...   \n",
       "33     5.5 rooms, 160 m²«FAMILIENGLÜCK MIT VIEL PLATZ...   \n",
       "...                                                  ...   \n",
       "13274  10 rooms, 442 m²«Anwesen an bester Lage im Woh...   \n",
       "13288  5.5 rooms, 181 m²«Grandioses 5 1/2 Zi. Einfami...   \n",
       "13290  5.5 rooms, 180 m²«FAMILIENFREUNDLICH MIT GARTE...   \n",
       "13299  5.5 rooms, 100 m²«5.5-Zimmer-Einfamilienhaus m...   \n",
       "13316        «Projektankündigung»Price on requestFavorit   \n",
       "\n",
       "                                    detailed_description  ... features  \\\n",
       "21     BeschreibungEine aussergewöhnliche Wohnung am ...  ...      NaN   \n",
       "27     DescriptionEin Haus mit Geschichte in neuem Gl...  ...      NaN   \n",
       "28     detail_responsive#description_titleDieses 7.5-...  ...      NaN   \n",
       "29     DescriptionBesonderes: Gleichzeitig in der Näh...  ...      NaN   \n",
       "33     DescriptionDieses Schmuckstück liegt in einem ...  ...      NaN   \n",
       "...                                                  ...  ...      ...   \n",
       "13274  DescriptionAnwesen an bester Lage im Wohnrecht...  ...      NaN   \n",
       "13288  DescriptionAn ruhiger und bestens besonnter Wo...  ...      NaN   \n",
       "13290  DescriptionZum Verkauf steht diese grosse, seh...  ...      NaN   \n",
       "13299  DescriptionObjektbeschriebDas heimelige Einfam...  ...      NaN   \n",
       "13316  BeschreibungIm Lindebrunne fühlt sich jede dih...  ...      NaN   \n",
       "\n",
       "      description_detailed Floor space: Number of floors: Volume:     plz  \\\n",
       "21                     NaN          NaN               NaN     NaN  5018.0   \n",
       "27                     NaN          NaN               NaN     NaN  5300.0   \n",
       "28                     NaN          NaN               NaN     NaN  5042.0   \n",
       "29                     NaN          NaN               NaN     NaN  5300.0   \n",
       "33                     NaN          NaN               NaN     NaN  5034.0   \n",
       "...                    ...          ...               ...     ...     ...   \n",
       "13274                  NaN          NaN               NaN     NaN  8044.0   \n",
       "13288                  NaN          NaN               NaN     NaN  8123.0   \n",
       "13290                  NaN          NaN               NaN     NaN  8123.0   \n",
       "13299                  NaN          NaN               NaN     NaN  8352.0   \n",
       "13316                  NaN          NaN               NaN     NaN  8413.0   \n",
       "\n",
       "      Number of toilets: Gross yield: Minimum floor space: space_cleaned  \n",
       "21                   NaN          NaN                  NaN           NaN  \n",
       "27                   NaN          NaN                  NaN           NaN  \n",
       "28                   NaN          NaN                  NaN           NaN  \n",
       "29                   NaN          NaN                  NaN           NaN  \n",
       "33                   NaN          NaN                  NaN           NaN  \n",
       "...                  ...          ...                  ...           ...  \n",
       "13274                NaN          NaN                  NaN           NaN  \n",
       "13288                NaN          NaN                  NaN           NaN  \n",
       "13290                NaN          NaN                  NaN           NaN  \n",
       "13299                NaN          NaN                  NaN           NaN  \n",
       "13316                NaN          NaN                  NaN           NaN  \n",
       "\n",
       "[1015 rows x 134 columns]"
      ],
      "text/html": [
       "<div>\n",
       "<style scoped>\n",
       "    .dataframe tbody tr th:only-of-type {\n",
       "        vertical-align: middle;\n",
       "    }\n",
       "\n",
       "    .dataframe tbody tr th {\n",
       "        vertical-align: top;\n",
       "    }\n",
       "\n",
       "    .dataframe thead th {\n",
       "        text-align: right;\n",
       "    }\n",
       "</style>\n",
       "<table border=\"1\" class=\"dataframe\">\n",
       "  <thead>\n",
       "    <tr style=\"text-align: right;\">\n",
       "      <th></th>\n",
       "      <th>Unnamed: 0.1</th>\n",
       "      <th>Unnamed: 0</th>\n",
       "      <th>Municipality</th>\n",
       "      <th>Living space</th>\n",
       "      <th>Plot area</th>\n",
       "      <th>Floor space</th>\n",
       "      <th>Availability</th>\n",
       "      <th>location</th>\n",
       "      <th>description</th>\n",
       "      <th>detailed_description</th>\n",
       "      <th>...</th>\n",
       "      <th>features</th>\n",
       "      <th>description_detailed</th>\n",
       "      <th>Floor space:</th>\n",
       "      <th>Number of floors:</th>\n",
       "      <th>Volume:</th>\n",
       "      <th>plz</th>\n",
       "      <th>Number of toilets:</th>\n",
       "      <th>Gross yield:</th>\n",
       "      <th>Minimum floor space:</th>\n",
       "      <th>space_cleaned</th>\n",
       "    </tr>\n",
       "  </thead>\n",
       "  <tbody>\n",
       "    <tr>\n",
       "      <th>21</th>\n",
       "      <td>21</td>\n",
       "      <td>21</td>\n",
       "      <td>NaN</td>\n",
       "      <td>NaN</td>\n",
       "      <td>NaN</td>\n",
       "      <td>NaN</td>\n",
       "      <td>NaN</td>\n",
       "      <td>5018 Erlinsbach, AG</td>\n",
       "      <td>4.5 rooms, 236 m²«Terrassenhaus mit malerische...</td>\n",
       "      <td>BeschreibungEine aussergewöhnliche Wohnung am ...</td>\n",
       "      <td>...</td>\n",
       "      <td>NaN</td>\n",
       "      <td>NaN</td>\n",
       "      <td>NaN</td>\n",
       "      <td>NaN</td>\n",
       "      <td>NaN</td>\n",
       "      <td>5018.0</td>\n",
       "      <td>NaN</td>\n",
       "      <td>NaN</td>\n",
       "      <td>NaN</td>\n",
       "      <td>NaN</td>\n",
       "    </tr>\n",
       "    <tr>\n",
       "      <th>27</th>\n",
       "      <td>27</td>\n",
       "      <td>41</td>\n",
       "      <td>Turgi</td>\n",
       "      <td>150 m²</td>\n",
       "      <td>223 m²</td>\n",
       "      <td>NaN</td>\n",
       "      <td>On request</td>\n",
       "      <td>5300 Turgi, AG</td>\n",
       "      <td>4.5 rooms, 150 m²«####Two in One#### mit Einli...</td>\n",
       "      <td>DescriptionEin Haus mit Geschichte in neuem Gl...</td>\n",
       "      <td>...</td>\n",
       "      <td>NaN</td>\n",
       "      <td>NaN</td>\n",
       "      <td>NaN</td>\n",
       "      <td>NaN</td>\n",
       "      <td>NaN</td>\n",
       "      <td>5300.0</td>\n",
       "      <td>NaN</td>\n",
       "      <td>NaN</td>\n",
       "      <td>NaN</td>\n",
       "      <td>NaN</td>\n",
       "    </tr>\n",
       "    <tr>\n",
       "      <th>28</th>\n",
       "      <td>28</td>\n",
       "      <td>44</td>\n",
       "      <td>NaN</td>\n",
       "      <td>NaN</td>\n",
       "      <td>NaN</td>\n",
       "      <td>NaN</td>\n",
       "      <td>NaN</td>\n",
       "      <td>5042 Hirschthal, AG</td>\n",
       "      <td>7.5 rooms, 216 m²«Verzauberndes Generationenha...</td>\n",
       "      <td>detail_responsive#description_titleDieses 7.5-...</td>\n",
       "      <td>...</td>\n",
       "      <td>NaN</td>\n",
       "      <td>NaN</td>\n",
       "      <td>NaN</td>\n",
       "      <td>NaN</td>\n",
       "      <td>NaN</td>\n",
       "      <td>5042.0</td>\n",
       "      <td>NaN</td>\n",
       "      <td>NaN</td>\n",
       "      <td>NaN</td>\n",
       "      <td>NaN</td>\n",
       "    </tr>\n",
       "    <tr>\n",
       "      <th>29</th>\n",
       "      <td>29</td>\n",
       "      <td>45</td>\n",
       "      <td>Turgi</td>\n",
       "      <td>104 m²</td>\n",
       "      <td>1496 m²</td>\n",
       "      <td>NaN</td>\n",
       "      <td>Immediately</td>\n",
       "      <td>5300 Turgi, AG</td>\n",
       "      <td>5 rooms, 104 m²«#### Top Einfamilienhaus einge...</td>\n",
       "      <td>DescriptionBesonderes: Gleichzeitig in der Näh...</td>\n",
       "      <td>...</td>\n",
       "      <td>NaN</td>\n",
       "      <td>NaN</td>\n",
       "      <td>NaN</td>\n",
       "      <td>NaN</td>\n",
       "      <td>NaN</td>\n",
       "      <td>5300.0</td>\n",
       "      <td>NaN</td>\n",
       "      <td>NaN</td>\n",
       "      <td>NaN</td>\n",
       "      <td>NaN</td>\n",
       "    </tr>\n",
       "    <tr>\n",
       "      <th>33</th>\n",
       "      <td>33</td>\n",
       "      <td>52</td>\n",
       "      <td>Suhr</td>\n",
       "      <td>160 m²</td>\n",
       "      <td>640 m²</td>\n",
       "      <td>NaN</td>\n",
       "      <td>On request</td>\n",
       "      <td>5034 Suhr, AG</td>\n",
       "      <td>5.5 rooms, 160 m²«FAMILIENGLÜCK MIT VIEL PLATZ...</td>\n",
       "      <td>DescriptionDieses Schmuckstück liegt in einem ...</td>\n",
       "      <td>...</td>\n",
       "      <td>NaN</td>\n",
       "      <td>NaN</td>\n",
       "      <td>NaN</td>\n",
       "      <td>NaN</td>\n",
       "      <td>NaN</td>\n",
       "      <td>5034.0</td>\n",
       "      <td>NaN</td>\n",
       "      <td>NaN</td>\n",
       "      <td>NaN</td>\n",
       "      <td>NaN</td>\n",
       "    </tr>\n",
       "    <tr>\n",
       "      <th>...</th>\n",
       "      <td>...</td>\n",
       "      <td>...</td>\n",
       "      <td>...</td>\n",
       "      <td>...</td>\n",
       "      <td>...</td>\n",
       "      <td>...</td>\n",
       "      <td>...</td>\n",
       "      <td>...</td>\n",
       "      <td>...</td>\n",
       "      <td>...</td>\n",
       "      <td>...</td>\n",
       "      <td>...</td>\n",
       "      <td>...</td>\n",
       "      <td>...</td>\n",
       "      <td>...</td>\n",
       "      <td>...</td>\n",
       "      <td>...</td>\n",
       "      <td>...</td>\n",
       "      <td>...</td>\n",
       "      <td>...</td>\n",
       "      <td>...</td>\n",
       "    </tr>\n",
       "    <tr>\n",
       "      <th>13274</th>\n",
       "      <td>13274</td>\n",
       "      <td>13297</td>\n",
       "      <td>Zürich, Kreis 6 (Zurich)</td>\n",
       "      <td>442 m²</td>\n",
       "      <td>1326 m²</td>\n",
       "      <td>NaN</td>\n",
       "      <td>On request</td>\n",
       "      <td>Zürich8044 Zürich, ZH</td>\n",
       "      <td>10 rooms, 442 m²«Anwesen an bester Lage im Woh...</td>\n",
       "      <td>DescriptionAnwesen an bester Lage im Wohnrecht...</td>\n",
       "      <td>...</td>\n",
       "      <td>NaN</td>\n",
       "      <td>NaN</td>\n",
       "      <td>NaN</td>\n",
       "      <td>NaN</td>\n",
       "      <td>NaN</td>\n",
       "      <td>8044.0</td>\n",
       "      <td>NaN</td>\n",
       "      <td>NaN</td>\n",
       "      <td>NaN</td>\n",
       "      <td>NaN</td>\n",
       "    </tr>\n",
       "    <tr>\n",
       "      <th>13288</th>\n",
       "      <td>13288</td>\n",
       "      <td>13311</td>\n",
       "      <td>Maur</td>\n",
       "      <td>181 m²</td>\n",
       "      <td>911 m²</td>\n",
       "      <td>NaN</td>\n",
       "      <td>On request</td>\n",
       "      <td>Lebernhöhe8123 Ebmatingen, ZH</td>\n",
       "      <td>5.5 rooms, 181 m²«Grandioses 5 1/2 Zi. Einfami...</td>\n",
       "      <td>DescriptionAn ruhiger und bestens besonnter Wo...</td>\n",
       "      <td>...</td>\n",
       "      <td>NaN</td>\n",
       "      <td>NaN</td>\n",
       "      <td>NaN</td>\n",
       "      <td>NaN</td>\n",
       "      <td>NaN</td>\n",
       "      <td>8123.0</td>\n",
       "      <td>NaN</td>\n",
       "      <td>NaN</td>\n",
       "      <td>NaN</td>\n",
       "      <td>NaN</td>\n",
       "    </tr>\n",
       "    <tr>\n",
       "      <th>13290</th>\n",
       "      <td>13290</td>\n",
       "      <td>13313</td>\n",
       "      <td>Maur</td>\n",
       "      <td>180 m²</td>\n",
       "      <td>188 m²</td>\n",
       "      <td>NaN</td>\n",
       "      <td>On request</td>\n",
       "      <td>8123 Ebmatingen, ZH</td>\n",
       "      <td>5.5 rooms, 180 m²«FAMILIENFREUNDLICH MIT GARTE...</td>\n",
       "      <td>DescriptionZum Verkauf steht diese grosse, seh...</td>\n",
       "      <td>...</td>\n",
       "      <td>NaN</td>\n",
       "      <td>NaN</td>\n",
       "      <td>NaN</td>\n",
       "      <td>NaN</td>\n",
       "      <td>NaN</td>\n",
       "      <td>8123.0</td>\n",
       "      <td>NaN</td>\n",
       "      <td>NaN</td>\n",
       "      <td>NaN</td>\n",
       "      <td>NaN</td>\n",
       "    </tr>\n",
       "    <tr>\n",
       "      <th>13299</th>\n",
       "      <td>13299</td>\n",
       "      <td>13322</td>\n",
       "      <td>Elsau</td>\n",
       "      <td>100 m²</td>\n",
       "      <td>312 m²</td>\n",
       "      <td>NaN</td>\n",
       "      <td>On request</td>\n",
       "      <td>Kirchgasse 38352 Elsau, ZH</td>\n",
       "      <td>5.5 rooms, 100 m²«5.5-Zimmer-Einfamilienhaus m...</td>\n",
       "      <td>DescriptionObjektbeschriebDas heimelige Einfam...</td>\n",
       "      <td>...</td>\n",
       "      <td>NaN</td>\n",
       "      <td>NaN</td>\n",
       "      <td>NaN</td>\n",
       "      <td>NaN</td>\n",
       "      <td>NaN</td>\n",
       "      <td>8352.0</td>\n",
       "      <td>NaN</td>\n",
       "      <td>NaN</td>\n",
       "      <td>NaN</td>\n",
       "      <td>NaN</td>\n",
       "    </tr>\n",
       "    <tr>\n",
       "      <th>13316</th>\n",
       "      <td>13316</td>\n",
       "      <td>13339</td>\n",
       "      <td>NaN</td>\n",
       "      <td>NaN</td>\n",
       "      <td>NaN</td>\n",
       "      <td>NaN</td>\n",
       "      <td>NaN</td>\n",
       "      <td>8413 Neftenbach, ZH</td>\n",
       "      <td>«Projektankündigung»Price on requestFavorit</td>\n",
       "      <td>BeschreibungIm Lindebrunne fühlt sich jede dih...</td>\n",
       "      <td>...</td>\n",
       "      <td>NaN</td>\n",
       "      <td>NaN</td>\n",
       "      <td>NaN</td>\n",
       "      <td>NaN</td>\n",
       "      <td>NaN</td>\n",
       "      <td>8413.0</td>\n",
       "      <td>NaN</td>\n",
       "      <td>NaN</td>\n",
       "      <td>NaN</td>\n",
       "      <td>NaN</td>\n",
       "    </tr>\n",
       "  </tbody>\n",
       "</table>\n",
       "<p>1015 rows × 134 columns</p>\n",
       "</div>"
      ]
     },
     "execution_count": 7,
     "metadata": {},
     "output_type": "execute_result"
    }
   ],
   "execution_count": 7
  },
  {
   "cell_type": "code",
   "id": "26139e86d8814190",
   "metadata": {
    "collapsed": false,
    "ExecuteTime": {
     "end_time": "2024-11-14T08:13:53.014271Z",
     "start_time": "2024-11-14T08:13:52.999117Z"
    }
   },
   "source": [
    "# count unique values in column price\n",
    "prices = df['price'].value_counts()\n",
    "#filter where price does not contain 'CHF'\n",
    "prices = prices[prices.index.str.contains('CHF') == False]\n",
    "prices"
   ],
   "outputs": [
    {
     "data": {
      "text/plain": [
       "price\n",
       "Price on request    1015\n",
       "EUR 495,000.—          2\n",
       "EUR 650,000.—          1\n",
       "EUR 190,000.—          1\n",
       "EUR5,500,000.–         1\n",
       "EUR2,130,000.–         1\n",
       "EUR1,880,000.–         1\n",
       "EUR1,645,000.–         1\n",
       "EUR1,340,000.–         1\n",
       "EUR1,200,000.–         1\n",
       "EUR1,130,000.–         1\n",
       "EUR 1,639,000.—        1\n",
       "EUR 780,000.—          1\n",
       "EUR 635,000.—          1\n",
       "EUR10,000,000.–        1\n",
       "EUR200,000.–           1\n",
       "EUR1,180,000.–         1\n",
       "Name: count, dtype: int64"
      ]
     },
     "execution_count": 8,
     "metadata": {},
     "output_type": "execute_result"
    }
   ],
   "execution_count": 8
  },
  {
   "cell_type": "markdown",
   "source": [],
   "metadata": {
    "collapsed": false
   },
   "id": "ed3d419e27fc97c"
  },
  {
   "cell_type": "code",
   "source": [
    "import folium\n",
    "from folium.plugins import HeatMap\n",
    "\n",
    "# Example data: list of tuples with (latitude, longitude)\n",
    "locations = df[['lat', 'lon']].dropna().values\n",
    "\n",
    "# Create a map centered around the first location\n",
    "mymap = folium.Map(location=(46.95377140068709, 8.181809096197288), zoom_start=8)\n",
    "\n",
    "# Create a HeatMap layer\n",
    "HeatMap(locations, radius=7, blur=5).add_to(mymap)\n",
    "\n",
    "\n",
    "# Save the map as an HTML file or display it directly in Jupyter\n",
    "mymap.save(\"heatmap.html\")\n",
    "\n",
    "# If you're using Jupyter, display the map directly\n",
    "mymap"
   ],
   "metadata": {
    "collapsed": false,
    "ExecuteTime": {
     "end_time": "2024-11-14T08:13:55.368948Z",
     "start_time": "2024-11-14T08:13:54.512645Z"
    }
   },
   "id": "a003de17a680dbd4",
   "outputs": [
    {
     "ename": "ModuleNotFoundError",
     "evalue": "No module named 'folium'",
     "output_type": "error",
     "traceback": [
      "\u001B[1;31m---------------------------------------------------------------------------\u001B[0m",
      "\u001B[1;31mModuleNotFoundError\u001B[0m                       Traceback (most recent call last)",
      "Cell \u001B[1;32mIn[9], line 1\u001B[0m\n\u001B[1;32m----> 1\u001B[0m \u001B[38;5;28;01mimport\u001B[39;00m \u001B[38;5;21;01mfolium\u001B[39;00m\n\u001B[0;32m      2\u001B[0m \u001B[38;5;28;01mfrom\u001B[39;00m \u001B[38;5;21;01mfolium\u001B[39;00m\u001B[38;5;21;01m.\u001B[39;00m\u001B[38;5;21;01mplugins\u001B[39;00m \u001B[38;5;28;01mimport\u001B[39;00m HeatMap\n\u001B[0;32m      4\u001B[0m \u001B[38;5;66;03m# Example data: list of tuples with (latitude, longitude)\u001B[39;00m\n",
      "\u001B[1;31mModuleNotFoundError\u001B[0m: No module named 'folium'"
     ]
    }
   ],
   "execution_count": 9
  },
  {
   "cell_type": "code",
   "outputs": [
    {
     "data": {
      "text/plain": "<Figure size 1000x800 with 2 Axes>",
      "image/png": "[encoded data removed]"
     },
     "metadata": {},
     "output_type": "display_data"
    }
   ],
   "source": [
    "import geopandas as gpd\n",
    "import pandas as pd\n",
    "import numpy as np\n",
    "import matplotlib.pyplot as plt\n",
    "from shapely.geometry import box\n",
    "\n",
    "\n",
    "df_temp = df[['lat', 'lon', 'price_cleaned']]\n",
    "df_temp = df_temp.dropna()\n",
    "#convert to float\n",
    "df_temp['lat'] = df_temp['lat'].astype(float)\n",
    "df_temp['lon'] = df_temp['lon'].astype(float)\n",
    "df_temp['price_cleaned'] = df_temp['price_cleaned'].astype(float)/1000000\n",
    "\n",
    "\n",
    "\n",
    "# Konvertiere DataFrame in GeoDataFrame\n",
    "gdf = gpd.GeoDataFrame(\n",
    "    df_temp, geometry=gpd.points_from_xy(df_temp.lon, df_temp.lat), crs=\"EPSG:4326\"\n",
    ")\n",
    "\n",
    "# Bounding Box der Schweiz bestimmen\n",
    "minx, miny, maxx, maxy = gdf.total_bounds\n",
    "\n",
    "# Anzahl der Quadrate\n",
    "n_cells = 2000\n",
    "\n",
    "# Bestimme die Breite und Höhe der Zellen\n",
    "cell_size_x = (maxx - minx) / np.sqrt(n_cells)\n",
    "cell_size_y = (maxy - miny) / np.sqrt(n_cells)\n",
    "\n",
    "# Erstelle das Gitter (Grid)\n",
    "grid = []\n",
    "x = minx\n",
    "while x < maxx:\n",
    "    y = miny\n",
    "    while y < maxy:\n",
    "        grid.append(box(x, y, x + cell_size_x, y + cell_size_y))\n",
    "        y += cell_size_y\n",
    "    x += cell_size_x\n",
    "\n",
    "grid_gdf = gpd.GeoDataFrame(grid, columns=['geometry'], crs=\"EPSG:4326\")\n",
    "\n",
    "# Räume den Gebäudedaten den entsprechenden Zellen zu\n",
    "joined = gpd.sjoin(gdf, grid_gdf, how='left', predicate='within')\n",
    "\n",
    "# Berechne den Durchschnittspreis pro Gitterzelle\n",
    "avg_prices = joined.groupby('index_right')['price_cleaned'].median()\n",
    "\n",
    "# Füge die Durchschnittspreise zum Gitter GeoDataFrame hinzu\n",
    "grid_gdf['avg_price'] = grid_gdf.index.map(avg_prices)\n",
    "\n",
    "# Karte zeichnen\n",
    "fig, ax = plt.subplots(figsize=(10, 8))\n",
    "grid_gdf.plot(column='avg_price', ax=ax, legend=True, cmap='viridis', edgecolor='black', alpha=0.7)\n",
    "plt.title('Median des Gebäudepreises pro Region in der Schweiz')\n",
    "plt.xlabel('Longitude')\n",
    "plt.ylabel('Latitude')\n",
    "plt.show()\n"
   ],
   "metadata": {
    "collapsed": false,
    "ExecuteTime": {
     "end_time": "2024-11-14T08:13:56.029137300Z",
     "start_time": "2024-10-16T13:35:31.864190400Z"
    }
   },
   "id": "734768a503f48fdb",
   "execution_count": 97
  },
  {
   "cell_type": "code",
   "outputs": [
    {
     "data": {
      "text/plain": "<Figure size 640x480 with 1 Axes>",
      "image/png": "[encoded data removed]"
     },
     "metadata": {},
     "output_type": "display_data"
    }
   ],
   "source": [
    "# Show distribution of the source and price\n",
    "df['provider'].value_counts().plot.bar()\n",
    "plt.xlabel('Provider')\n",
    "plt.ylabel('Frequency')\n",
    "plt.title('Histogram of providers')\n",
    "plt.show()\n"
   ],
   "metadata": {
    "collapsed": false,
    "ExecuteTime": {
     "end_time": "2024-11-14T08:13:56.029137300Z",
     "start_time": "2024-10-16T13:35:32.340971Z"
    }
   },
   "id": "efb13b1a369b7502",
   "execution_count": 98
  },
  {
   "cell_type": "code",
   "outputs": [
    {
     "data": {
      "text/plain": "<Figure size 640x480 with 1 Axes>",
      "image/png": "[encoded data removed]"
     },
     "metadata": {},
     "output_type": "display_data"
    }
   ],
   "source": [
    "# Boxplot of price and provider\n",
    "df_temp['price_cleaned'] = df['price_cleaned'].astype(float)/1000000\n",
    "df_temp['provider'] = df['provider']\n",
    "df_temp.boxplot(column='price_cleaned', by='provider', rot=0)\n",
    "plt.xlabel('Provider')\n",
    "plt.ylabel('Price in CHF')\n",
    "plt.title('Boxplot of price by provider')\n",
    "plt.show()\n"
   ],
   "metadata": {
    "collapsed": false,
    "ExecuteTime": {
     "end_time": "2024-11-14T08:13:56.029137300Z",
     "start_time": "2024-10-16T13:38:53.434474600Z"
    }
   },
   "id": "6c325a5bb115bd96",
   "execution_count": 114
  },
  {
   "cell_type": "code",
   "outputs": [
    {
     "data": {
      "text/plain": "<Figure size 640x480 with 1 Axes>",
      "image/png": "[encoded data removed]"
     },
     "metadata": {},
     "output_type": "display_data"
    }
   ],
   "source": [
    "df_temp['price_cleaned'] = df['price_cleaned'].astype(float)/1000000\n",
    "df_temp['provider'] = df['provider']\n",
    "\n",
    "df_temp.boxplot(column='price_cleaned', by='provider', rot=0)\n",
    "plt.xlabel('Provider')\n",
    "plt.ylabel('Price in CHF')\n",
    "plt.title('Boxplot of price by provider')\n",
    "plt.ylim(0, 5)\n",
    "plt.show()"
   ],
   "metadata": {
    "collapsed": false,
    "ExecuteTime": {
     "end_time": "2024-11-14T08:13:56.029137300Z",
     "start_time": "2024-10-16T13:38:54.510756600Z"
    }
   },
   "id": "9a0c522e6f96180a",
   "execution_count": 115
  },
  {
   "cell_type": "markdown",
   "source": [],
   "metadata": {
    "collapsed": false
   },
   "id": "57ea31d40f662b4d"
  },
  {
   "cell_type": "code",
   "execution_count": 101,
   "id": "81e452c7fc9b516a",
   "metadata": {
    "collapsed": false,
    "ExecuteTime": {
     "end_time": "2024-11-14T08:13:56.029137300Z",
     "start_time": "2024-10-16T13:35:32.671354Z"
    }
   },
   "outputs": [],
   "source": [
    "# remove price on request\n",
    "df = df[df['price'] != 'Price on request']\n",
    "df['price_cleaned'] = df['price_cleaned'].astype(float)"
   ]
  },
  {
   "cell_type": "code",
   "execution_count": 102,
   "id": "c3f473c7bd765e11",
   "metadata": {
    "collapsed": false,
    "ExecuteTime": {
     "end_time": "2024-11-14T08:13:56.029137300Z",
     "start_time": "2024-10-16T13:35:32.675999400Z"
    }
   },
   "outputs": [
    {
     "data": {
      "text/plain": "<Figure size 640x480 with 1 Axes>",
      "image/png": "[encoded data removed]"
     },
     "metadata": {},
     "output_type": "display_data"
    }
   ],
   "source": [
    "(df['price_cleaned']/1000).plot.hist(bins=200)\n",
    "plt.xlabel('Price in 1000 CHF')\n",
    "plt.ylabel('Frequency')\n",
    "plt.title('Histogram of prices')\n",
    "plt.xlim(0, 5000)\n",
    "plt.show()"
   ]
  },
  {
   "cell_type": "code",
   "execution_count": 90,
   "id": "cba1166feb7ac681",
   "metadata": {
    "collapsed": false,
    "ExecuteTime": {
     "end_time": "2024-11-14T08:13:56.029137300Z",
     "start_time": "2024-10-16T13:35:23.867440800Z"
    }
   },
   "outputs": [
    {
     "data": {
      "text/plain": "      Unnamed: 0.1 Unnamed: 0 Municipality Living space Plot area Floor space  \\\n10690        10690      10713         Etoy          NaN       NaN         NaN   \n3906          3906       3929      Veyrier       140 m²       NaN         NaN   \n17882        17882      20516     Ovronnaz          NaN       NaN         NaN   \n5021          5021       5044     Le Locle        45 m²       NaN         NaN   \n20194        20194      25560     Le Locle          NaN       NaN         NaN   \n...            ...        ...          ...          ...       ...         ...   \n16848        16848      18758     Montreux          NaN       NaN         NaN   \n11005        11005      11028          NaN          NaN       NaN         NaN   \n13958        13958      14292    Buchillon          NaN       NaN         NaN   \n10657        10657      10680   Saint-Prex          NaN   5000 m²         NaN   \n16849        16849      18759     Montreux          NaN       NaN         NaN   \n\n      Availability                       location  \\\n10690   On request                  1163 Etoy, VD   \n3906    31.12.2022               1255 Veyrier, GE   \n17882          NaN  Ch de la Coppe, 1911 Ovronnaz   \n5021    On request              2400 Le Locle, NE   \n20194          NaN                  2400 Le Locle   \n...            ...                            ...   \n16848          NaN                  1820 Montreux   \n11005          NaN                1295 Tannay, VD   \n13958          NaN                 1164 Buchillon   \n10657   On request               1162 St-Prex, VD   \n16849          NaN                  1820 Montreux   \n\n                                             description  \\\n10690  «a vendre une maison villageoise sur la Côte»C...   \n3906   7 rooms, 140 m²«Villa a vendre 7 pieces a Veyr...   \n17882  Chaleureux, douillets, élégants, les tout dern...   \n5021   2 rooms, 45 m²«IDEAL POUR ETUDIANT !»CHF 745.—...   \n20194  Idéalement situé, cet appartement de 2 pièces ...   \n...                                                  ...   \n16848  Face au Lac, située à proximité du Centre-Vill...   \n11005  14 rooms, 1200 m²«Splendide propriété pied dan...   \n13958  Située au bord du Lac Léman, entre Lausanne et...   \n10657  10 rooms«Somptueuse propriété pieds dans l eau...   \n16849  Cette propriété est l'oeuvre du célèbre archit...   \n\n                                    detailed_description  ...  \\\n10690  DescriptionA vendre une maison villageoise sit...  ...   \n3906   DescriptionJolie maison familliale comprenant ...  ...   \n17882  Description\\n\"Investissez en secondaire! Belle...  ...   \n5021   DescriptionIdéalement situé, cet appartement d...  ...   \n20194  Description\\n\"IDEAL POUR ETUDIANT !\"\\nIdéaleme...  ...   \n...                                                  ...  ...   \n16848  Description\\n\"Somptueuse Maison de Maître avec...  ...   \n11005  BeschreibungNous vous présentons cette superbe...  ...   \n13958  Description\\n\"UNIQUE, villa ultra moderne pied...  ...   \n10657  DescriptionCette propriété de maître ####pieds...  ...   \n16849  Description\\n\"Somptueuse propriété pieds dans ...  ...   \n\n                                                features  \\\n10690                                                NaN   \n3906                                                 NaN   \n17882  Balcony / Terrace\\tCable TV\\tFireplace\\tWheelc...   \n5021                                                 NaN   \n20194                        Wheelchair access\\tElevator   \n...                                                  ...   \n16848  Balcony / Terrace\\tView\\tParking space\\tGarage...   \n11005                                                NaN   \n13958  Balcony / Terrace\\tFireplace\\tView\\tWheelchair...   \n10657                                                NaN   \n16849                                                NaN   \n\n                                    description_detailed Floor space:  \\\n10690                                                NaN          NaN   \n3906                                                 NaN          NaN   \n17882  Description\\n\"Investissez en secondaire! Belle...        88 m2   \n5021                                                 NaN          NaN   \n20194  Description\\n\"IDEAL POUR ETUDIANT !\"\\nIdéaleme...          NaN   \n...                                                  ...          ...   \n16848  Description\\n\"Somptueuse Maison de Maître avec...          NaN   \n11005                                                NaN          NaN   \n13958  Description\\n\"UNIQUE, villa ultra moderne pied...          NaN   \n10657                                                NaN          NaN   \n16849  Description\\n\"Somptueuse propriété pieds dans ...          NaN   \n\n      Number of floors: Volume:     plz Number of toilets: Gross yield:  \\\n10690               NaN     NaN  1163.0                NaN          NaN   \n3906                NaN     NaN  1255.0                NaN          NaN   \n17882               NaN     NaN  1911.0                NaN          NaN   \n5021                NaN     NaN  2400.0                NaN          NaN   \n20194               NaN     NaN  2400.0                NaN          NaN   \n...                 ...     ...     ...                ...          ...   \n16848               NaN     NaN  1820.0                NaN          NaN   \n11005               NaN     NaN  1295.0                NaN          NaN   \n13958               2.0     NaN  1164.0                NaN          NaN   \n10657               NaN     NaN  1162.0                NaN          NaN   \n16849               NaN     NaN  1820.0                NaN          NaN   \n\n      Minimum floor space: space_cleaned  \n10690                  NaN           NaN  \n3906                   NaN           NaN  \n17882                  NaN          68.0  \n5021                   NaN           NaN  \n20194                  NaN          45.0  \n...                    ...           ...  \n16848                  NaN         782.0  \n11005                  NaN           NaN  \n13958                  NaN         900.0  \n10657                  NaN           NaN  \n16849                  NaN        1500.0  \n\n[21466 rows x 134 columns]",
      "text/html": "<div>\n<style scoped>\n    .dataframe tbody tr th:only-of-type {\n        vertical-align: middle;\n    }\n\n    .dataframe tbody tr th {\n        vertical-align: top;\n    }\n\n    .dataframe thead th {\n        text-align: right;\n    }\n</style>\n<table border=\"1\" class=\"dataframe\">\n  <thead>\n    <tr style=\"text-align: right;\">\n      <th></th>\n      <th>Unnamed: 0.1</th>\n      <th>Unnamed: 0</th>\n      <th>Municipality</th>\n      <th>Living space</th>\n      <th>Plot area</th>\n      <th>Floor space</th>\n      <th>Availability</th>\n      <th>location</th>\n      <th>description</th>\n      <th>detailed_description</th>\n      <th>...</th>\n      <th>features</th>\n      <th>description_detailed</th>\n      <th>Floor space:</th>\n      <th>Number of floors:</th>\n      <th>Volume:</th>\n      <th>plz</th>\n      <th>Number of toilets:</th>\n      <th>Gross yield:</th>\n      <th>Minimum floor space:</th>\n      <th>space_cleaned</th>\n    </tr>\n  </thead>\n  <tbody>\n    <tr>\n      <th>10690</th>\n      <td>10690</td>\n      <td>10713</td>\n      <td>Etoy</td>\n      <td>NaN</td>\n      <td>NaN</td>\n      <td>NaN</td>\n      <td>On request</td>\n      <td>1163 Etoy, VD</td>\n      <td>«a vendre une maison villageoise sur la Côte»C...</td>\n      <td>DescriptionA vendre une maison villageoise sit...</td>\n      <td>...</td>\n      <td>NaN</td>\n      <td>NaN</td>\n      <td>NaN</td>\n      <td>NaN</td>\n      <td>NaN</td>\n      <td>1163.0</td>\n      <td>NaN</td>\n      <td>NaN</td>\n      <td>NaN</td>\n      <td>NaN</td>\n    </tr>\n    <tr>\n      <th>3906</th>\n      <td>3906</td>\n      <td>3929</td>\n      <td>Veyrier</td>\n      <td>140 m²</td>\n      <td>NaN</td>\n      <td>NaN</td>\n      <td>31.12.2022</td>\n      <td>1255 Veyrier, GE</td>\n      <td>7 rooms, 140 m²«Villa a vendre 7 pieces a Veyr...</td>\n      <td>DescriptionJolie maison familliale comprenant ...</td>\n      <td>...</td>\n      <td>NaN</td>\n      <td>NaN</td>\n      <td>NaN</td>\n      <td>NaN</td>\n      <td>NaN</td>\n      <td>1255.0</td>\n      <td>NaN</td>\n      <td>NaN</td>\n      <td>NaN</td>\n      <td>NaN</td>\n    </tr>\n    <tr>\n      <th>17882</th>\n      <td>17882</td>\n      <td>20516</td>\n      <td>Ovronnaz</td>\n      <td>NaN</td>\n      <td>NaN</td>\n      <td>NaN</td>\n      <td>NaN</td>\n      <td>Ch de la Coppe, 1911 Ovronnaz</td>\n      <td>Chaleureux, douillets, élégants, les tout dern...</td>\n      <td>Description\\n\"Investissez en secondaire! Belle...</td>\n      <td>...</td>\n      <td>Balcony / Terrace\\tCable TV\\tFireplace\\tWheelc...</td>\n      <td>Description\\n\"Investissez en secondaire! Belle...</td>\n      <td>88 m2</td>\n      <td>NaN</td>\n      <td>NaN</td>\n      <td>1911.0</td>\n      <td>NaN</td>\n      <td>NaN</td>\n      <td>NaN</td>\n      <td>68.0</td>\n    </tr>\n    <tr>\n      <th>5021</th>\n      <td>5021</td>\n      <td>5044</td>\n      <td>Le Locle</td>\n      <td>45 m²</td>\n      <td>NaN</td>\n      <td>NaN</td>\n      <td>On request</td>\n      <td>2400 Le Locle, NE</td>\n      <td>2 rooms, 45 m²«IDEAL POUR ETUDIANT !»CHF 745.—...</td>\n      <td>DescriptionIdéalement situé, cet appartement d...</td>\n      <td>...</td>\n      <td>NaN</td>\n      <td>NaN</td>\n      <td>NaN</td>\n      <td>NaN</td>\n      <td>NaN</td>\n      <td>2400.0</td>\n      <td>NaN</td>\n      <td>NaN</td>\n      <td>NaN</td>\n      <td>NaN</td>\n    </tr>\n    <tr>\n      <th>20194</th>\n      <td>20194</td>\n      <td>25560</td>\n      <td>Le Locle</td>\n      <td>NaN</td>\n      <td>NaN</td>\n      <td>NaN</td>\n      <td>NaN</td>\n      <td>2400 Le Locle</td>\n      <td>Idéalement situé, cet appartement de 2 pièces ...</td>\n      <td>Description\\n\"IDEAL POUR ETUDIANT !\"\\nIdéaleme...</td>\n      <td>...</td>\n      <td>Wheelchair access\\tElevator</td>\n      <td>Description\\n\"IDEAL POUR ETUDIANT !\"\\nIdéaleme...</td>\n      <td>NaN</td>\n      <td>NaN</td>\n      <td>NaN</td>\n      <td>2400.0</td>\n      <td>NaN</td>\n      <td>NaN</td>\n      <td>NaN</td>\n      <td>45.0</td>\n    </tr>\n    <tr>\n      <th>...</th>\n      <td>...</td>\n      <td>...</td>\n      <td>...</td>\n      <td>...</td>\n      <td>...</td>\n      <td>...</td>\n      <td>...</td>\n      <td>...</td>\n      <td>...</td>\n      <td>...</td>\n      <td>...</td>\n      <td>...</td>\n      <td>...</td>\n      <td>...</td>\n      <td>...</td>\n      <td>...</td>\n      <td>...</td>\n      <td>...</td>\n      <td>...</td>\n      <td>...</td>\n      <td>...</td>\n    </tr>\n    <tr>\n      <th>16848</th>\n      <td>16848</td>\n      <td>18758</td>\n      <td>Montreux</td>\n      <td>NaN</td>\n      <td>NaN</td>\n      <td>NaN</td>\n      <td>NaN</td>\n      <td>1820 Montreux</td>\n      <td>Face au Lac, située à proximité du Centre-Vill...</td>\n      <td>Description\\n\"Somptueuse Maison de Maître avec...</td>\n      <td>...</td>\n      <td>Balcony / Terrace\\tView\\tParking space\\tGarage...</td>\n      <td>Description\\n\"Somptueuse Maison de Maître avec...</td>\n      <td>NaN</td>\n      <td>NaN</td>\n      <td>NaN</td>\n      <td>1820.0</td>\n      <td>NaN</td>\n      <td>NaN</td>\n      <td>NaN</td>\n      <td>782.0</td>\n    </tr>\n    <tr>\n      <th>11005</th>\n      <td>11005</td>\n      <td>11028</td>\n      <td>NaN</td>\n      <td>NaN</td>\n      <td>NaN</td>\n      <td>NaN</td>\n      <td>NaN</td>\n      <td>1295 Tannay, VD</td>\n      <td>14 rooms, 1200 m²«Splendide propriété pied dan...</td>\n      <td>BeschreibungNous vous présentons cette superbe...</td>\n      <td>...</td>\n      <td>NaN</td>\n      <td>NaN</td>\n      <td>NaN</td>\n      <td>NaN</td>\n      <td>NaN</td>\n      <td>1295.0</td>\n      <td>NaN</td>\n      <td>NaN</td>\n      <td>NaN</td>\n      <td>NaN</td>\n    </tr>\n    <tr>\n      <th>13958</th>\n      <td>13958</td>\n      <td>14292</td>\n      <td>Buchillon</td>\n      <td>NaN</td>\n      <td>NaN</td>\n      <td>NaN</td>\n      <td>NaN</td>\n      <td>1164 Buchillon</td>\n      <td>Située au bord du Lac Léman, entre Lausanne et...</td>\n      <td>Description\\n\"UNIQUE, villa ultra moderne pied...</td>\n      <td>...</td>\n      <td>Balcony / Terrace\\tFireplace\\tView\\tWheelchair...</td>\n      <td>Description\\n\"UNIQUE, villa ultra moderne pied...</td>\n      <td>NaN</td>\n      <td>2.0</td>\n      <td>NaN</td>\n      <td>1164.0</td>\n      <td>NaN</td>\n      <td>NaN</td>\n      <td>NaN</td>\n      <td>900.0</td>\n    </tr>\n    <tr>\n      <th>10657</th>\n      <td>10657</td>\n      <td>10680</td>\n      <td>Saint-Prex</td>\n      <td>NaN</td>\n      <td>5000 m²</td>\n      <td>NaN</td>\n      <td>On request</td>\n      <td>1162 St-Prex, VD</td>\n      <td>10 rooms«Somptueuse propriété pieds dans l eau...</td>\n      <td>DescriptionCette propriété de maître ####pieds...</td>\n      <td>...</td>\n      <td>NaN</td>\n      <td>NaN</td>\n      <td>NaN</td>\n      <td>NaN</td>\n      <td>NaN</td>\n      <td>1162.0</td>\n      <td>NaN</td>\n      <td>NaN</td>\n      <td>NaN</td>\n      <td>NaN</td>\n    </tr>\n    <tr>\n      <th>16849</th>\n      <td>16849</td>\n      <td>18759</td>\n      <td>Montreux</td>\n      <td>NaN</td>\n      <td>NaN</td>\n      <td>NaN</td>\n      <td>NaN</td>\n      <td>1820 Montreux</td>\n      <td>Cette propriété est l'oeuvre du célèbre archit...</td>\n      <td>Description\\n\"Somptueuse propriété pieds dans ...</td>\n      <td>...</td>\n      <td>NaN</td>\n      <td>Description\\n\"Somptueuse propriété pieds dans ...</td>\n      <td>NaN</td>\n      <td>NaN</td>\n      <td>NaN</td>\n      <td>1820.0</td>\n      <td>NaN</td>\n      <td>NaN</td>\n      <td>NaN</td>\n      <td>1500.0</td>\n    </tr>\n  </tbody>\n</table>\n<p>21466 rows × 134 columns</p>\n</div>"
     },
     "execution_count": 90,
     "metadata": {},
     "output_type": "execute_result"
    }
   ],
   "source": [
    "# show list of all columns ordered by price_cleaned asending\n",
    "df = df.sort_values(by='price_cleaned', ascending=True)\n",
    "df"
   ]
  },
  {
   "cell_type": "code",
   "execution_count": 91,
   "id": "24a11e24cd70d897",
   "metadata": {
    "collapsed": false,
    "ExecuteTime": {
     "end_time": "2024-11-14T08:13:56.029137300Z",
     "start_time": "2024-10-16T13:35:23.943061800Z"
    }
   },
   "outputs": [
    {
     "ename": "KeyboardInterrupt",
     "evalue": "",
     "output_type": "error",
     "traceback": [
      "\u001B[1;31m---------------------------------------------------------------------------\u001B[0m",
      "\u001B[1;31mKeyboardInterrupt\u001B[0m                         Traceback (most recent call last)",
      "Cell \u001B[1;32mIn[91], line 29\u001B[0m\n\u001B[0;32m     26\u001B[0m     \u001B[38;5;28;01mreturn\u001B[39;00m similarity_df\n\u001B[0;32m     28\u001B[0m \u001B[38;5;66;03m# Beispiel-Aufruf mit deinem DataFrame (df)\u001B[39;00m\n\u001B[1;32m---> 29\u001B[0m similarity_df \u001B[38;5;241m=\u001B[39m \u001B[43mcompare_columns_percentage\u001B[49m\u001B[43m(\u001B[49m\u001B[43mdf\u001B[49m\u001B[43m)\u001B[49m\n\u001B[0;32m     30\u001B[0m \u001B[38;5;66;03m# Display the results\u001B[39;00m\n\u001B[0;32m     31\u001B[0m \u001B[38;5;28mprint\u001B[39m(similarity_df)\n",
      "Cell \u001B[1;32mIn[91], line 13\u001B[0m, in \u001B[0;36mcompare_columns_percentage\u001B[1;34m(df)\u001B[0m\n\u001B[0;32m     10\u001B[0m \u001B[38;5;28;01mif\u001B[39;00m col1 \u001B[38;5;241m!=\u001B[39m col2:  \u001B[38;5;66;03m# Vermeide den Vergleich einer Spalte mit sich selbst\u001B[39;00m\n\u001B[0;32m     11\u001B[0m     \u001B[38;5;66;03m# Vergleiche die Werte in jeder Zeile\u001B[39;00m\n\u001B[0;32m     12\u001B[0m     matching_rows \u001B[38;5;241m=\u001B[39m df[col1] \u001B[38;5;241m==\u001B[39m df[col2]\n\u001B[1;32m---> 13\u001B[0m     matching_percentage \u001B[38;5;241m=\u001B[39m (\u001B[43mmatching_rows\u001B[49m\u001B[38;5;241;43m.\u001B[39;49m\u001B[43msum\u001B[49m\u001B[43m(\u001B[49m\u001B[43m)\u001B[49m \u001B[38;5;241m/\u001B[39m \u001B[38;5;28mlen\u001B[39m(df)) \u001B[38;5;241m*\u001B[39m \u001B[38;5;241m100\u001B[39m  \u001B[38;5;66;03m# Prozentuale Übereinstimmung\u001B[39;00m\n\u001B[0;32m     15\u001B[0m     \u001B[38;5;66;03m# Speichere die Informationen nur, wenn es eine Übereinstimmung gibt\u001B[39;00m\n\u001B[0;32m     16\u001B[0m     \u001B[38;5;28;01mif\u001B[39;00m matching_percentage \u001B[38;5;241m>\u001B[39m \u001B[38;5;241m0\u001B[39m:\n",
      "File \u001B[1;32mC:\\FHNW_Programmiersachen\\5_Sem\\immo_challenge\\.venv\\Lib\\site-packages\\pandas\\core\\series.py:6528\u001B[0m, in \u001B[0;36mSeries.sum\u001B[1;34m(self, axis, skipna, numeric_only, min_count, **kwargs)\u001B[0m\n\u001B[0;32m   6519\u001B[0m \u001B[38;5;129m@doc\u001B[39m(make_doc(\u001B[38;5;124m\"\u001B[39m\u001B[38;5;124msum\u001B[39m\u001B[38;5;124m\"\u001B[39m, ndim\u001B[38;5;241m=\u001B[39m\u001B[38;5;241m1\u001B[39m))\n\u001B[0;32m   6520\u001B[0m \u001B[38;5;28;01mdef\u001B[39;00m \u001B[38;5;21msum\u001B[39m(\n\u001B[0;32m   6521\u001B[0m     \u001B[38;5;28mself\u001B[39m,\n\u001B[1;32m   (...)\u001B[0m\n\u001B[0;32m   6526\u001B[0m     \u001B[38;5;241m*\u001B[39m\u001B[38;5;241m*\u001B[39mkwargs,\n\u001B[0;32m   6527\u001B[0m ):\n\u001B[1;32m-> 6528\u001B[0m     \u001B[38;5;28;01mreturn\u001B[39;00m \u001B[43mNDFrame\u001B[49m\u001B[38;5;241;43m.\u001B[39;49m\u001B[43msum\u001B[49m\u001B[43m(\u001B[49m\u001B[38;5;28;43mself\u001B[39;49m\u001B[43m,\u001B[49m\u001B[43m \u001B[49m\u001B[43maxis\u001B[49m\u001B[43m,\u001B[49m\u001B[43m \u001B[49m\u001B[43mskipna\u001B[49m\u001B[43m,\u001B[49m\u001B[43m \u001B[49m\u001B[43mnumeric_only\u001B[49m\u001B[43m,\u001B[49m\u001B[43m \u001B[49m\u001B[43mmin_count\u001B[49m\u001B[43m,\u001B[49m\u001B[43m \u001B[49m\u001B[38;5;241;43m*\u001B[39;49m\u001B[38;5;241;43m*\u001B[39;49m\u001B[43mkwargs\u001B[49m\u001B[43m)\u001B[49m\n",
      "File \u001B[1;32mC:\\FHNW_Programmiersachen\\5_Sem\\immo_challenge\\.venv\\Lib\\site-packages\\pandas\\core\\generic.py:12506\u001B[0m, in \u001B[0;36mNDFrame.sum\u001B[1;34m(self, axis, skipna, numeric_only, min_count, **kwargs)\u001B[0m\n\u001B[0;32m  12498\u001B[0m \u001B[38;5;28;01mdef\u001B[39;00m \u001B[38;5;21msum\u001B[39m(\n\u001B[0;32m  12499\u001B[0m     \u001B[38;5;28mself\u001B[39m,\n\u001B[0;32m  12500\u001B[0m     axis: Axis \u001B[38;5;241m|\u001B[39m \u001B[38;5;28;01mNone\u001B[39;00m \u001B[38;5;241m=\u001B[39m \u001B[38;5;241m0\u001B[39m,\n\u001B[1;32m   (...)\u001B[0m\n\u001B[0;32m  12504\u001B[0m     \u001B[38;5;241m*\u001B[39m\u001B[38;5;241m*\u001B[39mkwargs,\n\u001B[0;32m  12505\u001B[0m ):\n\u001B[1;32m> 12506\u001B[0m     \u001B[38;5;28;01mreturn\u001B[39;00m \u001B[38;5;28;43mself\u001B[39;49m\u001B[38;5;241;43m.\u001B[39;49m\u001B[43m_min_count_stat_function\u001B[49m\u001B[43m(\u001B[49m\n\u001B[0;32m  12507\u001B[0m \u001B[43m        \u001B[49m\u001B[38;5;124;43m\"\u001B[39;49m\u001B[38;5;124;43msum\u001B[39;49m\u001B[38;5;124;43m\"\u001B[39;49m\u001B[43m,\u001B[49m\u001B[43m \u001B[49m\u001B[43mnanops\u001B[49m\u001B[38;5;241;43m.\u001B[39;49m\u001B[43mnansum\u001B[49m\u001B[43m,\u001B[49m\u001B[43m \u001B[49m\u001B[43maxis\u001B[49m\u001B[43m,\u001B[49m\u001B[43m \u001B[49m\u001B[43mskipna\u001B[49m\u001B[43m,\u001B[49m\u001B[43m \u001B[49m\u001B[43mnumeric_only\u001B[49m\u001B[43m,\u001B[49m\u001B[43m \u001B[49m\u001B[43mmin_count\u001B[49m\u001B[43m,\u001B[49m\u001B[43m \u001B[49m\u001B[38;5;241;43m*\u001B[39;49m\u001B[38;5;241;43m*\u001B[39;49m\u001B[43mkwargs\u001B[49m\n\u001B[0;32m  12508\u001B[0m \u001B[43m    \u001B[49m\u001B[43m)\u001B[49m\n",
      "File \u001B[1;32mC:\\FHNW_Programmiersachen\\5_Sem\\immo_challenge\\.venv\\Lib\\site-packages\\pandas\\core\\generic.py:12489\u001B[0m, in \u001B[0;36mNDFrame._min_count_stat_function\u001B[1;34m(self, name, func, axis, skipna, numeric_only, min_count, **kwargs)\u001B[0m\n\u001B[0;32m  12486\u001B[0m \u001B[38;5;28;01melif\u001B[39;00m axis \u001B[38;5;129;01mis\u001B[39;00m lib\u001B[38;5;241m.\u001B[39mno_default:\n\u001B[0;32m  12487\u001B[0m     axis \u001B[38;5;241m=\u001B[39m \u001B[38;5;241m0\u001B[39m\n\u001B[1;32m> 12489\u001B[0m \u001B[38;5;28;01mreturn\u001B[39;00m \u001B[38;5;28;43mself\u001B[39;49m\u001B[38;5;241;43m.\u001B[39;49m\u001B[43m_reduce\u001B[49m\u001B[43m(\u001B[49m\n\u001B[0;32m  12490\u001B[0m \u001B[43m    \u001B[49m\u001B[43mfunc\u001B[49m\u001B[43m,\u001B[49m\n\u001B[0;32m  12491\u001B[0m \u001B[43m    \u001B[49m\u001B[43mname\u001B[49m\u001B[38;5;241;43m=\u001B[39;49m\u001B[43mname\u001B[49m\u001B[43m,\u001B[49m\n\u001B[0;32m  12492\u001B[0m \u001B[43m    \u001B[49m\u001B[43maxis\u001B[49m\u001B[38;5;241;43m=\u001B[39;49m\u001B[43maxis\u001B[49m\u001B[43m,\u001B[49m\n\u001B[0;32m  12493\u001B[0m \u001B[43m    \u001B[49m\u001B[43mskipna\u001B[49m\u001B[38;5;241;43m=\u001B[39;49m\u001B[43mskipna\u001B[49m\u001B[43m,\u001B[49m\n\u001B[0;32m  12494\u001B[0m \u001B[43m    \u001B[49m\u001B[43mnumeric_only\u001B[49m\u001B[38;5;241;43m=\u001B[39;49m\u001B[43mnumeric_only\u001B[49m\u001B[43m,\u001B[49m\n\u001B[0;32m  12495\u001B[0m \u001B[43m    \u001B[49m\u001B[43mmin_count\u001B[49m\u001B[38;5;241;43m=\u001B[39;49m\u001B[43mmin_count\u001B[49m\u001B[43m,\u001B[49m\n\u001B[0;32m  12496\u001B[0m \u001B[43m\u001B[49m\u001B[43m)\u001B[49m\n",
      "File \u001B[1;32mC:\\FHNW_Programmiersachen\\5_Sem\\immo_challenge\\.venv\\Lib\\site-packages\\pandas\\core\\series.py:6457\u001B[0m, in \u001B[0;36mSeries._reduce\u001B[1;34m(self, op, name, axis, skipna, numeric_only, filter_type, **kwds)\u001B[0m\n\u001B[0;32m   6452\u001B[0m     \u001B[38;5;66;03m# GH#47500 - change to TypeError to match other methods\u001B[39;00m\n\u001B[0;32m   6453\u001B[0m     \u001B[38;5;28;01mraise\u001B[39;00m \u001B[38;5;167;01mTypeError\u001B[39;00m(\n\u001B[0;32m   6454\u001B[0m         \u001B[38;5;124mf\u001B[39m\u001B[38;5;124m\"\u001B[39m\u001B[38;5;124mSeries.\u001B[39m\u001B[38;5;132;01m{\u001B[39;00mname\u001B[38;5;132;01m}\u001B[39;00m\u001B[38;5;124m does not allow \u001B[39m\u001B[38;5;132;01m{\u001B[39;00mkwd_name\u001B[38;5;132;01m}\u001B[39;00m\u001B[38;5;124m=\u001B[39m\u001B[38;5;132;01m{\u001B[39;00mnumeric_only\u001B[38;5;132;01m}\u001B[39;00m\u001B[38;5;124m \u001B[39m\u001B[38;5;124m\"\u001B[39m\n\u001B[0;32m   6455\u001B[0m         \u001B[38;5;124m\"\u001B[39m\u001B[38;5;124mwith non-numeric dtypes.\u001B[39m\u001B[38;5;124m\"\u001B[39m\n\u001B[0;32m   6456\u001B[0m     )\n\u001B[1;32m-> 6457\u001B[0m \u001B[38;5;28;01mreturn\u001B[39;00m \u001B[43mop\u001B[49m\u001B[43m(\u001B[49m\u001B[43mdelegate\u001B[49m\u001B[43m,\u001B[49m\u001B[43m \u001B[49m\u001B[43mskipna\u001B[49m\u001B[38;5;241;43m=\u001B[39;49m\u001B[43mskipna\u001B[49m\u001B[43m,\u001B[49m\u001B[43m \u001B[49m\u001B[38;5;241;43m*\u001B[39;49m\u001B[38;5;241;43m*\u001B[39;49m\u001B[43mkwds\u001B[49m\u001B[43m)\u001B[49m\n",
      "File \u001B[1;32mC:\\FHNW_Programmiersachen\\5_Sem\\immo_challenge\\.venv\\Lib\\site-packages\\pandas\\core\\nanops.py:85\u001B[0m, in \u001B[0;36mdisallow.__call__.<locals>._f\u001B[1;34m(*args, **kwargs)\u001B[0m\n\u001B[0;32m     81\u001B[0m     \u001B[38;5;28;01mraise\u001B[39;00m \u001B[38;5;167;01mTypeError\u001B[39;00m(\n\u001B[0;32m     82\u001B[0m         \u001B[38;5;124mf\u001B[39m\u001B[38;5;124m\"\u001B[39m\u001B[38;5;124mreduction operation \u001B[39m\u001B[38;5;124m'\u001B[39m\u001B[38;5;132;01m{\u001B[39;00mf_name\u001B[38;5;132;01m}\u001B[39;00m\u001B[38;5;124m'\u001B[39m\u001B[38;5;124m not allowed for this dtype\u001B[39m\u001B[38;5;124m\"\u001B[39m\n\u001B[0;32m     83\u001B[0m     )\n\u001B[0;32m     84\u001B[0m \u001B[38;5;28;01mtry\u001B[39;00m:\n\u001B[1;32m---> 85\u001B[0m     \u001B[38;5;28;01mreturn\u001B[39;00m \u001B[43mf\u001B[49m\u001B[43m(\u001B[49m\u001B[38;5;241;43m*\u001B[39;49m\u001B[43margs\u001B[49m\u001B[43m,\u001B[49m\u001B[43m \u001B[49m\u001B[38;5;241;43m*\u001B[39;49m\u001B[38;5;241;43m*\u001B[39;49m\u001B[43mkwargs\u001B[49m\u001B[43m)\u001B[49m\n\u001B[0;32m     86\u001B[0m \u001B[38;5;28;01mexcept\u001B[39;00m \u001B[38;5;167;01mValueError\u001B[39;00m \u001B[38;5;28;01mas\u001B[39;00m e:\n\u001B[0;32m     87\u001B[0m     \u001B[38;5;66;03m# we want to transform an object array\u001B[39;00m\n\u001B[0;32m     88\u001B[0m     \u001B[38;5;66;03m# ValueError message to the more typical TypeError\u001B[39;00m\n\u001B[0;32m     89\u001B[0m     \u001B[38;5;66;03m# e.g. this is normally a disallowed function on\u001B[39;00m\n\u001B[0;32m     90\u001B[0m     \u001B[38;5;66;03m# object arrays that contain strings\u001B[39;00m\n\u001B[0;32m     91\u001B[0m     \u001B[38;5;28;01mif\u001B[39;00m is_object_dtype(args[\u001B[38;5;241m0\u001B[39m]):\n",
      "File \u001B[1;32mC:\\FHNW_Programmiersachen\\5_Sem\\immo_challenge\\.venv\\Lib\\site-packages\\pandas\\core\\nanops.py:404\u001B[0m, in \u001B[0;36m_datetimelike_compat.<locals>.new_func\u001B[1;34m(values, axis, skipna, mask, **kwargs)\u001B[0m\n\u001B[0;32m    401\u001B[0m \u001B[38;5;28;01mif\u001B[39;00m datetimelike \u001B[38;5;129;01mand\u001B[39;00m mask \u001B[38;5;129;01mis\u001B[39;00m \u001B[38;5;28;01mNone\u001B[39;00m:\n\u001B[0;32m    402\u001B[0m     mask \u001B[38;5;241m=\u001B[39m isna(values)\n\u001B[1;32m--> 404\u001B[0m result \u001B[38;5;241m=\u001B[39m \u001B[43mfunc\u001B[49m\u001B[43m(\u001B[49m\u001B[43mvalues\u001B[49m\u001B[43m,\u001B[49m\u001B[43m \u001B[49m\u001B[43maxis\u001B[49m\u001B[38;5;241;43m=\u001B[39;49m\u001B[43maxis\u001B[49m\u001B[43m,\u001B[49m\u001B[43m \u001B[49m\u001B[43mskipna\u001B[49m\u001B[38;5;241;43m=\u001B[39;49m\u001B[43mskipna\u001B[49m\u001B[43m,\u001B[49m\u001B[43m \u001B[49m\u001B[43mmask\u001B[49m\u001B[38;5;241;43m=\u001B[39;49m\u001B[43mmask\u001B[49m\u001B[43m,\u001B[49m\u001B[43m \u001B[49m\u001B[38;5;241;43m*\u001B[39;49m\u001B[38;5;241;43m*\u001B[39;49m\u001B[43mkwargs\u001B[49m\u001B[43m)\u001B[49m\n\u001B[0;32m    406\u001B[0m \u001B[38;5;28;01mif\u001B[39;00m datetimelike:\n\u001B[0;32m    407\u001B[0m     result \u001B[38;5;241m=\u001B[39m _wrap_results(result, orig_values\u001B[38;5;241m.\u001B[39mdtype, fill_value\u001B[38;5;241m=\u001B[39miNaT)\n",
      "File \u001B[1;32mC:\\FHNW_Programmiersachen\\5_Sem\\immo_challenge\\.venv\\Lib\\site-packages\\pandas\\core\\nanops.py:477\u001B[0m, in \u001B[0;36mmaybe_operate_rowwise.<locals>.newfunc\u001B[1;34m(values, axis, **kwargs)\u001B[0m\n\u001B[0;32m    474\u001B[0m         results \u001B[38;5;241m=\u001B[39m [func(x, \u001B[38;5;241m*\u001B[39m\u001B[38;5;241m*\u001B[39mkwargs) \u001B[38;5;28;01mfor\u001B[39;00m x \u001B[38;5;129;01min\u001B[39;00m arrs]\n\u001B[0;32m    475\u001B[0m     \u001B[38;5;28;01mreturn\u001B[39;00m np\u001B[38;5;241m.\u001B[39marray(results)\n\u001B[1;32m--> 477\u001B[0m \u001B[38;5;28;01mreturn\u001B[39;00m \u001B[43mfunc\u001B[49m\u001B[43m(\u001B[49m\u001B[43mvalues\u001B[49m\u001B[43m,\u001B[49m\u001B[43m \u001B[49m\u001B[43maxis\u001B[49m\u001B[38;5;241;43m=\u001B[39;49m\u001B[43maxis\u001B[49m\u001B[43m,\u001B[49m\u001B[43m \u001B[49m\u001B[38;5;241;43m*\u001B[39;49m\u001B[38;5;241;43m*\u001B[39;49m\u001B[43mkwargs\u001B[49m\u001B[43m)\u001B[49m\n",
      "File \u001B[1;32mC:\\FHNW_Programmiersachen\\5_Sem\\immo_challenge\\.venv\\Lib\\site-packages\\pandas\\core\\nanops.py:646\u001B[0m, in \u001B[0;36mnansum\u001B[1;34m(values, axis, skipna, min_count, mask)\u001B[0m\n\u001B[0;32m    643\u001B[0m \u001B[38;5;28;01melif\u001B[39;00m dtype\u001B[38;5;241m.\u001B[39mkind \u001B[38;5;241m==\u001B[39m \u001B[38;5;124m\"\u001B[39m\u001B[38;5;124mm\u001B[39m\u001B[38;5;124m\"\u001B[39m:\n\u001B[0;32m    644\u001B[0m     dtype_sum \u001B[38;5;241m=\u001B[39m np\u001B[38;5;241m.\u001B[39mdtype(np\u001B[38;5;241m.\u001B[39mfloat64)\n\u001B[1;32m--> 646\u001B[0m the_sum \u001B[38;5;241m=\u001B[39m \u001B[43mvalues\u001B[49m\u001B[38;5;241;43m.\u001B[39;49m\u001B[43msum\u001B[49m\u001B[43m(\u001B[49m\u001B[43maxis\u001B[49m\u001B[43m,\u001B[49m\u001B[43m \u001B[49m\u001B[43mdtype\u001B[49m\u001B[38;5;241;43m=\u001B[39;49m\u001B[43mdtype_sum\u001B[49m\u001B[43m)\u001B[49m\n\u001B[0;32m    647\u001B[0m the_sum \u001B[38;5;241m=\u001B[39m _maybe_null_out(the_sum, axis, mask, values\u001B[38;5;241m.\u001B[39mshape, min_count\u001B[38;5;241m=\u001B[39mmin_count)\n\u001B[0;32m    649\u001B[0m \u001B[38;5;28;01mreturn\u001B[39;00m the_sum\n",
      "File \u001B[1;32mC:\\FHNW_Programmiersachen\\5_Sem\\immo_challenge\\.venv\\Lib\\site-packages\\numpy\\_core\\_methods.py:53\u001B[0m, in \u001B[0;36m_sum\u001B[1;34m(a, axis, dtype, out, keepdims, initial, where)\u001B[0m\n\u001B[0;32m     51\u001B[0m \u001B[38;5;28;01mdef\u001B[39;00m \u001B[38;5;21m_sum\u001B[39m(a, axis\u001B[38;5;241m=\u001B[39m\u001B[38;5;28;01mNone\u001B[39;00m, dtype\u001B[38;5;241m=\u001B[39m\u001B[38;5;28;01mNone\u001B[39;00m, out\u001B[38;5;241m=\u001B[39m\u001B[38;5;28;01mNone\u001B[39;00m, keepdims\u001B[38;5;241m=\u001B[39m\u001B[38;5;28;01mFalse\u001B[39;00m,\n\u001B[0;32m     52\u001B[0m          initial\u001B[38;5;241m=\u001B[39m_NoValue, where\u001B[38;5;241m=\u001B[39m\u001B[38;5;28;01mTrue\u001B[39;00m):\n\u001B[1;32m---> 53\u001B[0m     \u001B[38;5;28;01mreturn\u001B[39;00m umr_sum(a, axis, dtype, out, keepdims, initial, where)\n",
      "\u001B[1;31mKeyboardInterrupt\u001B[0m: "
     ]
    }
   ],
   "source": [
    "import pandas as pd\n",
    "\n",
    "def compare_columns_percentage(df):\n",
    "    # Erstelle ein leeres Dictionary, um die Übereinstimmung zu speichern\n",
    "    similarity_info = {}\n",
    "    \n",
    "    # Vergleiche jede Spalte mit jeder anderen Spalte\n",
    "    for col1 in df.columns:\n",
    "        for col2 in df.columns:\n",
    "            if col1 != col2:  # Vermeide den Vergleich einer Spalte mit sich selbst\n",
    "                # Vergleiche die Werte in jeder Zeile\n",
    "                matching_rows = df[col1] == df[col2]\n",
    "                matching_percentage = (matching_rows.sum() / len(df)) * 100  # Prozentuale Übereinstimmung\n",
    "                \n",
    "                # Speichere die Informationen nur, wenn es eine Übereinstimmung gibt\n",
    "                if matching_percentage > 0:\n",
    "                    similarity_info[(col1, col2)] = matching_percentage\n",
    "    \n",
    "    # Erstelle ein DataFrame aus dem Dictionary, um die Ergebnisse anzuzeigen\n",
    "    similarity_df = pd.DataFrame.from_dict(similarity_info, orient='index', columns=['Percentage'])\n",
    "    similarity_df.index = pd.MultiIndex.from_tuples(similarity_df.index, names=[\"Column 1\", \"Column 2\"])\n",
    "    \n",
    "    # Sortiere die Ergebnisse nach der höchsten Übereinstimmung\n",
    "    similarity_df = similarity_df.sort_values(by=\"Percentage\", ascending=False)\n",
    "    \n",
    "    return similarity_df\n",
    "\n",
    "# Beispiel-Aufruf mit deinem DataFrame (df)\n",
    "similarity_df = compare_columns_percentage(df)\n",
    "# Display the results\n",
    "print(similarity_df)\n"
   ]
  },
  {
   "cell_type": "code",
   "execution_count": null,
   "id": "fda7ac05b6bd2776",
   "metadata": {
    "collapsed": false,
    "ExecuteTime": {
     "end_time": "2024-11-14T08:13:56.029137300Z",
     "start_time": "2024-10-16T13:35:27.226420700Z"
    }
   },
   "outputs": [],
   "source": [
    "similarity_df"
   ]
  },
  {
   "cell_type": "code",
   "execution_count": null,
   "id": "46cca9687cc2b64a",
   "metadata": {
    "collapsed": false,
    "ExecuteTime": {
     "end_time": "2024-11-14T08:13:56.029137300Z",
     "start_time": "2024-10-16T13:35:27.227424700Z"
    }
   },
   "outputs": [],
   "source": [
    "#df_droped_columns = df.drop(columns=['Unnamed: 0', 'plz', 'Living_area_unified', 'type', 'Availability', 'Municipality', 'Living space', 'Living_space_merged', 'address_s', 'location', 'space_cleaned', 'description', 'detailed_description', 'url', 'table', 'detail_responsive#municipality', 'detail_responsive#surface_living', 'detail_responsive#floor', 'detail_responsive#available_from', 'Minimum floor space:', 'Superficie utile', 'Gross return', 'Piano', 'Superficie del terreno', 'Surface utile', 'Gross yield:', 'Étage', 'Surface du terrain', 'Superficie abitabile', 'Comune', 'Disponibilità', 'Nutzfläche'])"
   ]
  },
  {
   "cell_type": "code",
   "execution_count": null,
   "id": "6fae22e247126b4a",
   "metadata": {
    "collapsed": false,
    "ExecuteTime": {
     "end_time": "2024-11-14T08:13:56.029137300Z",
     "start_time": "2024-10-16T13:35:27.228931400Z"
    }
   },
   "outputs": [],
   "source": [
    "columns_to_drop = count_column[count_column['missing [%]'] > 50].index\n",
    "columns_to_drop"
   ]
  },
  {
   "cell_type": "code",
   "execution_count": null,
   "id": "f8c13705cdcb704e",
   "metadata": {
    "collapsed": false,
    "ExecuteTime": {
     "end_time": "2024-11-14T08:13:56.029137300Z",
     "start_time": "2024-10-16T13:35:27.229942200Z"
    }
   },
   "outputs": [],
   "source": [
    "df_droped_columns = df.drop(columns=columns_to_drop)\n",
    "df_droped_columns"
   ]
  },
  {
   "cell_type": "code",
   "execution_count": null,
   "id": "faffa6da540ed81a",
   "metadata": {
    "collapsed": false,
    "ExecuteTime": {
     "end_time": "2024-11-14T08:13:56.029137300Z",
     "start_time": "2024-10-16T13:35:27.232239900Z"
    }
   },
   "outputs": [],
   "source": []
  },
  {
   "cell_type": "markdown",
   "id": "793f1d21fc50c920",
   "metadata": {
    "collapsed": false
   },
   "source": [
    "# Analyse der Wohnungsdaten\n",
    "## Flächenattribute"
   ]
  },
  {
   "cell_type": "code",
   "execution_count": null,
   "id": "52a9d9110a704bc7",
   "metadata": {
    "collapsed": false,
    "ExecuteTime": {
     "end_time": "2024-11-14T08:13:56.044760800Z",
     "start_time": "2024-10-16T13:35:27.233239300Z"
    }
   },
   "outputs": [],
   "source": [
    "columns_wohnung_attr = ['type'\n",
    "                        , 'type_unified'\n",
    "                        , 'rooms'\n",
    "                        , 'Space extracted'\n",
    "                        , 'Living_area_unified'\n",
    "                        , 'Availability_merged'\n",
    "                        , 'Availability'\n",
    "                        , 'Living_space_merged'\n",
    "                        , 'Living space'\n",
    "                        , 'Floor'\n",
    "                        , 'address_s'\n",
    "                        , 'space'\n",
    "                        , 'space_cleaned'\n",
    "                        , 'Surface living:'\n",
    "                        , 'No. of rooms:'\n",
    "                        , 'Plot_area_unified'\n",
    "                        , 'Year built:'\n",
    "                        , 'Floor space'\n",
    "                        , 'Floor_space_merged'\n",
    "                        , 'Land area:'\n",
    "                        , 'Plot area'\n",
    "                        , 'Plot_area_merged'\n",
    "                        , 'Floor_unified'\n",
    "                        , 'Floor_merged'\n",
    "                        , 'detail_responsive#floor'\n",
    "                        , 'Room height:'\n",
    "                        , 'detail_responsive#surface_living'\n",
    "                        , 'detail_responsive#municipality'\n",
    "                        , 'detail_responsive#available_from'\n",
    "                        , 'Number of apartments:'\n",
    "                        , 'Volume:'\n",
    "                        , 'Last refurbishment:'\n",
    "                        , 'Number of floors:'\n",
    "                        , 'Floor space:'\n",
    "                        , 'Surface habitable'\n",
    "                        , 'Stockwerk'\n",
    "                        , 'Disponibilité'\n",
    "                        , 'Number of toilets:'\n",
    "                        , 'detail_responsive#surface_usable'\n",
    "                        , 'Wohnfläche'\n",
    "                        , 'detail_responsive#surface_property'\n",
    "                        , 'Verfügbarkeit'\n",
    "                        , 'Superficie del terreno'\n",
    "                        , 'Surface utile'\n",
    "                        , 'Étage'\n",
    "                        , 'Surface du terrain'\n",
    "                        , 'Superficie abitabile'\n",
    "                        , 'Disponibilità'\n",
    "                        , 'Nutzfläche'\n",
    "                        , 'Grundstücksfläche'\n",
    "                        , 'Minimum floor space:'\n",
    "                        , 'Superficie utile'\n",
    "                        , 'Piano'\n",
    "                        ]\n",
    "df_wohung_flächenattr = df[columns_wohnung_attr]\n",
    "df_wohung_flächenattr"
   ]
  },
  {
   "cell_type": "code",
   "execution_count": null,
   "id": "5cb1be77b53a6b9b",
   "metadata": {
    "collapsed": false,
    "ExecuteTime": {
     "end_time": "2024-11-14T08:13:56.044760800Z",
     "start_time": "2024-10-16T13:35:27.234239800Z"
    }
   },
   "outputs": [],
   "source": [
    "# count nan values per column\n",
    "nans_wohnung = df_wohung_flächenattr.isna().sum()\n",
    "nans_wohnung"
   ]
  },
  {
   "cell_type": "code",
   "execution_count": null,
   "id": "c7b6e2179e07ad61",
   "metadata": {
    "collapsed": false,
    "ExecuteTime": {
     "end_time": "2024-11-14T08:13:56.044760800Z",
     "start_time": "2024-10-16T13:35:27.235239600Z"
    }
   },
   "outputs": [],
   "source": [
    "columns_duplicated_space_attr = [\n",
    "                        'Space extracted'\n",
    "                        , 'Living_area_unified'\n",
    "                        , 'Living_space_merged'\n",
    "                        , 'Living space'\n",
    "                        , 'space'\n",
    "                        , 'space_cleaned'\n",
    "                        , 'Surface living:'\n",
    "                        , 'Plot_area_unified'\n",
    "                        , 'Floor space'\n",
    "                        , 'Floor_space_merged'\n",
    "                        , 'Land area:'\n",
    "                        , 'Plot area'\n",
    "                        , 'Plot_area_merged'\n",
    "                        , 'detail_responsive#surface_living'\n",
    "                        , 'Volume:'\n",
    "                        , 'Floor space:'\n",
    "                        , 'Surface habitable'\n",
    "                        , 'detail_responsive#surface_usable'\n",
    "                        , 'Wohnfläche'\n",
    "                        , 'detail_responsive#surface_property'\n",
    "                        , 'Superficie del terreno'\n",
    "                        , 'Surface utile'\n",
    "                        , 'Surface du terrain'\n",
    "                        , 'Superficie abitabile'\n",
    "                        , 'Nutzfläche'\n",
    "                        , 'Grundstücksfläche'\n",
    "                        , 'Minimum floor space:'\n",
    "                        , 'Superficie utile'\n",
    "]\n",
    "df_wohung_flächenattr = df[columns_duplicated_space_attr]\n",
    "df_wohung_flächenattr"
   ]
  },
  {
   "cell_type": "code",
   "execution_count": null,
   "id": "c5abf5b7a36276bc",
   "metadata": {
    "collapsed": false,
    "ExecuteTime": {
     "end_time": "2024-11-14T08:13:56.044760800Z",
     "start_time": "2024-10-16T13:35:27.236240500Z"
    }
   },
   "outputs": [],
   "source": [
    "nans_wohnung = df_wohung_flächenattr.isna().sum()\n",
    "nans_wohnung"
   ]
  },
  {
   "cell_type": "code",
   "execution_count": null,
   "id": "262b4c2376c9b7b6",
   "metadata": {
    "collapsed": false,
    "ExecuteTime": {
     "end_time": "2024-11-14T08:13:56.044760800Z",
     "start_time": "2024-10-16T13:35:27.237238900Z"
    }
   },
   "outputs": [],
   "source": [
    "from src.dataPipeline import DataPipeline as dp\n",
    "from sklearn.impute import SimpleImputer\n",
    "\n",
    "dp = dp()\n",
    "dp.readCsv('data/immo_data_202208_v2.csv')\n",
    "dp.dropColumns([\n",
    "    'Living_area_unified'\n",
    "    ,'Living_space_merged'\n",
    "    ,'Living space'\n",
    "    ,'space'\n",
    "    ,'space_cleaned'\n",
    "    ,'Surface living:'\n",
    "    ,'Wohnfläche'\n",
    "    ,'Superficie abitabile'\n",
    "])\n",
    "dp.imputeMissingValues(imputer=SimpleImputer(strategy='most_frequent'))\n",
    "dp.getData()"
   ]
  },
  {
   "cell_type": "code",
   "execution_count": null,
   "id": "9943ca6d5ed475b2",
   "metadata": {
    "collapsed": false,
    "ExecuteTime": {
     "end_time": "2024-11-14T08:13:56.044760800Z",
     "start_time": "2024-10-16T13:35:27.238239700Z"
    }
   },
   "outputs": [],
   "source": [
    "for column in df.columns:\n",
    "    print(column, df[column][0])\n"
   ]
  },
  {
   "cell_type": "markdown",
   "id": "3e98e90a40204d9",
   "metadata": {
    "collapsed": false
   },
   "source": []
  },
  {
   "cell_type": "markdown",
   "id": "415ae64df1a67203",
   "metadata": {
    "collapsed": false
   },
   "source": [
    "Stockwerk"
   ]
  },
  {
   "cell_type": "code",
   "execution_count": null,
   "id": "274635971d09d765",
   "metadata": {
    "collapsed": false,
    "ExecuteTime": {
     "end_time": "2024-11-14T08:13:56.060380700Z",
     "start_time": "2024-10-16T13:35:27.239742300Z"
    }
   },
   "outputs": [],
   "source": [
    "# drop rows where every value is missing\n",
    "\n",
    "temp = df[['Floor_unified', 'Floor_merged', 'Étage', 'Piano', 'Stockwerk', 'detail_responsive#floor', 'Floor']]\n",
    "temp.dropna(how='all').isna().sum()\n"
   ]
  },
  {
   "cell_type": "code",
   "execution_count": null,
   "id": "ce7a6ea45bd77760",
   "metadata": {
    "collapsed": false,
    "ExecuteTime": {
     "end_time": "2024-11-14T08:13:56.060380700Z",
     "start_time": "2024-10-16T13:35:27.240748600Z"
    }
   },
   "outputs": [],
   "source": [
    "temp = df[['Floor_unified', 'Floor_merged', 'Étage', 'Piano', 'Stockwerk', 'detail_responsive#floor', 'Floor']]\n",
    "temp['Floor'] = temp[['Floor', 'detail_responsive#floor', 'Floor_merged']].bfill(axis=1)['Floor']\n",
    "temp.isna().sum()"
   ]
  },
  {
   "cell_type": "markdown",
   "id": "55576782c44c6f79",
   "metadata": {
    "collapsed": false
   },
   "source": [
    "Wohnfläche"
   ]
  },
  {
   "cell_type": "code",
   "execution_count": null,
   "id": "ada932c7c8503f02",
   "metadata": {
    "collapsed": false,
    "ExecuteTime": {
     "end_time": "2024-11-14T08:13:56.060380700Z",
     "start_time": "2024-10-16T13:35:27.241747600Z"
    }
   },
   "outputs": [],
   "source": [
    "temp = df[['Living space', 'Wohnfläche', 'detail_responsive#surface_living', 'Surface habitable', 'Superficie abitabile', 'Living_space_merged', 'Space extracted', 'Living_area_unified', 'space', 'Surface living:', 'space_cleaned']]\n",
    "temp.dropna(how='all').isna().sum()"
   ]
  },
  {
   "cell_type": "code",
   "execution_count": null,
   "id": "f71b44b2bcad04fe",
   "metadata": {
    "collapsed": false,
    "ExecuteTime": {
     "end_time": "2024-11-14T08:13:56.060380700Z",
     "start_time": "2024-10-16T13:35:27.243749800Z"
    }
   },
   "outputs": [],
   "source": [
    "temp = df[['Living space', 'Wohnfläche', 'detail_responsive#surface_living', 'Surface habitable', 'Superficie abitabile', 'Living_space_merged', 'Space extracted', 'Living_area_unified', 'space', 'Surface living:', 'space_cleaned']]\n",
    "temp = temp.dropna(how='all')\n",
    "temp"
   ]
  },
  {
   "cell_type": "code",
   "execution_count": null,
   "id": "a56d4b72331f3ea6",
   "metadata": {
    "collapsed": false,
    "ExecuteTime": {
     "end_time": "2024-11-14T08:13:56.060380700Z",
     "start_time": "2024-10-16T13:35:27.244748500Z"
    }
   },
   "outputs": [],
   "source": [
    "temp['Space extracted'] = temp[['Space extracted', 'detail_responsive#surface_living']].bfill(axis=1)['Space extracted']\n",
    "temp.isna().sum()"
   ]
  },
  {
   "cell_type": "markdown",
   "id": "1e1d6e8bb527262",
   "metadata": {
    "collapsed": false
   },
   "source": [
    "Grundstücksfläche"
   ]
  },
  {
   "cell_type": "code",
   "execution_count": null,
   "id": "e1b4c191e3bd6dc0",
   "metadata": {
    "collapsed": false,
    "ExecuteTime": {
     "end_time": "2024-11-14T08:13:56.060380700Z",
     "start_time": "2024-10-16T13:35:27.245746900Z"
    }
   },
   "outputs": [],
   "source": [
    "temp = df[['Plot area', 'Grundstücksfläche', 'detail_responsive#surface_property', 'Surface du terrain', 'Superficie del terreno', 'Plot_area_merged', 'Plot_area_unified', 'Land area:']]\n",
    "temp.dropna(how='all').isna().sum()"
   ]
  },
  {
   "cell_type": "code",
   "execution_count": null,
   "id": "93dc760f6152f5e1",
   "metadata": {
    "collapsed": false,
    "ExecuteTime": {
     "end_time": "2024-11-14T08:13:56.060380700Z",
     "start_time": "2024-10-16T13:35:27.246749300Z"
    }
   },
   "outputs": [],
   "source": [
    "temp = df[['Plot_area_unified','Plot area', 'Grundstücksfläche', 'detail_responsive#surface_property', 'Surface du terrain', 'Superficie del terreno', 'Plot_area_merged', 'Land area:']]\n",
    "temp = temp.dropna(how='all')\n",
    "temp"
   ]
  },
  {
   "cell_type": "code",
   "execution_count": null,
   "id": "8baf84280d4937b1",
   "metadata": {
    "collapsed": false,
    "ExecuteTime": {
     "end_time": "2024-11-14T08:13:56.060380700Z",
     "start_time": "2024-10-16T13:35:27.247749700Z"
    }
   },
   "outputs": [],
   "source": [
    "temp['Plot_area_unified'] = temp[['Plot_area_unified', 'detail_responsive#surface_property', 'Plot_area_merged']].bfill(axis=1)['Plot_area_unified']\n",
    "temp.isna().sum()"
   ]
  },
  {
   "cell_type": "markdown",
   "id": "c49c8edbbc631566",
   "metadata": {
    "collapsed": false
   },
   "source": [
    "Nutzfläche"
   ]
  },
  {
   "cell_type": "code",
   "execution_count": null,
   "id": "94125c54b5427b21",
   "metadata": {
    "collapsed": false,
    "ExecuteTime": {
     "end_time": "2024-11-14T08:13:56.060380700Z",
     "start_time": "2024-10-16T13:35:27.249257700Z"
    }
   },
   "outputs": [],
   "source": [
    "temp = df[['Nutzfläche', 'detail_responsive#surface_usable', 'Surface utile', 'Superficie utile']]\n",
    "temp.dropna(how='all').isna().sum()"
   ]
  },
  {
   "cell_type": "code",
   "execution_count": null,
   "id": "1a2345fb71d93ebd",
   "metadata": {
    "collapsed": false,
    "ExecuteTime": {
     "end_time": "2024-11-14T08:13:56.060380700Z",
     "start_time": "2024-10-16T13:35:27.249778200Z"
    }
   },
   "outputs": [],
   "source": [
    "temp = df[['Nutzfläche', 'detail_responsive#surface_usable', 'Surface utile', 'Superficie utile']]\n",
    "temp = temp.dropna(how='all')\n",
    "temp"
   ]
  },
  {
   "cell_type": "code",
   "execution_count": null,
   "id": "ce6e4c780540fdd3",
   "metadata": {
    "collapsed": false,
    "ExecuteTime": {
     "end_time": "2024-11-14T08:13:56.060380700Z",
     "start_time": "2024-10-16T13:35:27.251790600Z"
    }
   },
   "outputs": [],
   "source": [
    "temp['detail_responsive#surface_usable'] = temp[['detail_responsive#surface_usable', 'Nutzfläche', 'Surface utile', 'Superficie utile']].bfill(axis=1)['detail_responsive#surface_usable']\n",
    "temp.isna().sum()"
   ]
  },
  {
   "cell_type": "markdown",
   "id": "dc6adabad28b02ad",
   "metadata": {
    "collapsed": false
   },
   "source": [
    "Stockwerksfläche"
   ]
  },
  {
   "cell_type": "code",
   "execution_count": null,
   "id": "8792107b67b7c3b4",
   "metadata": {
    "collapsed": false,
    "ExecuteTime": {
     "end_time": "2024-11-14T08:13:56.067391Z",
     "start_time": "2024-10-16T13:35:27.252790800Z"
    }
   },
   "outputs": [],
   "source": [
    "temp = df[['Floor space', 'Floor_space_merged']]\n",
    "temp.dropna(how='all').isna().sum()"
   ]
  },
  {
   "cell_type": "markdown",
   "id": "1616b8c172a32145",
   "metadata": {
    "collapsed": false
   },
   "source": [
    "Floor_space_merged bereits vorhanden"
   ]
  },
  {
   "cell_type": "markdown",
   "id": "d630f51f66afb432",
   "metadata": {
    "collapsed": false
   },
   "source": [
    "Number of rooms"
   ]
  },
  {
   "cell_type": "code",
   "execution_count": null,
   "id": "57b6b49dcfe199dc",
   "metadata": {
    "collapsed": false,
    "ExecuteTime": {
     "end_time": "2024-11-14T08:13:56.067391Z",
     "start_time": "2024-10-16T13:35:27.253792100Z"
    }
   },
   "outputs": [],
   "source": [
    "temp = df[['No. of rooms:', 'rooms']]"
   ]
  },
  {
   "cell_type": "code",
   "execution_count": null,
   "id": "8962a95ebb011cd9",
   "metadata": {
    "collapsed": false,
    "ExecuteTime": {
     "end_time": "2024-11-14T08:13:56.067391Z",
     "start_time": "2024-10-16T13:35:27.254790700Z"
    }
   },
   "outputs": [],
   "source": [
    "temp['No. of rooms:'] = temp[['No. of rooms:', 'rooms']].bfill(axis=1)['No. of rooms:']\n",
    "temp.isna().sum()"
   ]
  },
  {
   "cell_type": "markdown",
   "id": "40e1f7611f8e59b0",
   "metadata": {
    "collapsed": false
   },
   "source": [
    "Availability"
   ]
  },
  {
   "cell_type": "code",
   "execution_count": null,
   "id": "a0240ed01e0b4e43",
   "metadata": {
    "collapsed": false,
    "ExecuteTime": {
     "end_time": "2024-11-14T08:13:56.067391Z",
     "start_time": "2024-10-16T13:35:27.256795700Z"
    }
   },
   "outputs": [],
   "source": [
    "temp = df[['Availability', 'detail_responsive#available_from', 'Disponibilité', 'Disponibilità','Availability_merged']]\n",
    "temp.dropna(how='all').isna().sum()"
   ]
  },
  {
   "cell_type": "code",
   "execution_count": null,
   "id": "df4f8a1c72e63911",
   "metadata": {
    "collapsed": false,
    "ExecuteTime": {
     "end_time": "2024-11-14T08:13:56.067391Z",
     "start_time": "2024-10-16T13:35:27.257792700Z"
    }
   },
   "outputs": [],
   "source": [
    "temp = df[['Availability', 'detail_responsive#available_from', 'Disponibilité', 'Disponibilità','Availability_merged']]\n",
    "temp = temp.dropna(how='all')\n",
    "temp"
   ]
  },
  {
   "cell_type": "code",
   "execution_count": null,
   "id": "d1ae51048a655875",
   "metadata": {
    "collapsed": false,
    "ExecuteTime": {
     "end_time": "2024-11-14T08:13:56.067391Z",
     "start_time": "2024-10-16T13:35:27.259821500Z"
    }
   },
   "outputs": [],
   "source": [
    "temp = df.drop(columns=[\n",
    "'Unnamed: 0.1'\n",
    ",'Unnamed: 0'\n",
    ",'Living space'\n",
    ",'Plot area'\n",
    ",'Floor space'\n",
    ",'location'\n",
    ",'description'\n",
    ",'detailed_description'\n",
    ",'url'\n",
    ",'table'\n",
    ",'detail_responsive#surface_living'\n",
    ",'detail_responsive#floor'\n",
    ",'Wohnfläche'\n",
    ",'Stockwerk'\n",
    ",'Nutzfläche'\n",
    ",'Grundstücksfläche'\n",
    ",'detail_responsive#surface_property'\n",
    ",'Surface habitable'\n",
    ",'Surface du terrain'\n",
    ",'Surface utile'\n",
    ",'Étage'\n",
    ",'Superficie abitabile'\n",
    ",'Gross return'\n",
    ",'Piano'\n",
    ",'Superficie del terreno'\n",
    ",'Superficie utile'\n",
    ",'Floor_merged'\n",
    ",'Living_space_merged'\n",
    ",'Plot_area_merged'\n",
    ",'location_parsed'\n",
    ",'title'\n",
    ",'details'\n",
    ",'address'\n",
    ",'link'\n",
    ",'details_structured'\n",
    ",'Floor_unified'\n",
    ",'Living_area_unified'\n",
    ",'provider'\n",
    ",'space'\n",
    ",'address_s'\n",
    ",'rooms'\n",
    ",'Surface living:'\n",
    ",'Land area:'\n",
    ",'Room height:'\n",
    ",'features'\n",
    ",'description_detailed'\n",
    ",'Floor space:'\n",
    ",'Volume:'\n",
    ",'Number of toilets:'\n",
    ",'Gross yield:'\n",
    ",'Minimum floor space:'\n",
    ",'space_cleaned'\n",
    "])\n",
    "temp"
   ]
  },
  {
   "cell_type": "markdown",
   "id": "374447fd3af0e063",
   "metadata": {
    "collapsed": false
   },
   "source": [
    "### Test Datapipeline"
   ]
  },
  {
   "cell_type": "code",
   "execution_count": null,
   "id": "37b7d5386ddeadba",
   "metadata": {
    "collapsed": false,
    "ExecuteTime": {
     "end_time": "2024-11-14T08:13:56.067391Z",
     "start_time": "2024-10-16T13:35:27.260829500Z"
    }
   },
   "outputs": [],
   "source": [
    "columns_to_drop_all=[\n",
    "'Unnamed: 0.1'\n",
    ",'Unnamed: 0'\n",
    ",'Municipality'\n",
    ",'Living space'\n",
    ",'Plot area'\n",
    ",'Floor space'\n",
    ",'location'\n",
    ",'description'\n",
    ",'detailed_description'\n",
    ",'url'\n",
    ",'table'\n",
    ",'detail_responsive#municipality'\n",
    ",'detail_responsive#surface_living'\n",
    ",'detail_responsive#floor'\n",
    ",'detail_responsive#available_from'\n",
    ",'Gemeinde'\n",
    ",'Wohnfläche'\n",
    ",'Stockwerk'\n",
    ",'Nutzfläche'\n",
    ",'Verfügbarkeit'\n",
    ",'Grundstücksfläche'\n",
    ",'detail_responsive#surface_property'\n",
    ",'Commune'\n",
    ",'Surface habitable'\n",
    ",'Surface du terrain'\n",
    ",'Surface utile'\n",
    ",'Disponibilité'\n",
    ",'Étage'\n",
    ",'Comune'\n",
    ",'Superficie abitabile'\n",
    ",'Disponibilità'\n",
    ",'Gross return'\n",
    ",'Piano'\n",
    ",'Superficie del terreno'\n",
    ",'Superficie utile'\n",
    ",'Municipality_merged'\n",
    ",'Floor_merged'\n",
    ",'Living_space_merged'\n",
    ",'Plot_area_merged'\n",
    ",'Availability_merged'\n",
    ",'location_parsed'\n",
    ",'title'\n",
    ",'price'\n",
    ",'details'\n",
    ",'address'\n",
    ",'link'\n",
    ",'details_structured'\n",
    ",'lat'\n",
    ",'lon'\n",
    ",'index'\n",
    ",'Latitude'\n",
    ",'Locality'\n",
    ",'Longitude'\n",
    ",'Zip'\n",
    ",'rooms'\n",
    ",'type_unified'\n",
    ",'Floor_unified'\n",
    ",'Living_area_unified'\n",
    ",'provider'\n",
    ",'space'\n",
    ",'price_s'\n",
    ",'address_s'\n",
    ",'Surface living:'\n",
    ",'Land area:'\n",
    ",'Room height:'\n",
    ",'features'\n",
    ",'description_detailed'\n",
    ",'Floor space:'\n",
    ",'Volume:'\n",
    ",'plz'\n",
    ",'Number of toilets:'\n",
    ",'Gross yield:'\n",
    ",'Minimum floor space:'\n",
    ",'space_cleaned'\n",
    "]"
   ]
  },
  {
   "cell_type": "code",
   "execution_count": null,
   "id": "f8e4951d523ea7cb",
   "metadata": {
    "collapsed": false,
    "ExecuteTime": {
     "end_time": "2024-11-14T08:13:56.067391Z",
     "start_time": "2024-10-16T13:35:27.262837Z"
    }
   },
   "outputs": [],
   "source": [
    "from src.dataPipeline import DataPipeline as DataPipeline\n",
    "from sklearn.impute import KNNImputer\n",
    "\n",
    "dp = DataPipeline()\n",
    "dp.readCsv('data/immo_data_202208_v2.csv')\n",
    "dp.mergeColumns()\n",
    "dp.dropColumns(columns=columns_to_drop_all)\n",
    "dp.cleanData()\n",
    "dp.encodeCategoricalFeatures()\n",
    "dp.imputeMissingValues(imputer=KNNImputer(n_neighbors=5))\n",
    "df_clean = dp.getData()"
   ]
  },
  {
   "cell_type": "code",
   "execution_count": null,
   "id": "7025afd76c18bf84",
   "metadata": {
    "collapsed": false,
    "ExecuteTime": {
     "end_time": "2024-11-14T08:13:56.067391Z",
     "start_time": "2024-10-16T13:35:27.263647100Z"
    }
   },
   "outputs": [],
   "source": [
    "df_clean"
   ]
  },
  {
   "cell_type": "code",
   "execution_count": null,
   "id": "9cbf706448e57cf0",
   "metadata": {
    "collapsed": false,
    "ExecuteTime": {
     "end_time": "2024-11-14T08:13:56.067391Z",
     "start_time": "2024-10-16T13:35:27.265652500Z"
    }
   },
   "outputs": [],
   "source": [
    "# Plot scatterplot of price_cleaned and space extracted\n",
    "plt.scatter(df_clean['price_cleaned']/10000, df_clean['Space extracted'])\n",
    "plt.xlabel('Price in CHF [10`000]')\n",
    "plt.ylabel('Space in m²')\n",
    "plt.title('Scatterplot of price and space')\n",
    "plt.show()"
   ]
  },
  {
   "cell_type": "markdown",
   "id": "2afb3df440965d11",
   "metadata": {
    "collapsed": false
   },
   "source": [
    "Make random forest model to predict price_cleaned"
   ]
  },
  {
   "cell_type": "code",
   "execution_count": null,
   "id": "b466a3f703bebe93",
   "metadata": {
    "collapsed": false,
    "ExecuteTime": {
     "end_time": "2024-11-14T08:13:56.067391Z",
     "start_time": "2024-10-16T13:35:27.266652900Z"
    }
   },
   "outputs": [],
   "source": [
    "# Make random forest model to predict price_cleaned\n",
    "from sklearn.ensemble import RandomForestRegressor\n",
    "from sklearn.model_selection import train_test_split\n",
    "# use mape as metric\n",
    "from sklearn.metrics import mean_absolute_percentage_error\n",
    "\n",
    "X = df_clean.drop(columns=['price_cleaned'])\n",
    "y = df_clean['price_cleaned']\n",
    "X_train, X_test, y_train, y_test = train_test_split(X, y, test_size=0.4, random_state=42)"
   ]
  },
  {
   "cell_type": "code",
   "outputs": [],
   "source": [
    "\n",
    "model = RandomForestRegressor()\n",
    "model.fit(X_train, y_train)\n",
    "y_pred = model.predict(X_test)\n",
    "\n",
    "mape = mean_absolute_percentage_error(y_test, y_pred)\n",
    "mape"
   ],
   "metadata": {
    "collapsed": false,
    "ExecuteTime": {
     "end_time": "2024-11-14T08:13:56.067391Z",
     "start_time": "2024-10-16T13:35:27.267653700Z"
    }
   },
   "id": "4625190387137a94",
   "execution_count": null
  },
  {
   "cell_type": "code",
   "execution_count": null,
   "id": "1b0097ca18c809b7",
   "metadata": {
    "collapsed": false,
    "ExecuteTime": {
     "end_time": "2024-11-14T08:13:56.067391Z",
     "start_time": "2024-10-16T13:35:27.267653700Z"
    }
   },
   "outputs": [],
   "source": [
    "# show feature importance with names\n",
    "feature_importance = model.feature_importances_\n",
    "feature_names = X.columns\n",
    "feature_importance_df = pd.DataFrame({'feature': feature_names, 'importance': feature_importance})\n",
    "feature_importance_df = feature_importance_df.sort_values(by='importance', ascending=False)\n",
    "feature_importance_df"
   ]
  },
  {
   "cell_type": "code",
   "execution_count": null,
   "id": "9d123cff30bac412",
   "metadata": {
    "collapsed": false,
    "ExecuteTime": {
     "end_time": "2024-11-14T08:13:56.067391Z",
     "start_time": "2024-10-16T13:35:27.269159600Z"
    }
   },
   "outputs": [],
   "source": [
    "from src.dataPipeline import DataPipeline as DataPipeline\n",
    "from sklearn.impute import KNNImputer\n",
    "\n",
    "dp = DataPipeline()\n",
    "knnImputer = KNNImputer(n_neighbors=10)\n",
    "df_cleaned = dp.runPipeline(imputer=knnImputer)\n",
    "df_cleaned"
   ]
  },
  {
   "cell_type": "code",
   "outputs": [],
   "source": [
    "# check for duplicates and print them\n",
    "duplicates = df_cleaned.duplicated()\n",
    "duplicates = df_cleaned[duplicates]\n",
    "duplicates"
   ],
   "metadata": {
    "collapsed": false,
    "ExecuteTime": {
     "end_time": "2024-11-14T08:13:56.067391Z",
     "start_time": "2024-10-16T13:35:27.270166800Z"
    }
   },
   "id": "e231fe3cfeec7126",
   "execution_count": null
  },
  {
   "cell_type": "code",
   "execution_count": null,
   "id": "cc307403cb293d23",
   "metadata": {
    "collapsed": false,
    "ExecuteTime": {
     "end_time": "2024-11-14T08:13:56.067391Z",
     "start_time": "2024-10-16T13:35:27.271409100Z"
    }
   },
   "outputs": [],
   "source": [
    "# Plot correlation matrix of top 10 features\n",
    "import seaborn as sns\n",
    "corr = df_cleaned[['price_cleaned', 'detail_responsive#surface_usable'\n",
    ",'Floor_space_merged'\n",
    ",'Number of apartments:'\n",
    ",'Floor'\n",
    ",'Last refurbishment:'\n",
    ",'gde_new_homes_per_1000'\n",
    ",'Year built:'\n",
    ",'gde_politics_bdp'\n",
    ",'Number of floors:'\n",
    ",'gde_foreigners_percentage'\n",
    "]].corr()\n",
    "plt.figure(figsize=(10,10))\n",
    "sns.heatmap(corr)\n",
    "plt.show()"
   ]
  },
  {
   "cell_type": "code",
   "execution_count": null,
   "id": "7922daa92fec772c",
   "metadata": {
    "collapsed": false,
    "ExecuteTime": {
     "end_time": "2024-11-14T08:13:56.067391Z",
     "start_time": "2024-10-16T13:35:27.272415400Z"
    }
   },
   "outputs": [],
   "source": [
    "corr = df_cleaned[['price_cleaned', 'gde_politics_svp'\n",
    ",'gde_area_agriculture_percentage'\n",
    ",'Space extracted'\n",
    ",'gde_empty_apartments'\n",
    ",'plz_parsed'\n",
    ",'Plot_area_unified'\n",
    ",'gde_pop_per_km2'\n",
    ",'No. of rooms:'\n",
    ",'gde_population'\n",
    ",'gde_workers_sector2'\n",
    "]].corr()\n",
    "plt.figure(figsize=(10,10))\n",
    "sns.heatmap(corr)\n",
    "plt.show()"
   ]
  },
  {
   "cell_type": "code",
   "outputs": [],
   "source": [],
   "metadata": {
    "collapsed": false,
    "ExecuteTime": {
     "end_time": "2024-11-14T08:13:56.067391Z",
     "start_time": "2024-10-16T13:35:27.273418400Z"
    }
   },
   "id": "9f2766dab8e4e295",
   "execution_count": null
  }
 ],
 "metadata": {
  "kernelspec": {
   "display_name": "Python 3",
   "language": "python",
   "name": "python3"
  },
  "language_info": {
   "codemirror_mode": {
    "name": "ipython",
    "version": 3
   },
   "file_extension": ".py",
   "mimetype": "text/x-python",
   "name": "python",
   "nbconvert_exporter": "python",
   "pygments_lexer": "ipython3",
   "version": "3.11.5"
  }
 },
 "nbformat": 4,
 "nbformat_minor": 5
}
